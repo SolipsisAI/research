{
 "cells": [
  {
   "cell_type": "code",
   "execution_count": 1,
   "id": "e8e37a82-7884-4e3b-ba6a-0aa11a545b7c",
   "metadata": {},
   "outputs": [],
   "source": [
    "%load_ext autoreload\n",
    "%autoreload 2"
   ]
  },
  {
   "cell_type": "code",
   "execution_count": 2,
   "id": "09a1f416-6d36-4f02-9e85-fb6695e9984c",
   "metadata": {},
   "outputs": [],
   "source": [
    "import pandas as pd"
   ]
  },
  {
   "cell_type": "code",
   "execution_count": 3,
   "id": "c2e06d03-1a17-4624-bbc6-4d58bd23b7f5",
   "metadata": {},
   "outputs": [],
   "source": [
    "data_filename = \"../../data/empatheticdialogues/train.csv\""
   ]
  },
  {
   "cell_type": "code",
   "execution_count": 4,
   "id": "4be1229f-7b34-458e-ae12-282c02ce21d3",
   "metadata": {},
   "outputs": [],
   "source": [
    "df = pd.read_csv(data_filename, on_bad_lines=\"skip\")"
   ]
  },
  {
   "cell_type": "code",
   "execution_count": 56,
   "id": "3059ed89-bd61-4f92-85b6-321aa429d31f",
   "metadata": {
    "scrolled": true,
    "tags": []
   },
   "outputs": [
    {
     "data": {
      "text/html": [
       "<div>\n",
       "<style scoped>\n",
       "    .dataframe tbody tr th:only-of-type {\n",
       "        vertical-align: middle;\n",
       "    }\n",
       "\n",
       "    .dataframe tbody tr th {\n",
       "        vertical-align: top;\n",
       "    }\n",
       "\n",
       "    .dataframe thead th {\n",
       "        text-align: right;\n",
       "    }\n",
       "</style>\n",
       "<table border=\"1\" class=\"dataframe\">\n",
       "  <thead>\n",
       "    <tr style=\"text-align: right;\">\n",
       "      <th></th>\n",
       "      <th>conv_id</th>\n",
       "      <th>utterance_idx</th>\n",
       "      <th>context</th>\n",
       "      <th>prompt</th>\n",
       "      <th>speaker_idx</th>\n",
       "      <th>utterance</th>\n",
       "      <th>selfeval</th>\n",
       "      <th>tags</th>\n",
       "    </tr>\n",
       "  </thead>\n",
       "  <tbody>\n",
       "    <tr>\n",
       "      <th>0</th>\n",
       "      <td>hit:0_conv:1</td>\n",
       "      <td>1</td>\n",
       "      <td>sentimental</td>\n",
       "      <td>I remember going to the fireworks with my best...</td>\n",
       "      <td>1</td>\n",
       "      <td>I remember going to see the fireworks with my ...</td>\n",
       "      <td>5|5|5_2|2|5</td>\n",
       "      <td>NaN</td>\n",
       "    </tr>\n",
       "    <tr>\n",
       "      <th>1</th>\n",
       "      <td>hit:0_conv:1</td>\n",
       "      <td>2</td>\n",
       "      <td>sentimental</td>\n",
       "      <td>I remember going to the fireworks with my best...</td>\n",
       "      <td>0</td>\n",
       "      <td>Was this a friend you were in love with_comma_...</td>\n",
       "      <td>5|5|5_2|2|5</td>\n",
       "      <td>NaN</td>\n",
       "    </tr>\n",
       "    <tr>\n",
       "      <th>2</th>\n",
       "      <td>hit:0_conv:1</td>\n",
       "      <td>3</td>\n",
       "      <td>sentimental</td>\n",
       "      <td>I remember going to the fireworks with my best...</td>\n",
       "      <td>1</td>\n",
       "      <td>This was a best friend. I miss her.</td>\n",
       "      <td>5|5|5_2|2|5</td>\n",
       "      <td>NaN</td>\n",
       "    </tr>\n",
       "    <tr>\n",
       "      <th>3</th>\n",
       "      <td>hit:0_conv:1</td>\n",
       "      <td>4</td>\n",
       "      <td>sentimental</td>\n",
       "      <td>I remember going to the fireworks with my best...</td>\n",
       "      <td>0</td>\n",
       "      <td>Where has she gone?</td>\n",
       "      <td>5|5|5_2|2|5</td>\n",
       "      <td>NaN</td>\n",
       "    </tr>\n",
       "    <tr>\n",
       "      <th>4</th>\n",
       "      <td>hit:0_conv:1</td>\n",
       "      <td>5</td>\n",
       "      <td>sentimental</td>\n",
       "      <td>I remember going to the fireworks with my best...</td>\n",
       "      <td>1</td>\n",
       "      <td>We no longer talk.</td>\n",
       "      <td>5|5|5_2|2|5</td>\n",
       "      <td>NaN</td>\n",
       "    </tr>\n",
       "    <tr>\n",
       "      <th>5</th>\n",
       "      <td>hit:0_conv:1</td>\n",
       "      <td>6</td>\n",
       "      <td>sentimental</td>\n",
       "      <td>I remember going to the fireworks with my best...</td>\n",
       "      <td>0</td>\n",
       "      <td>Oh was this something that happened because of...</td>\n",
       "      <td>5|5|5_2|2|5</td>\n",
       "      <td>NaN</td>\n",
       "    </tr>\n",
       "    <tr>\n",
       "      <th>6</th>\n",
       "      <td>hit:1_conv:2</td>\n",
       "      <td>1</td>\n",
       "      <td>afraid</td>\n",
       "      <td>i used to scare for darkness</td>\n",
       "      <td>2</td>\n",
       "      <td>it feels like hitting to blank wall when i se...</td>\n",
       "      <td>4|3|4_3|5|5</td>\n",
       "      <td>NaN</td>\n",
       "    </tr>\n",
       "    <tr>\n",
       "      <th>7</th>\n",
       "      <td>hit:1_conv:2</td>\n",
       "      <td>2</td>\n",
       "      <td>afraid</td>\n",
       "      <td>i used to scare for darkness</td>\n",
       "      <td>3</td>\n",
       "      <td>Oh ya? I don't really see how</td>\n",
       "      <td>4|3|4_3|5|5</td>\n",
       "      <td>NaN</td>\n",
       "    </tr>\n",
       "    <tr>\n",
       "      <th>8</th>\n",
       "      <td>hit:1_conv:2</td>\n",
       "      <td>3</td>\n",
       "      <td>afraid</td>\n",
       "      <td>i used to scare for darkness</td>\n",
       "      <td>2</td>\n",
       "      <td>dont you feel so.. its a wonder</td>\n",
       "      <td>4|3|4_3|5|5</td>\n",
       "      <td>NaN</td>\n",
       "    </tr>\n",
       "    <tr>\n",
       "      <th>9</th>\n",
       "      <td>hit:1_conv:2</td>\n",
       "      <td>4</td>\n",
       "      <td>afraid</td>\n",
       "      <td>i used to scare for darkness</td>\n",
       "      <td>3</td>\n",
       "      <td>I do actually hit blank walls a lot of times b...</td>\n",
       "      <td>4|3|4_3|5|5</td>\n",
       "      <td>NaN</td>\n",
       "    </tr>\n",
       "    <tr>\n",
       "      <th>10</th>\n",
       "      <td>hit:1_conv:2</td>\n",
       "      <td>5</td>\n",
       "      <td>afraid</td>\n",
       "      <td>i used to scare for darkness</td>\n",
       "      <td>2</td>\n",
       "      <td>i virtually thought so.. and i used to get sw...</td>\n",
       "      <td>4|3|4_3|5|5</td>\n",
       "      <td>NaN</td>\n",
       "    </tr>\n",
       "    <tr>\n",
       "      <th>11</th>\n",
       "      <td>hit:1_conv:2</td>\n",
       "      <td>6</td>\n",
       "      <td>afraid</td>\n",
       "      <td>i used to scare for darkness</td>\n",
       "      <td>3</td>\n",
       "      <td>Wait what are sweatings</td>\n",
       "      <td>4|3|4_3|5|5</td>\n",
       "      <td>NaN</td>\n",
       "    </tr>\n",
       "    <tr>\n",
       "      <th>12</th>\n",
       "      <td>hit:1_conv:3</td>\n",
       "      <td>1</td>\n",
       "      <td>proud</td>\n",
       "      <td>I showed a guy how to run a good bead in weldi...</td>\n",
       "      <td>3</td>\n",
       "      <td>Hi how are you doing today</td>\n",
       "      <td>3|5|5_4|3|4</td>\n",
       "      <td>&lt;HI&gt;</td>\n",
       "    </tr>\n",
       "    <tr>\n",
       "      <th>13</th>\n",
       "      <td>hit:1_conv:3</td>\n",
       "      <td>2</td>\n",
       "      <td>proud</td>\n",
       "      <td>I showed a guy how to run a good bead in weldi...</td>\n",
       "      <td>2</td>\n",
       "      <td>doing good.. how about you</td>\n",
       "      <td>3|5|5_4|3|4</td>\n",
       "      <td>NaN</td>\n",
       "    </tr>\n",
       "    <tr>\n",
       "      <th>14</th>\n",
       "      <td>hit:1_conv:3</td>\n",
       "      <td>3</td>\n",
       "      <td>proud</td>\n",
       "      <td>I showed a guy how to run a good bead in weldi...</td>\n",
       "      <td>3</td>\n",
       "      <td>Im good_comma_ trying to understand how someon...</td>\n",
       "      <td>3|5|5_4|3|4</td>\n",
       "      <td>NaN</td>\n",
       "    </tr>\n",
       "    <tr>\n",
       "      <th>15</th>\n",
       "      <td>hit:1_conv:3</td>\n",
       "      <td>4</td>\n",
       "      <td>proud</td>\n",
       "      <td>I showed a guy how to run a good bead in weldi...</td>\n",
       "      <td>2</td>\n",
       "      <td>it's quite strange that you didnt imagine it</td>\n",
       "      <td>3|5|5_4|3|4</td>\n",
       "      <td>NaN</td>\n",
       "    </tr>\n",
       "    <tr>\n",
       "      <th>16</th>\n",
       "      <td>hit:1_conv:3</td>\n",
       "      <td>5</td>\n",
       "      <td>proud</td>\n",
       "      <td>I showed a guy how to run a good bead in weldi...</td>\n",
       "      <td>3</td>\n",
       "      <td>i dont imagine feeling a lot_comma_ maybe your...</td>\n",
       "      <td>3|5|5_4|3|4</td>\n",
       "      <td>NaN</td>\n",
       "    </tr>\n",
       "    <tr>\n",
       "      <th>17</th>\n",
       "      <td>hit:2_conv:4</td>\n",
       "      <td>1</td>\n",
       "      <td>faithful</td>\n",
       "      <td>I have always been loyal to my wife.</td>\n",
       "      <td>4</td>\n",
       "      <td>I have never cheated on my wife.</td>\n",
       "      <td>3|3|5_2|4|4</td>\n",
       "      <td>NaN</td>\n",
       "    </tr>\n",
       "    <tr>\n",
       "      <th>18</th>\n",
       "      <td>hit:2_conv:4</td>\n",
       "      <td>2</td>\n",
       "      <td>faithful</td>\n",
       "      <td>I have always been loyal to my wife.</td>\n",
       "      <td>5</td>\n",
       "      <td>And thats something you should never do_comma_...</td>\n",
       "      <td>3|3|5_2|4|4</td>\n",
       "      <td>NaN</td>\n",
       "    </tr>\n",
       "    <tr>\n",
       "      <th>19</th>\n",
       "      <td>hit:2_conv:4</td>\n",
       "      <td>3</td>\n",
       "      <td>faithful</td>\n",
       "      <td>I have always been loyal to my wife.</td>\n",
       "      <td>4</td>\n",
       "      <td>Yea it hasn't been easy but I am proud I haven't</td>\n",
       "      <td>3|3|5_2|4|4</td>\n",
       "      <td>NaN</td>\n",
       "    </tr>\n",
       "    <tr>\n",
       "      <th>20</th>\n",
       "      <td>hit:2_conv:4</td>\n",
       "      <td>4</td>\n",
       "      <td>faithful</td>\n",
       "      <td>I have always been loyal to my wife.</td>\n",
       "      <td>5</td>\n",
       "      <td>What do you mean it hasn't been easy? How clos...</td>\n",
       "      <td>3|3|5_2|4|4</td>\n",
       "      <td>NaN</td>\n",
       "    </tr>\n",
       "    <tr>\n",
       "      <th>21</th>\n",
       "      <td>hit:2_conv:5</td>\n",
       "      <td>1</td>\n",
       "      <td>terrified</td>\n",
       "      <td>A recent job interview that I had made me feel...</td>\n",
       "      <td>5</td>\n",
       "      <td>Job interviews always make me sweat bullets_co...</td>\n",
       "      <td>2|4|4_3|3|5</td>\n",
       "      <td>NaN</td>\n",
       "    </tr>\n",
       "    <tr>\n",
       "      <th>22</th>\n",
       "      <td>hit:2_conv:5</td>\n",
       "      <td>2</td>\n",
       "      <td>terrified</td>\n",
       "      <td>A recent job interview that I had made me feel...</td>\n",
       "      <td>4</td>\n",
       "      <td>Don't be nervous. Just be prepared.</td>\n",
       "      <td>2|4|4_3|3|5</td>\n",
       "      <td>NaN</td>\n",
       "    </tr>\n",
       "    <tr>\n",
       "      <th>23</th>\n",
       "      <td>hit:2_conv:5</td>\n",
       "      <td>3</td>\n",
       "      <td>terrified</td>\n",
       "      <td>A recent job interview that I had made me feel...</td>\n",
       "      <td>5</td>\n",
       "      <td>I feel like getting prepared and then having a...</td>\n",
       "      <td>2|4|4_3|3|5</td>\n",
       "      <td>NaN</td>\n",
       "    </tr>\n",
       "    <tr>\n",
       "      <th>24</th>\n",
       "      <td>hit:2_conv:5</td>\n",
       "      <td>4</td>\n",
       "      <td>terrified</td>\n",
       "      <td>A recent job interview that I had made me feel...</td>\n",
       "      <td>4</td>\n",
       "      <td>Yes but if you stay calm it will be ok.</td>\n",
       "      <td>2|4|4_3|3|5</td>\n",
       "      <td>NaN</td>\n",
       "    </tr>\n",
       "    <tr>\n",
       "      <th>25</th>\n",
       "      <td>hit:2_conv:5</td>\n",
       "      <td>5</td>\n",
       "      <td>terrified</td>\n",
       "      <td>A recent job interview that I had made me feel...</td>\n",
       "      <td>5</td>\n",
       "      <td>It's hard to stay clam. How do you do it?</td>\n",
       "      <td>2|4|4_3|3|5</td>\n",
       "      <td>NaN</td>\n",
       "    </tr>\n",
       "    <tr>\n",
       "      <th>26</th>\n",
       "      <td>hit:3_conv:7</td>\n",
       "      <td>1</td>\n",
       "      <td>joyful</td>\n",
       "      <td>I am very happy to have been first over 300 st...</td>\n",
       "      <td>7</td>\n",
       "      <td>Hi_comma_ this year_comma_ I was the first ove...</td>\n",
       "      <td>5|5|5_4|5|5</td>\n",
       "      <td>&lt;HI&gt;</td>\n",
       "    </tr>\n",
       "    <tr>\n",
       "      <th>27</th>\n",
       "      <td>hit:3_conv:7</td>\n",
       "      <td>2</td>\n",
       "      <td>joyful</td>\n",
       "      <td>I am very happy to have been first over 300 st...</td>\n",
       "      <td>6</td>\n",
       "      <td>Sounds great! So what's your major?</td>\n",
       "      <td>5|5|5_4|5|5</td>\n",
       "      <td>NaN</td>\n",
       "    </tr>\n",
       "    <tr>\n",
       "      <th>28</th>\n",
       "      <td>hit:3_conv:7</td>\n",
       "      <td>3</td>\n",
       "      <td>joyful</td>\n",
       "      <td>I am very happy to have been first over 300 st...</td>\n",
       "      <td>7</td>\n",
       "      <td>It is computer science. I am very happy of thi...</td>\n",
       "      <td>5|5|5_4|5|5</td>\n",
       "      <td>NaN</td>\n",
       "    </tr>\n",
       "    <tr>\n",
       "      <th>29</th>\n",
       "      <td>hit:3_conv:7</td>\n",
       "      <td>4</td>\n",
       "      <td>joyful</td>\n",
       "      <td>I am very happy to have been first over 300 st...</td>\n",
       "      <td>6</td>\n",
       "      <td>Well pleased. You should be having brains_comm...</td>\n",
       "      <td>5|5|5_4|5|5</td>\n",
       "      <td>NaN</td>\n",
       "    </tr>\n",
       "    <tr>\n",
       "      <th>30</th>\n",
       "      <td>hit:4_conv:8</td>\n",
       "      <td>1</td>\n",
       "      <td>angry</td>\n",
       "      <td>I once lost my job and got mad.</td>\n",
       "      <td>4</td>\n",
       "      <td>I lost my job last year and got really angry.</td>\n",
       "      <td>3|5|5_5|5|5</td>\n",
       "      <td>NaN</td>\n",
       "    </tr>\n",
       "    <tr>\n",
       "      <th>31</th>\n",
       "      <td>hit:4_conv:8</td>\n",
       "      <td>2</td>\n",
       "      <td>angry</td>\n",
       "      <td>I once lost my job and got mad.</td>\n",
       "      <td>8</td>\n",
       "      <td>I am sorry to hear that. Did it happen out of ...</td>\n",
       "      <td>3|5|5_5|5|5</td>\n",
       "      <td>NaN</td>\n",
       "    </tr>\n",
       "    <tr>\n",
       "      <th>32</th>\n",
       "      <td>hit:4_conv:8</td>\n",
       "      <td>3</td>\n",
       "      <td>angry</td>\n",
       "      <td>I once lost my job and got mad.</td>\n",
       "      <td>4</td>\n",
       "      <td>Yes_comma_ it was a complete surprise.</td>\n",
       "      <td>3|5|5_5|5|5</td>\n",
       "      <td>NaN</td>\n",
       "    </tr>\n",
       "    <tr>\n",
       "      <th>33</th>\n",
       "      <td>hit:4_conv:8</td>\n",
       "      <td>4</td>\n",
       "      <td>angry</td>\n",
       "      <td>I once lost my job and got mad.</td>\n",
       "      <td>8</td>\n",
       "      <td>I am sorry to hear that. I hope it turned out ...</td>\n",
       "      <td>3|5|5_5|5|5</td>\n",
       "      <td>NaN</td>\n",
       "    </tr>\n",
       "    <tr>\n",
       "      <th>34</th>\n",
       "      <td>hit:5_conv:10</td>\n",
       "      <td>1</td>\n",
       "      <td>sad</td>\n",
       "      <td>One year during christmas_comma_ i did not get...</td>\n",
       "      <td>9</td>\n",
       "      <td>During christmas a few years ago_comma_ I did ...</td>\n",
       "      <td>5|1|5_5|5|5</td>\n",
       "      <td>NaN</td>\n",
       "    </tr>\n",
       "    <tr>\n",
       "      <th>35</th>\n",
       "      <td>hit:5_conv:10</td>\n",
       "      <td>2</td>\n",
       "      <td>sad</td>\n",
       "      <td>One year during christmas_comma_ i did not get...</td>\n",
       "      <td>10</td>\n",
       "      <td>Wow_comma_ that must be terrible_comma_ I cann...</td>\n",
       "      <td>5|1|5_5|5|5</td>\n",
       "      <td>NaN</td>\n",
       "    </tr>\n",
       "    <tr>\n",
       "      <th>36</th>\n",
       "      <td>hit:5_conv:10</td>\n",
       "      <td>3</td>\n",
       "      <td>sad</td>\n",
       "      <td>One year during christmas_comma_ i did not get...</td>\n",
       "      <td>9</td>\n",
       "      <td>Since that day christmas has not been a good t...</td>\n",
       "      <td>5|1|5_5|5|5</td>\n",
       "      <td>NaN</td>\n",
       "    </tr>\n",
       "    <tr>\n",
       "      <th>37</th>\n",
       "      <td>hit:5_conv:10</td>\n",
       "      <td>4</td>\n",
       "      <td>sad</td>\n",
       "      <td>One year during christmas_comma_ i did not get...</td>\n",
       "      <td>10</td>\n",
       "      <td>Wow_comma_ I am sorry to hear that_comma_ I wi...</td>\n",
       "      <td>5|1|5_5|5|5</td>\n",
       "      <td>NaN</td>\n",
       "    </tr>\n",
       "    <tr>\n",
       "      <th>38</th>\n",
       "      <td>hit:5_conv:10</td>\n",
       "      <td>5</td>\n",
       "      <td>sad</td>\n",
       "      <td>One year during christmas_comma_ i did not get...</td>\n",
       "      <td>9</td>\n",
       "      <td>Some days are just days that you never forget....</td>\n",
       "      <td>5|1|5_5|5|5</td>\n",
       "      <td>NaN</td>\n",
       "    </tr>\n",
       "    <tr>\n",
       "      <th>39</th>\n",
       "      <td>hit:5_conv:11</td>\n",
       "      <td>1</td>\n",
       "      <td>jealous</td>\n",
       "      <td>I was at work_comma_ and my coworker was calle...</td>\n",
       "      <td>10</td>\n",
       "      <td>My coworker is allowed to work remotely_comma_...</td>\n",
       "      <td>5|5|5_5|1|5</td>\n",
       "      <td>NaN</td>\n",
       "    </tr>\n",
       "    <tr>\n",
       "      <th>40</th>\n",
       "      <td>hit:5_conv:11</td>\n",
       "      <td>2</td>\n",
       "      <td>jealous</td>\n",
       "      <td>I was at work_comma_ and my coworker was calle...</td>\n",
       "      <td>9</td>\n",
       "      <td>I work remotely_comma_ I wish that you could d...</td>\n",
       "      <td>5|5|5_5|1|5</td>\n",
       "      <td>NaN</td>\n",
       "    </tr>\n",
       "    <tr>\n",
       "      <th>41</th>\n",
       "      <td>hit:5_conv:11</td>\n",
       "      <td>3</td>\n",
       "      <td>jealous</td>\n",
       "      <td>I was at work_comma_ and my coworker was calle...</td>\n",
       "      <td>10</td>\n",
       "      <td>I do too_comma_ it is unfortnuate because_comm...</td>\n",
       "      <td>5|5|5_5|1|5</td>\n",
       "      <td>NaN</td>\n",
       "    </tr>\n",
       "    <tr>\n",
       "      <th>42</th>\n",
       "      <td>hit:5_conv:11</td>\n",
       "      <td>4</td>\n",
       "      <td>jealous</td>\n",
       "      <td>I was at work_comma_ and my coworker was calle...</td>\n",
       "      <td>9</td>\n",
       "      <td>Sometimes in life_comma_ it is not about perfo...</td>\n",
       "      <td>5|5|5_5|1|5</td>\n",
       "      <td>NaN</td>\n",
       "    </tr>\n",
       "    <tr>\n",
       "      <th>43</th>\n",
       "      <td>hit:6_conv:13</td>\n",
       "      <td>1</td>\n",
       "      <td>terrified</td>\n",
       "      <td>I was home alone. I heard a loud noise come fr...</td>\n",
       "      <td>11</td>\n",
       "      <td>The other night I was alone and heard a nose c...</td>\n",
       "      <td>1|5|5_I have clicked the 'End Chat' button tha...</td>\n",
       "      <td>NaN</td>\n",
       "    </tr>\n",
       "    <tr>\n",
       "      <th>44</th>\n",
       "      <td>hit:7_conv:14</td>\n",
       "      <td>1</td>\n",
       "      <td>grateful</td>\n",
       "      <td>I went to a park and I set on a bench. I didn'...</td>\n",
       "      <td>7</td>\n",
       "      <td>Hi_comma_ I went to a park and I set on a benc...</td>\n",
       "      <td>5|5|5_5|4|5</td>\n",
       "      <td>&lt;HI&gt;</td>\n",
       "    </tr>\n",
       "    <tr>\n",
       "      <th>45</th>\n",
       "      <td>hit:7_conv:14</td>\n",
       "      <td>2</td>\n",
       "      <td>grateful</td>\n",
       "      <td>I went to a park and I set on a bench. I didn'...</td>\n",
       "      <td>5</td>\n",
       "      <td>Thats a sweet man_comma_ I hope you acknowledg...</td>\n",
       "      <td>5|5|5_5|4|5</td>\n",
       "      <td>NaN</td>\n",
       "    </tr>\n",
       "    <tr>\n",
       "      <th>46</th>\n",
       "      <td>hit:7_conv:14</td>\n",
       "      <td>3</td>\n",
       "      <td>grateful</td>\n",
       "      <td>I went to a park and I set on a bench. I didn'...</td>\n",
       "      <td>7</td>\n",
       "      <td>Yes_comma_ I did. I was so grateful because I ...</td>\n",
       "      <td>5|5|5_5|4|5</td>\n",
       "      <td>NaN</td>\n",
       "    </tr>\n",
       "    <tr>\n",
       "      <th>47</th>\n",
       "      <td>hit:7_conv:14</td>\n",
       "      <td>4</td>\n",
       "      <td>grateful</td>\n",
       "      <td>I went to a park and I set on a bench. I didn'...</td>\n",
       "      <td>5</td>\n",
       "      <td>Their aren't that many well rounded people in ...</td>\n",
       "      <td>5|5|5_5|4|5</td>\n",
       "      <td>NaN</td>\n",
       "    </tr>\n",
       "    <tr>\n",
       "      <th>48</th>\n",
       "      <td>hit:7_conv:15</td>\n",
       "      <td>1</td>\n",
       "      <td>sad</td>\n",
       "      <td>I got recently got three rejection letters for...</td>\n",
       "      <td>5</td>\n",
       "      <td>People get rejected all the time but it should...</td>\n",
       "      <td>5|4|5_5|5|5</td>\n",
       "      <td>NaN</td>\n",
       "    </tr>\n",
       "    <tr>\n",
       "      <th>49</th>\n",
       "      <td>hit:7_conv:15</td>\n",
       "      <td>2</td>\n",
       "      <td>sad</td>\n",
       "      <td>I got recently got three rejection letters for...</td>\n",
       "      <td>7</td>\n",
       "      <td>What happened?</td>\n",
       "      <td>5|4|5_5|5|5</td>\n",
       "      <td>NaN</td>\n",
       "    </tr>\n",
       "  </tbody>\n",
       "</table>\n",
       "</div>"
      ],
      "text/plain": [
       "          conv_id  utterance_idx      context  \\\n",
       "0    hit:0_conv:1              1  sentimental   \n",
       "1    hit:0_conv:1              2  sentimental   \n",
       "2    hit:0_conv:1              3  sentimental   \n",
       "3    hit:0_conv:1              4  sentimental   \n",
       "4    hit:0_conv:1              5  sentimental   \n",
       "5    hit:0_conv:1              6  sentimental   \n",
       "6    hit:1_conv:2              1       afraid   \n",
       "7    hit:1_conv:2              2       afraid   \n",
       "8    hit:1_conv:2              3       afraid   \n",
       "9    hit:1_conv:2              4       afraid   \n",
       "10   hit:1_conv:2              5       afraid   \n",
       "11   hit:1_conv:2              6       afraid   \n",
       "12   hit:1_conv:3              1        proud   \n",
       "13   hit:1_conv:3              2        proud   \n",
       "14   hit:1_conv:3              3        proud   \n",
       "15   hit:1_conv:3              4        proud   \n",
       "16   hit:1_conv:3              5        proud   \n",
       "17   hit:2_conv:4              1     faithful   \n",
       "18   hit:2_conv:4              2     faithful   \n",
       "19   hit:2_conv:4              3     faithful   \n",
       "20   hit:2_conv:4              4     faithful   \n",
       "21   hit:2_conv:5              1    terrified   \n",
       "22   hit:2_conv:5              2    terrified   \n",
       "23   hit:2_conv:5              3    terrified   \n",
       "24   hit:2_conv:5              4    terrified   \n",
       "25   hit:2_conv:5              5    terrified   \n",
       "26   hit:3_conv:7              1       joyful   \n",
       "27   hit:3_conv:7              2       joyful   \n",
       "28   hit:3_conv:7              3       joyful   \n",
       "29   hit:3_conv:7              4       joyful   \n",
       "30   hit:4_conv:8              1        angry   \n",
       "31   hit:4_conv:8              2        angry   \n",
       "32   hit:4_conv:8              3        angry   \n",
       "33   hit:4_conv:8              4        angry   \n",
       "34  hit:5_conv:10              1          sad   \n",
       "35  hit:5_conv:10              2          sad   \n",
       "36  hit:5_conv:10              3          sad   \n",
       "37  hit:5_conv:10              4          sad   \n",
       "38  hit:5_conv:10              5          sad   \n",
       "39  hit:5_conv:11              1      jealous   \n",
       "40  hit:5_conv:11              2      jealous   \n",
       "41  hit:5_conv:11              3      jealous   \n",
       "42  hit:5_conv:11              4      jealous   \n",
       "43  hit:6_conv:13              1    terrified   \n",
       "44  hit:7_conv:14              1     grateful   \n",
       "45  hit:7_conv:14              2     grateful   \n",
       "46  hit:7_conv:14              3     grateful   \n",
       "47  hit:7_conv:14              4     grateful   \n",
       "48  hit:7_conv:15              1          sad   \n",
       "49  hit:7_conv:15              2          sad   \n",
       "\n",
       "                                               prompt  speaker_idx  \\\n",
       "0   I remember going to the fireworks with my best...            1   \n",
       "1   I remember going to the fireworks with my best...            0   \n",
       "2   I remember going to the fireworks with my best...            1   \n",
       "3   I remember going to the fireworks with my best...            0   \n",
       "4   I remember going to the fireworks with my best...            1   \n",
       "5   I remember going to the fireworks with my best...            0   \n",
       "6                        i used to scare for darkness            2   \n",
       "7                        i used to scare for darkness            3   \n",
       "8                        i used to scare for darkness            2   \n",
       "9                        i used to scare for darkness            3   \n",
       "10                       i used to scare for darkness            2   \n",
       "11                       i used to scare for darkness            3   \n",
       "12  I showed a guy how to run a good bead in weldi...            3   \n",
       "13  I showed a guy how to run a good bead in weldi...            2   \n",
       "14  I showed a guy how to run a good bead in weldi...            3   \n",
       "15  I showed a guy how to run a good bead in weldi...            2   \n",
       "16  I showed a guy how to run a good bead in weldi...            3   \n",
       "17               I have always been loyal to my wife.            4   \n",
       "18               I have always been loyal to my wife.            5   \n",
       "19               I have always been loyal to my wife.            4   \n",
       "20               I have always been loyal to my wife.            5   \n",
       "21  A recent job interview that I had made me feel...            5   \n",
       "22  A recent job interview that I had made me feel...            4   \n",
       "23  A recent job interview that I had made me feel...            5   \n",
       "24  A recent job interview that I had made me feel...            4   \n",
       "25  A recent job interview that I had made me feel...            5   \n",
       "26  I am very happy to have been first over 300 st...            7   \n",
       "27  I am very happy to have been first over 300 st...            6   \n",
       "28  I am very happy to have been first over 300 st...            7   \n",
       "29  I am very happy to have been first over 300 st...            6   \n",
       "30                    I once lost my job and got mad.            4   \n",
       "31                    I once lost my job and got mad.            8   \n",
       "32                    I once lost my job and got mad.            4   \n",
       "33                    I once lost my job and got mad.            8   \n",
       "34  One year during christmas_comma_ i did not get...            9   \n",
       "35  One year during christmas_comma_ i did not get...           10   \n",
       "36  One year during christmas_comma_ i did not get...            9   \n",
       "37  One year during christmas_comma_ i did not get...           10   \n",
       "38  One year during christmas_comma_ i did not get...            9   \n",
       "39  I was at work_comma_ and my coworker was calle...           10   \n",
       "40  I was at work_comma_ and my coworker was calle...            9   \n",
       "41  I was at work_comma_ and my coworker was calle...           10   \n",
       "42  I was at work_comma_ and my coworker was calle...            9   \n",
       "43  I was home alone. I heard a loud noise come fr...           11   \n",
       "44  I went to a park and I set on a bench. I didn'...            7   \n",
       "45  I went to a park and I set on a bench. I didn'...            5   \n",
       "46  I went to a park and I set on a bench. I didn'...            7   \n",
       "47  I went to a park and I set on a bench. I didn'...            5   \n",
       "48  I got recently got three rejection letters for...            5   \n",
       "49  I got recently got three rejection letters for...            7   \n",
       "\n",
       "                                            utterance  \\\n",
       "0   I remember going to see the fireworks with my ...   \n",
       "1   Was this a friend you were in love with_comma_...   \n",
       "2                 This was a best friend. I miss her.   \n",
       "3                                 Where has she gone?   \n",
       "4                                  We no longer talk.   \n",
       "5   Oh was this something that happened because of...   \n",
       "6    it feels like hitting to blank wall when i se...   \n",
       "7                       Oh ya? I don't really see how   \n",
       "8                    dont you feel so.. its a wonder    \n",
       "9   I do actually hit blank walls a lot of times b...   \n",
       "10   i virtually thought so.. and i used to get sw...   \n",
       "11                            Wait what are sweatings   \n",
       "12                         Hi how are you doing today   \n",
       "13                         doing good.. how about you   \n",
       "14  Im good_comma_ trying to understand how someon...   \n",
       "15       it's quite strange that you didnt imagine it   \n",
       "16  i dont imagine feeling a lot_comma_ maybe your...   \n",
       "17                   I have never cheated on my wife.   \n",
       "18  And thats something you should never do_comma_...   \n",
       "19   Yea it hasn't been easy but I am proud I haven't   \n",
       "20  What do you mean it hasn't been easy? How clos...   \n",
       "21  Job interviews always make me sweat bullets_co...   \n",
       "22                Don't be nervous. Just be prepared.   \n",
       "23  I feel like getting prepared and then having a...   \n",
       "24            Yes but if you stay calm it will be ok.   \n",
       "25         It's hard to stay clam. How do you do it?    \n",
       "26  Hi_comma_ this year_comma_ I was the first ove...   \n",
       "27                Sounds great! So what's your major?   \n",
       "28  It is computer science. I am very happy of thi...   \n",
       "29  Well pleased. You should be having brains_comm...   \n",
       "30      I lost my job last year and got really angry.   \n",
       "31  I am sorry to hear that. Did it happen out of ...   \n",
       "32             Yes_comma_ it was a complete surprise.   \n",
       "33  I am sorry to hear that. I hope it turned out ...   \n",
       "34  During christmas a few years ago_comma_ I did ...   \n",
       "35  Wow_comma_ that must be terrible_comma_ I cann...   \n",
       "36  Since that day christmas has not been a good t...   \n",
       "37  Wow_comma_ I am sorry to hear that_comma_ I wi...   \n",
       "38  Some days are just days that you never forget....   \n",
       "39  My coworker is allowed to work remotely_comma_...   \n",
       "40  I work remotely_comma_ I wish that you could d...   \n",
       "41  I do too_comma_ it is unfortnuate because_comm...   \n",
       "42  Sometimes in life_comma_ it is not about perfo...   \n",
       "43  The other night I was alone and heard a nose c...   \n",
       "44  Hi_comma_ I went to a park and I set on a benc...   \n",
       "45  Thats a sweet man_comma_ I hope you acknowledg...   \n",
       "46  Yes_comma_ I did. I was so grateful because I ...   \n",
       "47  Their aren't that many well rounded people in ...   \n",
       "48  People get rejected all the time but it should...   \n",
       "49                                     What happened?   \n",
       "\n",
       "                                             selfeval  tags  \n",
       "0                                         5|5|5_2|2|5   NaN  \n",
       "1                                         5|5|5_2|2|5   NaN  \n",
       "2                                         5|5|5_2|2|5   NaN  \n",
       "3                                         5|5|5_2|2|5   NaN  \n",
       "4                                         5|5|5_2|2|5   NaN  \n",
       "5                                         5|5|5_2|2|5   NaN  \n",
       "6                                         4|3|4_3|5|5   NaN  \n",
       "7                                         4|3|4_3|5|5   NaN  \n",
       "8                                         4|3|4_3|5|5   NaN  \n",
       "9                                         4|3|4_3|5|5   NaN  \n",
       "10                                        4|3|4_3|5|5   NaN  \n",
       "11                                        4|3|4_3|5|5   NaN  \n",
       "12                                        3|5|5_4|3|4  <HI>  \n",
       "13                                        3|5|5_4|3|4   NaN  \n",
       "14                                        3|5|5_4|3|4   NaN  \n",
       "15                                        3|5|5_4|3|4   NaN  \n",
       "16                                        3|5|5_4|3|4   NaN  \n",
       "17                                        3|3|5_2|4|4   NaN  \n",
       "18                                        3|3|5_2|4|4   NaN  \n",
       "19                                        3|3|5_2|4|4   NaN  \n",
       "20                                        3|3|5_2|4|4   NaN  \n",
       "21                                        2|4|4_3|3|5   NaN  \n",
       "22                                        2|4|4_3|3|5   NaN  \n",
       "23                                        2|4|4_3|3|5   NaN  \n",
       "24                                        2|4|4_3|3|5   NaN  \n",
       "25                                        2|4|4_3|3|5   NaN  \n",
       "26                                        5|5|5_4|5|5  <HI>  \n",
       "27                                        5|5|5_4|5|5   NaN  \n",
       "28                                        5|5|5_4|5|5   NaN  \n",
       "29                                        5|5|5_4|5|5   NaN  \n",
       "30                                        3|5|5_5|5|5   NaN  \n",
       "31                                        3|5|5_5|5|5   NaN  \n",
       "32                                        3|5|5_5|5|5   NaN  \n",
       "33                                        3|5|5_5|5|5   NaN  \n",
       "34                                        5|1|5_5|5|5   NaN  \n",
       "35                                        5|1|5_5|5|5   NaN  \n",
       "36                                        5|1|5_5|5|5   NaN  \n",
       "37                                        5|1|5_5|5|5   NaN  \n",
       "38                                        5|1|5_5|5|5   NaN  \n",
       "39                                        5|5|5_5|1|5   NaN  \n",
       "40                                        5|5|5_5|1|5   NaN  \n",
       "41                                        5|5|5_5|1|5   NaN  \n",
       "42                                        5|5|5_5|1|5   NaN  \n",
       "43  1|5|5_I have clicked the 'End Chat' button tha...   NaN  \n",
       "44                                        5|5|5_5|4|5  <HI>  \n",
       "45                                        5|5|5_5|4|5   NaN  \n",
       "46                                        5|5|5_5|4|5   NaN  \n",
       "47                                        5|5|5_5|4|5   NaN  \n",
       "48                                        5|4|5_5|5|5   NaN  \n",
       "49                                        5|4|5_5|5|5   NaN  "
      ]
     },
     "execution_count": 56,
     "metadata": {},
     "output_type": "execute_result"
    }
   ],
   "source": [
    "df.head(50)"
   ]
  },
  {
   "cell_type": "code",
   "execution_count": 7,
   "id": "c97e9aa4-67b2-40f0-9dd9-e14ecc14e24c",
   "metadata": {},
   "outputs": [
    {
     "data": {
      "text/plain": [
       "surprised       3956\n",
       "excited         2935\n",
       "angry           2740\n",
       "proud           2719\n",
       "annoyed         2642\n",
       "sad             2634\n",
       "afraid          2510\n",
       "lonely          2503\n",
       "terrified       2487\n",
       "grateful        2487\n",
       "guilty          2463\n",
       "anxious         2456\n",
       "disgusted       2447\n",
       "confident       2440\n",
       "anticipating    2439\n",
       "hopeful         2404\n",
       "furious         2394\n",
       "impressed       2381\n",
       "disappointed    2356\n",
       "nostalgic       2350\n",
       "joyful          2346\n",
       "jealous         2329\n",
       "prepared        2292\n",
       "content         2214\n",
       "devastated      2192\n",
       "embarrassed     2191\n",
       "sentimental     2073\n",
       "caring          2054\n",
       "trusting        2001\n",
       "ashamed         1976\n",
       "apprehensive    1822\n",
       "faithful        1435\n",
       "Name: context, dtype: int64"
      ]
     },
     "execution_count": 7,
     "metadata": {},
     "output_type": "execute_result"
    }
   ],
   "source": [
    "df[\"context\"].value_counts()"
   ]
  },
  {
   "cell_type": "code",
   "execution_count": 8,
   "id": "9009dc01-4bcd-4dbe-af41-552df2cdbfb2",
   "metadata": {},
   "outputs": [],
   "source": [
    "context = sorted(list(df[\"context\"].value_counts().keys()))"
   ]
  },
  {
   "cell_type": "code",
   "execution_count": 9,
   "id": "2105c80a-13ca-4b8b-8b9b-8e554fb2cefb",
   "metadata": {},
   "outputs": [
    {
     "data": {
      "text/plain": [
       "['afraid',\n",
       " 'angry',\n",
       " 'annoyed',\n",
       " 'anticipating',\n",
       " 'anxious',\n",
       " 'apprehensive',\n",
       " 'ashamed',\n",
       " 'caring',\n",
       " 'confident',\n",
       " 'content',\n",
       " 'devastated',\n",
       " 'disappointed',\n",
       " 'disgusted',\n",
       " 'embarrassed',\n",
       " 'excited',\n",
       " 'faithful',\n",
       " 'furious',\n",
       " 'grateful',\n",
       " 'guilty',\n",
       " 'hopeful',\n",
       " 'impressed',\n",
       " 'jealous',\n",
       " 'joyful',\n",
       " 'lonely',\n",
       " 'nostalgic',\n",
       " 'prepared',\n",
       " 'proud',\n",
       " 'sad',\n",
       " 'sentimental',\n",
       " 'surprised',\n",
       " 'terrified',\n",
       " 'trusting']"
      ]
     },
     "execution_count": 9,
     "metadata": {},
     "output_type": "execute_result"
    }
   ],
   "source": [
    "context"
   ]
  },
  {
   "cell_type": "code",
   "execution_count": 28,
   "id": "f6ed2eb0-3e6c-4fa0-acd8-96bd05d9097d",
   "metadata": {},
   "outputs": [],
   "source": [
    "conv_id = \"hit:0_conv:1\""
   ]
  },
  {
   "cell_type": "code",
   "execution_count": 29,
   "id": "21643fcf-7ae9-44b3-b6cf-b4b506da4099",
   "metadata": {},
   "outputs": [
    {
     "data": {
      "text/html": [
       "<div>\n",
       "<style scoped>\n",
       "    .dataframe tbody tr th:only-of-type {\n",
       "        vertical-align: middle;\n",
       "    }\n",
       "\n",
       "    .dataframe tbody tr th {\n",
       "        vertical-align: top;\n",
       "    }\n",
       "\n",
       "    .dataframe thead th {\n",
       "        text-align: right;\n",
       "    }\n",
       "</style>\n",
       "<table border=\"1\" class=\"dataframe\">\n",
       "  <thead>\n",
       "    <tr style=\"text-align: right;\">\n",
       "      <th></th>\n",
       "      <th>conv_id</th>\n",
       "      <th>utterance_idx</th>\n",
       "      <th>context</th>\n",
       "      <th>prompt</th>\n",
       "      <th>speaker_idx</th>\n",
       "      <th>utterance</th>\n",
       "      <th>selfeval</th>\n",
       "      <th>tags</th>\n",
       "    </tr>\n",
       "  </thead>\n",
       "  <tbody>\n",
       "    <tr>\n",
       "      <th>0</th>\n",
       "      <td>hit:0_conv:1</td>\n",
       "      <td>1</td>\n",
       "      <td>sentimental</td>\n",
       "      <td>I remember going to the fireworks with my best...</td>\n",
       "      <td>1</td>\n",
       "      <td>I remember going to see the fireworks with my ...</td>\n",
       "      <td>5|5|5_2|2|5</td>\n",
       "      <td>NaN</td>\n",
       "    </tr>\n",
       "    <tr>\n",
       "      <th>1</th>\n",
       "      <td>hit:0_conv:1</td>\n",
       "      <td>2</td>\n",
       "      <td>sentimental</td>\n",
       "      <td>I remember going to the fireworks with my best...</td>\n",
       "      <td>0</td>\n",
       "      <td>Was this a friend you were in love with_comma_...</td>\n",
       "      <td>5|5|5_2|2|5</td>\n",
       "      <td>NaN</td>\n",
       "    </tr>\n",
       "    <tr>\n",
       "      <th>2</th>\n",
       "      <td>hit:0_conv:1</td>\n",
       "      <td>3</td>\n",
       "      <td>sentimental</td>\n",
       "      <td>I remember going to the fireworks with my best...</td>\n",
       "      <td>1</td>\n",
       "      <td>This was a best friend. I miss her.</td>\n",
       "      <td>5|5|5_2|2|5</td>\n",
       "      <td>NaN</td>\n",
       "    </tr>\n",
       "    <tr>\n",
       "      <th>3</th>\n",
       "      <td>hit:0_conv:1</td>\n",
       "      <td>4</td>\n",
       "      <td>sentimental</td>\n",
       "      <td>I remember going to the fireworks with my best...</td>\n",
       "      <td>0</td>\n",
       "      <td>Where has she gone?</td>\n",
       "      <td>5|5|5_2|2|5</td>\n",
       "      <td>NaN</td>\n",
       "    </tr>\n",
       "    <tr>\n",
       "      <th>4</th>\n",
       "      <td>hit:0_conv:1</td>\n",
       "      <td>5</td>\n",
       "      <td>sentimental</td>\n",
       "      <td>I remember going to the fireworks with my best...</td>\n",
       "      <td>1</td>\n",
       "      <td>We no longer talk.</td>\n",
       "      <td>5|5|5_2|2|5</td>\n",
       "      <td>NaN</td>\n",
       "    </tr>\n",
       "    <tr>\n",
       "      <th>5</th>\n",
       "      <td>hit:0_conv:1</td>\n",
       "      <td>6</td>\n",
       "      <td>sentimental</td>\n",
       "      <td>I remember going to the fireworks with my best...</td>\n",
       "      <td>0</td>\n",
       "      <td>Oh was this something that happened because of...</td>\n",
       "      <td>5|5|5_2|2|5</td>\n",
       "      <td>NaN</td>\n",
       "    </tr>\n",
       "  </tbody>\n",
       "</table>\n",
       "</div>"
      ],
      "text/plain": [
       "        conv_id  utterance_idx      context  \\\n",
       "0  hit:0_conv:1              1  sentimental   \n",
       "1  hit:0_conv:1              2  sentimental   \n",
       "2  hit:0_conv:1              3  sentimental   \n",
       "3  hit:0_conv:1              4  sentimental   \n",
       "4  hit:0_conv:1              5  sentimental   \n",
       "5  hit:0_conv:1              6  sentimental   \n",
       "\n",
       "                                              prompt  speaker_idx  \\\n",
       "0  I remember going to the fireworks with my best...            1   \n",
       "1  I remember going to the fireworks with my best...            0   \n",
       "2  I remember going to the fireworks with my best...            1   \n",
       "3  I remember going to the fireworks with my best...            0   \n",
       "4  I remember going to the fireworks with my best...            1   \n",
       "5  I remember going to the fireworks with my best...            0   \n",
       "\n",
       "                                           utterance     selfeval tags  \n",
       "0  I remember going to see the fireworks with my ...  5|5|5_2|2|5  NaN  \n",
       "1  Was this a friend you were in love with_comma_...  5|5|5_2|2|5  NaN  \n",
       "2                This was a best friend. I miss her.  5|5|5_2|2|5  NaN  \n",
       "3                                Where has she gone?  5|5|5_2|2|5  NaN  \n",
       "4                                 We no longer talk.  5|5|5_2|2|5  NaN  \n",
       "5  Oh was this something that happened because of...  5|5|5_2|2|5  NaN  "
      ]
     },
     "execution_count": 29,
     "metadata": {},
     "output_type": "execute_result"
    }
   ],
   "source": [
    "df.loc[df[\"conv_id\"] == conv_id]"
   ]
  },
  {
   "cell_type": "code",
   "execution_count": 12,
   "id": "0595a0ae-c96a-4e27-a595-c7b6fcca6739",
   "metadata": {},
   "outputs": [
    {
     "name": "stdout",
     "output_type": "stream",
     "text": [
      "Onnce I had to take care of my cousin who had an ailing stomach\n",
      "I'm sorry to hear that. Do you know what caused it?\n",
      "Apparently he ate something and slept immediately\n",
      "I've done that to myself before. Now I always wait awhile to sleep after eating.\n",
      "Yeah I had to tell him either to sleep first for a bit than eat. Or eat at first and wait an hour\n"
     ]
    }
   ],
   "source": [
    "for row in df.loc[df[\"conv_id\"] == df.iloc[200][\"conv_id\"]][\"utterance\"]:\n",
    "    print(row)"
   ]
  },
  {
   "cell_type": "code",
   "execution_count": 34,
   "id": "fa3e414b-450f-4e80-844d-a0427e134eab",
   "metadata": {},
   "outputs": [
    {
     "data": {
      "text/html": [
       "<div>\n",
       "<style scoped>\n",
       "    .dataframe tbody tr th:only-of-type {\n",
       "        vertical-align: middle;\n",
       "    }\n",
       "\n",
       "    .dataframe tbody tr th {\n",
       "        vertical-align: top;\n",
       "    }\n",
       "\n",
       "    .dataframe thead th {\n",
       "        text-align: right;\n",
       "    }\n",
       "</style>\n",
       "<table border=\"1\" class=\"dataframe\">\n",
       "  <thead>\n",
       "    <tr style=\"text-align: right;\">\n",
       "      <th></th>\n",
       "      <th>conv_id</th>\n",
       "      <th>context</th>\n",
       "      <th>prompt</th>\n",
       "      <th>utterance</th>\n",
       "    </tr>\n",
       "  </thead>\n",
       "  <tbody>\n",
       "    <tr>\n",
       "      <th>0</th>\n",
       "      <td>hit:0_conv:1</td>\n",
       "      <td>sentimental</td>\n",
       "      <td>I remember going to the fireworks with my best...</td>\n",
       "      <td>I remember going to see the fireworks with my ...</td>\n",
       "    </tr>\n",
       "    <tr>\n",
       "      <th>1</th>\n",
       "      <td>hit:0_conv:1</td>\n",
       "      <td>sentimental</td>\n",
       "      <td>I remember going to the fireworks with my best...</td>\n",
       "      <td>Was this a friend you were in love with_comma_...</td>\n",
       "    </tr>\n",
       "    <tr>\n",
       "      <th>2</th>\n",
       "      <td>hit:0_conv:1</td>\n",
       "      <td>sentimental</td>\n",
       "      <td>I remember going to the fireworks with my best...</td>\n",
       "      <td>This was a best friend. I miss her.</td>\n",
       "    </tr>\n",
       "    <tr>\n",
       "      <th>3</th>\n",
       "      <td>hit:0_conv:1</td>\n",
       "      <td>sentimental</td>\n",
       "      <td>I remember going to the fireworks with my best...</td>\n",
       "      <td>Where has she gone?</td>\n",
       "    </tr>\n",
       "    <tr>\n",
       "      <th>4</th>\n",
       "      <td>hit:0_conv:1</td>\n",
       "      <td>sentimental</td>\n",
       "      <td>I remember going to the fireworks with my best...</td>\n",
       "      <td>We no longer talk.</td>\n",
       "    </tr>\n",
       "    <tr>\n",
       "      <th>...</th>\n",
       "      <td>...</td>\n",
       "      <td>...</td>\n",
       "      <td>...</td>\n",
       "      <td>...</td>\n",
       "    </tr>\n",
       "    <tr>\n",
       "      <th>76663</th>\n",
       "      <td>hit:12424_conv:24848</td>\n",
       "      <td>sentimental</td>\n",
       "      <td>I found some pictures of my grandma in the att...</td>\n",
       "      <td>Yeah reminds me of the good old days.  I miss ...</td>\n",
       "    </tr>\n",
       "    <tr>\n",
       "      <th>76664</th>\n",
       "      <td>hit:12424_conv:24849</td>\n",
       "      <td>surprised</td>\n",
       "      <td>I woke up this morning to my wife telling me s...</td>\n",
       "      <td>I woke up this morning to my wife telling me s...</td>\n",
       "    </tr>\n",
       "    <tr>\n",
       "      <th>76665</th>\n",
       "      <td>hit:12424_conv:24849</td>\n",
       "      <td>surprised</td>\n",
       "      <td>I woke up this morning to my wife telling me s...</td>\n",
       "      <td>Oh hey that's awesome!  That is awesome right?</td>\n",
       "    </tr>\n",
       "    <tr>\n",
       "      <th>76666</th>\n",
       "      <td>hit:12424_conv:24849</td>\n",
       "      <td>surprised</td>\n",
       "      <td>I woke up this morning to my wife telling me s...</td>\n",
       "      <td>It is soooo awesome.  We have been wanting a b...</td>\n",
       "    </tr>\n",
       "    <tr>\n",
       "      <th>76667</th>\n",
       "      <td>hit:12424_conv:24849</td>\n",
       "      <td>surprised</td>\n",
       "      <td>I woke up this morning to my wife telling me s...</td>\n",
       "      <td>That is awesome!!!! Congratulations!</td>\n",
       "    </tr>\n",
       "  </tbody>\n",
       "</table>\n",
       "<p>76668 rows × 4 columns</p>\n",
       "</div>"
      ],
      "text/plain": [
       "                    conv_id      context  \\\n",
       "0              hit:0_conv:1  sentimental   \n",
       "1              hit:0_conv:1  sentimental   \n",
       "2              hit:0_conv:1  sentimental   \n",
       "3              hit:0_conv:1  sentimental   \n",
       "4              hit:0_conv:1  sentimental   \n",
       "...                     ...          ...   \n",
       "76663  hit:12424_conv:24848  sentimental   \n",
       "76664  hit:12424_conv:24849    surprised   \n",
       "76665  hit:12424_conv:24849    surprised   \n",
       "76666  hit:12424_conv:24849    surprised   \n",
       "76667  hit:12424_conv:24849    surprised   \n",
       "\n",
       "                                                  prompt  \\\n",
       "0      I remember going to the fireworks with my best...   \n",
       "1      I remember going to the fireworks with my best...   \n",
       "2      I remember going to the fireworks with my best...   \n",
       "3      I remember going to the fireworks with my best...   \n",
       "4      I remember going to the fireworks with my best...   \n",
       "...                                                  ...   \n",
       "76663  I found some pictures of my grandma in the att...   \n",
       "76664  I woke up this morning to my wife telling me s...   \n",
       "76665  I woke up this morning to my wife telling me s...   \n",
       "76666  I woke up this morning to my wife telling me s...   \n",
       "76667  I woke up this morning to my wife telling me s...   \n",
       "\n",
       "                                               utterance  \n",
       "0      I remember going to see the fireworks with my ...  \n",
       "1      Was this a friend you were in love with_comma_...  \n",
       "2                    This was a best friend. I miss her.  \n",
       "3                                    Where has she gone?  \n",
       "4                                     We no longer talk.  \n",
       "...                                                  ...  \n",
       "76663  Yeah reminds me of the good old days.  I miss ...  \n",
       "76664  I woke up this morning to my wife telling me s...  \n",
       "76665     Oh hey that's awesome!  That is awesome right?  \n",
       "76666  It is soooo awesome.  We have been wanting a b...  \n",
       "76667               That is awesome!!!! Congratulations!  \n",
       "\n",
       "[76668 rows x 4 columns]"
      ]
     },
     "execution_count": 34,
     "metadata": {},
     "output_type": "execute_result"
    }
   ],
   "source": [
    "df[[\"conv_id\", \"context\", \"prompt\", \"utterance\"]]"
   ]
  },
  {
   "cell_type": "code",
   "execution_count": 37,
   "id": "1328a261-cef9-4224-997f-dbadf83b1d6d",
   "metadata": {},
   "outputs": [
    {
     "data": {
      "text/html": [
       "<div>\n",
       "<style scoped>\n",
       "    .dataframe tbody tr th:only-of-type {\n",
       "        vertical-align: middle;\n",
       "    }\n",
       "\n",
       "    .dataframe tbody tr th {\n",
       "        vertical-align: top;\n",
       "    }\n",
       "\n",
       "    .dataframe thead th {\n",
       "        text-align: right;\n",
       "    }\n",
       "</style>\n",
       "<table border=\"1\" class=\"dataframe\">\n",
       "  <thead>\n",
       "    <tr style=\"text-align: right;\">\n",
       "      <th></th>\n",
       "      <th>conv_id</th>\n",
       "      <th>utterance</th>\n",
       "    </tr>\n",
       "  </thead>\n",
       "  <tbody>\n",
       "    <tr>\n",
       "      <th>0</th>\n",
       "      <td>hit:0_conv:1</td>\n",
       "      <td>I remember going to see the fireworks with my ...</td>\n",
       "    </tr>\n",
       "    <tr>\n",
       "      <th>1</th>\n",
       "      <td>hit:10000_conv:20000</td>\n",
       "      <td>My girlfriend got me a pet toad today!&lt;|TURN|&gt;...</td>\n",
       "    </tr>\n",
       "    <tr>\n",
       "      <th>2</th>\n",
       "      <td>hit:10000_conv:20001</td>\n",
       "      <td>I really like the new paint job on my house.&lt;|...</td>\n",
       "    </tr>\n",
       "    <tr>\n",
       "      <th>3</th>\n",
       "      <td>hit:10001_conv:20002</td>\n",
       "      <td>I went to the skating rink all by myself today...</td>\n",
       "    </tr>\n",
       "    <tr>\n",
       "      <th>4</th>\n",
       "      <td>hit:10002_conv:20004</td>\n",
       "      <td>I was walking on the road. I saw a beggar and ...</td>\n",
       "    </tr>\n",
       "    <tr>\n",
       "      <th>...</th>\n",
       "      <td>...</td>\n",
       "      <td>...</td>\n",
       "    </tr>\n",
       "    <tr>\n",
       "      <th>17834</th>\n",
       "      <td>hit:9999_conv:19999</td>\n",
       "      <td>So I went skydiving for the first time the oth...</td>\n",
       "    </tr>\n",
       "    <tr>\n",
       "      <th>17835</th>\n",
       "      <td>hit:999_conv:1998</td>\n",
       "      <td>I believe I did rather well on my Law School A...</td>\n",
       "    </tr>\n",
       "    <tr>\n",
       "      <th>17836</th>\n",
       "      <td>hit:999_conv:1999</td>\n",
       "      <td>I was shocked when Lebron left the cavs again!...</td>\n",
       "    </tr>\n",
       "    <tr>\n",
       "      <th>17837</th>\n",
       "      <td>hit:99_conv:198</td>\n",
       "      <td>I cheated on a test. I am very ashamed.&lt;|TURN|...</td>\n",
       "    </tr>\n",
       "    <tr>\n",
       "      <th>17838</th>\n",
       "      <td>hit:9_conv:19</td>\n",
       "      <td>Once when I was in preschool_comma_ my pants f...</td>\n",
       "    </tr>\n",
       "  </tbody>\n",
       "</table>\n",
       "<p>17839 rows × 2 columns</p>\n",
       "</div>"
      ],
      "text/plain": [
       "                    conv_id                                          utterance\n",
       "0              hit:0_conv:1  I remember going to see the fireworks with my ...\n",
       "1      hit:10000_conv:20000  My girlfriend got me a pet toad today!<|TURN|>...\n",
       "2      hit:10000_conv:20001  I really like the new paint job on my house.<|...\n",
       "3      hit:10001_conv:20002  I went to the skating rink all by myself today...\n",
       "4      hit:10002_conv:20004  I was walking on the road. I saw a beggar and ...\n",
       "...                     ...                                                ...\n",
       "17834   hit:9999_conv:19999  So I went skydiving for the first time the oth...\n",
       "17835     hit:999_conv:1998  I believe I did rather well on my Law School A...\n",
       "17836     hit:999_conv:1999  I was shocked when Lebron left the cavs again!...\n",
       "17837       hit:99_conv:198  I cheated on a test. I am very ashamed.<|TURN|...\n",
       "17838         hit:9_conv:19  Once when I was in preschool_comma_ my pants f...\n",
       "\n",
       "[17839 rows x 2 columns]"
      ]
     },
     "execution_count": 37,
     "metadata": {},
     "output_type": "execute_result"
    }
   ],
   "source": [
    "df.groupby([\"conv_id\"])[\"utterance\"].apply('<|TURN|>'.join).reset_index()"
   ]
  },
  {
   "cell_type": "code",
   "execution_count": 42,
   "id": "c85032fc-06b3-42a4-a0ca-2774cb5b623b",
   "metadata": {},
   "outputs": [],
   "source": [
    "concat_df = df.groupby([\"conv_id\", \"context\"])[\"utterance\"].apply(\"|\".join).reset_index()"
   ]
  },
  {
   "cell_type": "code",
   "execution_count": 43,
   "id": "98d2e882-e751-4dd2-8150-f024432c9069",
   "metadata": {},
   "outputs": [
    {
     "data": {
      "text/html": [
       "<div>\n",
       "<style scoped>\n",
       "    .dataframe tbody tr th:only-of-type {\n",
       "        vertical-align: middle;\n",
       "    }\n",
       "\n",
       "    .dataframe tbody tr th {\n",
       "        vertical-align: top;\n",
       "    }\n",
       "\n",
       "    .dataframe thead th {\n",
       "        text-align: right;\n",
       "    }\n",
       "</style>\n",
       "<table border=\"1\" class=\"dataframe\">\n",
       "  <thead>\n",
       "    <tr style=\"text-align: right;\">\n",
       "      <th></th>\n",
       "      <th>conv_id</th>\n",
       "      <th>context</th>\n",
       "      <th>utterance</th>\n",
       "    </tr>\n",
       "  </thead>\n",
       "  <tbody>\n",
       "    <tr>\n",
       "      <th>0</th>\n",
       "      <td>hit:0_conv:1</td>\n",
       "      <td>sentimental</td>\n",
       "      <td>I remember going to see the fireworks with my ...</td>\n",
       "    </tr>\n",
       "    <tr>\n",
       "      <th>1</th>\n",
       "      <td>hit:10000_conv:20000</td>\n",
       "      <td>surprised</td>\n",
       "      <td>My girlfriend got me a pet toad today!|Do you ...</td>\n",
       "    </tr>\n",
       "    <tr>\n",
       "      <th>2</th>\n",
       "      <td>hit:10000_conv:20001</td>\n",
       "      <td>impressed</td>\n",
       "      <td>I really like the new paint job on my house.|T...</td>\n",
       "    </tr>\n",
       "    <tr>\n",
       "      <th>3</th>\n",
       "      <td>hit:10001_conv:20002</td>\n",
       "      <td>lonely</td>\n",
       "      <td>I went to the skating rink all by myself today...</td>\n",
       "    </tr>\n",
       "    <tr>\n",
       "      <th>4</th>\n",
       "      <td>hit:10002_conv:20004</td>\n",
       "      <td>ashamed</td>\n",
       "      <td>I was walking on the road. I saw a beggar and ...</td>\n",
       "    </tr>\n",
       "    <tr>\n",
       "      <th>...</th>\n",
       "      <td>...</td>\n",
       "      <td>...</td>\n",
       "      <td>...</td>\n",
       "    </tr>\n",
       "    <tr>\n",
       "      <th>17834</th>\n",
       "      <td>hit:9999_conv:19999</td>\n",
       "      <td>apprehensive</td>\n",
       "      <td>So I went skydiving for the first time the oth...</td>\n",
       "    </tr>\n",
       "    <tr>\n",
       "      <th>17835</th>\n",
       "      <td>hit:999_conv:1998</td>\n",
       "      <td>confident</td>\n",
       "      <td>I believe I did rather well on my Law School A...</td>\n",
       "    </tr>\n",
       "    <tr>\n",
       "      <th>17836</th>\n",
       "      <td>hit:999_conv:1999</td>\n",
       "      <td>devastated</td>\n",
       "      <td>I was shocked when Lebron left the cavs again!...</td>\n",
       "    </tr>\n",
       "    <tr>\n",
       "      <th>17837</th>\n",
       "      <td>hit:99_conv:198</td>\n",
       "      <td>ashamed</td>\n",
       "      <td>I cheated on a test. I am very ashamed.|oh no ...</td>\n",
       "    </tr>\n",
       "    <tr>\n",
       "      <th>17838</th>\n",
       "      <td>hit:9_conv:19</td>\n",
       "      <td>embarrassed</td>\n",
       "      <td>Once when I was in preschool_comma_ my pants f...</td>\n",
       "    </tr>\n",
       "  </tbody>\n",
       "</table>\n",
       "<p>17839 rows × 3 columns</p>\n",
       "</div>"
      ],
      "text/plain": [
       "                    conv_id       context  \\\n",
       "0              hit:0_conv:1   sentimental   \n",
       "1      hit:10000_conv:20000     surprised   \n",
       "2      hit:10000_conv:20001     impressed   \n",
       "3      hit:10001_conv:20002        lonely   \n",
       "4      hit:10002_conv:20004       ashamed   \n",
       "...                     ...           ...   \n",
       "17834   hit:9999_conv:19999  apprehensive   \n",
       "17835     hit:999_conv:1998     confident   \n",
       "17836     hit:999_conv:1999    devastated   \n",
       "17837       hit:99_conv:198       ashamed   \n",
       "17838         hit:9_conv:19   embarrassed   \n",
       "\n",
       "                                               utterance  \n",
       "0      I remember going to see the fireworks with my ...  \n",
       "1      My girlfriend got me a pet toad today!|Do you ...  \n",
       "2      I really like the new paint job on my house.|T...  \n",
       "3      I went to the skating rink all by myself today...  \n",
       "4      I was walking on the road. I saw a beggar and ...  \n",
       "...                                                  ...  \n",
       "17834  So I went skydiving for the first time the oth...  \n",
       "17835  I believe I did rather well on my Law School A...  \n",
       "17836  I was shocked when Lebron left the cavs again!...  \n",
       "17837  I cheated on a test. I am very ashamed.|oh no ...  \n",
       "17838  Once when I was in preschool_comma_ my pants f...  \n",
       "\n",
       "[17839 rows x 3 columns]"
      ]
     },
     "execution_count": 43,
     "metadata": {},
     "output_type": "execute_result"
    }
   ],
   "source": [
    "concat_df"
   ]
  },
  {
   "cell_type": "code",
   "execution_count": 58,
   "id": "37988cba-cbaf-4866-8393-9c5c396f86c8",
   "metadata": {},
   "outputs": [
    {
     "data": {
      "text/html": [
       "<div>\n",
       "<style scoped>\n",
       "    .dataframe tbody tr th:only-of-type {\n",
       "        vertical-align: middle;\n",
       "    }\n",
       "\n",
       "    .dataframe tbody tr th {\n",
       "        vertical-align: top;\n",
       "    }\n",
       "\n",
       "    .dataframe thead th {\n",
       "        text-align: right;\n",
       "    }\n",
       "</style>\n",
       "<table border=\"1\" class=\"dataframe\">\n",
       "  <thead>\n",
       "    <tr style=\"text-align: right;\">\n",
       "      <th></th>\n",
       "      <th>utterance</th>\n",
       "    </tr>\n",
       "  </thead>\n",
       "  <tbody>\n",
       "    <tr>\n",
       "      <th>0</th>\n",
       "      <td>I remember going to see the fireworks with my ...</td>\n",
       "    </tr>\n",
       "    <tr>\n",
       "      <th>1</th>\n",
       "      <td>My girlfriend got me a pet toad today!|Do you ...</td>\n",
       "    </tr>\n",
       "    <tr>\n",
       "      <th>2</th>\n",
       "      <td>I really like the new paint job on my house.|T...</td>\n",
       "    </tr>\n",
       "    <tr>\n",
       "      <th>3</th>\n",
       "      <td>I went to the skating rink all by myself today...</td>\n",
       "    </tr>\n",
       "    <tr>\n",
       "      <th>4</th>\n",
       "      <td>I was walking on the road. I saw a beggar and ...</td>\n",
       "    </tr>\n",
       "    <tr>\n",
       "      <th>...</th>\n",
       "      <td>...</td>\n",
       "    </tr>\n",
       "    <tr>\n",
       "      <th>17834</th>\n",
       "      <td>So I went skydiving for the first time the oth...</td>\n",
       "    </tr>\n",
       "    <tr>\n",
       "      <th>17835</th>\n",
       "      <td>I believe I did rather well on my Law School A...</td>\n",
       "    </tr>\n",
       "    <tr>\n",
       "      <th>17836</th>\n",
       "      <td>I was shocked when Lebron left the cavs again!...</td>\n",
       "    </tr>\n",
       "    <tr>\n",
       "      <th>17837</th>\n",
       "      <td>I cheated on a test. I am very ashamed.|oh no ...</td>\n",
       "    </tr>\n",
       "    <tr>\n",
       "      <th>17838</th>\n",
       "      <td>Once when I was in preschool_comma_ my pants f...</td>\n",
       "    </tr>\n",
       "  </tbody>\n",
       "</table>\n",
       "<p>17839 rows × 1 columns</p>\n",
       "</div>"
      ],
      "text/plain": [
       "                                               utterance\n",
       "0      I remember going to see the fireworks with my ...\n",
       "1      My girlfriend got me a pet toad today!|Do you ...\n",
       "2      I really like the new paint job on my house.|T...\n",
       "3      I went to the skating rink all by myself today...\n",
       "4      I was walking on the road. I saw a beggar and ...\n",
       "...                                                  ...\n",
       "17834  So I went skydiving for the first time the oth...\n",
       "17835  I believe I did rather well on my Law School A...\n",
       "17836  I was shocked when Lebron left the cavs again!...\n",
       "17837  I cheated on a test. I am very ashamed.|oh no ...\n",
       "17838  Once when I was in preschool_comma_ my pants f...\n",
       "\n",
       "[17839 rows x 1 columns]"
      ]
     },
     "execution_count": 58,
     "metadata": {},
     "output_type": "execute_result"
    }
   ],
   "source": [
    "concat_df[[\"utterance\"]]."
   ]
  },
  {
   "cell_type": "code",
   "execution_count": 12,
   "id": "29e41026-df9d-4bab-93a7-7396d6229e68",
   "metadata": {},
   "outputs": [],
   "source": [
    "counselchat_data = pd.read_csv(\"../../data/counsel_chat/counselchat-data.csv\")"
   ]
  },
  {
   "cell_type": "code",
   "execution_count": 13,
   "id": "04c52ca2-eb14-4f6d-8a6a-1f943353c653",
   "metadata": {},
   "outputs": [
    {
     "data": {
      "text/plain": [
       "(1482, 9)"
      ]
     },
     "execution_count": 13,
     "metadata": {},
     "output_type": "execute_result"
    }
   ],
   "source": [
    "counselchat_data.shape"
   ]
  },
  {
   "cell_type": "code",
   "execution_count": 14,
   "id": "12256966-e158-4f2d-b411-a5be43f6a076",
   "metadata": {},
   "outputs": [
    {
     "data": {
      "text/html": [
       "<div>\n",
       "<style scoped>\n",
       "    .dataframe tbody tr th:only-of-type {\n",
       "        vertical-align: middle;\n",
       "    }\n",
       "\n",
       "    .dataframe tbody tr th {\n",
       "        vertical-align: top;\n",
       "    }\n",
       "\n",
       "    .dataframe thead th {\n",
       "        text-align: right;\n",
       "    }\n",
       "</style>\n",
       "<table border=\"1\" class=\"dataframe\">\n",
       "  <thead>\n",
       "    <tr style=\"text-align: right;\">\n",
       "      <th></th>\n",
       "      <th>questionID</th>\n",
       "      <th>questionTitle</th>\n",
       "      <th>questionText</th>\n",
       "      <th>questionUrl</th>\n",
       "      <th>topics</th>\n",
       "      <th>therapistName</th>\n",
       "      <th>therapistUrl</th>\n",
       "      <th>answerText</th>\n",
       "      <th>upvotes</th>\n",
       "    </tr>\n",
       "  </thead>\n",
       "  <tbody>\n",
       "    <tr>\n",
       "      <th>0</th>\n",
       "      <td>5566fab2a64752d71ec3ca69</td>\n",
       "      <td>Escalating disagreements between mother and wife</td>\n",
       "      <td>My wife and mother are having tense disagreeme...</td>\n",
       "      <td>https://counselchat.com/questions/escalating-d...</td>\n",
       "      <td>Family Conflict</td>\n",
       "      <td>Kristi King-Morgan, LMSW</td>\n",
       "      <td>https://counselchat.com/therapists/kristi-king...</td>\n",
       "      <td>&lt;p&gt;What you are describing is something psycho...</td>\n",
       "      <td>0</td>\n",
       "    </tr>\n",
       "    <tr>\n",
       "      <th>1</th>\n",
       "      <td>5566f94fa64752d71ec3ca64</td>\n",
       "      <td>I'm addicted to smoking. How can I stop?</td>\n",
       "      <td>I'm planning to have baby, so I have to quit s...</td>\n",
       "      <td>https://counselchat.com/questions/i-m-addicted...</td>\n",
       "      <td>Substance Abuse,Addiction</td>\n",
       "      <td>Rebecca Duellman</td>\n",
       "      <td>https://counselchat.com/therapists/rebecca-due...</td>\n",
       "      <td>&lt;p&gt;Hi. Good for you in planning ahead to do wh...</td>\n",
       "      <td>0</td>\n",
       "    </tr>\n",
       "    <tr>\n",
       "      <th>2</th>\n",
       "      <td>5567d26887a1cc0c3f3d8f46</td>\n",
       "      <td>Keeping secrets from my family</td>\n",
       "      <td>I have secrets in my mind, and I don't know wh...</td>\n",
       "      <td>https://counselchat.com/questions/keeping-secr...</td>\n",
       "      <td>Family Conflict</td>\n",
       "      <td>Jeevna Bajaj</td>\n",
       "      <td>https://counselchat.com/therapists/jeevna-bajaj</td>\n",
       "      <td>&lt;p&gt;It sounds like keeping the secrets has beco...</td>\n",
       "      <td>0</td>\n",
       "    </tr>\n",
       "    <tr>\n",
       "      <th>3</th>\n",
       "      <td>556bed15c969ba5861709df5</td>\n",
       "      <td>The Underlying Causes of Being Possessive</td>\n",
       "      <td>I am extremely possessive in my relationships ...</td>\n",
       "      <td>https://counselchat.com/questions/the-underlyi...</td>\n",
       "      <td>Behavioral Change,Social Relationships</td>\n",
       "      <td>Rebecca Duellman</td>\n",
       "      <td>https://counselchat.com/therapists/rebecca-due...</td>\n",
       "      <td>&lt;p&gt;Hi there. It's great you are able to realiz...</td>\n",
       "      <td>0</td>\n",
       "    </tr>\n",
       "    <tr>\n",
       "      <th>4</th>\n",
       "      <td>556ba115c969ba5861709de6</td>\n",
       "      <td>Can I control anxiety without medication?</td>\n",
       "      <td>I had a head injury a few years ago and my min...</td>\n",
       "      <td>https://counselchat.com/questions/can-i-contro...</td>\n",
       "      <td>Anxiety</td>\n",
       "      <td>Rebecca Duellman</td>\n",
       "      <td>https://counselchat.com/therapists/rebecca-due...</td>\n",
       "      <td>&lt;p&gt;You didn't say what or how many medications...</td>\n",
       "      <td>0</td>\n",
       "    </tr>\n",
       "  </tbody>\n",
       "</table>\n",
       "</div>"
      ],
      "text/plain": [
       "                 questionID                                     questionTitle  \\\n",
       "0  5566fab2a64752d71ec3ca69  Escalating disagreements between mother and wife   \n",
       "1  5566f94fa64752d71ec3ca64          I'm addicted to smoking. How can I stop?   \n",
       "2  5567d26887a1cc0c3f3d8f46                    Keeping secrets from my family   \n",
       "3  556bed15c969ba5861709df5         The Underlying Causes of Being Possessive   \n",
       "4  556ba115c969ba5861709de6         Can I control anxiety without medication?   \n",
       "\n",
       "                                        questionText  \\\n",
       "0  My wife and mother are having tense disagreeme...   \n",
       "1  I'm planning to have baby, so I have to quit s...   \n",
       "2  I have secrets in my mind, and I don't know wh...   \n",
       "3  I am extremely possessive in my relationships ...   \n",
       "4  I had a head injury a few years ago and my min...   \n",
       "\n",
       "                                         questionUrl  \\\n",
       "0  https://counselchat.com/questions/escalating-d...   \n",
       "1  https://counselchat.com/questions/i-m-addicted...   \n",
       "2  https://counselchat.com/questions/keeping-secr...   \n",
       "3  https://counselchat.com/questions/the-underlyi...   \n",
       "4  https://counselchat.com/questions/can-i-contro...   \n",
       "\n",
       "                                   topics             therapistName  \\\n",
       "0                         Family Conflict  Kristi King-Morgan, LMSW   \n",
       "1               Substance Abuse,Addiction          Rebecca Duellman   \n",
       "2                         Family Conflict              Jeevna Bajaj   \n",
       "3  Behavioral Change,Social Relationships          Rebecca Duellman   \n",
       "4                                 Anxiety          Rebecca Duellman   \n",
       "\n",
       "                                        therapistUrl  \\\n",
       "0  https://counselchat.com/therapists/kristi-king...   \n",
       "1  https://counselchat.com/therapists/rebecca-due...   \n",
       "2    https://counselchat.com/therapists/jeevna-bajaj   \n",
       "3  https://counselchat.com/therapists/rebecca-due...   \n",
       "4  https://counselchat.com/therapists/rebecca-due...   \n",
       "\n",
       "                                          answerText  upvotes  \n",
       "0  <p>What you are describing is something psycho...        0  \n",
       "1  <p>Hi. Good for you in planning ahead to do wh...        0  \n",
       "2  <p>It sounds like keeping the secrets has beco...        0  \n",
       "3  <p>Hi there. It's great you are able to realiz...        0  \n",
       "4  <p>You didn't say what or how many medications...        0  "
      ]
     },
     "execution_count": 14,
     "metadata": {},
     "output_type": "execute_result"
    }
   ],
   "source": [
    "counselchat_data.head(5)"
   ]
  },
  {
   "cell_type": "code",
   "execution_count": 16,
   "id": "58ab4af7-15d1-4de9-9bd0-42b78bdf90f0",
   "metadata": {},
   "outputs": [
    {
     "data": {
      "text/html": [
       "<div>\n",
       "<style scoped>\n",
       "    .dataframe tbody tr th:only-of-type {\n",
       "        vertical-align: middle;\n",
       "    }\n",
       "\n",
       "    .dataframe tbody tr th {\n",
       "        vertical-align: top;\n",
       "    }\n",
       "\n",
       "    .dataframe thead th {\n",
       "        text-align: right;\n",
       "    }\n",
       "</style>\n",
       "<table border=\"1\" class=\"dataframe\">\n",
       "  <thead>\n",
       "    <tr style=\"text-align: right;\">\n",
       "      <th></th>\n",
       "      <th>questionText</th>\n",
       "      <th>answerText</th>\n",
       "    </tr>\n",
       "  </thead>\n",
       "  <tbody>\n",
       "    <tr>\n",
       "      <th>0</th>\n",
       "      <td>My wife and mother are having tense disagreeme...</td>\n",
       "      <td>&lt;p&gt;What you are describing is something psycho...</td>\n",
       "    </tr>\n",
       "    <tr>\n",
       "      <th>1</th>\n",
       "      <td>I'm planning to have baby, so I have to quit s...</td>\n",
       "      <td>&lt;p&gt;Hi. Good for you in planning ahead to do wh...</td>\n",
       "    </tr>\n",
       "    <tr>\n",
       "      <th>2</th>\n",
       "      <td>I have secrets in my mind, and I don't know wh...</td>\n",
       "      <td>&lt;p&gt;It sounds like keeping the secrets has beco...</td>\n",
       "    </tr>\n",
       "    <tr>\n",
       "      <th>3</th>\n",
       "      <td>I am extremely possessive in my relationships ...</td>\n",
       "      <td>&lt;p&gt;Hi there. It's great you are able to realiz...</td>\n",
       "    </tr>\n",
       "    <tr>\n",
       "      <th>4</th>\n",
       "      <td>I had a head injury a few years ago and my min...</td>\n",
       "      <td>&lt;p&gt;You didn't say what or how many medications...</td>\n",
       "    </tr>\n",
       "    <tr>\n",
       "      <th>...</th>\n",
       "      <td>...</td>\n",
       "      <td>...</td>\n",
       "    </tr>\n",
       "    <tr>\n",
       "      <th>1477</th>\n",
       "      <td>My grandson's step-mother sends him to school ...</td>\n",
       "      <td>&lt;p&gt;Absolutely not!&amp;nbsp;&lt;/p&gt;&lt;p&gt;It is never in ...</td>\n",
       "    </tr>\n",
       "    <tr>\n",
       "      <th>1478</th>\n",
       "      <td>My boyfriend is in recovery from drug addictio...</td>\n",
       "      <td>&lt;p&gt;I'm sorry you have tension between you and ...</td>\n",
       "    </tr>\n",
       "    <tr>\n",
       "      <th>1479</th>\n",
       "      <td>The birth mother attempted suicide several tim...</td>\n",
       "      <td>&lt;p&gt;The true answer is, \"no one can really say ...</td>\n",
       "    </tr>\n",
       "    <tr>\n",
       "      <th>1480</th>\n",
       "      <td>I think adult life is making him depressed and...</td>\n",
       "      <td>&lt;p&gt;How do you help yourself to believe you req...</td>\n",
       "    </tr>\n",
       "    <tr>\n",
       "      <th>1481</th>\n",
       "      <td>I just took a job that requires me to travel f...</td>\n",
       "      <td>&lt;p&gt;hmm this is a tough one!&lt;/p&gt;</td>\n",
       "    </tr>\n",
       "  </tbody>\n",
       "</table>\n",
       "<p>1482 rows × 2 columns</p>\n",
       "</div>"
      ],
      "text/plain": [
       "                                           questionText  \\\n",
       "0     My wife and mother are having tense disagreeme...   \n",
       "1     I'm planning to have baby, so I have to quit s...   \n",
       "2     I have secrets in my mind, and I don't know wh...   \n",
       "3     I am extremely possessive in my relationships ...   \n",
       "4     I had a head injury a few years ago and my min...   \n",
       "...                                                 ...   \n",
       "1477  My grandson's step-mother sends him to school ...   \n",
       "1478  My boyfriend is in recovery from drug addictio...   \n",
       "1479  The birth mother attempted suicide several tim...   \n",
       "1480  I think adult life is making him depressed and...   \n",
       "1481  I just took a job that requires me to travel f...   \n",
       "\n",
       "                                             answerText  \n",
       "0     <p>What you are describing is something psycho...  \n",
       "1     <p>Hi. Good for you in planning ahead to do wh...  \n",
       "2     <p>It sounds like keeping the secrets has beco...  \n",
       "3     <p>Hi there. It's great you are able to realiz...  \n",
       "4     <p>You didn't say what or how many medications...  \n",
       "...                                                 ...  \n",
       "1477  <p>Absolutely not!&nbsp;</p><p>It is never in ...  \n",
       "1478  <p>I'm sorry you have tension between you and ...  \n",
       "1479  <p>The true answer is, \"no one can really say ...  \n",
       "1480  <p>How do you help yourself to believe you req...  \n",
       "1481                    <p>hmm this is a tough one!</p>  \n",
       "\n",
       "[1482 rows x 2 columns]"
      ]
     },
     "execution_count": 16,
     "metadata": {},
     "output_type": "execute_result"
    }
   ],
   "source": [
    "counselchat_data[[\"questionText\", \"answerText\"]]"
   ]
  },
  {
   "cell_type": "code",
   "execution_count": 24,
   "id": "89690217-cf24-41b3-ad0d-0f30f9fa62dd",
   "metadata": {},
   "outputs": [
    {
     "data": {
      "text/plain": [
       "\"<p>What you are describing is something psychologists have termed &#34;triangulation&#34; which is what happens when one family member will not talk to the one they have a problem with and goes to a third member of the family to complain instead. You have been &#34;triangulated&#34; by your wife and mother.</p><p>This is often seen in families. It's seen everywhere. How many times have you had a problem with someone but you didn't go to them to tell them, you went to someone else to complain? It is usually difficult for a person to confront another, especially in relationships where there is a power differential. For example, I bet it's easier to complain to a coworker about your boss rather than go to the boss with your complaint.</p><p>I'm not saying triangulation is always a bad thing. Sometimes a third party mediator is needed to help solve problems between two people who disagree. That's what therapists do every day! Sometimes just getting someone else's perspective can help you see the issue clearer. However, in your situation it sounds like this is becoming a problem. You are stuck in the middle between two people that love you and that you love.</p><p>If you want to put a stop to this triangulation, you will need to encourage the two of them to talk to each other and work out their differences. Perhaps it was a simple misunderstanding that some open communication can clear up. Even if they really don't like each other and can't get along, your relationship with the both of them is going to continue to deteriorate the longer you are stuck in the middle.\\xa0</p><p>Try to understand what might be the feelings behind their behavior. It is possible that they may both feel threatened by the other. These are the two most important women in your life and they both know it. Your mother may be afraid that she will lose you if she confronts your wife. I heard one mother-in-law describe her son's wife as the gateway to her son. The wife has the power to dictate when and how often the mother gets to see her son. The wife also is the gateway to the grandchildren. If your wife doesn't like her mother-in-law she can severely hamper or damage her mother-in-law's relationship with you and any children you two may have. From your wife's viewpoint, this is the woman that she may feel like she can never live up to. If you regularly praise your mom's cooking, her housework, gardening, or anything else your wife may feel that you are putting down her own efforts in these areas and can feel unappreciated. This can be especially difficult if your wife and mother are nothing alike. I am not saying that this is the case with your family's situation. These are just a few examples from other families in a similar situation as yours.\\xa0</p><p>Regardless of what the cause is, if this dysfunctional pattern is allowed to continue, your mom and your wife will begin to get upset with you when you don't agree with them. They will get upset if you don't align yourself with them against the other. They will be offended when it seems like you are choosing the other one's side or that you are not standing up for them like they think you should. In worst cases, if it continues to escalate you may even find yourself in the impossible position of having to choose between your wife and your mother which may mean cutting off contact with the other, ending that relationship. Change the dynamics before it spirals even further.</p>\""
      ]
     },
     "execution_count": 24,
     "metadata": {},
     "output_type": "execute_result"
    }
   ],
   "source": [
    "answer_text = counselchat_data[[\"questionText\", \"answerText\"]].iloc[0][\"answerText\"]\n",
    "answer_text"
   ]
  },
  {
   "cell_type": "code",
   "execution_count": 25,
   "id": "66608c1b-1847-4486-be89-d93669fb51e3",
   "metadata": {},
   "outputs": [],
   "source": [
    "from bs4 import BeautifulSoup\n",
    "\n",
    "soup = BeautifulSoup(answer_text, \"html.parser\")"
   ]
  },
  {
   "cell_type": "code",
   "execution_count": 27,
   "id": "bbd94f0d-a91d-4130-bf0e-682abf9e961b",
   "metadata": {},
   "outputs": [
    {
     "data": {
      "text/plain": [
       "[<p>What you are describing is something psychologists have termed \"triangulation\" which is what happens when one family member will not talk to the one they have a problem with and goes to a third member of the family to complain instead. You have been \"triangulated\" by your wife and mother.</p>,\n",
       " <p>This is often seen in families. It's seen everywhere. How many times have you had a problem with someone but you didn't go to them to tell them, you went to someone else to complain? It is usually difficult for a person to confront another, especially in relationships where there is a power differential. For example, I bet it's easier to complain to a coworker about your boss rather than go to the boss with your complaint.</p>,\n",
       " <p>I'm not saying triangulation is always a bad thing. Sometimes a third party mediator is needed to help solve problems between two people who disagree. That's what therapists do every day! Sometimes just getting someone else's perspective can help you see the issue clearer. However, in your situation it sounds like this is becoming a problem. You are stuck in the middle between two people that love you and that you love.</p>,\n",
       " <p>If you want to put a stop to this triangulation, you will need to encourage the two of them to talk to each other and work out their differences. Perhaps it was a simple misunderstanding that some open communication can clear up. Even if they really don't like each other and can't get along, your relationship with the both of them is going to continue to deteriorate the longer you are stuck in the middle. </p>,\n",
       " <p>Try to understand what might be the feelings behind their behavior. It is possible that they may both feel threatened by the other. These are the two most important women in your life and they both know it. Your mother may be afraid that she will lose you if she confronts your wife. I heard one mother-in-law describe her son's wife as the gateway to her son. The wife has the power to dictate when and how often the mother gets to see her son. The wife also is the gateway to the grandchildren. If your wife doesn't like her mother-in-law she can severely hamper or damage her mother-in-law's relationship with you and any children you two may have. From your wife's viewpoint, this is the woman that she may feel like she can never live up to. If you regularly praise your mom's cooking, her housework, gardening, or anything else your wife may feel that you are putting down her own efforts in these areas and can feel unappreciated. This can be especially difficult if your wife and mother are nothing alike. I am not saying that this is the case with your family's situation. These are just a few examples from other families in a similar situation as yours. </p>,\n",
       " <p>Regardless of what the cause is, if this dysfunctional pattern is allowed to continue, your mom and your wife will begin to get upset with you when you don't agree with them. They will get upset if you don't align yourself with them against the other. They will be offended when it seems like you are choosing the other one's side or that you are not standing up for them like they think you should. In worst cases, if it continues to escalate you may even find yourself in the impossible position of having to choose between your wife and your mother which may mean cutting off contact with the other, ending that relationship. Change the dynamics before it spirals even further.</p>]"
      ]
     },
     "execution_count": 27,
     "metadata": {},
     "output_type": "execute_result"
    }
   ],
   "source": [
    "soup.find_all(\"p\")"
   ]
  },
  {
   "cell_type": "code",
   "execution_count": 17,
   "id": "882df722-df3c-490b-b02d-26ee0bdccca0",
   "metadata": {},
   "outputs": [],
   "source": [
    "import json"
   ]
  },
  {
   "cell_type": "code",
   "execution_count": 18,
   "id": "2dc6cf8d-ee1f-4718-a786-735e06e4526b",
   "metadata": {},
   "outputs": [],
   "source": [
    "with open(\"../../data/counsel_chat/counsel_chat_250-tokens_full.json\") as fp:\n",
    "    data = json.load(fp)"
   ]
  },
  {
   "cell_type": "code",
   "execution_count": 3,
   "id": "25a1cb77-c265-4d58-8fe2-9991fdacb38a",
   "metadata": {
    "scrolled": true,
    "tags": []
   },
   "outputs": [
    {
     "data": {
      "text/plain": [
       "dict_keys(['train', 'valid'])"
      ]
     },
     "execution_count": 3,
     "metadata": {},
     "output_type": "execute_result"
    }
   ],
   "source": [
    "data.keys()"
   ]
  },
  {
   "cell_type": "code",
   "execution_count": 10,
   "id": "f672e3f9-f5cb-4561-97c2-6c030b8ee096",
   "metadata": {},
   "outputs": [
    {
     "name": "stdout",
     "output_type": "stream",
     "text": [
      "training_examples: 1839\n",
      "valid_examples: 173\n"
     ]
    }
   ],
   "source": [
    "print(\"training_examples: {num_train}\\nvalid_examples: {num_val}\".format(num_train=len(data[\"train\"]), num_val=len(data[\"valid\"])))"
   ]
  },
  {
   "cell_type": "code",
   "execution_count": 60,
   "id": "632e1c49-d0e9-426f-999c-89413b416d0e",
   "metadata": {
    "scrolled": true,
    "tags": []
   },
   "outputs": [
    {
     "data": {
      "text/plain": [
       "[{'personality': [''],\n",
       "  'utterances': [{'history': [\"can i change my feeling of being worthless to everyone ? i ' m going through some things with my feelings and myself . i barely sleep and i do nothing but think about how i ' m worthless and how i shouldn ' t be here . i ' ve never tried or contemplated suicide . i ' ve always wanted to fix my issues , but i never get around to it . how can i change my feeling of being worthless to everyone ?\"],\n",
       "    'candidates': ['maybe lower your expectations for a bit',\n",
       "     'if you are whole - heartedly committed to moving past the sexual and romantic parts of your relationship and just having a friendship than refraining from all the touching would be a good place to start',\n",
       "     'very often , one person wants to deal with the conflict right away or shortly thereafter and the other person wants to wait',\n",
       "     '\" my best guess is that your boyfriend is triggered by some previous relationship , either romantic or in childhood',\n",
       "     'can he do that for you',\n",
       "     '\" friend \" is a broad category',\n",
       "     'in general , i usually let the client decide when this should occur , sometimes with some clients it will be a joint agreement , but even in that case it should weigh mostly on what the client feels',\n",
       "     'who takes care of your son , is a significant part of getting over your heartbreak',\n",
       "     \"if everyone thinks you ' re worthless , then maybe you need to find new people to hang out with . seriously , the social context in which a person lives is a big influence in self - esteem . otherwise , you can go round and round trying to understand why you ' re not worthless , then go back to the same crowd and be knocked down again . there are many inspirational messages you can find in social media . maybe read some of the ones which state that no person is worthless , and that everyone has a good purpose to their life . also , since our culture is so saturated with the belief that if someone doesn ' t feel good about themselves that this is somehow terrible . bad feelings are part of living . they are the motivation to remove ourselves from situations and relationships which do us more harm than good . bad feelings do feel terrible . your feeling of worthlessness may be good in the sense of motivating you to find out that you are much better than your feelings today .\"]}]},\n",
       " {'personality': [''],\n",
       "  'utterances': [{'history': [\"can i change my feeling of being worthless to everyone ? i ' m going through some things with my feelings and myself . i barely sleep and i do nothing but think about how i ' m worthless and how i shouldn ' t be here . i ' ve never tried or contemplated suicide . i ' ve always wanted to fix my issues , but i never get around to it . how can i change my feeling of being worthless to everyone ?\"],\n",
       "    'candidates': ['suicide is a very traumatic loss and affects survivors significantly',\n",
       "     'encontrar un consejero escolar o hablar con tu pediatra puede ser el primer paso para obtener las herramientas que te ayudaran a alcanzar tus metas de salud fisica y emocional',\n",
       "     'you have some social anxiety that is a bit beyond what the average person might feel',\n",
       "     'until you attract a partner who will love and appreciate you , develop relationships with co - workers and classmates , neighbors , so that you have some quality of giving and being given by someone',\n",
       "     'through family therapy , you could address family dynamics , negotiate solutions to current family or individual challenges and identify ways to support each other',\n",
       "     'bring peace to these feelings and commit to move on to provide your mom love',\n",
       "     'then you would look for a bereavement or grief specialist',\n",
       "     'i recommend you see a therapist who does cognitive behavioural therapy , which can help you understand the roots of your fears and learn how to manage them more successfully',\n",
       "     'hello , and thank you for your question and seeking advice on this . feelings of worthlessness is unfortunately common . in fact , most people , if not all , have felt this to some degree at some point in their life . you are not alone . changing our feelings is like changing our thoughts - it \\' s hard to do . our minds are so amazing that the minute you change your thought another one can be right there to take it \\' s place . without your permission , another thought can just pop in there . the new thought may feel worse than the last one ! my guess is that you have tried several things to improve this on your own even before reaching out on here . people often try thinking positive thoughts , debating with their thoughts , or simply telling themselves that they need to \" snap out of it \" - which is also a thought that carries some self - criticism . some people try a different approach , and there are counselors out there that can help you with this . the idea is that instead of trying to change the thoughts , you change how you respond to them . you learn skills that allow you to manage difficult thoughts and feelings differently so they don \\' t have the same impact on you that they do right now . for some people , they']}]},\n",
       " {'personality': [''],\n",
       "  'utterances': [{'history': [\"can i change my feeling of being worthless to everyone ? i ' m going through some things with my feelings and myself . i barely sleep and i do nothing but think about how i ' m worthless and how i shouldn ' t be here . i ' ve never tried or contemplated suicide . i ' ve always wanted to fix my issues , but i never get around to it . how can i change my feeling of being worthless to everyone ?\"],\n",
       "    'candidates': ['i am not averse to religion , i just think that many times it puts unreasonable expectations on us and helps us to form a guilt complex or perhaps even insecurities , we are humans and humans make mistakes',\n",
       "     'hi pocahontas , this is a painful situation',\n",
       "     '\" the other creatures laughed and said , \" fool',\n",
       "     'they are keeping us \" stuck \" and creating a self - prophization',\n",
       "     'i would recommend that you find a counselor who specializes in trauma , sexual trauma and / or emdr ( a type of therapy that is proven to have a strong impact on healing from trauma )',\n",
       "     \"saying these to yourself everyday over and over ( even if at first you don ' t believe ) can retrain our brains to believe it ( and allow us to believe it )\",\n",
       "     'good luck',\n",
       "     'only you can decide what is right for you',\n",
       "     \"first thing i ' d suggest is getting the sleep you need or it will impact how you think and feel . i ' d look at finding what is going well in your life and what you can be grateful for . i believe everyone has talents and wants to find their purpose in life . i think you can figure it out with some help .\"]}]},\n",
       " {'personality': [''],\n",
       "  'utterances': [{'history': [\"can i change my feeling of being worthless to everyone ? i ' m going through some things with my feelings and myself . i barely sleep and i do nothing but think about how i ' m worthless and how i shouldn ' t be here . i ' ve never tried or contemplated suicide . i ' ve always wanted to fix my issues , but i never get around to it . how can i change my feeling of being worthless to everyone ?\"],\n",
       "    'candidates': ['i am sorry to hear about your daughter',\n",
       "     'both self - diagnosing and being diagnosed are equally unhelpful to know why you are the way you are and what to do about it',\n",
       "     'you flirted with danger ; both of you',\n",
       "     \"it doesn ' t matter how small it may seem\",\n",
       "     'counseling ends when the client has received the maximum benefit from the therapist',\n",
       "     \"instead , consider your own unique qualities including your fears of being recognized as adding value to people ' s lives\",\n",
       "     'find something that feels important and commit to it',\n",
       "     'this is just an example but if you actively work to replace the negative thought patterns that effect your behavior , studies show that your overall outlook and mood will improve',\n",
       "     'therapy is essential for those that are feeling depressed and worthless . when i work with those that are experiencing concerns related to feeling of depression and issues with self esteem . i generally work with my client to help build coping skills to reduce level of depression and to assist with strengthening self esteem , by guiding my client with cbt practices . cbt helps with gaining a better awareness of how your thought process influences your belief system , and how your beliefs impact your actions and the outcome of your behaviors . this process isn ’ t easy but it helps teach an individual that we don ’ t always have control over what happens in our lives but we can control how we interpret , feel , and behave . cbt is good for individuals dealing with depression , anxiety , toxic relationships , stress , self esteem , codependency , etc .']}]},\n",
       " {'personality': [''],\n",
       "  'utterances': [{'history': [\"can i change my feeling of being worthless to everyone ? i ' m going through some things with my feelings and myself . i barely sleep and i do nothing but think about how i ' m worthless and how i shouldn ' t be here . i ' ve never tried or contemplated suicide . i ' ve always wanted to fix my issues , but i never get around to it . how can i change my feeling of being worthless to everyone ?\"],\n",
       "    'candidates': ['if you have to ask the question , does that say something about what you feel is the quality of the relationship',\n",
       "     'think about a few things : what do you want',\n",
       "     'if you were your own best friend , what would you say about your face',\n",
       "     'esto te ayudara a regular el desbalance quimico que afecta tu estado de animo , ademas de que te da tiempo para desahogarte y distraerte',\n",
       "     'is there something getting in the way for you',\n",
       "     'what made you two separate',\n",
       "     'you may find that it is something very common and not something to be ashamed of',\n",
       "     'have you told anyone',\n",
       "     'i first want to let you know that you are not alone in your feelings and there is always someone there to help . you can always change your feelings and change your way of thinking by being open to trying to change . you can always make yourself available to learning new things or volunteering so that you can make a purpose for yourself .']}]},\n",
       " {'personality': [''],\n",
       "  'utterances': [{'history': [\"can i change my feeling of being worthless to everyone ? i ' m going through some things with my feelings and myself . i barely sleep and i do nothing but think about how i ' m worthless and how i shouldn ' t be here . i ' ve never tried or contemplated suicide . i ' ve always wanted to fix my issues , but i never get around to it . how can i change my feeling of being worthless to everyone ?\"],\n",
       "    'candidates': ['i imagine that you must be going through your own difficult time too',\n",
       "     'by working with a therapist your daughter will have the opportunity to discuss her stress , fears , and focus on achievement with an objective person',\n",
       "     'if you feel tension or that somehow doing as you describe is wrong , then the first step is to identify the way you feel your methodology described above has a role in working against your best interest',\n",
       "     'there is help out there',\n",
       "     'i understand that gender and / or sexual identity crises can be very difficult to navigate , although in today ’ s time i think we have made a lot of progress and it is becoming easier for individuals to find themselves and also find acceptance from society',\n",
       "     'what this means is if you were to feel your emotions related to your rape , you would have a sense of being overwhelmed , possibly re - experiencing the traumatic event',\n",
       "     'but you may just be in search of self improvement and making yourself better , which is a great thing',\n",
       "     'no one knows what is going on inside of you as a result',\n",
       "     \"heck , sure thing , hun ! feelings of ' depression ' have a deeply - rooted base in physical structures that may not be functioning very well at present ; and , we can certainly turn them on again using means that you are able to find around the house and with relative ease : ) after that , emotional and spiritual support will be liberally applied .\"]}]},\n",
       " {'personality': [''],\n",
       "  'utterances': [{'history': [\"can i change my feeling of being worthless to everyone ? i ' m going through some things with my feelings and myself . i barely sleep and i do nothing but think about how i ' m worthless and how i shouldn ' t be here . i ' ve never tried or contemplated suicide . i ' ve always wanted to fix my issues , but i never get around to it . how can i change my feeling of being worthless to everyone ?\"],\n",
       "    'candidates': [\"among them are the client ' s inability to make forward progress in therapy ; the clinician ' s inability to help the client ( for a variety of reasons ) ; a mutually agreed upon time frame for a number of sessions to be provided ; or the financial challenges of the client who decides that they need to put their resources elsewhere\",\n",
       "     'in this case , the client is likely feeling that impending closure and has time to prepare mentally and emotionally from a place of being the client in therapy , to a place of healing , growth and situational resolution',\n",
       "     'anger is not necessarily a bad thing',\n",
       "     'misunderstood',\n",
       "     'the power of the affair comes from the feeling of injustice that seems to have happened to you',\n",
       "     'i think it \\' s important to remember that there is no \" right \" or \" wrong \" way to deal with loss and the \" best way \" for you may not be the best way for someone else',\n",
       "     'the more intently and with loving interest you are able to notice yourself , you will be gradually dissolving the layers of protective thoughts about intimacy being unsafe',\n",
       "     'do you feel criticized by your parents or family',\n",
       "     'you are exhibiting some specific traits of a particular temperament type . seek out a counselor who provides ncca temperament therapy and discover the joy of being you - - god loves you as you are !']}]},\n",
       " {'personality': [''],\n",
       "  'utterances': [{'history': [\"can i change my feeling of being worthless to everyone ? i ' m going through some things with my feelings and myself . i barely sleep and i do nothing but think about how i ' m worthless and how i shouldn ' t be here . i ' ve never tried or contemplated suicide . i ' ve always wanted to fix my issues , but i never get around to it . how can i change my feeling of being worthless to everyone ?\"],\n",
       "    'candidates': ['unless you think you have anxiety , do not let others predict your future',\n",
       "     \"while i follow that you would like your son to be unaware of what you are going through , that doesn ' t mean that you can ' t discuss your feelings with someone else\",\n",
       "     'if not , then you are learning an early lesson on how not everyone is necessarily supportive of others , and how disappointing this feels',\n",
       "     'if you feel the family people will listen to the way their words affect you , then definitely tell them',\n",
       "     'if you think about this time while holding onto the bead , the bead may remind you of a time when you felt happy',\n",
       "     'hello',\n",
       "     'congratulations on your new job',\n",
       "     'this is one of the hardest aspects to deal with in life but eventually you will be able to move forward',\n",
       "     'that is intense . depression is a liar . sometimes depression places these glasses over our eyes , these dark sunglasses that change how we see things . depression tells us things like \" you \\' re worthless \" \" no one likes you \" \" don \\' t worry about doing anything . \" and it is so easy for us to listen and to be tricked into thinking that just because we feel something means it is true . please know that even if you are feeling worthless right now , that doesn \\' t mean you are worthless . the first step to working through this is recognizing what is going on . recognizing when depression is telling you the same story ( ie ; being worthless ) with different words ( ie worthless here , worthless there ) and making an effort to talk back . while i can not give you a diagnosis of depression , reading what you are going through , it sounds like you might need help to get back on track . seeing a counselor can open an entirely new option up wherein someone who is not involved in your life can help you without judgement and with an objective perspective . this can do wonders in unwrapping these kinds of thoughts . wishing you the absolute best !']}]},\n",
       " {'personality': [''],\n",
       "  'utterances': [{'history': [\"can i change my feeling of being worthless to everyone ? i ' m going through some things with my feelings and myself . i barely sleep and i do nothing but think about how i ' m worthless and how i shouldn ' t be here . i ' ve never tried or contemplated suicide . i ' ve always wanted to fix my issues , but i never get around to it . how can i change my feeling of being worthless to everyone ?\"],\n",
       "    'candidates': ['depression , if dealt with for extended periods of time , can become a way of life , an identity of sorts , that is very difficult to part from',\n",
       "     'we all have a place in this world',\n",
       "     \"i would want to know more about the history of the child and any stressors you have gone through during the child ' s lifetime\",\n",
       "     'even if you have spectacular communication while in a long - distance relationship , it is difficult to maintain intimacy because you are lacking in the physical contact aspect of intimacy',\n",
       "     'while you desperately desire happiness , who would you be without the depression',\n",
       "     \"caregivers of alzheimer ' s patients need a lot of support themselves\",\n",
       "     'loneliness is so painful , and when we feel lonely , this can lead to fears that we are not worthy of love or that the world is just a cold and lonely place',\n",
       "     \"since we can ' t really control the nature of our dreams while they ' re happening , we try to alter them while we are in a waking state\",\n",
       "     \"it sounds like you may be putting yourself last . you wrote that you want to fix your issues but never get around to it . i wonder how you are spending your mental and physical energy . are you spending time taking care of and doing for others ? i also wonder where the thoughts and feelings of being worthless are coming from - are you around people who treat you poorly or are hurtful ? or do you feel it is more of a worry you have but aren ' t really sure how others feel ? it may be helpful to talk to someone about your feelings - a counselor perhaps - to clarify your feelings and move forward from se that are hurting you .\"]}]},\n",
       " {'personality': [''],\n",
       "  'utterances': [{'history': [\"can i change my feeling of being worthless to everyone ? i ' m going through some things with my feelings and myself . i barely sleep and i do nothing but think about how i ' m worthless and how i shouldn ' t be here . i ' ve never tried or contemplated suicide . i ' ve always wanted to fix my issues , but i never get around to it . how can i change my feeling of being worthless to everyone ?\"],\n",
       "    'candidates': ['clearly this is something that has you very concerned',\n",
       "     'this can help build sexual confidence',\n",
       "     'i hope this was helpful and please stay safe and take care of yourself',\n",
       "     'crying is something that some express when it ’ s hard to discuss situations that may have never been discussed , when discussing traumatic experiences , and at times crying has even happened to some of my past clients when they have had a breakthrough in their therapy process',\n",
       "     \"on some level he must know that he doesn ' t satisfy you\",\n",
       "     'secondly , make an appointment with a therapist who specializes in neurofeedback and biofeedback treatment',\n",
       "     'in some areas , you can dial 211 and find resources in the area that may be free of cost or low cost',\n",
       "     'i hope this was helpful and please stay safe and take care of yourself',\n",
       "     'it must be really difficult to experience what your going through right now . it takes a lot of courage to reach out . it sounds like you want to get better , but perhaps need some help to get over the hump . many of the symptoms you have described are consistent with a person who is dealing with depression . depression is a treatable condition . typically , if these symptoms have persisted for more than two weeks , then it is a good idea to seek professional help . someone who is trained in dealing with depression . initially , a comprehensive assessment would be completed to rule out any other causes for your symptoms and to determine the exact nature of your presenting concern . then , in collaboration with one another , a tailored treatment plan would be developed , focusing on how to best help you reach your goals . the good news is that their is hope for getting better ! you don ; t have to do it alone . allow me to be your ally in healing .']}]}]"
      ]
     },
     "execution_count": 60,
     "metadata": {},
     "output_type": "execute_result"
    }
   ],
   "source": [
    "data[\"train\"][:10]"
   ]
  },
  {
   "cell_type": "code",
   "execution_count": 59,
   "id": "10494d89-4a78-4255-932b-1e241fd98ce7",
   "metadata": {},
   "outputs": [
    {
     "data": {
      "text/plain": [
       "['marriage is a people growing process ; you mature into one another and to achieve fulfillment your continued development will be required',\n",
       " \"is it possible what you ' re feeling is from being reminded of great distress you lived through when you were at a similar age as the kids around whom you feel this sudden and great paranoia and fear\",\n",
       " 'if it is possible , see if he would be willing to go to a counselor with you',\n",
       " 'it is common with some types of seizures to have an altered state of reality during or shortly after the seizure , so that could also be related',\n",
       " 'allow yourself some time to reflect on how you feel toward your bf',\n",
       " 'i am wishing my very best to you',\n",
       " 'since you are aware of your tendencies and how the interfere with your life , try to become aware of when you do these habits',\n",
       " 'you know , it does sounds like you have imagined a motherly comfort figure for yourself',\n",
       " 'at present , the american disability association ( ada ) only allows protection and guiltiness for service animals , which is fall under a separate distinction from emotional support animals . emotional support animals are untrained animals ( typically pets or other domestic animals ) that provide wonderful services to their owners , and there are many benefits to having one . service animals who are trained to provide specific services for an individual with limitations that make them fall under what the ada defines as \" disabled \" are protected under specific laws , and must be accommodated in public places where the human they serve is present . while it may be beneficial to request that the therapist who \" prescribed \" the dog to you write a letter to the apartment manager , it sounds like the manager is aware of ada guidelines , and the simplest course of action may be to find an alternative residence , if that is a plausible option .']"
      ]
     },
     "execution_count": 59,
     "metadata": {},
     "output_type": "execute_result"
    }
   ],
   "source": [
    "data[\"train\"][100][\"utterances\"][0][\"candidates\"]"
   ]
  },
  {
   "cell_type": "code",
   "execution_count": 27,
   "id": "6876f544-678f-457c-978f-6ac4a029a39a",
   "metadata": {},
   "outputs": [
    {
     "data": {
      "text/plain": [
       "[\"my apartment manager won ' t let me keep an emotional support dog i have been diagnosed with general anxiety and depression by my family doctor . they wrote a prescription for me to have an emotional support dog , i have the paper work , and i gave it to my apartment manager . they said i can ' t keep the esd because i ' m not disabled . what do you suggest i do ?\"]"
      ]
     },
     "execution_count": 27,
     "metadata": {},
     "output_type": "execute_result"
    }
   ],
   "source": [
    "data[\"train\"][100][\"utterances\"][0][\"history\"]"
   ]
  },
  {
   "cell_type": "code",
   "execution_count": 61,
   "id": "dd5d85ae-5b13-4ae1-a6ef-c89ebc683ccc",
   "metadata": {},
   "outputs": [
    {
     "data": {
      "application/vnd.jupyter.widget-view+json": {
       "model_id": "032d5c87cebc45488274e50f73d1d82b",
       "version_major": 2,
       "version_minor": 0
      },
      "text/plain": [
       "Downloading:   0%|          | 0.00/0.98k [00:00<?, ?B/s]"
      ]
     },
     "metadata": {},
     "output_type": "display_data"
    },
    {
     "data": {
      "application/vnd.jupyter.widget-view+json": {
       "model_id": "ce0f96f48a934c58b810bd847b42a9e8",
       "version_major": 2,
       "version_minor": 0
      },
      "text/plain": [
       "Downloading:   0%|          | 0.00/313M [00:00<?, ?B/s]"
      ]
     },
     "metadata": {},
     "output_type": "display_data"
    },
    {
     "data": {
      "application/vnd.jupyter.widget-view+json": {
       "model_id": "295f1cf38ed740ee84649cf6f2f5d9cb",
       "version_major": 2,
       "version_minor": 0
      },
      "text/plain": [
       "Downloading:   0%|          | 0.00/294 [00:00<?, ?B/s]"
      ]
     },
     "metadata": {},
     "output_type": "display_data"
    },
    {
     "data": {
      "application/vnd.jupyter.widget-view+json": {
       "model_id": "4c079722505d4f5c836d124e5754d459",
       "version_major": 2,
       "version_minor": 0
      },
      "text/plain": [
       "Downloading:   0%|          | 0.00/780k [00:00<?, ?B/s]"
      ]
     },
     "metadata": {},
     "output_type": "display_data"
    },
    {
     "data": {
      "application/vnd.jupyter.widget-view+json": {
       "model_id": "d86ebce7b31e475a952b0dc87225641c",
       "version_major": 2,
       "version_minor": 0
      },
      "text/plain": [
       "Downloading:   0%|          | 0.00/446k [00:00<?, ?B/s]"
      ]
     },
     "metadata": {},
     "output_type": "display_data"
    },
    {
     "data": {
      "application/vnd.jupyter.widget-view+json": {
       "model_id": "c320c234c1ce43dfac7ad325ee12e510",
       "version_major": 2,
       "version_minor": 0
      },
      "text/plain": [
       "Downloading:   0%|          | 0.00/1.29M [00:00<?, ?B/s]"
      ]
     },
     "metadata": {},
     "output_type": "display_data"
    },
    {
     "data": {
      "application/vnd.jupyter.widget-view+json": {
       "model_id": "f2872c022aa0429286a2345e4eb5a709",
       "version_major": 2,
       "version_minor": 0
      },
      "text/plain": [
       "Downloading:   0%|          | 0.00/239 [00:00<?, ?B/s]"
      ]
     },
     "metadata": {},
     "output_type": "display_data"
    },
    {
     "data": {
      "text/plain": [
       "[[{'label': 'anger', 'score': 0.004419783595949411},\n",
       "  {'label': 'disgust', 'score': 0.0016119900392368436},\n",
       "  {'label': 'fear', 'score': 0.0004138521908316761},\n",
       "  {'label': 'joy', 'score': 0.9771687984466553},\n",
       "  {'label': 'neutral', 'score': 0.005764586851000786},\n",
       "  {'label': 'sadness', 'score': 0.002092392183840275},\n",
       "  {'label': 'surprise', 'score': 0.008528684265911579}]]"
      ]
     },
     "execution_count": 61,
     "metadata": {},
     "output_type": "execute_result"
    }
   ],
   "source": [
    "# https://huggingface.co/j-hartmann/emotion-english-distilroberta-base\n",
    "from transformers import pipeline\n",
    "classifier = pipeline(\"text-classification\", model=\"j-hartmann/emotion-english-distilroberta-base\", return_all_scores=True)\n",
    "classifier(\"I love this!\")"
   ]
  },
  {
   "cell_type": "code",
   "execution_count": 62,
   "id": "24187b14-65e0-4174-9d49-04741c05a4cf",
   "metadata": {},
   "outputs": [],
   "source": [
    "from datasets import load_dataset"
   ]
  },
  {
   "cell_type": "code",
   "execution_count": 63,
   "id": "4f65bc7e-a1e8-4e14-8eac-3a65999e05ac",
   "metadata": {},
   "outputs": [
    {
     "data": {
      "application/vnd.jupyter.widget-view+json": {
       "model_id": "165c823d688e42738e395ef272ad9646",
       "version_major": 2,
       "version_minor": 0
      },
      "text/plain": [
       "Downloading builder script:   0%|          | 0.00/1.38k [00:00<?, ?B/s]"
      ]
     },
     "metadata": {},
     "output_type": "display_data"
    },
    {
     "data": {
      "application/vnd.jupyter.widget-view+json": {
       "model_id": "c3ba5a2d3e6d4412b5dbec97f3a2846e",
       "version_major": 2,
       "version_minor": 0
      },
      "text/plain": [
       "Downloading metadata:   0%|          | 0.00/750 [00:00<?, ?B/s]"
      ]
     },
     "metadata": {},
     "output_type": "display_data"
    },
    {
     "name": "stderr",
     "output_type": "stream",
     "text": [
      "Using custom data configuration default\n"
     ]
    },
    {
     "name": "stdout",
     "output_type": "stream",
     "text": [
      "Downloading and preparing dataset empathetic_dialogues/default (download: 26.72 MiB, generated: 23.97 MiB, post-processed: Unknown size, total: 50.69 MiB) to /home/jovyan/.cache/huggingface/datasets/empathetic_dialogues/default/0.1.0/09bbeed3882a67db98c73952fb3c1c9a85af83dc78f81454c2454382fd03f6cf...\n"
     ]
    },
    {
     "data": {
      "application/vnd.jupyter.widget-view+json": {
       "model_id": "c6bd30d93d2c4ec49ebc86a4f302b268",
       "version_major": 2,
       "version_minor": 0
      },
      "text/plain": [
       "Downloading data:   0%|          | 0.00/28.0M [00:00<?, ?B/s]"
      ]
     },
     "metadata": {},
     "output_type": "display_data"
    },
    {
     "data": {
      "application/vnd.jupyter.widget-view+json": {
       "model_id": "",
       "version_major": 2,
       "version_minor": 0
      },
      "text/plain": [
       "Generating train split:   0%|          | 0/76673 [00:00<?, ? examples/s]"
      ]
     },
     "metadata": {},
     "output_type": "display_data"
    },
    {
     "data": {
      "application/vnd.jupyter.widget-view+json": {
       "model_id": "",
       "version_major": 2,
       "version_minor": 0
      },
      "text/plain": [
       "Generating validation split:   0%|          | 0/12030 [00:00<?, ? examples/s]"
      ]
     },
     "metadata": {},
     "output_type": "display_data"
    },
    {
     "data": {
      "application/vnd.jupyter.widget-view+json": {
       "model_id": "",
       "version_major": 2,
       "version_minor": 0
      },
      "text/plain": [
       "Generating test split:   0%|          | 0/10943 [00:00<?, ? examples/s]"
      ]
     },
     "metadata": {},
     "output_type": "display_data"
    },
    {
     "name": "stdout",
     "output_type": "stream",
     "text": [
      "Dataset empathetic_dialogues downloaded and prepared to /home/jovyan/.cache/huggingface/datasets/empathetic_dialogues/default/0.1.0/09bbeed3882a67db98c73952fb3c1c9a85af83dc78f81454c2454382fd03f6cf. Subsequent calls will reuse this data.\n"
     ]
    },
    {
     "data": {
      "application/vnd.jupyter.widget-view+json": {
       "model_id": "91004885088142ab89847b4293faa5c5",
       "version_major": 2,
       "version_minor": 0
      },
      "text/plain": [
       "  0%|          | 0/3 [00:00<?, ?it/s]"
      ]
     },
     "metadata": {},
     "output_type": "display_data"
    }
   ],
   "source": [
    "dataset = load_dataset(\"empathetic_dialogues\")"
   ]
  },
  {
   "cell_type": "code",
   "execution_count": 64,
   "id": "c590eb94-637c-427f-8b89-c52d77bfbdd7",
   "metadata": {},
   "outputs": [
    {
     "data": {
      "text/plain": [
       "DatasetDict({\n",
       "    train: Dataset({\n",
       "        features: ['conv_id', 'utterance_idx', 'context', 'prompt', 'speaker_idx', 'utterance', 'selfeval', 'tags'],\n",
       "        num_rows: 76673\n",
       "    })\n",
       "    validation: Dataset({\n",
       "        features: ['conv_id', 'utterance_idx', 'context', 'prompt', 'speaker_idx', 'utterance', 'selfeval', 'tags'],\n",
       "        num_rows: 12030\n",
       "    })\n",
       "    test: Dataset({\n",
       "        features: ['conv_id', 'utterance_idx', 'context', 'prompt', 'speaker_idx', 'utterance', 'selfeval', 'tags'],\n",
       "        num_rows: 10943\n",
       "    })\n",
       "})"
      ]
     },
     "execution_count": 64,
     "metadata": {},
     "output_type": "execute_result"
    }
   ],
   "source": [
    "dataset"
   ]
  },
  {
   "cell_type": "code",
   "execution_count": 67,
   "id": "9fa1609f-2f4f-4715-a800-013d89fa2642",
   "metadata": {},
   "outputs": [
    {
     "data": {
      "text/plain": [
       "{'conv_id': 'hit:0_conv:1',\n",
       " 'utterance_idx': 1,\n",
       " 'context': 'sentimental',\n",
       " 'prompt': 'I remember going to the fireworks with my best friend. There was a lot of people_comma_ but it only felt like us in the world.',\n",
       " 'speaker_idx': 1,\n",
       " 'utterance': 'I remember going to see the fireworks with my best friend. It was the first time we ever spent time alone together. Although there was a lot of people_comma_ we felt like the only people in the world.',\n",
       " 'selfeval': '5|5|5_2|2|5',\n",
       " 'tags': ''}"
      ]
     },
     "execution_count": 67,
     "metadata": {},
     "output_type": "execute_result"
    }
   ],
   "source": [
    "dataset[\"train\"][0]"
   ]
  },
  {
   "cell_type": "code",
   "execution_count": 68,
   "id": "c28a7764-e946-4280-9a36-b7d84dbaa3db",
   "metadata": {},
   "outputs": [
    {
     "data": {
      "text/html": [
       "<div>\n",
       "<style scoped>\n",
       "    .dataframe tbody tr th:only-of-type {\n",
       "        vertical-align: middle;\n",
       "    }\n",
       "\n",
       "    .dataframe tbody tr th {\n",
       "        vertical-align: top;\n",
       "    }\n",
       "\n",
       "    .dataframe thead th {\n",
       "        text-align: right;\n",
       "    }\n",
       "</style>\n",
       "<table border=\"1\" class=\"dataframe\">\n",
       "  <thead>\n",
       "    <tr style=\"text-align: right;\">\n",
       "      <th></th>\n",
       "      <th>conv_id</th>\n",
       "      <th>utterance_idx</th>\n",
       "      <th>context</th>\n",
       "      <th>prompt</th>\n",
       "      <th>speaker_idx</th>\n",
       "      <th>utterance</th>\n",
       "      <th>selfeval</th>\n",
       "      <th>tags</th>\n",
       "    </tr>\n",
       "  </thead>\n",
       "  <tbody>\n",
       "    <tr>\n",
       "      <th>0</th>\n",
       "      <td>hit:0_conv:1</td>\n",
       "      <td>1</td>\n",
       "      <td>sentimental</td>\n",
       "      <td>I remember going to the fireworks with my best...</td>\n",
       "      <td>1</td>\n",
       "      <td>I remember going to see the fireworks with my ...</td>\n",
       "      <td>5|5|5_2|2|5</td>\n",
       "      <td>NaN</td>\n",
       "    </tr>\n",
       "    <tr>\n",
       "      <th>1</th>\n",
       "      <td>hit:0_conv:1</td>\n",
       "      <td>2</td>\n",
       "      <td>sentimental</td>\n",
       "      <td>I remember going to the fireworks with my best...</td>\n",
       "      <td>0</td>\n",
       "      <td>Was this a friend you were in love with_comma_...</td>\n",
       "      <td>5|5|5_2|2|5</td>\n",
       "      <td>NaN</td>\n",
       "    </tr>\n",
       "    <tr>\n",
       "      <th>2</th>\n",
       "      <td>hit:0_conv:1</td>\n",
       "      <td>3</td>\n",
       "      <td>sentimental</td>\n",
       "      <td>I remember going to the fireworks with my best...</td>\n",
       "      <td>1</td>\n",
       "      <td>This was a best friend. I miss her.</td>\n",
       "      <td>5|5|5_2|2|5</td>\n",
       "      <td>NaN</td>\n",
       "    </tr>\n",
       "    <tr>\n",
       "      <th>3</th>\n",
       "      <td>hit:0_conv:1</td>\n",
       "      <td>4</td>\n",
       "      <td>sentimental</td>\n",
       "      <td>I remember going to the fireworks with my best...</td>\n",
       "      <td>0</td>\n",
       "      <td>Where has she gone?</td>\n",
       "      <td>5|5|5_2|2|5</td>\n",
       "      <td>NaN</td>\n",
       "    </tr>\n",
       "    <tr>\n",
       "      <th>4</th>\n",
       "      <td>hit:0_conv:1</td>\n",
       "      <td>5</td>\n",
       "      <td>sentimental</td>\n",
       "      <td>I remember going to the fireworks with my best...</td>\n",
       "      <td>1</td>\n",
       "      <td>We no longer talk.</td>\n",
       "      <td>5|5|5_2|2|5</td>\n",
       "      <td>NaN</td>\n",
       "    </tr>\n",
       "    <tr>\n",
       "      <th>...</th>\n",
       "      <td>...</td>\n",
       "      <td>...</td>\n",
       "      <td>...</td>\n",
       "      <td>...</td>\n",
       "      <td>...</td>\n",
       "      <td>...</td>\n",
       "      <td>...</td>\n",
       "      <td>...</td>\n",
       "    </tr>\n",
       "    <tr>\n",
       "      <th>76663</th>\n",
       "      <td>hit:12424_conv:24848</td>\n",
       "      <td>5</td>\n",
       "      <td>sentimental</td>\n",
       "      <td>I found some pictures of my grandma in the att...</td>\n",
       "      <td>389</td>\n",
       "      <td>Yeah reminds me of the good old days.  I miss ...</td>\n",
       "      <td>5|5|5_5|5|5</td>\n",
       "      <td>NaN</td>\n",
       "    </tr>\n",
       "    <tr>\n",
       "      <th>76664</th>\n",
       "      <td>hit:12424_conv:24849</td>\n",
       "      <td>1</td>\n",
       "      <td>surprised</td>\n",
       "      <td>I woke up this morning to my wife telling me s...</td>\n",
       "      <td>294</td>\n",
       "      <td>I woke up this morning to my wife telling me s...</td>\n",
       "      <td>5|5|5_5|5|5</td>\n",
       "      <td>NaN</td>\n",
       "    </tr>\n",
       "    <tr>\n",
       "      <th>76665</th>\n",
       "      <td>hit:12424_conv:24849</td>\n",
       "      <td>2</td>\n",
       "      <td>surprised</td>\n",
       "      <td>I woke up this morning to my wife telling me s...</td>\n",
       "      <td>389</td>\n",
       "      <td>Oh hey that's awesome!  That is awesome right?</td>\n",
       "      <td>5|5|5_5|5|5</td>\n",
       "      <td>NaN</td>\n",
       "    </tr>\n",
       "    <tr>\n",
       "      <th>76666</th>\n",
       "      <td>hit:12424_conv:24849</td>\n",
       "      <td>3</td>\n",
       "      <td>surprised</td>\n",
       "      <td>I woke up this morning to my wife telling me s...</td>\n",
       "      <td>294</td>\n",
       "      <td>It is soooo awesome.  We have been wanting a b...</td>\n",
       "      <td>5|5|5_5|5|5</td>\n",
       "      <td>NaN</td>\n",
       "    </tr>\n",
       "    <tr>\n",
       "      <th>76667</th>\n",
       "      <td>hit:12424_conv:24849</td>\n",
       "      <td>4</td>\n",
       "      <td>surprised</td>\n",
       "      <td>I woke up this morning to my wife telling me s...</td>\n",
       "      <td>389</td>\n",
       "      <td>That is awesome!!!! Congratulations!</td>\n",
       "      <td>5|5|5_5|5|5</td>\n",
       "      <td>NaN</td>\n",
       "    </tr>\n",
       "  </tbody>\n",
       "</table>\n",
       "<p>76668 rows × 8 columns</p>\n",
       "</div>"
      ],
      "text/plain": [
       "                    conv_id  utterance_idx      context  \\\n",
       "0              hit:0_conv:1              1  sentimental   \n",
       "1              hit:0_conv:1              2  sentimental   \n",
       "2              hit:0_conv:1              3  sentimental   \n",
       "3              hit:0_conv:1              4  sentimental   \n",
       "4              hit:0_conv:1              5  sentimental   \n",
       "...                     ...            ...          ...   \n",
       "76663  hit:12424_conv:24848              5  sentimental   \n",
       "76664  hit:12424_conv:24849              1    surprised   \n",
       "76665  hit:12424_conv:24849              2    surprised   \n",
       "76666  hit:12424_conv:24849              3    surprised   \n",
       "76667  hit:12424_conv:24849              4    surprised   \n",
       "\n",
       "                                                  prompt  speaker_idx  \\\n",
       "0      I remember going to the fireworks with my best...            1   \n",
       "1      I remember going to the fireworks with my best...            0   \n",
       "2      I remember going to the fireworks with my best...            1   \n",
       "3      I remember going to the fireworks with my best...            0   \n",
       "4      I remember going to the fireworks with my best...            1   \n",
       "...                                                  ...          ...   \n",
       "76663  I found some pictures of my grandma in the att...          389   \n",
       "76664  I woke up this morning to my wife telling me s...          294   \n",
       "76665  I woke up this morning to my wife telling me s...          389   \n",
       "76666  I woke up this morning to my wife telling me s...          294   \n",
       "76667  I woke up this morning to my wife telling me s...          389   \n",
       "\n",
       "                                               utterance     selfeval tags  \n",
       "0      I remember going to see the fireworks with my ...  5|5|5_2|2|5  NaN  \n",
       "1      Was this a friend you were in love with_comma_...  5|5|5_2|2|5  NaN  \n",
       "2                    This was a best friend. I miss her.  5|5|5_2|2|5  NaN  \n",
       "3                                    Where has she gone?  5|5|5_2|2|5  NaN  \n",
       "4                                     We no longer talk.  5|5|5_2|2|5  NaN  \n",
       "...                                                  ...          ...  ...  \n",
       "76663  Yeah reminds me of the good old days.  I miss ...  5|5|5_5|5|5  NaN  \n",
       "76664  I woke up this morning to my wife telling me s...  5|5|5_5|5|5  NaN  \n",
       "76665     Oh hey that's awesome!  That is awesome right?  5|5|5_5|5|5  NaN  \n",
       "76666  It is soooo awesome.  We have been wanting a b...  5|5|5_5|5|5  NaN  \n",
       "76667               That is awesome!!!! Congratulations!  5|5|5_5|5|5  NaN  \n",
       "\n",
       "[76668 rows x 8 columns]"
      ]
     },
     "execution_count": 68,
     "metadata": {},
     "output_type": "execute_result"
    }
   ],
   "source": [
    "df"
   ]
  },
  {
   "cell_type": "markdown",
   "id": "692038b8-e76f-4265-abda-bb95a3395c73",
   "metadata": {},
   "source": [
    "# Training Emotion Classifier"
   ]
  },
  {
   "cell_type": "code",
   "execution_count": 70,
   "id": "7eb0a7ea-c0f5-4038-b041-70b92c538ed7",
   "metadata": {},
   "outputs": [],
   "source": [
    "classification = df[[\"context\", \"utterance\"]]"
   ]
  },
  {
   "cell_type": "code",
   "execution_count": 71,
   "id": "9bbdcfdb-bda6-4931-9dc5-40f1140fbe45",
   "metadata": {},
   "outputs": [
    {
     "data": {
      "text/html": [
       "<div>\n",
       "<style scoped>\n",
       "    .dataframe tbody tr th:only-of-type {\n",
       "        vertical-align: middle;\n",
       "    }\n",
       "\n",
       "    .dataframe tbody tr th {\n",
       "        vertical-align: top;\n",
       "    }\n",
       "\n",
       "    .dataframe thead th {\n",
       "        text-align: right;\n",
       "    }\n",
       "</style>\n",
       "<table border=\"1\" class=\"dataframe\">\n",
       "  <thead>\n",
       "    <tr style=\"text-align: right;\">\n",
       "      <th></th>\n",
       "      <th>context</th>\n",
       "      <th>utterance</th>\n",
       "    </tr>\n",
       "  </thead>\n",
       "  <tbody>\n",
       "    <tr>\n",
       "      <th>0</th>\n",
       "      <td>sentimental</td>\n",
       "      <td>I remember going to see the fireworks with my ...</td>\n",
       "    </tr>\n",
       "    <tr>\n",
       "      <th>1</th>\n",
       "      <td>sentimental</td>\n",
       "      <td>Was this a friend you were in love with_comma_...</td>\n",
       "    </tr>\n",
       "    <tr>\n",
       "      <th>2</th>\n",
       "      <td>sentimental</td>\n",
       "      <td>This was a best friend. I miss her.</td>\n",
       "    </tr>\n",
       "    <tr>\n",
       "      <th>3</th>\n",
       "      <td>sentimental</td>\n",
       "      <td>Where has she gone?</td>\n",
       "    </tr>\n",
       "    <tr>\n",
       "      <th>4</th>\n",
       "      <td>sentimental</td>\n",
       "      <td>We no longer talk.</td>\n",
       "    </tr>\n",
       "    <tr>\n",
       "      <th>...</th>\n",
       "      <td>...</td>\n",
       "      <td>...</td>\n",
       "    </tr>\n",
       "    <tr>\n",
       "      <th>76663</th>\n",
       "      <td>sentimental</td>\n",
       "      <td>Yeah reminds me of the good old days.  I miss ...</td>\n",
       "    </tr>\n",
       "    <tr>\n",
       "      <th>76664</th>\n",
       "      <td>surprised</td>\n",
       "      <td>I woke up this morning to my wife telling me s...</td>\n",
       "    </tr>\n",
       "    <tr>\n",
       "      <th>76665</th>\n",
       "      <td>surprised</td>\n",
       "      <td>Oh hey that's awesome!  That is awesome right?</td>\n",
       "    </tr>\n",
       "    <tr>\n",
       "      <th>76666</th>\n",
       "      <td>surprised</td>\n",
       "      <td>It is soooo awesome.  We have been wanting a b...</td>\n",
       "    </tr>\n",
       "    <tr>\n",
       "      <th>76667</th>\n",
       "      <td>surprised</td>\n",
       "      <td>That is awesome!!!! Congratulations!</td>\n",
       "    </tr>\n",
       "  </tbody>\n",
       "</table>\n",
       "<p>76668 rows × 2 columns</p>\n",
       "</div>"
      ],
      "text/plain": [
       "           context                                          utterance\n",
       "0      sentimental  I remember going to see the fireworks with my ...\n",
       "1      sentimental  Was this a friend you were in love with_comma_...\n",
       "2      sentimental                This was a best friend. I miss her.\n",
       "3      sentimental                                Where has she gone?\n",
       "4      sentimental                                 We no longer talk.\n",
       "...            ...                                                ...\n",
       "76663  sentimental  Yeah reminds me of the good old days.  I miss ...\n",
       "76664    surprised  I woke up this morning to my wife telling me s...\n",
       "76665    surprised     Oh hey that's awesome!  That is awesome right?\n",
       "76666    surprised  It is soooo awesome.  We have been wanting a b...\n",
       "76667    surprised               That is awesome!!!! Congratulations!\n",
       "\n",
       "[76668 rows x 2 columns]"
      ]
     },
     "execution_count": 71,
     "metadata": {},
     "output_type": "execute_result"
    }
   ],
   "source": [
    "classification"
   ]
  },
  {
   "cell_type": "code",
   "execution_count": 73,
   "id": "98593128-28f2-467e-a488-850a2356f550",
   "metadata": {},
   "outputs": [
    {
     "name": "stderr",
     "output_type": "stream",
     "text": [
      "/tmp/ipykernel_1637669/307513464.py:1: SettingWithCopyWarning: \n",
      "A value is trying to be set on a copy of a slice from a DataFrame\n",
      "\n",
      "See the caveats in the documentation: https://pandas.pydata.org/pandas-docs/stable/user_guide/indexing.html#returning-a-view-versus-a-copy\n",
      "  classification.rename(columns={\"context\": \"label\", \"utterance\": \"text\"}, inplace=True)\n"
     ]
    }
   ],
   "source": [
    "classification.rename(columns={\"context\": \"label\", \"utterance\": \"text\"}, inplace=True)"
   ]
  },
  {
   "cell_type": "code",
   "execution_count": 90,
   "id": "52222798-7cc7-4055-b877-13f8c5ccdf72",
   "metadata": {},
   "outputs": [
    {
     "name": "stderr",
     "output_type": "stream",
     "text": [
      "/tmp/ipykernel_1637669/3200956030.py:1: SettingWithCopyWarning: \n",
      "A value is trying to be set on a copy of a slice from a DataFrame.\n",
      "Try using .loc[row_indexer,col_indexer] = value instead\n",
      "\n",
      "See the caveats in the documentation: https://pandas.pydata.org/pandas-docs/stable/user_guide/indexing.html#returning-a-view-versus-a-copy\n",
      "  classification[\"text\"] = classification[\"text\"].apply(lambda i: i.replace(\"_comma_\", \",\"))\n"
     ]
    }
   ],
   "source": [
    "classification[\"text\"] = classification[\"text\"].apply(lambda i: i.replace(\"_comma_\", \",\"))"
   ]
  },
  {
   "cell_type": "code",
   "execution_count": 171,
   "id": "f24e2d5b-a597-47de-9c94-c8931e65a592",
   "metadata": {},
   "outputs": [
    {
     "data": {
      "text/html": [
       "<div>\n",
       "<style scoped>\n",
       "    .dataframe tbody tr th:only-of-type {\n",
       "        vertical-align: middle;\n",
       "    }\n",
       "\n",
       "    .dataframe tbody tr th {\n",
       "        vertical-align: top;\n",
       "    }\n",
       "\n",
       "    .dataframe thead th {\n",
       "        text-align: right;\n",
       "    }\n",
       "</style>\n",
       "<table border=\"1\" class=\"dataframe\">\n",
       "  <thead>\n",
       "    <tr style=\"text-align: right;\">\n",
       "      <th></th>\n",
       "      <th>label</th>\n",
       "      <th>text</th>\n",
       "    </tr>\n",
       "  </thead>\n",
       "  <tbody>\n",
       "    <tr>\n",
       "      <th>0</th>\n",
       "      <td>sentimental</td>\n",
       "      <td>I remember going to see the fireworks with my ...</td>\n",
       "    </tr>\n",
       "    <tr>\n",
       "      <th>1</th>\n",
       "      <td>sentimental</td>\n",
       "      <td>Was this a friend you were in love with, or ju...</td>\n",
       "    </tr>\n",
       "    <tr>\n",
       "      <th>2</th>\n",
       "      <td>sentimental</td>\n",
       "      <td>This was a best friend. I miss her.</td>\n",
       "    </tr>\n",
       "    <tr>\n",
       "      <th>3</th>\n",
       "      <td>sentimental</td>\n",
       "      <td>Where has she gone?</td>\n",
       "    </tr>\n",
       "    <tr>\n",
       "      <th>4</th>\n",
       "      <td>sentimental</td>\n",
       "      <td>We no longer talk.</td>\n",
       "    </tr>\n",
       "    <tr>\n",
       "      <th>...</th>\n",
       "      <td>...</td>\n",
       "      <td>...</td>\n",
       "    </tr>\n",
       "    <tr>\n",
       "      <th>76663</th>\n",
       "      <td>sentimental</td>\n",
       "      <td>Yeah reminds me of the good old days.  I miss ...</td>\n",
       "    </tr>\n",
       "    <tr>\n",
       "      <th>76664</th>\n",
       "      <td>surprised</td>\n",
       "      <td>I woke up this morning to my wife telling me s...</td>\n",
       "    </tr>\n",
       "    <tr>\n",
       "      <th>76665</th>\n",
       "      <td>surprised</td>\n",
       "      <td>Oh hey that's awesome!  That is awesome right?</td>\n",
       "    </tr>\n",
       "    <tr>\n",
       "      <th>76666</th>\n",
       "      <td>surprised</td>\n",
       "      <td>It is soooo awesome.  We have been wanting a b...</td>\n",
       "    </tr>\n",
       "    <tr>\n",
       "      <th>76667</th>\n",
       "      <td>surprised</td>\n",
       "      <td>That is awesome!!!! Congratulations!</td>\n",
       "    </tr>\n",
       "  </tbody>\n",
       "</table>\n",
       "<p>76668 rows × 2 columns</p>\n",
       "</div>"
      ],
      "text/plain": [
       "             label                                               text\n",
       "0      sentimental  I remember going to see the fireworks with my ...\n",
       "1      sentimental  Was this a friend you were in love with, or ju...\n",
       "2      sentimental                This was a best friend. I miss her.\n",
       "3      sentimental                                Where has she gone?\n",
       "4      sentimental                                 We no longer talk.\n",
       "...            ...                                                ...\n",
       "76663  sentimental  Yeah reminds me of the good old days.  I miss ...\n",
       "76664    surprised  I woke up this morning to my wife telling me s...\n",
       "76665    surprised     Oh hey that's awesome!  That is awesome right?\n",
       "76666    surprised  It is soooo awesome.  We have been wanting a b...\n",
       "76667    surprised               That is awesome!!!! Congratulations!\n",
       "\n",
       "[76668 rows x 2 columns]"
      ]
     },
     "execution_count": 171,
     "metadata": {},
     "output_type": "execute_result"
    }
   ],
   "source": [
    "classification"
   ]
  },
  {
   "cell_type": "code",
   "execution_count": 173,
   "id": "6392b690-204e-417c-8c7e-b4f5ada22975",
   "metadata": {},
   "outputs": [
    {
     "data": {
      "text/plain": [
       "[('afraid', 0),\n",
       " ('angry', 1),\n",
       " ('annoyed', 2),\n",
       " ('anticipating', 3),\n",
       " ('anxious', 4),\n",
       " ('apprehensive', 5),\n",
       " ('ashamed', 6),\n",
       " ('caring', 7),\n",
       " ('confident', 8),\n",
       " ('content', 9),\n",
       " ('devastated', 10),\n",
       " ('disappointed', 11),\n",
       " ('disgusted', 12),\n",
       " ('embarrassed', 13),\n",
       " ('excited', 14),\n",
       " ('faithful', 15),\n",
       " ('furious', 16),\n",
       " ('grateful', 17),\n",
       " ('guilty', 18),\n",
       " ('hopeful', 19),\n",
       " ('impressed', 20),\n",
       " ('jealous', 21),\n",
       " ('joyful', 22),\n",
       " ('lonely', 23),\n",
       " ('nostalgic', 24),\n",
       " ('prepared', 25),\n",
       " ('proud', 26),\n",
       " ('sad', 27),\n",
       " ('sentimental', 28),\n",
       " ('surprised', 29),\n",
       " ('terrified', 30),\n",
       " ('trusting', 31)]"
      ]
     },
     "execution_count": 173,
     "metadata": {},
     "output_type": "execute_result"
    }
   ],
   "source": [
    "labels_map"
   ]
  },
  {
   "cell_type": "code",
   "execution_count": 112,
   "id": "2c4f41e4-16fa-42ad-9696-ffb111894502",
   "metadata": {},
   "outputs": [],
   "source": [
    "from sklearn.model_selection import train_test_split"
   ]
  },
  {
   "cell_type": "code",
   "execution_count": 166,
   "id": "487a7f4b-076f-4ba6-bd4f-609e7952ed5a",
   "metadata": {},
   "outputs": [],
   "source": [
    "labels = classification[[\"label\"]].sort_values(\"label\").drop_duplicates().reset_index(drop=True)"
   ]
  },
  {
   "cell_type": "code",
   "execution_count": 174,
   "id": "bc84dd43-266a-4679-9e2f-7ba8be046968",
   "metadata": {},
   "outputs": [],
   "source": [
    "labels_map = dict(list(zip(labels.label, labels.index)))"
   ]
  },
  {
   "cell_type": "code",
   "execution_count": 175,
   "id": "c8157cf0-14e3-4470-a83d-0ba1fbb04bef",
   "metadata": {},
   "outputs": [
    {
     "data": {
      "text/plain": [
       "{'afraid': 0,\n",
       " 'angry': 1,\n",
       " 'annoyed': 2,\n",
       " 'anticipating': 3,\n",
       " 'anxious': 4,\n",
       " 'apprehensive': 5,\n",
       " 'ashamed': 6,\n",
       " 'caring': 7,\n",
       " 'confident': 8,\n",
       " 'content': 9,\n",
       " 'devastated': 10,\n",
       " 'disappointed': 11,\n",
       " 'disgusted': 12,\n",
       " 'embarrassed': 13,\n",
       " 'excited': 14,\n",
       " 'faithful': 15,\n",
       " 'furious': 16,\n",
       " 'grateful': 17,\n",
       " 'guilty': 18,\n",
       " 'hopeful': 19,\n",
       " 'impressed': 20,\n",
       " 'jealous': 21,\n",
       " 'joyful': 22,\n",
       " 'lonely': 23,\n",
       " 'nostalgic': 24,\n",
       " 'prepared': 25,\n",
       " 'proud': 26,\n",
       " 'sad': 27,\n",
       " 'sentimental': 28,\n",
       " 'surprised': 29,\n",
       " 'terrified': 30,\n",
       " 'trusting': 31}"
      ]
     },
     "execution_count": 175,
     "metadata": {},
     "output_type": "execute_result"
    }
   ],
   "source": [
    "labels_map"
   ]
  },
  {
   "cell_type": "code",
   "execution_count": 181,
   "id": "f4f033bf-366e-4e2d-8905-77ddbec46172",
   "metadata": {},
   "outputs": [],
   "source": [
    "train_df, val_df = train_test_split(classification, test_size=0.2)\n",
    "train_df[\"label\"].replace(labels_map, inplace=True)\n",
    "val_df[\"label\"].replace(labels_map, inplace=True)\n",
    "train_dataset = Dataset.from_pandas(train_df.reset_index(drop=True))\n",
    "val_dataset = Dataset.from_pandas(val_df.reset_index(drop=True))"
   ]
  },
  {
   "cell_type": "code",
   "execution_count": 182,
   "id": "4cdb1930-91f9-43f4-9280-08fc5830ba5f",
   "metadata": {},
   "outputs": [
    {
     "data": {
      "text/plain": [
       "Dataset({\n",
       "    features: ['label', 'text'],\n",
       "    num_rows: 61334\n",
       "})"
      ]
     },
     "execution_count": 182,
     "metadata": {},
     "output_type": "execute_result"
    }
   ],
   "source": [
    "train_dataset"
   ]
  },
  {
   "cell_type": "code",
   "execution_count": 183,
   "id": "50eac55a-b30c-4d6a-bcc2-2b5b9622e882",
   "metadata": {},
   "outputs": [],
   "source": [
    "dataset = DatasetDict({\"train\": train_dataset, \"test\": val_dataset})"
   ]
  },
  {
   "cell_type": "code",
   "execution_count": 184,
   "id": "9c53af1a-0ca2-41fa-8bbc-3a064488dce7",
   "metadata": {},
   "outputs": [
    {
     "data": {
      "text/plain": [
       "{'label': 19,\n",
       " 'text': 'Wow, that was very generous and courageous for her! How are they now?'}"
      ]
     },
     "execution_count": 184,
     "metadata": {},
     "output_type": "execute_result"
    }
   ],
   "source": [
    "dataset[\"train\"][0]"
   ]
  },
  {
   "cell_type": "code",
   "execution_count": null,
   "id": "90f75489-be6f-44cf-8650-fa6659ff61e0",
   "metadata": {},
   "outputs": [],
   "source": []
  },
  {
   "cell_type": "code",
   "execution_count": 185,
   "id": "59eff09c-4bc0-4548-8709-20978f6229eb",
   "metadata": {},
   "outputs": [
    {
     "name": "stderr",
     "output_type": "stream",
     "text": [
      "loading configuration file https://huggingface.co/distilroberta-base/resolve/main/config.json from cache at /home/jovyan/.cache/huggingface/transformers/42d6b7c87cbac84fcdf35aa69504a5ccfca878fcee2a1a9b9ff7a3d1297f9094.aa95727ac70adfa1aaf5c88bea30a4f5e50869c68e68bce96ef1ec41b5facf46\n",
      "Model config RobertaConfig {\n",
      "  \"_name_or_path\": \"distilroberta-base\",\n",
      "  \"architectures\": [\n",
      "    \"RobertaForMaskedLM\"\n",
      "  ],\n",
      "  \"attention_probs_dropout_prob\": 0.1,\n",
      "  \"bos_token_id\": 0,\n",
      "  \"classifier_dropout\": null,\n",
      "  \"eos_token_id\": 2,\n",
      "  \"hidden_act\": \"gelu\",\n",
      "  \"hidden_dropout_prob\": 0.1,\n",
      "  \"hidden_size\": 768,\n",
      "  \"id2label\": {\n",
      "    \"0\": \"LABEL_0\",\n",
      "    \"1\": \"LABEL_1\",\n",
      "    \"2\": \"LABEL_2\",\n",
      "    \"3\": \"LABEL_3\",\n",
      "    \"4\": \"LABEL_4\",\n",
      "    \"5\": \"LABEL_5\",\n",
      "    \"6\": \"LABEL_6\",\n",
      "    \"7\": \"LABEL_7\",\n",
      "    \"8\": \"LABEL_8\",\n",
      "    \"9\": \"LABEL_9\",\n",
      "    \"10\": \"LABEL_10\",\n",
      "    \"11\": \"LABEL_11\",\n",
      "    \"12\": \"LABEL_12\",\n",
      "    \"13\": \"LABEL_13\",\n",
      "    \"14\": \"LABEL_14\",\n",
      "    \"15\": \"LABEL_15\",\n",
      "    \"16\": \"LABEL_16\",\n",
      "    \"17\": \"LABEL_17\",\n",
      "    \"18\": \"LABEL_18\",\n",
      "    \"19\": \"LABEL_19\",\n",
      "    \"20\": \"LABEL_20\",\n",
      "    \"21\": \"LABEL_21\",\n",
      "    \"22\": \"LABEL_22\",\n",
      "    \"23\": \"LABEL_23\",\n",
      "    \"24\": \"LABEL_24\",\n",
      "    \"25\": \"LABEL_25\",\n",
      "    \"26\": \"LABEL_26\",\n",
      "    \"27\": \"LABEL_27\",\n",
      "    \"28\": \"LABEL_28\",\n",
      "    \"29\": \"LABEL_29\",\n",
      "    \"30\": \"LABEL_30\",\n",
      "    \"31\": \"LABEL_31\"\n",
      "  },\n",
      "  \"initializer_range\": 0.02,\n",
      "  \"intermediate_size\": 3072,\n",
      "  \"label2id\": {\n",
      "    \"LABEL_0\": 0,\n",
      "    \"LABEL_1\": 1,\n",
      "    \"LABEL_10\": 10,\n",
      "    \"LABEL_11\": 11,\n",
      "    \"LABEL_12\": 12,\n",
      "    \"LABEL_13\": 13,\n",
      "    \"LABEL_14\": 14,\n",
      "    \"LABEL_15\": 15,\n",
      "    \"LABEL_16\": 16,\n",
      "    \"LABEL_17\": 17,\n",
      "    \"LABEL_18\": 18,\n",
      "    \"LABEL_19\": 19,\n",
      "    \"LABEL_2\": 2,\n",
      "    \"LABEL_20\": 20,\n",
      "    \"LABEL_21\": 21,\n",
      "    \"LABEL_22\": 22,\n",
      "    \"LABEL_23\": 23,\n",
      "    \"LABEL_24\": 24,\n",
      "    \"LABEL_25\": 25,\n",
      "    \"LABEL_26\": 26,\n",
      "    \"LABEL_27\": 27,\n",
      "    \"LABEL_28\": 28,\n",
      "    \"LABEL_29\": 29,\n",
      "    \"LABEL_3\": 3,\n",
      "    \"LABEL_30\": 30,\n",
      "    \"LABEL_31\": 31,\n",
      "    \"LABEL_4\": 4,\n",
      "    \"LABEL_5\": 5,\n",
      "    \"LABEL_6\": 6,\n",
      "    \"LABEL_7\": 7,\n",
      "    \"LABEL_8\": 8,\n",
      "    \"LABEL_9\": 9\n",
      "  },\n",
      "  \"layer_norm_eps\": 1e-05,\n",
      "  \"max_position_embeddings\": 514,\n",
      "  \"model_type\": \"roberta\",\n",
      "  \"num_attention_heads\": 12,\n",
      "  \"num_hidden_layers\": 6,\n",
      "  \"pad_token_id\": 1,\n",
      "  \"position_embedding_type\": \"absolute\",\n",
      "  \"transformers_version\": \"4.19.2\",\n",
      "  \"type_vocab_size\": 1,\n",
      "  \"use_cache\": true,\n",
      "  \"vocab_size\": 50265\n",
      "}\n",
      "\n",
      "loading weights file https://huggingface.co/distilroberta-base/resolve/main/pytorch_model.bin from cache at /home/jovyan/.cache/huggingface/transformers/7a0115a4c463f49bc7ab011872fc4a4b81be681a0434075955d29ac3388e225b.a6127d76576e81475313180aceb31a8688f7a649b80e380d26b5d30302dc83c1\n",
      "Some weights of the model checkpoint at distilroberta-base were not used when initializing RobertaForSequenceClassification: ['lm_head.layer_norm.weight', 'lm_head.bias', 'roberta.pooler.dense.bias', 'lm_head.dense.bias', 'lm_head.decoder.weight', 'lm_head.dense.weight', 'lm_head.layer_norm.bias', 'roberta.pooler.dense.weight']\n",
      "- This IS expected if you are initializing RobertaForSequenceClassification from the checkpoint of a model trained on another task or with another architecture (e.g. initializing a BertForSequenceClassification model from a BertForPreTraining model).\n",
      "- This IS NOT expected if you are initializing RobertaForSequenceClassification from the checkpoint of a model that you expect to be exactly identical (initializing a BertForSequenceClassification model from a BertForSequenceClassification model).\n",
      "Some weights of RobertaForSequenceClassification were not initialized from the model checkpoint at distilroberta-base and are newly initialized: ['classifier.out_proj.bias', 'classifier.dense.weight', 'classifier.dense.bias', 'classifier.out_proj.weight']\n",
      "You should probably TRAIN this model on a down-stream task to be able to use it for predictions and inference.\n"
     ]
    }
   ],
   "source": [
    "from transformers import AutoModelForSequenceClassification\n",
    "\n",
    "model = AutoModelForSequenceClassification.from_pretrained(\"distilroberta-base\", num_labels=num_labels)"
   ]
  },
  {
   "cell_type": "code",
   "execution_count": 186,
   "id": "cc549fb4-2d3e-4a8c-a405-84f281e4f1d4",
   "metadata": {},
   "outputs": [
    {
     "name": "stderr",
     "output_type": "stream",
     "text": [
      "PyTorch: setting up devices\n",
      "The default value for the training argument `--report_to` will change in v5 (from all installed integrations to none). In v5, you will need to use `--report_to all` to get the same behavior as now. You should start updating your code and make this info disappear :-).\n"
     ]
    }
   ],
   "source": [
    "from transformers import TrainingArguments\n",
    "\n",
    "output_dir = \"../../models/distilroberta-finetuned\"\n",
    "\n",
    "training_args = TrainingArguments(output_dir=output_dir)"
   ]
  },
  {
   "cell_type": "code",
   "execution_count": 103,
   "id": "e03fb8f2-1375-4ae5-9d89-17e330d63628",
   "metadata": {},
   "outputs": [
    {
     "name": "stdout",
     "output_type": "stream",
     "text": [
      "huggingface/tokenizers: The current process just got forked, after parallelism has already been used. Disabling parallelism to avoid deadlocks...\n",
      "To disable this warning, you can either:\n",
      "\t- Avoid using `tokenizers` before the fork if possible\n",
      "\t- Explicitly set the environment variable TOKENIZERS_PARALLELISM=(true | false)\n",
      "archives  hopperbot-medium\n"
     ]
    }
   ],
   "source": [
    "! ls ../../models"
   ]
  },
  {
   "cell_type": "code",
   "execution_count": 187,
   "id": "2f658694-f3e1-4e99-aca5-a344f7bb3835",
   "metadata": {},
   "outputs": [],
   "source": [
    "import numpy as np\n",
    "from datasets import load_metric\n",
    "\n",
    "metric = load_metric(\"accuracy\")"
   ]
  },
  {
   "cell_type": "code",
   "execution_count": 188,
   "id": "1ede1087-a956-455b-be27-c028fb56ad3d",
   "metadata": {},
   "outputs": [],
   "source": [
    "def compute_metrics(eval_pred):\n",
    "    logits, labels = eval_pred\n",
    "    predictions = np.argmax(logits, axis=-1)\n",
    "    return metric.compute(predictions=predictions, references=labels)"
   ]
  },
  {
   "cell_type": "code",
   "execution_count": 189,
   "id": "a45d5882-11a0-4a59-a14f-76daebab7929",
   "metadata": {},
   "outputs": [
    {
     "name": "stderr",
     "output_type": "stream",
     "text": [
      "PyTorch: setting up devices\n",
      "The default value for the training argument `--report_to` will change in v5 (from all installed integrations to none). In v5, you will need to use `--report_to all` to get the same behavior as now. You should start updating your code and make this info disappear :-).\n"
     ]
    }
   ],
   "source": [
    "from transformers import TrainingArguments, Trainer\n",
    "\n",
    "training_args = TrainingArguments(output_dir=output_dir, evaluation_strategy=\"epoch\")"
   ]
  },
  {
   "cell_type": "code",
   "execution_count": 193,
   "id": "6aeae7c7-e102-4a11-ae7a-5de88751f286",
   "metadata": {
    "scrolled": true,
    "tags": []
   },
   "outputs": [
    {
     "name": "stderr",
     "output_type": "stream",
     "text": [
      "Could not locate the tokenizer configuration file, will try to use the model config instead.\n",
      "loading configuration file https://huggingface.co/distilroberta-base/resolve/main/config.json from cache at /home/jovyan/.cache/huggingface/transformers/42d6b7c87cbac84fcdf35aa69504a5ccfca878fcee2a1a9b9ff7a3d1297f9094.aa95727ac70adfa1aaf5c88bea30a4f5e50869c68e68bce96ef1ec41b5facf46\n",
      "Model config RobertaConfig {\n",
      "  \"_name_or_path\": \"distilroberta-base\",\n",
      "  \"architectures\": [\n",
      "    \"RobertaForMaskedLM\"\n",
      "  ],\n",
      "  \"attention_probs_dropout_prob\": 0.1,\n",
      "  \"bos_token_id\": 0,\n",
      "  \"classifier_dropout\": null,\n",
      "  \"eos_token_id\": 2,\n",
      "  \"hidden_act\": \"gelu\",\n",
      "  \"hidden_dropout_prob\": 0.1,\n",
      "  \"hidden_size\": 768,\n",
      "  \"initializer_range\": 0.02,\n",
      "  \"intermediate_size\": 3072,\n",
      "  \"layer_norm_eps\": 1e-05,\n",
      "  \"max_position_embeddings\": 514,\n",
      "  \"model_type\": \"roberta\",\n",
      "  \"num_attention_heads\": 12,\n",
      "  \"num_hidden_layers\": 6,\n",
      "  \"pad_token_id\": 1,\n",
      "  \"position_embedding_type\": \"absolute\",\n",
      "  \"transformers_version\": \"4.19.2\",\n",
      "  \"type_vocab_size\": 1,\n",
      "  \"use_cache\": true,\n",
      "  \"vocab_size\": 50265\n",
      "}\n",
      "\n",
      "loading file https://huggingface.co/distilroberta-base/resolve/main/vocab.json from cache at /home/jovyan/.cache/huggingface/transformers/23e0f7484fc8a320856b168861166b48c2976bb4e0861602422e1b0c3fe5bf61.d67d6b367eb24ab43b08ad55e014cf254076934f71d832bbab9ad35644a375ab\n",
      "loading file https://huggingface.co/distilroberta-base/resolve/main/merges.txt from cache at /home/jovyan/.cache/huggingface/transformers/c7e8020011da613ff5a9175ddad64cd47238a9525db975eb50ecb965e9f7302f.5d12962c5ee615a4c803841266e9c3be9a691a924f72d395d3a6c6c81157788b\n",
      "loading file https://huggingface.co/distilroberta-base/resolve/main/tokenizer.json from cache at /home/jovyan/.cache/huggingface/transformers/b6a9ca6504e67903474c3fdf82ba249882406e61c2176a9d4dc9c3691c663767.fc9576039592f026ad76a1c231b89aee8668488c671dfbe6616bab2ed298d730\n",
      "loading file https://huggingface.co/distilroberta-base/resolve/main/added_tokens.json from cache at None\n",
      "loading file https://huggingface.co/distilroberta-base/resolve/main/special_tokens_map.json from cache at None\n",
      "loading file https://huggingface.co/distilroberta-base/resolve/main/tokenizer_config.json from cache at None\n",
      "loading configuration file https://huggingface.co/distilroberta-base/resolve/main/config.json from cache at /home/jovyan/.cache/huggingface/transformers/42d6b7c87cbac84fcdf35aa69504a5ccfca878fcee2a1a9b9ff7a3d1297f9094.aa95727ac70adfa1aaf5c88bea30a4f5e50869c68e68bce96ef1ec41b5facf46\n",
      "Model config RobertaConfig {\n",
      "  \"_name_or_path\": \"distilroberta-base\",\n",
      "  \"architectures\": [\n",
      "    \"RobertaForMaskedLM\"\n",
      "  ],\n",
      "  \"attention_probs_dropout_prob\": 0.1,\n",
      "  \"bos_token_id\": 0,\n",
      "  \"classifier_dropout\": null,\n",
      "  \"eos_token_id\": 2,\n",
      "  \"hidden_act\": \"gelu\",\n",
      "  \"hidden_dropout_prob\": 0.1,\n",
      "  \"hidden_size\": 768,\n",
      "  \"initializer_range\": 0.02,\n",
      "  \"intermediate_size\": 3072,\n",
      "  \"layer_norm_eps\": 1e-05,\n",
      "  \"max_position_embeddings\": 514,\n",
      "  \"model_type\": \"roberta\",\n",
      "  \"num_attention_heads\": 12,\n",
      "  \"num_hidden_layers\": 6,\n",
      "  \"pad_token_id\": 1,\n",
      "  \"position_embedding_type\": \"absolute\",\n",
      "  \"transformers_version\": \"4.19.2\",\n",
      "  \"type_vocab_size\": 1,\n",
      "  \"use_cache\": true,\n",
      "  \"vocab_size\": 50265\n",
      "}\n",
      "\n"
     ]
    },
    {
     "data": {
      "application/vnd.jupyter.widget-view+json": {
       "model_id": "f4ff551d906f4fb1874b8eb0abaed92f",
       "version_major": 2,
       "version_minor": 0
      },
      "text/plain": [
       "  0%|          | 0/62 [00:00<?, ?ba/s]"
      ]
     },
     "metadata": {},
     "output_type": "display_data"
    },
    {
     "data": {
      "application/vnd.jupyter.widget-view+json": {
       "model_id": "cc003bc899284101a0fa9ba88510365b",
       "version_major": 2,
       "version_minor": 0
      },
      "text/plain": [
       "  0%|          | 0/16 [00:00<?, ?ba/s]"
      ]
     },
     "metadata": {},
     "output_type": "display_data"
    }
   ],
   "source": [
    "from transformers import AutoTokenizer\n",
    "\n",
    "tokenizer = AutoTokenizer.from_pretrained(\"distilroberta-base\")\n",
    "\n",
    "\n",
    "def tokenize_function(examples):\n",
    "    return tokenizer(examples[\"text\"], padding=\"max_length\", truncation=True)\n",
    "\n",
    "\n",
    "tokenized_datasets = dataset.map(tokenize_function, batched=True)\n",
    "\n",
    "train_dataset = tokenized_datasets[\"train\"].shuffle(seed=42)\n",
    "eval_dataset = tokenized_datasets[\"test\"].shuffle(seed=42)\n",
    "\n",
    "#small_train_dataset = tokenized_datasets[\"train\"].shuffle(seed=42).select(range(1000))\n",
    "#small_eval_dataset = tokenized_datasets[\"test\"].shuffle(seed=42).select(range(1000))"
   ]
  },
  {
   "cell_type": "code",
   "execution_count": 194,
   "id": "f3541e92-c797-4800-ad34-4ac67969edcf",
   "metadata": {},
   "outputs": [],
   "source": [
    "trainer = Trainer(\n",
    "    model=model,\n",
    "    args=training_args,\n",
    "    train_dataset=train_dataset,\n",
    "    eval_dataset=eval_dataset,\n",
    "    compute_metrics=compute_metrics,\n",
    ")"
   ]
  },
  {
   "cell_type": "code",
   "execution_count": 195,
   "id": "0f8b977d-4b00-42f7-b197-e99abe71e94d",
   "metadata": {
    "scrolled": true,
    "tags": []
   },
   "outputs": [
    {
     "name": "stderr",
     "output_type": "stream",
     "text": [
      "The following columns in the training set don't have a corresponding argument in `RobertaForSequenceClassification.forward` and have been ignored: text. If text are not expected by `RobertaForSequenceClassification.forward`,  you can safely ignore this message.\n",
      "/opt/conda/lib/python3.10/site-packages/transformers/optimization.py:306: FutureWarning: This implementation of AdamW is deprecated and will be removed in a future version. Use the PyTorch implementation torch.optim.AdamW instead, or set `no_deprecation_warning=True` to disable this warning\n",
      "  warnings.warn(\n",
      "***** Running training *****\n",
      "  Num examples = 61334\n",
      "  Num Epochs = 3\n",
      "  Instantaneous batch size per device = 8\n",
      "  Total train batch size (w. parallel, distributed & accumulation) = 8\n",
      "  Gradient Accumulation steps = 1\n",
      "  Total optimization steps = 23001\n",
      "Trainer is attempting to log a value of \"{0: 'LABEL_0', 1: 'LABEL_1', 2: 'LABEL_2', 3: 'LABEL_3', 4: 'LABEL_4', 5: 'LABEL_5', 6: 'LABEL_6', 7: 'LABEL_7', 8: 'LABEL_8', 9: 'LABEL_9', 10: 'LABEL_10', 11: 'LABEL_11', 12: 'LABEL_12', 13: 'LABEL_13', 14: 'LABEL_14', 15: 'LABEL_15', 16: 'LABEL_16', 17: 'LABEL_17', 18: 'LABEL_18', 19: 'LABEL_19', 20: 'LABEL_20', 21: 'LABEL_21', 22: 'LABEL_22', 23: 'LABEL_23', 24: 'LABEL_24', 25: 'LABEL_25', 26: 'LABEL_26', 27: 'LABEL_27', 28: 'LABEL_28', 29: 'LABEL_29', 30: 'LABEL_30', 31: 'LABEL_31'}\" for key \"id2label\" as a parameter. MLflow's log_param() only accepts values no longer than 250 characters so we dropped this attribute. You can use `MLFLOW_FLATTEN_PARAMS` environment variable to flatten the parameters and avoid this message.\n",
      "Trainer is attempting to log a value of \"{'LABEL_0': 0, 'LABEL_1': 1, 'LABEL_2': 2, 'LABEL_3': 3, 'LABEL_4': 4, 'LABEL_5': 5, 'LABEL_6': 6, 'LABEL_7': 7, 'LABEL_8': 8, 'LABEL_9': 9, 'LABEL_10': 10, 'LABEL_11': 11, 'LABEL_12': 12, 'LABEL_13': 13, 'LABEL_14': 14, 'LABEL_15': 15, 'LABEL_16': 16, 'LABEL_17': 17, 'LABEL_18': 18, 'LABEL_19': 19, 'LABEL_20': 20, 'LABEL_21': 21, 'LABEL_22': 22, 'LABEL_23': 23, 'LABEL_24': 24, 'LABEL_25': 25, 'LABEL_26': 26, 'LABEL_27': 27, 'LABEL_28': 28, 'LABEL_29': 29, 'LABEL_30': 30, 'LABEL_31': 31}\" for key \"label2id\" as a parameter. MLflow's log_param() only accepts values no longer than 250 characters so we dropped this attribute. You can use `MLFLOW_FLATTEN_PARAMS` environment variable to flatten the parameters and avoid this message.\n"
     ]
    },
    {
     "data": {
      "text/html": [
       "\n",
       "    <div>\n",
       "      \n",
       "      <progress value='23001' max='23001' style='width:300px; height:20px; vertical-align: middle;'></progress>\n",
       "      [23001/23001 59:50, Epoch 3/3]\n",
       "    </div>\n",
       "    <table border=\"1\" class=\"dataframe\">\n",
       "  <thead>\n",
       " <tr style=\"text-align: left;\">\n",
       "      <th>Epoch</th>\n",
       "      <th>Training Loss</th>\n",
       "      <th>Validation Loss</th>\n",
       "      <th>Accuracy</th>\n",
       "    </tr>\n",
       "  </thead>\n",
       "  <tbody>\n",
       "    <tr>\n",
       "      <td>1</td>\n",
       "      <td>2.520400</td>\n",
       "      <td>2.507685</td>\n",
       "      <td>0.284205</td>\n",
       "    </tr>\n",
       "    <tr>\n",
       "      <td>2</td>\n",
       "      <td>2.287800</td>\n",
       "      <td>2.438132</td>\n",
       "      <td>0.308791</td>\n",
       "    </tr>\n",
       "    <tr>\n",
       "      <td>3</td>\n",
       "      <td>1.955100</td>\n",
       "      <td>2.479506</td>\n",
       "      <td>0.319421</td>\n",
       "    </tr>\n",
       "  </tbody>\n",
       "</table><p>"
      ],
      "text/plain": [
       "<IPython.core.display.HTML object>"
      ]
     },
     "metadata": {},
     "output_type": "display_data"
    },
    {
     "name": "stderr",
     "output_type": "stream",
     "text": [
      "Saving model checkpoint to ../../models/distilroberta-finetuned/checkpoint-500\n",
      "Configuration saved in ../../models/distilroberta-finetuned/checkpoint-500/config.json\n"
     ]
    },
    {
     "name": "stdout",
     "output_type": "stream",
     "text": [
      "Attempted to log scalar metric loss:\n",
      "3.1307\n",
      "Attempted to log scalar metric learning_rate:\n",
      "4.891309073518543e-05\n",
      "Attempted to log scalar metric epoch:\n",
      "0.07\n"
     ]
    },
    {
     "name": "stderr",
     "output_type": "stream",
     "text": [
      "Model weights saved in ../../models/distilroberta-finetuned/checkpoint-500/pytorch_model.bin\n",
      "Saving model checkpoint to ../../models/distilroberta-finetuned/checkpoint-1000\n",
      "Configuration saved in ../../models/distilroberta-finetuned/checkpoint-1000/config.json\n"
     ]
    },
    {
     "name": "stdout",
     "output_type": "stream",
     "text": [
      "Attempted to log scalar metric loss:\n",
      "2.8821\n",
      "Attempted to log scalar metric learning_rate:\n",
      "4.7826181470370854e-05\n",
      "Attempted to log scalar metric epoch:\n",
      "0.13\n"
     ]
    },
    {
     "name": "stderr",
     "output_type": "stream",
     "text": [
      "Model weights saved in ../../models/distilroberta-finetuned/checkpoint-1000/pytorch_model.bin\n",
      "Saving model checkpoint to ../../models/distilroberta-finetuned/checkpoint-1500\n",
      "Configuration saved in ../../models/distilroberta-finetuned/checkpoint-1500/config.json\n"
     ]
    },
    {
     "name": "stdout",
     "output_type": "stream",
     "text": [
      "Attempted to log scalar metric loss:\n",
      "2.7879\n",
      "Attempted to log scalar metric learning_rate:\n",
      "4.673927220555629e-05\n",
      "Attempted to log scalar metric epoch:\n",
      "0.2\n"
     ]
    },
    {
     "name": "stderr",
     "output_type": "stream",
     "text": [
      "Model weights saved in ../../models/distilroberta-finetuned/checkpoint-1500/pytorch_model.bin\n",
      "Saving model checkpoint to ../../models/distilroberta-finetuned/checkpoint-2000\n",
      "Configuration saved in ../../models/distilroberta-finetuned/checkpoint-2000/config.json\n"
     ]
    },
    {
     "name": "stdout",
     "output_type": "stream",
     "text": [
      "Attempted to log scalar metric loss:\n",
      "2.7616\n",
      "Attempted to log scalar metric learning_rate:\n",
      "4.565236294074171e-05\n",
      "Attempted to log scalar metric epoch:\n",
      "0.26\n"
     ]
    },
    {
     "name": "stderr",
     "output_type": "stream",
     "text": [
      "Model weights saved in ../../models/distilroberta-finetuned/checkpoint-2000/pytorch_model.bin\n",
      "Saving model checkpoint to ../../models/distilroberta-finetuned/checkpoint-2500\n",
      "Configuration saved in ../../models/distilroberta-finetuned/checkpoint-2500/config.json\n"
     ]
    },
    {
     "name": "stdout",
     "output_type": "stream",
     "text": [
      "Attempted to log scalar metric loss:\n",
      "2.7263\n",
      "Attempted to log scalar metric learning_rate:\n",
      "4.456545367592714e-05\n",
      "Attempted to log scalar metric epoch:\n",
      "0.33\n"
     ]
    },
    {
     "name": "stderr",
     "output_type": "stream",
     "text": [
      "Model weights saved in ../../models/distilroberta-finetuned/checkpoint-2500/pytorch_model.bin\n",
      "Saving model checkpoint to ../../models/distilroberta-finetuned/checkpoint-3000\n",
      "Configuration saved in ../../models/distilroberta-finetuned/checkpoint-3000/config.json\n"
     ]
    },
    {
     "name": "stdout",
     "output_type": "stream",
     "text": [
      "Attempted to log scalar metric loss:\n",
      "2.7273\n",
      "Attempted to log scalar metric learning_rate:\n",
      "4.3478544411112565e-05\n",
      "Attempted to log scalar metric epoch:\n",
      "0.39\n"
     ]
    },
    {
     "name": "stderr",
     "output_type": "stream",
     "text": [
      "Model weights saved in ../../models/distilroberta-finetuned/checkpoint-3000/pytorch_model.bin\n",
      "Saving model checkpoint to ../../models/distilroberta-finetuned/checkpoint-3500\n",
      "Configuration saved in ../../models/distilroberta-finetuned/checkpoint-3500/config.json\n"
     ]
    },
    {
     "name": "stdout",
     "output_type": "stream",
     "text": [
      "Attempted to log scalar metric loss:\n",
      "2.6745\n",
      "Attempted to log scalar metric learning_rate:\n",
      "4.2391635146297984e-05\n",
      "Attempted to log scalar metric epoch:\n",
      "0.46\n"
     ]
    },
    {
     "name": "stderr",
     "output_type": "stream",
     "text": [
      "Model weights saved in ../../models/distilroberta-finetuned/checkpoint-3500/pytorch_model.bin\n",
      "Saving model checkpoint to ../../models/distilroberta-finetuned/checkpoint-4000\n",
      "Configuration saved in ../../models/distilroberta-finetuned/checkpoint-4000/config.json\n"
     ]
    },
    {
     "name": "stdout",
     "output_type": "stream",
     "text": [
      "Attempted to log scalar metric loss:\n",
      "2.6662\n",
      "Attempted to log scalar metric learning_rate:\n",
      "4.1304725881483417e-05\n",
      "Attempted to log scalar metric epoch:\n",
      "0.52\n"
     ]
    },
    {
     "name": "stderr",
     "output_type": "stream",
     "text": [
      "Model weights saved in ../../models/distilroberta-finetuned/checkpoint-4000/pytorch_model.bin\n",
      "Saving model checkpoint to ../../models/distilroberta-finetuned/checkpoint-4500\n",
      "Configuration saved in ../../models/distilroberta-finetuned/checkpoint-4500/config.json\n"
     ]
    },
    {
     "name": "stdout",
     "output_type": "stream",
     "text": [
      "Attempted to log scalar metric loss:\n",
      "2.6314\n",
      "Attempted to log scalar metric learning_rate:\n",
      "4.021781661666884e-05\n",
      "Attempted to log scalar metric epoch:\n",
      "0.59\n"
     ]
    },
    {
     "name": "stderr",
     "output_type": "stream",
     "text": [
      "Model weights saved in ../../models/distilroberta-finetuned/checkpoint-4500/pytorch_model.bin\n",
      "Saving model checkpoint to ../../models/distilroberta-finetuned/checkpoint-5000\n",
      "Configuration saved in ../../models/distilroberta-finetuned/checkpoint-5000/config.json\n"
     ]
    },
    {
     "name": "stdout",
     "output_type": "stream",
     "text": [
      "Attempted to log scalar metric loss:\n",
      "2.6284\n",
      "Attempted to log scalar metric learning_rate:\n",
      "3.913090735185427e-05\n",
      "Attempted to log scalar metric epoch:\n",
      "0.65\n"
     ]
    },
    {
     "name": "stderr",
     "output_type": "stream",
     "text": [
      "Model weights saved in ../../models/distilroberta-finetuned/checkpoint-5000/pytorch_model.bin\n",
      "Saving model checkpoint to ../../models/distilroberta-finetuned/checkpoint-5500\n",
      "Configuration saved in ../../models/distilroberta-finetuned/checkpoint-5500/config.json\n"
     ]
    },
    {
     "name": "stdout",
     "output_type": "stream",
     "text": [
      "Attempted to log scalar metric loss:\n",
      "2.6162\n",
      "Attempted to log scalar metric learning_rate:\n",
      "3.8043998087039694e-05\n",
      "Attempted to log scalar metric epoch:\n",
      "0.72\n"
     ]
    },
    {
     "name": "stderr",
     "output_type": "stream",
     "text": [
      "Model weights saved in ../../models/distilroberta-finetuned/checkpoint-5500/pytorch_model.bin\n",
      "Saving model checkpoint to ../../models/distilroberta-finetuned/checkpoint-6000\n",
      "Configuration saved in ../../models/distilroberta-finetuned/checkpoint-6000/config.json\n"
     ]
    },
    {
     "name": "stdout",
     "output_type": "stream",
     "text": [
      "Attempted to log scalar metric loss:\n",
      "2.6259\n",
      "Attempted to log scalar metric learning_rate:\n",
      "3.695708882222512e-05\n",
      "Attempted to log scalar metric epoch:\n",
      "0.78\n"
     ]
    },
    {
     "name": "stderr",
     "output_type": "stream",
     "text": [
      "Model weights saved in ../../models/distilroberta-finetuned/checkpoint-6000/pytorch_model.bin\n",
      "Saving model checkpoint to ../../models/distilroberta-finetuned/checkpoint-6500\n",
      "Configuration saved in ../../models/distilroberta-finetuned/checkpoint-6500/config.json\n"
     ]
    },
    {
     "name": "stdout",
     "output_type": "stream",
     "text": [
      "Attempted to log scalar metric loss:\n",
      "2.6059\n",
      "Attempted to log scalar metric learning_rate:\n",
      "3.5870179557410546e-05\n",
      "Attempted to log scalar metric epoch:\n",
      "0.85\n"
     ]
    },
    {
     "name": "stderr",
     "output_type": "stream",
     "text": [
      "Model weights saved in ../../models/distilroberta-finetuned/checkpoint-6500/pytorch_model.bin\n",
      "Saving model checkpoint to ../../models/distilroberta-finetuned/checkpoint-7000\n",
      "Configuration saved in ../../models/distilroberta-finetuned/checkpoint-7000/config.json\n"
     ]
    },
    {
     "name": "stdout",
     "output_type": "stream",
     "text": [
      "Attempted to log scalar metric loss:\n",
      "2.5412\n",
      "Attempted to log scalar metric learning_rate:\n",
      "3.478327029259598e-05\n",
      "Attempted to log scalar metric epoch:\n",
      "0.91\n"
     ]
    },
    {
     "name": "stderr",
     "output_type": "stream",
     "text": [
      "Model weights saved in ../../models/distilroberta-finetuned/checkpoint-7000/pytorch_model.bin\n",
      "Saving model checkpoint to ../../models/distilroberta-finetuned/checkpoint-7500\n",
      "Configuration saved in ../../models/distilroberta-finetuned/checkpoint-7500/config.json\n"
     ]
    },
    {
     "name": "stdout",
     "output_type": "stream",
     "text": [
      "Attempted to log scalar metric loss:\n",
      "2.5204\n",
      "Attempted to log scalar metric learning_rate:\n",
      "3.3696361027781405e-05\n",
      "Attempted to log scalar metric epoch:\n",
      "0.98\n"
     ]
    },
    {
     "name": "stderr",
     "output_type": "stream",
     "text": [
      "Model weights saved in ../../models/distilroberta-finetuned/checkpoint-7500/pytorch_model.bin\n",
      "The following columns in the evaluation set don't have a corresponding argument in `RobertaForSequenceClassification.forward` and have been ignored: text. If text are not expected by `RobertaForSequenceClassification.forward`,  you can safely ignore this message.\n",
      "***** Running Evaluation *****\n",
      "  Num examples = 15334\n",
      "  Batch size = 8\n"
     ]
    },
    {
     "name": "stdout",
     "output_type": "stream",
     "text": [
      "Attempted to log scalar metric eval_loss:\n",
      "2.5076847076416016\n",
      "Attempted to log scalar metric eval_accuracy:\n",
      "0.2842050345637146\n",
      "Attempted to log scalar metric eval_runtime:\n",
      "90.0022\n",
      "Attempted to log scalar metric eval_samples_per_second:\n",
      "170.374\n",
      "Attempted to log scalar metric eval_steps_per_second:\n",
      "21.299\n",
      "Attempted to log scalar metric epoch:\n",
      "1.0\n"
     ]
    },
    {
     "name": "stderr",
     "output_type": "stream",
     "text": [
      "Saving model checkpoint to ../../models/distilroberta-finetuned/checkpoint-8000\n",
      "Configuration saved in ../../models/distilroberta-finetuned/checkpoint-8000/config.json\n"
     ]
    },
    {
     "name": "stdout",
     "output_type": "stream",
     "text": [
      "Attempted to log scalar metric loss:\n",
      "2.4298\n",
      "Attempted to log scalar metric learning_rate:\n",
      "3.260945176296683e-05\n",
      "Attempted to log scalar metric epoch:\n",
      "1.04\n"
     ]
    },
    {
     "name": "stderr",
     "output_type": "stream",
     "text": [
      "Model weights saved in ../../models/distilroberta-finetuned/checkpoint-8000/pytorch_model.bin\n",
      "Saving model checkpoint to ../../models/distilroberta-finetuned/checkpoint-8500\n",
      "Configuration saved in ../../models/distilroberta-finetuned/checkpoint-8500/config.json\n"
     ]
    },
    {
     "name": "stdout",
     "output_type": "stream",
     "text": [
      "Attempted to log scalar metric loss:\n",
      "2.3316\n",
      "Attempted to log scalar metric learning_rate:\n",
      "3.152254249815226e-05\n",
      "Attempted to log scalar metric epoch:\n",
      "1.11\n"
     ]
    },
    {
     "name": "stderr",
     "output_type": "stream",
     "text": [
      "Model weights saved in ../../models/distilroberta-finetuned/checkpoint-8500/pytorch_model.bin\n",
      "Saving model checkpoint to ../../models/distilroberta-finetuned/checkpoint-9000\n",
      "Configuration saved in ../../models/distilroberta-finetuned/checkpoint-9000/config.json\n"
     ]
    },
    {
     "name": "stdout",
     "output_type": "stream",
     "text": [
      "Attempted to log scalar metric loss:\n",
      "2.3244\n",
      "Attempted to log scalar metric learning_rate:\n",
      "3.0435633233337686e-05\n",
      "Attempted to log scalar metric epoch:\n",
      "1.17\n"
     ]
    },
    {
     "name": "stderr",
     "output_type": "stream",
     "text": [
      "Model weights saved in ../../models/distilroberta-finetuned/checkpoint-9000/pytorch_model.bin\n",
      "Saving model checkpoint to ../../models/distilroberta-finetuned/checkpoint-9500\n",
      "Configuration saved in ../../models/distilroberta-finetuned/checkpoint-9500/config.json\n"
     ]
    },
    {
     "name": "stdout",
     "output_type": "stream",
     "text": [
      "Attempted to log scalar metric loss:\n",
      "2.3098\n",
      "Attempted to log scalar metric learning_rate:\n",
      "2.9348723968523105e-05\n",
      "Attempted to log scalar metric epoch:\n",
      "1.24\n"
     ]
    },
    {
     "name": "stderr",
     "output_type": "stream",
     "text": [
      "Model weights saved in ../../models/distilroberta-finetuned/checkpoint-9500/pytorch_model.bin\n",
      "Saving model checkpoint to ../../models/distilroberta-finetuned/checkpoint-10000\n",
      "Configuration saved in ../../models/distilroberta-finetuned/checkpoint-10000/config.json\n"
     ]
    },
    {
     "name": "stdout",
     "output_type": "stream",
     "text": [
      "Attempted to log scalar metric loss:\n",
      "2.3056\n",
      "Attempted to log scalar metric learning_rate:\n",
      "2.8261814703708534e-05\n",
      "Attempted to log scalar metric epoch:\n",
      "1.3\n"
     ]
    },
    {
     "name": "stderr",
     "output_type": "stream",
     "text": [
      "Model weights saved in ../../models/distilroberta-finetuned/checkpoint-10000/pytorch_model.bin\n",
      "Saving model checkpoint to ../../models/distilroberta-finetuned/checkpoint-10500\n",
      "Configuration saved in ../../models/distilroberta-finetuned/checkpoint-10500/config.json\n"
     ]
    },
    {
     "name": "stdout",
     "output_type": "stream",
     "text": [
      "Attempted to log scalar metric loss:\n",
      "2.3398\n",
      "Attempted to log scalar metric learning_rate:\n",
      "2.717490543889396e-05\n",
      "Attempted to log scalar metric epoch:\n",
      "1.37\n"
     ]
    },
    {
     "name": "stderr",
     "output_type": "stream",
     "text": [
      "Model weights saved in ../../models/distilroberta-finetuned/checkpoint-10500/pytorch_model.bin\n",
      "Saving model checkpoint to ../../models/distilroberta-finetuned/checkpoint-11000\n",
      "Configuration saved in ../../models/distilroberta-finetuned/checkpoint-11000/config.json\n"
     ]
    },
    {
     "name": "stdout",
     "output_type": "stream",
     "text": [
      "Attempted to log scalar metric loss:\n",
      "2.3433\n",
      "Attempted to log scalar metric learning_rate:\n",
      "2.6087996174079386e-05\n",
      "Attempted to log scalar metric epoch:\n",
      "1.43\n"
     ]
    },
    {
     "name": "stderr",
     "output_type": "stream",
     "text": [
      "Model weights saved in ../../models/distilroberta-finetuned/checkpoint-11000/pytorch_model.bin\n",
      "Saving model checkpoint to ../../models/distilroberta-finetuned/checkpoint-11500\n",
      "Configuration saved in ../../models/distilroberta-finetuned/checkpoint-11500/config.json\n"
     ]
    },
    {
     "name": "stdout",
     "output_type": "stream",
     "text": [
      "Attempted to log scalar metric loss:\n",
      "2.2889\n",
      "Attempted to log scalar metric learning_rate:\n",
      "2.5001086909264816e-05\n",
      "Attempted to log scalar metric epoch:\n",
      "1.5\n"
     ]
    },
    {
     "name": "stderr",
     "output_type": "stream",
     "text": [
      "Model weights saved in ../../models/distilroberta-finetuned/checkpoint-11500/pytorch_model.bin\n",
      "Saving model checkpoint to ../../models/distilroberta-finetuned/checkpoint-12000\n",
      "Configuration saved in ../../models/distilroberta-finetuned/checkpoint-12000/config.json\n"
     ]
    },
    {
     "name": "stdout",
     "output_type": "stream",
     "text": [
      "Attempted to log scalar metric loss:\n",
      "2.3036\n",
      "Attempted to log scalar metric learning_rate:\n",
      "2.391417764445024e-05\n",
      "Attempted to log scalar metric epoch:\n",
      "1.57\n"
     ]
    },
    {
     "name": "stderr",
     "output_type": "stream",
     "text": [
      "Model weights saved in ../../models/distilroberta-finetuned/checkpoint-12000/pytorch_model.bin\n",
      "Saving model checkpoint to ../../models/distilroberta-finetuned/checkpoint-12500\n",
      "Configuration saved in ../../models/distilroberta-finetuned/checkpoint-12500/config.json\n"
     ]
    },
    {
     "name": "stdout",
     "output_type": "stream",
     "text": [
      "Attempted to log scalar metric loss:\n",
      "2.3061\n",
      "Attempted to log scalar metric learning_rate:\n",
      "2.2827268379635667e-05\n",
      "Attempted to log scalar metric epoch:\n",
      "1.63\n"
     ]
    },
    {
     "name": "stderr",
     "output_type": "stream",
     "text": [
      "Model weights saved in ../../models/distilroberta-finetuned/checkpoint-12500/pytorch_model.bin\n",
      "Saving model checkpoint to ../../models/distilroberta-finetuned/checkpoint-13000\n",
      "Configuration saved in ../../models/distilroberta-finetuned/checkpoint-13000/config.json\n"
     ]
    },
    {
     "name": "stdout",
     "output_type": "stream",
     "text": [
      "Attempted to log scalar metric loss:\n",
      "2.2936\n",
      "Attempted to log scalar metric learning_rate:\n",
      "2.1740359114821097e-05\n",
      "Attempted to log scalar metric epoch:\n",
      "1.7\n"
     ]
    },
    {
     "name": "stderr",
     "output_type": "stream",
     "text": [
      "Model weights saved in ../../models/distilroberta-finetuned/checkpoint-13000/pytorch_model.bin\n",
      "Saving model checkpoint to ../../models/distilroberta-finetuned/checkpoint-13500\n",
      "Configuration saved in ../../models/distilroberta-finetuned/checkpoint-13500/config.json\n"
     ]
    },
    {
     "name": "stdout",
     "output_type": "stream",
     "text": [
      "Attempted to log scalar metric loss:\n",
      "2.3285\n",
      "Attempted to log scalar metric learning_rate:\n",
      "2.0653449850006523e-05\n",
      "Attempted to log scalar metric epoch:\n",
      "1.76\n"
     ]
    },
    {
     "name": "stderr",
     "output_type": "stream",
     "text": [
      "Model weights saved in ../../models/distilroberta-finetuned/checkpoint-13500/pytorch_model.bin\n",
      "Saving model checkpoint to ../../models/distilroberta-finetuned/checkpoint-14000\n",
      "Configuration saved in ../../models/distilroberta-finetuned/checkpoint-14000/config.json\n"
     ]
    },
    {
     "name": "stdout",
     "output_type": "stream",
     "text": [
      "Attempted to log scalar metric loss:\n",
      "2.3153\n",
      "Attempted to log scalar metric learning_rate:\n",
      "1.9566540585191952e-05\n",
      "Attempted to log scalar metric epoch:\n",
      "1.83\n"
     ]
    },
    {
     "name": "stderr",
     "output_type": "stream",
     "text": [
      "Model weights saved in ../../models/distilroberta-finetuned/checkpoint-14000/pytorch_model.bin\n",
      "Saving model checkpoint to ../../models/distilroberta-finetuned/checkpoint-14500\n",
      "Configuration saved in ../../models/distilroberta-finetuned/checkpoint-14500/config.json\n"
     ]
    },
    {
     "name": "stdout",
     "output_type": "stream",
     "text": [
      "Attempted to log scalar metric loss:\n",
      "2.2559\n",
      "Attempted to log scalar metric learning_rate:\n",
      "1.8479631320377375e-05\n",
      "Attempted to log scalar metric epoch:\n",
      "1.89\n"
     ]
    },
    {
     "name": "stderr",
     "output_type": "stream",
     "text": [
      "Model weights saved in ../../models/distilroberta-finetuned/checkpoint-14500/pytorch_model.bin\n",
      "Saving model checkpoint to ../../models/distilroberta-finetuned/checkpoint-15000\n",
      "Configuration saved in ../../models/distilroberta-finetuned/checkpoint-15000/config.json\n"
     ]
    },
    {
     "name": "stdout",
     "output_type": "stream",
     "text": [
      "Attempted to log scalar metric loss:\n",
      "2.2878\n",
      "Attempted to log scalar metric learning_rate:\n",
      "1.73927220555628e-05\n",
      "Attempted to log scalar metric epoch:\n",
      "1.96\n"
     ]
    },
    {
     "name": "stderr",
     "output_type": "stream",
     "text": [
      "Model weights saved in ../../models/distilroberta-finetuned/checkpoint-15000/pytorch_model.bin\n",
      "The following columns in the evaluation set don't have a corresponding argument in `RobertaForSequenceClassification.forward` and have been ignored: text. If text are not expected by `RobertaForSequenceClassification.forward`,  you can safely ignore this message.\n",
      "***** Running Evaluation *****\n",
      "  Num examples = 15334\n",
      "  Batch size = 8\n"
     ]
    },
    {
     "name": "stdout",
     "output_type": "stream",
     "text": [
      "Attempted to log scalar metric eval_loss:\n",
      "2.4381320476531982\n",
      "Attempted to log scalar metric eval_accuracy:\n",
      "0.30879092213382026\n",
      "Attempted to log scalar metric eval_runtime:\n",
      "89.9796\n",
      "Attempted to log scalar metric eval_samples_per_second:\n",
      "170.416\n",
      "Attempted to log scalar metric eval_steps_per_second:\n",
      "21.305\n",
      "Attempted to log scalar metric epoch:\n",
      "2.0\n"
     ]
    },
    {
     "name": "stderr",
     "output_type": "stream",
     "text": [
      "Saving model checkpoint to ../../models/distilroberta-finetuned/checkpoint-15500\n",
      "Configuration saved in ../../models/distilroberta-finetuned/checkpoint-15500/config.json\n"
     ]
    },
    {
     "name": "stdout",
     "output_type": "stream",
     "text": [
      "Attempted to log scalar metric loss:\n",
      "2.1943\n",
      "Attempted to log scalar metric learning_rate:\n",
      "1.630581279074823e-05\n",
      "Attempted to log scalar metric epoch:\n",
      "2.02\n"
     ]
    },
    {
     "name": "stderr",
     "output_type": "stream",
     "text": [
      "Model weights saved in ../../models/distilroberta-finetuned/checkpoint-15500/pytorch_model.bin\n",
      "Saving model checkpoint to ../../models/distilroberta-finetuned/checkpoint-16000\n",
      "Configuration saved in ../../models/distilroberta-finetuned/checkpoint-16000/config.json\n"
     ]
    },
    {
     "name": "stdout",
     "output_type": "stream",
     "text": [
      "Attempted to log scalar metric loss:\n",
      "2.0036\n",
      "Attempted to log scalar metric learning_rate:\n",
      "1.5218903525933656e-05\n",
      "Attempted to log scalar metric epoch:\n",
      "2.09\n"
     ]
    },
    {
     "name": "stderr",
     "output_type": "stream",
     "text": [
      "Model weights saved in ../../models/distilroberta-finetuned/checkpoint-16000/pytorch_model.bin\n",
      "Saving model checkpoint to ../../models/distilroberta-finetuned/checkpoint-16500\n",
      "Configuration saved in ../../models/distilroberta-finetuned/checkpoint-16500/config.json\n"
     ]
    },
    {
     "name": "stdout",
     "output_type": "stream",
     "text": [
      "Attempted to log scalar metric loss:\n",
      "1.9668\n",
      "Attempted to log scalar metric learning_rate:\n",
      "1.4131994261119083e-05\n",
      "Attempted to log scalar metric epoch:\n",
      "2.15\n"
     ]
    },
    {
     "name": "stderr",
     "output_type": "stream",
     "text": [
      "Model weights saved in ../../models/distilroberta-finetuned/checkpoint-16500/pytorch_model.bin\n",
      "Saving model checkpoint to ../../models/distilroberta-finetuned/checkpoint-17000\n",
      "Configuration saved in ../../models/distilroberta-finetuned/checkpoint-17000/config.json\n"
     ]
    },
    {
     "name": "stdout",
     "output_type": "stream",
     "text": [
      "Attempted to log scalar metric loss:\n",
      "2.0054\n",
      "Attempted to log scalar metric learning_rate:\n",
      "1.3045084996304511e-05\n",
      "Attempted to log scalar metric epoch:\n",
      "2.22\n"
     ]
    },
    {
     "name": "stderr",
     "output_type": "stream",
     "text": [
      "Model weights saved in ../../models/distilroberta-finetuned/checkpoint-17000/pytorch_model.bin\n",
      "Saving model checkpoint to ../../models/distilroberta-finetuned/checkpoint-17500\n",
      "Configuration saved in ../../models/distilroberta-finetuned/checkpoint-17500/config.json\n"
     ]
    },
    {
     "name": "stdout",
     "output_type": "stream",
     "text": [
      "Attempted to log scalar metric loss:\n",
      "2.0004\n",
      "Attempted to log scalar metric learning_rate:\n",
      "1.1958175731489935e-05\n",
      "Attempted to log scalar metric epoch:\n",
      "2.28\n"
     ]
    },
    {
     "name": "stderr",
     "output_type": "stream",
     "text": [
      "Model weights saved in ../../models/distilroberta-finetuned/checkpoint-17500/pytorch_model.bin\n",
      "Saving model checkpoint to ../../models/distilroberta-finetuned/checkpoint-18000\n",
      "Configuration saved in ../../models/distilroberta-finetuned/checkpoint-18000/config.json\n"
     ]
    },
    {
     "name": "stdout",
     "output_type": "stream",
     "text": [
      "Attempted to log scalar metric loss:\n",
      "1.9661\n",
      "Attempted to log scalar metric learning_rate:\n",
      "1.0871266466675363e-05\n",
      "Attempted to log scalar metric epoch:\n",
      "2.35\n"
     ]
    },
    {
     "name": "stderr",
     "output_type": "stream",
     "text": [
      "Model weights saved in ../../models/distilroberta-finetuned/checkpoint-18000/pytorch_model.bin\n",
      "Saving model checkpoint to ../../models/distilroberta-finetuned/checkpoint-18500\n",
      "Configuration saved in ../../models/distilroberta-finetuned/checkpoint-18500/config.json\n"
     ]
    },
    {
     "name": "stdout",
     "output_type": "stream",
     "text": [
      "Attempted to log scalar metric loss:\n",
      "1.9995\n",
      "Attempted to log scalar metric learning_rate:\n",
      "9.784357201860789e-06\n",
      "Attempted to log scalar metric epoch:\n",
      "2.41\n"
     ]
    },
    {
     "name": "stderr",
     "output_type": "stream",
     "text": [
      "Model weights saved in ../../models/distilroberta-finetuned/checkpoint-18500/pytorch_model.bin\n",
      "Saving model checkpoint to ../../models/distilroberta-finetuned/checkpoint-19000\n",
      "Configuration saved in ../../models/distilroberta-finetuned/checkpoint-19000/config.json\n"
     ]
    },
    {
     "name": "stdout",
     "output_type": "stream",
     "text": [
      "Attempted to log scalar metric loss:\n",
      "1.9819\n",
      "Attempted to log scalar metric learning_rate:\n",
      "8.697447937046216e-06\n",
      "Attempted to log scalar metric epoch:\n",
      "2.48\n"
     ]
    },
    {
     "name": "stderr",
     "output_type": "stream",
     "text": [
      "Model weights saved in ../../models/distilroberta-finetuned/checkpoint-19000/pytorch_model.bin\n",
      "Saving model checkpoint to ../../models/distilroberta-finetuned/checkpoint-19500\n",
      "Configuration saved in ../../models/distilroberta-finetuned/checkpoint-19500/config.json\n"
     ]
    },
    {
     "name": "stdout",
     "output_type": "stream",
     "text": [
      "Attempted to log scalar metric loss:\n",
      "1.986\n",
      "Attempted to log scalar metric learning_rate:\n",
      "7.610538672231643e-06\n",
      "Attempted to log scalar metric epoch:\n",
      "2.54\n"
     ]
    },
    {
     "name": "stderr",
     "output_type": "stream",
     "text": [
      "Model weights saved in ../../models/distilroberta-finetuned/checkpoint-19500/pytorch_model.bin\n",
      "Saving model checkpoint to ../../models/distilroberta-finetuned/checkpoint-20000\n",
      "Configuration saved in ../../models/distilroberta-finetuned/checkpoint-20000/config.json\n"
     ]
    },
    {
     "name": "stdout",
     "output_type": "stream",
     "text": [
      "Attempted to log scalar metric loss:\n",
      "1.9451\n",
      "Attempted to log scalar metric learning_rate:\n",
      "6.523629407417069e-06\n",
      "Attempted to log scalar metric epoch:\n",
      "2.61\n"
     ]
    },
    {
     "name": "stderr",
     "output_type": "stream",
     "text": [
      "Model weights saved in ../../models/distilroberta-finetuned/checkpoint-20000/pytorch_model.bin\n",
      "Saving model checkpoint to ../../models/distilroberta-finetuned/checkpoint-20500\n",
      "Configuration saved in ../../models/distilroberta-finetuned/checkpoint-20500/config.json\n"
     ]
    },
    {
     "name": "stdout",
     "output_type": "stream",
     "text": [
      "Attempted to log scalar metric loss:\n",
      "1.9905\n",
      "Attempted to log scalar metric learning_rate:\n",
      "5.436720142602496e-06\n",
      "Attempted to log scalar metric epoch:\n",
      "2.67\n"
     ]
    },
    {
     "name": "stderr",
     "output_type": "stream",
     "text": [
      "Model weights saved in ../../models/distilroberta-finetuned/checkpoint-20500/pytorch_model.bin\n",
      "Saving model checkpoint to ../../models/distilroberta-finetuned/checkpoint-21000\n",
      "Configuration saved in ../../models/distilroberta-finetuned/checkpoint-21000/config.json\n"
     ]
    },
    {
     "name": "stdout",
     "output_type": "stream",
     "text": [
      "Attempted to log scalar metric loss:\n",
      "2.0059\n",
      "Attempted to log scalar metric learning_rate:\n",
      "4.3498108777879226e-06\n",
      "Attempted to log scalar metric epoch:\n",
      "2.74\n"
     ]
    },
    {
     "name": "stderr",
     "output_type": "stream",
     "text": [
      "Model weights saved in ../../models/distilroberta-finetuned/checkpoint-21000/pytorch_model.bin\n",
      "Saving model checkpoint to ../../models/distilroberta-finetuned/checkpoint-21500\n",
      "Configuration saved in ../../models/distilroberta-finetuned/checkpoint-21500/config.json\n"
     ]
    },
    {
     "name": "stdout",
     "output_type": "stream",
     "text": [
      "Attempted to log scalar metric loss:\n",
      "1.9795\n",
      "Attempted to log scalar metric learning_rate:\n",
      "3.2629016129733493e-06\n",
      "Attempted to log scalar metric epoch:\n",
      "2.8\n"
     ]
    },
    {
     "name": "stderr",
     "output_type": "stream",
     "text": [
      "Model weights saved in ../../models/distilroberta-finetuned/checkpoint-21500/pytorch_model.bin\n",
      "Saving model checkpoint to ../../models/distilroberta-finetuned/checkpoint-22000\n",
      "Configuration saved in ../../models/distilroberta-finetuned/checkpoint-22000/config.json\n"
     ]
    },
    {
     "name": "stdout",
     "output_type": "stream",
     "text": [
      "Attempted to log scalar metric loss:\n",
      "1.9223\n",
      "Attempted to log scalar metric learning_rate:\n",
      "2.1759923481587757e-06\n",
      "Attempted to log scalar metric epoch:\n",
      "2.87\n"
     ]
    },
    {
     "name": "stderr",
     "output_type": "stream",
     "text": [
      "Model weights saved in ../../models/distilroberta-finetuned/checkpoint-22000/pytorch_model.bin\n",
      "Saving model checkpoint to ../../models/distilroberta-finetuned/checkpoint-22500\n",
      "Configuration saved in ../../models/distilroberta-finetuned/checkpoint-22500/config.json\n"
     ]
    },
    {
     "name": "stdout",
     "output_type": "stream",
     "text": [
      "Attempted to log scalar metric loss:\n",
      "1.9829\n",
      "Attempted to log scalar metric learning_rate:\n",
      "1.0890830833442024e-06\n",
      "Attempted to log scalar metric epoch:\n",
      "2.93\n"
     ]
    },
    {
     "name": "stderr",
     "output_type": "stream",
     "text": [
      "Model weights saved in ../../models/distilroberta-finetuned/checkpoint-22500/pytorch_model.bin\n",
      "Saving model checkpoint to ../../models/distilroberta-finetuned/checkpoint-23000\n",
      "Configuration saved in ../../models/distilroberta-finetuned/checkpoint-23000/config.json\n"
     ]
    },
    {
     "name": "stdout",
     "output_type": "stream",
     "text": [
      "Attempted to log scalar metric loss:\n",
      "1.9551\n",
      "Attempted to log scalar metric learning_rate:\n",
      "2.1738185296291465e-09\n",
      "Attempted to log scalar metric epoch:\n",
      "3.0\n"
     ]
    },
    {
     "name": "stderr",
     "output_type": "stream",
     "text": [
      "Model weights saved in ../../models/distilroberta-finetuned/checkpoint-23000/pytorch_model.bin\n",
      "The following columns in the evaluation set don't have a corresponding argument in `RobertaForSequenceClassification.forward` and have been ignored: text. If text are not expected by `RobertaForSequenceClassification.forward`,  you can safely ignore this message.\n",
      "***** Running Evaluation *****\n",
      "  Num examples = 15334\n",
      "  Batch size = 8\n"
     ]
    },
    {
     "name": "stdout",
     "output_type": "stream",
     "text": [
      "Attempted to log scalar metric eval_loss:\n",
      "2.4795055389404297\n",
      "Attempted to log scalar metric eval_accuracy:\n",
      "0.3194208947437068\n",
      "Attempted to log scalar metric eval_runtime:\n",
      "89.9825\n",
      "Attempted to log scalar metric eval_samples_per_second:\n",
      "170.411\n",
      "Attempted to log scalar metric eval_steps_per_second:\n",
      "21.304\n",
      "Attempted to log scalar metric epoch:\n",
      "3.0\n"
     ]
    },
    {
     "name": "stderr",
     "output_type": "stream",
     "text": [
      "\n",
      "\n",
      "Training completed. Do not forget to share your model on huggingface.co/models =)\n",
      "\n",
      "\n"
     ]
    },
    {
     "name": "stdout",
     "output_type": "stream",
     "text": [
      "Attempted to log scalar metric train_runtime:\n",
      "3591.6709\n",
      "Attempted to log scalar metric train_samples_per_second:\n",
      "51.23\n",
      "Attempted to log scalar metric train_steps_per_second:\n",
      "6.404\n",
      "Attempted to log scalar metric total_flos:\n",
      "2.438730670060339e+16\n",
      "Attempted to log scalar metric train_loss:\n",
      "2.3298980236924174\n",
      "Attempted to log scalar metric epoch:\n",
      "3.0\n"
     ]
    },
    {
     "data": {
      "text/plain": [
       "TrainOutput(global_step=23001, training_loss=2.3298980236924174, metrics={'train_runtime': 3591.6709, 'train_samples_per_second': 51.23, 'train_steps_per_second': 6.404, 'total_flos': 2.438730670060339e+16, 'train_loss': 2.3298980236924174, 'epoch': 3.0})"
      ]
     },
     "execution_count": 195,
     "metadata": {},
     "output_type": "execute_result"
    }
   ],
   "source": [
    "trainer.train()"
   ]
  },
  {
   "cell_type": "code",
   "execution_count": 199,
   "id": "16e2a466-ad3c-4ef6-904e-57279d1b3655",
   "metadata": {},
   "outputs": [
    {
     "name": "stderr",
     "output_type": "stream",
     "text": [
      "Saving model checkpoint to ../../models/distilroberta-finetuned\n",
      "Configuration saved in ../../models/distilroberta-finetuned/config.json\n",
      "Model weights saved in ../../models/distilroberta-finetuned/pytorch_model.bin\n"
     ]
    }
   ],
   "source": [
    "trainer.save_model(output_dir)"
   ]
  },
  {
   "cell_type": "code",
   "execution_count": 204,
   "id": "50a14842-12a0-4c5d-9c71-adb5c5eddeff",
   "metadata": {},
   "outputs": [
    {
     "name": "stderr",
     "output_type": "stream",
     "text": [
      "tokenizer config file saved in ../../models/distilroberta-finetuned/tokenizer_config.json\n",
      "Special tokens file saved in ../../models/distilroberta-finetuned/special_tokens_map.json\n"
     ]
    },
    {
     "data": {
      "text/plain": [
       "('../../models/distilroberta-finetuned/vocab.json',\n",
       " '../../models/distilroberta-finetuned/merges.txt')"
      ]
     },
     "execution_count": 204,
     "metadata": {},
     "output_type": "execute_result"
    }
   ],
   "source": [
    "tokenizer.save_pretrained(output_dir)\n",
    "tokenizer.save_vocabulary(output_dir)"
   ]
  },
  {
   "cell_type": "code",
   "execution_count": 211,
   "id": "c93e50b8-147b-40b7-873d-351bd54ff48c",
   "metadata": {},
   "outputs": [],
   "source": [
    "id2label = dict((v,k) for k,v in labels_map.items())"
   ]
  },
  {
   "cell_type": "code",
   "execution_count": 212,
   "id": "849fab6a-711c-412d-9369-dbd2bb510b86",
   "metadata": {
    "scrolled": true,
    "tags": []
   },
   "outputs": [
    {
     "name": "stderr",
     "output_type": "stream",
     "text": [
      "loading configuration file ../../models/distilroberta-finetuned/config.json\n",
      "Model config RobertaConfig {\n",
      "  \"_name_or_path\": \"../../models/distilroberta-finetuned\",\n",
      "  \"architectures\": [\n",
      "    \"RobertaForSequenceClassification\"\n",
      "  ],\n",
      "  \"attention_probs_dropout_prob\": 0.1,\n",
      "  \"bos_token_id\": 0,\n",
      "  \"classifier_dropout\": null,\n",
      "  \"eos_token_id\": 2,\n",
      "  \"hidden_act\": \"gelu\",\n",
      "  \"hidden_dropout_prob\": 0.1,\n",
      "  \"hidden_size\": 768,\n",
      "  \"id2label\": {\n",
      "    \"0\": \"LABEL_0\",\n",
      "    \"1\": \"LABEL_1\",\n",
      "    \"2\": \"LABEL_2\",\n",
      "    \"3\": \"LABEL_3\",\n",
      "    \"4\": \"LABEL_4\",\n",
      "    \"5\": \"LABEL_5\",\n",
      "    \"6\": \"LABEL_6\",\n",
      "    \"7\": \"LABEL_7\",\n",
      "    \"8\": \"LABEL_8\",\n",
      "    \"9\": \"LABEL_9\",\n",
      "    \"10\": \"LABEL_10\",\n",
      "    \"11\": \"LABEL_11\",\n",
      "    \"12\": \"LABEL_12\",\n",
      "    \"13\": \"LABEL_13\",\n",
      "    \"14\": \"LABEL_14\",\n",
      "    \"15\": \"LABEL_15\",\n",
      "    \"16\": \"LABEL_16\",\n",
      "    \"17\": \"LABEL_17\",\n",
      "    \"18\": \"LABEL_18\",\n",
      "    \"19\": \"LABEL_19\",\n",
      "    \"20\": \"LABEL_20\",\n",
      "    \"21\": \"LABEL_21\",\n",
      "    \"22\": \"LABEL_22\",\n",
      "    \"23\": \"LABEL_23\",\n",
      "    \"24\": \"LABEL_24\",\n",
      "    \"25\": \"LABEL_25\",\n",
      "    \"26\": \"LABEL_26\",\n",
      "    \"27\": \"LABEL_27\",\n",
      "    \"28\": \"LABEL_28\",\n",
      "    \"29\": \"LABEL_29\",\n",
      "    \"30\": \"LABEL_30\",\n",
      "    \"31\": \"LABEL_31\"\n",
      "  },\n",
      "  \"initializer_range\": 0.02,\n",
      "  \"intermediate_size\": 3072,\n",
      "  \"label2id\": {\n",
      "    \"LABEL_0\": 0,\n",
      "    \"LABEL_1\": 1,\n",
      "    \"LABEL_10\": 10,\n",
      "    \"LABEL_11\": 11,\n",
      "    \"LABEL_12\": 12,\n",
      "    \"LABEL_13\": 13,\n",
      "    \"LABEL_14\": 14,\n",
      "    \"LABEL_15\": 15,\n",
      "    \"LABEL_16\": 16,\n",
      "    \"LABEL_17\": 17,\n",
      "    \"LABEL_18\": 18,\n",
      "    \"LABEL_19\": 19,\n",
      "    \"LABEL_2\": 2,\n",
      "    \"LABEL_20\": 20,\n",
      "    \"LABEL_21\": 21,\n",
      "    \"LABEL_22\": 22,\n",
      "    \"LABEL_23\": 23,\n",
      "    \"LABEL_24\": 24,\n",
      "    \"LABEL_25\": 25,\n",
      "    \"LABEL_26\": 26,\n",
      "    \"LABEL_27\": 27,\n",
      "    \"LABEL_28\": 28,\n",
      "    \"LABEL_29\": 29,\n",
      "    \"LABEL_3\": 3,\n",
      "    \"LABEL_30\": 30,\n",
      "    \"LABEL_31\": 31,\n",
      "    \"LABEL_4\": 4,\n",
      "    \"LABEL_5\": 5,\n",
      "    \"LABEL_6\": 6,\n",
      "    \"LABEL_7\": 7,\n",
      "    \"LABEL_8\": 8,\n",
      "    \"LABEL_9\": 9\n",
      "  },\n",
      "  \"layer_norm_eps\": 1e-05,\n",
      "  \"max_position_embeddings\": 514,\n",
      "  \"model_type\": \"roberta\",\n",
      "  \"num_attention_heads\": 12,\n",
      "  \"num_hidden_layers\": 6,\n",
      "  \"pad_token_id\": 1,\n",
      "  \"position_embedding_type\": \"absolute\",\n",
      "  \"problem_type\": \"single_label_classification\",\n",
      "  \"torch_dtype\": \"float32\",\n",
      "  \"transformers_version\": \"4.19.2\",\n",
      "  \"type_vocab_size\": 1,\n",
      "  \"use_cache\": true,\n",
      "  \"vocab_size\": 50265\n",
      "}\n",
      "\n",
      "loading configuration file ../../models/distilroberta-finetuned/config.json\n",
      "Model config RobertaConfig {\n",
      "  \"_name_or_path\": \"../../models/distilroberta-finetuned\",\n",
      "  \"architectures\": [\n",
      "    \"RobertaForSequenceClassification\"\n",
      "  ],\n",
      "  \"attention_probs_dropout_prob\": 0.1,\n",
      "  \"bos_token_id\": 0,\n",
      "  \"classifier_dropout\": null,\n",
      "  \"eos_token_id\": 2,\n",
      "  \"hidden_act\": \"gelu\",\n",
      "  \"hidden_dropout_prob\": 0.1,\n",
      "  \"hidden_size\": 768,\n",
      "  \"id2label\": {\n",
      "    \"0\": \"LABEL_0\",\n",
      "    \"1\": \"LABEL_1\",\n",
      "    \"2\": \"LABEL_2\",\n",
      "    \"3\": \"LABEL_3\",\n",
      "    \"4\": \"LABEL_4\",\n",
      "    \"5\": \"LABEL_5\",\n",
      "    \"6\": \"LABEL_6\",\n",
      "    \"7\": \"LABEL_7\",\n",
      "    \"8\": \"LABEL_8\",\n",
      "    \"9\": \"LABEL_9\",\n",
      "    \"10\": \"LABEL_10\",\n",
      "    \"11\": \"LABEL_11\",\n",
      "    \"12\": \"LABEL_12\",\n",
      "    \"13\": \"LABEL_13\",\n",
      "    \"14\": \"LABEL_14\",\n",
      "    \"15\": \"LABEL_15\",\n",
      "    \"16\": \"LABEL_16\",\n",
      "    \"17\": \"LABEL_17\",\n",
      "    \"18\": \"LABEL_18\",\n",
      "    \"19\": \"LABEL_19\",\n",
      "    \"20\": \"LABEL_20\",\n",
      "    \"21\": \"LABEL_21\",\n",
      "    \"22\": \"LABEL_22\",\n",
      "    \"23\": \"LABEL_23\",\n",
      "    \"24\": \"LABEL_24\",\n",
      "    \"25\": \"LABEL_25\",\n",
      "    \"26\": \"LABEL_26\",\n",
      "    \"27\": \"LABEL_27\",\n",
      "    \"28\": \"LABEL_28\",\n",
      "    \"29\": \"LABEL_29\",\n",
      "    \"30\": \"LABEL_30\",\n",
      "    \"31\": \"LABEL_31\"\n",
      "  },\n",
      "  \"initializer_range\": 0.02,\n",
      "  \"intermediate_size\": 3072,\n",
      "  \"label2id\": {\n",
      "    \"LABEL_0\": 0,\n",
      "    \"LABEL_1\": 1,\n",
      "    \"LABEL_10\": 10,\n",
      "    \"LABEL_11\": 11,\n",
      "    \"LABEL_12\": 12,\n",
      "    \"LABEL_13\": 13,\n",
      "    \"LABEL_14\": 14,\n",
      "    \"LABEL_15\": 15,\n",
      "    \"LABEL_16\": 16,\n",
      "    \"LABEL_17\": 17,\n",
      "    \"LABEL_18\": 18,\n",
      "    \"LABEL_19\": 19,\n",
      "    \"LABEL_2\": 2,\n",
      "    \"LABEL_20\": 20,\n",
      "    \"LABEL_21\": 21,\n",
      "    \"LABEL_22\": 22,\n",
      "    \"LABEL_23\": 23,\n",
      "    \"LABEL_24\": 24,\n",
      "    \"LABEL_25\": 25,\n",
      "    \"LABEL_26\": 26,\n",
      "    \"LABEL_27\": 27,\n",
      "    \"LABEL_28\": 28,\n",
      "    \"LABEL_29\": 29,\n",
      "    \"LABEL_3\": 3,\n",
      "    \"LABEL_30\": 30,\n",
      "    \"LABEL_31\": 31,\n",
      "    \"LABEL_4\": 4,\n",
      "    \"LABEL_5\": 5,\n",
      "    \"LABEL_6\": 6,\n",
      "    \"LABEL_7\": 7,\n",
      "    \"LABEL_8\": 8,\n",
      "    \"LABEL_9\": 9\n",
      "  },\n",
      "  \"layer_norm_eps\": 1e-05,\n",
      "  \"max_position_embeddings\": 514,\n",
      "  \"model_type\": \"roberta\",\n",
      "  \"num_attention_heads\": 12,\n",
      "  \"num_hidden_layers\": 6,\n",
      "  \"pad_token_id\": 1,\n",
      "  \"position_embedding_type\": \"absolute\",\n",
      "  \"problem_type\": \"single_label_classification\",\n",
      "  \"torch_dtype\": \"float32\",\n",
      "  \"transformers_version\": \"4.19.2\",\n",
      "  \"type_vocab_size\": 1,\n",
      "  \"use_cache\": true,\n",
      "  \"vocab_size\": 50265\n",
      "}\n",
      "\n",
      "loading weights file ../../models/distilroberta-finetuned/pytorch_model.bin\n",
      "All model checkpoint weights were used when initializing RobertaForSequenceClassification.\n",
      "\n",
      "All the weights of RobertaForSequenceClassification were initialized from the model checkpoint at ../../models/distilroberta-finetuned.\n",
      "If your task is similar to the task the model of the checkpoint was trained on, you can already use RobertaForSequenceClassification for predictions without further training.\n",
      "Didn't find file ../../models/distilroberta-finetuned/added_tokens.json. We won't load it.\n",
      "loading file ../../models/distilroberta-finetuned/vocab.json\n",
      "loading file ../../models/distilroberta-finetuned/merges.txt\n",
      "loading file ../../models/distilroberta-finetuned/tokenizer.json\n",
      "loading file None\n",
      "loading file ../../models/distilroberta-finetuned/special_tokens_map.json\n",
      "loading file ../../models/distilroberta-finetuned/tokenizer_config.json\n"
     ]
    }
   ],
   "source": [
    "from transformers import pipeline\n",
    "classifier = pipeline(\"text-classification\", model=output_dir, return_all_scores=True)"
   ]
  },
  {
   "cell_type": "code",
   "execution_count": 215,
   "id": "3716befe-b1be-452f-91cf-6f72dd3669d5",
   "metadata": {},
   "outputs": [],
   "source": [
    "classifier.model.config.id2label = id2label\n",
    "classifier.model.config.label2id = labels_map"
   ]
  },
  {
   "cell_type": "code",
   "execution_count": 216,
   "id": "8f1e500a-fbc7-4e56-b4c5-5161ddd49630",
   "metadata": {},
   "outputs": [
    {
     "data": {
      "text/plain": [
       "RobertaConfig {\n",
       "  \"_name_or_path\": \"../../models/distilroberta-finetuned\",\n",
       "  \"architectures\": [\n",
       "    \"RobertaForSequenceClassification\"\n",
       "  ],\n",
       "  \"attention_probs_dropout_prob\": 0.1,\n",
       "  \"bos_token_id\": 0,\n",
       "  \"classifier_dropout\": null,\n",
       "  \"eos_token_id\": 2,\n",
       "  \"hidden_act\": \"gelu\",\n",
       "  \"hidden_dropout_prob\": 0.1,\n",
       "  \"hidden_size\": 768,\n",
       "  \"id2label\": {\n",
       "    \"0\": \"afraid\",\n",
       "    \"1\": \"angry\",\n",
       "    \"2\": \"annoyed\",\n",
       "    \"3\": \"anticipating\",\n",
       "    \"4\": \"anxious\",\n",
       "    \"5\": \"apprehensive\",\n",
       "    \"6\": \"ashamed\",\n",
       "    \"7\": \"caring\",\n",
       "    \"8\": \"confident\",\n",
       "    \"9\": \"content\",\n",
       "    \"10\": \"devastated\",\n",
       "    \"11\": \"disappointed\",\n",
       "    \"12\": \"disgusted\",\n",
       "    \"13\": \"embarrassed\",\n",
       "    \"14\": \"excited\",\n",
       "    \"15\": \"faithful\",\n",
       "    \"16\": \"furious\",\n",
       "    \"17\": \"grateful\",\n",
       "    \"18\": \"guilty\",\n",
       "    \"19\": \"hopeful\",\n",
       "    \"20\": \"impressed\",\n",
       "    \"21\": \"jealous\",\n",
       "    \"22\": \"joyful\",\n",
       "    \"23\": \"lonely\",\n",
       "    \"24\": \"nostalgic\",\n",
       "    \"25\": \"prepared\",\n",
       "    \"26\": \"proud\",\n",
       "    \"27\": \"sad\",\n",
       "    \"28\": \"sentimental\",\n",
       "    \"29\": \"surprised\",\n",
       "    \"30\": \"terrified\",\n",
       "    \"31\": \"trusting\"\n",
       "  },\n",
       "  \"initializer_range\": 0.02,\n",
       "  \"intermediate_size\": 3072,\n",
       "  \"label2id\": {\n",
       "    \"afraid\": 0,\n",
       "    \"angry\": 1,\n",
       "    \"annoyed\": 2,\n",
       "    \"anticipating\": 3,\n",
       "    \"anxious\": 4,\n",
       "    \"apprehensive\": 5,\n",
       "    \"ashamed\": 6,\n",
       "    \"caring\": 7,\n",
       "    \"confident\": 8,\n",
       "    \"content\": 9,\n",
       "    \"devastated\": 10,\n",
       "    \"disappointed\": 11,\n",
       "    \"disgusted\": 12,\n",
       "    \"embarrassed\": 13,\n",
       "    \"excited\": 14,\n",
       "    \"faithful\": 15,\n",
       "    \"furious\": 16,\n",
       "    \"grateful\": 17,\n",
       "    \"guilty\": 18,\n",
       "    \"hopeful\": 19,\n",
       "    \"impressed\": 20,\n",
       "    \"jealous\": 21,\n",
       "    \"joyful\": 22,\n",
       "    \"lonely\": 23,\n",
       "    \"nostalgic\": 24,\n",
       "    \"prepared\": 25,\n",
       "    \"proud\": 26,\n",
       "    \"sad\": 27,\n",
       "    \"sentimental\": 28,\n",
       "    \"surprised\": 29,\n",
       "    \"terrified\": 30,\n",
       "    \"trusting\": 31\n",
       "  },\n",
       "  \"layer_norm_eps\": 1e-05,\n",
       "  \"max_position_embeddings\": 514,\n",
       "  \"model_type\": \"roberta\",\n",
       "  \"num_attention_heads\": 12,\n",
       "  \"num_hidden_layers\": 6,\n",
       "  \"pad_token_id\": 1,\n",
       "  \"position_embedding_type\": \"absolute\",\n",
       "  \"problem_type\": \"single_label_classification\",\n",
       "  \"torch_dtype\": \"float32\",\n",
       "  \"transformers_version\": \"4.19.2\",\n",
       "  \"type_vocab_size\": 1,\n",
       "  \"use_cache\": true,\n",
       "  \"vocab_size\": 50265\n",
       "}"
      ]
     },
     "execution_count": 216,
     "metadata": {},
     "output_type": "execute_result"
    }
   ],
   "source": [
    "classifier.model.config"
   ]
  },
  {
   "cell_type": "code",
   "execution_count": 220,
   "id": "932be2c8-0b3a-4906-8199-b481faec52b7",
   "metadata": {},
   "outputs": [
    {
     "data": {
      "text/plain": [
       "[[{'label': 'afraid', 'score': 0.001271251356229186},\n",
       "  {'label': 'angry', 'score': 0.002481884090229869},\n",
       "  {'label': 'annoyed', 'score': 0.0008107623434625566},\n",
       "  {'label': 'anticipating', 'score': 0.00017449459119234234},\n",
       "  {'label': 'anxious', 'score': 0.0008662308100610971},\n",
       "  {'label': 'apprehensive', 'score': 0.00039876039954833686},\n",
       "  {'label': 'ashamed', 'score': 0.00147321040276438},\n",
       "  {'label': 'caring', 'score': 0.0030949898064136505},\n",
       "  {'label': 'confident', 'score': 0.00012000662536593154},\n",
       "  {'label': 'content', 'score': 0.00021913884847890586},\n",
       "  {'label': 'devastated', 'score': 0.40299463272094727},\n",
       "  {'label': 'disappointed', 'score': 0.005933469161391258},\n",
       "  {'label': 'disgusted', 'score': 0.0012640400091186166},\n",
       "  {'label': 'embarrassed', 'score': 0.0018726286944001913},\n",
       "  {'label': 'excited', 'score': 0.00021567723888438195},\n",
       "  {'label': 'faithful', 'score': 0.0010265909368172288},\n",
       "  {'label': 'furious', 'score': 0.0019771941006183624},\n",
       "  {'label': 'grateful', 'score': 0.0006073678960092366},\n",
       "  {'label': 'guilty', 'score': 0.002175253117457032},\n",
       "  {'label': 'hopeful', 'score': 0.0007243978907354176},\n",
       "  {'label': 'impressed', 'score': 0.00017974096408579499},\n",
       "  {'label': 'jealous', 'score': 0.001128018950112164},\n",
       "  {'label': 'joyful', 'score': 0.0003830661589745432},\n",
       "  {'label': 'lonely', 'score': 0.007324181031435728},\n",
       "  {'label': 'nostalgic', 'score': 0.005125703755766153},\n",
       "  {'label': 'prepared', 'score': 0.00015836131933610886},\n",
       "  {'label': 'proud', 'score': 0.0003866999759338796},\n",
       "  {'label': 'sad', 'score': 0.5276297926902771},\n",
       "  {'label': 'sentimental', 'score': 0.024283558130264282},\n",
       "  {'label': 'surprised', 'score': 0.0009882402373477817},\n",
       "  {'label': 'terrified', 'score': 0.0017862544627860188},\n",
       "  {'label': 'trusting', 'score': 0.0009244550601579249}]]"
      ]
     },
     "execution_count": 220,
     "metadata": {},
     "output_type": "execute_result"
    }
   ],
   "source": [
    "classifier(\"I'm still grieving the passing of my father. Sometimes I think, I'll never get over it\")"
   ]
  },
  {
   "cell_type": "code",
   "execution_count": 221,
   "id": "aeb35d04-a75c-4312-8c6a-80a71ce29392",
   "metadata": {},
   "outputs": [
    {
     "data": {
      "text/plain": [
       "[[{'label': 'afraid', 'score': 0.006920903921127319},\n",
       "  {'label': 'angry', 'score': 0.016934223473072052},\n",
       "  {'label': 'annoyed', 'score': 0.00985314417630434},\n",
       "  {'label': 'anticipating', 'score': 0.001343411160632968},\n",
       "  {'label': 'anxious', 'score': 0.004305040463805199},\n",
       "  {'label': 'apprehensive', 'score': 0.004895302467048168},\n",
       "  {'label': 'ashamed', 'score': 0.004045652225613594},\n",
       "  {'label': 'caring', 'score': 0.004559752531349659},\n",
       "  {'label': 'confident', 'score': 0.0012360070832073689},\n",
       "  {'label': 'content', 'score': 0.008918428793549538},\n",
       "  {'label': 'devastated', 'score': 0.11213884502649307},\n",
       "  {'label': 'disappointed', 'score': 0.030838578939437866},\n",
       "  {'label': 'disgusted', 'score': 0.00690632127225399},\n",
       "  {'label': 'embarrassed', 'score': 0.005127838812768459},\n",
       "  {'label': 'excited', 'score': 0.0015857134712859988},\n",
       "  {'label': 'faithful', 'score': 0.013053747825324535},\n",
       "  {'label': 'furious', 'score': 0.01415031123906374},\n",
       "  {'label': 'grateful', 'score': 0.004609598312526941},\n",
       "  {'label': 'guilty', 'score': 0.00706926453858614},\n",
       "  {'label': 'hopeful', 'score': 0.008627266623079777},\n",
       "  {'label': 'impressed', 'score': 0.002251052064821124},\n",
       "  {'label': 'jealous', 'score': 0.020551852881908417},\n",
       "  {'label': 'joyful', 'score': 0.0030932389199733734},\n",
       "  {'label': 'lonely', 'score': 0.22644013166427612},\n",
       "  {'label': 'nostalgic', 'score': 0.06443744152784348},\n",
       "  {'label': 'prepared', 'score': 0.0008062949636951089},\n",
       "  {'label': 'proud', 'score': 0.0018988444935530424},\n",
       "  {'label': 'sad', 'score': 0.33951079845428467},\n",
       "  {'label': 'sentimental', 'score': 0.050266895443201065},\n",
       "  {'label': 'surprised', 'score': 0.004021400585770607},\n",
       "  {'label': 'terrified', 'score': 0.005223272368311882},\n",
       "  {'label': 'trusting', 'score': 0.014379439875483513}]]"
      ]
     },
     "execution_count": 221,
     "metadata": {},
     "output_type": "execute_result"
    }
   ],
   "source": [
    "classifier(\"Life is meaningless.\")"
   ]
  },
  {
   "cell_type": "code",
   "execution_count": 226,
   "id": "3ab236f9-f7af-4f26-83f5-b949c8452277",
   "metadata": {
    "scrolled": true,
    "tags": []
   },
   "outputs": [
    {
     "data": {
      "text/plain": [
       "[[{'label': 'afraid', 'score': 0.0009797802194952965},\n",
       "  {'label': 'angry', 'score': 0.0005866821738891304},\n",
       "  {'label': 'annoyed', 'score': 0.0006858629640191793},\n",
       "  {'label': 'anticipating', 'score': 0.0569567009806633},\n",
       "  {'label': 'anxious', 'score': 0.018783459439873695},\n",
       "  {'label': 'apprehensive', 'score': 0.002131709596142173},\n",
       "  {'label': 'ashamed', 'score': 0.001870174310170114},\n",
       "  {'label': 'caring', 'score': 0.009022172540426254},\n",
       "  {'label': 'confident', 'score': 0.036349739879369736},\n",
       "  {'label': 'content', 'score': 0.06657946854829788},\n",
       "  {'label': 'devastated', 'score': 0.003845076309517026},\n",
       "  {'label': 'disappointed', 'score': 0.0017840979853644967},\n",
       "  {'label': 'disgusted', 'score': 0.0005492960917763412},\n",
       "  {'label': 'embarrassed', 'score': 0.0008198667201213539},\n",
       "  {'label': 'excited', 'score': 0.1879899799823761},\n",
       "  {'label': 'faithful', 'score': 0.03524446487426758},\n",
       "  {'label': 'furious', 'score': 0.00036482090945355594},\n",
       "  {'label': 'grateful', 'score': 0.019341139122843742},\n",
       "  {'label': 'guilty', 'score': 0.0018711196025833488},\n",
       "  {'label': 'hopeful', 'score': 0.024291718378663063},\n",
       "  {'label': 'impressed', 'score': 0.002619959181174636},\n",
       "  {'label': 'jealous', 'score': 0.0031810628715902567},\n",
       "  {'label': 'joyful', 'score': 0.36850878596305847},\n",
       "  {'label': 'lonely', 'score': 0.002813897095620632},\n",
       "  {'label': 'nostalgic', 'score': 0.003691102145239711},\n",
       "  {'label': 'prepared', 'score': 0.011597846634685993},\n",
       "  {'label': 'proud', 'score': 0.021322522312402725},\n",
       "  {'label': 'sad', 'score': 0.004791304003447294},\n",
       "  {'label': 'sentimental', 'score': 0.009946771897375584},\n",
       "  {'label': 'surprised', 'score': 0.09518080204725266},\n",
       "  {'label': 'terrified', 'score': 0.0010509311687201262},\n",
       "  {'label': 'trusting', 'score': 0.005247674882411957}],\n",
       " [{'label': 'afraid', 'score': 0.008428097702562809},\n",
       "  {'label': 'angry', 'score': 0.03082476742565632},\n",
       "  {'label': 'annoyed', 'score': 0.030790701508522034},\n",
       "  {'label': 'anticipating', 'score': 0.02302134968340397},\n",
       "  {'label': 'anxious', 'score': 0.013972746208310127},\n",
       "  {'label': 'apprehensive', 'score': 0.005228025838732719},\n",
       "  {'label': 'ashamed', 'score': 0.015836214646697044},\n",
       "  {'label': 'caring', 'score': 0.0024959826841950417},\n",
       "  {'label': 'confident', 'score': 0.014684895053505898},\n",
       "  {'label': 'content', 'score': 0.02156045287847519},\n",
       "  {'label': 'devastated', 'score': 0.012211368419229984},\n",
       "  {'label': 'disappointed', 'score': 0.07385680824518204},\n",
       "  {'label': 'disgusted', 'score': 0.011501300148665905},\n",
       "  {'label': 'embarrassed', 'score': 0.0030885960441082716},\n",
       "  {'label': 'excited', 'score': 0.029671618714928627},\n",
       "  {'label': 'faithful', 'score': 0.0038006992544978857},\n",
       "  {'label': 'furious', 'score': 0.022717241197824478},\n",
       "  {'label': 'grateful', 'score': 0.011779793538153172},\n",
       "  {'label': 'guilty', 'score': 0.00749341631308198},\n",
       "  {'label': 'hopeful', 'score': 0.02784787118434906},\n",
       "  {'label': 'impressed', 'score': 0.02303549088537693},\n",
       "  {'label': 'jealous', 'score': 0.5094563364982605},\n",
       "  {'label': 'joyful', 'score': 0.014193185605108738},\n",
       "  {'label': 'lonely', 'score': 0.002804109361022711},\n",
       "  {'label': 'nostalgic', 'score': 0.003450788324698806},\n",
       "  {'label': 'prepared', 'score': 0.0024235930759459734},\n",
       "  {'label': 'proud', 'score': 0.009397268295288086},\n",
       "  {'label': 'sad', 'score': 0.008699220605194569},\n",
       "  {'label': 'sentimental', 'score': 0.004525715485215187},\n",
       "  {'label': 'surprised', 'score': 0.0451667495071888},\n",
       "  {'label': 'terrified', 'score': 0.0035314392298460007},\n",
       "  {'label': 'trusting', 'score': 0.002504129661247134}],\n",
       " [{'label': 'afraid', 'score': 0.000301166670396924},\n",
       "  {'label': 'angry', 'score': 0.00011650905071292073},\n",
       "  {'label': 'annoyed', 'score': 0.0001902864023577422},\n",
       "  {'label': 'anticipating', 'score': 0.003619315568357706},\n",
       "  {'label': 'anxious', 'score': 0.0009470267104916275},\n",
       "  {'label': 'apprehensive', 'score': 0.0004814487474504858},\n",
       "  {'label': 'ashamed', 'score': 0.0002276642044307664},\n",
       "  {'label': 'caring', 'score': 0.0004780659801326692},\n",
       "  {'label': 'confident', 'score': 0.0007520599174313247},\n",
       "  {'label': 'content', 'score': 0.0019940570928156376},\n",
       "  {'label': 'devastated', 'score': 0.00023867057461757213},\n",
       "  {'label': 'disappointed', 'score': 0.0004938316997140646},\n",
       "  {'label': 'disgusted', 'score': 0.0005517115932889283},\n",
       "  {'label': 'embarrassed', 'score': 0.00027409318136051297},\n",
       "  {'label': 'excited', 'score': 0.014550437219440937},\n",
       "  {'label': 'faithful', 'score': 0.0005504431901499629},\n",
       "  {'label': 'furious', 'score': 0.00011668384104268625},\n",
       "  {'label': 'grateful', 'score': 0.001105493982322514},\n",
       "  {'label': 'guilty', 'score': 0.0003447390045039356},\n",
       "  {'label': 'hopeful', 'score': 0.00030988454818725586},\n",
       "  {'label': 'impressed', 'score': 0.0036470103077590466},\n",
       "  {'label': 'jealous', 'score': 0.0003586298553273082},\n",
       "  {'label': 'joyful', 'score': 0.016479382291436195},\n",
       "  {'label': 'lonely', 'score': 0.0003682130773086101},\n",
       "  {'label': 'nostalgic', 'score': 0.8640961050987244},\n",
       "  {'label': 'prepared', 'score': 0.0011886353604495525},\n",
       "  {'label': 'proud', 'score': 0.0012343012494966388},\n",
       "  {'label': 'sad', 'score': 0.0013494602171704173},\n",
       "  {'label': 'sentimental', 'score': 0.07971935719251633},\n",
       "  {'label': 'surprised', 'score': 0.0031540682539343834},\n",
       "  {'label': 'terrified', 'score': 0.0003026995691470802},\n",
       "  {'label': 'trusting', 'score': 0.0004585233691614121}]]"
      ]
     },
     "execution_count": 226,
     "metadata": {},
     "output_type": "execute_result"
    }
   ],
   "source": [
    "classifier([\"Congratulations on your wedding!\", \"Who am I kidding? I'm never gonna get that.\", \"Going to that festival was my favorite childhood activity.\"])"
   ]
  },
  {
   "cell_type": "code",
   "execution_count": 228,
   "id": "ee3803d1-9d58-4c42-9b55-8037acefe1e1",
   "metadata": {},
   "outputs": [],
   "source": [
    "results = classifier(\"I'm still grieving the passing of my father. Sometimes I think, I'll never get over it\")"
   ]
  },
  {
   "cell_type": "code",
   "execution_count": 230,
   "id": "0d6f987c-5b17-4d21-88e1-459090d2de5c",
   "metadata": {},
   "outputs": [
    {
     "data": {
      "text/plain": [
       "[{'label': 'afraid', 'score': 0.001271251356229186},\n",
       " {'label': 'angry', 'score': 0.002481884090229869},\n",
       " {'label': 'annoyed', 'score': 0.0008107623434625566},\n",
       " {'label': 'anticipating', 'score': 0.00017449459119234234},\n",
       " {'label': 'anxious', 'score': 0.0008662308100610971},\n",
       " {'label': 'apprehensive', 'score': 0.00039876039954833686},\n",
       " {'label': 'ashamed', 'score': 0.00147321040276438},\n",
       " {'label': 'caring', 'score': 0.0030949898064136505},\n",
       " {'label': 'confident', 'score': 0.00012000662536593154},\n",
       " {'label': 'content', 'score': 0.00021913884847890586},\n",
       " {'label': 'devastated', 'score': 0.40299463272094727},\n",
       " {'label': 'disappointed', 'score': 0.005933469161391258},\n",
       " {'label': 'disgusted', 'score': 0.0012640400091186166},\n",
       " {'label': 'embarrassed', 'score': 0.0018726286944001913},\n",
       " {'label': 'excited', 'score': 0.00021567723888438195},\n",
       " {'label': 'faithful', 'score': 0.0010265909368172288},\n",
       " {'label': 'furious', 'score': 0.0019771941006183624},\n",
       " {'label': 'grateful', 'score': 0.0006073678960092366},\n",
       " {'label': 'guilty', 'score': 0.002175253117457032},\n",
       " {'label': 'hopeful', 'score': 0.0007243978907354176},\n",
       " {'label': 'impressed', 'score': 0.00017974096408579499},\n",
       " {'label': 'jealous', 'score': 0.001128018950112164},\n",
       " {'label': 'joyful', 'score': 0.0003830661589745432},\n",
       " {'label': 'lonely', 'score': 0.007324181031435728},\n",
       " {'label': 'nostalgic', 'score': 0.005125703755766153},\n",
       " {'label': 'prepared', 'score': 0.00015836131933610886},\n",
       " {'label': 'proud', 'score': 0.0003866999759338796},\n",
       " {'label': 'sad', 'score': 0.5276297926902771},\n",
       " {'label': 'sentimental', 'score': 0.024283558130264282},\n",
       " {'label': 'surprised', 'score': 0.0009882402373477817},\n",
       " {'label': 'terrified', 'score': 0.0017862544627860188},\n",
       " {'label': 'trusting', 'score': 0.0009244550601579249}]"
      ]
     },
     "execution_count": 230,
     "metadata": {},
     "output_type": "execute_result"
    }
   ],
   "source": [
    "results[0]"
   ]
  },
  {
   "cell_type": "code",
   "execution_count": 233,
   "id": "8b4529e1-518f-41cb-92fe-3526975a8235",
   "metadata": {},
   "outputs": [],
   "source": [
    "max_item = max(results[0], key=lambda x:x[\"score\"])"
   ]
  },
  {
   "cell_type": "code",
   "execution_count": 234,
   "id": "0a984923-1ef2-466c-8b6f-c7a6c872e5ee",
   "metadata": {},
   "outputs": [
    {
     "data": {
      "text/plain": [
       "{'label': 'sad', 'score': 0.5276297926902771}"
      ]
     },
     "execution_count": 234,
     "metadata": {},
     "output_type": "execute_result"
    }
   ],
   "source": [
    "max_item"
   ]
  },
  {
   "cell_type": "code",
   "execution_count": 235,
   "id": "6a9cfbc1-d172-46e2-91eb-084aee1ed3cd",
   "metadata": {},
   "outputs": [
    {
     "name": "stdout",
     "output_type": "stream",
     "text": [
      "../../models/distilroberta-finetuned\n"
     ]
    }
   ],
   "source": [
    "print(output_dir)"
   ]
  },
  {
   "cell_type": "code",
   "execution_count": 245,
   "id": "d4d0b791-5117-45c3-a58c-6d0e2e37f10b",
   "metadata": {
    "scrolled": true,
    "tags": []
   },
   "outputs": [
    {
     "name": "stderr",
     "output_type": "stream",
     "text": [
      "loading configuration file ../../models/distilroberta-finetuned/config.json\n",
      "Model config RobertaConfig {\n",
      "  \"_name_or_path\": \"../../models/distilroberta-finetuned\",\n",
      "  \"architectures\": [\n",
      "    \"RobertaForSequenceClassification\"\n",
      "  ],\n",
      "  \"attention_probs_dropout_prob\": 0.1,\n",
      "  \"bos_token_id\": 0,\n",
      "  \"classifier_dropout\": null,\n",
      "  \"eos_token_id\": 2,\n",
      "  \"hidden_act\": \"gelu\",\n",
      "  \"hidden_dropout_prob\": 0.1,\n",
      "  \"hidden_size\": 768,\n",
      "  \"id2label\": {\n",
      "    \"0\": \"LABEL_0\",\n",
      "    \"1\": \"LABEL_1\",\n",
      "    \"2\": \"LABEL_2\",\n",
      "    \"3\": \"LABEL_3\",\n",
      "    \"4\": \"LABEL_4\",\n",
      "    \"5\": \"LABEL_5\",\n",
      "    \"6\": \"LABEL_6\",\n",
      "    \"7\": \"LABEL_7\",\n",
      "    \"8\": \"LABEL_8\",\n",
      "    \"9\": \"LABEL_9\",\n",
      "    \"10\": \"LABEL_10\",\n",
      "    \"11\": \"LABEL_11\",\n",
      "    \"12\": \"LABEL_12\",\n",
      "    \"13\": \"LABEL_13\",\n",
      "    \"14\": \"LABEL_14\",\n",
      "    \"15\": \"LABEL_15\",\n",
      "    \"16\": \"LABEL_16\",\n",
      "    \"17\": \"LABEL_17\",\n",
      "    \"18\": \"LABEL_18\",\n",
      "    \"19\": \"LABEL_19\",\n",
      "    \"20\": \"LABEL_20\",\n",
      "    \"21\": \"LABEL_21\",\n",
      "    \"22\": \"LABEL_22\",\n",
      "    \"23\": \"LABEL_23\",\n",
      "    \"24\": \"LABEL_24\",\n",
      "    \"25\": \"LABEL_25\",\n",
      "    \"26\": \"LABEL_26\",\n",
      "    \"27\": \"LABEL_27\",\n",
      "    \"28\": \"LABEL_28\",\n",
      "    \"29\": \"LABEL_29\",\n",
      "    \"30\": \"LABEL_30\",\n",
      "    \"31\": \"LABEL_31\"\n",
      "  },\n",
      "  \"initializer_range\": 0.02,\n",
      "  \"intermediate_size\": 3072,\n",
      "  \"label2id\": {\n",
      "    \"LABEL_0\": 0,\n",
      "    \"LABEL_1\": 1,\n",
      "    \"LABEL_10\": 10,\n",
      "    \"LABEL_11\": 11,\n",
      "    \"LABEL_12\": 12,\n",
      "    \"LABEL_13\": 13,\n",
      "    \"LABEL_14\": 14,\n",
      "    \"LABEL_15\": 15,\n",
      "    \"LABEL_16\": 16,\n",
      "    \"LABEL_17\": 17,\n",
      "    \"LABEL_18\": 18,\n",
      "    \"LABEL_19\": 19,\n",
      "    \"LABEL_2\": 2,\n",
      "    \"LABEL_20\": 20,\n",
      "    \"LABEL_21\": 21,\n",
      "    \"LABEL_22\": 22,\n",
      "    \"LABEL_23\": 23,\n",
      "    \"LABEL_24\": 24,\n",
      "    \"LABEL_25\": 25,\n",
      "    \"LABEL_26\": 26,\n",
      "    \"LABEL_27\": 27,\n",
      "    \"LABEL_28\": 28,\n",
      "    \"LABEL_29\": 29,\n",
      "    \"LABEL_3\": 3,\n",
      "    \"LABEL_30\": 30,\n",
      "    \"LABEL_31\": 31,\n",
      "    \"LABEL_4\": 4,\n",
      "    \"LABEL_5\": 5,\n",
      "    \"LABEL_6\": 6,\n",
      "    \"LABEL_7\": 7,\n",
      "    \"LABEL_8\": 8,\n",
      "    \"LABEL_9\": 9\n",
      "  },\n",
      "  \"layer_norm_eps\": 1e-05,\n",
      "  \"max_position_embeddings\": 514,\n",
      "  \"model_type\": \"roberta\",\n",
      "  \"num_attention_heads\": 12,\n",
      "  \"num_hidden_layers\": 6,\n",
      "  \"pad_token_id\": 1,\n",
      "  \"position_embedding_type\": \"absolute\",\n",
      "  \"problem_type\": \"single_label_classification\",\n",
      "  \"torch_dtype\": \"float32\",\n",
      "  \"transformers_version\": \"4.19.2\",\n",
      "  \"type_vocab_size\": 1,\n",
      "  \"use_cache\": true,\n",
      "  \"vocab_size\": 50265\n",
      "}\n",
      "\n",
      "loading configuration file ../../models/distilroberta-finetuned/config.json\n",
      "Model config RobertaConfig {\n",
      "  \"_name_or_path\": \"../../models/distilroberta-finetuned\",\n",
      "  \"architectures\": [\n",
      "    \"RobertaForSequenceClassification\"\n",
      "  ],\n",
      "  \"attention_probs_dropout_prob\": 0.1,\n",
      "  \"bos_token_id\": 0,\n",
      "  \"classifier_dropout\": null,\n",
      "  \"eos_token_id\": 2,\n",
      "  \"hidden_act\": \"gelu\",\n",
      "  \"hidden_dropout_prob\": 0.1,\n",
      "  \"hidden_size\": 768,\n",
      "  \"id2label\": {\n",
      "    \"0\": \"LABEL_0\",\n",
      "    \"1\": \"LABEL_1\",\n",
      "    \"2\": \"LABEL_2\",\n",
      "    \"3\": \"LABEL_3\",\n",
      "    \"4\": \"LABEL_4\",\n",
      "    \"5\": \"LABEL_5\",\n",
      "    \"6\": \"LABEL_6\",\n",
      "    \"7\": \"LABEL_7\",\n",
      "    \"8\": \"LABEL_8\",\n",
      "    \"9\": \"LABEL_9\",\n",
      "    \"10\": \"LABEL_10\",\n",
      "    \"11\": \"LABEL_11\",\n",
      "    \"12\": \"LABEL_12\",\n",
      "    \"13\": \"LABEL_13\",\n",
      "    \"14\": \"LABEL_14\",\n",
      "    \"15\": \"LABEL_15\",\n",
      "    \"16\": \"LABEL_16\",\n",
      "    \"17\": \"LABEL_17\",\n",
      "    \"18\": \"LABEL_18\",\n",
      "    \"19\": \"LABEL_19\",\n",
      "    \"20\": \"LABEL_20\",\n",
      "    \"21\": \"LABEL_21\",\n",
      "    \"22\": \"LABEL_22\",\n",
      "    \"23\": \"LABEL_23\",\n",
      "    \"24\": \"LABEL_24\",\n",
      "    \"25\": \"LABEL_25\",\n",
      "    \"26\": \"LABEL_26\",\n",
      "    \"27\": \"LABEL_27\",\n",
      "    \"28\": \"LABEL_28\",\n",
      "    \"29\": \"LABEL_29\",\n",
      "    \"30\": \"LABEL_30\",\n",
      "    \"31\": \"LABEL_31\"\n",
      "  },\n",
      "  \"initializer_range\": 0.02,\n",
      "  \"intermediate_size\": 3072,\n",
      "  \"label2id\": {\n",
      "    \"LABEL_0\": 0,\n",
      "    \"LABEL_1\": 1,\n",
      "    \"LABEL_10\": 10,\n",
      "    \"LABEL_11\": 11,\n",
      "    \"LABEL_12\": 12,\n",
      "    \"LABEL_13\": 13,\n",
      "    \"LABEL_14\": 14,\n",
      "    \"LABEL_15\": 15,\n",
      "    \"LABEL_16\": 16,\n",
      "    \"LABEL_17\": 17,\n",
      "    \"LABEL_18\": 18,\n",
      "    \"LABEL_19\": 19,\n",
      "    \"LABEL_2\": 2,\n",
      "    \"LABEL_20\": 20,\n",
      "    \"LABEL_21\": 21,\n",
      "    \"LABEL_22\": 22,\n",
      "    \"LABEL_23\": 23,\n",
      "    \"LABEL_24\": 24,\n",
      "    \"LABEL_25\": 25,\n",
      "    \"LABEL_26\": 26,\n",
      "    \"LABEL_27\": 27,\n",
      "    \"LABEL_28\": 28,\n",
      "    \"LABEL_29\": 29,\n",
      "    \"LABEL_3\": 3,\n",
      "    \"LABEL_30\": 30,\n",
      "    \"LABEL_31\": 31,\n",
      "    \"LABEL_4\": 4,\n",
      "    \"LABEL_5\": 5,\n",
      "    \"LABEL_6\": 6,\n",
      "    \"LABEL_7\": 7,\n",
      "    \"LABEL_8\": 8,\n",
      "    \"LABEL_9\": 9\n",
      "  },\n",
      "  \"layer_norm_eps\": 1e-05,\n",
      "  \"max_position_embeddings\": 514,\n",
      "  \"model_type\": \"roberta\",\n",
      "  \"num_attention_heads\": 12,\n",
      "  \"num_hidden_layers\": 6,\n",
      "  \"pad_token_id\": 1,\n",
      "  \"position_embedding_type\": \"absolute\",\n",
      "  \"problem_type\": \"single_label_classification\",\n",
      "  \"torch_dtype\": \"float32\",\n",
      "  \"transformers_version\": \"4.19.2\",\n",
      "  \"type_vocab_size\": 1,\n",
      "  \"use_cache\": true,\n",
      "  \"vocab_size\": 50265\n",
      "}\n",
      "\n",
      "loading weights file ../../models/distilroberta-finetuned/pytorch_model.bin\n",
      "All model checkpoint weights were used when initializing RobertaForSequenceClassification.\n",
      "\n",
      "All the weights of RobertaForSequenceClassification were initialized from the model checkpoint at ../../models/distilroberta-finetuned.\n",
      "If your task is similar to the task the model of the checkpoint was trained on, you can already use RobertaForSequenceClassification for predictions without further training.\n",
      "Didn't find file ../../models/distilroberta-finetuned/added_tokens.json. We won't load it.\n",
      "loading file ../../models/distilroberta-finetuned/vocab.json\n",
      "loading file ../../models/distilroberta-finetuned/merges.txt\n",
      "loading file ../../models/distilroberta-finetuned/tokenizer.json\n",
      "loading file None\n",
      "loading file ../../models/distilroberta-finetuned/special_tokens_map.json\n",
      "loading file ../../models/distilroberta-finetuned/tokenizer_config.json\n"
     ]
    }
   ],
   "source": [
    "from transformers import pipeline\n",
    "\n",
    "label2id = {'afraid': 0, 'angry': 1, 'annoyed': 2, 'anticipating': 3, 'anxious': 4, 'apprehensive': 5, 'ashamed': 6, 'caring': 7, 'confident': 8, 'content': 9, 'devastated': 10, 'disappointed': 11, 'disgusted': 12, 'embarrassed': 13, 'excited': 14, 'faithful': 15, 'furious': 16, 'grateful': 17, 'guilty': 18, 'hopeful': 19, 'impressed': 20, 'jealous': 21, 'joyful': 22, 'lonely': 23, 'nostalgic': 24, 'prepared': 25, 'proud': 26, 'sad': 27, 'sentimental': 28, 'surprised': 29, 'terrified': 30, 'trusting': 31}\n",
    "id2label = dict((v,k) for k,v in label2id.items())\n",
    "\n",
    "classifier = pipeline(\"text-classification\", model=output_dir, return_all_scores=True)\n",
    "classifier.model.config.id2label = id2label\n",
    "classifier.model.config.label2id = label2id\n",
    "\n",
    "def classify_emotion(text):\n",
    "    results = classifier(text)\n",
    "    max_score = max(results[0], key=lambda x:x[\"score\"])\n",
    "    return max_score[\"label\"]\n"
   ]
  },
  {
   "cell_type": "code",
   "execution_count": 250,
   "id": "518bdc66-752f-402e-8341-cea0ddda7381",
   "metadata": {},
   "outputs": [
    {
     "data": {
      "text/plain": [
       "'lonely'"
      ]
     },
     "execution_count": 250,
     "metadata": {},
     "output_type": "execute_result"
    }
   ],
   "source": [
    "classify_emotion(\"I wonder whether I'll decide one day that I'm tired of people and simply run off to the woods to live a life of solitude.\")"
   ]
  },
  {
   "cell_type": "code",
   "execution_count": 251,
   "id": "d13366c6-b836-457a-9a98-870f51748b73",
   "metadata": {},
   "outputs": [
    {
     "data": {
      "text/plain": [
       "'ashamed'"
      ]
     },
     "execution_count": 251,
     "metadata": {},
     "output_type": "execute_result"
    }
   ],
   "source": [
    "text = \"\"\"\n",
    "These are the thoughts that come to mind when I reflect on my performance: I am incompetent. I am worthless. I am not worth saving. I should be dead. I should have died years ago. I should  make it easier for everyone and just die now. \n",
    "\"\"\"\n",
    "\n",
    "classify_emotion(text)"
   ]
  },
  {
   "cell_type": "code",
   "execution_count": 238,
   "id": "55291f49-eaa3-4cd2-af81-2eabf7530b79",
   "metadata": {},
   "outputs": [
    {
     "name": "stdout",
     "output_type": "stream",
     "text": [
      "{'afraid': 0, 'angry': 1, 'annoyed': 2, 'anticipating': 3, 'anxious': 4, 'apprehensive': 5, 'ashamed': 6, 'caring': 7, 'confident': 8, 'content': 9, 'devastated': 10, 'disappointed': 11, 'disgusted': 12, 'embarrassed': 13, 'excited': 14, 'faithful': 15, 'furious': 16, 'grateful': 17, 'guilty': 18, 'hopeful': 19, 'impressed': 20, 'jealous': 21, 'joyful': 22, 'lonely': 23, 'nostalgic': 24, 'prepared': 25, 'proud': 26, 'sad': 27, 'sentimental': 28, 'surprised': 29, 'terrified': 30, 'trusting': 31}\n"
     ]
    }
   ],
   "source": [
    "print(labels_map)"
   ]
  },
  {
   "cell_type": "code",
   "execution_count": 239,
   "id": "666bce3b-1ecd-4761-9dbd-564aadf6319a",
   "metadata": {},
   "outputs": [
    {
     "name": "stdout",
     "output_type": "stream",
     "text": [
      "{0: 'afraid', 1: 'angry', 2: 'annoyed', 3: 'anticipating', 4: 'anxious', 5: 'apprehensive', 6: 'ashamed', 7: 'caring', 8: 'confident', 9: 'content', 10: 'devastated', 11: 'disappointed', 12: 'disgusted', 13: 'embarrassed', 14: 'excited', 15: 'faithful', 16: 'furious', 17: 'grateful', 18: 'guilty', 19: 'hopeful', 20: 'impressed', 21: 'jealous', 22: 'joyful', 23: 'lonely', 24: 'nostalgic', 25: 'prepared', 26: 'proud', 27: 'sad', 28: 'sentimental', 29: 'surprised', 30: 'terrified', 31: 'trusting'}\n"
     ]
    }
   ],
   "source": [
    "print(id2label)\n",
    "# "
   ]
  },
  {
   "cell_type": "code",
   "execution_count": 252,
   "id": "2731e85f-cf64-489f-8c74-d83a3679175e",
   "metadata": {},
   "outputs": [],
   "source": [
    "from src.utils import export_model, make_tarfile"
   ]
  },
  {
   "cell_type": "code",
   "execution_count": 256,
   "id": "1303e3f3-f366-4f89-a39e-4ed0d12e528a",
   "metadata": {},
   "outputs": [
    {
     "name": "stdout",
     "output_type": "stream",
     "text": [
      "Help on function export_model in module src.utils:\n",
      "\n",
      "export_model(model_path, output_path)\n",
      "\n"
     ]
    }
   ],
   "source": [
    "help(export_model)"
   ]
  },
  {
   "cell_type": "code",
   "execution_count": 259,
   "id": "70bfff47-ebcd-43b3-8ba4-c134efe494e6",
   "metadata": {
    "scrolled": true,
    "tags": []
   },
   "outputs": [
    {
     "name": "stderr",
     "output_type": "stream",
     "text": [
      "loading configuration file ../../models/distilroberta-finetuned/config.json\n",
      "Model config RobertaConfig {\n",
      "  \"_name_or_path\": \"../../models/distilroberta-finetuned\",\n",
      "  \"architectures\": [\n",
      "    \"RobertaForSequenceClassification\"\n",
      "  ],\n",
      "  \"attention_probs_dropout_prob\": 0.1,\n",
      "  \"bos_token_id\": 0,\n",
      "  \"classifier_dropout\": null,\n",
      "  \"eos_token_id\": 2,\n",
      "  \"hidden_act\": \"gelu\",\n",
      "  \"hidden_dropout_prob\": 0.1,\n",
      "  \"hidden_size\": 768,\n",
      "  \"id2label\": {\n",
      "    \"0\": \"LABEL_0\",\n",
      "    \"1\": \"LABEL_1\",\n",
      "    \"2\": \"LABEL_2\",\n",
      "    \"3\": \"LABEL_3\",\n",
      "    \"4\": \"LABEL_4\",\n",
      "    \"5\": \"LABEL_5\",\n",
      "    \"6\": \"LABEL_6\",\n",
      "    \"7\": \"LABEL_7\",\n",
      "    \"8\": \"LABEL_8\",\n",
      "    \"9\": \"LABEL_9\",\n",
      "    \"10\": \"LABEL_10\",\n",
      "    \"11\": \"LABEL_11\",\n",
      "    \"12\": \"LABEL_12\",\n",
      "    \"13\": \"LABEL_13\",\n",
      "    \"14\": \"LABEL_14\",\n",
      "    \"15\": \"LABEL_15\",\n",
      "    \"16\": \"LABEL_16\",\n",
      "    \"17\": \"LABEL_17\",\n",
      "    \"18\": \"LABEL_18\",\n",
      "    \"19\": \"LABEL_19\",\n",
      "    \"20\": \"LABEL_20\",\n",
      "    \"21\": \"LABEL_21\",\n",
      "    \"22\": \"LABEL_22\",\n",
      "    \"23\": \"LABEL_23\",\n",
      "    \"24\": \"LABEL_24\",\n",
      "    \"25\": \"LABEL_25\",\n",
      "    \"26\": \"LABEL_26\",\n",
      "    \"27\": \"LABEL_27\",\n",
      "    \"28\": \"LABEL_28\",\n",
      "    \"29\": \"LABEL_29\",\n",
      "    \"30\": \"LABEL_30\",\n",
      "    \"31\": \"LABEL_31\"\n",
      "  },\n",
      "  \"initializer_range\": 0.02,\n",
      "  \"intermediate_size\": 3072,\n",
      "  \"label2id\": {\n",
      "    \"LABEL_0\": 0,\n",
      "    \"LABEL_1\": 1,\n",
      "    \"LABEL_10\": 10,\n",
      "    \"LABEL_11\": 11,\n",
      "    \"LABEL_12\": 12,\n",
      "    \"LABEL_13\": 13,\n",
      "    \"LABEL_14\": 14,\n",
      "    \"LABEL_15\": 15,\n",
      "    \"LABEL_16\": 16,\n",
      "    \"LABEL_17\": 17,\n",
      "    \"LABEL_18\": 18,\n",
      "    \"LABEL_19\": 19,\n",
      "    \"LABEL_2\": 2,\n",
      "    \"LABEL_20\": 20,\n",
      "    \"LABEL_21\": 21,\n",
      "    \"LABEL_22\": 22,\n",
      "    \"LABEL_23\": 23,\n",
      "    \"LABEL_24\": 24,\n",
      "    \"LABEL_25\": 25,\n",
      "    \"LABEL_26\": 26,\n",
      "    \"LABEL_27\": 27,\n",
      "    \"LABEL_28\": 28,\n",
      "    \"LABEL_29\": 29,\n",
      "    \"LABEL_3\": 3,\n",
      "    \"LABEL_30\": 30,\n",
      "    \"LABEL_31\": 31,\n",
      "    \"LABEL_4\": 4,\n",
      "    \"LABEL_5\": 5,\n",
      "    \"LABEL_6\": 6,\n",
      "    \"LABEL_7\": 7,\n",
      "    \"LABEL_8\": 8,\n",
      "    \"LABEL_9\": 9\n",
      "  },\n",
      "  \"layer_norm_eps\": 1e-05,\n",
      "  \"max_position_embeddings\": 514,\n",
      "  \"model_type\": \"roberta\",\n",
      "  \"num_attention_heads\": 12,\n",
      "  \"num_hidden_layers\": 6,\n",
      "  \"pad_token_id\": 1,\n",
      "  \"position_embedding_type\": \"absolute\",\n",
      "  \"problem_type\": \"single_label_classification\",\n",
      "  \"torch_dtype\": \"float32\",\n",
      "  \"transformers_version\": \"4.19.2\",\n",
      "  \"type_vocab_size\": 1,\n",
      "  \"use_cache\": true,\n",
      "  \"vocab_size\": 50265\n",
      "}\n",
      "\n",
      "loading weights file ../../models/distilroberta-finetuned/pytorch_model.bin\n",
      "If you want to use `RobertaLMHeadModel` as a standalone, add `is_decoder=True.`\n",
      "Some weights of the model checkpoint at ../../models/distilroberta-finetuned were not used when initializing RobertaForCausalLM: ['classifier.out_proj.bias', 'classifier.dense.bias', 'classifier.out_proj.weight', 'classifier.dense.weight']\n",
      "- This IS expected if you are initializing RobertaForCausalLM from the checkpoint of a model trained on another task or with another architecture (e.g. initializing a BertForSequenceClassification model from a BertForPreTraining model).\n",
      "- This IS NOT expected if you are initializing RobertaForCausalLM from the checkpoint of a model that you expect to be exactly identical (initializing a BertForSequenceClassification model from a BertForSequenceClassification model).\n",
      "Some weights of RobertaForCausalLM were not initialized from the model checkpoint at ../../models/distilroberta-finetuned and are newly initialized: ['lm_head.layer_norm.weight', 'lm_head.bias', 'lm_head.dense.bias', 'lm_head.dense.weight', 'lm_head.layer_norm.bias']\n",
      "You should probably TRAIN this model on a down-stream task to be able to use it for predictions and inference.\n",
      "Configuration saved in ../../models/distilroberta-finetuned__exported/config.json\n",
      "Model weights saved in ../../models/distilroberta-finetuned__exported/pytorch_model.bin\n",
      "Didn't find file ../../models/distilroberta-finetuned/added_tokens.json. We won't load it.\n",
      "loading file ../../models/distilroberta-finetuned/vocab.json\n",
      "loading file ../../models/distilroberta-finetuned/merges.txt\n",
      "loading file ../../models/distilroberta-finetuned/tokenizer.json\n",
      "loading file None\n",
      "loading file ../../models/distilroberta-finetuned/special_tokens_map.json\n",
      "loading file ../../models/distilroberta-finetuned/tokenizer_config.json\n",
      "Special tokens have been added in the vocabulary, make sure the associated word embeddings are fine-tuned or trained.\n",
      "tokenizer config file saved in ../../models/distilroberta-finetuned__exported/tokenizer_config.json\n",
      "Special tokens file saved in ../../models/distilroberta-finetuned__exported/special_tokens_map.json\n"
     ]
    },
    {
     "name": "stdout",
     "output_type": "stream",
     "text": [
      "Saved to ../../models/distilroberta-finetuned__exported\n"
     ]
    }
   ],
   "source": [
    "export_model(output_dir)"
   ]
  },
  {
   "cell_type": "code",
   "execution_count": null,
   "id": "63d27e8e-93f2-4b8f-bd0b-9ff99c591100",
   "metadata": {},
   "outputs": [],
   "source": []
  }
 ],
 "metadata": {
  "kernelspec": {
   "display_name": "Python 3 (ipykernel)",
   "language": "python",
   "name": "python3"
  },
  "language_info": {
   "codemirror_mode": {
    "name": "ipython",
    "version": 3
   },
   "file_extension": ".py",
   "mimetype": "text/x-python",
   "name": "python",
   "nbconvert_exporter": "python",
   "pygments_lexer": "ipython3",
   "version": "3.10.4"
  }
 },
 "nbformat": 4,
 "nbformat_minor": 5
}
