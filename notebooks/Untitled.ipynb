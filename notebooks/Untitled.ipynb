{
 "cells": [
  {
   "cell_type": "code",
   "execution_count": 1,
   "metadata": {},
   "outputs": [],
   "source": [
    "%load_ext autoreload\n",
    "%autoreload 2"
   ]
  },
  {
   "cell_type": "code",
   "execution_count": 13,
   "metadata": {},
   "outputs": [],
   "source": [
    "import pandas as pd\n",
    "from transformers import AutoTokenizer\n",
    "\n",
    "from src.args import Args\n",
    "from src.dataset import *\n",
    "from src.train import load_and_cache_examples\n",
    "from src.utils import prepare_data"
   ]
  },
  {
   "cell_type": "code",
   "execution_count": 9,
   "metadata": {},
   "outputs": [
    {
     "data": {
      "text/plain": [
       "<src.args.Args at 0x7fdb8a541c90>"
      ]
     },
     "execution_count": 9,
     "metadata": {},
     "output_type": "execute_result"
    }
   ],
   "source": [
    "args = Args()\n",
    "args.data_filename = \"../../data/processed.csv\"\n",
    "args"
   ]
  },
  {
   "cell_type": "code",
   "execution_count": 14,
   "metadata": {
    "scrolled": true,
    "tags": []
   },
   "outputs": [
    {
     "data": {
      "text/plain": [
       "{'output_dir': None,\n",
       " 'model_type': 'gpt2',\n",
       " 'model_name_or_path': 'microsoft/DialoGPT-small',\n",
       " 'config_name': 'microsoft/DialoGPT-small',\n",
       " 'tokenizer_name': 'microsoft/DialoGPT-small',\n",
       " 'cache_dir': 'cached',\n",
       " 'block_size': 512,\n",
       " 'do_train': True,\n",
       " 'do_eval': True,\n",
       " 'evaluate_during_training': False,\n",
       " 'per_gpu_train_batch_size': 1,\n",
       " 'per_gpu_eval_batch_size': 1,\n",
       " 'gradient_accumulation_steps': 1,\n",
       " 'learning_rate': 5e-05,\n",
       " 'weight_decay': 0.0,\n",
       " 'adam_epsilon': 1e-08,\n",
       " 'max_grad_norm': 1.0,\n",
       " 'num_train_epochs': 3,\n",
       " 'max_steps': -1,\n",
       " 'warmup_steps': 0,\n",
       " 'logging_steps': 1000,\n",
       " 'save_steps': 3500,\n",
       " 'save_total_limit': None,\n",
       " 'eval_all_checkpoints': False,\n",
       " 'no_cuda': False,\n",
       " 'overwrite_output_dir': True,\n",
       " 'overwrite_cache': True,\n",
       " 'should_continue': False,\n",
       " 'seed': 42,\n",
       " 'local_rank': -1,\n",
       " 'fp16': False,\n",
       " 'fp16_opt_level': 'O1',\n",
       " 'data_filename': '../../data/processed.csv',\n",
       " 'content_key': 'content',\n",
       " 'filter_by': None}"
      ]
     },
     "execution_count": 14,
     "metadata": {},
     "output_type": "execute_result"
    }
   ],
   "source": [
    "args.__dict__"
   ]
  },
  {
   "cell_type": "code",
   "execution_count": 18,
   "metadata": {},
   "outputs": [],
   "source": [
    "df = pd.read_csv(args.data_filename)\n",
    "df_trn, df_val = prepare_data(data=df, filter_by=\"character==bitjockey\")"
   ]
  },
  {
   "cell_type": "code",
   "execution_count": 19,
   "metadata": {},
   "outputs": [],
   "source": [
    "tokenizer = AutoTokenizer.from_pretrained(args.tokenizer_name)"
   ]
  },
  {
   "cell_type": "code",
   "execution_count": 24,
   "metadata": {},
   "outputs": [],
   "source": [
    "train_ds = load_and_cache_examples(args, tokenizer, df_trn)\n",
    "val_ds = load_and_cache_examples(args, tokenizer, df_val)"
   ]
  },
  {
   "cell_type": "code",
   "execution_count": 27,
   "metadata": {
    "scrolled": true,
    "tags": []
   },
   "outputs": [
    {
     "name": "stdout",
     "output_type": "stream",
     "text": [
      "tensor([29795, 18602,   986,    62,    60, 50256, 29795,  1462, 14685,    62,\n",
      "           60,   220, 14690,    11,   466,   345,  2000,  2406,   351,   502,\n",
      "          284,  1561,   284,   616,   279,   533,   438,    40,  1612,    11,\n",
      "        21480,    76,    11,   284, 22300,   290,  9084,  2743,    30,   314,\n",
      "          761,   617,  6573,  1104,    13, 50256,  5189,  1781,    13,   921,\n",
      "         8066,  1560,   606,   546,   262,  5536,  1517,    30, 50256, 10995,\n",
      "           13, 50256, 18690,    13,  2141,   345,   765,   284,   467,   783,\n",
      "           30, 50256, 19457,    11,  1244,   355,   880,    13,   685,    62,\n",
      "        10594,   923,  9087,   612,    62,    60, 50256, 29795, 27780,    82,\n",
      "           62,    60, 50256, 29795, 15418,  3320,   319,   262,  3420,    62,\n",
      "           60, 50256])\n"
     ]
    }
   ],
   "source": [
    "print(val_ds[0])"
   ]
  },
  {
   "cell_type": "code",
   "execution_count": null,
   "metadata": {},
   "outputs": [],
   "source": []
  }
 ],
 "metadata": {
  "kernelspec": {
   "display_name": "Python 3 (ipykernel)",
   "language": "python",
   "name": "python3"
  },
  "language_info": {
   "codemirror_mode": {
    "name": "ipython",
    "version": 3
   },
   "file_extension": ".py",
   "mimetype": "text/x-python",
   "name": "python",
   "nbconvert_exporter": "python",
   "pygments_lexer": "ipython3",
   "version": "3.10.4"
  }
 },
 "nbformat": 4,
 "nbformat_minor": 4
}
