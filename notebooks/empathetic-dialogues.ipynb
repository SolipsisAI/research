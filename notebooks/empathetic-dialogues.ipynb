{
 "cells": [
  {
   "cell_type": "markdown",
   "id": "8f8fe39b-f760-4ee0-b687-1e54b0596475",
   "metadata": {},
   "source": [
    "# References\n",
    "\n",
    "- https://github.com/facebookresearch/EmpatheticDialogues\n",
    "- https://paperswithcode.com/dataset/empatheticdialogues\n",
    "- https://web.stanford.edu/class/archive/cs/cs224n/cs224n.1214/reports/final_reports/report028.pdf\n",
    "- https://colab.research.google.com/github/ncoop57/i-am-a-nerd/blob/master/_notebooks/2020-05-12-chatbot-part-1.ipynb\n",
    "- https://towardsdatascience.com/dialogpt-large-scale-generative-pre-training-for-conversational-response-generation-5ceb783428dc\n",
    "- https://jalammar.github.io/illustrated-gpt2/\n",
    "- https://huggingface.co/blog/how-to-generate"
   ]
  },
  {
   "cell_type": "code",
   "execution_count": 1,
   "id": "f7e7a60c-0525-44ec-854b-3931492eaa97",
   "metadata": {},
   "outputs": [],
   "source": [
    "%load_ext autoreload\n",
    "%autoreload 2"
   ]
  },
  {
   "cell_type": "code",
   "execution_count": 2,
   "id": "797919e6-0d24-4b4b-b201-afd110761b30",
   "metadata": {},
   "outputs": [],
   "source": [
    "import torch, os, re, pandas as pd, json\n",
    "from sklearn.model_selection import train_test_split\n",
    "from transformers import (\n",
    "    DataCollatorForLanguageModeling,\n",
    "    DataCollatorWithPadding,\n",
    "    GPT2Tokenizer,\n",
    "    GPT2LMHeadModel,\n",
    "    Trainer,\n",
    "    TrainingArguments,\n",
    "    AutoConfig,\n",
    "    AutoTokenizer,\n",
    "    AutoModelForCausalLM\n",
    ")\n",
    "from datasets import Dataset, list_metrics, load_metric\n",
    "\n",
    "\n",
    "MODEL_NAME = \"microsoft/DialoGPT-small\"\n",
    "model_cls = AutoModelForCausalLM\n",
    "tokenizer_cls = AutoTokenizer"
   ]
  },
  {
   "cell_type": "code",
   "execution_count": 3,
   "id": "3780441c-432c-4410-8910-122f712b3394",
   "metadata": {},
   "outputs": [
    {
     "name": "stdout",
     "output_type": "stream",
     "text": [
      "--2022-05-09 23:07:27--  https://dl.fbaipublicfiles.com/parlai/empatheticdialogues/empatheticdialogues.tar.gz\n",
      "Resolving dl.fbaipublicfiles.com (dl.fbaipublicfiles.com)... 104.22.74.142, 172.67.9.4, 104.22.75.142, ...\n",
      "Connecting to dl.fbaipublicfiles.com (dl.fbaipublicfiles.com)|104.22.74.142|:443... connected.\n",
      "HTTP request sent, awaiting response... 200 OK\n",
      "Length: 28022709 (27M) [application/gzip]\n",
      "Saving to: ‘empatheticdialogues.tar.gz’\n",
      "\n",
      "empatheticdialogues 100%[===================>]  26.72M  26.1MB/s    in 1.0s    \n",
      "\n",
      "2022-05-09 23:07:29 (26.1 MB/s) - ‘empatheticdialogues.tar.gz’ saved [28022709/28022709]\n",
      "\n",
      "empatheticdialogues/\n",
      "empatheticdialogues/test.csv\n",
      "empatheticdialogues/train.csv\n",
      "empatheticdialogues/valid.csv\n"
     ]
    }
   ],
   "source": [
    "!wget https://dl.fbaipublicfiles.com/parlai/empatheticdialogues/empatheticdialogues.tar.gz\n",
    "!tar xzvf empatheticdialogues.tar.gz\n",
    "!mv empatheticdialogues.tar.gz ../data/\n",
    "!mv empatheticdialogues ../data/"
   ]
  },
  {
   "cell_type": "code",
   "execution_count": 2,
   "id": "60661bb8-8066-4336-a600-1d3d6e3cc3f8",
   "metadata": {},
   "outputs": [
    {
     "name": "stdout",
     "output_type": "stream",
     "text": [
      "empatheticdialogues\t    hopper-dialoGPT-1\n",
      "empatheticdialogues.tar.gz  processed.csv\n"
     ]
    }
   ],
   "source": [
    "!ls ../data"
   ]
  },
  {
   "cell_type": "code",
   "execution_count": 3,
   "id": "07e4b13a-d9bb-4e3a-ba9f-88e4bd49cbf7",
   "metadata": {},
   "outputs": [
    {
     "name": "stdout",
     "output_type": "stream",
     "text": [
      "test.csv  train.csv  valid.csv\n"
     ]
    }
   ],
   "source": [
    "!ls ../data/empatheticdialogues/"
   ]
  },
  {
   "cell_type": "code",
   "execution_count": 3,
   "id": "3f159f64-3759-4bfc-8b34-97402c0df54c",
   "metadata": {},
   "outputs": [],
   "source": [
    "filename = \"../data/empatheticdialogues/train.csv\"\n",
    "df = pd.read_csv(filename, encoding=\"utf-8\", on_bad_lines=\"skip\")"
   ]
  },
  {
   "cell_type": "code",
   "execution_count": 4,
   "id": "217a79c9-ca6d-41a9-8608-c5cf20f657f0",
   "metadata": {},
   "outputs": [
    {
     "data": {
      "text/html": [
       "<div>\n",
       "<style scoped>\n",
       "    .dataframe tbody tr th:only-of-type {\n",
       "        vertical-align: middle;\n",
       "    }\n",
       "\n",
       "    .dataframe tbody tr th {\n",
       "        vertical-align: top;\n",
       "    }\n",
       "\n",
       "    .dataframe thead th {\n",
       "        text-align: right;\n",
       "    }\n",
       "</style>\n",
       "<table border=\"1\" class=\"dataframe\">\n",
       "  <thead>\n",
       "    <tr style=\"text-align: right;\">\n",
       "      <th></th>\n",
       "      <th>conv_id</th>\n",
       "      <th>utterance_idx</th>\n",
       "      <th>context</th>\n",
       "      <th>prompt</th>\n",
       "      <th>speaker_idx</th>\n",
       "      <th>utterance</th>\n",
       "      <th>selfeval</th>\n",
       "      <th>tags</th>\n",
       "    </tr>\n",
       "  </thead>\n",
       "  <tbody>\n",
       "    <tr>\n",
       "      <th>0</th>\n",
       "      <td>hit:0_conv:1</td>\n",
       "      <td>1</td>\n",
       "      <td>sentimental</td>\n",
       "      <td>I remember going to the fireworks with my best...</td>\n",
       "      <td>1</td>\n",
       "      <td>I remember going to see the fireworks with my ...</td>\n",
       "      <td>5|5|5_2|2|5</td>\n",
       "      <td>NaN</td>\n",
       "    </tr>\n",
       "    <tr>\n",
       "      <th>1</th>\n",
       "      <td>hit:0_conv:1</td>\n",
       "      <td>2</td>\n",
       "      <td>sentimental</td>\n",
       "      <td>I remember going to the fireworks with my best...</td>\n",
       "      <td>0</td>\n",
       "      <td>Was this a friend you were in love with_comma_...</td>\n",
       "      <td>5|5|5_2|2|5</td>\n",
       "      <td>NaN</td>\n",
       "    </tr>\n",
       "    <tr>\n",
       "      <th>2</th>\n",
       "      <td>hit:0_conv:1</td>\n",
       "      <td>3</td>\n",
       "      <td>sentimental</td>\n",
       "      <td>I remember going to the fireworks with my best...</td>\n",
       "      <td>1</td>\n",
       "      <td>This was a best friend. I miss her.</td>\n",
       "      <td>5|5|5_2|2|5</td>\n",
       "      <td>NaN</td>\n",
       "    </tr>\n",
       "    <tr>\n",
       "      <th>3</th>\n",
       "      <td>hit:0_conv:1</td>\n",
       "      <td>4</td>\n",
       "      <td>sentimental</td>\n",
       "      <td>I remember going to the fireworks with my best...</td>\n",
       "      <td>0</td>\n",
       "      <td>Where has she gone?</td>\n",
       "      <td>5|5|5_2|2|5</td>\n",
       "      <td>NaN</td>\n",
       "    </tr>\n",
       "    <tr>\n",
       "      <th>4</th>\n",
       "      <td>hit:0_conv:1</td>\n",
       "      <td>5</td>\n",
       "      <td>sentimental</td>\n",
       "      <td>I remember going to the fireworks with my best...</td>\n",
       "      <td>1</td>\n",
       "      <td>We no longer talk.</td>\n",
       "      <td>5|5|5_2|2|5</td>\n",
       "      <td>NaN</td>\n",
       "    </tr>\n",
       "  </tbody>\n",
       "</table>\n",
       "</div>"
      ],
      "text/plain": [
       "        conv_id  utterance_idx      context  \\\n",
       "0  hit:0_conv:1              1  sentimental   \n",
       "1  hit:0_conv:1              2  sentimental   \n",
       "2  hit:0_conv:1              3  sentimental   \n",
       "3  hit:0_conv:1              4  sentimental   \n",
       "4  hit:0_conv:1              5  sentimental   \n",
       "\n",
       "                                              prompt  speaker_idx  \\\n",
       "0  I remember going to the fireworks with my best...            1   \n",
       "1  I remember going to the fireworks with my best...            0   \n",
       "2  I remember going to the fireworks with my best...            1   \n",
       "3  I remember going to the fireworks with my best...            0   \n",
       "4  I remember going to the fireworks with my best...            1   \n",
       "\n",
       "                                           utterance     selfeval tags  \n",
       "0  I remember going to see the fireworks with my ...  5|5|5_2|2|5  NaN  \n",
       "1  Was this a friend you were in love with_comma_...  5|5|5_2|2|5  NaN  \n",
       "2                This was a best friend. I miss her.  5|5|5_2|2|5  NaN  \n",
       "3                                Where has she gone?  5|5|5_2|2|5  NaN  \n",
       "4                                 We no longer talk.  5|5|5_2|2|5  NaN  "
      ]
     },
     "execution_count": 4,
     "metadata": {},
     "output_type": "execute_result"
    }
   ],
   "source": [
    "df.head(5)"
   ]
  },
  {
   "cell_type": "code",
   "execution_count": 5,
   "id": "42cf3f97-8a73-47e9-b464-0948d5bc86db",
   "metadata": {
    "scrolled": true,
    "tags": []
   },
   "outputs": [
    {
     "data": {
      "text/html": [
       "<div>\n",
       "<style scoped>\n",
       "    .dataframe tbody tr th:only-of-type {\n",
       "        vertical-align: middle;\n",
       "    }\n",
       "\n",
       "    .dataframe tbody tr th {\n",
       "        vertical-align: top;\n",
       "    }\n",
       "\n",
       "    .dataframe thead th {\n",
       "        text-align: right;\n",
       "    }\n",
       "</style>\n",
       "<table border=\"1\" class=\"dataframe\">\n",
       "  <thead>\n",
       "    <tr style=\"text-align: right;\">\n",
       "      <th></th>\n",
       "      <th>conv_id</th>\n",
       "      <th>utterance_idx</th>\n",
       "      <th>context</th>\n",
       "      <th>prompt</th>\n",
       "      <th>speaker_idx</th>\n",
       "      <th>utterance</th>\n",
       "      <th>selfeval</th>\n",
       "      <th>tags</th>\n",
       "    </tr>\n",
       "  </thead>\n",
       "  <tbody>\n",
       "    <tr>\n",
       "      <th>0</th>\n",
       "      <td>hit:0_conv:1</td>\n",
       "      <td>1</td>\n",
       "      <td>sentimental</td>\n",
       "      <td>I remember going to the fireworks with my best...</td>\n",
       "      <td>1</td>\n",
       "      <td>I remember going to see the fireworks with my ...</td>\n",
       "      <td>5|5|5_2|2|5</td>\n",
       "      <td>NaN</td>\n",
       "    </tr>\n",
       "    <tr>\n",
       "      <th>1</th>\n",
       "      <td>hit:0_conv:1</td>\n",
       "      <td>2</td>\n",
       "      <td>sentimental</td>\n",
       "      <td>I remember going to the fireworks with my best...</td>\n",
       "      <td>0</td>\n",
       "      <td>Was this a friend you were in love with_comma_...</td>\n",
       "      <td>5|5|5_2|2|5</td>\n",
       "      <td>NaN</td>\n",
       "    </tr>\n",
       "    <tr>\n",
       "      <th>2</th>\n",
       "      <td>hit:0_conv:1</td>\n",
       "      <td>3</td>\n",
       "      <td>sentimental</td>\n",
       "      <td>I remember going to the fireworks with my best...</td>\n",
       "      <td>1</td>\n",
       "      <td>This was a best friend. I miss her.</td>\n",
       "      <td>5|5|5_2|2|5</td>\n",
       "      <td>NaN</td>\n",
       "    </tr>\n",
       "    <tr>\n",
       "      <th>3</th>\n",
       "      <td>hit:0_conv:1</td>\n",
       "      <td>4</td>\n",
       "      <td>sentimental</td>\n",
       "      <td>I remember going to the fireworks with my best...</td>\n",
       "      <td>0</td>\n",
       "      <td>Where has she gone?</td>\n",
       "      <td>5|5|5_2|2|5</td>\n",
       "      <td>NaN</td>\n",
       "    </tr>\n",
       "    <tr>\n",
       "      <th>4</th>\n",
       "      <td>hit:0_conv:1</td>\n",
       "      <td>5</td>\n",
       "      <td>sentimental</td>\n",
       "      <td>I remember going to the fireworks with my best...</td>\n",
       "      <td>1</td>\n",
       "      <td>We no longer talk.</td>\n",
       "      <td>5|5|5_2|2|5</td>\n",
       "      <td>NaN</td>\n",
       "    </tr>\n",
       "    <tr>\n",
       "      <th>...</th>\n",
       "      <td>...</td>\n",
       "      <td>...</td>\n",
       "      <td>...</td>\n",
       "      <td>...</td>\n",
       "      <td>...</td>\n",
       "      <td>...</td>\n",
       "      <td>...</td>\n",
       "      <td>...</td>\n",
       "    </tr>\n",
       "    <tr>\n",
       "      <th>76663</th>\n",
       "      <td>hit:12424_conv:24848</td>\n",
       "      <td>5</td>\n",
       "      <td>sentimental</td>\n",
       "      <td>I found some pictures of my grandma in the att...</td>\n",
       "      <td>389</td>\n",
       "      <td>Yeah reminds me of the good old days.  I miss ...</td>\n",
       "      <td>5|5|5_5|5|5</td>\n",
       "      <td>NaN</td>\n",
       "    </tr>\n",
       "    <tr>\n",
       "      <th>76664</th>\n",
       "      <td>hit:12424_conv:24849</td>\n",
       "      <td>1</td>\n",
       "      <td>surprised</td>\n",
       "      <td>I woke up this morning to my wife telling me s...</td>\n",
       "      <td>294</td>\n",
       "      <td>I woke up this morning to my wife telling me s...</td>\n",
       "      <td>5|5|5_5|5|5</td>\n",
       "      <td>NaN</td>\n",
       "    </tr>\n",
       "    <tr>\n",
       "      <th>76665</th>\n",
       "      <td>hit:12424_conv:24849</td>\n",
       "      <td>2</td>\n",
       "      <td>surprised</td>\n",
       "      <td>I woke up this morning to my wife telling me s...</td>\n",
       "      <td>389</td>\n",
       "      <td>Oh hey that's awesome!  That is awesome right?</td>\n",
       "      <td>5|5|5_5|5|5</td>\n",
       "      <td>NaN</td>\n",
       "    </tr>\n",
       "    <tr>\n",
       "      <th>76666</th>\n",
       "      <td>hit:12424_conv:24849</td>\n",
       "      <td>3</td>\n",
       "      <td>surprised</td>\n",
       "      <td>I woke up this morning to my wife telling me s...</td>\n",
       "      <td>294</td>\n",
       "      <td>It is soooo awesome.  We have been wanting a b...</td>\n",
       "      <td>5|5|5_5|5|5</td>\n",
       "      <td>NaN</td>\n",
       "    </tr>\n",
       "    <tr>\n",
       "      <th>76667</th>\n",
       "      <td>hit:12424_conv:24849</td>\n",
       "      <td>4</td>\n",
       "      <td>surprised</td>\n",
       "      <td>I woke up this morning to my wife telling me s...</td>\n",
       "      <td>389</td>\n",
       "      <td>That is awesome!!!! Congratulations!</td>\n",
       "      <td>5|5|5_5|5|5</td>\n",
       "      <td>NaN</td>\n",
       "    </tr>\n",
       "  </tbody>\n",
       "</table>\n",
       "<p>76668 rows × 8 columns</p>\n",
       "</div>"
      ],
      "text/plain": [
       "                    conv_id  utterance_idx      context  \\\n",
       "0              hit:0_conv:1              1  sentimental   \n",
       "1              hit:0_conv:1              2  sentimental   \n",
       "2              hit:0_conv:1              3  sentimental   \n",
       "3              hit:0_conv:1              4  sentimental   \n",
       "4              hit:0_conv:1              5  sentimental   \n",
       "...                     ...            ...          ...   \n",
       "76663  hit:12424_conv:24848              5  sentimental   \n",
       "76664  hit:12424_conv:24849              1    surprised   \n",
       "76665  hit:12424_conv:24849              2    surprised   \n",
       "76666  hit:12424_conv:24849              3    surprised   \n",
       "76667  hit:12424_conv:24849              4    surprised   \n",
       "\n",
       "                                                  prompt  speaker_idx  \\\n",
       "0      I remember going to the fireworks with my best...            1   \n",
       "1      I remember going to the fireworks with my best...            0   \n",
       "2      I remember going to the fireworks with my best...            1   \n",
       "3      I remember going to the fireworks with my best...            0   \n",
       "4      I remember going to the fireworks with my best...            1   \n",
       "...                                                  ...          ...   \n",
       "76663  I found some pictures of my grandma in the att...          389   \n",
       "76664  I woke up this morning to my wife telling me s...          294   \n",
       "76665  I woke up this morning to my wife telling me s...          389   \n",
       "76666  I woke up this morning to my wife telling me s...          294   \n",
       "76667  I woke up this morning to my wife telling me s...          389   \n",
       "\n",
       "                                               utterance     selfeval tags  \n",
       "0      I remember going to see the fireworks with my ...  5|5|5_2|2|5  NaN  \n",
       "1      Was this a friend you were in love with_comma_...  5|5|5_2|2|5  NaN  \n",
       "2                    This was a best friend. I miss her.  5|5|5_2|2|5  NaN  \n",
       "3                                    Where has she gone?  5|5|5_2|2|5  NaN  \n",
       "4                                     We no longer talk.  5|5|5_2|2|5  NaN  \n",
       "...                                                  ...          ...  ...  \n",
       "76663  Yeah reminds me of the good old days.  I miss ...  5|5|5_5|5|5  NaN  \n",
       "76664  I woke up this morning to my wife telling me s...  5|5|5_5|5|5  NaN  \n",
       "76665     Oh hey that's awesome!  That is awesome right?  5|5|5_5|5|5  NaN  \n",
       "76666  It is soooo awesome.  We have been wanting a b...  5|5|5_5|5|5  NaN  \n",
       "76667               That is awesome!!!! Congratulations!  5|5|5_5|5|5  NaN  \n",
       "\n",
       "[76668 rows x 8 columns]"
      ]
     },
     "execution_count": 5,
     "metadata": {},
     "output_type": "execute_result"
    }
   ],
   "source": [
    "df"
   ]
  },
  {
   "cell_type": "code",
   "execution_count": 6,
   "id": "f899a498-d346-47d3-a74b-23198dda96e3",
   "metadata": {},
   "outputs": [],
   "source": [
    "base_tokenizer = tokenizer_cls.from_pretrained(MODEL_NAME)"
   ]
  },
  {
   "cell_type": "code",
   "execution_count": 7,
   "id": "db4851f3-e53a-4fa6-9fe2-472210c12db6",
   "metadata": {},
   "outputs": [],
   "source": [
    "df[\"text\"] = df[[\"conv_id\", \"prompt\", \"utterance\"]].groupby(\"conv_id\")[\"utterance\"].transform(lambda x: base_tokenizer.eos_token.join(x))"
   ]
  },
  {
   "cell_type": "code",
   "execution_count": 14,
   "id": "ad6be2c3-e62a-4f6e-9414-8080fe4cb8c6",
   "metadata": {},
   "outputs": [
    {
     "data": {
      "text/plain": [
       "'I remember going to see the fireworks with my best friend. It was the first time we ever spent time alone together. Although there was a lot of people_comma_ we felt like the only people in the world.<|endoftext|>Was this a friend you were in love with_comma_ or just a best friend?<|endoftext|>This was a best friend. I miss her.<|endoftext|>Where has she gone?<|endoftext|>We no longer talk.<|endoftext|>Oh was this something that happened because of an argument?'"
      ]
     },
     "execution_count": 14,
     "metadata": {},
     "output_type": "execute_result"
    }
   ],
   "source": [
    "df.iloc[0][\"text\"]"
   ]
  },
  {
   "cell_type": "code",
   "execution_count": 11,
   "id": "8dd0c47c-2137-4f04-ad19-ff1ef80d6850",
   "metadata": {},
   "outputs": [],
   "source": [
    "train_df = pd.DataFrame({})\n",
    "train_df[\"text\"] = df[[\"conv_id\", \"prompt\", \"utterance\"]].groupby(\"conv_id\")[\"utterance\"].transform(lambda x: base_tokenizer.eos_token.join(x))"
   ]
  },
  {
   "cell_type": "code",
   "execution_count": 15,
   "id": "df9b9746-129e-4b73-a6e3-36ab6a0641b9",
   "metadata": {},
   "outputs": [
    {
     "data": {
      "text/plain": [
       "'I remember going to see the fireworks with my best friend. It was the first time we ever spent time alone together. Although there was a lot of people_comma_ we felt like the only people in the world.<|endoftext|>Was this a friend you were in love with_comma_ or just a best friend?<|endoftext|>This was a best friend. I miss her.<|endoftext|>Where has she gone?<|endoftext|>We no longer talk.<|endoftext|>Oh was this something that happened because of an argument?'"
      ]
     },
     "execution_count": 15,
     "metadata": {},
     "output_type": "execute_result"
    }
   ],
   "source": [
    "train_df.iloc[0][\"text\"]"
   ]
  },
  {
   "cell_type": "code",
   "execution_count": 64,
   "id": "5617f091-b34a-4bed-856b-8f0d60310a3c",
   "metadata": {},
   "outputs": [],
   "source": [
    "def prepare_data(df):\n",
    "    up_df = pd.DataFrame({})\n",
    "    up_df[\"text\"] = df[[\"conv_id\", \"prompt\", \"utterance\"]].groupby(\"conv_id\")[\"utterance\"].transform(lambda x: base_tokenizer.eos_token.join(x))\n",
    "    up_df.reset_index()\n",
    "    return pd.DataFrame({\"text\": up_df.text.unique()})"
   ]
  },
  {
   "cell_type": "code",
   "execution_count": 65,
   "id": "b1ad7833-a4ec-442b-8a93-85290b688beb",
   "metadata": {},
   "outputs": [],
   "source": [
    "trn_df = prepare_data(df)"
   ]
  },
  {
   "cell_type": "code",
   "execution_count": 66,
   "id": "4a63e671-715c-404b-9f68-1bf333cf2519",
   "metadata": {},
   "outputs": [
    {
     "name": "stdout",
     "output_type": "stream",
     "text": [
      "(0, text    I remember going to see the fireworks with my ...\n",
      "Name: 0, dtype: object)\n",
      "(1, text     it feels like hitting to blank wall when i se...\n",
      "Name: 1, dtype: object)\n",
      "(2, text    Hi how are you doing today<|endoftext|>doing g...\n",
      "Name: 2, dtype: object)\n",
      "(3, text    I have never cheated on my wife.<|endoftext|>A...\n",
      "Name: 3, dtype: object)\n",
      "(4, text    Job interviews always make me sweat bullets_co...\n",
      "Name: 4, dtype: object)\n",
      "(5, text    Hi_comma_ this year_comma_ I was the first ove...\n",
      "Name: 5, dtype: object)\n",
      "(6, text    I lost my job last year and got really angry.<...\n",
      "Name: 6, dtype: object)\n",
      "(7, text    During christmas a few years ago_comma_ I did ...\n",
      "Name: 7, dtype: object)\n",
      "(8, text    My coworker is allowed to work remotely_comma_...\n",
      "Name: 8, dtype: object)\n",
      "(9, text    The other night I was alone and heard a nose c...\n",
      "Name: 9, dtype: object)\n"
     ]
    }
   ],
   "source": [
    "for row in trn_df[:10].iterrows():\n",
    "    print(row)"
   ]
  },
  {
   "cell_type": "code",
   "execution_count": 67,
   "id": "28d1f84a-03ba-461a-ae0f-1957cbd82571",
   "metadata": {},
   "outputs": [
    {
     "data": {
      "text/html": [
       "<div>\n",
       "<style scoped>\n",
       "    .dataframe tbody tr th:only-of-type {\n",
       "        vertical-align: middle;\n",
       "    }\n",
       "\n",
       "    .dataframe tbody tr th {\n",
       "        vertical-align: top;\n",
       "    }\n",
       "\n",
       "    .dataframe thead th {\n",
       "        text-align: right;\n",
       "    }\n",
       "</style>\n",
       "<table border=\"1\" class=\"dataframe\">\n",
       "  <thead>\n",
       "    <tr style=\"text-align: right;\">\n",
       "      <th></th>\n",
       "      <th>text</th>\n",
       "    </tr>\n",
       "  </thead>\n",
       "  <tbody>\n",
       "    <tr>\n",
       "      <th>0</th>\n",
       "      <td>I remember going to see the fireworks with my ...</td>\n",
       "    </tr>\n",
       "    <tr>\n",
       "      <th>1</th>\n",
       "      <td>it feels like hitting to blank wall when i se...</td>\n",
       "    </tr>\n",
       "    <tr>\n",
       "      <th>2</th>\n",
       "      <td>Hi how are you doing today&lt;|endoftext|&gt;doing g...</td>\n",
       "    </tr>\n",
       "    <tr>\n",
       "      <th>3</th>\n",
       "      <td>I have never cheated on my wife.&lt;|endoftext|&gt;A...</td>\n",
       "    </tr>\n",
       "    <tr>\n",
       "      <th>4</th>\n",
       "      <td>Job interviews always make me sweat bullets_co...</td>\n",
       "    </tr>\n",
       "    <tr>\n",
       "      <th>...</th>\n",
       "      <td>...</td>\n",
       "    </tr>\n",
       "    <tr>\n",
       "      <th>17834</th>\n",
       "      <td>I was watching professional rodeo last night. ...</td>\n",
       "    </tr>\n",
       "    <tr>\n",
       "      <th>17835</th>\n",
       "      <td>I am waiting to see if I pass the GRE.&lt;|endoft...</td>\n",
       "    </tr>\n",
       "    <tr>\n",
       "      <th>17836</th>\n",
       "      <td>What a scary night that was.&lt;|endoftext|&gt;What ...</td>\n",
       "    </tr>\n",
       "    <tr>\n",
       "      <th>17837</th>\n",
       "      <td>I was going through the stuff in my attic last...</td>\n",
       "    </tr>\n",
       "    <tr>\n",
       "      <th>17838</th>\n",
       "      <td>I woke up this morning to my wife telling me s...</td>\n",
       "    </tr>\n",
       "  </tbody>\n",
       "</table>\n",
       "<p>17839 rows × 1 columns</p>\n",
       "</div>"
      ],
      "text/plain": [
       "                                                    text\n",
       "0      I remember going to see the fireworks with my ...\n",
       "1       it feels like hitting to blank wall when i se...\n",
       "2      Hi how are you doing today<|endoftext|>doing g...\n",
       "3      I have never cheated on my wife.<|endoftext|>A...\n",
       "4      Job interviews always make me sweat bullets_co...\n",
       "...                                                  ...\n",
       "17834  I was watching professional rodeo last night. ...\n",
       "17835  I am waiting to see if I pass the GRE.<|endoft...\n",
       "17836  What a scary night that was.<|endoftext|>What ...\n",
       "17837  I was going through the stuff in my attic last...\n",
       "17838  I woke up this morning to my wife telling me s...\n",
       "\n",
       "[17839 rows x 1 columns]"
      ]
     },
     "execution_count": 67,
     "metadata": {},
     "output_type": "execute_result"
    }
   ],
   "source": [
    "pd.DataFrame({\"text\": trn_df.text.unique()})"
   ]
  },
  {
   "cell_type": "code",
   "execution_count": null,
   "id": "c05186ef-ee74-423e-9965-185ed64ded60",
   "metadata": {},
   "outputs": [],
   "source": []
  }
 ],
 "metadata": {
  "kernelspec": {
   "display_name": "Python 3 (ipykernel)",
   "language": "python",
   "name": "python3"
  },
  "language_info": {
   "codemirror_mode": {
    "name": "ipython",
    "version": 3
   },
   "file_extension": ".py",
   "mimetype": "text/x-python",
   "name": "python",
   "nbconvert_exporter": "python",
   "pygments_lexer": "ipython3",
   "version": "3.9.12"
  },
  "widgets": {
   "application/vnd.jupyter.widget-state+json": {
    "state": {},
    "version_major": 2,
    "version_minor": 0
   }
  }
 },
 "nbformat": 4,
 "nbformat_minor": 5
}
