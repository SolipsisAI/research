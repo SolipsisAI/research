{
 "cells": [
  {
   "cell_type": "code",
   "execution_count": 1,
   "metadata": {},
   "outputs": [],
   "source": [
    "%load_ext autoreload\n",
    "%autoreload 2"
   ]
  },
  {
   "cell_type": "code",
   "execution_count": 2,
   "metadata": {},
   "outputs": [
    {
     "name": "stderr",
     "output_type": "stream",
     "text": [
      "2023-01-04 00:08:25.124093: W tensorflow/stream_executor/platform/default/dso_loader.cc:64] Could not load dynamic library 'libcudart.so.11.0'; dlerror: libcudart.so.11.0: cannot open shared object file: No such file or directory\n",
      "2023-01-04 00:08:25.124111: I tensorflow/stream_executor/cuda/cudart_stub.cc:29] Ignore above cudart dlerror if you do not have a GPU set up on your machine.\n"
     ]
    }
   ],
   "source": [
    "from transformers import AutoModelForCausalLM, AutoTokenizer"
   ]
  },
  {
   "cell_type": "code",
   "execution_count": 3,
   "metadata": {},
   "outputs": [],
   "source": [
    "model_path = \"../../models/ERICA\"\n",
    "exported_path = \"../../models/ERICA--exported--20221225\""
   ]
  },
  {
   "cell_type": "code",
   "execution_count": 4,
   "metadata": {},
   "outputs": [],
   "source": [
    "model = AutoModelForCausalLM.from_pretrained(model_path)\n",
    "#model.save_pretrained(exported_path)"
   ]
  },
  {
   "cell_type": "code",
   "execution_count": 5,
   "metadata": {},
   "outputs": [
    {
     "data": {
      "text/plain": [
       "('../../models/ERICA--exported--20221225/tokenizer_config.json',\n",
       " '../../models/ERICA--exported--20221225/special_tokens_map.json',\n",
       " '../../models/ERICA--exported--20221225/vocab.json',\n",
       " '../../models/ERICA--exported--20221225/merges.txt',\n",
       " '../../models/ERICA--exported--20221225/added_tokens.json',\n",
       " '../../models/ERICA--exported--20221225/tokenizer.json')"
      ]
     },
     "execution_count": 5,
     "metadata": {},
     "output_type": "execute_result"
    }
   ],
   "source": [
    "tokenizer = AutoTokenizer.from_pretrained(model_path)\n",
    "#tokenizer.save_pretrained(exported_path)"
   ]
  },
  {
   "cell_type": "code",
   "execution_count": 6,
   "metadata": {},
   "outputs": [],
   "source": [
    "from src.utils import export_model\n",
    "from transformers import TFAutoModelForSequenceClassification"
   ]
  },
  {
   "cell_type": "code",
   "execution_count": 8,
   "metadata": {},
   "outputs": [
    {
     "name": "stdout",
     "output_type": "stream",
     "text": [
      "Help on function export_model in module src.utils:\n",
      "\n",
      "export_model(model_path, tokenizer_path, output_path)\n",
      "\n"
     ]
    }
   ],
   "source": [
    "help(export_model)"
   ]
  },
  {
   "cell_type": "code",
   "execution_count": 8,
   "metadata": {},
   "outputs": [
    {
     "name": "stderr",
     "output_type": "stream",
     "text": [
      "2023-01-04 00:13:43.910327: E tensorflow/stream_executor/cuda/cuda_driver.cc:271] failed call to cuInit: CUDA_ERROR_NO_DEVICE: no CUDA-capable device is detected\n",
      "2023-01-04 00:13:43.910353: I tensorflow/stream_executor/cuda/cuda_diagnostics.cc:169] retrieving CUDA diagnostic information for host: 0701f5cb6f1a\n",
      "2023-01-04 00:13:43.910358: I tensorflow/stream_executor/cuda/cuda_diagnostics.cc:176] hostname: 0701f5cb6f1a\n",
      "2023-01-04 00:13:43.910430: I tensorflow/stream_executor/cuda/cuda_diagnostics.cc:200] libcuda reported version is: 510.73.5\n",
      "2023-01-04 00:13:43.910444: I tensorflow/stream_executor/cuda/cuda_diagnostics.cc:204] kernel reported version is: 510.73.5\n",
      "2023-01-04 00:13:43.910449: I tensorflow/stream_executor/cuda/cuda_diagnostics.cc:310] kernel version seems to match DSO: 510.73.5\n",
      "2023-01-04 00:13:43.910630: I tensorflow/core/platform/cpu_feature_guard.cc:193] This TensorFlow binary is optimized with oneAPI Deep Neural Network Library (oneDNN) to use the following CPU instructions in performance-critical operations:  AVX2 FMA\n",
      "To enable them in other operations, rebuild TensorFlow with the appropriate compiler flags.\n",
      "All model checkpoint layers were used when initializing TFDistilBertForSequenceClassification.\n",
      "\n",
      "All the layers of TFDistilBertForSequenceClassification were initialized from the model checkpoint at bhadresh-savani/distilbert-base-uncased-emotion.\n",
      "If your task is similar to the task the model of the checkpoint was trained on, you can already use TFDistilBertForSequenceClassification for predictions without further training.\n"
     ]
    },
    {
     "name": "stdout",
     "output_type": "stream",
     "text": [
      "Saved to ../../models/distilbert-base-uncased-emotion\n"
     ]
    }
   ],
   "source": [
    "export_model('bhadresh-savani/distilbert-base-uncased-emotion', \"bert-base-uncased\", \"../../models/distilbert-base-uncased-emotion\", autoclass=TFAutoModelForSequenceClassification)"
   ]
  },
  {
   "cell_type": "code",
   "execution_count": 9,
   "metadata": {},
   "outputs": [
    {
     "name": "stdout",
     "output_type": "stream",
     "text": [
      "\u001b[0m\u001b[01;34mcached\u001b[0m/                                 ERICA--exported--20221225.tar.gz\n",
      "\u001b[01;34mdistilbert\u001b[0m/                             \u001b[01;34mERICA--exported.tar.gz\u001b[0m/\n",
      "\u001b[01;34mdistilbert-base-uncased-emotion\u001b[0m/        \u001b[01;34mERICA-update\u001b[0m/\n",
      "distilbert-base-uncased-emotion.tar.gz  \u001b[01;34mERICA-update__exported\u001b[0m/\n",
      "\u001b[01;34mdistilroberta-finetuned\u001b[0m/                \u001b[01;34mexported\u001b[0m/\n",
      "\u001b[01;34mdistilroberta-finetuned__exported\u001b[0m/      \u001b[01;34mhopperbot-medium\u001b[0m/\n",
      "\u001b[01;34mERICA\u001b[0m/                                  \u001b[01;34mimported\u001b[0m/\n",
      "\u001b[01;34mERICA--exported--20221225\u001b[0m/              \u001b[01;34mruns\u001b[0m/\n"
     ]
    }
   ],
   "source": [
    "ls ../../models/"
   ]
  },
  {
   "cell_type": "code",
   "execution_count": null,
   "metadata": {},
   "outputs": [],
   "source": []
  }
 ],
 "metadata": {
  "kernelspec": {
   "display_name": "Python 3 (ipykernel)",
   "language": "python",
   "name": "python3"
  },
  "language_info": {
   "codemirror_mode": {
    "name": "ipython",
    "version": 3
   },
   "file_extension": ".py",
   "mimetype": "text/x-python",
   "name": "python",
   "nbconvert_exporter": "python",
   "pygments_lexer": "ipython3",
   "version": "3.10.4"
  }
 },
 "nbformat": 4,
 "nbformat_minor": 4
}
