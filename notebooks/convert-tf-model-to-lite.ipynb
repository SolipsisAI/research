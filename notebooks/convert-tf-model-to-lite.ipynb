{
 "cells": [
  {
   "cell_type": "code",
   "execution_count": 1,
   "id": "72e9f425-89a3-4d88-85db-6a80e171f275",
   "metadata": {},
   "outputs": [],
   "source": [
    "%load_ext autoreload\n",
    "%autoreload 2"
   ]
  },
  {
   "cell_type": "markdown",
   "id": "14ce64d9-a7a3-4835-9444-63e7fc9ecda5",
   "metadata": {},
   "source": [
    "# Converting a Transformers TensorFlow model to TFLite\n",
    "\n",
    "https://www.tensorflow.org/lite/guide/signatures"
   ]
  },
  {
   "cell_type": "code",
   "execution_count": 133,
   "id": "fad684c9-a923-4e5d-8cb3-736a4010ac51",
   "metadata": {},
   "outputs": [],
   "source": [
    "import tensorflow as tf\n",
    "import numpy as np\n",
    "\n",
    "from transformers import TFAutoModelForSequenceClassification, TFAutoModel, AutoTokenizer\n",
    "\n",
    "#MODEL_NAME = \"j-hartmann/emotion-english-distilroberta-base\"\n",
    "MODEL_NAME = \"bhadresh-savani/distilbert-base-uncased-emotion\"\n",
    "SAVED_MODEL_NAME = \"bhadresh-emotion-classifier-output\"\n",
    "TOKENIZER_NAME = \"bert-base-uncased\"\n",
    "TFLITE_OUTPUT = \"tflite/bhadresh-output\"\n",
    "\n",
    "\n",
    "def load_vocab(filename, reverse=False):\n",
    "    data = load_data(filename, reverse=reverse)\n",
    "    return dict(data)\n",
    "\n",
    "\n",
    "def load_data(filename, reverse=False):\n",
    "    def prepare(i, line):\n",
    "        line = line.strip()\n",
    "        return (i, line) if reverse else (line, i)\n",
    "        \n",
    "    with open(filename, \"r\") as f:\n",
    "        lines = f.readlines()\n",
    "        #lines = list(filter(lambda l: not l.startswith(\"##\"), lines))\n",
    "        return [prepare(i, line) for i, line in enumerate(lines)]\n",
    " \n",
    "\n",
    "class DataUtil:\n",
    "    def __init__(self):\n",
    "        self.token2id = load_vocab(\"vocab.txt\")\n",
    "        self.id2token = load_vocab(\"vocab.txt\", reverse=True) \n",
    "    \n",
    "    def tokenize(self, text, padding=True, max_len=87):\n",
    "        tokens = [line.strip().lower() for line in text.split(\" \")]\n",
    "        # Starting\n",
    "        token_ids = [101]\n",
    "        count = 1\n",
    "\n",
    "        for token in tokens:\n",
    "            if token == 'ive':\n",
    "                part1 = self.token2id.get(\"iv\")\n",
    "                part2 = self.token2id.get(\"##e\")\n",
    "                token_ids += [part1, part2]\n",
    "                continue\n",
    "                \n",
    "            token_id = self.token2id.get(token)\n",
    "            token_ids.append(token_id)\n",
    "            count += 1\n",
    "\n",
    "        token_ids.append(102)\n",
    "        count +=1\n",
    "\n",
    "        # Padding\n",
    "        if padding:\n",
    "            for _ in range(count, max_len):\n",
    "                 token_ids.append(0)\n",
    "        \n",
    "        return token_ids\n",
    "    \n",
    "    def preprocess(self, text, padding=True, max_len=87):\n",
    "        token_ids = self.tokenize(text, padding=padding, max_len=max_len)\n",
    "        return np.array([token_ids], dtype=np.int32) # float32 for text_classification.tflite\n",
    "\n",
    "\n",
    "data_util = DataUtil()"
   ]
  },
  {
   "cell_type": "code",
   "execution_count": 134,
   "id": "5d5d4cea-2e2c-4e0c-bf88-f013bcbe2b1e",
   "metadata": {
    "scrolled": true,
    "tags": []
   },
   "outputs": [
    {
     "data": {
      "text/plain": [
       "[101,\n",
       " 4921,\n",
       " 2063,\n",
       " 2042,\n",
       " 102,\n",
       " 0,\n",
       " 0,\n",
       " 0,\n",
       " 0,\n",
       " 0,\n",
       " 0,\n",
       " 0,\n",
       " 0,\n",
       " 0,\n",
       " 0,\n",
       " 0,\n",
       " 0,\n",
       " 0,\n",
       " 0,\n",
       " 0,\n",
       " 0,\n",
       " 0,\n",
       " 0,\n",
       " 0,\n",
       " 0,\n",
       " 0,\n",
       " 0,\n",
       " 0,\n",
       " 0,\n",
       " 0,\n",
       " 0,\n",
       " 0,\n",
       " 0,\n",
       " 0,\n",
       " 0,\n",
       " 0,\n",
       " 0,\n",
       " 0,\n",
       " 0,\n",
       " 0,\n",
       " 0,\n",
       " 0,\n",
       " 0,\n",
       " 0,\n",
       " 0,\n",
       " 0,\n",
       " 0,\n",
       " 0,\n",
       " 0,\n",
       " 0,\n",
       " 0,\n",
       " 0,\n",
       " 0,\n",
       " 0,\n",
       " 0,\n",
       " 0,\n",
       " 0,\n",
       " 0,\n",
       " 0,\n",
       " 0,\n",
       " 0,\n",
       " 0,\n",
       " 0,\n",
       " 0,\n",
       " 0,\n",
       " 0,\n",
       " 0,\n",
       " 0,\n",
       " 0,\n",
       " 0,\n",
       " 0,\n",
       " 0,\n",
       " 0,\n",
       " 0,\n",
       " 0,\n",
       " 0,\n",
       " 0,\n",
       " 0,\n",
       " 0,\n",
       " 0,\n",
       " 0,\n",
       " 0,\n",
       " 0,\n",
       " 0,\n",
       " 0,\n",
       " 0,\n",
       " 0,\n",
       " 0,\n",
       " 0]"
      ]
     },
     "execution_count": 134,
     "metadata": {},
     "output_type": "execute_result"
    }
   ],
   "source": [
    "data_util.tokenize(\"ive been\")"
   ]
  },
  {
   "cell_type": "markdown",
   "id": "dae2c89d-9025-4d8b-b6ce-b72200a7108d",
   "metadata": {},
   "source": [
    "# Load Transformers Model (TF)"
   ]
  },
  {
   "cell_type": "code",
   "execution_count": 2,
   "id": "62e5b59f-21bd-44b1-b411-3fced4f40e42",
   "metadata": {},
   "outputs": [
    {
     "name": "stderr",
     "output_type": "stream",
     "text": [
      "2023-01-04 16:43:13.162319: E tensorflow/stream_executor/cuda/cuda_driver.cc:271] failed call to cuInit: CUDA_ERROR_NO_DEVICE: no CUDA-capable device is detected\n",
      "2023-01-04 16:43:13.162343: I tensorflow/stream_executor/cuda/cuda_diagnostics.cc:169] retrieving CUDA diagnostic information for host: 0701f5cb6f1a\n",
      "2023-01-04 16:43:13.162348: I tensorflow/stream_executor/cuda/cuda_diagnostics.cc:176] hostname: 0701f5cb6f1a\n",
      "2023-01-04 16:43:13.162402: I tensorflow/stream_executor/cuda/cuda_diagnostics.cc:200] libcuda reported version is: 510.73.5\n",
      "2023-01-04 16:43:13.162416: I tensorflow/stream_executor/cuda/cuda_diagnostics.cc:204] kernel reported version is: 510.73.5\n",
      "2023-01-04 16:43:13.162420: I tensorflow/stream_executor/cuda/cuda_diagnostics.cc:310] kernel version seems to match DSO: 510.73.5\n",
      "2023-01-04 16:43:13.162601: I tensorflow/core/platform/cpu_feature_guard.cc:193] This TensorFlow binary is optimized with oneAPI Deep Neural Network Library (oneDNN) to use the following CPU instructions in performance-critical operations:  AVX2 FMA\n",
      "To enable them in other operations, rebuild TensorFlow with the appropriate compiler flags.\n",
      "All model checkpoint layers were used when initializing TFDistilBertForSequenceClassification.\n",
      "\n",
      "All the layers of TFDistilBertForSequenceClassification were initialized from the model checkpoint at bhadresh-savani/distilbert-base-uncased-emotion.\n",
      "If your task is similar to the task the model of the checkpoint was trained on, you can already use TFDistilBertForSequenceClassification for predictions without further training.\n"
     ]
    }
   ],
   "source": [
    "model = TFAutoModelForSequenceClassification.from_pretrained(MODEL_NAME)"
   ]
  },
  {
   "cell_type": "code",
   "execution_count": 3,
   "id": "bbeeaa10-e12c-4c55-939a-9897ed4fcdde",
   "metadata": {},
   "outputs": [
    {
     "data": {
      "text/plain": [
       "<transformers.models.distilbert.modeling_tf_distilbert.TFDistilBertForSequenceClassification at 0x7f55ed3ed630>"
      ]
     },
     "execution_count": 3,
     "metadata": {},
     "output_type": "execute_result"
    }
   ],
   "source": [
    "model"
   ]
  },
  {
   "cell_type": "code",
   "execution_count": 4,
   "id": "a01ee22b-f291-49c7-aaa5-71657db857e5",
   "metadata": {},
   "outputs": [
    {
     "data": {
      "text/plain": [
       "DistilBertConfig {\n",
       "  \"_name_or_path\": \"bhadresh-savani/distilbert-base-uncased-emotion\",\n",
       "  \"activation\": \"gelu\",\n",
       "  \"architectures\": [\n",
       "    \"DistilBertForSequenceClassification\"\n",
       "  ],\n",
       "  \"attention_dropout\": 0.1,\n",
       "  \"dim\": 768,\n",
       "  \"dropout\": 0.1,\n",
       "  \"hidden_dim\": 3072,\n",
       "  \"id2label\": {\n",
       "    \"0\": \"sadness\",\n",
       "    \"1\": \"joy\",\n",
       "    \"2\": \"love\",\n",
       "    \"3\": \"anger\",\n",
       "    \"4\": \"fear\",\n",
       "    \"5\": \"surprise\"\n",
       "  },\n",
       "  \"initializer_range\": 0.02,\n",
       "  \"label2id\": {\n",
       "    \"anger\": 3,\n",
       "    \"fear\": 4,\n",
       "    \"joy\": 1,\n",
       "    \"love\": 2,\n",
       "    \"sadness\": 0,\n",
       "    \"surprise\": 5\n",
       "  },\n",
       "  \"max_position_embeddings\": 512,\n",
       "  \"model_type\": \"distilbert\",\n",
       "  \"n_heads\": 12,\n",
       "  \"n_layers\": 6,\n",
       "  \"pad_token_id\": 0,\n",
       "  \"qa_dropout\": 0.1,\n",
       "  \"seq_classif_dropout\": 0.2,\n",
       "  \"sinusoidal_pos_embds\": false,\n",
       "  \"tie_weights_\": true,\n",
       "  \"transformers_version\": \"4.20.0\",\n",
       "  \"vocab_size\": 30522\n",
       "}"
      ]
     },
     "execution_count": 4,
     "metadata": {},
     "output_type": "execute_result"
    }
   ],
   "source": [
    "model.config"
   ]
  },
  {
   "cell_type": "markdown",
   "id": "d78c47a9-ca72-4c05-a7bc-b28a57351e07",
   "metadata": {},
   "source": [
    "# Load tokenizer"
   ]
  },
  {
   "cell_type": "code",
   "execution_count": 99,
   "id": "97abc7ae-1add-4807-a7c6-b504eed77e7c",
   "metadata": {},
   "outputs": [],
   "source": [
    "tokenizer = AutoTokenizer.from_pretrained(TOKENIZER_NAME)"
   ]
  },
  {
   "cell_type": "code",
   "execution_count": 100,
   "id": "76a36334-2eed-4d60-aeae-f783bea59024",
   "metadata": {},
   "outputs": [],
   "source": [
    "def tokenize(batch):\n",
    "    return tokenizer(batch[\"text\"], padding=True, truncation=True)"
   ]
  },
  {
   "cell_type": "code",
   "execution_count": 101,
   "id": "cc34bc85-ba20-48ab-b56d-b7b1345a3e3e",
   "metadata": {},
   "outputs": [
    {
     "name": "stderr",
     "output_type": "stream",
     "text": [
      "WARNING:datasets.builder:Using custom data configuration SetFit--emotion-89147fdf376d67e2\n",
      "WARNING:datasets.builder:Reusing dataset json (/home/jovyan/.cache/huggingface/datasets/SetFit___json/SetFit--emotion-89147fdf376d67e2/0.0.0/da492aad5680612e4028e7f6ddc04b1dfcec4b64db470ed7cc5f2bb265b9b6b5)\n"
     ]
    },
    {
     "data": {
      "application/vnd.jupyter.widget-view+json": {
       "model_id": "6a76ca41fbf24037a63c2233d6f49fc1",
       "version_major": 2,
       "version_minor": 0
      },
      "text/plain": [
       "  0%|          | 0/3 [00:00<?, ?it/s]"
      ]
     },
     "metadata": {},
     "output_type": "display_data"
    }
   ],
   "source": [
    "from datasets import load_dataset\n",
    "# emotions = load_dataset(\"emotion\")\n",
    "emotions = load_dataset(\"SetFit/emotion\")  # emotion is broken right now"
   ]
  },
  {
   "cell_type": "code",
   "execution_count": 102,
   "id": "4cbcc769-e99b-488e-980d-87aff4f9bb1a",
   "metadata": {},
   "outputs": [
    {
     "data": {
      "application/vnd.jupyter.widget-view+json": {
       "model_id": "56ff6321020c45389892158baa940db5",
       "version_major": 2,
       "version_minor": 0
      },
      "text/plain": [
       "  0%|          | 0/1 [00:00<?, ?ba/s]"
      ]
     },
     "metadata": {},
     "output_type": "display_data"
    },
    {
     "data": {
      "application/vnd.jupyter.widget-view+json": {
       "model_id": "529b11f7361644428be8f86fd164233e",
       "version_major": 2,
       "version_minor": 0
      },
      "text/plain": [
       "  0%|          | 0/1 [00:00<?, ?ba/s]"
      ]
     },
     "metadata": {},
     "output_type": "display_data"
    },
    {
     "data": {
      "application/vnd.jupyter.widget-view+json": {
       "model_id": "754d1ce805074b4f9d7b197dd88c82df",
       "version_major": 2,
       "version_minor": 0
      },
      "text/plain": [
       "  0%|          | 0/1 [00:00<?, ?ba/s]"
      ]
     },
     "metadata": {},
     "output_type": "display_data"
    }
   ],
   "source": [
    "emotions_encoded = emotions.map(tokenize, batched=True, batch_size=None)\n",
    "emotions_encoded.set_format(\"tf\", columns=[\"input_ids\", \"attention_mask\"])"
   ]
  },
  {
   "cell_type": "markdown",
   "id": "1fc9caa4-0d36-4253-aa1d-603f508bad5a",
   "metadata": {},
   "source": [
    "# Test original model\n",
    "\n",
    "https://huggingface.co/course/chapter2/2?fw=tf#model-heads-making-sense-out-of-numbers"
   ]
  },
  {
   "cell_type": "code",
   "execution_count": 139,
   "id": "1c2b3c69-172c-4b77-a77d-e84888ef1f6c",
   "metadata": {},
   "outputs": [
    {
     "data": {
      "text/plain": [
       "{'text': 'i feel romantic too', 'label': 2, 'label_text': 'love'}"
      ]
     },
     "execution_count": 139,
     "metadata": {},
     "output_type": "execute_result"
    }
   ],
   "source": [
    "test_id = 9\n",
    "emotions[\"train\"][test_id]"
   ]
  },
  {
   "cell_type": "code",
   "execution_count": 140,
   "id": "e0ab5574-6bf8-455f-bcc9-6303d2c256e1",
   "metadata": {
    "scrolled": true,
    "tags": []
   },
   "outputs": [],
   "source": [
    "test_input_data = emotions_encoded[\"train\"][test_id]"
   ]
  },
  {
   "cell_type": "code",
   "execution_count": 141,
   "id": "246087e3-7862-4bf6-8e47-b80c65ddd37c",
   "metadata": {},
   "outputs": [
    {
     "data": {
      "text/plain": [
       "{'input_ids': <tf.Tensor: shape=(87,), dtype=int64, numpy=\n",
       " array([ 101, 1045, 2514, 6298, 2205,  102,    0,    0,    0,    0,    0,\n",
       "           0,    0,    0,    0,    0,    0,    0,    0,    0,    0,    0,\n",
       "           0,    0,    0,    0,    0,    0,    0,    0,    0,    0,    0,\n",
       "           0,    0,    0,    0,    0,    0,    0,    0,    0,    0,    0,\n",
       "           0,    0,    0,    0,    0,    0,    0,    0,    0,    0,    0,\n",
       "           0,    0,    0,    0,    0,    0,    0,    0,    0,    0,    0,\n",
       "           0,    0,    0,    0,    0,    0,    0,    0,    0,    0,    0,\n",
       "           0,    0,    0,    0,    0,    0,    0,    0,    0,    0])>,\n",
       " 'attention_mask': <tf.Tensor: shape=(87,), dtype=int64, numpy=\n",
       " array([1, 1, 1, 1, 1, 1, 0, 0, 0, 0, 0, 0, 0, 0, 0, 0, 0, 0, 0, 0, 0, 0,\n",
       "        0, 0, 0, 0, 0, 0, 0, 0, 0, 0, 0, 0, 0, 0, 0, 0, 0, 0, 0, 0, 0, 0,\n",
       "        0, 0, 0, 0, 0, 0, 0, 0, 0, 0, 0, 0, 0, 0, 0, 0, 0, 0, 0, 0, 0, 0,\n",
       "        0, 0, 0, 0, 0, 0, 0, 0, 0, 0, 0, 0, 0, 0, 0, 0, 0, 0, 0, 0, 0])>}"
      ]
     },
     "execution_count": 141,
     "metadata": {},
     "output_type": "execute_result"
    }
   ],
   "source": [
    "test_input_data"
   ]
  },
  {
   "cell_type": "code",
   "execution_count": 142,
   "id": "bf2e8e9f-e0e5-43a6-8503-7c183d21e1ba",
   "metadata": {},
   "outputs": [],
   "source": [
    "outputs = model(test_input_data)"
   ]
  },
  {
   "cell_type": "code",
   "execution_count": 143,
   "id": "69566895-35af-4a16-9cdd-bce0a3fb3426",
   "metadata": {},
   "outputs": [
    {
     "data": {
      "text/plain": [
       "{'text': 'i feel romantic too', 'label': 2, 'label_text': 'love'}"
      ]
     },
     "execution_count": 143,
     "metadata": {},
     "output_type": "execute_result"
    }
   ],
   "source": [
    "emotions[\"train\"][test_id]  # original input data before preprocessing"
   ]
  },
  {
   "cell_type": "code",
   "execution_count": 144,
   "id": "25681312-9746-4589-853a-b50846cafdcb",
   "metadata": {},
   "outputs": [
    {
     "data": {
      "text/plain": [
       "TensorShape([1, 6])"
      ]
     },
     "execution_count": 144,
     "metadata": {},
     "output_type": "execute_result"
    }
   ],
   "source": [
    "outputs.logits.shape"
   ]
  },
  {
   "cell_type": "code",
   "execution_count": 145,
   "id": "20ecd13f-cd25-4c06-8bf3-63baf2cb4aea",
   "metadata": {},
   "outputs": [
    {
     "data": {
      "text/plain": [
       "<tf.Tensor: shape=(1, 6), dtype=float32, numpy=\n",
       "array([[-1.460196 , -0.5406702,  5.794202 , -1.9637783, -1.5457897,\n",
       "        -1.2147366]], dtype=float32)>"
      ]
     },
     "execution_count": 145,
     "metadata": {},
     "output_type": "execute_result"
    }
   ],
   "source": [
    "outputs.logits"
   ]
  },
  {
   "cell_type": "code",
   "execution_count": 146,
   "id": "4aba5bf4-ecd2-4f65-9a91-72212a5cbc7e",
   "metadata": {},
   "outputs": [
    {
     "name": "stdout",
     "output_type": "stream",
     "text": [
      "tf.Tensor(\n",
      "[[7.0391811e-04 1.7654973e-03 9.9555922e-01 4.2542111e-04 6.4617366e-04\n",
      "  8.9975417e-04]], shape=(1, 6), dtype=float32)\n"
     ]
    }
   ],
   "source": [
    "predictions = tf.math.softmax(outputs.logits, axis=-1)\n",
    "print(predictions)"
   ]
  },
  {
   "cell_type": "code",
   "execution_count": 147,
   "id": "9a5b1e82-d844-4cec-b485-5a23eb18eaec",
   "metadata": {},
   "outputs": [
    {
     "data": {
      "text/plain": [
       "<tf.Tensor: shape=(1, 6), dtype=float32, numpy=\n",
       "array([[7.0391811e-04, 1.7654973e-03, 9.9555922e-01, 4.2542111e-04,\n",
       "        6.4617366e-04, 8.9975417e-04]], dtype=float32)>"
      ]
     },
     "execution_count": 147,
     "metadata": {},
     "output_type": "execute_result"
    }
   ],
   "source": [
    "predictions"
   ]
  },
  {
   "cell_type": "markdown",
   "id": "e5a446bb-009c-4f6f-b120-c8911316c8f7",
   "metadata": {},
   "source": [
    "# Convert and save model as tflite"
   ]
  },
  {
   "cell_type": "code",
   "execution_count": 5,
   "id": "efc10c18-10d3-4c15-a40d-012bba737070",
   "metadata": {},
   "outputs": [],
   "source": [
    "def convert(model, saved_model_path):\n",
    "    # Attempt conversion to tflite\n",
    "    # Set TensorSpec - dynamic shape though\n",
    "    input_spec = tf.TensorSpec([1, None], tf.int32)\n",
    "    \n",
    "    print(input_spec)\n",
    "\n",
    "    # Save to correct tensor dims\n",
    "    model._saved_model_inputs_spec = None\n",
    "    model._set_save_spec(input_spec)\n",
    "\n",
    "    # Convert\n",
    "    converter = tf.lite.TFLiteConverter.from_keras_model(model)\n",
    "    tflite_model = converter.convert()\n",
    "\n",
    "    # Save the model.\n",
    "    with open(saved_model_path, 'wb') as f:\n",
    "      f.write(tflite_model)\n",
    "    \n",
    "    print(f\"Saved to {saved_model_path}\")\n",
    "    \n",
    "    return tflite_model"
   ]
  },
  {
   "cell_type": "code",
   "execution_count": 6,
   "id": "b748f595-7b9f-4343-ad6c-7d1308dc2b71",
   "metadata": {},
   "outputs": [
    {
     "name": "stdout",
     "output_type": "stream",
     "text": [
      "TensorSpec(shape=(1, None), dtype=tf.int32, name=None)\n",
      "WARNING:tensorflow:Skipping full serialization of Keras layer <keras.layers.regularization.dropout.Dropout object at 0x7f549bf41d20>, because it is not built.\n",
      "WARNING:tensorflow:Skipping full serialization of Keras layer <keras.layers.regularization.dropout.Dropout object at 0x7f54984ca200>, because it is not built.\n",
      "WARNING:tensorflow:Skipping full serialization of Keras layer <keras.layers.regularization.dropout.Dropout object at 0x7f5498520640>, because it is not built.\n",
      "WARNING:tensorflow:Skipping full serialization of Keras layer <keras.layers.regularization.dropout.Dropout object at 0x7f5498522a40>, because it is not built.\n",
      "WARNING:tensorflow:Skipping full serialization of Keras layer <keras.layers.regularization.dropout.Dropout object at 0x7f5498530c40>, because it is not built.\n",
      "WARNING:tensorflow:Skipping full serialization of Keras layer <keras.layers.regularization.dropout.Dropout object at 0x7f5498533040>, because it is not built.\n"
     ]
    },
    {
     "name": "stderr",
     "output_type": "stream",
     "text": [
      "WARNING:absl:Found untraced functions such as embeddings_layer_call_fn, embeddings_layer_call_and_return_conditional_losses, transformer_layer_call_fn, transformer_layer_call_and_return_conditional_losses, LayerNorm_layer_call_fn while saving (showing 5 of 164). These functions will not be directly callable after loading.\n"
     ]
    },
    {
     "name": "stdout",
     "output_type": "stream",
     "text": [
      "INFO:tensorflow:Assets written to: /tmp/tmp82_hxel4/assets\n"
     ]
    },
    {
     "name": "stderr",
     "output_type": "stream",
     "text": [
      "INFO:tensorflow:Assets written to: /tmp/tmp82_hxel4/assets\n",
      "2023-01-04 16:43:38.263331: W tensorflow/compiler/mlir/lite/python/tf_tfl_flatbuffer_helpers.cc:362] Ignored output_format.\n",
      "2023-01-04 16:43:38.263362: W tensorflow/compiler/mlir/lite/python/tf_tfl_flatbuffer_helpers.cc:365] Ignored drop_control_dependency.\n",
      "2023-01-04 16:43:38.263851: I tensorflow/cc/saved_model/reader.cc:43] Reading SavedModel from: /tmp/tmp82_hxel4\n",
      "2023-01-04 16:43:38.280089: I tensorflow/cc/saved_model/reader.cc:81] Reading meta graph with tags { serve }\n",
      "2023-01-04 16:43:38.280107: I tensorflow/cc/saved_model/reader.cc:122] Reading SavedModel debug info (if present) from: /tmp/tmp82_hxel4\n",
      "2023-01-04 16:43:38.333620: I tensorflow/compiler/mlir/mlir_graph_optimization_pass.cc:354] MLIR V1 optimization pass is not enabled\n",
      "2023-01-04 16:43:38.352236: I tensorflow/cc/saved_model/loader.cc:228] Restoring SavedModel bundle.\n",
      "2023-01-04 16:43:38.662523: I tensorflow/cc/saved_model/loader.cc:212] Running initialization op on SavedModel bundle at path: /tmp/tmp82_hxel4\n",
      "2023-01-04 16:43:38.802934: I tensorflow/cc/saved_model/loader.cc:301] SavedModel load for tags { serve }; Status: success: OK. Took 539084 microseconds.\n",
      "2023-01-04 16:43:39.092268: I tensorflow/compiler/mlir/tensorflow/utils/dump_mlir_util.cc:263] disabling MLIR crash reproducer, set env var `MLIR_CRASH_REPRODUCER_DIRECTORY` to enable.\n"
     ]
    },
    {
     "name": "stdout",
     "output_type": "stream",
     "text": [
      "Saved to bhadresh-emotion-classifier-output\n"
     ]
    }
   ],
   "source": [
    "tflite_model = convert(model, SAVED_MODEL_NAME)"
   ]
  },
  {
   "cell_type": "code",
   "execution_count": null,
   "id": "6f4468f8-3b54-4af3-ba92-b41a86809866",
   "metadata": {},
   "outputs": [],
   "source": [
    "# saved_model = tf.saved_model.load(SAVED_MODEL_NAME)\n",
    "# print(saved_model.signatures)\n",
    "# print(saved_model.signatures)\n",
    "# saved_model.signatures[tf.saved_model.DEFAULT_SERVING_SIGNATURE_DEF_KEY].inputs[0]\n",
    "# concrete_func = model.signatures[tf.saved_model.DEFAULT_SERVING_SIGNATURE_DEF_KEY]\n",
    "# new_model = tf.keras.models.load_model(\"output\")\n",
    "# new_model.summary()\n",
    "# concrete_func = new_model.signatures[tf.saved_model.DEFAULT_SERVING_SIGNATURE_DEF_KEY]\n",
    "# tf.saved_model.save(new_model, \"output-new\", signatures={\"infer\": concrete_func})\n",
    "# converter = tf.lite.TFLiteConverter.from_saved_model(\"output-new\")\n",
    "\n",
    "\"\"\"\n",
    "converter.target_spec.supported_ops = [\n",
    "    tf.lite.OpsSet.TFLITE_BUILTINS,  # enable TensorFlow Lite ops.\n",
    "    tf.lite.OpsSet.SELECT_TF_OPS  # enable TensorFlow ops.\n",
    "]\n",
    "converter.experimental_enable_resource_variables = True\n",
    "tflite_model = converter.convert()\n",
    "\"\"\"\n"
   ]
  },
  {
   "cell_type": "markdown",
   "id": "66ba1a2a-8ff8-47ca-a459-b3e36a899046",
   "metadata": {},
   "source": [
    "# Test tflite model"
   ]
  },
  {
   "cell_type": "code",
   "execution_count": 7,
   "id": "fe7b87f9-c5d7-4e77-8847-eb8d60a354a0",
   "metadata": {},
   "outputs": [],
   "source": [
    "from pathlib import Path\n",
    "\n",
    "def run(interpreter, text): \n",
    "    token_ids = data_util.tokenize(text)\n",
    "    input_ids = np.array([token_ids], dtype=np.int32)\n",
    "    \n",
    "    # Get input and output tensors.\n",
    "    input_details = interpreter.get_input_details()\n",
    "    output_details = interpreter.get_output_details()\n",
    "    print(\"---INPUT DETAILS----\")\n",
    "    print(input_details)\n",
    "    print(\"---OUTPUT DETAILS----\")\n",
    "    print(output_details)\n",
    "     \n",
    "    # Resize input shape based on current input\n",
    "    interpreter.resize_tensor_input(input_details[0]['index'], input_ids.shape)\n",
    "    interpreter.allocate_tensors()\n",
    "    interpreter.set_tensor(input_details[0]['index'], input_ids)\n",
    "    interpreter.invoke()\n",
    "    output_data = interpreter.get_tensor(output_details[0]['index'])\n",
    "    \n",
    "    return output_data\n",
    "\n",
    "\n",
    "def load_interpreter(saved_model_path):\n",
    "    # Load the TFLite model and allocate tensors.\n",
    "    if Path(saved_model_path).exists():\n",
    "        print(\"Loading existing model\")\n",
    "        interpreter = tf.lite.Interpreter(model_path=saved_model_path)\n",
    "    else:\n",
    "        print(\"Converting model\")\n",
    "        interpreter = convert(model)\n",
    "    return interpreter"
   ]
  },
  {
   "cell_type": "code",
   "execution_count": 27,
   "id": "bec7b069-5111-4ec4-9076-9b1a4e9cb3d9",
   "metadata": {},
   "outputs": [
    {
     "name": "stdout",
     "output_type": "stream",
     "text": [
      "Loading existing model\n"
     ]
    }
   ],
   "source": [
    "interpreter = load_interpreter(SAVED_MODEL_NAME)"
   ]
  },
  {
   "cell_type": "code",
   "execution_count": 148,
   "id": "3f1a1fcf-f4ef-4fd5-b7fc-c91eb8c783a4",
   "metadata": {
    "scrolled": true,
    "tags": []
   },
   "outputs": [],
   "source": [
    "input_data = emotions_encoded[\"train\"][test_id]"
   ]
  },
  {
   "cell_type": "code",
   "execution_count": 149,
   "id": "04b32464-b847-4679-853e-b3a8893b61dc",
   "metadata": {
    "scrolled": true,
    "tags": []
   },
   "outputs": [
    {
     "name": "stdout",
     "output_type": "stream",
     "text": [
      "i feel romantic too\n"
     ]
    },
    {
     "data": {
      "text/plain": [
       "<tf.Tensor: shape=(87,), dtype=int64, numpy=\n",
       "array([ 101, 1045, 2514, 6298, 2205,  102,    0,    0,    0,    0,    0,\n",
       "          0,    0,    0,    0,    0,    0,    0,    0,    0,    0,    0,\n",
       "          0,    0,    0,    0,    0,    0,    0,    0,    0,    0,    0,\n",
       "          0,    0,    0,    0,    0,    0,    0,    0,    0,    0,    0,\n",
       "          0,    0,    0,    0,    0,    0,    0,    0,    0,    0,    0,\n",
       "          0,    0,    0,    0,    0,    0,    0,    0,    0,    0,    0,\n",
       "          0,    0,    0,    0,    0,    0,    0,    0,    0,    0,    0,\n",
       "          0,    0,    0,    0,    0,    0,    0,    0,    0,    0])>"
      ]
     },
     "execution_count": 149,
     "metadata": {},
     "output_type": "execute_result"
    }
   ],
   "source": [
    "# Expected\n",
    "text = emotions[\"train\"][test_id][\"text\"]\n",
    "print(text)\n",
    "input_data[\"input_ids\"]"
   ]
  },
  {
   "cell_type": "code",
   "execution_count": 150,
   "id": "5f7476be-6a57-41e0-9ae5-9c4d5c5ed4ff",
   "metadata": {
    "scrolled": true,
    "tags": []
   },
   "outputs": [
    {
     "name": "stdout",
     "output_type": "stream",
     "text": [
      "[101, 1045, 2514, 6298, 2205, 102, 0, 0, 0, 0, 0, 0, 0, 0, 0, 0, 0, 0, 0, 0, 0, 0, 0, 0, 0, 0, 0, 0, 0, 0, 0, 0, 0, 0, 0, 0, 0, 0, 0, 0, 0, 0, 0, 0, 0, 0, 0, 0, 0, 0, 0, 0, 0, 0, 0, 0, 0, 0, 0, 0, 0, 0, 0, 0, 0, 0, 0, 0, 0, 0, 0, 0, 0, 0, 0, 0, 0, 0, 0, 0, 0, 0, 0, 0, 0, 0, 0]\n"
     ]
    }
   ],
   "source": [
    "input_ids = data_util.tokenize(text)\n",
    "print(input_ids)\n",
    "\n",
    "for i, input_id in enumerate(input_ids):\n",
    "    if input_id is None:\n",
    "        print(i, input_id)"
   ]
  },
  {
   "cell_type": "code",
   "execution_count": 151,
   "id": "3a056ebf-a863-492e-83a7-641fa48eebe0",
   "metadata": {},
   "outputs": [
    {
     "name": "stdout",
     "output_type": "stream",
     "text": [
      "---INPUT DETAILS----\n",
      "[{'name': 'serving_default_args_0:0', 'index': 0, 'shape': array([ 1, 87], dtype=int32), 'shape_signature': array([-1, -1], dtype=int32), 'dtype': <class 'numpy.int32'>, 'quantization': (0.0, 0), 'quantization_parameters': {'scales': array([], dtype=float32), 'zero_points': array([], dtype=int32), 'quantized_dimension': 0}, 'sparsity_parameters': {}}]\n",
      "---OUTPUT DETAILS----\n",
      "[{'name': 'StatefulPartitionedCall:0', 'index': 720, 'shape': array([1, 6], dtype=int32), 'shape_signature': array([-1,  6], dtype=int32), 'dtype': <class 'numpy.float32'>, 'quantization': (0.0, 0), 'quantization_parameters': {'scales': array([], dtype=float32), 'zero_points': array([], dtype=int32), 'quantized_dimension': 0}, 'sparsity_parameters': {}}]\n"
     ]
    }
   ],
   "source": [
    "output_data = run(interpreter, text)"
   ]
  },
  {
   "cell_type": "code",
   "execution_count": 152,
   "id": "8c50acec-07b7-4bbe-87c1-326041efaa9b",
   "metadata": {},
   "outputs": [
    {
     "data": {
      "text/plain": [
       "array([[-1.4168833 , -0.69242686,  5.377131  , -1.7829715 , -1.1952535 ,\n",
       "        -1.18323   ]], dtype=float32)"
      ]
     },
     "execution_count": 152,
     "metadata": {},
     "output_type": "execute_result"
    }
   ],
   "source": [
    "output_data"
   ]
  },
  {
   "cell_type": "code",
   "execution_count": 153,
   "id": "4492c3d7-e2d7-4d89-813c-d85ae93de062",
   "metadata": {},
   "outputs": [
    {
     "data": {
      "text/plain": [
       "<tf.Tensor: shape=(1, 6), dtype=float32, numpy=\n",
       "array([[-1.460196 , -0.5406702,  5.794202 , -1.9637783, -1.5457897,\n",
       "        -1.2147366]], dtype=float32)>"
      ]
     },
     "execution_count": 153,
     "metadata": {},
     "output_type": "execute_result"
    }
   ],
   "source": [
    "outputs.logits"
   ]
  },
  {
   "cell_type": "code",
   "execution_count": 154,
   "id": "92b3d817-6255-4e7c-92a3-e789fe776222",
   "metadata": {},
   "outputs": [],
   "source": [
    "predictions = tf.math.softmax(output_data, axis=-1)"
   ]
  },
  {
   "cell_type": "code",
   "execution_count": 155,
   "id": "750d6964-d639-42a8-bc9f-89e5cf8b4a97",
   "metadata": {},
   "outputs": [
    {
     "data": {
      "text/plain": [
       "<tf.Tensor: shape=(1, 6), dtype=float32, numpy=\n",
       "array([[1.1126471e-03, 2.2960694e-03, 9.9302554e-01, 7.7155605e-04,\n",
       "        1.3887055e-03, 1.4055034e-03]], dtype=float32)>"
      ]
     },
     "execution_count": 155,
     "metadata": {},
     "output_type": "execute_result"
    }
   ],
   "source": [
    "predictions"
   ]
  },
  {
   "cell_type": "code",
   "execution_count": 156,
   "id": "f6b74450-cb78-4d97-8e2a-09f986be7ecc",
   "metadata": {},
   "outputs": [
    {
     "data": {
      "text/plain": [
       "<tf.Tensor: shape=(6,), dtype=float32, numpy=\n",
       "array([1.1126471e-03, 2.2960694e-03, 9.9302554e-01, 7.7155605e-04,\n",
       "       1.3887055e-03, 1.4055034e-03], dtype=float32)>"
      ]
     },
     "execution_count": 156,
     "metadata": {},
     "output_type": "execute_result"
    }
   ],
   "source": [
    "predictions[0]"
   ]
  },
  {
   "cell_type": "code",
   "execution_count": 179,
   "id": "570a9c06-bbaf-45b6-b3df-440f65734d16",
   "metadata": {},
   "outputs": [
    {
     "data": {
      "text/plain": [
       "<tf.Tensor: shape=(6,), dtype=float32, numpy=array([0., 0., 1., 0., 0., 0.], dtype=float32)>"
      ]
     },
     "execution_count": 179,
     "metadata": {},
     "output_type": "execute_result"
    }
   ],
   "source": [
    "predictions_rounded = tf.math.round(predictions[0])\n",
    "predictions_rounded"
   ]
  },
  {
   "cell_type": "code",
   "execution_count": 190,
   "id": "e2287390-bc6c-41e6-9620-6b581214db4f",
   "metadata": {},
   "outputs": [],
   "source": [
    "max_idx = tf.keras.backend.eval(tf.argmax(predictions_rounded, axis=0))"
   ]
  },
  {
   "cell_type": "code",
   "execution_count": 191,
   "id": "c02b27d5-67ea-44f0-81bf-a99ed05522d8",
   "metadata": {},
   "outputs": [
    {
     "data": {
      "text/plain": [
       "'love'"
      ]
     },
     "execution_count": 191,
     "metadata": {},
     "output_type": "execute_result"
    }
   ],
   "source": [
    "model.config.id2label[max_idx]"
   ]
  },
  {
   "cell_type": "code",
   "execution_count": 162,
   "id": "a26a2373-152e-4bfd-9973-70a765d5999b",
   "metadata": {},
   "outputs": [
    {
     "name": "stdout",
     "output_type": "stream",
     "text": [
      "{'text': 'i feel romantic too', 'label': 2, 'label_text': 'love'}\n"
     ]
    }
   ],
   "source": [
    "print(emotions[\"train\"][test_id])"
   ]
  },
  {
   "cell_type": "markdown",
   "id": "eda2cb81-fb63-4b98-9a05-c475524c75a7",
   "metadata": {},
   "source": [
    "# Export additional files"
   ]
  },
  {
   "cell_type": "code",
   "execution_count": 194,
   "id": "58eae40b-fd97-4b7f-bd6b-b770b8680d88",
   "metadata": {
    "scrolled": true,
    "tags": []
   },
   "outputs": [],
   "source": [
    "lines = [f\"{token} {token_id}\" for token, token_id in data_util.token2id.items()] "
   ]
  },
  {
   "cell_type": "code",
   "execution_count": 195,
   "id": "a1191a0a-42c6-41d3-af3f-e7d2e544db6e",
   "metadata": {
    "scrolled": true,
    "tags": []
   },
   "outputs": [
    {
     "data": {
      "text/plain": [
       "['[PAD] 0',\n",
       " '[unused0] 1',\n",
       " '[unused1] 2',\n",
       " '[unused2] 3',\n",
       " '[unused3] 4',\n",
       " '[unused4] 5',\n",
       " '[unused5] 6',\n",
       " '[unused6] 7',\n",
       " '[unused7] 8',\n",
       " '[unused8] 9',\n",
       " '[unused9] 10',\n",
       " '[unused10] 11',\n",
       " '[unused11] 12',\n",
       " '[unused12] 13',\n",
       " '[unused13] 14',\n",
       " '[unused14] 15',\n",
       " '[unused15] 16',\n",
       " '[unused16] 17',\n",
       " '[unused17] 18',\n",
       " '[unused18] 19',\n",
       " '[unused19] 20',\n",
       " '[unused20] 21',\n",
       " '[unused21] 22',\n",
       " '[unused22] 23',\n",
       " '[unused23] 24',\n",
       " '[unused24] 25',\n",
       " '[unused25] 26',\n",
       " '[unused26] 27',\n",
       " '[unused27] 28',\n",
       " '[unused28] 29',\n",
       " '[unused29] 30',\n",
       " '[unused30] 31',\n",
       " '[unused31] 32',\n",
       " '[unused32] 33',\n",
       " '[unused33] 34',\n",
       " '[unused34] 35',\n",
       " '[unused35] 36',\n",
       " '[unused36] 37',\n",
       " '[unused37] 38',\n",
       " '[unused38] 39',\n",
       " '[unused39] 40',\n",
       " '[unused40] 41',\n",
       " '[unused41] 42',\n",
       " '[unused42] 43',\n",
       " '[unused43] 44',\n",
       " '[unused44] 45',\n",
       " '[unused45] 46',\n",
       " '[unused46] 47',\n",
       " '[unused47] 48',\n",
       " '[unused48] 49',\n",
       " '[unused49] 50',\n",
       " '[unused50] 51',\n",
       " '[unused51] 52',\n",
       " '[unused52] 53',\n",
       " '[unused53] 54',\n",
       " '[unused54] 55',\n",
       " '[unused55] 56',\n",
       " '[unused56] 57',\n",
       " '[unused57] 58',\n",
       " '[unused58] 59',\n",
       " '[unused59] 60',\n",
       " '[unused60] 61',\n",
       " '[unused61] 62',\n",
       " '[unused62] 63',\n",
       " '[unused63] 64',\n",
       " '[unused64] 65',\n",
       " '[unused65] 66',\n",
       " '[unused66] 67',\n",
       " '[unused67] 68',\n",
       " '[unused68] 69',\n",
       " '[unused69] 70',\n",
       " '[unused70] 71',\n",
       " '[unused71] 72',\n",
       " '[unused72] 73',\n",
       " '[unused73] 74',\n",
       " '[unused74] 75',\n",
       " '[unused75] 76',\n",
       " '[unused76] 77',\n",
       " '[unused77] 78',\n",
       " '[unused78] 79',\n",
       " '[unused79] 80',\n",
       " '[unused80] 81',\n",
       " '[unused81] 82',\n",
       " '[unused82] 83',\n",
       " '[unused83] 84',\n",
       " '[unused84] 85',\n",
       " '[unused85] 86',\n",
       " '[unused86] 87',\n",
       " '[unused87] 88',\n",
       " '[unused88] 89',\n",
       " '[unused89] 90',\n",
       " '[unused90] 91',\n",
       " '[unused91] 92',\n",
       " '[unused92] 93',\n",
       " '[unused93] 94',\n",
       " '[unused94] 95',\n",
       " '[unused95] 96',\n",
       " '[unused96] 97',\n",
       " '[unused97] 98',\n",
       " '[unused98] 99',\n",
       " '[UNK] 100',\n",
       " '[CLS] 101',\n",
       " '[SEP] 102',\n",
       " '[MASK] 103',\n",
       " '[unused99] 104',\n",
       " '[unused100] 105',\n",
       " '[unused101] 106',\n",
       " '[unused102] 107',\n",
       " '[unused103] 108',\n",
       " '[unused104] 109',\n",
       " '[unused105] 110',\n",
       " '[unused106] 111',\n",
       " '[unused107] 112',\n",
       " '[unused108] 113',\n",
       " '[unused109] 114',\n",
       " '[unused110] 115',\n",
       " '[unused111] 116',\n",
       " '[unused112] 117',\n",
       " '[unused113] 118',\n",
       " '[unused114] 119',\n",
       " '[unused115] 120',\n",
       " '[unused116] 121',\n",
       " '[unused117] 122',\n",
       " '[unused118] 123',\n",
       " '[unused119] 124',\n",
       " '[unused120] 125',\n",
       " '[unused121] 126',\n",
       " '[unused122] 127',\n",
       " '[unused123] 128',\n",
       " '[unused124] 129',\n",
       " '[unused125] 130',\n",
       " '[unused126] 131',\n",
       " '[unused127] 132',\n",
       " '[unused128] 133',\n",
       " '[unused129] 134',\n",
       " '[unused130] 135',\n",
       " '[unused131] 136',\n",
       " '[unused132] 137',\n",
       " '[unused133] 138',\n",
       " '[unused134] 139',\n",
       " '[unused135] 140',\n",
       " '[unused136] 141',\n",
       " '[unused137] 142',\n",
       " '[unused138] 143',\n",
       " '[unused139] 144',\n",
       " '[unused140] 145',\n",
       " '[unused141] 146',\n",
       " '[unused142] 147',\n",
       " '[unused143] 148',\n",
       " '[unused144] 149',\n",
       " '[unused145] 150',\n",
       " '[unused146] 151',\n",
       " '[unused147] 152',\n",
       " '[unused148] 153',\n",
       " '[unused149] 154',\n",
       " '[unused150] 155',\n",
       " '[unused151] 156',\n",
       " '[unused152] 157',\n",
       " '[unused153] 158',\n",
       " '[unused154] 159',\n",
       " '[unused155] 160',\n",
       " '[unused156] 161',\n",
       " '[unused157] 162',\n",
       " '[unused158] 163',\n",
       " '[unused159] 164',\n",
       " '[unused160] 165',\n",
       " '[unused161] 166',\n",
       " '[unused162] 167',\n",
       " '[unused163] 168',\n",
       " '[unused164] 169',\n",
       " '[unused165] 170',\n",
       " '[unused166] 171',\n",
       " '[unused167] 172',\n",
       " '[unused168] 173',\n",
       " '[unused169] 174',\n",
       " '[unused170] 175',\n",
       " '[unused171] 176',\n",
       " '[unused172] 177',\n",
       " '[unused173] 178',\n",
       " '[unused174] 179',\n",
       " '[unused175] 180',\n",
       " '[unused176] 181',\n",
       " '[unused177] 182',\n",
       " '[unused178] 183',\n",
       " '[unused179] 184',\n",
       " '[unused180] 185',\n",
       " '[unused181] 186',\n",
       " '[unused182] 187',\n",
       " '[unused183] 188',\n",
       " '[unused184] 189',\n",
       " '[unused185] 190',\n",
       " '[unused186] 191',\n",
       " '[unused187] 192',\n",
       " '[unused188] 193',\n",
       " '[unused189] 194',\n",
       " '[unused190] 195',\n",
       " '[unused191] 196',\n",
       " '[unused192] 197',\n",
       " '[unused193] 198',\n",
       " '[unused194] 199',\n",
       " '[unused195] 200',\n",
       " '[unused196] 201',\n",
       " '[unused197] 202',\n",
       " '[unused198] 203',\n",
       " '[unused199] 204',\n",
       " '[unused200] 205',\n",
       " '[unused201] 206',\n",
       " '[unused202] 207',\n",
       " '[unused203] 208',\n",
       " '[unused204] 209',\n",
       " '[unused205] 210',\n",
       " '[unused206] 211',\n",
       " '[unused207] 212',\n",
       " '[unused208] 213',\n",
       " '[unused209] 214',\n",
       " '[unused210] 215',\n",
       " '[unused211] 216',\n",
       " '[unused212] 217',\n",
       " '[unused213] 218',\n",
       " '[unused214] 219',\n",
       " '[unused215] 220',\n",
       " '[unused216] 221',\n",
       " '[unused217] 222',\n",
       " '[unused218] 223',\n",
       " '[unused219] 224',\n",
       " '[unused220] 225',\n",
       " '[unused221] 226',\n",
       " '[unused222] 227',\n",
       " '[unused223] 228',\n",
       " '[unused224] 229',\n",
       " '[unused225] 230',\n",
       " '[unused226] 231',\n",
       " '[unused227] 232',\n",
       " '[unused228] 233',\n",
       " '[unused229] 234',\n",
       " '[unused230] 235',\n",
       " '[unused231] 236',\n",
       " '[unused232] 237',\n",
       " '[unused233] 238',\n",
       " '[unused234] 239',\n",
       " '[unused235] 240',\n",
       " '[unused236] 241',\n",
       " '[unused237] 242',\n",
       " '[unused238] 243',\n",
       " '[unused239] 244',\n",
       " '[unused240] 245',\n",
       " '[unused241] 246',\n",
       " '[unused242] 247',\n",
       " '[unused243] 248',\n",
       " '[unused244] 249',\n",
       " '[unused245] 250',\n",
       " '[unused246] 251',\n",
       " '[unused247] 252',\n",
       " '[unused248] 253',\n",
       " '[unused249] 254',\n",
       " '[unused250] 255',\n",
       " '[unused251] 256',\n",
       " '[unused252] 257',\n",
       " '[unused253] 258',\n",
       " '[unused254] 259',\n",
       " '[unused255] 260',\n",
       " '[unused256] 261',\n",
       " '[unused257] 262',\n",
       " '[unused258] 263',\n",
       " '[unused259] 264',\n",
       " '[unused260] 265',\n",
       " '[unused261] 266',\n",
       " '[unused262] 267',\n",
       " '[unused263] 268',\n",
       " '[unused264] 269',\n",
       " '[unused265] 270',\n",
       " '[unused266] 271',\n",
       " '[unused267] 272',\n",
       " '[unused268] 273',\n",
       " '[unused269] 274',\n",
       " '[unused270] 275',\n",
       " '[unused271] 276',\n",
       " '[unused272] 277',\n",
       " '[unused273] 278',\n",
       " '[unused274] 279',\n",
       " '[unused275] 280',\n",
       " '[unused276] 281',\n",
       " '[unused277] 282',\n",
       " '[unused278] 283',\n",
       " '[unused279] 284',\n",
       " '[unused280] 285',\n",
       " '[unused281] 286',\n",
       " '[unused282] 287',\n",
       " '[unused283] 288',\n",
       " '[unused284] 289',\n",
       " '[unused285] 290',\n",
       " '[unused286] 291',\n",
       " '[unused287] 292',\n",
       " '[unused288] 293',\n",
       " '[unused289] 294',\n",
       " '[unused290] 295',\n",
       " '[unused291] 296',\n",
       " '[unused292] 297',\n",
       " '[unused293] 298',\n",
       " '[unused294] 299',\n",
       " '[unused295] 300',\n",
       " '[unused296] 301',\n",
       " '[unused297] 302',\n",
       " '[unused298] 303',\n",
       " '[unused299] 304',\n",
       " '[unused300] 305',\n",
       " '[unused301] 306',\n",
       " '[unused302] 307',\n",
       " '[unused303] 308',\n",
       " '[unused304] 309',\n",
       " '[unused305] 310',\n",
       " '[unused306] 311',\n",
       " '[unused307] 312',\n",
       " '[unused308] 313',\n",
       " '[unused309] 314',\n",
       " '[unused310] 315',\n",
       " '[unused311] 316',\n",
       " '[unused312] 317',\n",
       " '[unused313] 318',\n",
       " '[unused314] 319',\n",
       " '[unused315] 320',\n",
       " '[unused316] 321',\n",
       " '[unused317] 322',\n",
       " '[unused318] 323',\n",
       " '[unused319] 324',\n",
       " '[unused320] 325',\n",
       " '[unused321] 326',\n",
       " '[unused322] 327',\n",
       " '[unused323] 328',\n",
       " '[unused324] 329',\n",
       " '[unused325] 330',\n",
       " '[unused326] 331',\n",
       " '[unused327] 332',\n",
       " '[unused328] 333',\n",
       " '[unused329] 334',\n",
       " '[unused330] 335',\n",
       " '[unused331] 336',\n",
       " '[unused332] 337',\n",
       " '[unused333] 338',\n",
       " '[unused334] 339',\n",
       " '[unused335] 340',\n",
       " '[unused336] 341',\n",
       " '[unused337] 342',\n",
       " '[unused338] 343',\n",
       " '[unused339] 344',\n",
       " '[unused340] 345',\n",
       " '[unused341] 346',\n",
       " '[unused342] 347',\n",
       " '[unused343] 348',\n",
       " '[unused344] 349',\n",
       " '[unused345] 350',\n",
       " '[unused346] 351',\n",
       " '[unused347] 352',\n",
       " '[unused348] 353',\n",
       " '[unused349] 354',\n",
       " '[unused350] 355',\n",
       " '[unused351] 356',\n",
       " '[unused352] 357',\n",
       " '[unused353] 358',\n",
       " '[unused354] 359',\n",
       " '[unused355] 360',\n",
       " '[unused356] 361',\n",
       " '[unused357] 362',\n",
       " '[unused358] 363',\n",
       " '[unused359] 364',\n",
       " '[unused360] 365',\n",
       " '[unused361] 366',\n",
       " '[unused362] 367',\n",
       " '[unused363] 368',\n",
       " '[unused364] 369',\n",
       " '[unused365] 370',\n",
       " '[unused366] 371',\n",
       " '[unused367] 372',\n",
       " '[unused368] 373',\n",
       " '[unused369] 374',\n",
       " '[unused370] 375',\n",
       " '[unused371] 376',\n",
       " '[unused372] 377',\n",
       " '[unused373] 378',\n",
       " '[unused374] 379',\n",
       " '[unused375] 380',\n",
       " '[unused376] 381',\n",
       " '[unused377] 382',\n",
       " '[unused378] 383',\n",
       " '[unused379] 384',\n",
       " '[unused380] 385',\n",
       " '[unused381] 386',\n",
       " '[unused382] 387',\n",
       " '[unused383] 388',\n",
       " '[unused384] 389',\n",
       " '[unused385] 390',\n",
       " '[unused386] 391',\n",
       " '[unused387] 392',\n",
       " '[unused388] 393',\n",
       " '[unused389] 394',\n",
       " '[unused390] 395',\n",
       " '[unused391] 396',\n",
       " '[unused392] 397',\n",
       " '[unused393] 398',\n",
       " '[unused394] 399',\n",
       " '[unused395] 400',\n",
       " '[unused396] 401',\n",
       " '[unused397] 402',\n",
       " '[unused398] 403',\n",
       " '[unused399] 404',\n",
       " '[unused400] 405',\n",
       " '[unused401] 406',\n",
       " '[unused402] 407',\n",
       " '[unused403] 408',\n",
       " '[unused404] 409',\n",
       " '[unused405] 410',\n",
       " '[unused406] 411',\n",
       " '[unused407] 412',\n",
       " '[unused408] 413',\n",
       " '[unused409] 414',\n",
       " '[unused410] 415',\n",
       " '[unused411] 416',\n",
       " '[unused412] 417',\n",
       " '[unused413] 418',\n",
       " '[unused414] 419',\n",
       " '[unused415] 420',\n",
       " '[unused416] 421',\n",
       " '[unused417] 422',\n",
       " '[unused418] 423',\n",
       " '[unused419] 424',\n",
       " '[unused420] 425',\n",
       " '[unused421] 426',\n",
       " '[unused422] 427',\n",
       " '[unused423] 428',\n",
       " '[unused424] 429',\n",
       " '[unused425] 430',\n",
       " '[unused426] 431',\n",
       " '[unused427] 432',\n",
       " '[unused428] 433',\n",
       " '[unused429] 434',\n",
       " '[unused430] 435',\n",
       " '[unused431] 436',\n",
       " '[unused432] 437',\n",
       " '[unused433] 438',\n",
       " '[unused434] 439',\n",
       " '[unused435] 440',\n",
       " '[unused436] 441',\n",
       " '[unused437] 442',\n",
       " '[unused438] 443',\n",
       " '[unused439] 444',\n",
       " '[unused440] 445',\n",
       " '[unused441] 446',\n",
       " '[unused442] 447',\n",
       " '[unused443] 448',\n",
       " '[unused444] 449',\n",
       " '[unused445] 450',\n",
       " '[unused446] 451',\n",
       " '[unused447] 452',\n",
       " '[unused448] 453',\n",
       " '[unused449] 454',\n",
       " '[unused450] 455',\n",
       " '[unused451] 456',\n",
       " '[unused452] 457',\n",
       " '[unused453] 458',\n",
       " '[unused454] 459',\n",
       " '[unused455] 460',\n",
       " '[unused456] 461',\n",
       " '[unused457] 462',\n",
       " '[unused458] 463',\n",
       " '[unused459] 464',\n",
       " '[unused460] 465',\n",
       " '[unused461] 466',\n",
       " '[unused462] 467',\n",
       " '[unused463] 468',\n",
       " '[unused464] 469',\n",
       " '[unused465] 470',\n",
       " '[unused466] 471',\n",
       " '[unused467] 472',\n",
       " '[unused468] 473',\n",
       " '[unused469] 474',\n",
       " '[unused470] 475',\n",
       " '[unused471] 476',\n",
       " '[unused472] 477',\n",
       " '[unused473] 478',\n",
       " '[unused474] 479',\n",
       " '[unused475] 480',\n",
       " '[unused476] 481',\n",
       " '[unused477] 482',\n",
       " '[unused478] 483',\n",
       " '[unused479] 484',\n",
       " '[unused480] 485',\n",
       " '[unused481] 486',\n",
       " '[unused482] 487',\n",
       " '[unused483] 488',\n",
       " '[unused484] 489',\n",
       " '[unused485] 490',\n",
       " '[unused486] 491',\n",
       " '[unused487] 492',\n",
       " '[unused488] 493',\n",
       " '[unused489] 494',\n",
       " '[unused490] 495',\n",
       " '[unused491] 496',\n",
       " '[unused492] 497',\n",
       " '[unused493] 498',\n",
       " '[unused494] 499',\n",
       " '[unused495] 500',\n",
       " '[unused496] 501',\n",
       " '[unused497] 502',\n",
       " '[unused498] 503',\n",
       " '[unused499] 504',\n",
       " '[unused500] 505',\n",
       " '[unused501] 506',\n",
       " '[unused502] 507',\n",
       " '[unused503] 508',\n",
       " '[unused504] 509',\n",
       " '[unused505] 510',\n",
       " '[unused506] 511',\n",
       " '[unused507] 512',\n",
       " '[unused508] 513',\n",
       " '[unused509] 514',\n",
       " '[unused510] 515',\n",
       " '[unused511] 516',\n",
       " '[unused512] 517',\n",
       " '[unused513] 518',\n",
       " '[unused514] 519',\n",
       " '[unused515] 520',\n",
       " '[unused516] 521',\n",
       " '[unused517] 522',\n",
       " '[unused518] 523',\n",
       " '[unused519] 524',\n",
       " '[unused520] 525',\n",
       " '[unused521] 526',\n",
       " '[unused522] 527',\n",
       " '[unused523] 528',\n",
       " '[unused524] 529',\n",
       " '[unused525] 530',\n",
       " '[unused526] 531',\n",
       " '[unused527] 532',\n",
       " '[unused528] 533',\n",
       " '[unused529] 534',\n",
       " '[unused530] 535',\n",
       " '[unused531] 536',\n",
       " '[unused532] 537',\n",
       " '[unused533] 538',\n",
       " '[unused534] 539',\n",
       " '[unused535] 540',\n",
       " '[unused536] 541',\n",
       " '[unused537] 542',\n",
       " '[unused538] 543',\n",
       " '[unused539] 544',\n",
       " '[unused540] 545',\n",
       " '[unused541] 546',\n",
       " '[unused542] 547',\n",
       " '[unused543] 548',\n",
       " '[unused544] 549',\n",
       " '[unused545] 550',\n",
       " '[unused546] 551',\n",
       " '[unused547] 552',\n",
       " '[unused548] 553',\n",
       " '[unused549] 554',\n",
       " '[unused550] 555',\n",
       " '[unused551] 556',\n",
       " '[unused552] 557',\n",
       " '[unused553] 558',\n",
       " '[unused554] 559',\n",
       " '[unused555] 560',\n",
       " '[unused556] 561',\n",
       " '[unused557] 562',\n",
       " '[unused558] 563',\n",
       " '[unused559] 564',\n",
       " '[unused560] 565',\n",
       " '[unused561] 566',\n",
       " '[unused562] 567',\n",
       " '[unused563] 568',\n",
       " '[unused564] 569',\n",
       " '[unused565] 570',\n",
       " '[unused566] 571',\n",
       " '[unused567] 572',\n",
       " '[unused568] 573',\n",
       " '[unused569] 574',\n",
       " '[unused570] 575',\n",
       " '[unused571] 576',\n",
       " '[unused572] 577',\n",
       " '[unused573] 578',\n",
       " '[unused574] 579',\n",
       " '[unused575] 580',\n",
       " '[unused576] 581',\n",
       " '[unused577] 582',\n",
       " '[unused578] 583',\n",
       " '[unused579] 584',\n",
       " '[unused580] 585',\n",
       " '[unused581] 586',\n",
       " '[unused582] 587',\n",
       " '[unused583] 588',\n",
       " '[unused584] 589',\n",
       " '[unused585] 590',\n",
       " '[unused586] 591',\n",
       " '[unused587] 592',\n",
       " '[unused588] 593',\n",
       " '[unused589] 594',\n",
       " '[unused590] 595',\n",
       " '[unused591] 596',\n",
       " '[unused592] 597',\n",
       " '[unused593] 598',\n",
       " '[unused594] 599',\n",
       " '[unused595] 600',\n",
       " '[unused596] 601',\n",
       " '[unused597] 602',\n",
       " '[unused598] 603',\n",
       " '[unused599] 604',\n",
       " '[unused600] 605',\n",
       " '[unused601] 606',\n",
       " '[unused602] 607',\n",
       " '[unused603] 608',\n",
       " '[unused604] 609',\n",
       " '[unused605] 610',\n",
       " '[unused606] 611',\n",
       " '[unused607] 612',\n",
       " '[unused608] 613',\n",
       " '[unused609] 614',\n",
       " '[unused610] 615',\n",
       " '[unused611] 616',\n",
       " '[unused612] 617',\n",
       " '[unused613] 618',\n",
       " '[unused614] 619',\n",
       " '[unused615] 620',\n",
       " '[unused616] 621',\n",
       " '[unused617] 622',\n",
       " '[unused618] 623',\n",
       " '[unused619] 624',\n",
       " '[unused620] 625',\n",
       " '[unused621] 626',\n",
       " '[unused622] 627',\n",
       " '[unused623] 628',\n",
       " '[unused624] 629',\n",
       " '[unused625] 630',\n",
       " '[unused626] 631',\n",
       " '[unused627] 632',\n",
       " '[unused628] 633',\n",
       " '[unused629] 634',\n",
       " '[unused630] 635',\n",
       " '[unused631] 636',\n",
       " '[unused632] 637',\n",
       " '[unused633] 638',\n",
       " '[unused634] 639',\n",
       " '[unused635] 640',\n",
       " '[unused636] 641',\n",
       " '[unused637] 642',\n",
       " '[unused638] 643',\n",
       " '[unused639] 644',\n",
       " '[unused640] 645',\n",
       " '[unused641] 646',\n",
       " '[unused642] 647',\n",
       " '[unused643] 648',\n",
       " '[unused644] 649',\n",
       " '[unused645] 650',\n",
       " '[unused646] 651',\n",
       " '[unused647] 652',\n",
       " '[unused648] 653',\n",
       " '[unused649] 654',\n",
       " '[unused650] 655',\n",
       " '[unused651] 656',\n",
       " '[unused652] 657',\n",
       " '[unused653] 658',\n",
       " '[unused654] 659',\n",
       " '[unused655] 660',\n",
       " '[unused656] 661',\n",
       " '[unused657] 662',\n",
       " '[unused658] 663',\n",
       " '[unused659] 664',\n",
       " '[unused660] 665',\n",
       " '[unused661] 666',\n",
       " '[unused662] 667',\n",
       " '[unused663] 668',\n",
       " '[unused664] 669',\n",
       " '[unused665] 670',\n",
       " '[unused666] 671',\n",
       " '[unused667] 672',\n",
       " '[unused668] 673',\n",
       " '[unused669] 674',\n",
       " '[unused670] 675',\n",
       " '[unused671] 676',\n",
       " '[unused672] 677',\n",
       " '[unused673] 678',\n",
       " '[unused674] 679',\n",
       " '[unused675] 680',\n",
       " '[unused676] 681',\n",
       " '[unused677] 682',\n",
       " '[unused678] 683',\n",
       " '[unused679] 684',\n",
       " '[unused680] 685',\n",
       " '[unused681] 686',\n",
       " '[unused682] 687',\n",
       " '[unused683] 688',\n",
       " '[unused684] 689',\n",
       " '[unused685] 690',\n",
       " '[unused686] 691',\n",
       " '[unused687] 692',\n",
       " '[unused688] 693',\n",
       " '[unused689] 694',\n",
       " '[unused690] 695',\n",
       " '[unused691] 696',\n",
       " '[unused692] 697',\n",
       " '[unused693] 698',\n",
       " '[unused694] 699',\n",
       " '[unused695] 700',\n",
       " '[unused696] 701',\n",
       " '[unused697] 702',\n",
       " '[unused698] 703',\n",
       " '[unused699] 704',\n",
       " '[unused700] 705',\n",
       " '[unused701] 706',\n",
       " '[unused702] 707',\n",
       " '[unused703] 708',\n",
       " '[unused704] 709',\n",
       " '[unused705] 710',\n",
       " '[unused706] 711',\n",
       " '[unused707] 712',\n",
       " '[unused708] 713',\n",
       " '[unused709] 714',\n",
       " '[unused710] 715',\n",
       " '[unused711] 716',\n",
       " '[unused712] 717',\n",
       " '[unused713] 718',\n",
       " '[unused714] 719',\n",
       " '[unused715] 720',\n",
       " '[unused716] 721',\n",
       " '[unused717] 722',\n",
       " '[unused718] 723',\n",
       " '[unused719] 724',\n",
       " '[unused720] 725',\n",
       " '[unused721] 726',\n",
       " '[unused722] 727',\n",
       " '[unused723] 728',\n",
       " '[unused724] 729',\n",
       " '[unused725] 730',\n",
       " '[unused726] 731',\n",
       " '[unused727] 732',\n",
       " '[unused728] 733',\n",
       " '[unused729] 734',\n",
       " '[unused730] 735',\n",
       " '[unused731] 736',\n",
       " '[unused732] 737',\n",
       " '[unused733] 738',\n",
       " '[unused734] 739',\n",
       " '[unused735] 740',\n",
       " '[unused736] 741',\n",
       " '[unused737] 742',\n",
       " '[unused738] 743',\n",
       " '[unused739] 744',\n",
       " '[unused740] 745',\n",
       " '[unused741] 746',\n",
       " '[unused742] 747',\n",
       " '[unused743] 748',\n",
       " '[unused744] 749',\n",
       " '[unused745] 750',\n",
       " '[unused746] 751',\n",
       " '[unused747] 752',\n",
       " '[unused748] 753',\n",
       " '[unused749] 754',\n",
       " '[unused750] 755',\n",
       " '[unused751] 756',\n",
       " '[unused752] 757',\n",
       " '[unused753] 758',\n",
       " '[unused754] 759',\n",
       " '[unused755] 760',\n",
       " '[unused756] 761',\n",
       " '[unused757] 762',\n",
       " '[unused758] 763',\n",
       " '[unused759] 764',\n",
       " '[unused760] 765',\n",
       " '[unused761] 766',\n",
       " '[unused762] 767',\n",
       " '[unused763] 768',\n",
       " '[unused764] 769',\n",
       " '[unused765] 770',\n",
       " '[unused766] 771',\n",
       " '[unused767] 772',\n",
       " '[unused768] 773',\n",
       " '[unused769] 774',\n",
       " '[unused770] 775',\n",
       " '[unused771] 776',\n",
       " '[unused772] 777',\n",
       " '[unused773] 778',\n",
       " '[unused774] 779',\n",
       " '[unused775] 780',\n",
       " '[unused776] 781',\n",
       " '[unused777] 782',\n",
       " '[unused778] 783',\n",
       " '[unused779] 784',\n",
       " '[unused780] 785',\n",
       " '[unused781] 786',\n",
       " '[unused782] 787',\n",
       " '[unused783] 788',\n",
       " '[unused784] 789',\n",
       " '[unused785] 790',\n",
       " '[unused786] 791',\n",
       " '[unused787] 792',\n",
       " '[unused788] 793',\n",
       " '[unused789] 794',\n",
       " '[unused790] 795',\n",
       " '[unused791] 796',\n",
       " '[unused792] 797',\n",
       " '[unused793] 798',\n",
       " '[unused794] 799',\n",
       " '[unused795] 800',\n",
       " '[unused796] 801',\n",
       " '[unused797] 802',\n",
       " '[unused798] 803',\n",
       " '[unused799] 804',\n",
       " '[unused800] 805',\n",
       " '[unused801] 806',\n",
       " '[unused802] 807',\n",
       " '[unused803] 808',\n",
       " '[unused804] 809',\n",
       " '[unused805] 810',\n",
       " '[unused806] 811',\n",
       " '[unused807] 812',\n",
       " '[unused808] 813',\n",
       " '[unused809] 814',\n",
       " '[unused810] 815',\n",
       " '[unused811] 816',\n",
       " '[unused812] 817',\n",
       " '[unused813] 818',\n",
       " '[unused814] 819',\n",
       " '[unused815] 820',\n",
       " '[unused816] 821',\n",
       " '[unused817] 822',\n",
       " '[unused818] 823',\n",
       " '[unused819] 824',\n",
       " '[unused820] 825',\n",
       " '[unused821] 826',\n",
       " '[unused822] 827',\n",
       " '[unused823] 828',\n",
       " '[unused824] 829',\n",
       " '[unused825] 830',\n",
       " '[unused826] 831',\n",
       " '[unused827] 832',\n",
       " '[unused828] 833',\n",
       " '[unused829] 834',\n",
       " '[unused830] 835',\n",
       " '[unused831] 836',\n",
       " '[unused832] 837',\n",
       " '[unused833] 838',\n",
       " '[unused834] 839',\n",
       " '[unused835] 840',\n",
       " '[unused836] 841',\n",
       " '[unused837] 842',\n",
       " '[unused838] 843',\n",
       " '[unused839] 844',\n",
       " '[unused840] 845',\n",
       " '[unused841] 846',\n",
       " '[unused842] 847',\n",
       " '[unused843] 848',\n",
       " '[unused844] 849',\n",
       " '[unused845] 850',\n",
       " '[unused846] 851',\n",
       " '[unused847] 852',\n",
       " '[unused848] 853',\n",
       " '[unused849] 854',\n",
       " '[unused850] 855',\n",
       " '[unused851] 856',\n",
       " '[unused852] 857',\n",
       " '[unused853] 858',\n",
       " '[unused854] 859',\n",
       " '[unused855] 860',\n",
       " '[unused856] 861',\n",
       " '[unused857] 862',\n",
       " '[unused858] 863',\n",
       " '[unused859] 864',\n",
       " '[unused860] 865',\n",
       " '[unused861] 866',\n",
       " '[unused862] 867',\n",
       " '[unused863] 868',\n",
       " '[unused864] 869',\n",
       " '[unused865] 870',\n",
       " '[unused866] 871',\n",
       " '[unused867] 872',\n",
       " '[unused868] 873',\n",
       " '[unused869] 874',\n",
       " '[unused870] 875',\n",
       " '[unused871] 876',\n",
       " '[unused872] 877',\n",
       " '[unused873] 878',\n",
       " '[unused874] 879',\n",
       " '[unused875] 880',\n",
       " '[unused876] 881',\n",
       " '[unused877] 882',\n",
       " '[unused878] 883',\n",
       " '[unused879] 884',\n",
       " '[unused880] 885',\n",
       " '[unused881] 886',\n",
       " '[unused882] 887',\n",
       " '[unused883] 888',\n",
       " '[unused884] 889',\n",
       " '[unused885] 890',\n",
       " '[unused886] 891',\n",
       " '[unused887] 892',\n",
       " '[unused888] 893',\n",
       " '[unused889] 894',\n",
       " '[unused890] 895',\n",
       " '[unused891] 896',\n",
       " '[unused892] 897',\n",
       " '[unused893] 898',\n",
       " '[unused894] 899',\n",
       " '[unused895] 900',\n",
       " '[unused896] 901',\n",
       " '[unused897] 902',\n",
       " '[unused898] 903',\n",
       " '[unused899] 904',\n",
       " '[unused900] 905',\n",
       " '[unused901] 906',\n",
       " '[unused902] 907',\n",
       " '[unused903] 908',\n",
       " '[unused904] 909',\n",
       " '[unused905] 910',\n",
       " '[unused906] 911',\n",
       " '[unused907] 912',\n",
       " '[unused908] 913',\n",
       " '[unused909] 914',\n",
       " '[unused910] 915',\n",
       " '[unused911] 916',\n",
       " '[unused912] 917',\n",
       " '[unused913] 918',\n",
       " '[unused914] 919',\n",
       " '[unused915] 920',\n",
       " '[unused916] 921',\n",
       " '[unused917] 922',\n",
       " '[unused918] 923',\n",
       " '[unused919] 924',\n",
       " '[unused920] 925',\n",
       " '[unused921] 926',\n",
       " '[unused922] 927',\n",
       " '[unused923] 928',\n",
       " '[unused924] 929',\n",
       " '[unused925] 930',\n",
       " '[unused926] 931',\n",
       " '[unused927] 932',\n",
       " '[unused928] 933',\n",
       " '[unused929] 934',\n",
       " '[unused930] 935',\n",
       " '[unused931] 936',\n",
       " '[unused932] 937',\n",
       " '[unused933] 938',\n",
       " '[unused934] 939',\n",
       " '[unused935] 940',\n",
       " '[unused936] 941',\n",
       " '[unused937] 942',\n",
       " '[unused938] 943',\n",
       " '[unused939] 944',\n",
       " '[unused940] 945',\n",
       " '[unused941] 946',\n",
       " '[unused942] 947',\n",
       " '[unused943] 948',\n",
       " '[unused944] 949',\n",
       " '[unused945] 950',\n",
       " '[unused946] 951',\n",
       " '[unused947] 952',\n",
       " '[unused948] 953',\n",
       " '[unused949] 954',\n",
       " '[unused950] 955',\n",
       " '[unused951] 956',\n",
       " '[unused952] 957',\n",
       " '[unused953] 958',\n",
       " '[unused954] 959',\n",
       " '[unused955] 960',\n",
       " '[unused956] 961',\n",
       " '[unused957] 962',\n",
       " '[unused958] 963',\n",
       " '[unused959] 964',\n",
       " '[unused960] 965',\n",
       " '[unused961] 966',\n",
       " '[unused962] 967',\n",
       " '[unused963] 968',\n",
       " '[unused964] 969',\n",
       " '[unused965] 970',\n",
       " '[unused966] 971',\n",
       " '[unused967] 972',\n",
       " '[unused968] 973',\n",
       " '[unused969] 974',\n",
       " '[unused970] 975',\n",
       " '[unused971] 976',\n",
       " '[unused972] 977',\n",
       " '[unused973] 978',\n",
       " '[unused974] 979',\n",
       " '[unused975] 980',\n",
       " '[unused976] 981',\n",
       " '[unused977] 982',\n",
       " '[unused978] 983',\n",
       " '[unused979] 984',\n",
       " '[unused980] 985',\n",
       " '[unused981] 986',\n",
       " '[unused982] 987',\n",
       " '[unused983] 988',\n",
       " '[unused984] 989',\n",
       " '[unused985] 990',\n",
       " '[unused986] 991',\n",
       " '[unused987] 992',\n",
       " '[unused988] 993',\n",
       " '[unused989] 994',\n",
       " '[unused990] 995',\n",
       " '[unused991] 996',\n",
       " '[unused992] 997',\n",
       " '[unused993] 998',\n",
       " '! 999',\n",
       " ...]"
      ]
     },
     "execution_count": 195,
     "metadata": {},
     "output_type": "execute_result"
    }
   ],
   "source": [
    "lines"
   ]
  },
  {
   "cell_type": "code",
   "execution_count": 196,
   "id": "e24df2f8-61b4-4be9-a703-bb8c42f40eab",
   "metadata": {},
   "outputs": [],
   "source": [
    "with open(\"text_classification_vocab.txt\", \"w+\") as f:\n",
    "    f.writelines(lines)"
   ]
  },
  {
   "cell_type": "code",
   "execution_count": null,
   "id": "f1be83ca-c2db-4215-bc20-e8fb6b2cf655",
   "metadata": {},
   "outputs": [],
   "source": []
  }
 ],
 "metadata": {
  "kernelspec": {
   "display_name": "Python 3 (ipykernel)",
   "language": "python",
   "name": "python3"
  },
  "language_info": {
   "codemirror_mode": {
    "name": "ipython",
    "version": 3
   },
   "file_extension": ".py",
   "mimetype": "text/x-python",
   "name": "python",
   "nbconvert_exporter": "python",
   "pygments_lexer": "ipython3",
   "version": "3.10.4"
  }
 },
 "nbformat": 4,
 "nbformat_minor": 5
}
