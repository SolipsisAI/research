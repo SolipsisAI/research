{
 "cells": [
  {
   "cell_type": "code",
   "execution_count": 1,
   "id": "ae4babe0-fce0-4869-915d-2fea1e7999e9",
   "metadata": {},
   "outputs": [],
   "source": [
    "%load_ext autoreload\n",
    "%autoreload 2"
   ]
  },
  {
   "cell_type": "code",
   "execution_count": 4,
   "id": "2696e787-72b7-4533-9311-c52d743486fc",
   "metadata": {},
   "outputs": [],
   "source": [
    "from pathlib import Path\n",
    "from typing import List, Dict, Union, Tuple\n",
    "\n",
    "import torch, os, re, pandas as pd, json\n",
    "from sklearn.model_selection import train_test_split\n",
    "from transformers import (\n",
    "    DataCollatorForLanguageModeling,\n",
    "    DataCollatorWithPadding,\n",
    "    GPT2Tokenizer,\n",
    "    GPT2LMHeadModel,\n",
    "    Trainer,\n",
    "    TrainingArguments,\n",
    "    AutoConfig,\n",
    "    AutoTokenizer,\n",
    "    AutoModelForCausalLM\n",
    ")\n",
    "from datasets import Dataset, DatasetDict, list_metrics, load_metric, load_from_disk\n"
   ]
  },
  {
   "cell_type": "code",
   "execution_count": 6,
   "id": "8fa28944-77e7-4165-accb-686bee53389a",
   "metadata": {},
   "outputs": [],
   "source": [
    "base_model = \"microsoft/DialoGPT-small\"\n",
    "data_dir = \"../data/empatheticdialogues\"\n",
    "output_dir = \"../models/empathetic-DialoGPT-small\"\n",
    "batch_size = 2\n",
    "logging_dir = output_dir\n",
    "prediction_loss_only = True"
   ]
  },
  {
   "cell_type": "code",
   "execution_count": 68,
   "id": "b9064f8f-6b45-4317-b18d-91104d1c51e1",
   "metadata": {},
   "outputs": [],
   "source": [
    "def find_data_filepaths(data_dir):\n",
    "    data_filepaths = list(Path(data_dir).glob(\"*.csv\"))\n",
    "    return data_filepaths\n",
    "\n",
    "\n",
    "def load_data(data_dir):\n",
    "    data = {}\n",
    "    data_filepaths = find_data_filepaths(data_dir)\n",
    "    for data_filepath in data_filepaths:\n",
    "        data_name = data_filepath.stem\n",
    "        data[data_name] = pd.read_csv(data_filepath, encoding=\"utf-8\", on_bad_lines='skip')\n",
    "    return data\n",
    "\n",
    "\n",
    "def create_datasets(data, eos_token=\"<|endofsentence|>\"):\n",
    "    datasets = {}\n",
    "    for name, df in data.items():\n",
    "        grouped = df[[\"conv_id\", \"prompt\", \"utterance\"]].groupby(\"conv_id\")[\"utterance\"]\n",
    "        concat_text = grouped.transform(lambda x: eos_token.join(x))\n",
    "        datasets[name] = Dataset.from_dict({\"text\": concat_text.unique()})\n",
    "    return datasets"
   ]
  },
  {
   "cell_type": "code",
   "execution_count": 69,
   "id": "b76b9ad1-80ed-4a52-9b55-cb4b78773275",
   "metadata": {
    "scrolled": true,
    "tags": []
   },
   "outputs": [
    {
     "data": {
      "text/html": [
       "<div>\n",
       "<style scoped>\n",
       "    .dataframe tbody tr th:only-of-type {\n",
       "        vertical-align: middle;\n",
       "    }\n",
       "\n",
       "    .dataframe tbody tr th {\n",
       "        vertical-align: top;\n",
       "    }\n",
       "\n",
       "    .dataframe thead th {\n",
       "        text-align: right;\n",
       "    }\n",
       "</style>\n",
       "<table border=\"1\" class=\"dataframe\">\n",
       "  <thead>\n",
       "    <tr style=\"text-align: right;\">\n",
       "      <th></th>\n",
       "      <th>conv_id</th>\n",
       "      <th>utterance_idx</th>\n",
       "      <th>context</th>\n",
       "      <th>prompt</th>\n",
       "      <th>speaker_idx</th>\n",
       "      <th>utterance</th>\n",
       "      <th>selfeval</th>\n",
       "      <th>tags</th>\n",
       "    </tr>\n",
       "  </thead>\n",
       "  <tbody>\n",
       "    <tr>\n",
       "      <th>0</th>\n",
       "      <td>hit:0_conv:0</td>\n",
       "      <td>1</td>\n",
       "      <td>guilty</td>\n",
       "      <td>I felt guilty when I was driving home one nigh...</td>\n",
       "      <td>0</td>\n",
       "      <td>Yeah about 10 years ago I had a horrifying exp...</td>\n",
       "      <td>2|2|5_5|5|5</td>\n",
       "      <td>NaN</td>\n",
       "    </tr>\n",
       "    <tr>\n",
       "      <th>1</th>\n",
       "      <td>hit:0_conv:0</td>\n",
       "      <td>3</td>\n",
       "      <td>guilty</td>\n",
       "      <td>I felt guilty when I was driving home one nigh...</td>\n",
       "      <td>0</td>\n",
       "      <td>No I wasn't hit. It turned out they were drunk...</td>\n",
       "      <td>2|2|5_5|5|5</td>\n",
       "      <td>NaN</td>\n",
       "    </tr>\n",
       "    <tr>\n",
       "      <th>2</th>\n",
       "      <td>hit:0_conv:0</td>\n",
       "      <td>5</td>\n",
       "      <td>guilty</td>\n",
       "      <td>I felt guilty when I was driving home one nigh...</td>\n",
       "      <td>0</td>\n",
       "      <td>I don't know I was new to driving and hadn't e...</td>\n",
       "      <td>2|2|5_5|5|5</td>\n",
       "      <td>NaN</td>\n",
       "    </tr>\n",
       "    <tr>\n",
       "      <th>3</th>\n",
       "      <td>hit:34_conv:69</td>\n",
       "      <td>1</td>\n",
       "      <td>caring</td>\n",
       "      <td>My mother stopped by my house one day and said...</td>\n",
       "      <td>45</td>\n",
       "      <td>Well_comma_ can you tell me about your experie...</td>\n",
       "      <td>5|5|5_3|2|2</td>\n",
       "      <td>NaN</td>\n",
       "    </tr>\n",
       "    <tr>\n",
       "      <th>4</th>\n",
       "      <td>hit:34_conv:69</td>\n",
       "      <td>3</td>\n",
       "      <td>caring</td>\n",
       "      <td>My mother stopped by my house one day and said...</td>\n",
       "      <td>45</td>\n",
       "      <td>Oh my goodness_comma_ that's very scary! I hop...</td>\n",
       "      <td>5|5|5_3|2|2</td>\n",
       "      <td>NaN</td>\n",
       "    </tr>\n",
       "    <tr>\n",
       "      <th>...</th>\n",
       "      <td>...</td>\n",
       "      <td>...</td>\n",
       "      <td>...</td>\n",
       "      <td>...</td>\n",
       "      <td>...</td>\n",
       "      <td>...</td>\n",
       "      <td>...</td>\n",
       "      <td>...</td>\n",
       "    </tr>\n",
       "    <tr>\n",
       "      <th>5696</th>\n",
       "      <td>hit:12413_conv:24826</td>\n",
       "      <td>3</td>\n",
       "      <td>grateful</td>\n",
       "      <td>I'm glad that life is being good to me</td>\n",
       "      <td>437</td>\n",
       "      <td>Glad you think so as well!</td>\n",
       "      <td>5|5|5_4|3|4</td>\n",
       "      <td>NaN</td>\n",
       "    </tr>\n",
       "    <tr>\n",
       "      <th>5697</th>\n",
       "      <td>hit:12416_conv:24832</td>\n",
       "      <td>1</td>\n",
       "      <td>disgusted</td>\n",
       "      <td>I saw a huge cockroach outside my house today....</td>\n",
       "      <td>481</td>\n",
       "      <td>I saw a huge cockroach outside my house today!</td>\n",
       "      <td>5|5|5_4|3|4</td>\n",
       "      <td>NaN</td>\n",
       "    </tr>\n",
       "    <tr>\n",
       "      <th>5698</th>\n",
       "      <td>hit:12416_conv:24832</td>\n",
       "      <td>3</td>\n",
       "      <td>disgusted</td>\n",
       "      <td>I saw a huge cockroach outside my house today....</td>\n",
       "      <td>481</td>\n",
       "      <td>Not yet since it's the weekend. We live in Tex...</td>\n",
       "      <td>5|5|5_4|3|4</td>\n",
       "      <td>NaN</td>\n",
       "    </tr>\n",
       "    <tr>\n",
       "      <th>5699</th>\n",
       "      <td>hit:12423_conv:24847</td>\n",
       "      <td>1</td>\n",
       "      <td>anxious</td>\n",
       "      <td>I have a big test on Monday. I am so nervous_c...</td>\n",
       "      <td>481</td>\n",
       "      <td>I have a big test on Monday_comma_ I am so ner...</td>\n",
       "      <td>5|5|5_5|5|5</td>\n",
       "      <td>NaN</td>\n",
       "    </tr>\n",
       "    <tr>\n",
       "      <th>5700</th>\n",
       "      <td>hit:12423_conv:24847</td>\n",
       "      <td>3</td>\n",
       "      <td>anxious</td>\n",
       "      <td>I have a big test on Monday. I am so nervous_c...</td>\n",
       "      <td>481</td>\n",
       "      <td>It's for my Chemistry class. I haven't slept m...</td>\n",
       "      <td>5|5|5_5|5|5</td>\n",
       "      <td>NaN</td>\n",
       "    </tr>\n",
       "  </tbody>\n",
       "</table>\n",
       "<p>5701 rows × 8 columns</p>\n",
       "</div>"
      ],
      "text/plain": [
       "                   conv_id  utterance_idx    context  \\\n",
       "0             hit:0_conv:0              1     guilty   \n",
       "1             hit:0_conv:0              3     guilty   \n",
       "2             hit:0_conv:0              5     guilty   \n",
       "3           hit:34_conv:69              1     caring   \n",
       "4           hit:34_conv:69              3     caring   \n",
       "...                    ...            ...        ...   \n",
       "5696  hit:12413_conv:24826              3   grateful   \n",
       "5697  hit:12416_conv:24832              1  disgusted   \n",
       "5698  hit:12416_conv:24832              3  disgusted   \n",
       "5699  hit:12423_conv:24847              1    anxious   \n",
       "5700  hit:12423_conv:24847              3    anxious   \n",
       "\n",
       "                                                 prompt  speaker_idx  \\\n",
       "0     I felt guilty when I was driving home one nigh...            0   \n",
       "1     I felt guilty when I was driving home one nigh...            0   \n",
       "2     I felt guilty when I was driving home one nigh...            0   \n",
       "3     My mother stopped by my house one day and said...           45   \n",
       "4     My mother stopped by my house one day and said...           45   \n",
       "...                                                 ...          ...   \n",
       "5696             I'm glad that life is being good to me          437   \n",
       "5697  I saw a huge cockroach outside my house today....          481   \n",
       "5698  I saw a huge cockroach outside my house today....          481   \n",
       "5699  I have a big test on Monday. I am so nervous_c...          481   \n",
       "5700  I have a big test on Monday. I am so nervous_c...          481   \n",
       "\n",
       "                                              utterance     selfeval tags  \n",
       "0     Yeah about 10 years ago I had a horrifying exp...  2|2|5_5|5|5  NaN  \n",
       "1     No I wasn't hit. It turned out they were drunk...  2|2|5_5|5|5  NaN  \n",
       "2     I don't know I was new to driving and hadn't e...  2|2|5_5|5|5  NaN  \n",
       "3     Well_comma_ can you tell me about your experie...  5|5|5_3|2|2  NaN  \n",
       "4     Oh my goodness_comma_ that's very scary! I hop...  5|5|5_3|2|2  NaN  \n",
       "...                                                 ...          ...  ...  \n",
       "5696                         Glad you think so as well!  5|5|5_4|3|4  NaN  \n",
       "5697     I saw a huge cockroach outside my house today!  5|5|5_4|3|4  NaN  \n",
       "5698  Not yet since it's the weekend. We live in Tex...  5|5|5_4|3|4  NaN  \n",
       "5699  I have a big test on Monday_comma_ I am so ner...  5|5|5_5|5|5  NaN  \n",
       "5700  It's for my Chemistry class. I haven't slept m...  5|5|5_5|5|5  NaN  \n",
       "\n",
       "[5701 rows x 8 columns]"
      ]
     },
     "execution_count": 69,
     "metadata": {},
     "output_type": "execute_result"
    }
   ],
   "source": [
    "data = load_data(data_dir)\n",
    "data[\"test\"]"
   ]
  },
  {
   "cell_type": "code",
   "execution_count": 72,
   "id": "cde4e9ee-80e6-46be-867d-f6cafef10036",
   "metadata": {
    "scrolled": true,
    "tags": []
   },
   "outputs": [
    {
     "name": "stdout",
     "output_type": "stream",
     "text": [
      "(2541, 1)\n"
     ]
    },
    {
     "data": {
      "text/plain": [
       "Dataset({\n",
       "    features: ['text'],\n",
       "    num_rows: 2541\n",
       "})"
      ]
     },
     "execution_count": 72,
     "metadata": {},
     "output_type": "execute_result"
    }
   ],
   "source": [
    "datasets = create_datasets(data)\n",
    "print(datasets[\"test\"].shape)\n",
    "datasets[\"test\"]"
   ]
  },
  {
   "cell_type": "code",
   "execution_count": 122,
   "id": "2d5e5eb7-0790-4431-880e-3f5a7c96fcba",
   "metadata": {},
   "outputs": [],
   "source": [
    "def preprocess_function(tokenizer, text_column=\"text\", max_length=256):  \n",
    "    def _tokenize(examples):\n",
    "        flatten = lambda l: [item for sublist in l for item in sublist] \n",
    "        sanitized_text = [v.replace(\"_comma_\", \",\") for k, v in examples.items()]\n",
    "        tokenized = tokenizer(\n",
    "            sanitized_text,\n",
    "            padding=\"max_length\",\n",
    "            max_length=max_length,\n",
    "        )\n",
    "        examples[\"input_ids\"] = flatten(tokenized[\"input_ids\"])\n",
    "        return examples\n",
    "    return _tokenize\n",
    "\n",
    "\n",
    "def preprocess_datasets(datasets, tokenizer, text_column=\"text\", max_length=256):\n",
    "    columns = lambda d: d.features.keys()\n",
    "    preprocessed_datasets = {}\n",
    "    \n",
    "    for name, dataset in datasets.items():\n",
    "        ds = dataset.map(\n",
    "            preprocess_function(tokenizer, text_column, max_length),\n",
    "            remove_columns=columns(dataset)\n",
    "        )\n",
    "        ds.set_format(type=\"torch\", columns=[\"input_ids\"])\n",
    "        preprocessed_datasets[name] = ds\n",
    "        \n",
    "    return preprocessed_datasets\n",
    "        \n",
    "    \n",
    "    "
   ]
  },
  {
   "cell_type": "code",
   "execution_count": 115,
   "id": "d42f6af3-b78f-443e-9fb3-e0cced621c14",
   "metadata": {},
   "outputs": [
    {
     "data": {
      "text/plain": [
       "1"
      ]
     },
     "execution_count": 115,
     "metadata": {},
     "output_type": "execute_result"
    }
   ],
   "source": [
    "tokenizer = AutoTokenizer.from_pretrained(base_model)\n",
    "tokenizer.add_special_tokens({'pad_token': '[PAD]'})"
   ]
  },
  {
   "cell_type": "code",
   "execution_count": 123,
   "id": "f65cc5c0-60c3-4dab-aac4-5750d17a6701",
   "metadata": {
    "scrolled": true,
    "tags": []
   },
   "outputs": [
    {
     "data": {
      "application/vnd.jupyter.widget-view+json": {
       "model_id": "c88e5043f6cc4e7d8bdd1859d95ea09f",
       "version_major": 2,
       "version_minor": 0
      },
      "text/plain": [
       "  0%|          | 0/2541 [00:00<?, ?ex/s]"
      ]
     },
     "metadata": {},
     "output_type": "display_data"
    },
    {
     "data": {
      "application/vnd.jupyter.widget-view+json": {
       "model_id": "85fb2a1dcd59457cbc3e48b09a7e18eb",
       "version_major": 2,
       "version_minor": 0
      },
      "text/plain": [
       "  0%|          | 0/2763 [00:00<?, ?ex/s]"
      ]
     },
     "metadata": {},
     "output_type": "display_data"
    },
    {
     "data": {
      "application/vnd.jupyter.widget-view+json": {
       "model_id": "6a9d4c9e29a24842bee83abf61f299b4",
       "version_major": 2,
       "version_minor": 0
      },
      "text/plain": [
       "  0%|          | 0/17839 [00:00<?, ?ex/s]"
      ]
     },
     "metadata": {},
     "output_type": "display_data"
    }
   ],
   "source": [
    "preprocessed_datasets = preprocess_datasets(datasets, tokenizer)"
   ]
  },
  {
   "cell_type": "code",
   "execution_count": 124,
   "id": "82be57e2-5d06-4923-961d-ed5dfa3b4330",
   "metadata": {},
   "outputs": [
    {
     "data": {
      "text/plain": [
       "{'test': Dataset({\n",
       "     features: ['input_ids'],\n",
       "     num_rows: 2541\n",
       " }),\n",
       " 'valid': Dataset({\n",
       "     features: ['input_ids'],\n",
       "     num_rows: 2763\n",
       " }),\n",
       " 'train': Dataset({\n",
       "     features: ['input_ids'],\n",
       "     num_rows: 17839\n",
       " })}"
      ]
     },
     "execution_count": 124,
     "metadata": {},
     "output_type": "execute_result"
    }
   ],
   "source": [
    "preprocessed_datasets"
   ]
  },
  {
   "cell_type": "code",
   "execution_count": 125,
   "id": "cbe691b6-5350-4794-948f-bb6fe5db568a",
   "metadata": {
    "scrolled": true,
    "tags": []
   },
   "outputs": [
    {
     "data": {
      "text/plain": [
       "tensor([   40,  3505,  1016,   284,   766,   262, 26056,   351,   616,  1266,\n",
       "         1545,    13,   632,   373,   262,   717,   640,   356,  1683,  3377,\n",
       "          640,  3436,  1978,    13,  4900,   612,   373,   257,  1256,   286,\n",
       "          661,    11,   356,  2936,   588,   262,   691,   661,   287,   262,\n",
       "          995, 29847,    91,   437,  1659, 34086,   594,    91,    29, 16973,\n",
       "          428,   257,  1545,   345,   547,   287,  1842,   351,    11,   393,\n",
       "          655,   257,  1266,  1545,    30,    27,    91,   437,  1659, 34086,\n",
       "          594,    91,    29,  1212,   373,   257,  1266,  1545,    13,   314,\n",
       "         2051,   607, 29847,    91,   437,  1659, 34086,   594,    91,    29,\n",
       "         8496,   468,   673,  3750,    30,    27,    91,   437,  1659, 34086,\n",
       "          594,    91,    29,  1135,   645,  2392,  1561, 29847,    91,   437,\n",
       "         1659, 34086,   594,    91,    29,  5812,   373,   428,  1223,   326,\n",
       "         3022,   780,   286,   281,  4578,    30, 50257, 50257, 50257, 50257,\n",
       "        50257, 50257, 50257, 50257, 50257, 50257, 50257, 50257, 50257, 50257,\n",
       "        50257, 50257, 50257, 50257, 50257, 50257, 50257, 50257, 50257, 50257,\n",
       "        50257, 50257, 50257, 50257, 50257, 50257, 50257, 50257, 50257, 50257,\n",
       "        50257, 50257, 50257, 50257, 50257, 50257, 50257, 50257, 50257, 50257,\n",
       "        50257, 50257, 50257, 50257, 50257, 50257, 50257, 50257, 50257, 50257,\n",
       "        50257, 50257, 50257, 50257, 50257, 50257, 50257, 50257, 50257, 50257,\n",
       "        50257, 50257, 50257, 50257, 50257, 50257, 50257, 50257, 50257, 50257,\n",
       "        50257, 50257, 50257, 50257, 50257, 50257, 50257, 50257, 50257, 50257,\n",
       "        50257, 50257, 50257, 50257, 50257, 50257, 50257, 50257, 50257, 50257,\n",
       "        50257, 50257, 50257, 50257, 50257, 50257, 50257, 50257, 50257, 50257,\n",
       "        50257, 50257, 50257, 50257, 50257, 50257, 50257, 50257, 50257, 50257,\n",
       "        50257, 50257, 50257, 50257, 50257, 50257, 50257, 50257, 50257, 50257,\n",
       "        50257, 50257, 50257, 50257, 50257, 50257])"
      ]
     },
     "execution_count": 125,
     "metadata": {},
     "output_type": "execute_result"
    }
   ],
   "source": [
    "preprocessed_datasets[\"train\"][\"input_ids\"][0]"
   ]
  },
  {
   "cell_type": "code",
   "execution_count": 126,
   "id": "ae7f6a0b-cd1f-40ec-b566-e954ce365ade",
   "metadata": {},
   "outputs": [
    {
     "data": {
      "text/plain": [
       "'I remember going to see the fireworks with my best friend. It was the first time we ever spent time alone together. Although there was a lot of people, we felt like the only people in the world.<|endofsentence|>Was this a friend you were in love with, or just a best friend?<|endofsentence|>This was a best friend. I miss her.<|endofsentence|>Where has she gone?<|endofsentence|>We no longer talk.<|endofsentence|>Oh was this something that happened because of an argument?[PAD][PAD][PAD][PAD][PAD][PAD][PAD][PAD][PAD][PAD][PAD][PAD][PAD][PAD][PAD][PAD][PAD][PAD][PAD][PAD][PAD][PAD][PAD][PAD][PAD][PAD][PAD][PAD][PAD][PAD][PAD][PAD][PAD][PAD][PAD][PAD][PAD][PAD][PAD][PAD][PAD][PAD][PAD][PAD][PAD][PAD][PAD][PAD][PAD][PAD][PAD][PAD][PAD][PAD][PAD][PAD][PAD][PAD][PAD][PAD][PAD][PAD][PAD][PAD][PAD][PAD][PAD][PAD][PAD][PAD][PAD][PAD][PAD][PAD][PAD][PAD][PAD][PAD][PAD][PAD][PAD][PAD][PAD][PAD][PAD][PAD][PAD][PAD][PAD][PAD][PAD][PAD][PAD][PAD][PAD][PAD][PAD][PAD][PAD][PAD][PAD][PAD][PAD][PAD][PAD][PAD][PAD][PAD][PAD][PAD][PAD][PAD][PAD][PAD][PAD][PAD][PAD][PAD][PAD][PAD][PAD][PAD][PAD][PAD][PAD][PAD][PAD][PAD][PAD][PAD]'"
      ]
     },
     "execution_count": 126,
     "metadata": {},
     "output_type": "execute_result"
    }
   ],
   "source": [
    "tokenizer.decode(preprocessed_datasets[\"train\"][\"input_ids\"][0])"
   ]
  },
  {
   "cell_type": "code",
   "execution_count": 120,
   "id": "ece23051-69b2-4ad2-afae-e13af2689c38",
   "metadata": {},
   "outputs": [
    {
     "data": {
      "text/plain": [
       "DatasetDict({\n",
       "    test: Dataset({\n",
       "        features: ['input_ids'],\n",
       "        num_rows: 2541\n",
       "    })\n",
       "    valid: Dataset({\n",
       "        features: ['input_ids'],\n",
       "        num_rows: 2763\n",
       "    })\n",
       "    train: Dataset({\n",
       "        features: ['input_ids'],\n",
       "        num_rows: 17839\n",
       "    })\n",
       "})"
      ]
     },
     "execution_count": 120,
     "metadata": {},
     "output_type": "execute_result"
    }
   ],
   "source": [
    "DatasetDict(preprocessed_datasets)"
   ]
  },
  {
   "cell_type": "code",
   "execution_count": 127,
   "id": "ba8cebb5-ce5f-41df-b44a-1d88f8c07745",
   "metadata": {},
   "outputs": [],
   "source": [
    "from src.dataset import load_and_preprocess_datasets"
   ]
  },
  {
   "cell_type": "code",
   "execution_count": 129,
   "id": "dc871514-66f8-46dd-948f-b87ba7e7abf8",
   "metadata": {},
   "outputs": [
    {
     "data": {
      "application/vnd.jupyter.widget-view+json": {
       "model_id": "00e2fc23b0f844dcafe265cca87e7378",
       "version_major": 2,
       "version_minor": 0
      },
      "text/plain": [
       "  0%|          | 0/2541 [00:00<?, ?ex/s]"
      ]
     },
     "metadata": {},
     "output_type": "display_data"
    },
    {
     "data": {
      "application/vnd.jupyter.widget-view+json": {
       "model_id": "3b3d0b89cab545efa5d6d43c7e40d070",
       "version_major": 2,
       "version_minor": 0
      },
      "text/plain": [
       "  0%|          | 0/2763 [00:00<?, ?ex/s]"
      ]
     },
     "metadata": {},
     "output_type": "display_data"
    },
    {
     "data": {
      "application/vnd.jupyter.widget-view+json": {
       "model_id": "cf74738835b643d3b22653bcdfddcbb0",
       "version_major": 2,
       "version_minor": 0
      },
      "text/plain": [
       "  0%|          | 0/17839 [00:00<?, ?ex/s]"
      ]
     },
     "metadata": {},
     "output_type": "display_data"
    }
   ],
   "source": [
    "tokenizer = AutoTokenizer.from_pretrained(base_model)\n",
    "tokenizer.add_special_tokens({'pad_token': '[PAD]'})\n",
    "\n",
    "preprocessed_datasets = load_and_preprocess_datasets(data_dir, tokenizer)"
   ]
  },
  {
   "cell_type": "code",
   "execution_count": null,
   "id": "26f4e82d-2f60-418f-8448-2d6b14282c9d",
   "metadata": {},
   "outputs": [],
   "source": []
  }
 ],
 "metadata": {
  "kernelspec": {
   "display_name": "Python 3 (ipykernel)",
   "language": "python",
   "name": "python3"
  },
  "language_info": {
   "codemirror_mode": {
    "name": "ipython",
    "version": 3
   },
   "file_extension": ".py",
   "mimetype": "text/x-python",
   "name": "python",
   "nbconvert_exporter": "python",
   "pygments_lexer": "ipython3",
   "version": "3.9.12"
  },
  "widgets": {
   "application/vnd.jupyter.widget-state+json": {
    "state": {
     "00e2fc23b0f844dcafe265cca87e7378": {
      "model_module": "@jupyter-widgets/controls",
      "model_module_version": "1.5.0",
      "model_name": "HBoxModel",
      "state": {
       "children": [
        "IPY_MODEL_7f5d5f4a4b8d43df9a26cfe9c59c220e",
        "IPY_MODEL_d59a95b4153d4ed2928a3b9166af6b2e",
        "IPY_MODEL_5d6d7e7e695c4b4f9c6a768c406df618"
       ],
       "layout": "IPY_MODEL_b6c592cf79f14e63ad2ab5b84164b16a"
      }
     },
     "01d4db673c144a238ec45931913b3e53": {
      "model_module": "@jupyter-widgets/base",
      "model_module_version": "1.2.0",
      "model_name": "LayoutModel",
      "state": {}
     },
     "0399146ce36a40b4b92cebb5d52a1aaa": {
      "model_module": "@jupyter-widgets/base",
      "model_module_version": "1.2.0",
      "model_name": "LayoutModel",
      "state": {}
     },
     "04b00fcece354c43abe45800addd8da6": {
      "model_module": "@jupyter-widgets/controls",
      "model_module_version": "1.5.0",
      "model_name": "ProgressStyleModel",
      "state": {
       "description_width": ""
      }
     },
     "04da8567868b4b669cb2323c6aadb530": {
      "model_module": "@jupyter-widgets/base",
      "model_module_version": "1.2.0",
      "model_name": "LayoutModel",
      "state": {}
     },
     "04f6e2b6064249e8850bbf7b1a0c3a60": {
      "model_module": "@jupyter-widgets/controls",
      "model_module_version": "1.5.0",
      "model_name": "ProgressStyleModel",
      "state": {
       "description_width": ""
      }
     },
     "075834d6e31047739d8c86137ca75d1c": {
      "model_module": "@jupyter-widgets/base",
      "model_module_version": "1.2.0",
      "model_name": "LayoutModel",
      "state": {}
     },
     "08975b46519e410f886dae4aa26a1b84": {
      "model_module": "@jupyter-widgets/base",
      "model_module_version": "1.2.0",
      "model_name": "LayoutModel",
      "state": {}
     },
     "090d463aef6c476b8267c29e703a67da": {
      "model_module": "@jupyter-widgets/controls",
      "model_module_version": "1.5.0",
      "model_name": "HBoxModel",
      "state": {
       "children": [
        "IPY_MODEL_d9f8286e99ec4adc8d07d3e5eac4a6e8",
        "IPY_MODEL_dff9b71cc35c42988af118387b2b4da1",
        "IPY_MODEL_9069bf307d474c8aba39ce551b2228fd"
       ],
       "layout": "IPY_MODEL_8471f58af4474e1383021a55809c8463"
      }
     },
     "0abdae1acaac459e901a4ad96a4161a0": {
      "model_module": "@jupyter-widgets/base",
      "model_module_version": "1.2.0",
      "model_name": "LayoutModel",
      "state": {}
     },
     "0ad222d037684f3494e913ed2461ce99": {
      "model_module": "@jupyter-widgets/controls",
      "model_module_version": "1.5.0",
      "model_name": "FloatProgressModel",
      "state": {
       "bar_style": "success",
       "layout": "IPY_MODEL_b418f78d88b84d28b50bee264edf4f45",
       "max": 2541,
       "style": "IPY_MODEL_d2810e8ee76a4433a5e9cb4044e92645",
       "value": 2541
      }
     },
     "0b10257b54b94ee49c40cbef98397422": {
      "model_module": "@jupyter-widgets/controls",
      "model_module_version": "1.5.0",
      "model_name": "DescriptionStyleModel",
      "state": {
       "description_width": ""
      }
     },
     "0bcc2208e55a4de188c6097973a8d6ec": {
      "model_module": "@jupyter-widgets/controls",
      "model_module_version": "1.5.0",
      "model_name": "HTMLModel",
      "state": {
       "layout": "IPY_MODEL_64ad7b8606d14543aba4739ee0a32167",
       "style": "IPY_MODEL_18da4cee724545b581161f831e2aab96",
       "value": " 17839/17839 [00:05&lt;00:00, 3319.07ex/s]"
      }
     },
     "0ca52f22b4bc497d9c6d3467b9a69e58": {
      "model_module": "@jupyter-widgets/controls",
      "model_module_version": "1.5.0",
      "model_name": "DescriptionStyleModel",
      "state": {
       "description_width": ""
      }
     },
     "0cafa87bc177463d87901a8569203be4": {
      "model_module": "@jupyter-widgets/controls",
      "model_module_version": "1.5.0",
      "model_name": "DescriptionStyleModel",
      "state": {
       "description_width": ""
      }
     },
     "0ea1ced3bdf14d74b2797c5334681446": {
      "model_module": "@jupyter-widgets/base",
      "model_module_version": "1.2.0",
      "model_name": "LayoutModel",
      "state": {}
     },
     "0f020e96a1e54a4eab964fdebb5d2074": {
      "model_module": "@jupyter-widgets/base",
      "model_module_version": "1.2.0",
      "model_name": "LayoutModel",
      "state": {}
     },
     "0f3077c3194e4140a61384d544ce43bb": {
      "model_module": "@jupyter-widgets/controls",
      "model_module_version": "1.5.0",
      "model_name": "DescriptionStyleModel",
      "state": {
       "description_width": ""
      }
     },
     "0f42cf42a7c64bf583937752d55f7d9b": {
      "model_module": "@jupyter-widgets/base",
      "model_module_version": "1.2.0",
      "model_name": "LayoutModel",
      "state": {}
     },
     "0fd7a008beab40ae868d350af8873f87": {
      "model_module": "@jupyter-widgets/controls",
      "model_module_version": "1.5.0",
      "model_name": "DescriptionStyleModel",
      "state": {
       "description_width": ""
      }
     },
     "10cfeb0e6c0a491786a6fe355330b1d1": {
      "model_module": "@jupyter-widgets/controls",
      "model_module_version": "1.5.0",
      "model_name": "ProgressStyleModel",
      "state": {
       "description_width": ""
      }
     },
     "10ef6bbcd68d44bbacc3e25fbb39e9a3": {
      "model_module": "@jupyter-widgets/base",
      "model_module_version": "1.2.0",
      "model_name": "LayoutModel",
      "state": {}
     },
     "1185ed8b38644243892621cf489d6f40": {
      "model_module": "@jupyter-widgets/controls",
      "model_module_version": "1.5.0",
      "model_name": "DescriptionStyleModel",
      "state": {
       "description_width": ""
      }
     },
     "11d800746844458fb058ca050f5ba8be": {
      "model_module": "@jupyter-widgets/controls",
      "model_module_version": "1.5.0",
      "model_name": "HBoxModel",
      "state": {
       "children": [
        "IPY_MODEL_a7eb325018eb4081b0bcc21068e53e91",
        "IPY_MODEL_c2713fcdc2c94ffd907d2e6a75cbc4fb",
        "IPY_MODEL_ea60bd2363cc443aabcfc3a015ba8e2a"
       ],
       "layout": "IPY_MODEL_f012ea9c280445188fee1422cce21e23"
      }
     },
     "1264b85d6b8c4c87aedc73a64afd159b": {
      "model_module": "@jupyter-widgets/controls",
      "model_module_version": "1.5.0",
      "model_name": "FloatProgressModel",
      "state": {
       "bar_style": "success",
       "layout": "IPY_MODEL_320f7997f24441beb4c8cbfad2d285f0",
       "max": 2541,
       "style": "IPY_MODEL_7214814efe8b488ca785f58e490ce5dd",
       "value": 2541
      }
     },
     "12e0c609a9db4d65b3112675b010924d": {
      "model_module": "@jupyter-widgets/base",
      "model_module_version": "1.2.0",
      "model_name": "LayoutModel",
      "state": {}
     },
     "13610dffb2aa483093476f8b800199a7": {
      "model_module": "@jupyter-widgets/base",
      "model_module_version": "1.2.0",
      "model_name": "LayoutModel",
      "state": {}
     },
     "13b848ba1b0a4007ad8c1d1fcd4f7dc2": {
      "model_module": "@jupyter-widgets/controls",
      "model_module_version": "1.5.0",
      "model_name": "ProgressStyleModel",
      "state": {
       "description_width": ""
      }
     },
     "16793e8989e0446c9c7e6dd737886aa3": {
      "model_module": "@jupyter-widgets/controls",
      "model_module_version": "1.5.0",
      "model_name": "FloatProgressModel",
      "state": {
       "bar_style": "success",
       "layout": "IPY_MODEL_250b3897c00c483f8533e7795940a410",
       "max": 2541,
       "style": "IPY_MODEL_bb5921bcbea84a028e2792fcd13fdd5a",
       "value": 2541
      }
     },
     "18b185a4080c419b887ad6b92fc16d83": {
      "model_module": "@jupyter-widgets/controls",
      "model_module_version": "1.5.0",
      "model_name": "HTMLModel",
      "state": {
       "layout": "IPY_MODEL_a3ac84f1866d418ba0332fbbc216a480",
       "style": "IPY_MODEL_824518de2d2941c089d52e432248eddb",
       "value": " 2541/2541 [00:00&lt;00:00, 3785.90ex/s]"
      }
     },
     "18da4cee724545b581161f831e2aab96": {
      "model_module": "@jupyter-widgets/controls",
      "model_module_version": "1.5.0",
      "model_name": "DescriptionStyleModel",
      "state": {
       "description_width": ""
      }
     },
     "19913c7a298546fa995d4bea50ebd110": {
      "model_module": "@jupyter-widgets/base",
      "model_module_version": "1.2.0",
      "model_name": "LayoutModel",
      "state": {}
     },
     "1bb074cef3e645db94cc8f7345af9640": {
      "model_module": "@jupyter-widgets/controls",
      "model_module_version": "1.5.0",
      "model_name": "ProgressStyleModel",
      "state": {
       "description_width": ""
      }
     },
     "1c04bbdffdbd42479573cd8aa79d89a3": {
      "model_module": "@jupyter-widgets/controls",
      "model_module_version": "1.5.0",
      "model_name": "FloatProgressModel",
      "state": {
       "bar_style": "success",
       "layout": "IPY_MODEL_8040060700a24b9695b805b2b97d9b80",
       "max": 17839,
       "style": "IPY_MODEL_13b848ba1b0a4007ad8c1d1fcd4f7dc2",
       "value": 17839
      }
     },
     "1d91cda1b63b4f7799f05420d53dbbfd": {
      "model_module": "@jupyter-widgets/base",
      "model_module_version": "1.2.0",
      "model_name": "LayoutModel",
      "state": {}
     },
     "1e258d4ee383468b80591886207b794b": {
      "model_module": "@jupyter-widgets/controls",
      "model_module_version": "1.5.0",
      "model_name": "DescriptionStyleModel",
      "state": {
       "description_width": ""
      }
     },
     "1e4d946a50aa4ea6a92d0ab9f00332e7": {
      "model_module": "@jupyter-widgets/base",
      "model_module_version": "1.2.0",
      "model_name": "LayoutModel",
      "state": {}
     },
     "1f8251c9da6d4c50af26ab975031d81e": {
      "model_module": "@jupyter-widgets/base",
      "model_module_version": "1.2.0",
      "model_name": "LayoutModel",
      "state": {}
     },
     "21010308f837447c8ce72e3515a63186": {
      "model_module": "@jupyter-widgets/controls",
      "model_module_version": "1.5.0",
      "model_name": "FloatProgressModel",
      "state": {
       "bar_style": "success",
       "layout": "IPY_MODEL_f0716269c4cc400697da2e7fa76b4a24",
       "max": 2763,
       "style": "IPY_MODEL_d50ac550dbb9408fa1ab764c1147620d",
       "value": 2763
      }
     },
     "2158988a8fb34a78b6e28783785db9af": {
      "model_module": "@jupyter-widgets/base",
      "model_module_version": "1.2.0",
      "model_name": "LayoutModel",
      "state": {}
     },
     "2211d6a8d66b4ea99d9b4a0da194371d": {
      "model_module": "@jupyter-widgets/controls",
      "model_module_version": "1.5.0",
      "model_name": "DescriptionStyleModel",
      "state": {
       "description_width": ""
      }
     },
     "233bc38e17894d01b1e713d83d3af49b": {
      "model_module": "@jupyter-widgets/base",
      "model_module_version": "1.2.0",
      "model_name": "LayoutModel",
      "state": {}
     },
     "234c96c7e49f47ea87c524d0d9342b29": {
      "model_module": "@jupyter-widgets/controls",
      "model_module_version": "1.5.0",
      "model_name": "HTMLModel",
      "state": {
       "layout": "IPY_MODEL_19913c7a298546fa995d4bea50ebd110",
       "style": "IPY_MODEL_5737380854e8448794a513d515937910",
       "value": " 2541/2541 [00:00&lt;00:00, 3736.34ex/s]"
      }
     },
     "24781448a4ae4fc79e9223e11d00e06e": {
      "model_module": "@jupyter-widgets/base",
      "model_module_version": "1.2.0",
      "model_name": "LayoutModel",
      "state": {}
     },
     "2487795f26e74a12b684431e83a4b0da": {
      "model_module": "@jupyter-widgets/base",
      "model_module_version": "1.2.0",
      "model_name": "LayoutModel",
      "state": {}
     },
     "250b3897c00c483f8533e7795940a410": {
      "model_module": "@jupyter-widgets/base",
      "model_module_version": "1.2.0",
      "model_name": "LayoutModel",
      "state": {}
     },
     "27111eaa59174139b4f389d1f1e89a4a": {
      "model_module": "@jupyter-widgets/controls",
      "model_module_version": "1.5.0",
      "model_name": "HTMLModel",
      "state": {
       "layout": "IPY_MODEL_c066de423f92430aaaf426321f648827",
       "style": "IPY_MODEL_d47bbd67cb0f431fae06cf99d13b2e20",
       "value": "100%"
      }
     },
     "27a7e8d428c84549ac8a422b20dde6b1": {
      "model_module": "@jupyter-widgets/base",
      "model_module_version": "1.2.0",
      "model_name": "LayoutModel",
      "state": {}
     },
     "2a17ed9cd0e849989103d2e3fb299fc7": {
      "model_module": "@jupyter-widgets/base",
      "model_module_version": "1.2.0",
      "model_name": "LayoutModel",
      "state": {}
     },
     "2b2a98489ec44ec68967c12778395761": {
      "model_module": "@jupyter-widgets/base",
      "model_module_version": "1.2.0",
      "model_name": "LayoutModel",
      "state": {}
     },
     "2b6b2797d21647539ced0fff8269c1fc": {
      "model_module": "@jupyter-widgets/controls",
      "model_module_version": "1.5.0",
      "model_name": "HBoxModel",
      "state": {
       "children": [
        "IPY_MODEL_fed28e4a37ce4ce7867561ed04fe9771",
        "IPY_MODEL_55a5cdbfa3674dd3a2438650100b6759",
        "IPY_MODEL_d7275806293549e2a185aa4bee9a511f"
       ],
       "layout": "IPY_MODEL_0f42cf42a7c64bf583937752d55f7d9b"
      }
     },
     "2c6121b6c2be45678f9d72cff79138f9": {
      "model_module": "@jupyter-widgets/base",
      "model_module_version": "1.2.0",
      "model_name": "LayoutModel",
      "state": {}
     },
     "2d750c3e6bba4b739f22af5949453108": {
      "model_module": "@jupyter-widgets/controls",
      "model_module_version": "1.5.0",
      "model_name": "HBoxModel",
      "state": {
       "children": [
        "IPY_MODEL_c8e366caf10b48478fd3d58b4aaaddfa",
        "IPY_MODEL_57aa1c72a37540dea07b55ffd89abb12",
        "IPY_MODEL_f84fd4c93bcc493a9429f6bd86d008a6"
       ],
       "layout": "IPY_MODEL_f32f4820306b4136908aec63898b1b19"
      }
     },
     "2db5062edab14819b1dd4448c4bbadb7": {
      "model_module": "@jupyter-widgets/controls",
      "model_module_version": "1.5.0",
      "model_name": "HTMLModel",
      "state": {
       "layout": "IPY_MODEL_0ea1ced3bdf14d74b2797c5334681446",
       "style": "IPY_MODEL_84b443f9c0394df29030e723ee0b0744",
       "value": " 2541/2541 [00:00&lt;00:00, 4002.34ex/s]"
      }
     },
     "2ec5bcb5179645ebbc84cee562baf329": {
      "model_module": "@jupyter-widgets/controls",
      "model_module_version": "1.5.0",
      "model_name": "HTMLModel",
      "state": {
       "layout": "IPY_MODEL_3b3f80c30e9e4bdbbf707e85506f4fd3",
       "style": "IPY_MODEL_defca1d1cb364f8cb4274c001a704f42",
       "value": " 17839/17839 [00:05&lt;00:00, 3152.04ex/s]"
      }
     },
     "2efef6bc94cc4f16a6c8df47dca257ca": {
      "model_module": "@jupyter-widgets/controls",
      "model_module_version": "1.5.0",
      "model_name": "FloatProgressModel",
      "state": {
       "bar_style": "success",
       "layout": "IPY_MODEL_db933e6ad3554a5cadc7d1b1acc29f49",
       "max": 2763,
       "style": "IPY_MODEL_b01c09e210d045c98d9ae0e0b5a0605a",
       "value": 2763
      }
     },
     "2fa27ff0949f442aaabfa3fea8f168ad": {
      "model_module": "@jupyter-widgets/controls",
      "model_module_version": "1.5.0",
      "model_name": "HTMLModel",
      "state": {
       "layout": "IPY_MODEL_4607af2bb83f4562a8ddbb9dd3669162",
       "style": "IPY_MODEL_d78ee4c2dbd8411d915cd9a9b3ba181a",
       "value": "100%"
      }
     },
     "3033dd48492e4229b34417033689e6aa": {
      "model_module": "@jupyter-widgets/controls",
      "model_module_version": "1.5.0",
      "model_name": "ProgressStyleModel",
      "state": {
       "description_width": ""
      }
     },
     "308cd4b018e54f3fb7f98b7191d93f4f": {
      "model_module": "@jupyter-widgets/controls",
      "model_module_version": "1.5.0",
      "model_name": "HTMLModel",
      "state": {
       "layout": "IPY_MODEL_ddfca21812a0457b94bf170445892334",
       "style": "IPY_MODEL_5e209fe5c7584c008f5cc94c729d1cb4",
       "value": "100%"
      }
     },
     "30bb43ef68e74ccf9e4d4d42cfbec6fd": {
      "model_module": "@jupyter-widgets/controls",
      "model_module_version": "1.5.0",
      "model_name": "DescriptionStyleModel",
      "state": {
       "description_width": ""
      }
     },
     "30d31f85bdf340d8ab5b66fa4c98bf5b": {
      "model_module": "@jupyter-widgets/controls",
      "model_module_version": "1.5.0",
      "model_name": "HTMLModel",
      "state": {
       "layout": "IPY_MODEL_2487795f26e74a12b684431e83a4b0da",
       "style": "IPY_MODEL_b32649a7ba144198aeba2977ade8747c",
       "value": " 2763/2763 [00:00&lt;00:00, 3787.83ex/s]"
      }
     },
     "30ea077bfe064b4b808c84861f4da65d": {
      "model_module": "@jupyter-widgets/controls",
      "model_module_version": "1.5.0",
      "model_name": "HTMLModel",
      "state": {
       "layout": "IPY_MODEL_2158988a8fb34a78b6e28783785db9af",
       "style": "IPY_MODEL_74855981321e4ab990e0f4df9b40a40b",
       "value": "100%"
      }
     },
     "320f7997f24441beb4c8cbfad2d285f0": {
      "model_module": "@jupyter-widgets/base",
      "model_module_version": "1.2.0",
      "model_name": "LayoutModel",
      "state": {}
     },
     "322e8f63003848f89fae7c1a2819ac39": {
      "model_module": "@jupyter-widgets/base",
      "model_module_version": "1.2.0",
      "model_name": "LayoutModel",
      "state": {}
     },
     "334b06c353014ffeb1bb0f174c0c3d88": {
      "model_module": "@jupyter-widgets/controls",
      "model_module_version": "1.5.0",
      "model_name": "HTMLModel",
      "state": {
       "layout": "IPY_MODEL_6f4eb132e7f740a0b93195ddc57201c0",
       "style": "IPY_MODEL_30bb43ef68e74ccf9e4d4d42cfbec6fd",
       "value": "100%"
      }
     },
     "33597acaf4c04454abf5e95baffbdd75": {
      "model_module": "@jupyter-widgets/base",
      "model_module_version": "1.2.0",
      "model_name": "LayoutModel",
      "state": {}
     },
     "3377f1ddab2f442c839121868a12181c": {
      "model_module": "@jupyter-widgets/controls",
      "model_module_version": "1.5.0",
      "model_name": "HBoxModel",
      "state": {
       "children": [
        "IPY_MODEL_3bdc921a1ad14eeab5d034711108e331",
        "IPY_MODEL_6574a769d06d4dfe8609cacef96aa35e",
        "IPY_MODEL_2db5062edab14819b1dd4448c4bbadb7"
       ],
       "layout": "IPY_MODEL_3dfd8224a144431689314eddd8cc3279"
      }
     },
     "35021b94e3694b3fb018c487721dd7b4": {
      "model_module": "@jupyter-widgets/controls",
      "model_module_version": "1.5.0",
      "model_name": "HTMLModel",
      "state": {
       "layout": "IPY_MODEL_04da8567868b4b669cb2323c6aadb530",
       "style": "IPY_MODEL_6dd0ab74b3d84f0cb790eebed1daa9ef",
       "value": " 2763/2763 [00:00&lt;00:00, 3886.42ex/s]"
      }
     },
     "37304c7226a747e1999988f3d978e4bf": {
      "model_module": "@jupyter-widgets/controls",
      "model_module_version": "1.5.0",
      "model_name": "HTMLModel",
      "state": {
       "layout": "IPY_MODEL_233bc38e17894d01b1e713d83d3af49b",
       "style": "IPY_MODEL_f62c7a1961ee4152a4eb853806646c8c",
       "value": "100%"
      }
     },
     "3a817f8d7f234c40ac2c17782e5ffea0": {
      "model_module": "@jupyter-widgets/controls",
      "model_module_version": "1.5.0",
      "model_name": "HTMLModel",
      "state": {
       "layout": "IPY_MODEL_3d9e268cc82740cfb711484b29aa01e2",
       "style": "IPY_MODEL_a160804c0f4b4a20836bf63abfe84d7f",
       "value": "100%"
      }
     },
     "3b3d0b89cab545efa5d6d43c7e40d070": {
      "model_module": "@jupyter-widgets/controls",
      "model_module_version": "1.5.0",
      "model_name": "HBoxModel",
      "state": {
       "children": [
        "IPY_MODEL_512322e55f564624a0f6b2ac97f9ca4a",
        "IPY_MODEL_8ae4331939db4734b74c02f73ad27c5c",
        "IPY_MODEL_a174869b41ad4075bf24b727ff3d8cae"
       ],
       "layout": "IPY_MODEL_ff4af904a6e6402682371987e087c51d"
      }
     },
     "3b3f80c30e9e4bdbbf707e85506f4fd3": {
      "model_module": "@jupyter-widgets/base",
      "model_module_version": "1.2.0",
      "model_name": "LayoutModel",
      "state": {}
     },
     "3bdc921a1ad14eeab5d034711108e331": {
      "model_module": "@jupyter-widgets/controls",
      "model_module_version": "1.5.0",
      "model_name": "HTMLModel",
      "state": {
       "layout": "IPY_MODEL_6bdbe4e5f37a449796e3eeaf75f30e2e",
       "style": "IPY_MODEL_50f7a78b16a044ee9d883a99d2dc2550",
       "value": "100%"
      }
     },
     "3c18509ef8e645b09ddbad7f53cbf0eb": {
      "model_module": "@jupyter-widgets/controls",
      "model_module_version": "1.5.0",
      "model_name": "DescriptionStyleModel",
      "state": {
       "description_width": ""
      }
     },
     "3ce8b76902d64370bd4b791005ffb172": {
      "model_module": "@jupyter-widgets/controls",
      "model_module_version": "1.5.0",
      "model_name": "FloatProgressModel",
      "state": {
       "bar_style": "success",
       "layout": "IPY_MODEL_56a2848d3b714848ace1a545a60c4d0e",
       "max": 2541,
       "style": "IPY_MODEL_e865d1f32a1b4ab0bf1645e362f8bc2a",
       "value": 2541
      }
     },
     "3cf95f31f1b042c7a4ab7a7122fb86df": {
      "model_module": "@jupyter-widgets/controls",
      "model_module_version": "1.5.0",
      "model_name": "HBoxModel",
      "state": {
       "children": [
        "IPY_MODEL_27111eaa59174139b4f389d1f1e89a4a",
        "IPY_MODEL_59519d4de40c4f2fb0dfbc0d1f688797",
        "IPY_MODEL_b304c9a1b84c46719887234c000c96bf"
       ],
       "layout": "IPY_MODEL_12e0c609a9db4d65b3112675b010924d"
      }
     },
     "3d9e268cc82740cfb711484b29aa01e2": {
      "model_module": "@jupyter-widgets/base",
      "model_module_version": "1.2.0",
      "model_name": "LayoutModel",
      "state": {}
     },
     "3dfd8224a144431689314eddd8cc3279": {
      "model_module": "@jupyter-widgets/base",
      "model_module_version": "1.2.0",
      "model_name": "LayoutModel",
      "state": {}
     },
     "3e094b32ea8242afa61da271e4952e54": {
      "model_module": "@jupyter-widgets/controls",
      "model_module_version": "1.5.0",
      "model_name": "DescriptionStyleModel",
      "state": {
       "description_width": ""
      }
     },
     "3e2dfe5377fb4070899c72913d28a089": {
      "model_module": "@jupyter-widgets/base",
      "model_module_version": "1.2.0",
      "model_name": "LayoutModel",
      "state": {}
     },
     "3e3a832dc830429fa71feee745db2c50": {
      "model_module": "@jupyter-widgets/base",
      "model_module_version": "1.2.0",
      "model_name": "LayoutModel",
      "state": {}
     },
     "3e8fe9e328594127a09d7082ebf22ecd": {
      "model_module": "@jupyter-widgets/controls",
      "model_module_version": "1.5.0",
      "model_name": "HTMLModel",
      "state": {
       "layout": "IPY_MODEL_a5dab85c9d094463993671247247e7bb",
       "style": "IPY_MODEL_fd86366b92f54765bcbd47928f02149a",
       "value": " 2541/2541 [00:00&lt;00:00, 3742.61ex/s]"
      }
     },
     "3f0326e0de7e48b082122b9abd87656b": {
      "model_module": "@jupyter-widgets/base",
      "model_module_version": "1.2.0",
      "model_name": "LayoutModel",
      "state": {}
     },
     "40d5f0c872aa4a098836bc834f3ee672": {
      "model_module": "@jupyter-widgets/controls",
      "model_module_version": "1.5.0",
      "model_name": "DescriptionStyleModel",
      "state": {
       "description_width": ""
      }
     },
     "426493da0e7543b6bc520dd5f3645054": {
      "model_module": "@jupyter-widgets/controls",
      "model_module_version": "1.5.0",
      "model_name": "FloatProgressModel",
      "state": {
       "bar_style": "success",
       "layout": "IPY_MODEL_08975b46519e410f886dae4aa26a1b84",
       "max": 17839,
       "style": "IPY_MODEL_4c76062a7cad45aea33dc1adf60cda32",
       "value": 17839
      }
     },
     "44249733c2b9479088ec54c31e42b8fb": {
      "model_module": "@jupyter-widgets/base",
      "model_module_version": "1.2.0",
      "model_name": "LayoutModel",
      "state": {}
     },
     "4607af2bb83f4562a8ddbb9dd3669162": {
      "model_module": "@jupyter-widgets/base",
      "model_module_version": "1.2.0",
      "model_name": "LayoutModel",
      "state": {}
     },
     "46517df711624026b60ed62cafdc2766": {
      "model_module": "@jupyter-widgets/controls",
      "model_module_version": "1.5.0",
      "model_name": "HTMLModel",
      "state": {
       "layout": "IPY_MODEL_46fc29e5fcb04b73a04449ac31fb71e1",
       "style": "IPY_MODEL_697d3611a3af4c38b47e9fe9b162bbf6",
       "value": " 17839/17839 [00:05&lt;00:00, 3086.11ex/s]"
      }
     },
     "46fc29e5fcb04b73a04449ac31fb71e1": {
      "model_module": "@jupyter-widgets/base",
      "model_module_version": "1.2.0",
      "model_name": "LayoutModel",
      "state": {}
     },
     "47265179b85c4475bbb5d2f0858f771a": {
      "model_module": "@jupyter-widgets/controls",
      "model_module_version": "1.5.0",
      "model_name": "FloatProgressModel",
      "state": {
       "bar_style": "success",
       "layout": "IPY_MODEL_56ca5c15ba0f4d369bafba37b02c78dc",
       "max": 2541,
       "style": "IPY_MODEL_4d667e8cedf04abcb21475fd6eeb5cc5",
       "value": 2541
      }
     },
     "49b57a6d6d02447e90d1fc4f6d733647": {
      "model_module": "@jupyter-widgets/base",
      "model_module_version": "1.2.0",
      "model_name": "LayoutModel",
      "state": {}
     },
     "4a1e37ff232941d6858499d6bec68af4": {
      "model_module": "@jupyter-widgets/controls",
      "model_module_version": "1.5.0",
      "model_name": "HTMLModel",
      "state": {
       "layout": "IPY_MODEL_768fbbbfacc24a509c775d5bf6b9eb49",
       "style": "IPY_MODEL_2211d6a8d66b4ea99d9b4a0da194371d",
       "value": "100%"
      }
     },
     "4a36ab0989ae41c78d3a01566d0d2efe": {
      "model_module": "@jupyter-widgets/controls",
      "model_module_version": "1.5.0",
      "model_name": "HBoxModel",
      "state": {
       "children": [
        "IPY_MODEL_30ea077bfe064b4b808c84861f4da65d",
        "IPY_MODEL_16793e8989e0446c9c7e6dd737886aa3",
        "IPY_MODEL_9c73de3a61f240fa98d90bff22e1a098"
       ],
       "layout": "IPY_MODEL_ec351090363546198a676ea59ad4f54b"
      }
     },
     "4b5aa6a2d308436990e732fc45dfc18a": {
      "model_module": "@jupyter-widgets/controls",
      "model_module_version": "1.5.0",
      "model_name": "ProgressStyleModel",
      "state": {
       "description_width": ""
      }
     },
     "4c0ff487f48a46bc901cd9db7ec4bfc7": {
      "model_module": "@jupyter-widgets/controls",
      "model_module_version": "1.5.0",
      "model_name": "HTMLModel",
      "state": {
       "layout": "IPY_MODEL_1d91cda1b63b4f7799f05420d53dbbfd",
       "style": "IPY_MODEL_b49433c74cde4ca3b44cbe0c189f68e4",
       "value": "100%"
      }
     },
     "4c76062a7cad45aea33dc1adf60cda32": {
      "model_module": "@jupyter-widgets/controls",
      "model_module_version": "1.5.0",
      "model_name": "ProgressStyleModel",
      "state": {
       "description_width": ""
      }
     },
     "4d667e8cedf04abcb21475fd6eeb5cc5": {
      "model_module": "@jupyter-widgets/controls",
      "model_module_version": "1.5.0",
      "model_name": "ProgressStyleModel",
      "state": {
       "description_width": ""
      }
     },
     "4d6df4cff21a4cac9f35cad5831596d9": {
      "model_module": "@jupyter-widgets/controls",
      "model_module_version": "1.5.0",
      "model_name": "DescriptionStyleModel",
      "state": {
       "description_width": ""
      }
     },
     "4ee6e598ee9c485faeb4f10ade78d019": {
      "model_module": "@jupyter-widgets/controls",
      "model_module_version": "1.5.0",
      "model_name": "FloatProgressModel",
      "state": {
       "bar_style": "success",
       "layout": "IPY_MODEL_68c5eccbb1a242c58b379343b53a807c",
       "max": 17839,
       "style": "IPY_MODEL_57a0c32eeafc4f89809a098d7dccaebf",
       "value": 17839
      }
     },
     "50667df0963242ab9fbad8ff18a1daf3": {
      "model_module": "@jupyter-widgets/base",
      "model_module_version": "1.2.0",
      "model_name": "LayoutModel",
      "state": {}
     },
     "50cdcf063e18428b9085b81d9fd59585": {
      "model_module": "@jupyter-widgets/controls",
      "model_module_version": "1.5.0",
      "model_name": "DescriptionStyleModel",
      "state": {
       "description_width": ""
      }
     },
     "50dd877ab9c1468ab950adbc6820c449": {
      "model_module": "@jupyter-widgets/controls",
      "model_module_version": "1.5.0",
      "model_name": "HBoxModel",
      "state": {
       "children": [
        "IPY_MODEL_f5659d80e2f24085a178eea745729b05",
        "IPY_MODEL_be931f3ee5bc4954980b0bdc0c385640",
        "IPY_MODEL_eee391f22369482e91b37f5a2f67a473"
       ],
       "layout": "IPY_MODEL_3e2dfe5377fb4070899c72913d28a089"
      }
     },
     "50f7a78b16a044ee9d883a99d2dc2550": {
      "model_module": "@jupyter-widgets/controls",
      "model_module_version": "1.5.0",
      "model_name": "DescriptionStyleModel",
      "state": {
       "description_width": ""
      }
     },
     "512322e55f564624a0f6b2ac97f9ca4a": {
      "model_module": "@jupyter-widgets/controls",
      "model_module_version": "1.5.0",
      "model_name": "HTMLModel",
      "state": {
       "layout": "IPY_MODEL_3f0326e0de7e48b082122b9abd87656b",
       "style": "IPY_MODEL_1e258d4ee383468b80591886207b794b",
       "value": "100%"
      }
     },
     "5151cbed15854ea4bad4ce87e35bd00d": {
      "model_module": "@jupyter-widgets/controls",
      "model_module_version": "1.5.0",
      "model_name": "HTMLModel",
      "state": {
       "layout": "IPY_MODEL_73aeef01592f410182017f621b371222",
       "style": "IPY_MODEL_1185ed8b38644243892621cf489d6f40",
       "value": "100%"
      }
     },
     "515d4d3bfc5c4be98704851607184be2": {
      "model_module": "@jupyter-widgets/controls",
      "model_module_version": "1.5.0",
      "model_name": "FloatProgressModel",
      "state": {
       "bar_style": "success",
       "layout": "IPY_MODEL_ef553945c42049e8a4db375971facec8",
       "max": 2763,
       "style": "IPY_MODEL_4b5aa6a2d308436990e732fc45dfc18a",
       "value": 2763
      }
     },
     "51c0375864494538ba195bab5fc1b8cf": {
      "model_module": "@jupyter-widgets/controls",
      "model_module_version": "1.5.0",
      "model_name": "HBoxModel",
      "state": {
       "children": [
        "IPY_MODEL_e5644fb19a944d34be244fada83b069b",
        "IPY_MODEL_97d389fb09c0498b912faec5d080f5ec",
        "IPY_MODEL_46517df711624026b60ed62cafdc2766"
       ],
       "layout": "IPY_MODEL_dea57ed8c78a4660b30188103abf7af0"
      }
     },
     "52426143b20649279320b3a1d239d396": {
      "model_module": "@jupyter-widgets/base",
      "model_module_version": "1.2.0",
      "model_name": "LayoutModel",
      "state": {}
     },
     "52673d07935d425bbe3a7ae12b38531b": {
      "model_module": "@jupyter-widgets/base",
      "model_module_version": "1.2.0",
      "model_name": "LayoutModel",
      "state": {}
     },
     "528048636d2241a88fcfe0f60d3ba348": {
      "model_module": "@jupyter-widgets/base",
      "model_module_version": "1.2.0",
      "model_name": "LayoutModel",
      "state": {}
     },
     "52c6b4b2255b4c8f8bec4985dabac117": {
      "model_module": "@jupyter-widgets/controls",
      "model_module_version": "1.5.0",
      "model_name": "DescriptionStyleModel",
      "state": {
       "description_width": ""
      }
     },
     "52e697ca2d524b0ea33a6b439e5112bd": {
      "model_module": "@jupyter-widgets/controls",
      "model_module_version": "1.5.0",
      "model_name": "HTMLModel",
      "state": {
       "layout": "IPY_MODEL_83f21b7f9b5746199323336917ebc4c6",
       "style": "IPY_MODEL_ca0c9fa0fb004073aea286324b63c035",
       "value": "100%"
      }
     },
     "5343b3c79ee943bc8dd28c67557fba57": {
      "model_module": "@jupyter-widgets/controls",
      "model_module_version": "1.5.0",
      "model_name": "ProgressStyleModel",
      "state": {
       "description_width": ""
      }
     },
     "539d6b397a78472eb11d323cffc61294": {
      "model_module": "@jupyter-widgets/controls",
      "model_module_version": "1.5.0",
      "model_name": "DescriptionStyleModel",
      "state": {
       "description_width": ""
      }
     },
     "5437a4b70147436d8bcabe54470c71eb": {
      "model_module": "@jupyter-widgets/controls",
      "model_module_version": "1.5.0",
      "model_name": "HBoxModel",
      "state": {
       "children": [
        "IPY_MODEL_334b06c353014ffeb1bb0f174c0c3d88",
        "IPY_MODEL_d7b7db76d84d49769e6315da7bbd53e4",
        "IPY_MODEL_683075aebf1549c4aee918e6064f375c"
       ],
       "layout": "IPY_MODEL_b077110ef97e40e19e3c548a9b9f46c1"
      }
     },
     "54d4be5ed4864f28a896dc843ce998bf": {
      "model_module": "@jupyter-widgets/base",
      "model_module_version": "1.2.0",
      "model_name": "LayoutModel",
      "state": {}
     },
     "5517b2e2542e42d4b5335d523300dc50": {
      "model_module": "@jupyter-widgets/controls",
      "model_module_version": "1.5.0",
      "model_name": "ProgressStyleModel",
      "state": {
       "description_width": ""
      }
     },
     "556065ed17bc46b3a5f91165889af774": {
      "model_module": "@jupyter-widgets/controls",
      "model_module_version": "1.5.0",
      "model_name": "DescriptionStyleModel",
      "state": {
       "description_width": ""
      }
     },
     "55a5cdbfa3674dd3a2438650100b6759": {
      "model_module": "@jupyter-widgets/controls",
      "model_module_version": "1.5.0",
      "model_name": "FloatProgressModel",
      "state": {
       "bar_style": "success",
       "layout": "IPY_MODEL_cd6f1cee9f0c45ed90cf0eafad0d08d0",
       "max": 2763,
       "style": "IPY_MODEL_9179893b1048452592f95fcd4ae68e3d",
       "value": 2763
      }
     },
     "56a2848d3b714848ace1a545a60c4d0e": {
      "model_module": "@jupyter-widgets/base",
      "model_module_version": "1.2.0",
      "model_name": "LayoutModel",
      "state": {}
     },
     "56ca5c15ba0f4d369bafba37b02c78dc": {
      "model_module": "@jupyter-widgets/base",
      "model_module_version": "1.2.0",
      "model_name": "LayoutModel",
      "state": {}
     },
     "56eebf4239234cf4a17e8cc79e955c6f": {
      "model_module": "@jupyter-widgets/base",
      "model_module_version": "1.2.0",
      "model_name": "LayoutModel",
      "state": {}
     },
     "5737380854e8448794a513d515937910": {
      "model_module": "@jupyter-widgets/controls",
      "model_module_version": "1.5.0",
      "model_name": "DescriptionStyleModel",
      "state": {
       "description_width": ""
      }
     },
     "574d8f74daae4b1fbb0ee177e7a5274c": {
      "model_module": "@jupyter-widgets/base",
      "model_module_version": "1.2.0",
      "model_name": "LayoutModel",
      "state": {}
     },
     "579aa3f6784f42f4ba6503a8e40174dc": {
      "model_module": "@jupyter-widgets/controls",
      "model_module_version": "1.5.0",
      "model_name": "HTMLModel",
      "state": {
       "layout": "IPY_MODEL_94adb7703ce64618947175e01c688fa6",
       "style": "IPY_MODEL_fb92d8d9dd294170b3e0b994f68bde25",
       "value": " 2541/2541 [00:00&lt;00:00, 3735.96ex/s]"
      }
     },
     "57a0c32eeafc4f89809a098d7dccaebf": {
      "model_module": "@jupyter-widgets/controls",
      "model_module_version": "1.5.0",
      "model_name": "ProgressStyleModel",
      "state": {
       "description_width": ""
      }
     },
     "57aa1c72a37540dea07b55ffd89abb12": {
      "model_module": "@jupyter-widgets/controls",
      "model_module_version": "1.5.0",
      "model_name": "FloatProgressModel",
      "state": {
       "bar_style": "success",
       "layout": "IPY_MODEL_1f8251c9da6d4c50af26ab975031d81e",
       "max": 2763,
       "style": "IPY_MODEL_da1bb6f7d9b94eeea43f1a940d817515",
       "value": 2763
      }
     },
     "58a522d237e94015be9921490f7d9c0d": {
      "model_module": "@jupyter-widgets/base",
      "model_module_version": "1.2.0",
      "model_name": "LayoutModel",
      "state": {}
     },
     "59519d4de40c4f2fb0dfbc0d1f688797": {
      "model_module": "@jupyter-widgets/controls",
      "model_module_version": "1.5.0",
      "model_name": "FloatProgressModel",
      "state": {
       "bar_style": "success",
       "layout": "IPY_MODEL_719158d220494676910593c76b3bb338",
       "max": 2541,
       "style": "IPY_MODEL_c16470f9d1164b0aaa358fd5da2341fd",
       "value": 2541
      }
     },
     "5d652e6f9f354cfabe284f94b18a814f": {
      "model_module": "@jupyter-widgets/base",
      "model_module_version": "1.2.0",
      "model_name": "LayoutModel",
      "state": {}
     },
     "5d6d7e7e695c4b4f9c6a768c406df618": {
      "model_module": "@jupyter-widgets/controls",
      "model_module_version": "1.5.0",
      "model_name": "HTMLModel",
      "state": {
       "layout": "IPY_MODEL_ea459835e4404d39ac7edb5682fd27dd",
       "style": "IPY_MODEL_fe4800adec04465b8592ff9599f64570",
       "value": " 2541/2541 [00:00&lt;00:00, 3935.29ex/s]"
      }
     },
     "5daf2504c55a4a098799e3afc5e33e7a": {
      "model_module": "@jupyter-widgets/controls",
      "model_module_version": "1.5.0",
      "model_name": "DescriptionStyleModel",
      "state": {
       "description_width": ""
      }
     },
     "5e209fe5c7584c008f5cc94c729d1cb4": {
      "model_module": "@jupyter-widgets/controls",
      "model_module_version": "1.5.0",
      "model_name": "DescriptionStyleModel",
      "state": {
       "description_width": ""
      }
     },
     "60bb58562eae4341a5eedc7d7b1d01bb": {
      "model_module": "@jupyter-widgets/controls",
      "model_module_version": "1.5.0",
      "model_name": "HBoxModel",
      "state": {
       "children": [
        "IPY_MODEL_b44e282c5d6e4e8d9d0a19ebc062d608",
        "IPY_MODEL_21010308f837447c8ce72e3515a63186",
        "IPY_MODEL_30d31f85bdf340d8ab5b66fa4c98bf5b"
       ],
       "layout": "IPY_MODEL_8dd92dcd911e4d99896ca974080d25d5"
      }
     },
     "621053030a794eb0b59b404339872ec9": {
      "model_module": "@jupyter-widgets/controls",
      "model_module_version": "1.5.0",
      "model_name": "DescriptionStyleModel",
      "state": {
       "description_width": ""
      }
     },
     "62c3004274ba4e469614d2e663e59ebf": {
      "model_module": "@jupyter-widgets/base",
      "model_module_version": "1.2.0",
      "model_name": "LayoutModel",
      "state": {}
     },
     "635abaf27f6e4e5482b1c879e3b9d22c": {
      "model_module": "@jupyter-widgets/base",
      "model_module_version": "1.2.0",
      "model_name": "LayoutModel",
      "state": {}
     },
     "640767a241da4db1aff27bb529c71a2b": {
      "model_module": "@jupyter-widgets/controls",
      "model_module_version": "1.5.0",
      "model_name": "DescriptionStyleModel",
      "state": {
       "description_width": ""
      }
     },
     "64ad7b8606d14543aba4739ee0a32167": {
      "model_module": "@jupyter-widgets/base",
      "model_module_version": "1.2.0",
      "model_name": "LayoutModel",
      "state": {}
     },
     "64e2fd88ade3473199b928b46f14e531": {
      "model_module": "@jupyter-widgets/controls",
      "model_module_version": "1.5.0",
      "model_name": "FloatProgressModel",
      "state": {
       "bar_style": "success",
       "layout": "IPY_MODEL_2a17ed9cd0e849989103d2e3fb299fc7",
       "max": 17839,
       "style": "IPY_MODEL_3033dd48492e4229b34417033689e6aa",
       "value": 17839
      }
     },
     "6574a769d06d4dfe8609cacef96aa35e": {
      "model_module": "@jupyter-widgets/controls",
      "model_module_version": "1.5.0",
      "model_name": "FloatProgressModel",
      "state": {
       "bar_style": "success",
       "layout": "IPY_MODEL_50667df0963242ab9fbad8ff18a1daf3",
       "max": 2541,
       "style": "IPY_MODEL_8d67e2a3c9bc47febff5a9c185a696db",
       "value": 2541
      }
     },
     "65f0841a564449b5a32fdde06f7b38e0": {
      "model_module": "@jupyter-widgets/base",
      "model_module_version": "1.2.0",
      "model_name": "LayoutModel",
      "state": {}
     },
     "679110854ddb4c188db7afa00b3e7eed": {
      "model_module": "@jupyter-widgets/controls",
      "model_module_version": "1.5.0",
      "model_name": "FloatProgressModel",
      "state": {
       "bar_style": "success",
       "layout": "IPY_MODEL_56eebf4239234cf4a17e8cc79e955c6f",
       "max": 17839,
       "style": "IPY_MODEL_10cfeb0e6c0a491786a6fe355330b1d1",
       "value": 17839
      }
     },
     "6825319440c543a99f7f85ac3eab80e4": {
      "model_module": "@jupyter-widgets/base",
      "model_module_version": "1.2.0",
      "model_name": "LayoutModel",
      "state": {}
     },
     "683075aebf1549c4aee918e6064f375c": {
      "model_module": "@jupyter-widgets/controls",
      "model_module_version": "1.5.0",
      "model_name": "HTMLModel",
      "state": {
       "layout": "IPY_MODEL_24781448a4ae4fc79e9223e11d00e06e",
       "style": "IPY_MODEL_f46267eef6d4418fb739f2de4079ed4e",
       "value": " 2541/2541 [00:00&lt;00:00, 3438.66ex/s]"
      }
     },
     "68c5eccbb1a242c58b379343b53a807c": {
      "model_module": "@jupyter-widgets/base",
      "model_module_version": "1.2.0",
      "model_name": "LayoutModel",
      "state": {}
     },
     "697d3611a3af4c38b47e9fe9b162bbf6": {
      "model_module": "@jupyter-widgets/controls",
      "model_module_version": "1.5.0",
      "model_name": "DescriptionStyleModel",
      "state": {
       "description_width": ""
      }
     },
     "6a9d4c9e29a24842bee83abf61f299b4": {
      "model_module": "@jupyter-widgets/controls",
      "model_module_version": "1.5.0",
      "model_name": "HBoxModel",
      "state": {
       "children": [
        "IPY_MODEL_c8b646aa38b1402eaec3608963407b6c",
        "IPY_MODEL_4ee6e598ee9c485faeb4f10ade78d019",
        "IPY_MODEL_8e306bb4754e4dc1ae42d8fa48eeed3f"
       ],
       "layout": "IPY_MODEL_528048636d2241a88fcfe0f60d3ba348"
      }
     },
     "6aae79c943274156aac05e46873366eb": {
      "model_module": "@jupyter-widgets/controls",
      "model_module_version": "1.5.0",
      "model_name": "DescriptionStyleModel",
      "state": {
       "description_width": ""
      }
     },
     "6bdbe4e5f37a449796e3eeaf75f30e2e": {
      "model_module": "@jupyter-widgets/base",
      "model_module_version": "1.2.0",
      "model_name": "LayoutModel",
      "state": {}
     },
     "6c89a433ee004aa9a9e79f0e4ca2d93a": {
      "model_module": "@jupyter-widgets/base",
      "model_module_version": "1.2.0",
      "model_name": "LayoutModel",
      "state": {}
     },
     "6cee97f252f9480794192e3928e81dbe": {
      "model_module": "@jupyter-widgets/controls",
      "model_module_version": "1.5.0",
      "model_name": "HBoxModel",
      "state": {
       "children": [
        "IPY_MODEL_e3373e88abff489d91bee965d323ebf5",
        "IPY_MODEL_47265179b85c4475bbb5d2f0858f771a",
        "IPY_MODEL_af24abd5e710408f936f84b515ec9eec"
       ],
       "layout": "IPY_MODEL_e2b42be6d4fd4816931ccce6f9e0737e"
      }
     },
     "6ceec41272c54cc88c8a24ca27c61729": {
      "model_module": "@jupyter-widgets/controls",
      "model_module_version": "1.5.0",
      "model_name": "ProgressStyleModel",
      "state": {
       "description_width": ""
      }
     },
     "6d752e8da5c24b0092feb23628f5e7fb": {
      "model_module": "@jupyter-widgets/base",
      "model_module_version": "1.2.0",
      "model_name": "LayoutModel",
      "state": {}
     },
     "6dd0ab74b3d84f0cb790eebed1daa9ef": {
      "model_module": "@jupyter-widgets/controls",
      "model_module_version": "1.5.0",
      "model_name": "DescriptionStyleModel",
      "state": {
       "description_width": ""
      }
     },
     "6f0f0e01a6084d12a84c21855fe2426b": {
      "model_module": "@jupyter-widgets/controls",
      "model_module_version": "1.5.0",
      "model_name": "HBoxModel",
      "state": {
       "children": [
        "IPY_MODEL_4a1e37ff232941d6858499d6bec68af4",
        "IPY_MODEL_0ad222d037684f3494e913ed2461ce99",
        "IPY_MODEL_579aa3f6784f42f4ba6503a8e40174dc"
       ],
       "layout": "IPY_MODEL_89500776a6fc4c348aff79b1da73bf17"
      }
     },
     "6f1d6cd8be6c4d4eb66883d2fcd928b3": {
      "model_module": "@jupyter-widgets/controls",
      "model_module_version": "1.5.0",
      "model_name": "ProgressStyleModel",
      "state": {
       "description_width": ""
      }
     },
     "6f4eb132e7f740a0b93195ddc57201c0": {
      "model_module": "@jupyter-widgets/base",
      "model_module_version": "1.2.0",
      "model_name": "LayoutModel",
      "state": {}
     },
     "705cd95a66534699891d9c7eb84464a0": {
      "model_module": "@jupyter-widgets/controls",
      "model_module_version": "1.5.0",
      "model_name": "DescriptionStyleModel",
      "state": {
       "description_width": ""
      }
     },
     "719158d220494676910593c76b3bb338": {
      "model_module": "@jupyter-widgets/base",
      "model_module_version": "1.2.0",
      "model_name": "LayoutModel",
      "state": {}
     },
     "7214814efe8b488ca785f58e490ce5dd": {
      "model_module": "@jupyter-widgets/controls",
      "model_module_version": "1.5.0",
      "model_name": "ProgressStyleModel",
      "state": {
       "description_width": ""
      }
     },
     "72e0ac3da17f4432bacf1c2f98ef393c": {
      "model_module": "@jupyter-widgets/base",
      "model_module_version": "1.2.0",
      "model_name": "LayoutModel",
      "state": {}
     },
     "73aeef01592f410182017f621b371222": {
      "model_module": "@jupyter-widgets/base",
      "model_module_version": "1.2.0",
      "model_name": "LayoutModel",
      "state": {}
     },
     "7435107558af41178b8a79775b35536d": {
      "model_module": "@jupyter-widgets/controls",
      "model_module_version": "1.5.0",
      "model_name": "DescriptionStyleModel",
      "state": {
       "description_width": ""
      }
     },
     "74855981321e4ab990e0f4df9b40a40b": {
      "model_module": "@jupyter-widgets/controls",
      "model_module_version": "1.5.0",
      "model_name": "DescriptionStyleModel",
      "state": {
       "description_width": ""
      }
     },
     "75068b72233b4e97b81ac8d1995f7712": {
      "model_module": "@jupyter-widgets/base",
      "model_module_version": "1.2.0",
      "model_name": "LayoutModel",
      "state": {}
     },
     "758db6a91ab24984894b05e248a6c3e4": {
      "model_module": "@jupyter-widgets/controls",
      "model_module_version": "1.5.0",
      "model_name": "FloatProgressModel",
      "state": {
       "bar_style": "success",
       "layout": "IPY_MODEL_c2f93e56e5ea45059de335b218bf1180",
       "max": 17839,
       "style": "IPY_MODEL_6ceec41272c54cc88c8a24ca27c61729",
       "value": 17839
      }
     },
     "768fbbbfacc24a509c775d5bf6b9eb49": {
      "model_module": "@jupyter-widgets/base",
      "model_module_version": "1.2.0",
      "model_name": "LayoutModel",
      "state": {}
     },
     "76e3f4d2acc14784b0b779c3cf8a7fb1": {
      "model_module": "@jupyter-widgets/controls",
      "model_module_version": "1.5.0",
      "model_name": "DescriptionStyleModel",
      "state": {
       "description_width": ""
      }
     },
     "775c890505d743ff8d9c16ce3246d2cd": {
      "model_module": "@jupyter-widgets/base",
      "model_module_version": "1.2.0",
      "model_name": "LayoutModel",
      "state": {}
     },
     "78bfaeb15a284cb2b9b0305aae958686": {
      "model_module": "@jupyter-widgets/controls",
      "model_module_version": "1.5.0",
      "model_name": "HTMLModel",
      "state": {
       "layout": "IPY_MODEL_10ef6bbcd68d44bbacc3e25fbb39e9a3",
       "style": "IPY_MODEL_db3681eb0cab4948a13712b666d4fd57",
       "value": " 2763/2763 [00:00&lt;00:00, 3876.06ex/s]"
      }
     },
     "79415a547667469a9f02aaf746b60b38": {
      "model_module": "@jupyter-widgets/controls",
      "model_module_version": "1.5.0",
      "model_name": "DescriptionStyleModel",
      "state": {
       "description_width": ""
      }
     },
     "7b9337952e4b4e59a1a43d04ecb202da": {
      "model_module": "@jupyter-widgets/base",
      "model_module_version": "1.2.0",
      "model_name": "LayoutModel",
      "state": {}
     },
     "7ddca92a68044165948c199d3901779b": {
      "model_module": "@jupyter-widgets/controls",
      "model_module_version": "1.5.0",
      "model_name": "HBoxModel",
      "state": {
       "children": [
        "IPY_MODEL_cce83dfb1ea942fe84d1f1a5d7580b8e",
        "IPY_MODEL_a8b5fa419f7e435293035c7b5b8ce899",
        "IPY_MODEL_807f903e3e064489b0cf284b70184882"
       ],
       "layout": "IPY_MODEL_8134649f5d01493ca2fa00ee6fb2f171"
      }
     },
     "7e44b3f86f73437cac0922c34b5515b2": {
      "model_module": "@jupyter-widgets/controls",
      "model_module_version": "1.5.0",
      "model_name": "ProgressStyleModel",
      "state": {
       "description_width": ""
      }
     },
     "7e9c77508aa04d18a4b47549d40eb026": {
      "model_module": "@jupyter-widgets/base",
      "model_module_version": "1.2.0",
      "model_name": "LayoutModel",
      "state": {}
     },
     "7ec5a985ed26492a8cfd96d50da9c65c": {
      "model_module": "@jupyter-widgets/controls",
      "model_module_version": "1.5.0",
      "model_name": "DescriptionStyleModel",
      "state": {
       "description_width": ""
      }
     },
     "7f505c1051d04dc7be50d5c184b7248b": {
      "model_module": "@jupyter-widgets/base",
      "model_module_version": "1.2.0",
      "model_name": "LayoutModel",
      "state": {}
     },
     "7f5d5f4a4b8d43df9a26cfe9c59c220e": {
      "model_module": "@jupyter-widgets/controls",
      "model_module_version": "1.5.0",
      "model_name": "HTMLModel",
      "state": {
       "layout": "IPY_MODEL_27a7e8d428c84549ac8a422b20dde6b1",
       "style": "IPY_MODEL_855844dd66ad48409d901f0444af84cf",
       "value": "100%"
      }
     },
     "8030ea01a69e4e738c1d5f83ca3eded6": {
      "model_module": "@jupyter-widgets/base",
      "model_module_version": "1.2.0",
      "model_name": "LayoutModel",
      "state": {}
     },
     "8040060700a24b9695b805b2b97d9b80": {
      "model_module": "@jupyter-widgets/base",
      "model_module_version": "1.2.0",
      "model_name": "LayoutModel",
      "state": {}
     },
     "807f903e3e064489b0cf284b70184882": {
      "model_module": "@jupyter-widgets/controls",
      "model_module_version": "1.5.0",
      "model_name": "HTMLModel",
      "state": {
       "layout": "IPY_MODEL_d3081aad132d46b7bbad858453939bf3",
       "style": "IPY_MODEL_556065ed17bc46b3a5f91165889af774",
       "value": " 17839/17839 [00:05&lt;00:00, 3119.88ex/s]"
      }
     },
     "80f62c44cd16440cb94a38f936de9b01": {
      "model_module": "@jupyter-widgets/controls",
      "model_module_version": "1.5.0",
      "model_name": "HTMLModel",
      "state": {
       "layout": "IPY_MODEL_b5a18e0cc710467ca0b853393f639551",
       "style": "IPY_MODEL_50cdcf063e18428b9085b81d9fd59585",
       "value": "100%"
      }
     },
     "8134649f5d01493ca2fa00ee6fb2f171": {
      "model_module": "@jupyter-widgets/base",
      "model_module_version": "1.2.0",
      "model_name": "LayoutModel",
      "state": {}
     },
     "81dc317b6dcd454ab27e6b50e997b7d2": {
      "model_module": "@jupyter-widgets/controls",
      "model_module_version": "1.5.0",
      "model_name": "DescriptionStyleModel",
      "state": {
       "description_width": ""
      }
     },
     "824518de2d2941c089d52e432248eddb": {
      "model_module": "@jupyter-widgets/controls",
      "model_module_version": "1.5.0",
      "model_name": "DescriptionStyleModel",
      "state": {
       "description_width": ""
      }
     },
     "83f21b7f9b5746199323336917ebc4c6": {
      "model_module": "@jupyter-widgets/base",
      "model_module_version": "1.2.0",
      "model_name": "LayoutModel",
      "state": {}
     },
     "84252999759b4769bfc05b025864fc10": {
      "model_module": "@jupyter-widgets/base",
      "model_module_version": "1.2.0",
      "model_name": "LayoutModel",
      "state": {}
     },
     "8471f58af4474e1383021a55809c8463": {
      "model_module": "@jupyter-widgets/base",
      "model_module_version": "1.2.0",
      "model_name": "LayoutModel",
      "state": {}
     },
     "84b443f9c0394df29030e723ee0b0744": {
      "model_module": "@jupyter-widgets/controls",
      "model_module_version": "1.5.0",
      "model_name": "DescriptionStyleModel",
      "state": {
       "description_width": ""
      }
     },
     "855844dd66ad48409d901f0444af84cf": {
      "model_module": "@jupyter-widgets/controls",
      "model_module_version": "1.5.0",
      "model_name": "DescriptionStyleModel",
      "state": {
       "description_width": ""
      }
     },
     "85fb2a1dcd59457cbc3e48b09a7e18eb": {
      "model_module": "@jupyter-widgets/controls",
      "model_module_version": "1.5.0",
      "model_name": "HBoxModel",
      "state": {
       "children": [
        "IPY_MODEL_5151cbed15854ea4bad4ce87e35bd00d",
        "IPY_MODEL_2efef6bc94cc4f16a6c8df47dca257ca",
        "IPY_MODEL_35021b94e3694b3fb018c487721dd7b4"
       ],
       "layout": "IPY_MODEL_c5780c5a8ec1453382a3553509f88508"
      }
     },
     "89500776a6fc4c348aff79b1da73bf17": {
      "model_module": "@jupyter-widgets/base",
      "model_module_version": "1.2.0",
      "model_name": "LayoutModel",
      "state": {}
     },
     "8aac1686a07a405896b45ee61a8afd83": {
      "model_module": "@jupyter-widgets/base",
      "model_module_version": "1.2.0",
      "model_name": "LayoutModel",
      "state": {}
     },
     "8ae4331939db4734b74c02f73ad27c5c": {
      "model_module": "@jupyter-widgets/controls",
      "model_module_version": "1.5.0",
      "model_name": "FloatProgressModel",
      "state": {
       "bar_style": "success",
       "layout": "IPY_MODEL_62c3004274ba4e469614d2e663e59ebf",
       "max": 2763,
       "style": "IPY_MODEL_a214c278b1d34b6fb80f3e9f3af2ceaa",
       "value": 2763
      }
     },
     "8cc5c01dc32a416e9b498e68aafc41f2": {
      "model_module": "@jupyter-widgets/controls",
      "model_module_version": "1.5.0",
      "model_name": "HTMLModel",
      "state": {
       "layout": "IPY_MODEL_84252999759b4769bfc05b025864fc10",
       "style": "IPY_MODEL_7ec5a985ed26492a8cfd96d50da9c65c",
       "value": "100%"
      }
     },
     "8d4c2133fc08418f8dc8e205eb39f157": {
      "model_module": "@jupyter-widgets/controls",
      "model_module_version": "1.5.0",
      "model_name": "DescriptionStyleModel",
      "state": {
       "description_width": ""
      }
     },
     "8d67e2a3c9bc47febff5a9c185a696db": {
      "model_module": "@jupyter-widgets/controls",
      "model_module_version": "1.5.0",
      "model_name": "ProgressStyleModel",
      "state": {
       "description_width": ""
      }
     },
     "8dd92dcd911e4d99896ca974080d25d5": {
      "model_module": "@jupyter-widgets/base",
      "model_module_version": "1.2.0",
      "model_name": "LayoutModel",
      "state": {}
     },
     "8e2ef0390f4f446da470e4d614bd40fd": {
      "model_module": "@jupyter-widgets/base",
      "model_module_version": "1.2.0",
      "model_name": "LayoutModel",
      "state": {}
     },
     "8e306bb4754e4dc1ae42d8fa48eeed3f": {
      "model_module": "@jupyter-widgets/controls",
      "model_module_version": "1.5.0",
      "model_name": "HTMLModel",
      "state": {
       "layout": "IPY_MODEL_b1b48ffbd0204341a630d78dbad12fbf",
       "style": "IPY_MODEL_76e3f4d2acc14784b0b779c3cf8a7fb1",
       "value": " 17839/17839 [00:05&lt;00:00, 3297.49ex/s]"
      }
     },
     "8ed24faef5a744bdaf56fea39757c49b": {
      "model_module": "@jupyter-widgets/base",
      "model_module_version": "1.2.0",
      "model_name": "LayoutModel",
      "state": {}
     },
     "8f2056f1a3764ce8885c786b6d28a5d1": {
      "model_module": "@jupyter-widgets/base",
      "model_module_version": "1.2.0",
      "model_name": "LayoutModel",
      "state": {}
     },
     "902534e763f34b2993c58099369cedbd": {
      "model_module": "@jupyter-widgets/base",
      "model_module_version": "1.2.0",
      "model_name": "LayoutModel",
      "state": {}
     },
     "9069bf307d474c8aba39ce551b2228fd": {
      "model_module": "@jupyter-widgets/controls",
      "model_module_version": "1.5.0",
      "model_name": "HTMLModel",
      "state": {
       "layout": "IPY_MODEL_d2cd1de4b07c4e2a8e72f8baea2c3c91",
       "style": "IPY_MODEL_ef3a062e26f2492d8803d7ee77a3f467",
       "value": " 17839/17839 [00:05&lt;00:00, 3085.89ex/s]"
      }
     },
     "9179893b1048452592f95fcd4ae68e3d": {
      "model_module": "@jupyter-widgets/controls",
      "model_module_version": "1.5.0",
      "model_name": "ProgressStyleModel",
      "state": {
       "description_width": ""
      }
     },
     "9242f313174f4cda8db0ea6284e6afad": {
      "model_module": "@jupyter-widgets/controls",
      "model_module_version": "1.5.0",
      "model_name": "FloatProgressModel",
      "state": {
       "bar_style": "success",
       "layout": "IPY_MODEL_8f2056f1a3764ce8885c786b6d28a5d1",
       "max": 2763,
       "style": "IPY_MODEL_04f6e2b6064249e8850bbf7b1a0c3a60",
       "value": 2763
      }
     },
     "936dc621544e4c9383b5f4c469bde75c": {
      "model_module": "@jupyter-widgets/controls",
      "model_module_version": "1.5.0",
      "model_name": "HBoxModel",
      "state": {
       "children": [
        "IPY_MODEL_8cc5c01dc32a416e9b498e68aafc41f2",
        "IPY_MODEL_1264b85d6b8c4c87aedc73a64afd159b",
        "IPY_MODEL_3e8fe9e328594127a09d7082ebf22ecd"
       ],
       "layout": "IPY_MODEL_902534e763f34b2993c58099369cedbd"
      }
     },
     "94adb7703ce64618947175e01c688fa6": {
      "model_module": "@jupyter-widgets/base",
      "model_module_version": "1.2.0",
      "model_name": "LayoutModel",
      "state": {}
     },
     "97476ca69869468c8bc8dc1917684e13": {
      "model_module": "@jupyter-widgets/controls",
      "model_module_version": "1.5.0",
      "model_name": "HTMLModel",
      "state": {
       "layout": "IPY_MODEL_5d652e6f9f354cfabe284f94b18a814f",
       "style": "IPY_MODEL_3c18509ef8e645b09ddbad7f53cbf0eb",
       "value": "100%"
      }
     },
     "97b4fd26ed92499aa1bb281061d663ba": {
      "model_module": "@jupyter-widgets/controls",
      "model_module_version": "1.5.0",
      "model_name": "HBoxModel",
      "state": {
       "children": [
        "IPY_MODEL_37304c7226a747e1999988f3d978e4bf",
        "IPY_MODEL_c889ac2a226f46d69c81f2d68d13fbc7",
        "IPY_MODEL_f38eee65d2ef469f995661fc8a499124"
       ],
       "layout": "IPY_MODEL_e6e3ccd10d614f788ec1d3ed2bcb26f4"
      }
     },
     "97d389fb09c0498b912faec5d080f5ec": {
      "model_module": "@jupyter-widgets/controls",
      "model_module_version": "1.5.0",
      "model_name": "FloatProgressModel",
      "state": {
       "bar_style": "success",
       "layout": "IPY_MODEL_8e2ef0390f4f446da470e4d614bd40fd",
       "max": 17839,
       "style": "IPY_MODEL_5343b3c79ee943bc8dd28c67557fba57",
       "value": 17839
      }
     },
     "98816b3ad9e3488db092dddf03232576": {
      "model_module": "@jupyter-widgets/base",
      "model_module_version": "1.2.0",
      "model_name": "LayoutModel",
      "state": {}
     },
     "9c73de3a61f240fa98d90bff22e1a098": {
      "model_module": "@jupyter-widgets/controls",
      "model_module_version": "1.5.0",
      "model_name": "HTMLModel",
      "state": {
       "layout": "IPY_MODEL_635abaf27f6e4e5482b1c879e3b9d22c",
       "style": "IPY_MODEL_a1ee28a144fe45adb11023eeb6d54511",
       "value": " 2541/2541 [00:00&lt;00:00, 3721.00ex/s]"
      }
     },
     "9f2369bdf034406396ae35771b9c1283": {
      "model_module": "@jupyter-widgets/base",
      "model_module_version": "1.2.0",
      "model_name": "LayoutModel",
      "state": {}
     },
     "a02531d82300432ba797b2fb87e546c2": {
      "model_module": "@jupyter-widgets/controls",
      "model_module_version": "1.5.0",
      "model_name": "FloatProgressModel",
      "state": {
       "bar_style": "success",
       "layout": "IPY_MODEL_33597acaf4c04454abf5e95baffbdd75",
       "max": 2541,
       "style": "IPY_MODEL_d3030f086dbf4863aee86df2372565c0",
       "value": 2541
      }
     },
     "a08ce5f4fd394cd99b1d6b0847c3eab0": {
      "model_module": "@jupyter-widgets/base",
      "model_module_version": "1.2.0",
      "model_name": "LayoutModel",
      "state": {}
     },
     "a160804c0f4b4a20836bf63abfe84d7f": {
      "model_module": "@jupyter-widgets/controls",
      "model_module_version": "1.5.0",
      "model_name": "DescriptionStyleModel",
      "state": {
       "description_width": ""
      }
     },
     "a174869b41ad4075bf24b727ff3d8cae": {
      "model_module": "@jupyter-widgets/controls",
      "model_module_version": "1.5.0",
      "model_name": "HTMLModel",
      "state": {
       "layout": "IPY_MODEL_8aac1686a07a405896b45ee61a8afd83",
       "style": "IPY_MODEL_f112d03f46bd4e78a309fb53a6bd7d92",
       "value": " 2763/2763 [00:00&lt;00:00, 3905.32ex/s]"
      }
     },
     "a1b23e305cbb49dca22c663eb1057c5b": {
      "model_module": "@jupyter-widgets/controls",
      "model_module_version": "1.5.0",
      "model_name": "HBoxModel",
      "state": {
       "children": [
        "IPY_MODEL_80f62c44cd16440cb94a38f936de9b01",
        "IPY_MODEL_64e2fd88ade3473199b928b46f14e531",
        "IPY_MODEL_bef0dad6f1134175b4c67d0f6f875d02"
       ],
       "layout": "IPY_MODEL_8ed24faef5a744bdaf56fea39757c49b"
      }
     },
     "a1ee28a144fe45adb11023eeb6d54511": {
      "model_module": "@jupyter-widgets/controls",
      "model_module_version": "1.5.0",
      "model_name": "DescriptionStyleModel",
      "state": {
       "description_width": ""
      }
     },
     "a214c278b1d34b6fb80f3e9f3af2ceaa": {
      "model_module": "@jupyter-widgets/controls",
      "model_module_version": "1.5.0",
      "model_name": "ProgressStyleModel",
      "state": {
       "description_width": ""
      }
     },
     "a29a57c63771423ab02a35d3791590f2": {
      "model_module": "@jupyter-widgets/base",
      "model_module_version": "1.2.0",
      "model_name": "LayoutModel",
      "state": {}
     },
     "a3ac84f1866d418ba0332fbbc216a480": {
      "model_module": "@jupyter-widgets/base",
      "model_module_version": "1.2.0",
      "model_name": "LayoutModel",
      "state": {}
     },
     "a3ae76a0a76f48a09968661a5fcce3b0": {
      "model_module": "@jupyter-widgets/controls",
      "model_module_version": "1.5.0",
      "model_name": "HBoxModel",
      "state": {
       "children": [
        "IPY_MODEL_f4b38217fbc9433d93a4e6a9543bec9c",
        "IPY_MODEL_515d4d3bfc5c4be98704851607184be2",
        "IPY_MODEL_e6dd6492b5554fb38676601d7264ab90"
       ],
       "layout": "IPY_MODEL_13610dffb2aa483093476f8b800199a7"
      }
     },
     "a3fb508bf9b3430baa56299e3c61ce43": {
      "model_module": "@jupyter-widgets/controls",
      "model_module_version": "1.5.0",
      "model_name": "HBoxModel",
      "state": {
       "children": [
        "IPY_MODEL_4c0ff487f48a46bc901cd9db7ec4bfc7",
        "IPY_MODEL_a02531d82300432ba797b2fb87e546c2",
        "IPY_MODEL_b12e93bcf3e34862975dda59c85b51cc"
       ],
       "layout": "IPY_MODEL_3e3a832dc830429fa71feee745db2c50"
      }
     },
     "a422e39956114f0cb985fcc7aceb327f": {
      "model_module": "@jupyter-widgets/base",
      "model_module_version": "1.2.0",
      "model_name": "LayoutModel",
      "state": {}
     },
     "a5dab85c9d094463993671247247e7bb": {
      "model_module": "@jupyter-widgets/base",
      "model_module_version": "1.2.0",
      "model_name": "LayoutModel",
      "state": {}
     },
     "a5dfae27245c4a19b57fdf74d739183f": {
      "model_module": "@jupyter-widgets/controls",
      "model_module_version": "1.5.0",
      "model_name": "DescriptionStyleModel",
      "state": {
       "description_width": ""
      }
     },
     "a74a92ad91bb4342a3b3d71c63499fda": {
      "model_module": "@jupyter-widgets/base",
      "model_module_version": "1.2.0",
      "model_name": "LayoutModel",
      "state": {}
     },
     "a7594239078545fcbc735f7248a367b7": {
      "model_module": "@jupyter-widgets/base",
      "model_module_version": "1.2.0",
      "model_name": "LayoutModel",
      "state": {}
     },
     "a7eb325018eb4081b0bcc21068e53e91": {
      "model_module": "@jupyter-widgets/controls",
      "model_module_version": "1.5.0",
      "model_name": "HTMLModel",
      "state": {
       "layout": "IPY_MODEL_1e4d946a50aa4ea6a92d0ab9f00332e7",
       "style": "IPY_MODEL_81dc317b6dcd454ab27e6b50e997b7d2",
       "value": "100%"
      }
     },
     "a8b5fa419f7e435293035c7b5b8ce899": {
      "model_module": "@jupyter-widgets/controls",
      "model_module_version": "1.5.0",
      "model_name": "FloatProgressModel",
      "state": {
       "bar_style": "success",
       "layout": "IPY_MODEL_7b9337952e4b4e59a1a43d04ecb202da",
       "max": 17839,
       "style": "IPY_MODEL_f2bac1ca329449bea441ab1b19abe4b9",
       "value": 17839
      }
     },
     "a8f0fa8720634a239ea71df8105b0a6c": {
      "model_module": "@jupyter-widgets/controls",
      "model_module_version": "1.5.0",
      "model_name": "DescriptionStyleModel",
      "state": {
       "description_width": ""
      }
     },
     "a9cd0045c843456a9bcd84eaf0a4f6a4": {
      "model_module": "@jupyter-widgets/controls",
      "model_module_version": "1.5.0",
      "model_name": "HBoxModel",
      "state": {
       "children": [
        "IPY_MODEL_308cd4b018e54f3fb7f98b7191d93f4f",
        "IPY_MODEL_3ce8b76902d64370bd4b791005ffb172",
        "IPY_MODEL_234c96c7e49f47ea87c524d0d9342b29"
       ],
       "layout": "IPY_MODEL_6c89a433ee004aa9a9e79f0e4ca2d93a"
      }
     },
     "aaa304de29504ba1b6f6065b4b3617c4": {
      "model_module": "@jupyter-widgets/controls",
      "model_module_version": "1.5.0",
      "model_name": "DescriptionStyleModel",
      "state": {
       "description_width": ""
      }
     },
     "aac40531c2b740a182394d35d881961c": {
      "model_module": "@jupyter-widgets/base",
      "model_module_version": "1.2.0",
      "model_name": "LayoutModel",
      "state": {}
     },
     "ab0dd8d782ea41cdb157f3b2c3c23f91": {
      "model_module": "@jupyter-widgets/base",
      "model_module_version": "1.2.0",
      "model_name": "LayoutModel",
      "state": {}
     },
     "aeb18fa53ade4199a78fe4f0e589768c": {
      "model_module": "@jupyter-widgets/controls",
      "model_module_version": "1.5.0",
      "model_name": "HBoxModel",
      "state": {
       "children": [
        "IPY_MODEL_3a817f8d7f234c40ac2c17782e5ffea0",
        "IPY_MODEL_426493da0e7543b6bc520dd5f3645054",
        "IPY_MODEL_ba0b8f96213d4d119f0bcad96985e089"
       ],
       "layout": "IPY_MODEL_dde2fae34e2c494095553efbb7341c90"
      }
     },
     "af24abd5e710408f936f84b515ec9eec": {
      "model_module": "@jupyter-widgets/controls",
      "model_module_version": "1.5.0",
      "model_name": "HTMLModel",
      "state": {
       "layout": "IPY_MODEL_322e8f63003848f89fae7c1a2819ac39",
       "style": "IPY_MODEL_d79cb7cae67a457895105cd93c69d563",
       "value": " 2541/2541 [00:00&lt;00:00, 3837.92ex/s]"
      }
     },
     "affb3da71f1c4951a36b76dd40e33c6b": {
      "model_module": "@jupyter-widgets/base",
      "model_module_version": "1.2.0",
      "model_name": "LayoutModel",
      "state": {}
     },
     "b01c09e210d045c98d9ae0e0b5a0605a": {
      "model_module": "@jupyter-widgets/controls",
      "model_module_version": "1.5.0",
      "model_name": "ProgressStyleModel",
      "state": {
       "description_width": ""
      }
     },
     "b077110ef97e40e19e3c548a9b9f46c1": {
      "model_module": "@jupyter-widgets/base",
      "model_module_version": "1.2.0",
      "model_name": "LayoutModel",
      "state": {}
     },
     "b12e93bcf3e34862975dda59c85b51cc": {
      "model_module": "@jupyter-widgets/controls",
      "model_module_version": "1.5.0",
      "model_name": "HTMLModel",
      "state": {
       "layout": "IPY_MODEL_f5e5ea29ad1548ab9bb5fcfd0b3d876e",
       "style": "IPY_MODEL_52c6b4b2255b4c8f8bec4985dabac117",
       "value": " 2541/2541 [00:00&lt;00:00, 3792.18ex/s]"
      }
     },
     "b1987f94e6cc4afca47aa3297100b6b6": {
      "model_module": "@jupyter-widgets/controls",
      "model_module_version": "1.5.0",
      "model_name": "DescriptionStyleModel",
      "state": {
       "description_width": ""
      }
     },
     "b1b48ffbd0204341a630d78dbad12fbf": {
      "model_module": "@jupyter-widgets/base",
      "model_module_version": "1.2.0",
      "model_name": "LayoutModel",
      "state": {}
     },
     "b304c9a1b84c46719887234c000c96bf": {
      "model_module": "@jupyter-widgets/controls",
      "model_module_version": "1.5.0",
      "model_name": "HTMLModel",
      "state": {
       "layout": "IPY_MODEL_52426143b20649279320b3a1d239d396",
       "style": "IPY_MODEL_eebd6dcb446040ba8995cc2a4f85c3fa",
       "value": " 2541/2541 [00:00&lt;00:00, 21045.20ex/s]"
      }
     },
     "b32649a7ba144198aeba2977ade8747c": {
      "model_module": "@jupyter-widgets/controls",
      "model_module_version": "1.5.0",
      "model_name": "DescriptionStyleModel",
      "state": {
       "description_width": ""
      }
     },
     "b3a10da548ca4f3d91eb67b3b0b533b4": {
      "model_module": "@jupyter-widgets/controls",
      "model_module_version": "1.5.0",
      "model_name": "FloatProgressModel",
      "state": {
       "bar_style": "success",
       "layout": "IPY_MODEL_98816b3ad9e3488db092dddf03232576",
       "max": 2541,
       "style": "IPY_MODEL_c9bd6f7111ba482bb0a2567cf5a65778",
       "value": 2541
      }
     },
     "b418f78d88b84d28b50bee264edf4f45": {
      "model_module": "@jupyter-widgets/base",
      "model_module_version": "1.2.0",
      "model_name": "LayoutModel",
      "state": {}
     },
     "b44e282c5d6e4e8d9d0a19ebc062d608": {
      "model_module": "@jupyter-widgets/controls",
      "model_module_version": "1.5.0",
      "model_name": "HTMLModel",
      "state": {
       "layout": "IPY_MODEL_aac40531c2b740a182394d35d881961c",
       "style": "IPY_MODEL_79415a547667469a9f02aaf746b60b38",
       "value": "100%"
      }
     },
     "b49433c74cde4ca3b44cbe0c189f68e4": {
      "model_module": "@jupyter-widgets/controls",
      "model_module_version": "1.5.0",
      "model_name": "DescriptionStyleModel",
      "state": {
       "description_width": ""
      }
     },
     "b5a18e0cc710467ca0b853393f639551": {
      "model_module": "@jupyter-widgets/base",
      "model_module_version": "1.2.0",
      "model_name": "LayoutModel",
      "state": {}
     },
     "b6c592cf79f14e63ad2ab5b84164b16a": {
      "model_module": "@jupyter-widgets/base",
      "model_module_version": "1.2.0",
      "model_name": "LayoutModel",
      "state": {}
     },
     "ba0b8f96213d4d119f0bcad96985e089": {
      "model_module": "@jupyter-widgets/controls",
      "model_module_version": "1.5.0",
      "model_name": "HTMLModel",
      "state": {
       "layout": "IPY_MODEL_44249733c2b9479088ec54c31e42b8fb",
       "style": "IPY_MODEL_a8f0fa8720634a239ea71df8105b0a6c",
       "value": " 17839/17839 [00:05&lt;00:00, 3167.59ex/s]"
      }
     },
     "bb5921bcbea84a028e2792fcd13fdd5a": {
      "model_module": "@jupyter-widgets/controls",
      "model_module_version": "1.5.0",
      "model_name": "ProgressStyleModel",
      "state": {
       "description_width": ""
      }
     },
     "be906f4ff30a4d80b5b2938ba3963d59": {
      "model_module": "@jupyter-widgets/base",
      "model_module_version": "1.2.0",
      "model_name": "LayoutModel",
      "state": {}
     },
     "be931f3ee5bc4954980b0bdc0c385640": {
      "model_module": "@jupyter-widgets/controls",
      "model_module_version": "1.5.0",
      "model_name": "FloatProgressModel",
      "state": {
       "bar_style": "success",
       "layout": "IPY_MODEL_8030ea01a69e4e738c1d5f83ca3eded6",
       "max": 2763,
       "style": "IPY_MODEL_f4224fc7503147bb9ae77b74cb7bcbc5",
       "value": 2763
      }
     },
     "bef0dad6f1134175b4c67d0f6f875d02": {
      "model_module": "@jupyter-widgets/controls",
      "model_module_version": "1.5.0",
      "model_name": "HTMLModel",
      "state": {
       "layout": "IPY_MODEL_075834d6e31047739d8c86137ca75d1c",
       "style": "IPY_MODEL_0ca52f22b4bc497d9c6d3467b9a69e58",
       "value": " 17839/17839 [00:05&lt;00:00, 3079.55ex/s]"
      }
     },
     "c066de423f92430aaaf426321f648827": {
      "model_module": "@jupyter-widgets/base",
      "model_module_version": "1.2.0",
      "model_name": "LayoutModel",
      "state": {}
     },
     "c0a2f42990824c1089346498fcf5336a": {
      "model_module": "@jupyter-widgets/controls",
      "model_module_version": "1.5.0",
      "model_name": "HBoxModel",
      "state": {
       "children": [
        "IPY_MODEL_e73fc1faa206427b853f4c37f6801993",
        "IPY_MODEL_758db6a91ab24984894b05e248a6c3e4",
        "IPY_MODEL_f22f9d33fa794f0fa7ff144114411188"
       ],
       "layout": "IPY_MODEL_75068b72233b4e97b81ac8d1995f7712"
      }
     },
     "c0bda0740f73491892356f4ea2aad8ac": {
      "model_module": "@jupyter-widgets/controls",
      "model_module_version": "1.5.0",
      "model_name": "DescriptionStyleModel",
      "state": {
       "description_width": ""
      }
     },
     "c0dc20f153bf4ecabb521d73d9697ab2": {
      "model_module": "@jupyter-widgets/controls",
      "model_module_version": "1.5.0",
      "model_name": "ProgressStyleModel",
      "state": {
       "description_width": ""
      }
     },
     "c16470f9d1164b0aaa358fd5da2341fd": {
      "model_module": "@jupyter-widgets/controls",
      "model_module_version": "1.5.0",
      "model_name": "ProgressStyleModel",
      "state": {
       "description_width": ""
      }
     },
     "c2713fcdc2c94ffd907d2e6a75cbc4fb": {
      "model_module": "@jupyter-widgets/controls",
      "model_module_version": "1.5.0",
      "model_name": "FloatProgressModel",
      "state": {
       "bar_style": "success",
       "layout": "IPY_MODEL_affb3da71f1c4951a36b76dd40e33c6b",
       "max": 2541,
       "style": "IPY_MODEL_5517b2e2542e42d4b5335d523300dc50",
       "value": 2541
      }
     },
     "c2f93e56e5ea45059de335b218bf1180": {
      "model_module": "@jupyter-widgets/base",
      "model_module_version": "1.2.0",
      "model_name": "LayoutModel",
      "state": {}
     },
     "c5780c5a8ec1453382a3553509f88508": {
      "model_module": "@jupyter-widgets/base",
      "model_module_version": "1.2.0",
      "model_name": "LayoutModel",
      "state": {}
     },
     "c889ac2a226f46d69c81f2d68d13fbc7": {
      "model_module": "@jupyter-widgets/controls",
      "model_module_version": "1.5.0",
      "model_name": "FloatProgressModel",
      "state": {
       "bar_style": "success",
       "layout": "IPY_MODEL_01d4db673c144a238ec45931913b3e53",
       "max": 2763,
       "style": "IPY_MODEL_7e44b3f86f73437cac0922c34b5515b2",
       "value": 2763
      }
     },
     "c88e5043f6cc4e7d8bdd1859d95ea09f": {
      "model_module": "@jupyter-widgets/controls",
      "model_module_version": "1.5.0",
      "model_name": "HBoxModel",
      "state": {
       "children": [
        "IPY_MODEL_ff2daf6bd58548fe92acff75f037515c",
        "IPY_MODEL_b3a10da548ca4f3d91eb67b3b0b533b4",
        "IPY_MODEL_ce39223d48134e82a3ac07de535386fd"
       ],
       "layout": "IPY_MODEL_a08ce5f4fd394cd99b1d6b0847c3eab0"
      }
     },
     "c8b646aa38b1402eaec3608963407b6c": {
      "model_module": "@jupyter-widgets/controls",
      "model_module_version": "1.5.0",
      "model_name": "HTMLModel",
      "state": {
       "layout": "IPY_MODEL_2c6121b6c2be45678f9d72cff79138f9",
       "style": "IPY_MODEL_a5dfae27245c4a19b57fdf74d739183f",
       "value": "100%"
      }
     },
     "c8e366caf10b48478fd3d58b4aaaddfa": {
      "model_module": "@jupyter-widgets/controls",
      "model_module_version": "1.5.0",
      "model_name": "HTMLModel",
      "state": {
       "layout": "IPY_MODEL_54d4be5ed4864f28a896dc843ce998bf",
       "style": "IPY_MODEL_40d5f0c872aa4a098836bc834f3ee672",
       "value": "100%"
      }
     },
     "c9bd6f7111ba482bb0a2567cf5a65778": {
      "model_module": "@jupyter-widgets/controls",
      "model_module_version": "1.5.0",
      "model_name": "ProgressStyleModel",
      "state": {
       "description_width": ""
      }
     },
     "ca0c9fa0fb004073aea286324b63c035": {
      "model_module": "@jupyter-widgets/controls",
      "model_module_version": "1.5.0",
      "model_name": "DescriptionStyleModel",
      "state": {
       "description_width": ""
      }
     },
     "cce83dfb1ea942fe84d1f1a5d7580b8e": {
      "model_module": "@jupyter-widgets/controls",
      "model_module_version": "1.5.0",
      "model_name": "HTMLModel",
      "state": {
       "layout": "IPY_MODEL_49b57a6d6d02447e90d1fc4f6d733647",
       "style": "IPY_MODEL_aaa304de29504ba1b6f6065b4b3617c4",
       "value": "100%"
      }
     },
     "cd6f1cee9f0c45ed90cf0eafad0d08d0": {
      "model_module": "@jupyter-widgets/base",
      "model_module_version": "1.2.0",
      "model_name": "LayoutModel",
      "state": {}
     },
     "ce39223d48134e82a3ac07de535386fd": {
      "model_module": "@jupyter-widgets/controls",
      "model_module_version": "1.5.0",
      "model_name": "HTMLModel",
      "state": {
       "layout": "IPY_MODEL_0abdae1acaac459e901a4ad96a4161a0",
       "style": "IPY_MODEL_0f3077c3194e4140a61384d544ce43bb",
       "value": " 2541/2541 [00:00&lt;00:00, 3818.84ex/s]"
      }
     },
     "cf74738835b643d3b22653bcdfddcbb0": {
      "model_module": "@jupyter-widgets/controls",
      "model_module_version": "1.5.0",
      "model_name": "HBoxModel",
      "state": {
       "children": [
        "IPY_MODEL_2fa27ff0949f442aaabfa3fea8f168ad",
        "IPY_MODEL_1c04bbdffdbd42479573cd8aa79d89a3",
        "IPY_MODEL_0bcc2208e55a4de188c6097973a8d6ec"
       ],
       "layout": "IPY_MODEL_a74a92ad91bb4342a3b3d71c63499fda"
      }
     },
     "d059971edc354f71af787daf11de22e3": {
      "model_module": "@jupyter-widgets/base",
      "model_module_version": "1.2.0",
      "model_name": "LayoutModel",
      "state": {}
     },
     "d2810e8ee76a4433a5e9cb4044e92645": {
      "model_module": "@jupyter-widgets/controls",
      "model_module_version": "1.5.0",
      "model_name": "ProgressStyleModel",
      "state": {
       "description_width": ""
      }
     },
     "d2cd1de4b07c4e2a8e72f8baea2c3c91": {
      "model_module": "@jupyter-widgets/base",
      "model_module_version": "1.2.0",
      "model_name": "LayoutModel",
      "state": {}
     },
     "d3030f086dbf4863aee86df2372565c0": {
      "model_module": "@jupyter-widgets/controls",
      "model_module_version": "1.5.0",
      "model_name": "ProgressStyleModel",
      "state": {
       "description_width": ""
      }
     },
     "d3081aad132d46b7bbad858453939bf3": {
      "model_module": "@jupyter-widgets/base",
      "model_module_version": "1.2.0",
      "model_name": "LayoutModel",
      "state": {}
     },
     "d47bbd67cb0f431fae06cf99d13b2e20": {
      "model_module": "@jupyter-widgets/controls",
      "model_module_version": "1.5.0",
      "model_name": "DescriptionStyleModel",
      "state": {
       "description_width": ""
      }
     },
     "d50ac550dbb9408fa1ab764c1147620d": {
      "model_module": "@jupyter-widgets/controls",
      "model_module_version": "1.5.0",
      "model_name": "ProgressStyleModel",
      "state": {
       "description_width": ""
      }
     },
     "d59a95b4153d4ed2928a3b9166af6b2e": {
      "model_module": "@jupyter-widgets/controls",
      "model_module_version": "1.5.0",
      "model_name": "FloatProgressModel",
      "state": {
       "bar_style": "success",
       "layout": "IPY_MODEL_775c890505d743ff8d9c16ce3246d2cd",
       "max": 2541,
       "style": "IPY_MODEL_c0dc20f153bf4ecabb521d73d9697ab2",
       "value": 2541
      }
     },
     "d7275806293549e2a185aa4bee9a511f": {
      "model_module": "@jupyter-widgets/controls",
      "model_module_version": "1.5.0",
      "model_name": "HTMLModel",
      "state": {
       "layout": "IPY_MODEL_ab0dd8d782ea41cdb157f3b2c3c23f91",
       "style": "IPY_MODEL_c0bda0740f73491892356f4ea2aad8ac",
       "value": " 2763/2763 [00:00&lt;00:00, 3820.52ex/s]"
      }
     },
     "d78ee4c2dbd8411d915cd9a9b3ba181a": {
      "model_module": "@jupyter-widgets/controls",
      "model_module_version": "1.5.0",
      "model_name": "DescriptionStyleModel",
      "state": {
       "description_width": ""
      }
     },
     "d79cb7cae67a457895105cd93c69d563": {
      "model_module": "@jupyter-widgets/controls",
      "model_module_version": "1.5.0",
      "model_name": "DescriptionStyleModel",
      "state": {
       "description_width": ""
      }
     },
     "d7b7db76d84d49769e6315da7bbd53e4": {
      "model_module": "@jupyter-widgets/controls",
      "model_module_version": "1.5.0",
      "model_name": "FloatProgressModel",
      "state": {
       "bar_style": "success",
       "layout": "IPY_MODEL_58a522d237e94015be9921490f7d9c0d",
       "max": 2541,
       "style": "IPY_MODEL_04b00fcece354c43abe45800addd8da6",
       "value": 2541
      }
     },
     "d9dd741cb8ac4b6cbc0ad98f214c7bd6": {
      "model_module": "@jupyter-widgets/base",
      "model_module_version": "1.2.0",
      "model_name": "LayoutModel",
      "state": {}
     },
     "d9f8286e99ec4adc8d07d3e5eac4a6e8": {
      "model_module": "@jupyter-widgets/controls",
      "model_module_version": "1.5.0",
      "model_name": "HTMLModel",
      "state": {
       "layout": "IPY_MODEL_72e0ac3da17f4432bacf1c2f98ef393c",
       "style": "IPY_MODEL_640767a241da4db1aff27bb529c71a2b",
       "value": "100%"
      }
     },
     "da1bb6f7d9b94eeea43f1a940d817515": {
      "model_module": "@jupyter-widgets/controls",
      "model_module_version": "1.5.0",
      "model_name": "ProgressStyleModel",
      "state": {
       "description_width": ""
      }
     },
     "dac6b941c72d4ab2b0964388124301d5": {
      "model_module": "@jupyter-widgets/controls",
      "model_module_version": "1.5.0",
      "model_name": "HBoxModel",
      "state": {
       "children": [
        "IPY_MODEL_97476ca69869468c8bc8dc1917684e13",
        "IPY_MODEL_679110854ddb4c188db7afa00b3e7eed",
        "IPY_MODEL_2ec5bcb5179645ebbc84cee562baf329"
       ],
       "layout": "IPY_MODEL_7e9c77508aa04d18a4b47549d40eb026"
      }
     },
     "db3681eb0cab4948a13712b666d4fd57": {
      "model_module": "@jupyter-widgets/controls",
      "model_module_version": "1.5.0",
      "model_name": "DescriptionStyleModel",
      "state": {
       "description_width": ""
      }
     },
     "db933e6ad3554a5cadc7d1b1acc29f49": {
      "model_module": "@jupyter-widgets/base",
      "model_module_version": "1.2.0",
      "model_name": "LayoutModel",
      "state": {}
     },
     "dcb946e507b94d0a83628f57005c2d43": {
      "model_module": "@jupyter-widgets/controls",
      "model_module_version": "1.5.0",
      "model_name": "FloatProgressModel",
      "state": {
       "bar_style": "success",
       "layout": "IPY_MODEL_e3439204e82148e0b6ddb55baf14e910",
       "max": 2541,
       "style": "IPY_MODEL_1bb074cef3e645db94cc8f7345af9640",
       "value": 2541
      }
     },
     "dde2fae34e2c494095553efbb7341c90": {
      "model_module": "@jupyter-widgets/base",
      "model_module_version": "1.2.0",
      "model_name": "LayoutModel",
      "state": {}
     },
     "ddfca21812a0457b94bf170445892334": {
      "model_module": "@jupyter-widgets/base",
      "model_module_version": "1.2.0",
      "model_name": "LayoutModel",
      "state": {}
     },
     "dea57ed8c78a4660b30188103abf7af0": {
      "model_module": "@jupyter-widgets/base",
      "model_module_version": "1.2.0",
      "model_name": "LayoutModel",
      "state": {}
     },
     "defca1d1cb364f8cb4274c001a704f42": {
      "model_module": "@jupyter-widgets/controls",
      "model_module_version": "1.5.0",
      "model_name": "DescriptionStyleModel",
      "state": {
       "description_width": ""
      }
     },
     "dff8db6959f34557be4768d12401b331": {
      "model_module": "@jupyter-widgets/controls",
      "model_module_version": "1.5.0",
      "model_name": "HBoxModel",
      "state": {
       "children": [
        "IPY_MODEL_52e697ca2d524b0ea33a6b439e5112bd",
        "IPY_MODEL_dcb946e507b94d0a83628f57005c2d43",
        "IPY_MODEL_18b185a4080c419b887ad6b92fc16d83"
       ],
       "layout": "IPY_MODEL_a422e39956114f0cb985fcc7aceb327f"
      }
     },
     "dff9b71cc35c42988af118387b2b4da1": {
      "model_module": "@jupyter-widgets/controls",
      "model_module_version": "1.5.0",
      "model_name": "FloatProgressModel",
      "state": {
       "bar_style": "success",
       "layout": "IPY_MODEL_d059971edc354f71af787daf11de22e3",
       "max": 17839,
       "style": "IPY_MODEL_6f1d6cd8be6c4d4eb66883d2fcd928b3",
       "value": 17839
      }
     },
     "e2b42be6d4fd4816931ccce6f9e0737e": {
      "model_module": "@jupyter-widgets/base",
      "model_module_version": "1.2.0",
      "model_name": "LayoutModel",
      "state": {}
     },
     "e3373e88abff489d91bee965d323ebf5": {
      "model_module": "@jupyter-widgets/controls",
      "model_module_version": "1.5.0",
      "model_name": "HTMLModel",
      "state": {
       "layout": "IPY_MODEL_2b2a98489ec44ec68967c12778395761",
       "style": "IPY_MODEL_8d4c2133fc08418f8dc8e205eb39f157",
       "value": "100%"
      }
     },
     "e3439204e82148e0b6ddb55baf14e910": {
      "model_module": "@jupyter-widgets/base",
      "model_module_version": "1.2.0",
      "model_name": "LayoutModel",
      "state": {}
     },
     "e5644fb19a944d34be244fada83b069b": {
      "model_module": "@jupyter-widgets/controls",
      "model_module_version": "1.5.0",
      "model_name": "HTMLModel",
      "state": {
       "layout": "IPY_MODEL_52673d07935d425bbe3a7ae12b38531b",
       "style": "IPY_MODEL_539d6b397a78472eb11d323cffc61294",
       "value": "100%"
      }
     },
     "e6dd6492b5554fb38676601d7264ab90": {
      "model_module": "@jupyter-widgets/controls",
      "model_module_version": "1.5.0",
      "model_name": "HTMLModel",
      "state": {
       "layout": "IPY_MODEL_f758b2ee78e640138efea43edda2f1fd",
       "style": "IPY_MODEL_705cd95a66534699891d9c7eb84464a0",
       "value": " 2763/2763 [00:00&lt;00:00, 3924.89ex/s]"
      }
     },
     "e6e3ccd10d614f788ec1d3ed2bcb26f4": {
      "model_module": "@jupyter-widgets/base",
      "model_module_version": "1.2.0",
      "model_name": "LayoutModel",
      "state": {}
     },
     "e73fc1faa206427b853f4c37f6801993": {
      "model_module": "@jupyter-widgets/controls",
      "model_module_version": "1.5.0",
      "model_name": "HTMLModel",
      "state": {
       "layout": "IPY_MODEL_a29a57c63771423ab02a35d3791590f2",
       "style": "IPY_MODEL_3e094b32ea8242afa61da271e4952e54",
       "value": "100%"
      }
     },
     "e865d1f32a1b4ab0bf1645e362f8bc2a": {
      "model_module": "@jupyter-widgets/controls",
      "model_module_version": "1.5.0",
      "model_name": "ProgressStyleModel",
      "state": {
       "description_width": ""
      }
     },
     "e883d049e66f49f48e8dd74c065c83b4": {
      "model_module": "@jupyter-widgets/controls",
      "model_module_version": "1.5.0",
      "model_name": "DescriptionStyleModel",
      "state": {
       "description_width": ""
      }
     },
     "ea459835e4404d39ac7edb5682fd27dd": {
      "model_module": "@jupyter-widgets/base",
      "model_module_version": "1.2.0",
      "model_name": "LayoutModel",
      "state": {}
     },
     "ea60bd2363cc443aabcfc3a015ba8e2a": {
      "model_module": "@jupyter-widgets/controls",
      "model_module_version": "1.5.0",
      "model_name": "HTMLModel",
      "state": {
       "layout": "IPY_MODEL_a7594239078545fcbc735f7248a367b7",
       "style": "IPY_MODEL_e883d049e66f49f48e8dd74c065c83b4",
       "value": " 2541/2541 [00:00&lt;00:00, 3831.12ex/s]"
      }
     },
     "ec351090363546198a676ea59ad4f54b": {
      "model_module": "@jupyter-widgets/base",
      "model_module_version": "1.2.0",
      "model_name": "LayoutModel",
      "state": {}
     },
     "eebd6dcb446040ba8995cc2a4f85c3fa": {
      "model_module": "@jupyter-widgets/controls",
      "model_module_version": "1.5.0",
      "model_name": "DescriptionStyleModel",
      "state": {
       "description_width": ""
      }
     },
     "eee391f22369482e91b37f5a2f67a473": {
      "model_module": "@jupyter-widgets/controls",
      "model_module_version": "1.5.0",
      "model_name": "HTMLModel",
      "state": {
       "layout": "IPY_MODEL_be906f4ff30a4d80b5b2938ba3963d59",
       "style": "IPY_MODEL_4d6df4cff21a4cac9f35cad5831596d9",
       "value": " 2763/2763 [00:00&lt;00:00, 3923.72ex/s]"
      }
     },
     "ef3a062e26f2492d8803d7ee77a3f467": {
      "model_module": "@jupyter-widgets/controls",
      "model_module_version": "1.5.0",
      "model_name": "DescriptionStyleModel",
      "state": {
       "description_width": ""
      }
     },
     "ef553945c42049e8a4db375971facec8": {
      "model_module": "@jupyter-widgets/base",
      "model_module_version": "1.2.0",
      "model_name": "LayoutModel",
      "state": {}
     },
     "f012ea9c280445188fee1422cce21e23": {
      "model_module": "@jupyter-widgets/base",
      "model_module_version": "1.2.0",
      "model_name": "LayoutModel",
      "state": {}
     },
     "f0716269c4cc400697da2e7fa76b4a24": {
      "model_module": "@jupyter-widgets/base",
      "model_module_version": "1.2.0",
      "model_name": "LayoutModel",
      "state": {}
     },
     "f112d03f46bd4e78a309fb53a6bd7d92": {
      "model_module": "@jupyter-widgets/controls",
      "model_module_version": "1.5.0",
      "model_name": "DescriptionStyleModel",
      "state": {
       "description_width": ""
      }
     },
     "f22f9d33fa794f0fa7ff144114411188": {
      "model_module": "@jupyter-widgets/controls",
      "model_module_version": "1.5.0",
      "model_name": "HTMLModel",
      "state": {
       "layout": "IPY_MODEL_9f2369bdf034406396ae35771b9c1283",
       "style": "IPY_MODEL_0fd7a008beab40ae868d350af8873f87",
       "value": " 17839/17839 [00:05&lt;00:00, 3083.25ex/s]"
      }
     },
     "f2bac1ca329449bea441ab1b19abe4b9": {
      "model_module": "@jupyter-widgets/controls",
      "model_module_version": "1.5.0",
      "model_name": "ProgressStyleModel",
      "state": {
       "description_width": ""
      }
     },
     "f32f4820306b4136908aec63898b1b19": {
      "model_module": "@jupyter-widgets/base",
      "model_module_version": "1.2.0",
      "model_name": "LayoutModel",
      "state": {}
     },
     "f38eee65d2ef469f995661fc8a499124": {
      "model_module": "@jupyter-widgets/controls",
      "model_module_version": "1.5.0",
      "model_name": "HTMLModel",
      "state": {
       "layout": "IPY_MODEL_65f0841a564449b5a32fdde06f7b38e0",
       "style": "IPY_MODEL_b1987f94e6cc4afca47aa3297100b6b6",
       "value": " 2763/2763 [00:00&lt;00:00, 3854.32ex/s]"
      }
     },
     "f4224fc7503147bb9ae77b74cb7bcbc5": {
      "model_module": "@jupyter-widgets/controls",
      "model_module_version": "1.5.0",
      "model_name": "ProgressStyleModel",
      "state": {
       "description_width": ""
      }
     },
     "f46267eef6d4418fb739f2de4079ed4e": {
      "model_module": "@jupyter-widgets/controls",
      "model_module_version": "1.5.0",
      "model_name": "DescriptionStyleModel",
      "state": {
       "description_width": ""
      }
     },
     "f47e35e8c08b4d9d97b7f270d82e2a48": {
      "model_module": "@jupyter-widgets/controls",
      "model_module_version": "1.5.0",
      "model_name": "HBoxModel",
      "state": {
       "children": [
        "IPY_MODEL_fd2ef853ae214d62b403805cc327d6e5",
        "IPY_MODEL_9242f313174f4cda8db0ea6284e6afad",
        "IPY_MODEL_78bfaeb15a284cb2b9b0305aae958686"
       ],
       "layout": "IPY_MODEL_6d752e8da5c24b0092feb23628f5e7fb"
      }
     },
     "f4b38217fbc9433d93a4e6a9543bec9c": {
      "model_module": "@jupyter-widgets/controls",
      "model_module_version": "1.5.0",
      "model_name": "HTMLModel",
      "state": {
       "layout": "IPY_MODEL_574d8f74daae4b1fbb0ee177e7a5274c",
       "style": "IPY_MODEL_7435107558af41178b8a79775b35536d",
       "value": "100%"
      }
     },
     "f5659d80e2f24085a178eea745729b05": {
      "model_module": "@jupyter-widgets/controls",
      "model_module_version": "1.5.0",
      "model_name": "HTMLModel",
      "state": {
       "layout": "IPY_MODEL_7f505c1051d04dc7be50d5c184b7248b",
       "style": "IPY_MODEL_0b10257b54b94ee49c40cbef98397422",
       "value": "100%"
      }
     },
     "f5e5ea29ad1548ab9bb5fcfd0b3d876e": {
      "model_module": "@jupyter-widgets/base",
      "model_module_version": "1.2.0",
      "model_name": "LayoutModel",
      "state": {}
     },
     "f62c7a1961ee4152a4eb853806646c8c": {
      "model_module": "@jupyter-widgets/controls",
      "model_module_version": "1.5.0",
      "model_name": "DescriptionStyleModel",
      "state": {
       "description_width": ""
      }
     },
     "f758b2ee78e640138efea43edda2f1fd": {
      "model_module": "@jupyter-widgets/base",
      "model_module_version": "1.2.0",
      "model_name": "LayoutModel",
      "state": {}
     },
     "f84fd4c93bcc493a9429f6bd86d008a6": {
      "model_module": "@jupyter-widgets/controls",
      "model_module_version": "1.5.0",
      "model_name": "HTMLModel",
      "state": {
       "layout": "IPY_MODEL_d9dd741cb8ac4b6cbc0ad98f214c7bd6",
       "style": "IPY_MODEL_6aae79c943274156aac05e46873366eb",
       "value": " 2763/2763 [00:00&lt;00:00, 3900.04ex/s]"
      }
     },
     "fb92d8d9dd294170b3e0b994f68bde25": {
      "model_module": "@jupyter-widgets/controls",
      "model_module_version": "1.5.0",
      "model_name": "DescriptionStyleModel",
      "state": {
       "description_width": ""
      }
     },
     "fd2ef853ae214d62b403805cc327d6e5": {
      "model_module": "@jupyter-widgets/controls",
      "model_module_version": "1.5.0",
      "model_name": "HTMLModel",
      "state": {
       "layout": "IPY_MODEL_6825319440c543a99f7f85ac3eab80e4",
       "style": "IPY_MODEL_5daf2504c55a4a098799e3afc5e33e7a",
       "value": "100%"
      }
     },
     "fd86366b92f54765bcbd47928f02149a": {
      "model_module": "@jupyter-widgets/controls",
      "model_module_version": "1.5.0",
      "model_name": "DescriptionStyleModel",
      "state": {
       "description_width": ""
      }
     },
     "fe4800adec04465b8592ff9599f64570": {
      "model_module": "@jupyter-widgets/controls",
      "model_module_version": "1.5.0",
      "model_name": "DescriptionStyleModel",
      "state": {
       "description_width": ""
      }
     },
     "fed28e4a37ce4ce7867561ed04fe9771": {
      "model_module": "@jupyter-widgets/controls",
      "model_module_version": "1.5.0",
      "model_name": "HTMLModel",
      "state": {
       "layout": "IPY_MODEL_0399146ce36a40b4b92cebb5d52a1aaa",
       "style": "IPY_MODEL_621053030a794eb0b59b404339872ec9",
       "value": "100%"
      }
     },
     "ff2daf6bd58548fe92acff75f037515c": {
      "model_module": "@jupyter-widgets/controls",
      "model_module_version": "1.5.0",
      "model_name": "HTMLModel",
      "state": {
       "layout": "IPY_MODEL_0f020e96a1e54a4eab964fdebb5d2074",
       "style": "IPY_MODEL_0cafa87bc177463d87901a8569203be4",
       "value": "100%"
      }
     },
     "ff4af904a6e6402682371987e087c51d": {
      "model_module": "@jupyter-widgets/base",
      "model_module_version": "1.2.0",
      "model_name": "LayoutModel",
      "state": {}
     }
    },
    "version_major": 2,
    "version_minor": 0
   }
  }
 },
 "nbformat": 4,
 "nbformat_minor": 5
}
