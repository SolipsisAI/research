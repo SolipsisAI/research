{
 "cells": [
  {
   "cell_type": "code",
   "execution_count": 1,
   "id": "ae4babe0-fce0-4869-915d-2fea1e7999e9",
   "metadata": {},
   "outputs": [],
   "source": [
    "%load_ext autoreload\n",
    "%autoreload 2"
   ]
  },
  {
   "cell_type": "code",
   "execution_count": 4,
   "id": "2696e787-72b7-4533-9311-c52d743486fc",
   "metadata": {},
   "outputs": [],
   "source": [
    "from pathlib import Path\n",
    "from typing import List, Dict, Union, Tuple\n",
    "\n",
    "import torch, os, re, pandas as pd, json\n",
    "from sklearn.model_selection import train_test_split\n",
    "from transformers import (\n",
    "    DataCollatorForLanguageModeling,\n",
    "    DataCollatorWithPadding,\n",
    "    GPT2Tokenizer,\n",
    "    GPT2LMHeadModel,\n",
    "    Trainer,\n",
    "    TrainingArguments,\n",
    "    AutoConfig,\n",
    "    AutoTokenizer,\n",
    "    AutoModelForCausalLM\n",
    ")\n",
    "from datasets import Dataset, DatasetDict, list_metrics, load_metric, load_from_disk\n"
   ]
  },
  {
   "cell_type": "code",
   "execution_count": 6,
   "id": "8fa28944-77e7-4165-accb-686bee53389a",
   "metadata": {},
   "outputs": [],
   "source": [
    "base_model = \"microsoft/DialoGPT-small\"\n",
    "data_dir = \"../data/empatheticdialogues\"\n",
    "output_dir = \"../models/empathetic-DialoGPT-small\"\n",
    "batch_size = 2\n",
    "logging_dir = output_dir\n",
    "prediction_loss_only = True"
   ]
  },
  {
   "cell_type": "code",
   "execution_count": 68,
   "id": "b9064f8f-6b45-4317-b18d-91104d1c51e1",
   "metadata": {},
   "outputs": [],
   "source": [
    "def find_data_filepaths(data_dir):\n",
    "    data_filepaths = list(Path(data_dir).glob(\"*.csv\"))\n",
    "    return data_filepaths\n",
    "\n",
    "\n",
    "def load_data(data_dir):\n",
    "    data = {}\n",
    "    data_filepaths = find_data_filepaths(data_dir)\n",
    "    for data_filepath in data_filepaths:\n",
    "        data_name = data_filepath.stem\n",
    "        data[data_name] = pd.read_csv(data_filepath, encoding=\"utf-8\", on_bad_lines='skip')\n",
    "    return data\n",
    "\n",
    "\n",
    "def create_datasets(data, eos_token=\"<|endofsentence|>\"):\n",
    "    datasets = {}\n",
    "    for name, df in data.items():\n",
    "        grouped = df[[\"conv_id\", \"prompt\", \"utterance\"]].groupby(\"conv_id\")[\"utterance\"]\n",
    "        concat_text = grouped.transform(lambda x: eos_token.join(x))\n",
    "        datasets[name] = Dataset.from_dict({\"text\": concat_text.unique()})\n",
    "    return datasets"
   ]
  },
  {
   "cell_type": "code",
   "execution_count": 69,
   "id": "b76b9ad1-80ed-4a52-9b55-cb4b78773275",
   "metadata": {
    "scrolled": true,
    "tags": []
   },
   "outputs": [
    {
     "data": {
      "text/html": [
       "<div>\n",
       "<style scoped>\n",
       "    .dataframe tbody tr th:only-of-type {\n",
       "        vertical-align: middle;\n",
       "    }\n",
       "\n",
       "    .dataframe tbody tr th {\n",
       "        vertical-align: top;\n",
       "    }\n",
       "\n",
       "    .dataframe thead th {\n",
       "        text-align: right;\n",
       "    }\n",
       "</style>\n",
       "<table border=\"1\" class=\"dataframe\">\n",
       "  <thead>\n",
       "    <tr style=\"text-align: right;\">\n",
       "      <th></th>\n",
       "      <th>conv_id</th>\n",
       "      <th>utterance_idx</th>\n",
       "      <th>context</th>\n",
       "      <th>prompt</th>\n",
       "      <th>speaker_idx</th>\n",
       "      <th>utterance</th>\n",
       "      <th>selfeval</th>\n",
       "      <th>tags</th>\n",
       "    </tr>\n",
       "  </thead>\n",
       "  <tbody>\n",
       "    <tr>\n",
       "      <th>0</th>\n",
       "      <td>hit:0_conv:0</td>\n",
       "      <td>1</td>\n",
       "      <td>guilty</td>\n",
       "      <td>I felt guilty when I was driving home one nigh...</td>\n",
       "      <td>0</td>\n",
       "      <td>Yeah about 10 years ago I had a horrifying exp...</td>\n",
       "      <td>2|2|5_5|5|5</td>\n",
       "      <td>NaN</td>\n",
       "    </tr>\n",
       "    <tr>\n",
       "      <th>1</th>\n",
       "      <td>hit:0_conv:0</td>\n",
       "      <td>3</td>\n",
       "      <td>guilty</td>\n",
       "      <td>I felt guilty when I was driving home one nigh...</td>\n",
       "      <td>0</td>\n",
       "      <td>No I wasn't hit. It turned out they were drunk...</td>\n",
       "      <td>2|2|5_5|5|5</td>\n",
       "      <td>NaN</td>\n",
       "    </tr>\n",
       "    <tr>\n",
       "      <th>2</th>\n",
       "      <td>hit:0_conv:0</td>\n",
       "      <td>5</td>\n",
       "      <td>guilty</td>\n",
       "      <td>I felt guilty when I was driving home one nigh...</td>\n",
       "      <td>0</td>\n",
       "      <td>I don't know I was new to driving and hadn't e...</td>\n",
       "      <td>2|2|5_5|5|5</td>\n",
       "      <td>NaN</td>\n",
       "    </tr>\n",
       "    <tr>\n",
       "      <th>3</th>\n",
       "      <td>hit:34_conv:69</td>\n",
       "      <td>1</td>\n",
       "      <td>caring</td>\n",
       "      <td>My mother stopped by my house one day and said...</td>\n",
       "      <td>45</td>\n",
       "      <td>Well_comma_ can you tell me about your experie...</td>\n",
       "      <td>5|5|5_3|2|2</td>\n",
       "      <td>NaN</td>\n",
       "    </tr>\n",
       "    <tr>\n",
       "      <th>4</th>\n",
       "      <td>hit:34_conv:69</td>\n",
       "      <td>3</td>\n",
       "      <td>caring</td>\n",
       "      <td>My mother stopped by my house one day and said...</td>\n",
       "      <td>45</td>\n",
       "      <td>Oh my goodness_comma_ that's very scary! I hop...</td>\n",
       "      <td>5|5|5_3|2|2</td>\n",
       "      <td>NaN</td>\n",
       "    </tr>\n",
       "    <tr>\n",
       "      <th>...</th>\n",
       "      <td>...</td>\n",
       "      <td>...</td>\n",
       "      <td>...</td>\n",
       "      <td>...</td>\n",
       "      <td>...</td>\n",
       "      <td>...</td>\n",
       "      <td>...</td>\n",
       "      <td>...</td>\n",
       "    </tr>\n",
       "    <tr>\n",
       "      <th>5696</th>\n",
       "      <td>hit:12413_conv:24826</td>\n",
       "      <td>3</td>\n",
       "      <td>grateful</td>\n",
       "      <td>I'm glad that life is being good to me</td>\n",
       "      <td>437</td>\n",
       "      <td>Glad you think so as well!</td>\n",
       "      <td>5|5|5_4|3|4</td>\n",
       "      <td>NaN</td>\n",
       "    </tr>\n",
       "    <tr>\n",
       "      <th>5697</th>\n",
       "      <td>hit:12416_conv:24832</td>\n",
       "      <td>1</td>\n",
       "      <td>disgusted</td>\n",
       "      <td>I saw a huge cockroach outside my house today....</td>\n",
       "      <td>481</td>\n",
       "      <td>I saw a huge cockroach outside my house today!</td>\n",
       "      <td>5|5|5_4|3|4</td>\n",
       "      <td>NaN</td>\n",
       "    </tr>\n",
       "    <tr>\n",
       "      <th>5698</th>\n",
       "      <td>hit:12416_conv:24832</td>\n",
       "      <td>3</td>\n",
       "      <td>disgusted</td>\n",
       "      <td>I saw a huge cockroach outside my house today....</td>\n",
       "      <td>481</td>\n",
       "      <td>Not yet since it's the weekend. We live in Tex...</td>\n",
       "      <td>5|5|5_4|3|4</td>\n",
       "      <td>NaN</td>\n",
       "    </tr>\n",
       "    <tr>\n",
       "      <th>5699</th>\n",
       "      <td>hit:12423_conv:24847</td>\n",
       "      <td>1</td>\n",
       "      <td>anxious</td>\n",
       "      <td>I have a big test on Monday. I am so nervous_c...</td>\n",
       "      <td>481</td>\n",
       "      <td>I have a big test on Monday_comma_ I am so ner...</td>\n",
       "      <td>5|5|5_5|5|5</td>\n",
       "      <td>NaN</td>\n",
       "    </tr>\n",
       "    <tr>\n",
       "      <th>5700</th>\n",
       "      <td>hit:12423_conv:24847</td>\n",
       "      <td>3</td>\n",
       "      <td>anxious</td>\n",
       "      <td>I have a big test on Monday. I am so nervous_c...</td>\n",
       "      <td>481</td>\n",
       "      <td>It's for my Chemistry class. I haven't slept m...</td>\n",
       "      <td>5|5|5_5|5|5</td>\n",
       "      <td>NaN</td>\n",
       "    </tr>\n",
       "  </tbody>\n",
       "</table>\n",
       "<p>5701 rows × 8 columns</p>\n",
       "</div>"
      ],
      "text/plain": [
       "                   conv_id  utterance_idx    context  \\\n",
       "0             hit:0_conv:0              1     guilty   \n",
       "1             hit:0_conv:0              3     guilty   \n",
       "2             hit:0_conv:0              5     guilty   \n",
       "3           hit:34_conv:69              1     caring   \n",
       "4           hit:34_conv:69              3     caring   \n",
       "...                    ...            ...        ...   \n",
       "5696  hit:12413_conv:24826              3   grateful   \n",
       "5697  hit:12416_conv:24832              1  disgusted   \n",
       "5698  hit:12416_conv:24832              3  disgusted   \n",
       "5699  hit:12423_conv:24847              1    anxious   \n",
       "5700  hit:12423_conv:24847              3    anxious   \n",
       "\n",
       "                                                 prompt  speaker_idx  \\\n",
       "0     I felt guilty when I was driving home one nigh...            0   \n",
       "1     I felt guilty when I was driving home one nigh...            0   \n",
       "2     I felt guilty when I was driving home one nigh...            0   \n",
       "3     My mother stopped by my house one day and said...           45   \n",
       "4     My mother stopped by my house one day and said...           45   \n",
       "...                                                 ...          ...   \n",
       "5696             I'm glad that life is being good to me          437   \n",
       "5697  I saw a huge cockroach outside my house today....          481   \n",
       "5698  I saw a huge cockroach outside my house today....          481   \n",
       "5699  I have a big test on Monday. I am so nervous_c...          481   \n",
       "5700  I have a big test on Monday. I am so nervous_c...          481   \n",
       "\n",
       "                                              utterance     selfeval tags  \n",
       "0     Yeah about 10 years ago I had a horrifying exp...  2|2|5_5|5|5  NaN  \n",
       "1     No I wasn't hit. It turned out they were drunk...  2|2|5_5|5|5  NaN  \n",
       "2     I don't know I was new to driving and hadn't e...  2|2|5_5|5|5  NaN  \n",
       "3     Well_comma_ can you tell me about your experie...  5|5|5_3|2|2  NaN  \n",
       "4     Oh my goodness_comma_ that's very scary! I hop...  5|5|5_3|2|2  NaN  \n",
       "...                                                 ...          ...  ...  \n",
       "5696                         Glad you think so as well!  5|5|5_4|3|4  NaN  \n",
       "5697     I saw a huge cockroach outside my house today!  5|5|5_4|3|4  NaN  \n",
       "5698  Not yet since it's the weekend. We live in Tex...  5|5|5_4|3|4  NaN  \n",
       "5699  I have a big test on Monday_comma_ I am so ner...  5|5|5_5|5|5  NaN  \n",
       "5700  It's for my Chemistry class. I haven't slept m...  5|5|5_5|5|5  NaN  \n",
       "\n",
       "[5701 rows x 8 columns]"
      ]
     },
     "execution_count": 69,
     "metadata": {},
     "output_type": "execute_result"
    }
   ],
   "source": [
    "data = load_data(data_dir)\n",
    "data[\"test\"]"
   ]
  },
  {
   "cell_type": "code",
   "execution_count": 72,
   "id": "cde4e9ee-80e6-46be-867d-f6cafef10036",
   "metadata": {
    "scrolled": true,
    "tags": []
   },
   "outputs": [
    {
     "name": "stdout",
     "output_type": "stream",
     "text": [
      "(2541, 1)\n"
     ]
    },
    {
     "data": {
      "text/plain": [
       "Dataset({\n",
       "    features: ['text'],\n",
       "    num_rows: 2541\n",
       "})"
      ]
     },
     "execution_count": 72,
     "metadata": {},
     "output_type": "execute_result"
    }
   ],
   "source": [
    "datasets = create_datasets(data)\n",
    "print(datasets[\"test\"].shape)\n",
    "datasets[\"test\"]"
   ]
  },
  {
   "cell_type": "code",
   "execution_count": 101,
   "id": "2d5e5eb7-0790-4431-880e-3f5a7c96fcba",
   "metadata": {},
   "outputs": [],
   "source": [
    "def preprocess_function(tokenizer, text_column=\"text\", max_length=256): \n",
    "    def _tokenize(examples):\n",
    "        sanitized_text = [v.replace(\"_comma_\", \",\") for k, v in examples.items()]\n",
    "        tokenized = tokenizer(\n",
    "            sanitized_text,\n",
    "            padding=\"max_length\",\n",
    "            max_length=max_length,\n",
    "        )\n",
    "        examples[\"input_ids\"] = tokenized[\"input_ids\"]\n",
    "        return examples\n",
    "    return _tokenize\n",
    "\n",
    "\n",
    "def preprocess_datasets(datasets, tokenizer, text_column=\"text\", max_length=256):\n",
    "    columns = lambda d: d.features.keys()\n",
    "    return {k: v.map(preprocess_function(tokenizer, text_column, max_length), remove_columns=columns(v)) for k, v in datasets.items()}\n",
    "    "
   ]
  },
  {
   "cell_type": "code",
   "execution_count": 97,
   "id": "d42f6af3-b78f-443e-9fb3-e0cced621c14",
   "metadata": {},
   "outputs": [
    {
     "data": {
      "text/plain": [
       "1"
      ]
     },
     "execution_count": 97,
     "metadata": {},
     "output_type": "execute_result"
    }
   ],
   "source": [
    "tokenizer = AutoTokenizer.from_pretrained(base_model)\n",
    "tokenizer.add_special_tokens({'pad_token': '[PAD]'})"
   ]
  },
  {
   "cell_type": "code",
   "execution_count": 102,
   "id": "f65cc5c0-60c3-4dab-aac4-5750d17a6701",
   "metadata": {
    "scrolled": true,
    "tags": []
   },
   "outputs": [
    {
     "name": "stderr",
     "output_type": "stream",
     "text": [
      "Parameter 'remove_columns'=dict_keys(['text']) of the transform datasets.arrow_dataset.Dataset._map_single couldn't be hashed properly, a random hash was used instead. Make sure your transforms and parameters are serializable with pickle or dill for the dataset fingerprinting and caching to work. If you reuse this transform, the caching mechanism will consider it to be different from the previous calls and recompute everything. This warning is only showed once. Subsequent hashing failures won't be showed.\n"
     ]
    },
    {
     "data": {
      "application/vnd.jupyter.widget-view+json": {
       "model_id": "6f0f0e01a6084d12a84c21855fe2426b",
       "version_major": 2,
       "version_minor": 0
      },
      "text/plain": [
       "  0%|          | 0/2541 [00:00<?, ?ex/s]"
      ]
     },
     "metadata": {},
     "output_type": "display_data"
    },
    {
     "data": {
      "application/vnd.jupyter.widget-view+json": {
       "model_id": "97b4fd26ed92499aa1bb281061d663ba",
       "version_major": 2,
       "version_minor": 0
      },
      "text/plain": [
       "  0%|          | 0/2763 [00:00<?, ?ex/s]"
      ]
     },
     "metadata": {},
     "output_type": "display_data"
    },
    {
     "data": {
      "application/vnd.jupyter.widget-view+json": {
       "model_id": "7ddca92a68044165948c199d3901779b",
       "version_major": 2,
       "version_minor": 0
      },
      "text/plain": [
       "  0%|          | 0/17839 [00:00<?, ?ex/s]"
      ]
     },
     "metadata": {},
     "output_type": "display_data"
    }
   ],
   "source": [
    "preprocessed_datasets = preprocess_datasets(datasets, tokenizer)"
   ]
  },
  {
   "cell_type": "code",
   "execution_count": 103,
   "id": "82be57e2-5d06-4923-961d-ed5dfa3b4330",
   "metadata": {},
   "outputs": [
    {
     "data": {
      "text/plain": [
       "{'test': Dataset({\n",
       "     features: ['input_ids'],\n",
       "     num_rows: 2541\n",
       " }),\n",
       " 'valid': Dataset({\n",
       "     features: ['input_ids'],\n",
       "     num_rows: 2763\n",
       " }),\n",
       " 'train': Dataset({\n",
       "     features: ['input_ids'],\n",
       "     num_rows: 17839\n",
       " })}"
      ]
     },
     "execution_count": 103,
     "metadata": {},
     "output_type": "execute_result"
    }
   ],
   "source": [
    "preprocessed_datasets"
   ]
  },
  {
   "cell_type": "code",
   "execution_count": null,
   "id": "cbe691b6-5350-4794-948f-bb6fe5db568a",
   "metadata": {},
   "outputs": [],
   "source": []
  }
 ],
 "metadata": {
  "kernelspec": {
   "display_name": "Python 3 (ipykernel)",
   "language": "python",
   "name": "python3"
  },
  "language_info": {
   "codemirror_mode": {
    "name": "ipython",
    "version": 3
   },
   "file_extension": ".py",
   "mimetype": "text/x-python",
   "name": "python",
   "nbconvert_exporter": "python",
   "pygments_lexer": "ipython3",
   "version": "3.9.12"
  },
  "widgets": {
   "application/vnd.jupyter.widget-state+json": {
    "state": {
     "01d4db673c144a238ec45931913b3e53": {
      "model_module": "@jupyter-widgets/base",
      "model_module_version": "1.2.0",
      "model_name": "LayoutModel",
      "state": {}
     },
     "04b00fcece354c43abe45800addd8da6": {
      "model_module": "@jupyter-widgets/controls",
      "model_module_version": "1.5.0",
      "model_name": "ProgressStyleModel",
      "state": {
       "description_width": ""
      }
     },
     "04f6e2b6064249e8850bbf7b1a0c3a60": {
      "model_module": "@jupyter-widgets/controls",
      "model_module_version": "1.5.0",
      "model_name": "ProgressStyleModel",
      "state": {
       "description_width": ""
      }
     },
     "08975b46519e410f886dae4aa26a1b84": {
      "model_module": "@jupyter-widgets/base",
      "model_module_version": "1.2.0",
      "model_name": "LayoutModel",
      "state": {}
     },
     "090d463aef6c476b8267c29e703a67da": {
      "model_module": "@jupyter-widgets/controls",
      "model_module_version": "1.5.0",
      "model_name": "HBoxModel",
      "state": {
       "children": [
        "IPY_MODEL_d9f8286e99ec4adc8d07d3e5eac4a6e8",
        "IPY_MODEL_dff9b71cc35c42988af118387b2b4da1",
        "IPY_MODEL_9069bf307d474c8aba39ce551b2228fd"
       ],
       "layout": "IPY_MODEL_8471f58af4474e1383021a55809c8463"
      }
     },
     "0ad222d037684f3494e913ed2461ce99": {
      "model_module": "@jupyter-widgets/controls",
      "model_module_version": "1.5.0",
      "model_name": "FloatProgressModel",
      "state": {
       "bar_style": "success",
       "layout": "IPY_MODEL_b418f78d88b84d28b50bee264edf4f45",
       "max": 2541,
       "style": "IPY_MODEL_d2810e8ee76a4433a5e9cb4044e92645",
       "value": 2541
      }
     },
     "0b10257b54b94ee49c40cbef98397422": {
      "model_module": "@jupyter-widgets/controls",
      "model_module_version": "1.5.0",
      "model_name": "DescriptionStyleModel",
      "state": {
       "description_width": ""
      }
     },
     "0ea1ced3bdf14d74b2797c5334681446": {
      "model_module": "@jupyter-widgets/base",
      "model_module_version": "1.2.0",
      "model_name": "LayoutModel",
      "state": {}
     },
     "0fd7a008beab40ae868d350af8873f87": {
      "model_module": "@jupyter-widgets/controls",
      "model_module_version": "1.5.0",
      "model_name": "DescriptionStyleModel",
      "state": {
       "description_width": ""
      }
     },
     "10ef6bbcd68d44bbacc3e25fbb39e9a3": {
      "model_module": "@jupyter-widgets/base",
      "model_module_version": "1.2.0",
      "model_name": "LayoutModel",
      "state": {}
     },
     "12e0c609a9db4d65b3112675b010924d": {
      "model_module": "@jupyter-widgets/base",
      "model_module_version": "1.2.0",
      "model_name": "LayoutModel",
      "state": {}
     },
     "13610dffb2aa483093476f8b800199a7": {
      "model_module": "@jupyter-widgets/base",
      "model_module_version": "1.2.0",
      "model_name": "LayoutModel",
      "state": {}
     },
     "18b185a4080c419b887ad6b92fc16d83": {
      "model_module": "@jupyter-widgets/controls",
      "model_module_version": "1.5.0",
      "model_name": "HTMLModel",
      "state": {
       "layout": "IPY_MODEL_a3ac84f1866d418ba0332fbbc216a480",
       "style": "IPY_MODEL_824518de2d2941c089d52e432248eddb",
       "value": " 2541/2541 [00:00&lt;00:00, 3785.90ex/s]"
      }
     },
     "19913c7a298546fa995d4bea50ebd110": {
      "model_module": "@jupyter-widgets/base",
      "model_module_version": "1.2.0",
      "model_name": "LayoutModel",
      "state": {}
     },
     "1bb074cef3e645db94cc8f7345af9640": {
      "model_module": "@jupyter-widgets/controls",
      "model_module_version": "1.5.0",
      "model_name": "ProgressStyleModel",
      "state": {
       "description_width": ""
      }
     },
     "1d91cda1b63b4f7799f05420d53dbbfd": {
      "model_module": "@jupyter-widgets/base",
      "model_module_version": "1.2.0",
      "model_name": "LayoutModel",
      "state": {}
     },
     "2211d6a8d66b4ea99d9b4a0da194371d": {
      "model_module": "@jupyter-widgets/controls",
      "model_module_version": "1.5.0",
      "model_name": "DescriptionStyleModel",
      "state": {
       "description_width": ""
      }
     },
     "233bc38e17894d01b1e713d83d3af49b": {
      "model_module": "@jupyter-widgets/base",
      "model_module_version": "1.2.0",
      "model_name": "LayoutModel",
      "state": {}
     },
     "234c96c7e49f47ea87c524d0d9342b29": {
      "model_module": "@jupyter-widgets/controls",
      "model_module_version": "1.5.0",
      "model_name": "HTMLModel",
      "state": {
       "layout": "IPY_MODEL_19913c7a298546fa995d4bea50ebd110",
       "style": "IPY_MODEL_5737380854e8448794a513d515937910",
       "value": " 2541/2541 [00:00&lt;00:00, 3736.34ex/s]"
      }
     },
     "24781448a4ae4fc79e9223e11d00e06e": {
      "model_module": "@jupyter-widgets/base",
      "model_module_version": "1.2.0",
      "model_name": "LayoutModel",
      "state": {}
     },
     "27111eaa59174139b4f389d1f1e89a4a": {
      "model_module": "@jupyter-widgets/controls",
      "model_module_version": "1.5.0",
      "model_name": "HTMLModel",
      "state": {
       "layout": "IPY_MODEL_c066de423f92430aaaf426321f648827",
       "style": "IPY_MODEL_d47bbd67cb0f431fae06cf99d13b2e20",
       "value": "100%"
      }
     },
     "2b2a98489ec44ec68967c12778395761": {
      "model_module": "@jupyter-widgets/base",
      "model_module_version": "1.2.0",
      "model_name": "LayoutModel",
      "state": {}
     },
     "2db5062edab14819b1dd4448c4bbadb7": {
      "model_module": "@jupyter-widgets/controls",
      "model_module_version": "1.5.0",
      "model_name": "HTMLModel",
      "state": {
       "layout": "IPY_MODEL_0ea1ced3bdf14d74b2797c5334681446",
       "style": "IPY_MODEL_84b443f9c0394df29030e723ee0b0744",
       "value": " 2541/2541 [00:00&lt;00:00, 4002.34ex/s]"
      }
     },
     "308cd4b018e54f3fb7f98b7191d93f4f": {
      "model_module": "@jupyter-widgets/controls",
      "model_module_version": "1.5.0",
      "model_name": "HTMLModel",
      "state": {
       "layout": "IPY_MODEL_ddfca21812a0457b94bf170445892334",
       "style": "IPY_MODEL_5e209fe5c7584c008f5cc94c729d1cb4",
       "value": "100%"
      }
     },
     "30bb43ef68e74ccf9e4d4d42cfbec6fd": {
      "model_module": "@jupyter-widgets/controls",
      "model_module_version": "1.5.0",
      "model_name": "DescriptionStyleModel",
      "state": {
       "description_width": ""
      }
     },
     "322e8f63003848f89fae7c1a2819ac39": {
      "model_module": "@jupyter-widgets/base",
      "model_module_version": "1.2.0",
      "model_name": "LayoutModel",
      "state": {}
     },
     "334b06c353014ffeb1bb0f174c0c3d88": {
      "model_module": "@jupyter-widgets/controls",
      "model_module_version": "1.5.0",
      "model_name": "HTMLModel",
      "state": {
       "layout": "IPY_MODEL_6f4eb132e7f740a0b93195ddc57201c0",
       "style": "IPY_MODEL_30bb43ef68e74ccf9e4d4d42cfbec6fd",
       "value": "100%"
      }
     },
     "33597acaf4c04454abf5e95baffbdd75": {
      "model_module": "@jupyter-widgets/base",
      "model_module_version": "1.2.0",
      "model_name": "LayoutModel",
      "state": {}
     },
     "3377f1ddab2f442c839121868a12181c": {
      "model_module": "@jupyter-widgets/controls",
      "model_module_version": "1.5.0",
      "model_name": "HBoxModel",
      "state": {
       "children": [
        "IPY_MODEL_3bdc921a1ad14eeab5d034711108e331",
        "IPY_MODEL_6574a769d06d4dfe8609cacef96aa35e",
        "IPY_MODEL_2db5062edab14819b1dd4448c4bbadb7"
       ],
       "layout": "IPY_MODEL_3dfd8224a144431689314eddd8cc3279"
      }
     },
     "37304c7226a747e1999988f3d978e4bf": {
      "model_module": "@jupyter-widgets/controls",
      "model_module_version": "1.5.0",
      "model_name": "HTMLModel",
      "state": {
       "layout": "IPY_MODEL_233bc38e17894d01b1e713d83d3af49b",
       "style": "IPY_MODEL_f62c7a1961ee4152a4eb853806646c8c",
       "value": "100%"
      }
     },
     "3a817f8d7f234c40ac2c17782e5ffea0": {
      "model_module": "@jupyter-widgets/controls",
      "model_module_version": "1.5.0",
      "model_name": "HTMLModel",
      "state": {
       "layout": "IPY_MODEL_3d9e268cc82740cfb711484b29aa01e2",
       "style": "IPY_MODEL_a160804c0f4b4a20836bf63abfe84d7f",
       "value": "100%"
      }
     },
     "3bdc921a1ad14eeab5d034711108e331": {
      "model_module": "@jupyter-widgets/controls",
      "model_module_version": "1.5.0",
      "model_name": "HTMLModel",
      "state": {
       "layout": "IPY_MODEL_6bdbe4e5f37a449796e3eeaf75f30e2e",
       "style": "IPY_MODEL_50f7a78b16a044ee9d883a99d2dc2550",
       "value": "100%"
      }
     },
     "3ce8b76902d64370bd4b791005ffb172": {
      "model_module": "@jupyter-widgets/controls",
      "model_module_version": "1.5.0",
      "model_name": "FloatProgressModel",
      "state": {
       "bar_style": "success",
       "layout": "IPY_MODEL_56a2848d3b714848ace1a545a60c4d0e",
       "max": 2541,
       "style": "IPY_MODEL_e865d1f32a1b4ab0bf1645e362f8bc2a",
       "value": 2541
      }
     },
     "3cf95f31f1b042c7a4ab7a7122fb86df": {
      "model_module": "@jupyter-widgets/controls",
      "model_module_version": "1.5.0",
      "model_name": "HBoxModel",
      "state": {
       "children": [
        "IPY_MODEL_27111eaa59174139b4f389d1f1e89a4a",
        "IPY_MODEL_59519d4de40c4f2fb0dfbc0d1f688797",
        "IPY_MODEL_b304c9a1b84c46719887234c000c96bf"
       ],
       "layout": "IPY_MODEL_12e0c609a9db4d65b3112675b010924d"
      }
     },
     "3d9e268cc82740cfb711484b29aa01e2": {
      "model_module": "@jupyter-widgets/base",
      "model_module_version": "1.2.0",
      "model_name": "LayoutModel",
      "state": {}
     },
     "3dfd8224a144431689314eddd8cc3279": {
      "model_module": "@jupyter-widgets/base",
      "model_module_version": "1.2.0",
      "model_name": "LayoutModel",
      "state": {}
     },
     "3e094b32ea8242afa61da271e4952e54": {
      "model_module": "@jupyter-widgets/controls",
      "model_module_version": "1.5.0",
      "model_name": "DescriptionStyleModel",
      "state": {
       "description_width": ""
      }
     },
     "3e2dfe5377fb4070899c72913d28a089": {
      "model_module": "@jupyter-widgets/base",
      "model_module_version": "1.2.0",
      "model_name": "LayoutModel",
      "state": {}
     },
     "3e3a832dc830429fa71feee745db2c50": {
      "model_module": "@jupyter-widgets/base",
      "model_module_version": "1.2.0",
      "model_name": "LayoutModel",
      "state": {}
     },
     "426493da0e7543b6bc520dd5f3645054": {
      "model_module": "@jupyter-widgets/controls",
      "model_module_version": "1.5.0",
      "model_name": "FloatProgressModel",
      "state": {
       "bar_style": "success",
       "layout": "IPY_MODEL_08975b46519e410f886dae4aa26a1b84",
       "max": 17839,
       "style": "IPY_MODEL_4c76062a7cad45aea33dc1adf60cda32",
       "value": 17839
      }
     },
     "44249733c2b9479088ec54c31e42b8fb": {
      "model_module": "@jupyter-widgets/base",
      "model_module_version": "1.2.0",
      "model_name": "LayoutModel",
      "state": {}
     },
     "47265179b85c4475bbb5d2f0858f771a": {
      "model_module": "@jupyter-widgets/controls",
      "model_module_version": "1.5.0",
      "model_name": "FloatProgressModel",
      "state": {
       "bar_style": "success",
       "layout": "IPY_MODEL_56ca5c15ba0f4d369bafba37b02c78dc",
       "max": 2541,
       "style": "IPY_MODEL_4d667e8cedf04abcb21475fd6eeb5cc5",
       "value": 2541
      }
     },
     "49b57a6d6d02447e90d1fc4f6d733647": {
      "model_module": "@jupyter-widgets/base",
      "model_module_version": "1.2.0",
      "model_name": "LayoutModel",
      "state": {}
     },
     "4a1e37ff232941d6858499d6bec68af4": {
      "model_module": "@jupyter-widgets/controls",
      "model_module_version": "1.5.0",
      "model_name": "HTMLModel",
      "state": {
       "layout": "IPY_MODEL_768fbbbfacc24a509c775d5bf6b9eb49",
       "style": "IPY_MODEL_2211d6a8d66b4ea99d9b4a0da194371d",
       "value": "100%"
      }
     },
     "4b5aa6a2d308436990e732fc45dfc18a": {
      "model_module": "@jupyter-widgets/controls",
      "model_module_version": "1.5.0",
      "model_name": "ProgressStyleModel",
      "state": {
       "description_width": ""
      }
     },
     "4c0ff487f48a46bc901cd9db7ec4bfc7": {
      "model_module": "@jupyter-widgets/controls",
      "model_module_version": "1.5.0",
      "model_name": "HTMLModel",
      "state": {
       "layout": "IPY_MODEL_1d91cda1b63b4f7799f05420d53dbbfd",
       "style": "IPY_MODEL_b49433c74cde4ca3b44cbe0c189f68e4",
       "value": "100%"
      }
     },
     "4c76062a7cad45aea33dc1adf60cda32": {
      "model_module": "@jupyter-widgets/controls",
      "model_module_version": "1.5.0",
      "model_name": "ProgressStyleModel",
      "state": {
       "description_width": ""
      }
     },
     "4d667e8cedf04abcb21475fd6eeb5cc5": {
      "model_module": "@jupyter-widgets/controls",
      "model_module_version": "1.5.0",
      "model_name": "ProgressStyleModel",
      "state": {
       "description_width": ""
      }
     },
     "4d6df4cff21a4cac9f35cad5831596d9": {
      "model_module": "@jupyter-widgets/controls",
      "model_module_version": "1.5.0",
      "model_name": "DescriptionStyleModel",
      "state": {
       "description_width": ""
      }
     },
     "50667df0963242ab9fbad8ff18a1daf3": {
      "model_module": "@jupyter-widgets/base",
      "model_module_version": "1.2.0",
      "model_name": "LayoutModel",
      "state": {}
     },
     "50dd877ab9c1468ab950adbc6820c449": {
      "model_module": "@jupyter-widgets/controls",
      "model_module_version": "1.5.0",
      "model_name": "HBoxModel",
      "state": {
       "children": [
        "IPY_MODEL_f5659d80e2f24085a178eea745729b05",
        "IPY_MODEL_be931f3ee5bc4954980b0bdc0c385640",
        "IPY_MODEL_eee391f22369482e91b37f5a2f67a473"
       ],
       "layout": "IPY_MODEL_3e2dfe5377fb4070899c72913d28a089"
      }
     },
     "50f7a78b16a044ee9d883a99d2dc2550": {
      "model_module": "@jupyter-widgets/controls",
      "model_module_version": "1.5.0",
      "model_name": "DescriptionStyleModel",
      "state": {
       "description_width": ""
      }
     },
     "515d4d3bfc5c4be98704851607184be2": {
      "model_module": "@jupyter-widgets/controls",
      "model_module_version": "1.5.0",
      "model_name": "FloatProgressModel",
      "state": {
       "bar_style": "success",
       "layout": "IPY_MODEL_ef553945c42049e8a4db375971facec8",
       "max": 2763,
       "style": "IPY_MODEL_4b5aa6a2d308436990e732fc45dfc18a",
       "value": 2763
      }
     },
     "52426143b20649279320b3a1d239d396": {
      "model_module": "@jupyter-widgets/base",
      "model_module_version": "1.2.0",
      "model_name": "LayoutModel",
      "state": {}
     },
     "52c6b4b2255b4c8f8bec4985dabac117": {
      "model_module": "@jupyter-widgets/controls",
      "model_module_version": "1.5.0",
      "model_name": "DescriptionStyleModel",
      "state": {
       "description_width": ""
      }
     },
     "52e697ca2d524b0ea33a6b439e5112bd": {
      "model_module": "@jupyter-widgets/controls",
      "model_module_version": "1.5.0",
      "model_name": "HTMLModel",
      "state": {
       "layout": "IPY_MODEL_83f21b7f9b5746199323336917ebc4c6",
       "style": "IPY_MODEL_ca0c9fa0fb004073aea286324b63c035",
       "value": "100%"
      }
     },
     "5437a4b70147436d8bcabe54470c71eb": {
      "model_module": "@jupyter-widgets/controls",
      "model_module_version": "1.5.0",
      "model_name": "HBoxModel",
      "state": {
       "children": [
        "IPY_MODEL_334b06c353014ffeb1bb0f174c0c3d88",
        "IPY_MODEL_d7b7db76d84d49769e6315da7bbd53e4",
        "IPY_MODEL_683075aebf1549c4aee918e6064f375c"
       ],
       "layout": "IPY_MODEL_b077110ef97e40e19e3c548a9b9f46c1"
      }
     },
     "556065ed17bc46b3a5f91165889af774": {
      "model_module": "@jupyter-widgets/controls",
      "model_module_version": "1.5.0",
      "model_name": "DescriptionStyleModel",
      "state": {
       "description_width": ""
      }
     },
     "56a2848d3b714848ace1a545a60c4d0e": {
      "model_module": "@jupyter-widgets/base",
      "model_module_version": "1.2.0",
      "model_name": "LayoutModel",
      "state": {}
     },
     "56ca5c15ba0f4d369bafba37b02c78dc": {
      "model_module": "@jupyter-widgets/base",
      "model_module_version": "1.2.0",
      "model_name": "LayoutModel",
      "state": {}
     },
     "5737380854e8448794a513d515937910": {
      "model_module": "@jupyter-widgets/controls",
      "model_module_version": "1.5.0",
      "model_name": "DescriptionStyleModel",
      "state": {
       "description_width": ""
      }
     },
     "574d8f74daae4b1fbb0ee177e7a5274c": {
      "model_module": "@jupyter-widgets/base",
      "model_module_version": "1.2.0",
      "model_name": "LayoutModel",
      "state": {}
     },
     "579aa3f6784f42f4ba6503a8e40174dc": {
      "model_module": "@jupyter-widgets/controls",
      "model_module_version": "1.5.0",
      "model_name": "HTMLModel",
      "state": {
       "layout": "IPY_MODEL_94adb7703ce64618947175e01c688fa6",
       "style": "IPY_MODEL_fb92d8d9dd294170b3e0b994f68bde25",
       "value": " 2541/2541 [00:00&lt;00:00, 3735.96ex/s]"
      }
     },
     "58a522d237e94015be9921490f7d9c0d": {
      "model_module": "@jupyter-widgets/base",
      "model_module_version": "1.2.0",
      "model_name": "LayoutModel",
      "state": {}
     },
     "59519d4de40c4f2fb0dfbc0d1f688797": {
      "model_module": "@jupyter-widgets/controls",
      "model_module_version": "1.5.0",
      "model_name": "FloatProgressModel",
      "state": {
       "bar_style": "success",
       "layout": "IPY_MODEL_719158d220494676910593c76b3bb338",
       "max": 2541,
       "style": "IPY_MODEL_c16470f9d1164b0aaa358fd5da2341fd",
       "value": 2541
      }
     },
     "5daf2504c55a4a098799e3afc5e33e7a": {
      "model_module": "@jupyter-widgets/controls",
      "model_module_version": "1.5.0",
      "model_name": "DescriptionStyleModel",
      "state": {
       "description_width": ""
      }
     },
     "5e209fe5c7584c008f5cc94c729d1cb4": {
      "model_module": "@jupyter-widgets/controls",
      "model_module_version": "1.5.0",
      "model_name": "DescriptionStyleModel",
      "state": {
       "description_width": ""
      }
     },
     "640767a241da4db1aff27bb529c71a2b": {
      "model_module": "@jupyter-widgets/controls",
      "model_module_version": "1.5.0",
      "model_name": "DescriptionStyleModel",
      "state": {
       "description_width": ""
      }
     },
     "6574a769d06d4dfe8609cacef96aa35e": {
      "model_module": "@jupyter-widgets/controls",
      "model_module_version": "1.5.0",
      "model_name": "FloatProgressModel",
      "state": {
       "bar_style": "success",
       "layout": "IPY_MODEL_50667df0963242ab9fbad8ff18a1daf3",
       "max": 2541,
       "style": "IPY_MODEL_8d67e2a3c9bc47febff5a9c185a696db",
       "value": 2541
      }
     },
     "65f0841a564449b5a32fdde06f7b38e0": {
      "model_module": "@jupyter-widgets/base",
      "model_module_version": "1.2.0",
      "model_name": "LayoutModel",
      "state": {}
     },
     "6825319440c543a99f7f85ac3eab80e4": {
      "model_module": "@jupyter-widgets/base",
      "model_module_version": "1.2.0",
      "model_name": "LayoutModel",
      "state": {}
     },
     "683075aebf1549c4aee918e6064f375c": {
      "model_module": "@jupyter-widgets/controls",
      "model_module_version": "1.5.0",
      "model_name": "HTMLModel",
      "state": {
       "layout": "IPY_MODEL_24781448a4ae4fc79e9223e11d00e06e",
       "style": "IPY_MODEL_f46267eef6d4418fb739f2de4079ed4e",
       "value": " 2541/2541 [00:00&lt;00:00, 3438.66ex/s]"
      }
     },
     "6bdbe4e5f37a449796e3eeaf75f30e2e": {
      "model_module": "@jupyter-widgets/base",
      "model_module_version": "1.2.0",
      "model_name": "LayoutModel",
      "state": {}
     },
     "6c89a433ee004aa9a9e79f0e4ca2d93a": {
      "model_module": "@jupyter-widgets/base",
      "model_module_version": "1.2.0",
      "model_name": "LayoutModel",
      "state": {}
     },
     "6cee97f252f9480794192e3928e81dbe": {
      "model_module": "@jupyter-widgets/controls",
      "model_module_version": "1.5.0",
      "model_name": "HBoxModel",
      "state": {
       "children": [
        "IPY_MODEL_e3373e88abff489d91bee965d323ebf5",
        "IPY_MODEL_47265179b85c4475bbb5d2f0858f771a",
        "IPY_MODEL_af24abd5e710408f936f84b515ec9eec"
       ],
       "layout": "IPY_MODEL_e2b42be6d4fd4816931ccce6f9e0737e"
      }
     },
     "6ceec41272c54cc88c8a24ca27c61729": {
      "model_module": "@jupyter-widgets/controls",
      "model_module_version": "1.5.0",
      "model_name": "ProgressStyleModel",
      "state": {
       "description_width": ""
      }
     },
     "6d752e8da5c24b0092feb23628f5e7fb": {
      "model_module": "@jupyter-widgets/base",
      "model_module_version": "1.2.0",
      "model_name": "LayoutModel",
      "state": {}
     },
     "6f0f0e01a6084d12a84c21855fe2426b": {
      "model_module": "@jupyter-widgets/controls",
      "model_module_version": "1.5.0",
      "model_name": "HBoxModel",
      "state": {
       "children": [
        "IPY_MODEL_4a1e37ff232941d6858499d6bec68af4",
        "IPY_MODEL_0ad222d037684f3494e913ed2461ce99",
        "IPY_MODEL_579aa3f6784f42f4ba6503a8e40174dc"
       ],
       "layout": "IPY_MODEL_89500776a6fc4c348aff79b1da73bf17"
      }
     },
     "6f1d6cd8be6c4d4eb66883d2fcd928b3": {
      "model_module": "@jupyter-widgets/controls",
      "model_module_version": "1.5.0",
      "model_name": "ProgressStyleModel",
      "state": {
       "description_width": ""
      }
     },
     "6f4eb132e7f740a0b93195ddc57201c0": {
      "model_module": "@jupyter-widgets/base",
      "model_module_version": "1.2.0",
      "model_name": "LayoutModel",
      "state": {}
     },
     "705cd95a66534699891d9c7eb84464a0": {
      "model_module": "@jupyter-widgets/controls",
      "model_module_version": "1.5.0",
      "model_name": "DescriptionStyleModel",
      "state": {
       "description_width": ""
      }
     },
     "719158d220494676910593c76b3bb338": {
      "model_module": "@jupyter-widgets/base",
      "model_module_version": "1.2.0",
      "model_name": "LayoutModel",
      "state": {}
     },
     "72e0ac3da17f4432bacf1c2f98ef393c": {
      "model_module": "@jupyter-widgets/base",
      "model_module_version": "1.2.0",
      "model_name": "LayoutModel",
      "state": {}
     },
     "7435107558af41178b8a79775b35536d": {
      "model_module": "@jupyter-widgets/controls",
      "model_module_version": "1.5.0",
      "model_name": "DescriptionStyleModel",
      "state": {
       "description_width": ""
      }
     },
     "75068b72233b4e97b81ac8d1995f7712": {
      "model_module": "@jupyter-widgets/base",
      "model_module_version": "1.2.0",
      "model_name": "LayoutModel",
      "state": {}
     },
     "758db6a91ab24984894b05e248a6c3e4": {
      "model_module": "@jupyter-widgets/controls",
      "model_module_version": "1.5.0",
      "model_name": "FloatProgressModel",
      "state": {
       "bar_style": "success",
       "layout": "IPY_MODEL_c2f93e56e5ea45059de335b218bf1180",
       "max": 17839,
       "style": "IPY_MODEL_6ceec41272c54cc88c8a24ca27c61729",
       "value": 17839
      }
     },
     "768fbbbfacc24a509c775d5bf6b9eb49": {
      "model_module": "@jupyter-widgets/base",
      "model_module_version": "1.2.0",
      "model_name": "LayoutModel",
      "state": {}
     },
     "78bfaeb15a284cb2b9b0305aae958686": {
      "model_module": "@jupyter-widgets/controls",
      "model_module_version": "1.5.0",
      "model_name": "HTMLModel",
      "state": {
       "layout": "IPY_MODEL_10ef6bbcd68d44bbacc3e25fbb39e9a3",
       "style": "IPY_MODEL_db3681eb0cab4948a13712b666d4fd57",
       "value": " 2763/2763 [00:00&lt;00:00, 3876.06ex/s]"
      }
     },
     "7b9337952e4b4e59a1a43d04ecb202da": {
      "model_module": "@jupyter-widgets/base",
      "model_module_version": "1.2.0",
      "model_name": "LayoutModel",
      "state": {}
     },
     "7ddca92a68044165948c199d3901779b": {
      "model_module": "@jupyter-widgets/controls",
      "model_module_version": "1.5.0",
      "model_name": "HBoxModel",
      "state": {
       "children": [
        "IPY_MODEL_cce83dfb1ea942fe84d1f1a5d7580b8e",
        "IPY_MODEL_a8b5fa419f7e435293035c7b5b8ce899",
        "IPY_MODEL_807f903e3e064489b0cf284b70184882"
       ],
       "layout": "IPY_MODEL_8134649f5d01493ca2fa00ee6fb2f171"
      }
     },
     "7e44b3f86f73437cac0922c34b5515b2": {
      "model_module": "@jupyter-widgets/controls",
      "model_module_version": "1.5.0",
      "model_name": "ProgressStyleModel",
      "state": {
       "description_width": ""
      }
     },
     "7f505c1051d04dc7be50d5c184b7248b": {
      "model_module": "@jupyter-widgets/base",
      "model_module_version": "1.2.0",
      "model_name": "LayoutModel",
      "state": {}
     },
     "8030ea01a69e4e738c1d5f83ca3eded6": {
      "model_module": "@jupyter-widgets/base",
      "model_module_version": "1.2.0",
      "model_name": "LayoutModel",
      "state": {}
     },
     "807f903e3e064489b0cf284b70184882": {
      "model_module": "@jupyter-widgets/controls",
      "model_module_version": "1.5.0",
      "model_name": "HTMLModel",
      "state": {
       "layout": "IPY_MODEL_d3081aad132d46b7bbad858453939bf3",
       "style": "IPY_MODEL_556065ed17bc46b3a5f91165889af774",
       "value": " 17839/17839 [00:05&lt;00:00, 3119.88ex/s]"
      }
     },
     "8134649f5d01493ca2fa00ee6fb2f171": {
      "model_module": "@jupyter-widgets/base",
      "model_module_version": "1.2.0",
      "model_name": "LayoutModel",
      "state": {}
     },
     "824518de2d2941c089d52e432248eddb": {
      "model_module": "@jupyter-widgets/controls",
      "model_module_version": "1.5.0",
      "model_name": "DescriptionStyleModel",
      "state": {
       "description_width": ""
      }
     },
     "83f21b7f9b5746199323336917ebc4c6": {
      "model_module": "@jupyter-widgets/base",
      "model_module_version": "1.2.0",
      "model_name": "LayoutModel",
      "state": {}
     },
     "8471f58af4474e1383021a55809c8463": {
      "model_module": "@jupyter-widgets/base",
      "model_module_version": "1.2.0",
      "model_name": "LayoutModel",
      "state": {}
     },
     "84b443f9c0394df29030e723ee0b0744": {
      "model_module": "@jupyter-widgets/controls",
      "model_module_version": "1.5.0",
      "model_name": "DescriptionStyleModel",
      "state": {
       "description_width": ""
      }
     },
     "89500776a6fc4c348aff79b1da73bf17": {
      "model_module": "@jupyter-widgets/base",
      "model_module_version": "1.2.0",
      "model_name": "LayoutModel",
      "state": {}
     },
     "8d4c2133fc08418f8dc8e205eb39f157": {
      "model_module": "@jupyter-widgets/controls",
      "model_module_version": "1.5.0",
      "model_name": "DescriptionStyleModel",
      "state": {
       "description_width": ""
      }
     },
     "8d67e2a3c9bc47febff5a9c185a696db": {
      "model_module": "@jupyter-widgets/controls",
      "model_module_version": "1.5.0",
      "model_name": "ProgressStyleModel",
      "state": {
       "description_width": ""
      }
     },
     "8f2056f1a3764ce8885c786b6d28a5d1": {
      "model_module": "@jupyter-widgets/base",
      "model_module_version": "1.2.0",
      "model_name": "LayoutModel",
      "state": {}
     },
     "9069bf307d474c8aba39ce551b2228fd": {
      "model_module": "@jupyter-widgets/controls",
      "model_module_version": "1.5.0",
      "model_name": "HTMLModel",
      "state": {
       "layout": "IPY_MODEL_d2cd1de4b07c4e2a8e72f8baea2c3c91",
       "style": "IPY_MODEL_ef3a062e26f2492d8803d7ee77a3f467",
       "value": " 17839/17839 [00:05&lt;00:00, 3085.89ex/s]"
      }
     },
     "9242f313174f4cda8db0ea6284e6afad": {
      "model_module": "@jupyter-widgets/controls",
      "model_module_version": "1.5.0",
      "model_name": "FloatProgressModel",
      "state": {
       "bar_style": "success",
       "layout": "IPY_MODEL_8f2056f1a3764ce8885c786b6d28a5d1",
       "max": 2763,
       "style": "IPY_MODEL_04f6e2b6064249e8850bbf7b1a0c3a60",
       "value": 2763
      }
     },
     "94adb7703ce64618947175e01c688fa6": {
      "model_module": "@jupyter-widgets/base",
      "model_module_version": "1.2.0",
      "model_name": "LayoutModel",
      "state": {}
     },
     "97b4fd26ed92499aa1bb281061d663ba": {
      "model_module": "@jupyter-widgets/controls",
      "model_module_version": "1.5.0",
      "model_name": "HBoxModel",
      "state": {
       "children": [
        "IPY_MODEL_37304c7226a747e1999988f3d978e4bf",
        "IPY_MODEL_c889ac2a226f46d69c81f2d68d13fbc7",
        "IPY_MODEL_f38eee65d2ef469f995661fc8a499124"
       ],
       "layout": "IPY_MODEL_e6e3ccd10d614f788ec1d3ed2bcb26f4"
      }
     },
     "9f2369bdf034406396ae35771b9c1283": {
      "model_module": "@jupyter-widgets/base",
      "model_module_version": "1.2.0",
      "model_name": "LayoutModel",
      "state": {}
     },
     "a02531d82300432ba797b2fb87e546c2": {
      "model_module": "@jupyter-widgets/controls",
      "model_module_version": "1.5.0",
      "model_name": "FloatProgressModel",
      "state": {
       "bar_style": "success",
       "layout": "IPY_MODEL_33597acaf4c04454abf5e95baffbdd75",
       "max": 2541,
       "style": "IPY_MODEL_d3030f086dbf4863aee86df2372565c0",
       "value": 2541
      }
     },
     "a160804c0f4b4a20836bf63abfe84d7f": {
      "model_module": "@jupyter-widgets/controls",
      "model_module_version": "1.5.0",
      "model_name": "DescriptionStyleModel",
      "state": {
       "description_width": ""
      }
     },
     "a29a57c63771423ab02a35d3791590f2": {
      "model_module": "@jupyter-widgets/base",
      "model_module_version": "1.2.0",
      "model_name": "LayoutModel",
      "state": {}
     },
     "a3ac84f1866d418ba0332fbbc216a480": {
      "model_module": "@jupyter-widgets/base",
      "model_module_version": "1.2.0",
      "model_name": "LayoutModel",
      "state": {}
     },
     "a3ae76a0a76f48a09968661a5fcce3b0": {
      "model_module": "@jupyter-widgets/controls",
      "model_module_version": "1.5.0",
      "model_name": "HBoxModel",
      "state": {
       "children": [
        "IPY_MODEL_f4b38217fbc9433d93a4e6a9543bec9c",
        "IPY_MODEL_515d4d3bfc5c4be98704851607184be2",
        "IPY_MODEL_e6dd6492b5554fb38676601d7264ab90"
       ],
       "layout": "IPY_MODEL_13610dffb2aa483093476f8b800199a7"
      }
     },
     "a3fb508bf9b3430baa56299e3c61ce43": {
      "model_module": "@jupyter-widgets/controls",
      "model_module_version": "1.5.0",
      "model_name": "HBoxModel",
      "state": {
       "children": [
        "IPY_MODEL_4c0ff487f48a46bc901cd9db7ec4bfc7",
        "IPY_MODEL_a02531d82300432ba797b2fb87e546c2",
        "IPY_MODEL_b12e93bcf3e34862975dda59c85b51cc"
       ],
       "layout": "IPY_MODEL_3e3a832dc830429fa71feee745db2c50"
      }
     },
     "a422e39956114f0cb985fcc7aceb327f": {
      "model_module": "@jupyter-widgets/base",
      "model_module_version": "1.2.0",
      "model_name": "LayoutModel",
      "state": {}
     },
     "a8b5fa419f7e435293035c7b5b8ce899": {
      "model_module": "@jupyter-widgets/controls",
      "model_module_version": "1.5.0",
      "model_name": "FloatProgressModel",
      "state": {
       "bar_style": "success",
       "layout": "IPY_MODEL_7b9337952e4b4e59a1a43d04ecb202da",
       "max": 17839,
       "style": "IPY_MODEL_f2bac1ca329449bea441ab1b19abe4b9",
       "value": 17839
      }
     },
     "a8f0fa8720634a239ea71df8105b0a6c": {
      "model_module": "@jupyter-widgets/controls",
      "model_module_version": "1.5.0",
      "model_name": "DescriptionStyleModel",
      "state": {
       "description_width": ""
      }
     },
     "a9cd0045c843456a9bcd84eaf0a4f6a4": {
      "model_module": "@jupyter-widgets/controls",
      "model_module_version": "1.5.0",
      "model_name": "HBoxModel",
      "state": {
       "children": [
        "IPY_MODEL_308cd4b018e54f3fb7f98b7191d93f4f",
        "IPY_MODEL_3ce8b76902d64370bd4b791005ffb172",
        "IPY_MODEL_234c96c7e49f47ea87c524d0d9342b29"
       ],
       "layout": "IPY_MODEL_6c89a433ee004aa9a9e79f0e4ca2d93a"
      }
     },
     "aaa304de29504ba1b6f6065b4b3617c4": {
      "model_module": "@jupyter-widgets/controls",
      "model_module_version": "1.5.0",
      "model_name": "DescriptionStyleModel",
      "state": {
       "description_width": ""
      }
     },
     "aeb18fa53ade4199a78fe4f0e589768c": {
      "model_module": "@jupyter-widgets/controls",
      "model_module_version": "1.5.0",
      "model_name": "HBoxModel",
      "state": {
       "children": [
        "IPY_MODEL_3a817f8d7f234c40ac2c17782e5ffea0",
        "IPY_MODEL_426493da0e7543b6bc520dd5f3645054",
        "IPY_MODEL_ba0b8f96213d4d119f0bcad96985e089"
       ],
       "layout": "IPY_MODEL_dde2fae34e2c494095553efbb7341c90"
      }
     },
     "af24abd5e710408f936f84b515ec9eec": {
      "model_module": "@jupyter-widgets/controls",
      "model_module_version": "1.5.0",
      "model_name": "HTMLModel",
      "state": {
       "layout": "IPY_MODEL_322e8f63003848f89fae7c1a2819ac39",
       "style": "IPY_MODEL_d79cb7cae67a457895105cd93c69d563",
       "value": " 2541/2541 [00:00&lt;00:00, 3837.92ex/s]"
      }
     },
     "b077110ef97e40e19e3c548a9b9f46c1": {
      "model_module": "@jupyter-widgets/base",
      "model_module_version": "1.2.0",
      "model_name": "LayoutModel",
      "state": {}
     },
     "b12e93bcf3e34862975dda59c85b51cc": {
      "model_module": "@jupyter-widgets/controls",
      "model_module_version": "1.5.0",
      "model_name": "HTMLModel",
      "state": {
       "layout": "IPY_MODEL_f5e5ea29ad1548ab9bb5fcfd0b3d876e",
       "style": "IPY_MODEL_52c6b4b2255b4c8f8bec4985dabac117",
       "value": " 2541/2541 [00:00&lt;00:00, 3792.18ex/s]"
      }
     },
     "b1987f94e6cc4afca47aa3297100b6b6": {
      "model_module": "@jupyter-widgets/controls",
      "model_module_version": "1.5.0",
      "model_name": "DescriptionStyleModel",
      "state": {
       "description_width": ""
      }
     },
     "b304c9a1b84c46719887234c000c96bf": {
      "model_module": "@jupyter-widgets/controls",
      "model_module_version": "1.5.0",
      "model_name": "HTMLModel",
      "state": {
       "layout": "IPY_MODEL_52426143b20649279320b3a1d239d396",
       "style": "IPY_MODEL_eebd6dcb446040ba8995cc2a4f85c3fa",
       "value": " 2541/2541 [00:00&lt;00:00, 21045.20ex/s]"
      }
     },
     "b418f78d88b84d28b50bee264edf4f45": {
      "model_module": "@jupyter-widgets/base",
      "model_module_version": "1.2.0",
      "model_name": "LayoutModel",
      "state": {}
     },
     "b49433c74cde4ca3b44cbe0c189f68e4": {
      "model_module": "@jupyter-widgets/controls",
      "model_module_version": "1.5.0",
      "model_name": "DescriptionStyleModel",
      "state": {
       "description_width": ""
      }
     },
     "ba0b8f96213d4d119f0bcad96985e089": {
      "model_module": "@jupyter-widgets/controls",
      "model_module_version": "1.5.0",
      "model_name": "HTMLModel",
      "state": {
       "layout": "IPY_MODEL_44249733c2b9479088ec54c31e42b8fb",
       "style": "IPY_MODEL_a8f0fa8720634a239ea71df8105b0a6c",
       "value": " 17839/17839 [00:05&lt;00:00, 3167.59ex/s]"
      }
     },
     "be906f4ff30a4d80b5b2938ba3963d59": {
      "model_module": "@jupyter-widgets/base",
      "model_module_version": "1.2.0",
      "model_name": "LayoutModel",
      "state": {}
     },
     "be931f3ee5bc4954980b0bdc0c385640": {
      "model_module": "@jupyter-widgets/controls",
      "model_module_version": "1.5.0",
      "model_name": "FloatProgressModel",
      "state": {
       "bar_style": "success",
       "layout": "IPY_MODEL_8030ea01a69e4e738c1d5f83ca3eded6",
       "max": 2763,
       "style": "IPY_MODEL_f4224fc7503147bb9ae77b74cb7bcbc5",
       "value": 2763
      }
     },
     "c066de423f92430aaaf426321f648827": {
      "model_module": "@jupyter-widgets/base",
      "model_module_version": "1.2.0",
      "model_name": "LayoutModel",
      "state": {}
     },
     "c0a2f42990824c1089346498fcf5336a": {
      "model_module": "@jupyter-widgets/controls",
      "model_module_version": "1.5.0",
      "model_name": "HBoxModel",
      "state": {
       "children": [
        "IPY_MODEL_e73fc1faa206427b853f4c37f6801993",
        "IPY_MODEL_758db6a91ab24984894b05e248a6c3e4",
        "IPY_MODEL_f22f9d33fa794f0fa7ff144114411188"
       ],
       "layout": "IPY_MODEL_75068b72233b4e97b81ac8d1995f7712"
      }
     },
     "c16470f9d1164b0aaa358fd5da2341fd": {
      "model_module": "@jupyter-widgets/controls",
      "model_module_version": "1.5.0",
      "model_name": "ProgressStyleModel",
      "state": {
       "description_width": ""
      }
     },
     "c2f93e56e5ea45059de335b218bf1180": {
      "model_module": "@jupyter-widgets/base",
      "model_module_version": "1.2.0",
      "model_name": "LayoutModel",
      "state": {}
     },
     "c889ac2a226f46d69c81f2d68d13fbc7": {
      "model_module": "@jupyter-widgets/controls",
      "model_module_version": "1.5.0",
      "model_name": "FloatProgressModel",
      "state": {
       "bar_style": "success",
       "layout": "IPY_MODEL_01d4db673c144a238ec45931913b3e53",
       "max": 2763,
       "style": "IPY_MODEL_7e44b3f86f73437cac0922c34b5515b2",
       "value": 2763
      }
     },
     "ca0c9fa0fb004073aea286324b63c035": {
      "model_module": "@jupyter-widgets/controls",
      "model_module_version": "1.5.0",
      "model_name": "DescriptionStyleModel",
      "state": {
       "description_width": ""
      }
     },
     "cce83dfb1ea942fe84d1f1a5d7580b8e": {
      "model_module": "@jupyter-widgets/controls",
      "model_module_version": "1.5.0",
      "model_name": "HTMLModel",
      "state": {
       "layout": "IPY_MODEL_49b57a6d6d02447e90d1fc4f6d733647",
       "style": "IPY_MODEL_aaa304de29504ba1b6f6065b4b3617c4",
       "value": "100%"
      }
     },
     "d059971edc354f71af787daf11de22e3": {
      "model_module": "@jupyter-widgets/base",
      "model_module_version": "1.2.0",
      "model_name": "LayoutModel",
      "state": {}
     },
     "d2810e8ee76a4433a5e9cb4044e92645": {
      "model_module": "@jupyter-widgets/controls",
      "model_module_version": "1.5.0",
      "model_name": "ProgressStyleModel",
      "state": {
       "description_width": ""
      }
     },
     "d2cd1de4b07c4e2a8e72f8baea2c3c91": {
      "model_module": "@jupyter-widgets/base",
      "model_module_version": "1.2.0",
      "model_name": "LayoutModel",
      "state": {}
     },
     "d3030f086dbf4863aee86df2372565c0": {
      "model_module": "@jupyter-widgets/controls",
      "model_module_version": "1.5.0",
      "model_name": "ProgressStyleModel",
      "state": {
       "description_width": ""
      }
     },
     "d3081aad132d46b7bbad858453939bf3": {
      "model_module": "@jupyter-widgets/base",
      "model_module_version": "1.2.0",
      "model_name": "LayoutModel",
      "state": {}
     },
     "d47bbd67cb0f431fae06cf99d13b2e20": {
      "model_module": "@jupyter-widgets/controls",
      "model_module_version": "1.5.0",
      "model_name": "DescriptionStyleModel",
      "state": {
       "description_width": ""
      }
     },
     "d79cb7cae67a457895105cd93c69d563": {
      "model_module": "@jupyter-widgets/controls",
      "model_module_version": "1.5.0",
      "model_name": "DescriptionStyleModel",
      "state": {
       "description_width": ""
      }
     },
     "d7b7db76d84d49769e6315da7bbd53e4": {
      "model_module": "@jupyter-widgets/controls",
      "model_module_version": "1.5.0",
      "model_name": "FloatProgressModel",
      "state": {
       "bar_style": "success",
       "layout": "IPY_MODEL_58a522d237e94015be9921490f7d9c0d",
       "max": 2541,
       "style": "IPY_MODEL_04b00fcece354c43abe45800addd8da6",
       "value": 2541
      }
     },
     "d9f8286e99ec4adc8d07d3e5eac4a6e8": {
      "model_module": "@jupyter-widgets/controls",
      "model_module_version": "1.5.0",
      "model_name": "HTMLModel",
      "state": {
       "layout": "IPY_MODEL_72e0ac3da17f4432bacf1c2f98ef393c",
       "style": "IPY_MODEL_640767a241da4db1aff27bb529c71a2b",
       "value": "100%"
      }
     },
     "db3681eb0cab4948a13712b666d4fd57": {
      "model_module": "@jupyter-widgets/controls",
      "model_module_version": "1.5.0",
      "model_name": "DescriptionStyleModel",
      "state": {
       "description_width": ""
      }
     },
     "dcb946e507b94d0a83628f57005c2d43": {
      "model_module": "@jupyter-widgets/controls",
      "model_module_version": "1.5.0",
      "model_name": "FloatProgressModel",
      "state": {
       "bar_style": "success",
       "layout": "IPY_MODEL_e3439204e82148e0b6ddb55baf14e910",
       "max": 2541,
       "style": "IPY_MODEL_1bb074cef3e645db94cc8f7345af9640",
       "value": 2541
      }
     },
     "dde2fae34e2c494095553efbb7341c90": {
      "model_module": "@jupyter-widgets/base",
      "model_module_version": "1.2.0",
      "model_name": "LayoutModel",
      "state": {}
     },
     "ddfca21812a0457b94bf170445892334": {
      "model_module": "@jupyter-widgets/base",
      "model_module_version": "1.2.0",
      "model_name": "LayoutModel",
      "state": {}
     },
     "dff8db6959f34557be4768d12401b331": {
      "model_module": "@jupyter-widgets/controls",
      "model_module_version": "1.5.0",
      "model_name": "HBoxModel",
      "state": {
       "children": [
        "IPY_MODEL_52e697ca2d524b0ea33a6b439e5112bd",
        "IPY_MODEL_dcb946e507b94d0a83628f57005c2d43",
        "IPY_MODEL_18b185a4080c419b887ad6b92fc16d83"
       ],
       "layout": "IPY_MODEL_a422e39956114f0cb985fcc7aceb327f"
      }
     },
     "dff9b71cc35c42988af118387b2b4da1": {
      "model_module": "@jupyter-widgets/controls",
      "model_module_version": "1.5.0",
      "model_name": "FloatProgressModel",
      "state": {
       "bar_style": "success",
       "layout": "IPY_MODEL_d059971edc354f71af787daf11de22e3",
       "max": 17839,
       "style": "IPY_MODEL_6f1d6cd8be6c4d4eb66883d2fcd928b3",
       "value": 17839
      }
     },
     "e2b42be6d4fd4816931ccce6f9e0737e": {
      "model_module": "@jupyter-widgets/base",
      "model_module_version": "1.2.0",
      "model_name": "LayoutModel",
      "state": {}
     },
     "e3373e88abff489d91bee965d323ebf5": {
      "model_module": "@jupyter-widgets/controls",
      "model_module_version": "1.5.0",
      "model_name": "HTMLModel",
      "state": {
       "layout": "IPY_MODEL_2b2a98489ec44ec68967c12778395761",
       "style": "IPY_MODEL_8d4c2133fc08418f8dc8e205eb39f157",
       "value": "100%"
      }
     },
     "e3439204e82148e0b6ddb55baf14e910": {
      "model_module": "@jupyter-widgets/base",
      "model_module_version": "1.2.0",
      "model_name": "LayoutModel",
      "state": {}
     },
     "e6dd6492b5554fb38676601d7264ab90": {
      "model_module": "@jupyter-widgets/controls",
      "model_module_version": "1.5.0",
      "model_name": "HTMLModel",
      "state": {
       "layout": "IPY_MODEL_f758b2ee78e640138efea43edda2f1fd",
       "style": "IPY_MODEL_705cd95a66534699891d9c7eb84464a0",
       "value": " 2763/2763 [00:00&lt;00:00, 3924.89ex/s]"
      }
     },
     "e6e3ccd10d614f788ec1d3ed2bcb26f4": {
      "model_module": "@jupyter-widgets/base",
      "model_module_version": "1.2.0",
      "model_name": "LayoutModel",
      "state": {}
     },
     "e73fc1faa206427b853f4c37f6801993": {
      "model_module": "@jupyter-widgets/controls",
      "model_module_version": "1.5.0",
      "model_name": "HTMLModel",
      "state": {
       "layout": "IPY_MODEL_a29a57c63771423ab02a35d3791590f2",
       "style": "IPY_MODEL_3e094b32ea8242afa61da271e4952e54",
       "value": "100%"
      }
     },
     "e865d1f32a1b4ab0bf1645e362f8bc2a": {
      "model_module": "@jupyter-widgets/controls",
      "model_module_version": "1.5.0",
      "model_name": "ProgressStyleModel",
      "state": {
       "description_width": ""
      }
     },
     "eebd6dcb446040ba8995cc2a4f85c3fa": {
      "model_module": "@jupyter-widgets/controls",
      "model_module_version": "1.5.0",
      "model_name": "DescriptionStyleModel",
      "state": {
       "description_width": ""
      }
     },
     "eee391f22369482e91b37f5a2f67a473": {
      "model_module": "@jupyter-widgets/controls",
      "model_module_version": "1.5.0",
      "model_name": "HTMLModel",
      "state": {
       "layout": "IPY_MODEL_be906f4ff30a4d80b5b2938ba3963d59",
       "style": "IPY_MODEL_4d6df4cff21a4cac9f35cad5831596d9",
       "value": " 2763/2763 [00:00&lt;00:00, 3923.72ex/s]"
      }
     },
     "ef3a062e26f2492d8803d7ee77a3f467": {
      "model_module": "@jupyter-widgets/controls",
      "model_module_version": "1.5.0",
      "model_name": "DescriptionStyleModel",
      "state": {
       "description_width": ""
      }
     },
     "ef553945c42049e8a4db375971facec8": {
      "model_module": "@jupyter-widgets/base",
      "model_module_version": "1.2.0",
      "model_name": "LayoutModel",
      "state": {}
     },
     "f22f9d33fa794f0fa7ff144114411188": {
      "model_module": "@jupyter-widgets/controls",
      "model_module_version": "1.5.0",
      "model_name": "HTMLModel",
      "state": {
       "layout": "IPY_MODEL_9f2369bdf034406396ae35771b9c1283",
       "style": "IPY_MODEL_0fd7a008beab40ae868d350af8873f87",
       "value": " 17839/17839 [00:05&lt;00:00, 3083.25ex/s]"
      }
     },
     "f2bac1ca329449bea441ab1b19abe4b9": {
      "model_module": "@jupyter-widgets/controls",
      "model_module_version": "1.5.0",
      "model_name": "ProgressStyleModel",
      "state": {
       "description_width": ""
      }
     },
     "f38eee65d2ef469f995661fc8a499124": {
      "model_module": "@jupyter-widgets/controls",
      "model_module_version": "1.5.0",
      "model_name": "HTMLModel",
      "state": {
       "layout": "IPY_MODEL_65f0841a564449b5a32fdde06f7b38e0",
       "style": "IPY_MODEL_b1987f94e6cc4afca47aa3297100b6b6",
       "value": " 2763/2763 [00:00&lt;00:00, 3854.32ex/s]"
      }
     },
     "f4224fc7503147bb9ae77b74cb7bcbc5": {
      "model_module": "@jupyter-widgets/controls",
      "model_module_version": "1.5.0",
      "model_name": "ProgressStyleModel",
      "state": {
       "description_width": ""
      }
     },
     "f46267eef6d4418fb739f2de4079ed4e": {
      "model_module": "@jupyter-widgets/controls",
      "model_module_version": "1.5.0",
      "model_name": "DescriptionStyleModel",
      "state": {
       "description_width": ""
      }
     },
     "f47e35e8c08b4d9d97b7f270d82e2a48": {
      "model_module": "@jupyter-widgets/controls",
      "model_module_version": "1.5.0",
      "model_name": "HBoxModel",
      "state": {
       "children": [
        "IPY_MODEL_fd2ef853ae214d62b403805cc327d6e5",
        "IPY_MODEL_9242f313174f4cda8db0ea6284e6afad",
        "IPY_MODEL_78bfaeb15a284cb2b9b0305aae958686"
       ],
       "layout": "IPY_MODEL_6d752e8da5c24b0092feb23628f5e7fb"
      }
     },
     "f4b38217fbc9433d93a4e6a9543bec9c": {
      "model_module": "@jupyter-widgets/controls",
      "model_module_version": "1.5.0",
      "model_name": "HTMLModel",
      "state": {
       "layout": "IPY_MODEL_574d8f74daae4b1fbb0ee177e7a5274c",
       "style": "IPY_MODEL_7435107558af41178b8a79775b35536d",
       "value": "100%"
      }
     },
     "f5659d80e2f24085a178eea745729b05": {
      "model_module": "@jupyter-widgets/controls",
      "model_module_version": "1.5.0",
      "model_name": "HTMLModel",
      "state": {
       "layout": "IPY_MODEL_7f505c1051d04dc7be50d5c184b7248b",
       "style": "IPY_MODEL_0b10257b54b94ee49c40cbef98397422",
       "value": "100%"
      }
     },
     "f5e5ea29ad1548ab9bb5fcfd0b3d876e": {
      "model_module": "@jupyter-widgets/base",
      "model_module_version": "1.2.0",
      "model_name": "LayoutModel",
      "state": {}
     },
     "f62c7a1961ee4152a4eb853806646c8c": {
      "model_module": "@jupyter-widgets/controls",
      "model_module_version": "1.5.0",
      "model_name": "DescriptionStyleModel",
      "state": {
       "description_width": ""
      }
     },
     "f758b2ee78e640138efea43edda2f1fd": {
      "model_module": "@jupyter-widgets/base",
      "model_module_version": "1.2.0",
      "model_name": "LayoutModel",
      "state": {}
     },
     "fb92d8d9dd294170b3e0b994f68bde25": {
      "model_module": "@jupyter-widgets/controls",
      "model_module_version": "1.5.0",
      "model_name": "DescriptionStyleModel",
      "state": {
       "description_width": ""
      }
     },
     "fd2ef853ae214d62b403805cc327d6e5": {
      "model_module": "@jupyter-widgets/controls",
      "model_module_version": "1.5.0",
      "model_name": "HTMLModel",
      "state": {
       "layout": "IPY_MODEL_6825319440c543a99f7f85ac3eab80e4",
       "style": "IPY_MODEL_5daf2504c55a4a098799e3afc5e33e7a",
       "value": "100%"
      }
     }
    },
    "version_major": 2,
    "version_minor": 0
   }
  }
 },
 "nbformat": 4,
 "nbformat_minor": 5
}
