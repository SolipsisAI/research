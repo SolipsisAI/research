{
 "cells": [
  {
   "cell_type": "code",
   "execution_count": 1,
   "id": "da254a25-c89b-4795-b23b-cb75d1cbc2c5",
   "metadata": {},
   "outputs": [],
   "source": [
    "%load_ext autoreload\n",
    "%autoreload 2"
   ]
  },
  {
   "cell_type": "code",
   "execution_count": null,
   "id": "68ac129e-7936-49a9-8276-5635c6ccae96",
   "metadata": {},
   "outputs": [],
   "source": [
    "# Weather and Affect\n",
    "\n",
    "## References\n",
    "\n",
    "- [Weather Conditions - OpenWeatherMap](https://openweathermap.org/weather-conditions)\n",
    "\n",
    "## Overview\n",
    "\n",
    "Is there a correlation between current weather conditions and affective states?\n",
    "\n",
    "- Assign emotion label to entries\n",
    "- Determine weather code\n",
    "- Plot frequency"
   ]
  },
  {
   "cell_type": "code",
   "execution_count": 2,
   "id": "cbe67644-e9ca-45b0-883a-7bbb53564717",
   "metadata": {},
   "outputs": [],
   "source": [
    "import pandas as pd\n",
    "\n",
    "from pathlib import Path"
   ]
  },
  {
   "cell_type": "code",
   "execution_count": 6,
   "id": "467271cc-b4ec-4185-b10f-ae8434b6a23a",
   "metadata": {},
   "outputs": [],
   "source": [
    "data_dir = Path(\"../data/\")"
   ]
  },
  {
   "cell_type": "code",
   "execution_count": 7,
   "id": "0045fdf4-e78c-41ea-87fd-94c6067132bb",
   "metadata": {},
   "outputs": [],
   "source": [
    "files = list(data_dir.glob(\"*.csv\"))"
   ]
  },
  {
   "cell_type": "code",
   "execution_count": 8,
   "id": "6f667dee-0d26-4005-8389-aaa164b0c487",
   "metadata": {},
   "outputs": [
    {
     "data": {
      "text/plain": [
       "[PosixPath('../data/2075-6-9-DayOne.csv'),\n",
       " PosixPath('../data/018ddb0871178004f720631bcfcad79b.csv'),\n",
       " PosixPath('../data/01cebc061bbd5852bf3e9249dd2dd08e.csv')]"
      ]
     },
     "execution_count": 8,
     "metadata": {},
     "output_type": "execute_result"
    }
   ],
   "source": [
    "files"
   ]
  },
  {
   "cell_type": "code",
   "execution_count": 16,
   "id": "3478d154-b2b1-4e1d-a137-e4c88065799c",
   "metadata": {},
   "outputs": [
    {
     "data": {
      "text/plain": [
       "PosixPath('../data/018ddb0871178004f720631bcfcad79b.csv')"
      ]
     },
     "execution_count": 16,
     "metadata": {},
     "output_type": "execute_result"
    }
   ],
   "source": [
    "filename = files[1]\n",
    "filename"
   ]
  },
  {
   "cell_type": "code",
   "execution_count": 17,
   "id": "83c3051c-0f99-49c2-9c60-cc190b61a4e3",
   "metadata": {},
   "outputs": [
    {
     "data": {
      "text/plain": [
       "(213303, 28)"
      ]
     },
     "execution_count": 17,
     "metadata": {},
     "output_type": "execute_result"
    }
   ],
   "source": [
    "df = pd.read_csv(filename)\n",
    "df.shape"
   ]
  },
  {
   "cell_type": "code",
   "execution_count": 18,
   "id": "80e1bf38-c784-47d8-ac5c-de309b3bd41b",
   "metadata": {},
   "outputs": [
    {
     "data": {
      "text/html": [
       "<div>\n",
       "<style scoped>\n",
       "    .dataframe tbody tr th:only-of-type {\n",
       "        vertical-align: middle;\n",
       "    }\n",
       "\n",
       "    .dataframe tbody tr th {\n",
       "        vertical-align: top;\n",
       "    }\n",
       "\n",
       "    .dataframe thead th {\n",
       "        text-align: right;\n",
       "    }\n",
       "</style>\n",
       "<table border=\"1\" class=\"dataframe\">\n",
       "  <thead>\n",
       "    <tr style=\"text-align: right;\">\n",
       "      <th></th>\n",
       "      <th>dt</th>\n",
       "      <th>dt_iso</th>\n",
       "      <th>timezone</th>\n",
       "      <th>city_name</th>\n",
       "      <th>lat</th>\n",
       "      <th>lon</th>\n",
       "      <th>temp</th>\n",
       "      <th>visibility</th>\n",
       "      <th>dew_point</th>\n",
       "      <th>feels_like</th>\n",
       "      <th>...</th>\n",
       "      <th>wind_gust</th>\n",
       "      <th>rain_1h</th>\n",
       "      <th>rain_3h</th>\n",
       "      <th>snow_1h</th>\n",
       "      <th>snow_3h</th>\n",
       "      <th>clouds_all</th>\n",
       "      <th>weather_id</th>\n",
       "      <th>weather_main</th>\n",
       "      <th>weather_description</th>\n",
       "      <th>weather_icon</th>\n",
       "    </tr>\n",
       "  </thead>\n",
       "  <tbody>\n",
       "    <tr>\n",
       "      <th>0</th>\n",
       "      <td>1293840000</td>\n",
       "      <td>2011-01-01 00:00:00 +0000 UTC</td>\n",
       "      <td>-21600</td>\n",
       "      <td>Chicago</td>\n",
       "      <td>41.878114</td>\n",
       "      <td>-87.629798</td>\n",
       "      <td>13.07</td>\n",
       "      <td>10000.0</td>\n",
       "      <td>11.97</td>\n",
       "      <td>12.86</td>\n",
       "      <td>...</td>\n",
       "      <td>9.3</td>\n",
       "      <td>NaN</td>\n",
       "      <td>NaN</td>\n",
       "      <td>NaN</td>\n",
       "      <td>NaN</td>\n",
       "      <td>90</td>\n",
       "      <td>804</td>\n",
       "      <td>Clouds</td>\n",
       "      <td>overcast clouds</td>\n",
       "      <td>04n</td>\n",
       "    </tr>\n",
       "    <tr>\n",
       "      <th>1</th>\n",
       "      <td>1293843600</td>\n",
       "      <td>2011-01-01 01:00:00 +0000 UTC</td>\n",
       "      <td>-21600</td>\n",
       "      <td>Chicago</td>\n",
       "      <td>41.878114</td>\n",
       "      <td>-87.629798</td>\n",
       "      <td>9.54</td>\n",
       "      <td>10000.0</td>\n",
       "      <td>8.47</td>\n",
       "      <td>6.44</td>\n",
       "      <td>...</td>\n",
       "      <td>10.8</td>\n",
       "      <td>NaN</td>\n",
       "      <td>NaN</td>\n",
       "      <td>NaN</td>\n",
       "      <td>NaN</td>\n",
       "      <td>90</td>\n",
       "      <td>804</td>\n",
       "      <td>Clouds</td>\n",
       "      <td>overcast clouds</td>\n",
       "      <td>04n</td>\n",
       "    </tr>\n",
       "    <tr>\n",
       "      <th>2</th>\n",
       "      <td>1293847200</td>\n",
       "      <td>2011-01-01 02:00:00 +0000 UTC</td>\n",
       "      <td>-21600</td>\n",
       "      <td>Chicago</td>\n",
       "      <td>41.878114</td>\n",
       "      <td>-87.629798</td>\n",
       "      <td>9.50</td>\n",
       "      <td>10000.0</td>\n",
       "      <td>8.43</td>\n",
       "      <td>7.34</td>\n",
       "      <td>...</td>\n",
       "      <td>NaN</td>\n",
       "      <td>0.20</td>\n",
       "      <td>NaN</td>\n",
       "      <td>NaN</td>\n",
       "      <td>NaN</td>\n",
       "      <td>90</td>\n",
       "      <td>500</td>\n",
       "      <td>Rain</td>\n",
       "      <td>light rain</td>\n",
       "      <td>10n</td>\n",
       "    </tr>\n",
       "    <tr>\n",
       "      <th>3</th>\n",
       "      <td>1293850800</td>\n",
       "      <td>2011-01-01 03:00:00 +0000 UTC</td>\n",
       "      <td>-21600</td>\n",
       "      <td>Chicago</td>\n",
       "      <td>41.878114</td>\n",
       "      <td>-87.629798</td>\n",
       "      <td>8.80</td>\n",
       "      <td>10000.0</td>\n",
       "      <td>7.09</td>\n",
       "      <td>6.48</td>\n",
       "      <td>...</td>\n",
       "      <td>NaN</td>\n",
       "      <td>0.12</td>\n",
       "      <td>NaN</td>\n",
       "      <td>NaN</td>\n",
       "      <td>NaN</td>\n",
       "      <td>90</td>\n",
       "      <td>500</td>\n",
       "      <td>Rain</td>\n",
       "      <td>light rain</td>\n",
       "      <td>10n</td>\n",
       "    </tr>\n",
       "    <tr>\n",
       "      <th>4</th>\n",
       "      <td>1293854400</td>\n",
       "      <td>2011-01-01 04:00:00 +0000 UTC</td>\n",
       "      <td>-21600</td>\n",
       "      <td>Chicago</td>\n",
       "      <td>41.878114</td>\n",
       "      <td>-87.629798</td>\n",
       "      <td>8.94</td>\n",
       "      <td>10000.0</td>\n",
       "      <td>6.73</td>\n",
       "      <td>6.00</td>\n",
       "      <td>...</td>\n",
       "      <td>NaN</td>\n",
       "      <td>NaN</td>\n",
       "      <td>NaN</td>\n",
       "      <td>NaN</td>\n",
       "      <td>NaN</td>\n",
       "      <td>90</td>\n",
       "      <td>500</td>\n",
       "      <td>Rain</td>\n",
       "      <td>light rain</td>\n",
       "      <td>10n</td>\n",
       "    </tr>\n",
       "  </tbody>\n",
       "</table>\n",
       "<p>5 rows × 28 columns</p>\n",
       "</div>"
      ],
      "text/plain": [
       "           dt                         dt_iso  timezone city_name        lat  \\\n",
       "0  1293840000  2011-01-01 00:00:00 +0000 UTC    -21600   Chicago  41.878114   \n",
       "1  1293843600  2011-01-01 01:00:00 +0000 UTC    -21600   Chicago  41.878114   \n",
       "2  1293847200  2011-01-01 02:00:00 +0000 UTC    -21600   Chicago  41.878114   \n",
       "3  1293850800  2011-01-01 03:00:00 +0000 UTC    -21600   Chicago  41.878114   \n",
       "4  1293854400  2011-01-01 04:00:00 +0000 UTC    -21600   Chicago  41.878114   \n",
       "\n",
       "         lon   temp  visibility  dew_point  feels_like  ...  wind_gust  \\\n",
       "0 -87.629798  13.07     10000.0      11.97       12.86  ...        9.3   \n",
       "1 -87.629798   9.54     10000.0       8.47        6.44  ...       10.8   \n",
       "2 -87.629798   9.50     10000.0       8.43        7.34  ...        NaN   \n",
       "3 -87.629798   8.80     10000.0       7.09        6.48  ...        NaN   \n",
       "4 -87.629798   8.94     10000.0       6.73        6.00  ...        NaN   \n",
       "\n",
       "   rain_1h  rain_3h  snow_1h  snow_3h  clouds_all  weather_id  weather_main  \\\n",
       "0      NaN      NaN      NaN      NaN          90         804        Clouds   \n",
       "1      NaN      NaN      NaN      NaN          90         804        Clouds   \n",
       "2     0.20      NaN      NaN      NaN          90         500          Rain   \n",
       "3     0.12      NaN      NaN      NaN          90         500          Rain   \n",
       "4      NaN      NaN      NaN      NaN          90         500          Rain   \n",
       "\n",
       "   weather_description  weather_icon  \n",
       "0      overcast clouds           04n  \n",
       "1      overcast clouds           04n  \n",
       "2           light rain           10n  \n",
       "3           light rain           10n  \n",
       "4           light rain           10n  \n",
       "\n",
       "[5 rows x 28 columns]"
      ]
     },
     "execution_count": 18,
     "metadata": {},
     "output_type": "execute_result"
    }
   ],
   "source": [
    "df.head()"
   ]
  },
  {
   "cell_type": "code",
   "execution_count": 20,
   "id": "4b996413-b34f-413e-b48c-be8b12484af3",
   "metadata": {},
   "outputs": [
    {
     "data": {
      "text/plain": [
       "Index(['dt', 'dt_iso', 'timezone', 'city_name', 'lat', 'lon', 'temp',\n",
       "       'visibility', 'dew_point', 'feels_like', 'temp_min', 'temp_max',\n",
       "       'pressure', 'sea_level', 'grnd_level', 'humidity', 'wind_speed',\n",
       "       'wind_deg', 'wind_gust', 'rain_1h', 'rain_3h', 'snow_1h', 'snow_3h',\n",
       "       'clouds_all', 'weather_id', 'weather_main', 'weather_description',\n",
       "       'weather_icon'],\n",
       "      dtype='object')"
      ]
     },
     "execution_count": 20,
     "metadata": {},
     "output_type": "execute_result"
    }
   ],
   "source": [
    "df.columns"
   ]
  },
  {
   "cell_type": "code",
   "execution_count": 19,
   "id": "2a330f6a-3bf3-422a-a15f-f04ebb9a308e",
   "metadata": {},
   "outputs": [
    {
     "data": {
      "text/html": [
       "<div>\n",
       "<style scoped>\n",
       "    .dataframe tbody tr th:only-of-type {\n",
       "        vertical-align: middle;\n",
       "    }\n",
       "\n",
       "    .dataframe tbody tr th {\n",
       "        vertical-align: top;\n",
       "    }\n",
       "\n",
       "    .dataframe thead th {\n",
       "        text-align: right;\n",
       "    }\n",
       "</style>\n",
       "<table border=\"1\" class=\"dataframe\">\n",
       "  <thead>\n",
       "    <tr style=\"text-align: right;\">\n",
       "      <th></th>\n",
       "      <th>dt</th>\n",
       "      <th>dt_iso</th>\n",
       "      <th>feels_like</th>\n",
       "      <th>temp</th>\n",
       "      <th>weather_description</th>\n",
       "    </tr>\n",
       "  </thead>\n",
       "  <tbody>\n",
       "    <tr>\n",
       "      <th>0</th>\n",
       "      <td>1293840000</td>\n",
       "      <td>2011-01-01 00:00:00 +0000 UTC</td>\n",
       "      <td>12.86</td>\n",
       "      <td>13.07</td>\n",
       "      <td>overcast clouds</td>\n",
       "    </tr>\n",
       "    <tr>\n",
       "      <th>1</th>\n",
       "      <td>1293843600</td>\n",
       "      <td>2011-01-01 01:00:00 +0000 UTC</td>\n",
       "      <td>6.44</td>\n",
       "      <td>9.54</td>\n",
       "      <td>overcast clouds</td>\n",
       "    </tr>\n",
       "    <tr>\n",
       "      <th>2</th>\n",
       "      <td>1293847200</td>\n",
       "      <td>2011-01-01 02:00:00 +0000 UTC</td>\n",
       "      <td>7.34</td>\n",
       "      <td>9.50</td>\n",
       "      <td>light rain</td>\n",
       "    </tr>\n",
       "    <tr>\n",
       "      <th>3</th>\n",
       "      <td>1293850800</td>\n",
       "      <td>2011-01-01 03:00:00 +0000 UTC</td>\n",
       "      <td>6.48</td>\n",
       "      <td>8.80</td>\n",
       "      <td>light rain</td>\n",
       "    </tr>\n",
       "    <tr>\n",
       "      <th>4</th>\n",
       "      <td>1293854400</td>\n",
       "      <td>2011-01-01 04:00:00 +0000 UTC</td>\n",
       "      <td>6.00</td>\n",
       "      <td>8.94</td>\n",
       "      <td>light rain</td>\n",
       "    </tr>\n",
       "    <tr>\n",
       "      <th>...</th>\n",
       "      <td>...</td>\n",
       "      <td>...</td>\n",
       "      <td>...</td>\n",
       "      <td>...</td>\n",
       "      <td>...</td>\n",
       "    </tr>\n",
       "    <tr>\n",
       "      <th>213298</th>\n",
       "      <td>1656874800</td>\n",
       "      <td>2022-07-03 19:00:00 +0000 UTC</td>\n",
       "      <td>29.57</td>\n",
       "      <td>30.19</td>\n",
       "      <td>sky is clear</td>\n",
       "    </tr>\n",
       "    <tr>\n",
       "      <th>213299</th>\n",
       "      <td>1656878400</td>\n",
       "      <td>2022-07-03 20:00:00 +0000 UTC</td>\n",
       "      <td>30.14</td>\n",
       "      <td>30.69</td>\n",
       "      <td>sky is clear</td>\n",
       "    </tr>\n",
       "    <tr>\n",
       "      <th>213300</th>\n",
       "      <td>1656882000</td>\n",
       "      <td>2022-07-03 21:00:00 +0000 UTC</td>\n",
       "      <td>30.36</td>\n",
       "      <td>30.88</td>\n",
       "      <td>sky is clear</td>\n",
       "    </tr>\n",
       "    <tr>\n",
       "      <th>213301</th>\n",
       "      <td>1656885600</td>\n",
       "      <td>2022-07-03 22:00:00 +0000 UTC</td>\n",
       "      <td>30.22</td>\n",
       "      <td>30.97</td>\n",
       "      <td>sky is clear</td>\n",
       "    </tr>\n",
       "    <tr>\n",
       "      <th>213302</th>\n",
       "      <td>1656889200</td>\n",
       "      <td>2022-07-03 23:00:00 +0000 UTC</td>\n",
       "      <td>29.94</td>\n",
       "      <td>30.52</td>\n",
       "      <td>sky is clear</td>\n",
       "    </tr>\n",
       "  </tbody>\n",
       "</table>\n",
       "<p>213303 rows × 5 columns</p>\n",
       "</div>"
      ],
      "text/plain": [
       "                dt                         dt_iso  feels_like   temp  \\\n",
       "0       1293840000  2011-01-01 00:00:00 +0000 UTC       12.86  13.07   \n",
       "1       1293843600  2011-01-01 01:00:00 +0000 UTC        6.44   9.54   \n",
       "2       1293847200  2011-01-01 02:00:00 +0000 UTC        7.34   9.50   \n",
       "3       1293850800  2011-01-01 03:00:00 +0000 UTC        6.48   8.80   \n",
       "4       1293854400  2011-01-01 04:00:00 +0000 UTC        6.00   8.94   \n",
       "...            ...                            ...         ...    ...   \n",
       "213298  1656874800  2022-07-03 19:00:00 +0000 UTC       29.57  30.19   \n",
       "213299  1656878400  2022-07-03 20:00:00 +0000 UTC       30.14  30.69   \n",
       "213300  1656882000  2022-07-03 21:00:00 +0000 UTC       30.36  30.88   \n",
       "213301  1656885600  2022-07-03 22:00:00 +0000 UTC       30.22  30.97   \n",
       "213302  1656889200  2022-07-03 23:00:00 +0000 UTC       29.94  30.52   \n",
       "\n",
       "       weather_description  \n",
       "0          overcast clouds  \n",
       "1          overcast clouds  \n",
       "2               light rain  \n",
       "3               light rain  \n",
       "4               light rain  \n",
       "...                    ...  \n",
       "213298        sky is clear  \n",
       "213299        sky is clear  \n",
       "213300        sky is clear  \n",
       "213301        sky is clear  \n",
       "213302        sky is clear  \n",
       "\n",
       "[213303 rows x 5 columns]"
      ]
     },
     "execution_count": 19,
     "metadata": {},
     "output_type": "execute_result"
    }
   ],
   "source": [
    "df[[\"dt\", \"dt_iso\", \"feels_like\", \"temp\", \"weather_description\"]]"
   ]
  },
  {
   "cell_type": "code",
   "execution_count": 26,
   "id": "533d5e32-d1bb-4995-9564-ba7c324b6d47",
   "metadata": {},
   "outputs": [],
   "source": [
    "weather_descriptions = df[\"weather_description\"].unique()"
   ]
  },
  {
   "cell_type": "code",
   "execution_count": 29,
   "id": "f832f999-af9c-4254-b81b-679175535052",
   "metadata": {},
   "outputs": [],
   "source": [
    "weather_descriptions.sort()"
   ]
  },
  {
   "cell_type": "code",
   "execution_count": 30,
   "id": "18948c92-d642-4ce2-add7-7b39a513f286",
   "metadata": {},
   "outputs": [
    {
     "data": {
      "text/plain": [
       "array(['broken clouds', 'drizzle', 'dust', 'few clouds', 'fog',\n",
       "       'freezing rain', 'haze', 'heavy intensity drizzle',\n",
       "       'heavy intensity rain', 'heavy snow', 'light intensity drizzle',\n",
       "       'light intensity shower rain', 'light rain', 'light rain and snow',\n",
       "       'light shower snow', 'light snow', 'mist', 'moderate rain',\n",
       "       'overcast clouds', 'proximity thunderstorm', 'proximity tornado',\n",
       "       'scattered clouds', 'shower drizzle', 'shower rain',\n",
       "       'sky is clear', 'smoke', 'snow', 'squalls', 'thunderstorm',\n",
       "       'thunderstorm with heavy rain', 'thunderstorm with light drizzle',\n",
       "       'thunderstorm with light rain', 'thunderstorm with rain',\n",
       "       'very heavy rain'], dtype=object)"
      ]
     },
     "execution_count": 30,
     "metadata": {},
     "output_type": "execute_result"
    }
   ],
   "source": [
    "weather_descriptions"
   ]
  },
  {
   "cell_type": "code",
   "execution_count": null,
   "id": "bd92c1b2-dfce-40ad-86c9-e9685261aa59",
   "metadata": {},
   "outputs": [],
   "source": []
  }
 ],
 "metadata": {
  "kernelspec": {
   "display_name": "Python 3 (ipykernel)",
   "language": "python",
   "name": "python3"
  },
  "language_info": {
   "codemirror_mode": {
    "name": "ipython",
    "version": 3
   },
   "file_extension": ".py",
   "mimetype": "text/x-python",
   "name": "python",
   "nbconvert_exporter": "python",
   "pygments_lexer": "ipython3",
   "version": "3.10.4"
  }
 },
 "nbformat": 4,
 "nbformat_minor": 5
}
