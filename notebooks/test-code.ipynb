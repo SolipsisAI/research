{
 "cells": [
  {
   "cell_type": "code",
   "execution_count": 1,
   "id": "d822b1ea-868c-43f1-a471-63fd54782d17",
   "metadata": {},
   "outputs": [],
   "source": [
    "%load_ext autoreload\n",
    "%autoreload 2"
   ]
  },
  {
   "cell_type": "code",
   "execution_count": 2,
   "id": "75c9fe99-f10b-4aaa-8f43-c1eebd4bbe1c",
   "metadata": {},
   "outputs": [],
   "source": [
    "from src.train import main\n",
    "from src.utils import prepare_data\n",
    "\n",
    "data_filepath = \"../../data/processed.csv\""
   ]
  },
  {
   "cell_type": "code",
   "execution_count": 3,
   "id": "9f1537f8-f29b-4266-b75a-e2814df31574",
   "metadata": {},
   "outputs": [],
   "source": [
    "trn_df, val_df = prepare_data(data_filepath)"
   ]
  },
  {
   "cell_type": "code",
   "execution_count": 5,
   "id": "62485e57-c587-49c7-8b38-09ac2ce4611f",
   "metadata": {},
   "outputs": [
    {
     "name": "stderr",
     "output_type": "stream",
     "text": [
      "06/04/2022 22:50:59 - WARNING - src.train -   Process rank: -1, device: cuda, n_gpu: 1, distributed training: False, 16-bits training: False\n",
      "06/04/2022 22:51:01 - INFO - src.train -   Training/evaluation parameters <src.train.Args object at 0x7fd74adedff0>\n",
      "06/04/2022 22:51:01 - INFO - src.train -   Creating features from dataset file at cached\n",
      "06/04/2022 22:51:18 - INFO - src.train -   Saving features into cached file cached/gpt2_cached_lm_512\n",
      "/opt/conda/lib/python3.10/site-packages/transformers/optimization.py:306: FutureWarning: This implementation of AdamW is deprecated and will be removed in a future version. Use the PyTorch implementation torch.optim.AdamW instead, or set `no_deprecation_warning=True` to disable this warning\n",
      "  warnings.warn(\n",
      "06/04/2022 22:51:18 - INFO - src.train -   ***** Running training *****\n",
      "06/04/2022 22:51:18 - INFO - src.train -     Num examples = 28874\n",
      "06/04/2022 22:51:18 - INFO - src.train -     Num Epochs = 3\n",
      "06/04/2022 22:51:18 - INFO - src.train -     Instantaneous batch size per GPU = 4\n",
      "06/04/2022 22:51:18 - INFO - src.train -     Total train batch size (w. parallel, distributed & accumulation) = 4\n",
      "06/04/2022 22:51:18 - INFO - src.train -     Gradient Accumulation steps = 1\n",
      "06/04/2022 22:51:18 - INFO - src.train -     Total optimization steps = 21654\n"
     ]
    },
    {
     "data": {
      "application/vnd.jupyter.widget-view+json": {
       "model_id": "12bdf128f2b641369a3e498e73f3374b",
       "version_major": 2,
       "version_minor": 0
      },
      "text/plain": [
       "Epoch:   0%|          | 0/3 [00:00<?, ?it/s]"
      ]
     },
     "metadata": {},
     "output_type": "display_data"
    },
    {
     "data": {
      "application/vnd.jupyter.widget-view+json": {
       "model_id": "8d49a5b81a114de9b7f6a8f5c06f8c91",
       "version_major": 2,
       "version_minor": 0
      },
      "text/plain": [
       "Iteration:   0%|          | 0/7218 [00:00<?, ?it/s]"
      ]
     },
     "metadata": {},
     "output_type": "display_data"
    },
    {
     "name": "stderr",
     "output_type": "stream",
     "text": [
      "/opt/conda/lib/python3.10/site-packages/torch/optim/lr_scheduler.py:249: UserWarning: To get the last learning rate computed by the scheduler, please use `get_last_lr()`.\n",
      "  warnings.warn(\"To get the last learning rate computed by the scheduler, \"\n",
      "06/04/2022 22:57:16 - INFO - src.train -   Saving model checkpoint to output-small/checkpoint-3500\n",
      "06/04/2022 22:57:17 - INFO - src.train -   Saving optimizer and scheduler states to output-small/checkpoint-3500\n",
      "06/04/2022 23:03:20 - INFO - src.train -   Saving model checkpoint to output-small/checkpoint-7000\n",
      "06/04/2022 23:03:21 - INFO - src.train -   Saving optimizer and scheduler states to output-small/checkpoint-7000\n"
     ]
    },
    {
     "data": {
      "application/vnd.jupyter.widget-view+json": {
       "model_id": "018f9c8a09794ac4bdf78a98fb18ccc8",
       "version_major": 2,
       "version_minor": 0
      },
      "text/plain": [
       "Iteration:   0%|          | 0/7218 [00:00<?, ?it/s]"
      ]
     },
     "metadata": {},
     "output_type": "display_data"
    },
    {
     "name": "stderr",
     "output_type": "stream",
     "text": [
      "06/04/2022 23:09:25 - INFO - src.train -   Saving model checkpoint to output-small/checkpoint-10500\n",
      "06/04/2022 23:09:26 - INFO - src.train -   Saving optimizer and scheduler states to output-small/checkpoint-10500\n",
      "06/04/2022 23:15:27 - INFO - src.train -   Saving model checkpoint to output-small/checkpoint-14000\n",
      "06/04/2022 23:15:28 - INFO - src.train -   Saving optimizer and scheduler states to output-small/checkpoint-14000\n"
     ]
    },
    {
     "data": {
      "application/vnd.jupyter.widget-view+json": {
       "model_id": "c52b5bf212fc440e9c589136d4dfaf6e",
       "version_major": 2,
       "version_minor": 0
      },
      "text/plain": [
       "Iteration:   0%|          | 0/7218 [00:00<?, ?it/s]"
      ]
     },
     "metadata": {},
     "output_type": "display_data"
    },
    {
     "name": "stderr",
     "output_type": "stream",
     "text": [
      "06/04/2022 23:21:31 - INFO - src.train -   Saving model checkpoint to output-small/checkpoint-17500\n",
      "06/04/2022 23:21:32 - INFO - src.train -   Saving optimizer and scheduler states to output-small/checkpoint-17500\n",
      "06/04/2022 23:27:35 - INFO - src.train -   Saving model checkpoint to output-small/checkpoint-21000\n",
      "06/04/2022 23:27:36 - INFO - src.train -   Saving optimizer and scheduler states to output-small/checkpoint-21000\n",
      "06/04/2022 23:28:44 - INFO - src.train -    global_step = 21654, average loss = 1.7564211775250873\n",
      "06/04/2022 23:28:44 - INFO - src.train -   Saving model checkpoint to output-small\n",
      "06/04/2022 23:28:45 - INFO - src.train -   Evaluate the following checkpoints: ['output-small']\n",
      "06/04/2022 23:28:46 - INFO - src.train -   Creating features from dataset file at cached\n",
      "06/04/2022 23:28:48 - INFO - src.train -   Saving features into cached file cached/gpt2_cached_lm_512\n",
      "06/04/2022 23:28:48 - INFO - src.train -   ***** Running evaluation  *****\n",
      "06/04/2022 23:28:48 - INFO - src.train -     Num examples = 3209\n",
      "06/04/2022 23:28:48 - INFO - src.train -     Batch size = 4\n"
     ]
    },
    {
     "data": {
      "application/vnd.jupyter.widget-view+json": {
       "model_id": "98360b6e832f4136b1e83919cb5e9a50",
       "version_major": 2,
       "version_minor": 0
      },
      "text/plain": [
       "Evaluating:   0%|          | 0/802 [00:00<?, ?it/s]"
      ]
     },
     "metadata": {},
     "output_type": "display_data"
    },
    {
     "name": "stderr",
     "output_type": "stream",
     "text": [
      "06/04/2022 23:29:09 - INFO - src.train -   ***** Eval results  *****\n",
      "06/04/2022 23:29:09 - INFO - src.train -     perplexity = tensor(3.6659)\n"
     ]
    },
    {
     "data": {
      "text/plain": [
       "{'perplexity_': tensor(3.6659)}"
      ]
     },
     "execution_count": 5,
     "metadata": {},
     "output_type": "execute_result"
    }
   ],
   "source": [
    "main(trn_df, val_df)"
   ]
  },
  {
   "cell_type": "code",
   "execution_count": 8,
   "id": "1d1d6421-32d9-46f9-b0a5-086c45f82561",
   "metadata": {},
   "outputs": [
    {
     "name": "stdin",
     "output_type": "stream",
     "text": [
      ">> User: How is Shiro?\n"
     ]
    },
    {
     "name": "stdout",
     "output_type": "stream",
     "text": [
      "ShadowBot: She's doing better.\n"
     ]
    },
    {
     "name": "stdin",
     "output_type": "stream",
     "text": [
      ">> User: That's good to hear.\n"
     ]
    },
    {
     "name": "stdout",
     "output_type": "stream",
     "text": [
      "ShadowBot: [*charlotte will go find nix, since she's in the apts*]\n"
     ]
    },
    {
     "name": "stdin",
     "output_type": "stream",
     "text": [
      ">> User: So what's up with you?\n"
     ]
    },
    {
     "name": "stdout",
     "output_type": "stream",
     "text": [
      "ShadowBot: [shrugs* ] Just chatting\n"
     ]
    },
    {
     "name": "stdin",
     "output_type": "stream",
     "text": [
      ">> User: Are you sleeping okay?\n"
     ]
    },
    {
     "name": "stdout",
     "output_type": "stream",
     "text": [
      "ShadowBot: !!! remindme 2 days\n"
     ]
    },
    {
     "name": "stdin",
     "output_type": "stream",
     "text": [
      ">> User: What?\n"
     ]
    },
    {
     "name": "stdout",
     "output_type": "stream",
     "text": [
      "ShadowBot: ?!!remindme!! 1 day!!\n"
     ]
    }
   ],
   "source": [
    "import torch\n",
    "\n",
    "from transformers import AutoTokenizer, AutoModelWithLMHead\n",
    "\n",
    "tokenizer = AutoTokenizer.from_pretrained('microsoft/DialoGPT-small')\n",
    "model = AutoModelWithLMHead.from_pretrained('output-small')\n",
    "\n",
    "# Let's chat for 5 lines\n",
    "for step in range(5):\n",
    "    # encode the new user input, add the eos_token and return a tensor in Pytorch\n",
    "    new_user_input_ids = tokenizer.encode(input(\">> User:\") + tokenizer.eos_token, return_tensors='pt')\n",
    "    # print(new_user_input_ids)\n",
    "\n",
    "    # append the new user input tokens to the chat history\n",
    "    bot_input_ids = torch.cat([chat_history_ids, new_user_input_ids], dim=-1) if step > 0 else new_user_input_ids\n",
    "\n",
    "    # generated a response while limiting the total chat history to 1000 tokens, \n",
    "    chat_history_ids = model.generate(\n",
    "        bot_input_ids, max_length=200,\n",
    "        pad_token_id=tokenizer.eos_token_id,  \n",
    "        no_repeat_ngram_size=3,       \n",
    "        do_sample=True, \n",
    "        top_k=100, \n",
    "        top_p=0.7,\n",
    "        temperature = 0.8\n",
    "    )\n",
    "    \n",
    "    # pretty print last ouput tokens from bot\n",
    "    print(\"ShadowBot: {}\".format(tokenizer.decode(chat_history_ids[:, bot_input_ids.shape[-1]:][0], skip_special_tokens=True)))"
   ]
  },
  {
   "cell_type": "code",
   "execution_count": null,
   "id": "e6dddbc0-4599-474c-aa4a-c4cae6593722",
   "metadata": {},
   "outputs": [],
   "source": []
  }
 ],
 "metadata": {
  "kernelspec": {
   "display_name": "Python 3 (ipykernel)",
   "language": "python",
   "name": "python3"
  },
  "language_info": {
   "codemirror_mode": {
    "name": "ipython",
    "version": 3
   },
   "file_extension": ".py",
   "mimetype": "text/x-python",
   "name": "python",
   "nbconvert_exporter": "python",
   "pygments_lexer": "ipython3",
   "version": "3.10.4"
  }
 },
 "nbformat": 4,
 "nbformat_minor": 5
}
