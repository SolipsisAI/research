{
 "cells": [
  {
   "cell_type": "code",
   "execution_count": 1,
   "id": "d822b1ea-868c-43f1-a471-63fd54782d17",
   "metadata": {},
   "outputs": [],
   "source": [
    "%load_ext autoreload\n",
    "%autoreload 2"
   ]
  },
  {
   "cell_type": "code",
   "execution_count": 2,
   "id": "75c9fe99-f10b-4aaa-8f43-c1eebd4bbe1c",
   "metadata": {},
   "outputs": [],
   "source": [
    "from src.train import main\n",
    "from src.utils import prepare_data\n",
    "\n",
    "data_filepath = \"../../data/processed.csv\""
   ]
  },
  {
   "cell_type": "code",
   "execution_count": 3,
   "id": "9f1537f8-f29b-4266-b75a-e2814df31574",
   "metadata": {},
   "outputs": [],
   "source": [
    "trn_df, val_df = prepare_data(data_filepath)"
   ]
  },
  {
   "cell_type": "code",
   "execution_count": 5,
   "id": "62485e57-c587-49c7-8b38-09ac2ce4611f",
   "metadata": {},
   "outputs": [
    {
     "name": "stderr",
     "output_type": "stream",
     "text": [
      "06/04/2022 22:50:59 - WARNING - src.train -   Process rank: -1, device: cuda, n_gpu: 1, distributed training: False, 16-bits training: False\n",
      "06/04/2022 22:51:01 - INFO - src.train -   Training/evaluation parameters <src.train.Args object at 0x7fd74adedff0>\n",
      "06/04/2022 22:51:01 - INFO - src.train -   Creating features from dataset file at cached\n",
      "06/04/2022 22:51:18 - INFO - src.train -   Saving features into cached file cached/gpt2_cached_lm_512\n",
      "/opt/conda/lib/python3.10/site-packages/transformers/optimization.py:306: FutureWarning: This implementation of AdamW is deprecated and will be removed in a future version. Use the PyTorch implementation torch.optim.AdamW instead, or set `no_deprecation_warning=True` to disable this warning\n",
      "  warnings.warn(\n",
      "06/04/2022 22:51:18 - INFO - src.train -   ***** Running training *****\n",
      "06/04/2022 22:51:18 - INFO - src.train -     Num examples = 28874\n",
      "06/04/2022 22:51:18 - INFO - src.train -     Num Epochs = 3\n",
      "06/04/2022 22:51:18 - INFO - src.train -     Instantaneous batch size per GPU = 4\n",
      "06/04/2022 22:51:18 - INFO - src.train -     Total train batch size (w. parallel, distributed & accumulation) = 4\n",
      "06/04/2022 22:51:18 - INFO - src.train -     Gradient Accumulation steps = 1\n",
      "06/04/2022 22:51:18 - INFO - src.train -     Total optimization steps = 21654\n"
     ]
    },
    {
     "data": {
      "application/vnd.jupyter.widget-view+json": {
       "model_id": "12bdf128f2b641369a3e498e73f3374b",
       "version_major": 2,
       "version_minor": 0
      },
      "text/plain": [
       "Epoch:   0%|          | 0/3 [00:00<?, ?it/s]"
      ]
     },
     "metadata": {},
     "output_type": "display_data"
    },
    {
     "data": {
      "application/vnd.jupyter.widget-view+json": {
       "model_id": "8d49a5b81a114de9b7f6a8f5c06f8c91",
       "version_major": 2,
       "version_minor": 0
      },
      "text/plain": [
       "Iteration:   0%|          | 0/7218 [00:00<?, ?it/s]"
      ]
     },
     "metadata": {},
     "output_type": "display_data"
    },
    {
     "name": "stderr",
     "output_type": "stream",
     "text": [
      "/opt/conda/lib/python3.10/site-packages/torch/optim/lr_scheduler.py:249: UserWarning: To get the last learning rate computed by the scheduler, please use `get_last_lr()`.\n",
      "  warnings.warn(\"To get the last learning rate computed by the scheduler, \"\n",
      "06/04/2022 22:57:16 - INFO - src.train -   Saving model checkpoint to output-small/checkpoint-3500\n",
      "06/04/2022 22:57:17 - INFO - src.train -   Saving optimizer and scheduler states to output-small/checkpoint-3500\n",
      "06/04/2022 23:03:20 - INFO - src.train -   Saving model checkpoint to output-small/checkpoint-7000\n",
      "06/04/2022 23:03:21 - INFO - src.train -   Saving optimizer and scheduler states to output-small/checkpoint-7000\n"
     ]
    },
    {
     "data": {
      "application/vnd.jupyter.widget-view+json": {
       "model_id": "018f9c8a09794ac4bdf78a98fb18ccc8",
       "version_major": 2,
       "version_minor": 0
      },
      "text/plain": [
       "Iteration:   0%|          | 0/7218 [00:00<?, ?it/s]"
      ]
     },
     "metadata": {},
     "output_type": "display_data"
    },
    {
     "name": "stderr",
     "output_type": "stream",
     "text": [
      "06/04/2022 23:09:25 - INFO - src.train -   Saving model checkpoint to output-small/checkpoint-10500\n",
      "06/04/2022 23:09:26 - INFO - src.train -   Saving optimizer and scheduler states to output-small/checkpoint-10500\n",
      "06/04/2022 23:15:27 - INFO - src.train -   Saving model checkpoint to output-small/checkpoint-14000\n",
      "06/04/2022 23:15:28 - INFO - src.train -   Saving optimizer and scheduler states to output-small/checkpoint-14000\n"
     ]
    },
    {
     "data": {
      "application/vnd.jupyter.widget-view+json": {
       "model_id": "c52b5bf212fc440e9c589136d4dfaf6e",
       "version_major": 2,
       "version_minor": 0
      },
      "text/plain": [
       "Iteration:   0%|          | 0/7218 [00:00<?, ?it/s]"
      ]
     },
     "metadata": {},
     "output_type": "display_data"
    },
    {
     "name": "stderr",
     "output_type": "stream",
     "text": [
      "06/04/2022 23:21:31 - INFO - src.train -   Saving model checkpoint to output-small/checkpoint-17500\n",
      "06/04/2022 23:21:32 - INFO - src.train -   Saving optimizer and scheduler states to output-small/checkpoint-17500\n",
      "06/04/2022 23:27:35 - INFO - src.train -   Saving model checkpoint to output-small/checkpoint-21000\n",
      "06/04/2022 23:27:36 - INFO - src.train -   Saving optimizer and scheduler states to output-small/checkpoint-21000\n",
      "06/04/2022 23:28:44 - INFO - src.train -    global_step = 21654, average loss = 1.7564211775250873\n",
      "06/04/2022 23:28:44 - INFO - src.train -   Saving model checkpoint to output-small\n",
      "06/04/2022 23:28:45 - INFO - src.train -   Evaluate the following checkpoints: ['output-small']\n",
      "06/04/2022 23:28:46 - INFO - src.train -   Creating features from dataset file at cached\n",
      "06/04/2022 23:28:48 - INFO - src.train -   Saving features into cached file cached/gpt2_cached_lm_512\n",
      "06/04/2022 23:28:48 - INFO - src.train -   ***** Running evaluation  *****\n",
      "06/04/2022 23:28:48 - INFO - src.train -     Num examples = 3209\n",
      "06/04/2022 23:28:48 - INFO - src.train -     Batch size = 4\n"
     ]
    },
    {
     "data": {
      "application/vnd.jupyter.widget-view+json": {
       "model_id": "98360b6e832f4136b1e83919cb5e9a50",
       "version_major": 2,
       "version_minor": 0
      },
      "text/plain": [
       "Evaluating:   0%|          | 0/802 [00:00<?, ?it/s]"
      ]
     },
     "metadata": {},
     "output_type": "display_data"
    },
    {
     "name": "stderr",
     "output_type": "stream",
     "text": [
      "06/04/2022 23:29:09 - INFO - src.train -   ***** Eval results  *****\n",
      "06/04/2022 23:29:09 - INFO - src.train -     perplexity = tensor(3.6659)\n"
     ]
    },
    {
     "data": {
      "text/plain": [
       "{'perplexity_': tensor(3.6659)}"
      ]
     },
     "execution_count": 5,
     "metadata": {},
     "output_type": "execute_result"
    }
   ],
   "source": [
    "main(trn_df, val_df)"
   ]
  },
  {
   "cell_type": "code",
   "execution_count": null,
   "id": "1d1d6421-32d9-46f9-b0a5-086c45f82561",
   "metadata": {},
   "outputs": [],
   "source": []
  }
 ],
 "metadata": {
  "kernelspec": {
   "display_name": "Python 3 (ipykernel)",
   "language": "python",
   "name": "python3"
  },
  "language_info": {
   "codemirror_mode": {
    "name": "ipython",
    "version": 3
   },
   "file_extension": ".py",
   "mimetype": "text/x-python",
   "name": "python",
   "nbconvert_exporter": "python",
   "pygments_lexer": "ipython3",
   "version": "3.10.4"
  }
 },
 "nbformat": 4,
 "nbformat_minor": 5
}
