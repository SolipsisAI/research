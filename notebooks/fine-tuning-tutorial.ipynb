{
 "cells": [
  {
   "cell_type": "markdown",
   "metadata": {},
   "source": [
    "# Fine-tuning dialoGPT\n",
    "\n",
    "- https://towardsdatascience.com/make-your-own-rick-sanchez-bot-with-transformers-and-dialogpt-fine-tuning-f85e6d1f4e30\n",
    "- https://github.com/ncoop57/i-am-a-nerd/blob/master/_notebooks/2020-05-12-chatbot-part-1.ipynb\n",
    "\n",
    "\n",
    "## Issues\n",
    "\n",
    "- https://github.com/pytorch/pytorch/issues/67680"
   ]
  },
  {
   "cell_type": "code",
   "execution_count": 1,
   "metadata": {},
   "outputs": [],
   "source": [
    "%load_ext autoreload\n",
    "%autoreload 2"
   ]
  },
  {
   "cell_type": "code",
   "execution_count": 2,
   "metadata": {},
   "outputs": [
    {
     "data": {
      "text/plain": [
       "True"
      ]
     },
     "execution_count": 2,
     "metadata": {},
     "output_type": "execute_result"
    }
   ],
   "source": [
    "import torch\n",
    "torch.cuda.is_available()"
   ]
  },
  {
   "cell_type": "code",
   "execution_count": 3,
   "metadata": {},
   "outputs": [],
   "source": [
    "import glob\n",
    "import logging\n",
    "import os\n",
    "import pickle\n",
    "import random\n",
    "import re\n",
    "import shutil\n",
    "from typing import Dict, List, Tuple\n",
    "\n",
    "import pandas as pd\n",
    "import numpy as np\n",
    "import torch\n",
    "\n",
    "from sklearn.model_selection import train_test_split\n",
    "\n",
    "from torch.nn.utils.rnn import pad_sequence\n",
    "from torch.utils.data import DataLoader, Dataset, RandomSampler, SequentialSampler\n",
    "from torch.utils.data.distributed import DistributedSampler\n",
    "from tqdm.notebook import tqdm, trange\n",
    "\n",
    "from pathlib import Path\n",
    "\n",
    "from transformers import (\n",
    "    MODEL_WITH_LM_HEAD_MAPPING,\n",
    "    WEIGHTS_NAME,\n",
    "    AdamW,\n",
    "    AutoConfig,\n",
    "    AutoModelForCausalLM,\n",
    "    AutoTokenizer,\n",
    "    PreTrainedModel,\n",
    "    PreTrainedTokenizer,\n",
    "    get_linear_schedule_with_warmup,\n",
    ")\n",
    "\n",
    "try:\n",
    "    from torch.utils.tensorboard import SummaryWriter\n",
    "except ImportError:\n",
    "    from tensorboardX import SummaryWriter\n",
    "\n",
    "# Configs\n",
    "logger = logging.getLogger(__name__)\n",
    "\n",
    "MODEL_CONFIG_CLASSES = list(MODEL_WITH_LM_HEAD_MAPPING.keys())\n",
    "MODEL_TYPES = tuple(conf.model_type for conf in MODEL_CONFIG_CLASSES)"
   ]
  },
  {
   "cell_type": "code",
   "execution_count": 4,
   "metadata": {},
   "outputs": [
    {
     "name": "stderr",
     "output_type": "stream",
     "text": [
      "/opt/conda/lib/python3.10/site-packages/transformers/models/auto/modeling_auto.py:921: FutureWarning: The class `AutoModelForCausalLM` is deprecated and will be removed in a future version. Please use `AutoModelForCausalLM` for causal language models, `AutoModelForMaskedLM` for masked language models and `AutoModelForSeq2SeqLM` for encoder-decoder models.\n",
      "  warnings.warn(\n"
     ]
    }
   ],
   "source": [
    "tokenizer = AutoTokenizer.from_pretrained(\"microsoft/DialoGPT-small\")\n",
    "model = AutoModelForCausalLM.from_pretrained(\"microsoft/DialoGPT-small\")"
   ]
  },
  {
   "cell_type": "code",
   "execution_count": 5,
   "metadata": {},
   "outputs": [],
   "source": [
    "all_chats = pd.read_csv(\"../../data/processed.csv\")"
   ]
  },
  {
   "cell_type": "code",
   "execution_count": 6,
   "metadata": {},
   "outputs": [
    {
     "data": {
      "text/html": [
       "<div>\n",
       "<style scoped>\n",
       "    .dataframe tbody tr th:only-of-type {\n",
       "        vertical-align: middle;\n",
       "    }\n",
       "\n",
       "    .dataframe tbody tr th {\n",
       "        vertical-align: top;\n",
       "    }\n",
       "\n",
       "    .dataframe thead th {\n",
       "        text-align: right;\n",
       "    }\n",
       "</style>\n",
       "<table border=\"1\" class=\"dataframe\">\n",
       "  <thead>\n",
       "    <tr style=\"text-align: right;\">\n",
       "      <th></th>\n",
       "      <th>original_id</th>\n",
       "      <th>character</th>\n",
       "      <th>timestamp</th>\n",
       "      <th>content</th>\n",
       "      <th>raw_content</th>\n",
       "      <th>playable</th>\n",
       "      <th>hash_id</th>\n",
       "    </tr>\n",
       "  </thead>\n",
       "  <tbody>\n",
       "    <tr>\n",
       "      <th>0</th>\n",
       "      <td>453779598157676554</td>\n",
       "      <td>bitjockey</td>\n",
       "      <td>2018-06-06 04:38:07.018000</td>\n",
       "      <td>@Charlotte hy r u there</td>\n",
       "      <td>@Charlotte hy r u there</td>\n",
       "      <td>True</td>\n",
       "      <td>e46e42dc973f91816553aa943fc0603f7499f627ca51cb...</td>\n",
       "    </tr>\n",
       "    <tr>\n",
       "      <th>1</th>\n",
       "      <td>453779683209641984</td>\n",
       "      <td>Charlotte</td>\n",
       "      <td>2018-06-06 04:38:27.296000</td>\n",
       "      <td>yea</td>\n",
       "      <td>yea</td>\n",
       "      <td>True</td>\n",
       "      <td>dd687dc872410fef9fe0c13ecc853b7acf395ed092ca77...</td>\n",
       "    </tr>\n",
       "    <tr>\n",
       "      <th>2</th>\n",
       "      <td>453780080108503041</td>\n",
       "      <td>bitjockey</td>\n",
       "      <td>2018-06-06 04:40:01.924000</td>\n",
       "      <td>((this will indicate ooc responses))</td>\n",
       "      <td>((this will indicate ooc responses))</td>\n",
       "      <td>True</td>\n",
       "      <td>c33b955330c7bf91ead6125ebaf5056d8ed598d944a668...</td>\n",
       "    </tr>\n",
       "    <tr>\n",
       "      <th>3</th>\n",
       "      <td>453780236413304832</td>\n",
       "      <td>Charlotte</td>\n",
       "      <td>2018-06-06 04:40:39.190000</td>\n",
       "      <td>((convention accepted))</td>\n",
       "      <td>((convention accepted))</td>\n",
       "      <td>True</td>\n",
       "      <td>4a67686285402de9d625ab70e5b357bca56ada3f6063df...</td>\n",
       "    </tr>\n",
       "    <tr>\n",
       "      <th>4</th>\n",
       "      <td>453780286518329358</td>\n",
       "      <td>Kalahan</td>\n",
       "      <td>2018-06-06 04:40:51.136000</td>\n",
       "      <td>((I don't know what to do but I'm excited))</td>\n",
       "      <td>((I don't know what to do but I'm excited))</td>\n",
       "      <td>True</td>\n",
       "      <td>d98e16bdb182252b475050d80fd606c0e2d69aa63fe4a3...</td>\n",
       "    </tr>\n",
       "    <tr>\n",
       "      <th>5</th>\n",
       "      <td>453780327203209216</td>\n",
       "      <td>bitjockey</td>\n",
       "      <td>2018-06-06 04:41:00.836000</td>\n",
       "      <td>((just watch))</td>\n",
       "      <td>((just watch))</td>\n",
       "      <td>True</td>\n",
       "      <td>1d70387d9d92ba1566acd46880434b0c02bea551dac1d0...</td>\n",
       "    </tr>\n",
       "    <tr>\n",
       "      <th>6</th>\n",
       "      <td>453780396216287242</td>\n",
       "      <td>bitjockey</td>\n",
       "      <td>2018-06-06 04:41:17.290000</td>\n",
       "      <td>@Charlotte we nvr hd a ch4nce 2 t4lk</td>\n",
       "      <td>@Charlotte we nvr hd a ch4nce 2 t4lk</td>\n",
       "      <td>True</td>\n",
       "      <td>9c416f08d00034cea8d2422932b52c559a9b5555acbc73...</td>\n",
       "    </tr>\n",
       "    <tr>\n",
       "      <th>7</th>\n",
       "      <td>453780596410286081</td>\n",
       "      <td>Charlotte</td>\n",
       "      <td>2018-06-06 04:42:05.020000</td>\n",
       "      <td>@bitjockey im free nw...?</td>\n",
       "      <td>@bitjockey im free nw...?</td>\n",
       "      <td>True</td>\n",
       "      <td>b93ca584d06caeab2c37feabbf1d886ba109134b812b2f...</td>\n",
       "    </tr>\n",
       "    <tr>\n",
       "      <th>8</th>\n",
       "      <td>453781315347677195</td>\n",
       "      <td>bitjockey</td>\n",
       "      <td>2018-06-06 04:44:56.428000</td>\n",
       "      <td>i nvr askd</td>\n",
       "      <td>i nvr askd</td>\n",
       "      <td>True</td>\n",
       "      <td>a950e958acb805fc5130a72e7e5a343702c9885940e1a7...</td>\n",
       "    </tr>\n",
       "    <tr>\n",
       "      <th>9</th>\n",
       "      <td>453781353444540436</td>\n",
       "      <td>bitjockey</td>\n",
       "      <td>2018-06-06 04:45:05.511000</td>\n",
       "      <td>wht exactly do u kno abt m3</td>\n",
       "      <td>wht exactly do u kno abt m3</td>\n",
       "      <td>True</td>\n",
       "      <td>4ca98a3558d92e0e9986fc99e2989373f34737b050fa2d...</td>\n",
       "    </tr>\n",
       "  </tbody>\n",
       "</table>\n",
       "</div>"
      ],
      "text/plain": [
       "          original_id  character                   timestamp  \\\n",
       "0  453779598157676554  bitjockey  2018-06-06 04:38:07.018000   \n",
       "1  453779683209641984  Charlotte  2018-06-06 04:38:27.296000   \n",
       "2  453780080108503041  bitjockey  2018-06-06 04:40:01.924000   \n",
       "3  453780236413304832  Charlotte  2018-06-06 04:40:39.190000   \n",
       "4  453780286518329358    Kalahan  2018-06-06 04:40:51.136000   \n",
       "5  453780327203209216  bitjockey  2018-06-06 04:41:00.836000   \n",
       "6  453780396216287242  bitjockey  2018-06-06 04:41:17.290000   \n",
       "7  453780596410286081  Charlotte  2018-06-06 04:42:05.020000   \n",
       "8  453781315347677195  bitjockey  2018-06-06 04:44:56.428000   \n",
       "9  453781353444540436  bitjockey  2018-06-06 04:45:05.511000   \n",
       "\n",
       "                                       content  \\\n",
       "0                      @Charlotte hy r u there   \n",
       "1                                          yea   \n",
       "2         ((this will indicate ooc responses))   \n",
       "3                      ((convention accepted))   \n",
       "4  ((I don't know what to do but I'm excited))   \n",
       "5                               ((just watch))   \n",
       "6         @Charlotte we nvr hd a ch4nce 2 t4lk   \n",
       "7                    @bitjockey im free nw...?   \n",
       "8                                   i nvr askd   \n",
       "9                  wht exactly do u kno abt m3   \n",
       "\n",
       "                                   raw_content  playable  \\\n",
       "0                      @Charlotte hy r u there      True   \n",
       "1                                          yea      True   \n",
       "2         ((this will indicate ooc responses))      True   \n",
       "3                      ((convention accepted))      True   \n",
       "4  ((I don't know what to do but I'm excited))      True   \n",
       "5                               ((just watch))      True   \n",
       "6         @Charlotte we nvr hd a ch4nce 2 t4lk      True   \n",
       "7                    @bitjockey im free nw...?      True   \n",
       "8                                   i nvr askd      True   \n",
       "9                  wht exactly do u kno abt m3      True   \n",
       "\n",
       "                                             hash_id  \n",
       "0  e46e42dc973f91816553aa943fc0603f7499f627ca51cb...  \n",
       "1  dd687dc872410fef9fe0c13ecc853b7acf395ed092ca77...  \n",
       "2  c33b955330c7bf91ead6125ebaf5056d8ed598d944a668...  \n",
       "3  4a67686285402de9d625ab70e5b357bca56ada3f6063df...  \n",
       "4  d98e16bdb182252b475050d80fd606c0e2d69aa63fe4a3...  \n",
       "5  1d70387d9d92ba1566acd46880434b0c02bea551dac1d0...  \n",
       "6  9c416f08d00034cea8d2422932b52c559a9b5555acbc73...  \n",
       "7  b93ca584d06caeab2c37feabbf1d886ba109134b812b2f...  \n",
       "8  a950e958acb805fc5130a72e7e5a343702c9885940e1a7...  \n",
       "9  4ca98a3558d92e0e9986fc99e2989373f34737b050fa2d...  "
      ]
     },
     "execution_count": 6,
     "metadata": {},
     "output_type": "execute_result"
    }
   ],
   "source": [
    "all_chats.head(10)"
   ]
  },
  {
   "cell_type": "code",
   "execution_count": 7,
   "metadata": {},
   "outputs": [
    {
     "data": {
      "text/plain": [
       "(32090, 7)"
      ]
     },
     "execution_count": 7,
     "metadata": {},
     "output_type": "execute_result"
    }
   ],
   "source": [
    "all_chats.shape"
   ]
  },
  {
   "cell_type": "code",
   "execution_count": 8,
   "metadata": {},
   "outputs": [
    {
     "data": {
      "text/plain": [
       "Int64Index([    0,     2,     5,     6,     8,     9,    10,    15,    21,\n",
       "               28,\n",
       "            ...\n",
       "            31684, 31685, 31787, 31807, 31810, 31812, 31814, 31820, 31822,\n",
       "            31833],\n",
       "           dtype='int64', length=5519)"
      ]
     },
     "execution_count": 8,
     "metadata": {},
     "output_type": "execute_result"
    }
   ],
   "source": [
    "all_chats.loc[all_chats[\"character\"] == \"bitjockey\"].index"
   ]
  },
  {
   "cell_type": "code",
   "execution_count": 9,
   "metadata": {},
   "outputs": [],
   "source": [
    "def make_context(data, content_key=\"content\", character=None): \n",
    "    contexted = []\n",
    "    n = 7\n",
    "    \n",
    "    if character:\n",
    "        indexes = all_chats.loc[all_chats[\"character\"] == \"bitjockey\"].index\n",
    "    else:\n",
    "        indexes = range(n, len(data[content_key]))\n",
    "    \n",
    "    for i in indexes:\n",
    "        if character and i < n:\n",
    "            continue\n",
    "\n",
    "        row = []\n",
    "        prev = i - 1 - n  # we additionally subtract 1, so row will contain current response and 7 previous responses  \n",
    "        for j in range(i, prev, -1):\n",
    "            row.append(data[content_key][j])\n",
    "        contexted.append(row)\n",
    "        \n",
    "    columns = [\"response\", \"context\"]\n",
    "    columns = columns + [\"context/\" + str(i) for i in range(n-1)]\n",
    "    \n",
    "    df = pd.DataFrame.from_records(contexted, columns=columns)\n",
    "    return df\n",
    "        "
   ]
  },
  {
   "cell_type": "code",
   "execution_count": 10,
   "metadata": {},
   "outputs": [],
   "source": [
    "contexted_chats = make_context(all_chats, character=\"bitjockey\")"
   ]
  },
  {
   "cell_type": "code",
   "execution_count": 11,
   "metadata": {},
   "outputs": [
    {
     "data": {
      "text/html": [
       "<div>\n",
       "<style scoped>\n",
       "    .dataframe tbody tr th:only-of-type {\n",
       "        vertical-align: middle;\n",
       "    }\n",
       "\n",
       "    .dataframe tbody tr th {\n",
       "        vertical-align: top;\n",
       "    }\n",
       "\n",
       "    .dataframe thead th {\n",
       "        text-align: right;\n",
       "    }\n",
       "</style>\n",
       "<table border=\"1\" class=\"dataframe\">\n",
       "  <thead>\n",
       "    <tr style=\"text-align: right;\">\n",
       "      <th></th>\n",
       "      <th>response</th>\n",
       "      <th>context</th>\n",
       "      <th>context/0</th>\n",
       "      <th>context/1</th>\n",
       "      <th>context/2</th>\n",
       "      <th>context/3</th>\n",
       "      <th>context/4</th>\n",
       "      <th>context/5</th>\n",
       "    </tr>\n",
       "  </thead>\n",
       "  <tbody>\n",
       "    <tr>\n",
       "      <th>5510</th>\n",
       "      <td>[_gestures for Kalahan and Charlotte to go to ...</td>\n",
       "      <td>[_It's there. And you're able to flip through ...</td>\n",
       "      <td>[_looks for &lt;picture year&gt;_]</td>\n",
       "      <td>*Kalahan raises an eyebrow and shakes his head...</td>\n",
       "      <td>[_They're super-dusty and look like they haven...</td>\n",
       "      <td>[_looks for the years that the picture corresp...</td>\n",
       "      <td>[_the yearbooks are arranged chronologically, ...</td>\n",
       "      <td>[_the computer network is a college computer n...</td>\n",
       "    </tr>\n",
       "    <tr>\n",
       "      <th>5511</th>\n",
       "      <td>[_looks for any basic information, like his ma...</td>\n",
       "      <td>*Kalahan whips around, than approaches Hopper ...</td>\n",
       "      <td>[_gestures for Kalahan and Charlotte to go to ...</td>\n",
       "      <td>[_It's there. And you're able to flip through ...</td>\n",
       "      <td>[_looks for &lt;picture year&gt;_]</td>\n",
       "      <td>*Kalahan raises an eyebrow and shakes his head...</td>\n",
       "      <td>[_They're super-dusty and look like they haven...</td>\n",
       "      <td>[_looks for the years that the picture corresp...</td>\n",
       "    </tr>\n",
       "    <tr>\n",
       "      <th>5512</th>\n",
       "      <td>Oh, of course.</td>\n",
       "      <td>Well _that_ tracks.</td>\n",
       "      <td>[_Further examination lets you find the other ...</td>\n",
       "      <td>Ooh...that's not bad...</td>\n",
       "      <td>[_Ethan is listed as an Earth Sciences major_]</td>\n",
       "      <td>[*looks over hopper's other shoulder*]</td>\n",
       "      <td>[_looks for any basic information, like his ma...</td>\n",
       "      <td>*Kalahan whips around, than approaches Hopper ...</td>\n",
       "    </tr>\n",
       "    <tr>\n",
       "      <th>5513</th>\n",
       "      <td>[_Flips through yearbook for any photos of stu...</td>\n",
       "      <td>I am shocked.\\n*Kalahan is not shocked.*</td>\n",
       "      <td>Oh, of course.</td>\n",
       "      <td>Well _that_ tracks.</td>\n",
       "      <td>[_Further examination lets you find the other ...</td>\n",
       "      <td>Ooh...that's not bad...</td>\n",
       "      <td>[_Ethan is listed as an Earth Sciences major_]</td>\n",
       "      <td>[*looks over hopper's other shoulder*]</td>\n",
       "    </tr>\n",
       "    <tr>\n",
       "      <th>5514</th>\n",
       "      <td>[_glances at Charlotte_] Ahh...</td>\n",
       "      <td>*Kalahahn notices Charlotte's look, and recogn...</td>\n",
       "      <td>[*in the Matrix*] I wasn't sure if you'd come ...</td>\n",
       "      <td>[_There's a certain red-tailed hawk again._]</td>\n",
       "      <td>[*tries to see what it is*]</td>\n",
       "      <td>[_in the Matrix, Charlotte gets the feeling so...</td>\n",
       "      <td>[_From Charlotte's search, Thomas's transcript...</td>\n",
       "      <td>I am suddenly 100% more interested in college.</td>\n",
       "    </tr>\n",
       "  </tbody>\n",
       "</table>\n",
       "</div>"
      ],
      "text/plain": [
       "                                               response  \\\n",
       "5510  [_gestures for Kalahan and Charlotte to go to ...   \n",
       "5511  [_looks for any basic information, like his ma...   \n",
       "5512                                     Oh, of course.   \n",
       "5513  [_Flips through yearbook for any photos of stu...   \n",
       "5514                    [_glances at Charlotte_] Ahh...   \n",
       "\n",
       "                                                context  \\\n",
       "5510  [_It's there. And you're able to flip through ...   \n",
       "5511  *Kalahan whips around, than approaches Hopper ...   \n",
       "5512                                Well _that_ tracks.   \n",
       "5513           I am shocked.\\n*Kalahan is not shocked.*   \n",
       "5514  *Kalahahn notices Charlotte's look, and recogn...   \n",
       "\n",
       "                                              context/0  \\\n",
       "5510                       [_looks for <picture year>_]   \n",
       "5511  [_gestures for Kalahan and Charlotte to go to ...   \n",
       "5512  [_Further examination lets you find the other ...   \n",
       "5513                                     Oh, of course.   \n",
       "5514  [*in the Matrix*] I wasn't sure if you'd come ...   \n",
       "\n",
       "                                              context/1  \\\n",
       "5510  *Kalahan raises an eyebrow and shakes his head...   \n",
       "5511  [_It's there. And you're able to flip through ...   \n",
       "5512                            Ooh...that's not bad...   \n",
       "5513                                Well _that_ tracks.   \n",
       "5514       [_There's a certain red-tailed hawk again._]   \n",
       "\n",
       "                                              context/2  \\\n",
       "5510  [_They're super-dusty and look like they haven...   \n",
       "5511                       [_looks for <picture year>_]   \n",
       "5512     [_Ethan is listed as an Earth Sciences major_]   \n",
       "5513  [_Further examination lets you find the other ...   \n",
       "5514                        [*tries to see what it is*]   \n",
       "\n",
       "                                              context/3  \\\n",
       "5510  [_looks for the years that the picture corresp...   \n",
       "5511  *Kalahan raises an eyebrow and shakes his head...   \n",
       "5512             [*looks over hopper's other shoulder*]   \n",
       "5513                            Ooh...that's not bad...   \n",
       "5514  [_in the Matrix, Charlotte gets the feeling so...   \n",
       "\n",
       "                                              context/4  \\\n",
       "5510  [_the yearbooks are arranged chronologically, ...   \n",
       "5511  [_They're super-dusty and look like they haven...   \n",
       "5512  [_looks for any basic information, like his ma...   \n",
       "5513     [_Ethan is listed as an Earth Sciences major_]   \n",
       "5514  [_From Charlotte's search, Thomas's transcript...   \n",
       "\n",
       "                                              context/5  \n",
       "5510  [_the computer network is a college computer n...  \n",
       "5511  [_looks for the years that the picture corresp...  \n",
       "5512  *Kalahan whips around, than approaches Hopper ...  \n",
       "5513             [*looks over hopper's other shoulder*]  \n",
       "5514     I am suddenly 100% more interested in college.  "
      ]
     },
     "execution_count": 11,
     "metadata": {},
     "output_type": "execute_result"
    }
   ],
   "source": [
    "contexted_chats.tail(5)"
   ]
  },
  {
   "cell_type": "code",
   "execution_count": 12,
   "metadata": {},
   "outputs": [],
   "source": [
    "trn_df, val_df = train_test_split(contexted_chats, test_size = 0.1)"
   ]
  },
  {
   "cell_type": "code",
   "execution_count": 14,
   "metadata": {},
   "outputs": [],
   "source": [
    "def construct_conv(row, tokenizer, eos = True):\n",
    "    flatten = lambda l: [item for sublist in l for item in sublist]\n",
    "    conv = list(reversed([tokenizer.encode(x) + [tokenizer.eos_token_id] for x in row]))\n",
    "    conv = flatten(conv)\n",
    "    return conv\n",
    "\n",
    "class ConversationDataset(Dataset):\n",
    "    def __init__(self, tokenizer: PreTrainedTokenizer, args, df, block_size=512):\n",
    "\n",
    "        block_size = block_size - (tokenizer.model_max_length - tokenizer.max_len_single_sentence)\n",
    "\n",
    "        directory = args.cache_dir\n",
    "        cached_features_file = os.path.join(\n",
    "            directory, args.model_type + \"_cached_lm_\" + str(block_size)\n",
    "        )\n",
    "\n",
    "        if os.path.exists(cached_features_file) and not args.overwrite_cache:\n",
    "            logger.info(\"Loading features from cached file %s\", cached_features_file)\n",
    "            with open(cached_features_file, \"rb\") as handle:\n",
    "                self.examples = pickle.load(handle)\n",
    "        else:\n",
    "            logger.info(\"Creating features from dataset file at %s\", directory)\n",
    "\n",
    "            self.examples = []\n",
    "            for _, row in df.iterrows():\n",
    "                conv = construct_conv(row, tokenizer)\n",
    "                self.examples.append(conv)\n",
    "\n",
    "            logger.info(\"Saving features into cached file %s\", cached_features_file)\n",
    "            with open(cached_features_file, \"wb\") as handle:\n",
    "                pickle.dump(self.examples, handle, protocol=pickle.HIGHEST_PROTOCOL)\n",
    "\n",
    "    def __len__(self):\n",
    "        return len(self.examples)\n",
    "\n",
    "    def __getitem__(self, item):\n",
    "        return torch.tensor(self.examples[item], dtype=torch.long)\n",
    "      \n",
    "# Cacheing and storing of data/checkpoints\n",
    "\n",
    "def load_and_cache_examples(args, tokenizer, df_trn, df_val, evaluate=False):\n",
    "    return ConversationDataset(tokenizer, args, df_val if evaluate else df_trn)\n",
    "\n",
    "def set_seed(args):\n",
    "    random.seed(args.seed)\n",
    "    np.random.seed(args.seed)\n",
    "    torch.manual_seed(args.seed)\n",
    "    if args.n_gpu > 0:\n",
    "        torch.cuda.manual_seed_all(args.seed)\n",
    "\n",
    "def _sorted_checkpoints(args, checkpoint_prefix=\"checkpoint\", use_mtime=False) -> List[str]:\n",
    "    ordering_and_checkpoint_path = []\n",
    "\n",
    "    glob_checkpoints = glob.glob(os.path.join(args.output_dir, \"{}-*\".format(checkpoint_prefix)))\n",
    "\n",
    "    for path in glob_checkpoints:\n",
    "        if use_mtime:\n",
    "            ordering_and_checkpoint_path.append((os.path.getmtime(path), path))\n",
    "        else:\n",
    "            regex_match = re.match(\".*{}-([0-9]+)\".format(checkpoint_prefix), path)\n",
    "            if regex_match and regex_match.groups():\n",
    "                ordering_and_checkpoint_path.append((int(regex_match.groups()[0]), path))\n",
    "\n",
    "    checkpoints_sorted = sorted(ordering_and_checkpoint_path)\n",
    "    checkpoints_sorted = [checkpoint[1] for checkpoint in checkpoints_sorted]\n",
    "    return checkpoints_sorted\n",
    "\n",
    "def _rotate_checkpoints(args, checkpoint_prefix=\"checkpoint\", use_mtime=False) -> None:\n",
    "    if not args.save_total_limit:\n",
    "        return\n",
    "    if args.save_total_limit <= 0:\n",
    "        return\n",
    "\n",
    "    # Check if we should delete older checkpoint(s)\n",
    "    checkpoints_sorted = _sorted_checkpoints(args, checkpoint_prefix, use_mtime)\n",
    "    if len(checkpoints_sorted) <= args.save_total_limit:\n",
    "        return\n",
    "\n",
    "    number_of_checkpoints_to_delete = max(0, len(checkpoints_sorted) - args.save_total_limit)\n",
    "    checkpoints_to_be_deleted = checkpoints_sorted[:number_of_checkpoints_to_delete]\n",
    "    for checkpoint in checkpoints_to_be_deleted:\n",
    "        logger.info(\"Deleting older checkpoint [{}] due to args.save_total_limit\".format(checkpoint))\n",
    "        shutil.rmtree(checkpoint)"
   ]
  },
  {
   "cell_type": "code",
   "execution_count": 15,
   "metadata": {},
   "outputs": [],
   "source": [
    "def train(args, train_dataset, model: PreTrainedModel, tokenizer: PreTrainedTokenizer) -> Tuple[int, float]:\n",
    "    \"\"\" Train the model \"\"\"\n",
    "    if args.local_rank in [-1, 0]:\n",
    "        tb_writer = SummaryWriter()\n",
    "\n",
    "    args.train_batch_size = args.per_gpu_train_batch_size * max(1, args.n_gpu)\n",
    "\n",
    "    def collate(examples: List[torch.Tensor]):\n",
    "        if tokenizer._pad_token is None:\n",
    "            return pad_sequence(examples, batch_first=True)\n",
    "        return pad_sequence(examples, batch_first=True, padding_value=tokenizer.pad_token_id)\n",
    "\n",
    "    train_sampler = RandomSampler(train_dataset) if args.local_rank == -1 else DistributedSampler(train_dataset)\n",
    "    train_dataloader = DataLoader(\n",
    "        train_dataset, sampler=train_sampler, batch_size=args.train_batch_size, collate_fn=collate, drop_last = True\n",
    "    )\n",
    "\n",
    "    if args.max_steps > 0:\n",
    "        t_total = args.max_steps\n",
    "        args.num_train_epochs = args.max_steps // (len(train_dataloader) // args.gradient_accumulation_steps) + 1\n",
    "    else:\n",
    "        t_total = len(train_dataloader) // args.gradient_accumulation_steps * args.num_train_epochs\n",
    "\n",
    "    model = model.module if hasattr(model, \"module\") else model  # Take care of distributed/parallel training\n",
    "    model.resize_token_embeddings(len(tokenizer))\n",
    "    # add_special_tokens_(model, tokenizer)\n",
    "\n",
    "\n",
    "    # Prepare optimizer and schedule (linear warmup and decay)\n",
    "    no_decay = [\"bias\", \"LayerNorm.weight\"]\n",
    "    optimizer_grouped_parameters = [\n",
    "        {\n",
    "            \"params\": [p for n, p in model.named_parameters() if not any(nd in n for nd in no_decay)],\n",
    "            \"weight_decay\": args.weight_decay,\n",
    "        },\n",
    "        {\"params\": [p for n, p in model.named_parameters() if any(nd in n for nd in no_decay)], \"weight_decay\": 0.0},\n",
    "    ]\n",
    "    optimizer = AdamW(optimizer_grouped_parameters, lr=args.learning_rate, eps=args.adam_epsilon)\n",
    "    scheduler = get_linear_schedule_with_warmup(\n",
    "        optimizer, num_warmup_steps=args.warmup_steps, num_training_steps=t_total\n",
    "    )\n",
    "\n",
    "    # Check if saved optimizer or scheduler states exist\n",
    "    if (\n",
    "        args.model_name_or_path\n",
    "        and os.path.isfile(os.path.join(args.model_name_or_path, \"optimizer.pt\"))\n",
    "        and os.path.isfile(os.path.join(args.model_name_or_path, \"scheduler.pt\"))\n",
    "    ):\n",
    "        # Load in optimizer and scheduler states\n",
    "        optimizer.load_state_dict(torch.load(os.path.join(args.model_name_or_path, \"optimizer.pt\")))\n",
    "        scheduler.load_state_dict(torch.load(os.path.join(args.model_name_or_path, \"scheduler.pt\")))\n",
    "\n",
    "    if args.fp16:\n",
    "        try:\n",
    "            from apex import amp\n",
    "        except ImportError:\n",
    "            raise ImportError(\"Please install apex from https://www.github.com/nvidia/apex to use fp16 training.\")\n",
    "        model, optimizer = amp.initialize(model, optimizer, opt_level=args.fp16_opt_level)\n",
    "\n",
    "    # multi-gpu training (should be after apex fp16 initialization)\n",
    "    if args.n_gpu > 1:\n",
    "        model = torch.nn.DataParallel(model)\n",
    "\n",
    "    # Distributed training (should be after apex fp16 initialization)\n",
    "    if args.local_rank != -1:\n",
    "        model = torch.nn.parallel.DistributedDataParallel(\n",
    "            model, device_ids=[args.local_rank], output_device=args.local_rank, find_unused_parameters=True\n",
    "        )\n",
    "\n",
    "    # Train!\n",
    "    logger.info(\"***** Running training *****\")\n",
    "    logger.info(\"  Num examples = %d\", len(train_dataset))\n",
    "    logger.info(\"  Num Epochs = %d\", args.num_train_epochs)\n",
    "    logger.info(\"  Instantaneous batch size per GPU = %d\", args.per_gpu_train_batch_size)\n",
    "    logger.info(\n",
    "        \"  Total train batch size (w. parallel, distributed & accumulation) = %d\",\n",
    "        args.train_batch_size\n",
    "        * args.gradient_accumulation_steps\n",
    "        * (torch.distributed.get_world_size() if args.local_rank != -1 else 1),\n",
    "    )\n",
    "    logger.info(\"  Gradient Accumulation steps = %d\", args.gradient_accumulation_steps)\n",
    "    logger.info(\"  Total optimization steps = %d\", t_total)\n",
    "\n",
    "    global_step = 0\n",
    "    epochs_trained = 0\n",
    "    steps_trained_in_current_epoch = 0\n",
    "    # Check if continuing training from a checkpoint\n",
    "    if args.model_name_or_path and os.path.exists(args.model_name_or_path):\n",
    "        try:\n",
    "            # set global_step to gobal_step of last saved checkpoint from model path\n",
    "            checkpoint_suffix = args.model_name_or_path.split(\"-\")[-1].split(\"/\")[0]\n",
    "            global_step = int(checkpoint_suffix)\n",
    "            epochs_trained = global_step // (len(train_dataloader) // args.gradient_accumulation_steps)\n",
    "            steps_trained_in_current_epoch = global_step % (len(train_dataloader) // args.gradient_accumulation_steps)\n",
    "\n",
    "            logger.info(\"  Continuing training from checkpoint, will skip to saved global_step\")\n",
    "            logger.info(\"  Continuing training from epoch %d\", epochs_trained)\n",
    "            logger.info(\"  Continuing training from global step %d\", global_step)\n",
    "            logger.info(\"  Will skip the first %d steps in the first epoch\", steps_trained_in_current_epoch)\n",
    "        except ValueError:\n",
    "            logger.info(\"  Starting fine-tuning.\")\n",
    "\n",
    "    tr_loss, logging_loss = 0.0, 0.0\n",
    "\n",
    "    model.zero_grad()\n",
    "    train_iterator = trange(\n",
    "        epochs_trained, int(args.num_train_epochs), desc=\"Epoch\", disable=args.local_rank not in [-1, 0]\n",
    "    )\n",
    "    set_seed(args)  # Added here for reproducibility\n",
    "    for _ in train_iterator:\n",
    "        epoch_iterator = tqdm(train_dataloader, desc=\"Iteration\", disable=args.local_rank not in [-1, 0])\n",
    "        for step, batch in enumerate(epoch_iterator):\n",
    "\n",
    "            # Skip past any already trained steps if resuming training\n",
    "            if steps_trained_in_current_epoch > 0:\n",
    "                steps_trained_in_current_epoch -= 1\n",
    "                continue\n",
    "\n",
    "            inputs, labels = (batch, batch)\n",
    "            if inputs.shape[1] > 1024: continue\n",
    "            inputs = inputs.to(args.device)\n",
    "            labels = labels.to(args.device)\n",
    "            model.train()\n",
    "            outputs = model(inputs, labels=labels)\n",
    "            loss = outputs[0]  # model outputs are always tuple in transformers (see doc)\n",
    "\n",
    "            if args.n_gpu > 1:\n",
    "                loss = loss.mean()  # mean() to average on multi-gpu parallel training\n",
    "            if args.gradient_accumulation_steps > 1:\n",
    "                loss = loss / args.gradient_accumulation_steps\n",
    "\n",
    "            if args.fp16:\n",
    "                with amp.scale_loss(loss, optimizer) as scaled_loss:\n",
    "                    scaled_loss.backward()\n",
    "            else:\n",
    "                loss.backward()\n",
    "\n",
    "            tr_loss += loss.item()\n",
    "            if (step + 1) % args.gradient_accumulation_steps == 0:\n",
    "                if args.fp16:\n",
    "                    torch.nn.utils.clip_grad_norm_(amp.master_params(optimizer), args.max_grad_norm)\n",
    "                else:\n",
    "                    torch.nn.utils.clip_grad_norm_(model.parameters(), args.max_grad_norm)\n",
    "                optimizer.step()\n",
    "                scheduler.step()  # Update learning rate schedule\n",
    "                model.zero_grad()\n",
    "                global_step += 1\n",
    "\n",
    "                if args.local_rank in [-1, 0] and args.logging_steps > 0 and global_step % args.logging_steps == 0:\n",
    "                    # Log metrics\n",
    "                    if (\n",
    "                        args.local_rank == -1 and args.evaluate_during_training\n",
    "                    ):  # Only evaluate when single GPU otherwise metrics may not average well\n",
    "                        results = evaluate(args, model, tokenizer)\n",
    "                        for key, value in results.items():\n",
    "                            tb_writer.add_scalar(\"eval_{}\".format(key), value, global_step)\n",
    "                    tb_writer.add_scalar(\"lr\", scheduler.get_lr()[0], global_step)\n",
    "                    tb_writer.add_scalar(\"loss\", (tr_loss - logging_loss) / args.logging_steps, global_step)\n",
    "                    logging_loss = tr_loss\n",
    "\n",
    "                if args.local_rank in [-1, 0] and args.save_steps > 0 and global_step % args.save_steps == 0:\n",
    "                    checkpoint_prefix = \"checkpoint\"\n",
    "                    # Save model checkpoint\n",
    "                    output_dir = os.path.join(args.output_dir, \"{}-{}\".format(checkpoint_prefix, global_step))\n",
    "                    os.makedirs(output_dir, exist_ok=True)\n",
    "                    model_to_save = (\n",
    "                        model.module if hasattr(model, \"module\") else model\n",
    "                    )  # Take care of distributed/parallel training\n",
    "                    model_to_save.save_pretrained(output_dir)\n",
    "                    tokenizer.save_pretrained(output_dir)\n",
    "\n",
    "                    torch.save(args, os.path.join(output_dir, \"training_args.bin\"))\n",
    "                    logger.info(\"Saving model checkpoint to %s\", output_dir)\n",
    "\n",
    "                    _rotate_checkpoints(args, checkpoint_prefix)\n",
    "\n",
    "                    torch.save(optimizer.state_dict(), os.path.join(output_dir, \"optimizer.pt\"))\n",
    "                    torch.save(scheduler.state_dict(), os.path.join(output_dir, \"scheduler.pt\"))\n",
    "                    logger.info(\"Saving optimizer and scheduler states to %s\", output_dir)\n",
    "\n",
    "            if args.max_steps > 0 and global_step > args.max_steps:\n",
    "                epoch_iterator.close()\n",
    "                break\n",
    "        if args.max_steps > 0 and global_step > args.max_steps:\n",
    "            train_iterator.close()\n",
    "            break\n",
    "\n",
    "    if args.local_rank in [-1, 0]:\n",
    "        tb_writer.close()\n",
    "\n",
    "    return global_step, tr_loss / global_step\n",
    "\n",
    "# Evaluation of some model\n",
    "\n",
    "def evaluate(args, model: PreTrainedModel, tokenizer: PreTrainedTokenizer, df_trn, df_val, prefix=\"\") -> Dict:\n",
    "    # Loop to handle MNLI double evaluation (matched, mis-matched)\n",
    "    eval_output_dir = args.output_dir\n",
    "\n",
    "    eval_dataset = load_and_cache_examples(args, tokenizer, df_trn, df_val, evaluate=True)\n",
    "    os.makedirs(eval_output_dir, exist_ok=True)\n",
    "    args.eval_batch_size = args.per_gpu_eval_batch_size * max(1, args.n_gpu)\n",
    "    # Note that DistributedSampler samples randomly\n",
    "\n",
    "    def collate(examples: List[torch.Tensor]):\n",
    "        if tokenizer._pad_token is None:\n",
    "            return pad_sequence(examples, batch_first=True)\n",
    "        return pad_sequence(examples, batch_first=True, padding_value=tokenizer.pad_token_id)\n",
    "\n",
    "    eval_sampler = SequentialSampler(eval_dataset)\n",
    "    eval_dataloader = DataLoader(\n",
    "        eval_dataset, sampler=eval_sampler, batch_size=args.eval_batch_size, collate_fn=collate, drop_last = True\n",
    "    )\n",
    "\n",
    "    # multi-gpu evaluate\n",
    "    if args.n_gpu > 1:\n",
    "        model = torch.nn.DataParallel(model)\n",
    "\n",
    "    # Eval!\n",
    "    logger.info(\"***** Running evaluation {} *****\".format(prefix))\n",
    "    logger.info(\"  Num examples = %d\", len(eval_dataset))\n",
    "    logger.info(\"  Batch size = %d\", args.eval_batch_size)\n",
    "    eval_loss = 0.0\n",
    "    nb_eval_steps = 0\n",
    "    model.eval()\n",
    "\n",
    "    for batch in tqdm(eval_dataloader, desc=\"Evaluating\"):\n",
    "        inputs, labels = (batch, batch)\n",
    "        inputs = inputs.to(args.device)\n",
    "        labels = labels.to(args.device)\n",
    "\n",
    "        with torch.no_grad():\n",
    "            outputs = model(inputs, labels=labels)\n",
    "            lm_loss = outputs[0]\n",
    "            eval_loss += lm_loss.mean().item()\n",
    "        nb_eval_steps += 1\n",
    "\n",
    "    eval_loss = eval_loss / nb_eval_steps\n",
    "    perplexity = torch.exp(torch.tensor(eval_loss))\n",
    "\n",
    "    result = {\"perplexity\": perplexity}\n",
    "\n",
    "    output_eval_file = os.path.join(eval_output_dir, prefix, \"eval_results.txt\")\n",
    "    with open(output_eval_file, \"w\") as writer:\n",
    "        logger.info(\"***** Eval results {} *****\".format(prefix))\n",
    "        for key in sorted(result.keys()):\n",
    "            logger.info(\"  %s = %s\", key, str(result[key]))\n",
    "            writer.write(\"%s = %s\\n\" % (key, str(result[key])))\n",
    "\n",
    "    return result"
   ]
  },
  {
   "cell_type": "markdown",
   "metadata": {},
   "source": [
    "So bigger batch sizes are not always better, especially with such a small dataset like this one. So I reduced the batch size from 12 to 1."
   ]
  },
  {
   "cell_type": "code",
   "execution_count": 16,
   "metadata": {},
   "outputs": [],
   "source": [
    "from src.args import Args"
   ]
  },
  {
   "cell_type": "code",
   "execution_count": 17,
   "metadata": {
    "scrolled": true,
    "tags": []
   },
   "outputs": [
    {
     "data": {
      "text/plain": [
       "{'output_dir': 'output-small',\n",
       " 'model_type': 'gpt2',\n",
       " 'model_name_or_path': 'microsoft/DialoGPT-small',\n",
       " 'config_name': 'microsoft/DialoGPT-small',\n",
       " 'tokenizer_name': 'microsoft/DialoGPT-small',\n",
       " 'cache_dir': 'cached',\n",
       " 'block_size': 512,\n",
       " 'do_train': True,\n",
       " 'do_eval': True,\n",
       " 'evaluate_during_training': False,\n",
       " 'per_gpu_train_batch_size': 1,\n",
       " 'per_gpu_eval_batch_size': 1,\n",
       " 'gradient_accumulation_steps': 1,\n",
       " 'learning_rate': 5e-05,\n",
       " 'weight_decay': 0.0,\n",
       " 'adam_epsilon': 1e-08,\n",
       " 'max_grad_norm': 1.0,\n",
       " 'num_train_epochs': 3,\n",
       " 'max_steps': -1,\n",
       " 'warmup_steps': 0,\n",
       " 'logging_steps': 1000,\n",
       " 'save_steps': 3500,\n",
       " 'save_total_limit': None,\n",
       " 'eval_all_checkpoints': False,\n",
       " 'no_cuda': False,\n",
       " 'overwrite_output_dir': True,\n",
       " 'overwrite_cache': True,\n",
       " 'should_continue': False,\n",
       " 'seed': 42,\n",
       " 'local_rank': -1,\n",
       " 'fp16': False,\n",
       " 'fp16_opt_level': 'O1',\n",
       " 'data_filename': '../data/processed.csv',\n",
       " 'filter_by': None,\n",
       " 'filter_value': None}"
      ]
     },
     "execution_count": 17,
     "metadata": {},
     "output_type": "execute_result"
    }
   ],
   "source": [
    "Args().__dict__"
   ]
  },
  {
   "cell_type": "code",
   "execution_count": 18,
   "metadata": {},
   "outputs": [],
   "source": [
    "def main(df_trn, df_val):\n",
    "    args = Args()\n",
    "\n",
    "    if args.should_continue:\n",
    "        sorted_checkpoints = _sorted_checkpoints(args)\n",
    "        if len(sorted_checkpoints) == 0:\n",
    "            raise ValueError(\"Used --should_continue but no checkpoint was found in --output_dir.\")\n",
    "        else:\n",
    "            args.model_name_or_path = sorted_checkpoints[-1]\n",
    "\n",
    "    if (\n",
    "        os.path.exists(args.output_dir)\n",
    "        and os.listdir(args.output_dir)\n",
    "        and args.do_train\n",
    "        and not args.overwrite_output_dir\n",
    "        and not args.should_continue\n",
    "    ):\n",
    "        raise ValueError(\n",
    "            \"Output directory ({}) already exists and is not empty. Use --overwrite_output_dir to overcome.\".format(\n",
    "                args.output_dir\n",
    "            )\n",
    "        )\n",
    "\n",
    "    # Setup CUDA, GPU & distributed training\n",
    "    device = torch.device(\"cuda\")\n",
    "    args.n_gpu = torch.cuda.device_count()\n",
    "    args.device = device\n",
    "\n",
    "    # Setup logging\n",
    "    logging.basicConfig(\n",
    "        format=\"%(asctime)s - %(levelname)s - %(name)s -   %(message)s\",\n",
    "        datefmt=\"%m/%d/%Y %H:%M:%S\",\n",
    "        level=logging.INFO if args.local_rank in [-1, 0] else logging.WARN,\n",
    "    )\n",
    "    logger.warning(\n",
    "        \"Process rank: %s, device: %s, n_gpu: %s, distributed training: %s, 16-bits training: %s\",\n",
    "        args.local_rank,\n",
    "        device,\n",
    "        args.n_gpu,\n",
    "        bool(args.local_rank != -1),\n",
    "        args.fp16,\n",
    "    )\n",
    "\n",
    "    # Set seed\n",
    "    set_seed(args)\n",
    "\n",
    "    config = AutoConfig.from_pretrained(args.config_name, cache_dir=args.cache_dir)\n",
    "    tokenizer = AutoTokenizer.from_pretrained(args.tokenizer_name, cache_dir=args.cache_dir)\n",
    "    model = AutoModelForCausalLM.from_pretrained(\n",
    "        args.model_name_or_path,\n",
    "        from_tf=False,\n",
    "        config=config,\n",
    "        cache_dir=args.cache_dir,\n",
    "    )\n",
    "    model.to(args.device)\n",
    "\n",
    "    logger.info(\"Training/evaluation parameters %s\", args)\n",
    "\n",
    "    # Training\n",
    "    if args.do_train:\n",
    "        train_dataset = load_and_cache_examples(args, tokenizer, df_trn, df_val, evaluate=False)\n",
    "\n",
    "        global_step, tr_loss = train(args, train_dataset, model, tokenizer)\n",
    "        logger.info(\" global_step = %s, average loss = %s\", global_step, tr_loss)\n",
    "\n",
    "    # Saving best-practices: if you use save_pretrained for the model and tokenizer, you can reload them using from_pretrained()\n",
    "    if args.do_train:\n",
    "        # Create output directory if needed\n",
    "        os.makedirs(args.output_dir, exist_ok=True)\n",
    "\n",
    "        logger.info(\"Saving model checkpoint to %s\", args.output_dir)\n",
    "        # Save a trained model, configuration and tokenizer using `save_pretrained()`.\n",
    "        # They can then be reloaded using `from_pretrained()`\n",
    "        model_to_save = (\n",
    "            model.module if hasattr(model, \"module\") else model\n",
    "        )  # Take care of distributed/parallel training\n",
    "        model_to_save.save_pretrained(args.output_dir)\n",
    "        tokenizer.save_pretrained(args.output_dir)\n",
    "\n",
    "        # Good practice: save your training arguments together with the trained model\n",
    "        torch.save(args, os.path.join(args.output_dir, \"training_args.bin\"))\n",
    "\n",
    "        # Load a trained model and vocabulary that you have fine-tuned\n",
    "        model = AutoModelForCausalLM.from_pretrained(args.output_dir)\n",
    "        tokenizer = AutoTokenizer.from_pretrained(args.output_dir)\n",
    "        model.to(args.device)\n",
    "\n",
    "    # Evaluation\n",
    "    results = {}\n",
    "    if args.do_eval and args.local_rank in [-1, 0]:\n",
    "        checkpoints = [args.output_dir]\n",
    "        if args.eval_all_checkpoints:\n",
    "            checkpoints = list(\n",
    "                os.path.dirname(c) for c in sorted(glob.glob(args.output_dir + \"/**/\" + WEIGHTS_NAME, recursive=True))\n",
    "            )\n",
    "            logging.getLogger(\"transformers.modeling_utils\").setLevel(logging.WARN)  # Reduce logging\n",
    "        logger.info(\"Evaluate the following checkpoints: %s\", checkpoints)\n",
    "        for checkpoint in checkpoints:\n",
    "            global_step = checkpoint.split(\"-\")[-1] if len(checkpoints) > 1 else \"\"\n",
    "            prefix = checkpoint.split(\"/\")[-1] if checkpoint.find(\"checkpoint\") != -1 else \"\"\n",
    "\n",
    "            model = AutoModelForCausalLM.from_pretrained(checkpoint)\n",
    "            model.to(args.device)\n",
    "            result = evaluate(args, model, tokenizer, df_trn, df_val, prefix=prefix)\n",
    "            result = dict((k + \"_{}\".format(global_step), v) for k, v in result.items())\n",
    "            results.update(result)\n",
    "\n",
    "    return results"
   ]
  },
  {
   "cell_type": "code",
   "execution_count": 17,
   "metadata": {},
   "outputs": [],
   "source": [
    "import os"
   ]
  },
  {
   "cell_type": "code",
   "execution_count": 18,
   "metadata": {},
   "outputs": [],
   "source": [
    "os.environ[\"PYTORCH_CUDA_ALLOC_CONF\"] = 'max_split_size_mb:128'"
   ]
  },
  {
   "cell_type": "code",
   "execution_count": 19,
   "metadata": {},
   "outputs": [
    {
     "name": "stderr",
     "output_type": "stream",
     "text": [
      "06/10/2022 17:27:40 - WARNING - __main__ -   Process rank: -1, device: cuda, n_gpu: 1, distributed training: False, 16-bits training: False\n",
      "/opt/conda/lib/python3.10/site-packages/transformers/models/auto/modeling_auto.py:921: FutureWarning: The class `AutoModelForCausalLM` is deprecated and will be removed in a future version. Please use `AutoModelForCausalLM` for causal language models, `AutoModelForMaskedLM` for masked language models and `AutoModelForSeq2SeqLM` for encoder-decoder models.\n",
      "  warnings.warn(\n",
      "06/10/2022 17:27:44 - INFO - __main__ -   Training/evaluation parameters <src.args.Args object at 0x7f18ee4e2d70>\n",
      "06/10/2022 17:27:44 - INFO - __main__ -   Creating features from dataset file at cached\n",
      "06/10/2022 17:27:46 - INFO - __main__ -   Saving features into cached file cached/gpt2_cached_lm_512\n",
      "/opt/conda/lib/python3.10/site-packages/transformers/optimization.py:306: FutureWarning: This implementation of AdamW is deprecated and will be removed in a future version. Use the PyTorch implementation torch.optim.AdamW instead, or set `no_deprecation_warning=True` to disable this warning\n",
      "  warnings.warn(\n",
      "06/10/2022 17:27:46 - INFO - __main__ -   ***** Running training *****\n",
      "06/10/2022 17:27:46 - INFO - __main__ -     Num examples = 4963\n",
      "06/10/2022 17:27:46 - INFO - __main__ -     Num Epochs = 3\n",
      "06/10/2022 17:27:46 - INFO - __main__ -     Instantaneous batch size per GPU = 1\n",
      "06/10/2022 17:27:46 - INFO - __main__ -     Total train batch size (w. parallel, distributed & accumulation) = 1\n",
      "06/10/2022 17:27:46 - INFO - __main__ -     Gradient Accumulation steps = 1\n",
      "06/10/2022 17:27:46 - INFO - __main__ -     Total optimization steps = 14889\n"
     ]
    },
    {
     "data": {
      "application/vnd.jupyter.widget-view+json": {
       "model_id": "5e1625c3fd7c4658809e2a827c5d3dd7",
       "version_major": 2,
       "version_minor": 0
      },
      "text/plain": [
       "Epoch:   0%|          | 0/3 [00:00<?, ?it/s]"
      ]
     },
     "metadata": {},
     "output_type": "display_data"
    },
    {
     "data": {
      "application/vnd.jupyter.widget-view+json": {
       "model_id": "44637cb8a8c74f27a87fe78fc3d84504",
       "version_major": 2,
       "version_minor": 0
      },
      "text/plain": [
       "Iteration:   0%|          | 0/4963 [00:00<?, ?it/s]"
      ]
     },
     "metadata": {},
     "output_type": "display_data"
    },
    {
     "name": "stderr",
     "output_type": "stream",
     "text": [
      "/opt/conda/lib/python3.10/site-packages/torch/optim/lr_scheduler.py:249: UserWarning: To get the last learning rate computed by the scheduler, please use `get_last_lr()`.\n",
      "  warnings.warn(\"To get the last learning rate computed by the scheduler, \"\n",
      "06/10/2022 17:30:27 - INFO - __main__ -   Saving model checkpoint to output-small/checkpoint-3500\n",
      "06/10/2022 17:30:29 - INFO - __main__ -   Saving optimizer and scheduler states to output-small/checkpoint-3500\n"
     ]
    },
    {
     "data": {
      "application/vnd.jupyter.widget-view+json": {
       "model_id": "16c6d2fcb4334ceda931550379383012",
       "version_major": 2,
       "version_minor": 0
      },
      "text/plain": [
       "Iteration:   0%|          | 0/4963 [00:00<?, ?it/s]"
      ]
     },
     "metadata": {},
     "output_type": "display_data"
    },
    {
     "name": "stderr",
     "output_type": "stream",
     "text": [
      "06/10/2022 17:33:09 - INFO - __main__ -   Saving model checkpoint to output-small/checkpoint-7000\n",
      "06/10/2022 17:33:12 - INFO - __main__ -   Saving optimizer and scheduler states to output-small/checkpoint-7000\n"
     ]
    },
    {
     "data": {
      "application/vnd.jupyter.widget-view+json": {
       "model_id": "d327733e61464bd4bb5fd5434159cf0d",
       "version_major": 2,
       "version_minor": 0
      },
      "text/plain": [
       "Iteration:   0%|          | 0/4963 [00:00<?, ?it/s]"
      ]
     },
     "metadata": {},
     "output_type": "display_data"
    },
    {
     "name": "stderr",
     "output_type": "stream",
     "text": [
      "06/10/2022 17:35:52 - INFO - __main__ -   Saving model checkpoint to output-small/checkpoint-10500\n",
      "06/10/2022 17:35:55 - INFO - __main__ -   Saving optimizer and scheduler states to output-small/checkpoint-10500\n",
      "06/10/2022 17:38:35 - INFO - __main__ -   Saving model checkpoint to output-small/checkpoint-14000\n",
      "06/10/2022 17:38:38 - INFO - __main__ -   Saving optimizer and scheduler states to output-small/checkpoint-14000\n",
      "06/10/2022 17:39:18 - INFO - __main__ -    global_step = 14889, average loss = 2.6356329757416734\n",
      "06/10/2022 17:39:18 - INFO - __main__ -   Saving model checkpoint to output-small\n",
      "06/10/2022 17:39:21 - INFO - __main__ -   Evaluate the following checkpoints: ['output-small']\n",
      "06/10/2022 17:39:22 - INFO - __main__ -   Creating features from dataset file at cached\n",
      "06/10/2022 17:39:22 - INFO - __main__ -   Saving features into cached file cached/gpt2_cached_lm_512\n",
      "06/10/2022 17:39:22 - INFO - __main__ -   ***** Running evaluation  *****\n",
      "06/10/2022 17:39:22 - INFO - __main__ -     Num examples = 552\n",
      "06/10/2022 17:39:22 - INFO - __main__ -     Batch size = 1\n"
     ]
    },
    {
     "data": {
      "application/vnd.jupyter.widget-view+json": {
       "model_id": "8959a3f88d484d4ba63136386f2f68b0",
       "version_major": 2,
       "version_minor": 0
      },
      "text/plain": [
       "Evaluating:   0%|          | 0/552 [00:00<?, ?it/s]"
      ]
     },
     "metadata": {},
     "output_type": "display_data"
    },
    {
     "name": "stderr",
     "output_type": "stream",
     "text": [
      "06/10/2022 17:39:26 - INFO - __main__ -   ***** Eval results  *****\n",
      "06/10/2022 17:39:26 - INFO - __main__ -     perplexity = tensor(9.4444)\n"
     ]
    },
    {
     "data": {
      "text/plain": [
       "{'perplexity_': tensor(9.4444)}"
      ]
     },
     "execution_count": 19,
     "metadata": {},
     "output_type": "execute_result"
    }
   ],
   "source": [
    "main(trn_df, val_df)"
   ]
  },
  {
   "cell_type": "code",
   "execution_count": 4,
   "metadata": {},
   "outputs": [
    {
     "name": "stdin",
     "output_type": "stream",
     "text": [
      ">> User:  Hi there\n"
     ]
    },
    {
     "name": "stdout",
     "output_type": "stream",
     "text": [
      "HopperBot: Hello\n"
     ]
    },
    {
     "name": "stdin",
     "output_type": "stream",
     "text": [
      ">> User:  How are you\n"
     ]
    },
    {
     "name": "stdout",
     "output_type": "stream",
     "text": [
      "HopperBot: I’m...alright. How are...how are you?\n"
     ]
    },
    {
     "name": "stdin",
     "output_type": "stream",
     "text": [
      ">> User:  I'm okay\n"
     ]
    },
    {
     "name": "stdout",
     "output_type": "stream",
     "text": [
      "HopperBot: That’s...good.\n"
     ]
    },
    {
     "name": "stdin",
     "output_type": "stream",
     "text": [
      ">> User:  Any plans today?\n"
     ]
    },
    {
     "name": "stdout",
     "output_type": "stream",
     "text": [
      "HopperBot: Hmm...not really. I haven't really had a chance to do anything since yesterday.\n"
     ]
    },
    {
     "name": "stdin",
     "output_type": "stream",
     "text": [
      ">> User:  That's a shame!\n"
     ]
    },
    {
     "name": "stdout",
     "output_type": "stream",
     "text": [
      "HopperBot: Uhm do you think your family will mind if I do some uhm\n"
     ]
    },
    {
     "name": "stdin",
     "output_type": "stream",
     "text": [
      ">> User:  Some what?\n"
     ]
    },
    {
     "name": "stdout",
     "output_type": "stream",
     "text": [
      "HopperBot: Your...family seems pretty accepting of me.\n"
     ]
    },
    {
     "name": "stdin",
     "output_type": "stream",
     "text": [
      ">> User:  Well of course, you're always welcome here.\n"
     ]
    },
    {
     "name": "stdout",
     "output_type": "stream",
     "text": [
      "HopperBot: [_smiles_] Thanks\n"
     ]
    },
    {
     "name": "stdin",
     "output_type": "stream",
     "text": [
      ">> User:  So have you been talking to your therapist?\n"
     ]
    },
    {
     "name": "stdout",
     "output_type": "stream",
     "text": [
      "HopperBot: Or..have you all been having trouble sleeping?\n"
     ]
    },
    {
     "name": "stdin",
     "output_type": "stream",
     "text": [
      ">> User:  I'm sleeping well\n"
     ]
    },
    {
     "name": "stdout",
     "output_type": "stream",
     "text": [
      "HopperBot: Oh. That’d be good.\n"
     ]
    },
    {
     "name": "stdin",
     "output_type": "stream",
     "text": [
      ">> User:  you hungry?\n"
     ]
    },
    {
     "name": "stdout",
     "output_type": "stream",
     "text": [
      "HopperBot: Yeah.\n"
     ]
    }
   ],
   "source": [
    "tokenizer = AutoTokenizer.from_pretrained(\"../../models/hopperbot-medium\", pad_token=\"<|PAD|>\")\n",
    "model = AutoModelForCausalLM.from_pretrained('../../models/hopperbot-medium')# Let's chat for 5 lines\n",
    "\n",
    "min_length = 512\n",
    "\n",
    "for step in range(10):\n",
    "    # encode the new user input, add the eos_token and return a tensor in Pytorch\n",
    "    new_user_input_ids = tokenizer.encode(input(\">> User: \") + tokenizer.eos_token, return_tensors='pt')\n",
    "    # print(new_user_input_ids)\n",
    "\n",
    "    # append the new user input tokens to the chat history\n",
    "    bot_input_ids = torch.cat([chat_history_ids, new_user_input_ids], dim=-1) if step > 0 else new_user_input_ids\n",
    "\n",
    "    # generated a response while limiting the total chat history to 1000 tokens, \n",
    "    \"\"\"\n",
    "    chat_history_ids = model.generate(\n",
    "        bot_input_ids, max_length=200,\n",
    "        pad_token_id=tokenizer.eos_token_id,  \n",
    "        no_repeat_ngram_size=3,       \n",
    "        do_sample=True, \n",
    "        top_k=100, \n",
    "        top_p=0.7,\n",
    "        temperature=0.8\n",
    "    )\n",
    "    \n",
    "    chat_history_ids = model.generate(\n",
    "        bot_input_ids,\n",
    "        do_sample=True, \n",
    "        max_length=min_length + len(bot_input_ids),  # This might need to be changed\n",
    "        top_k=50, \n",
    "        top_p=0.95, \n",
    "        temperature=0.9,\n",
    "        pad_token_id=tokenizer.eos_token_id,\n",
    "    )\n",
    "    \"\"\"\n",
    "    \n",
    "    chat_history_ids = model.generate(\n",
    "        bot_input_ids,\n",
    "        max_length=512,\n",
    "        pad_token_id=tokenizer.eos_token_id,\n",
    "        no_repeat_ngram_size=3,\n",
    "        do_sample=True,\n",
    "        top_k=100,\n",
    "        top_p=0.7,\n",
    "        temperature=0.8,\n",
    "    )\n",
    "   \n",
    "    \n",
    "    # pretty print last ouput tokens from bot\n",
    "    print(\"HopperBot: {}\".format(tokenizer.decode(chat_history_ids[:, bot_input_ids.shape[-1]:][0], skip_special_tokens=True)))"
   ]
  },
  {
   "cell_type": "code",
   "execution_count": null,
   "metadata": {},
   "outputs": [],
   "source": []
  }
 ],
 "metadata": {
  "kernelspec": {
   "display_name": "Python 3 (ipykernel)",
   "language": "python",
   "name": "python3"
  },
  "language_info": {
   "codemirror_mode": {
    "name": "ipython",
    "version": 3
   },
   "file_extension": ".py",
   "mimetype": "text/x-python",
   "name": "python",
   "nbconvert_exporter": "python",
   "pygments_lexer": "ipython3",
   "version": "3.10.4"
  }
 },
 "nbformat": 4,
 "nbformat_minor": 4
}
