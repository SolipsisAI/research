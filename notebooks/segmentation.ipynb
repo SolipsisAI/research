{
 "cells": [
  {
   "cell_type": "code",
   "execution_count": 1,
   "id": "9aabf771-9483-4f7d-8a7c-58713c960b50",
   "metadata": {},
   "outputs": [],
   "source": [
    "%load_ext autoreload\n",
    "%autoreload 2"
   ]
  },
  {
   "cell_type": "code",
   "execution_count": 2,
   "id": "3d75fd4e-f21d-43f2-aca5-98b108af9b27",
   "metadata": {},
   "outputs": [],
   "source": [
    "import spacy\n",
    "from src.classifier import Classifier\n",
    "\n",
    "classifier = Classifier(\"../../models/distilroberta-finetuned/\")\n",
    "nlp = spacy.load(\"en_core_web_sm\")"
   ]
  },
  {
   "cell_type": "code",
   "execution_count": 5,
   "id": "4efaa4c5-a1bc-427b-a18c-fb589b82b2d3",
   "metadata": {},
   "outputs": [],
   "source": [
    "def preprocess_text(text):\n",
    "    text = text.replace(\"\\n\", \" \")\n",
    "    text = text.strip()\n",
    "    print(text)\n",
    "    return text"
   ]
  },
  {
   "cell_type": "code",
   "execution_count": 6,
   "id": "898da54e-3106-482b-b088-8789fdea5872",
   "metadata": {},
   "outputs": [
    {
     "name": "stdout",
     "output_type": "stream",
     "text": [
      "One wonders if there is a pattern to their low moods. Though perhaps the stress of work, along with the **other** situation in my life has been wreaking its havoc on my sanity.  I'm suffering from something familiar, though not necessarily something I've given a name. It is the old struggle of keeping the negative thoughts at bay in times of great stress.  I am either like softwood, pliable and prone to breaking under duress, or steel, malleable but difficult to break apart.  Right now I feel as though it is primarily the former.   I am worried about many things, not least of which is that **other** situation in my life.  I am worried I may do something rash and go off into the woods to live the life of a hermit or something drastic like that.  Except I would never survive.\n"
     ]
    }
   ],
   "source": [
    "text = \"\"\"\n",
    "\n",
    "One wonders if there is a pattern to their low moods. Though perhaps the stress of work, along with the **other** situation in my life has been wreaking its havoc on my sanity.\n",
    "\n",
    "I'm suffering from something familiar, though not necessarily something I've given a name. It is the old struggle of keeping the negative thoughts at bay in times of great stress.\n",
    "\n",
    "I am either like softwood, pliable and prone to breaking under duress, or steel, malleable but difficult to break apart.\n",
    "\n",
    "Right now I feel as though it is primarily the former. \n",
    "\n",
    "I am worried about many things, not least of which is that **other** situation in my life.\n",
    "\n",
    "I am worried I may do something rash and go off into the woods to live the life of a hermit or something drastic like that.\n",
    "\n",
    "Except I would never survive. \n",
    "\"\"\"\n",
    "\n",
    "text = preprocess_text(text)"
   ]
  },
  {
   "cell_type": "code",
   "execution_count": 7,
   "id": "5dec6ba9-e2fc-48d4-9ba2-18ce24151570",
   "metadata": {},
   "outputs": [
    {
     "data": {
      "text/plain": [
       "<spacy.pipeline.sentencizer.Sentencizer at 0x7f472a19e640>"
      ]
     },
     "execution_count": 7,
     "metadata": {},
     "output_type": "execute_result"
    }
   ],
   "source": [
    "nlp.add_pipe(\"sentencizer\")"
   ]
  },
  {
   "cell_type": "code",
   "execution_count": 8,
   "id": "0d694512-f34c-46f2-be31-2b40ce3bfb10",
   "metadata": {},
   "outputs": [],
   "source": [
    "doc = nlp(text)"
   ]
  },
  {
   "cell_type": "code",
   "execution_count": 9,
   "id": "81e1bcfa-a4ea-4ec3-8181-8b92640f05cc",
   "metadata": {},
   "outputs": [
    {
     "name": "stdout",
     "output_type": "stream",
     "text": [
      "0 One wonders if there is a pattern to their low moods.\n",
      "1 Though perhaps the stress of work, along with the **other** situation in my life has been wreaking its havoc on my sanity.\n",
      "2  I'm suffering from something familiar, though not necessarily something I've given a name.\n",
      "3 It is the old struggle of keeping the negative thoughts at bay in times of great stress.\n",
      "4  I am either like softwood, pliable and prone to breaking under duress, or steel, malleable but difficult to break apart.\n",
      "5  Right now I feel as though it is primarily the former.\n",
      "6   I am worried about many things, not least of which is that **other** situation in my life.\n",
      "7  I am worried I may do something rash and go off into the woods to live the life of a hermit or something drastic like that.\n",
      "8  Except I would never survive.\n"
     ]
    }
   ],
   "source": [
    "for i, s in enumerate(doc.sents):\n",
    "    print(i, s)"
   ]
  },
  {
   "cell_type": "code",
   "execution_count": 10,
   "id": "2f7d7984-d1a2-4bd0-b5dc-1aa9329737d1",
   "metadata": {},
   "outputs": [],
   "source": [
    "sentences = list([sent.text for sent in doc.sents])"
   ]
  },
  {
   "cell_type": "code",
   "execution_count": 11,
   "id": "aedd0069-3066-4995-9e48-328a9d9136c1",
   "metadata": {},
   "outputs": [
    {
     "data": {
      "text/plain": [
       "'One wonders if there is a pattern to their low moods.'"
      ]
     },
     "execution_count": 11,
     "metadata": {},
     "output_type": "execute_result"
    }
   ],
   "source": [
    "sentences[0]"
   ]
  },
  {
   "cell_type": "code",
   "execution_count": 12,
   "id": "a4d388f0-3039-429b-ac86-1f9ba06d4483",
   "metadata": {},
   "outputs": [
    {
     "data": {
      "text/plain": [
       "\" I'm suffering from something familiar, though not necessarily something I've given a name.\""
      ]
     },
     "execution_count": 12,
     "metadata": {},
     "output_type": "execute_result"
    }
   ],
   "source": [
    "sentences[2]"
   ]
  },
  {
   "cell_type": "code",
   "execution_count": 13,
   "id": "3dfd0b5a-3d0c-42a0-b2da-93f3d86f6103",
   "metadata": {},
   "outputs": [
    {
     "data": {
      "text/plain": [
       "\" I'm suffering from something familiar, though not necessarily something I've given a name.\""
      ]
     },
     "execution_count": 13,
     "metadata": {},
     "output_type": "execute_result"
    }
   ],
   "source": [
    "sentences[2]"
   ]
  },
  {
   "cell_type": "code",
   "execution_count": 17,
   "id": "e1c1fbb1-099f-48f5-8429-568db0713fa7",
   "metadata": {},
   "outputs": [
    {
     "data": {
      "text/plain": [
       "[{'label': 'apprehensive', 'score': 0.42082151770591736},\n",
       " {'label': 'anxious', 'score': 0.32187870144844055},\n",
       " {'label': 'afraid', 'score': 0.12000694125890732},\n",
       " {'label': 'terrified', 'score': 0.028430934995412827},\n",
       " {'label': 'hopeful', 'score': 0.020361067727208138},\n",
       " {'label': 'anticipating', 'score': 0.016050048172473907},\n",
       " {'label': 'trusting', 'score': 0.01155785284936428},\n",
       " {'label': 'caring', 'score': 0.006964827422052622},\n",
       " {'label': 'ashamed', 'score': 0.0068819583393633366},\n",
       " {'label': 'faithful', 'score': 0.005371717270463705},\n",
       " {'label': 'guilty', 'score': 0.004049873445183039},\n",
       " {'label': 'sad', 'score': 0.0037971315905451775},\n",
       " {'label': 'devastated', 'score': 0.0030905362218618393},\n",
       " {'label': 'lonely', 'score': 0.0030587397050112486},\n",
       " {'label': 'sentimental', 'score': 0.002574521116912365},\n",
       " {'label': 'annoyed', 'score': 0.0025601722300052643},\n",
       " {'label': 'jealous', 'score': 0.0025447357911616564},\n",
       " {'label': 'content', 'score': 0.002282029716297984},\n",
       " {'label': 'angry', 'score': 0.002280942630022764},\n",
       " {'label': 'grateful', 'score': 0.00227772886864841},\n",
       " {'label': 'confident', 'score': 0.0018661217764019966},\n",
       " {'label': 'disappointed', 'score': 0.0018572587287053466},\n",
       " {'label': 'embarrassed', 'score': 0.0017011880408972502},\n",
       " {'label': 'nostalgic', 'score': 0.0016006663208827376},\n",
       " {'label': 'prepared', 'score': 0.00140110042411834},\n",
       " {'label': 'disgusted', 'score': 0.0008947135065682232},\n",
       " {'label': 'furious', 'score': 0.0008664188790135086},\n",
       " {'label': 'excited', 'score': 0.0008220201125368476},\n",
       " {'label': 'surprised', 'score': 0.0006522246985696256},\n",
       " {'label': 'joyful', 'score': 0.0005320457858033478},\n",
       " {'label': 'proud', 'score': 0.0005127809126861393},\n",
       " {'label': 'impressed', 'score': 0.0004515926702879369}]"
      ]
     },
     "execution_count": 17,
     "metadata": {},
     "output_type": "execute_result"
    }
   ],
   "source": [
    "classifier.classify(text, k=-1)"
   ]
  },
  {
   "cell_type": "code",
   "execution_count": 18,
   "id": "16816e3e-7d0e-45ef-a41a-947952b0fe12",
   "metadata": {},
   "outputs": [],
   "source": [
    "text = \"\"\"\n",
    "I drape the thin white blanket around me like a cloak. But it is no defense against the chill of the room.\n",
    "\n",
    "How must I look to others, barely covered in the standard-issue hospital gown they've put me in, my stringy hair falling unceremoniously at my shoulders?\n",
    "\n",
    "There is nothing to do here. Only stare out of the windows through which the muted light of a grim spring in March washes out the warmth from within these walls.\n",
    "\n",
    "I lie on my side and watch the subdued hues of rain drops tapping at the window pane.\n",
    "\n",
    "All they do is pry into my inner torment with all these questions hoping to reach that dark part of me that lurks within and to stamp it out once and for all. Or perhaps to reason with it to not hurt me so.\n",
    "\n",
    "I have come so close to being defeated. They all tell me that I have not lost. I can still win this battle, they say with a smile.\n",
    "\n",
    "I don't see the point of fighting anymore.\n",
    "\n",
    "My eyelids snap shut to purge the view of a blue world.\"\"\""
   ]
  },
  {
   "cell_type": "code",
   "execution_count": 20,
   "id": "d436baea-ed80-4d7c-a429-78a5dbc81d33",
   "metadata": {},
   "outputs": [
    {
     "name": "stdout",
     "output_type": "stream",
     "text": [
      "I drape the thin white blanket around me like a cloak. But it is no defense against the chill of the room.  How must I look to others, barely covered in the standard-issue hospital gown they've put me in, my stringy hair falling unceremoniously at my shoulders?  There is nothing to do here. Only stare out of the windows through which the muted light of a grim spring in March washes out the warmth from within these walls.  I lie on my side and watch the subdued hues of rain drops tapping at the window pane.  All they do is pry into my inner torment with all these questions hoping to reach that dark part of me that lurks within and to stamp it out once and for all. Or perhaps to reason with it to not hurt me so.  I have come so close to being defeated. They all tell me that I have not lost. I can still win this battle, they say with a smile.  I don't see the point of fighting anymore.  My eyelids snap shut to purge the view of a blue world.\n"
     ]
    }
   ],
   "source": [
    "text = preprocess_text(text)"
   ]
  },
  {
   "cell_type": "code",
   "execution_count": 22,
   "id": "be0827d2-303b-4729-8528-230b0ba4eac3",
   "metadata": {},
   "outputs": [],
   "source": [
    "doc = nlp(text)"
   ]
  },
  {
   "cell_type": "code",
   "execution_count": 26,
   "id": "f593ff81-8494-41fc-8331-8eb6eefd252a",
   "metadata": {},
   "outputs": [
    {
     "data": {
      "text/plain": [
       "['lonely', 'afraid', 'anxious']"
      ]
     },
     "execution_count": 26,
     "metadata": {},
     "output_type": "execute_result"
    }
   ],
   "source": [
    "classifier.classify(doc.text, k=3)"
   ]
  },
  {
   "cell_type": "code",
   "execution_count": 47,
   "id": "8c6459e0-c461-4b5e-8ca7-5f2c101dd8c8",
   "metadata": {},
   "outputs": [],
   "source": [
    "text = \"\"\"The awful torment I experienced with such sudden force last week is at last over, I think. I'm not feeling ill at ease with people. In fact, today, I may even have been giddy.\n",
    "\n",
    "Somebody brought in the Google Glass today at work which spurred me to contemplate the myriad possibilities such technology could hold. Augmented reality, where we'll all be waving comically at things only we can see. Memories captured literally at the blink of an eye! What a future this is. One day I'll laugh at how naive I've been about all this.\n",
    "\n",
    "As we walked back from the big brother of our favorite haunt for coffee, I enthusiastically began to blather on about all my ideas for our product, how we can go so much further in personalizing education for our students. We can add  a friendly voice to greet students when they've logged in, a voice that guides them through the quest if they've found themselves at an impasse. One day the fruits of our work will bear a technology much like the Primer in _The Diamond Age_. Perhaps it could be even better.\n",
    "\n",
    "The future. What a thought indeed. It struck me today that I am helping to build it, that I am part of something that could really transform how children learn. How I'm helping to build a future where machines with intelligence can be allies to the human race. \n",
    "\n",
    "\"I want,\" I sighed, \"to build ALL the things.\" With this exclamation uttered aloud I have finally realized that my real passion is in creating, in building tools.\n",
    "\n",
    "On the way home I thought of how technology need not be an adversary of humanity's progress but rather a tool that can be leveraged to maximize that progress. Why let the trolls and haters write the narrative of technology's impacts on society when we can let it connect us in ways we have never done so before? \n",
    "\n",
    "This is the New World.\n",
    "\n",
    "But then, what of the societies around the globe that do not have access to these conveniences we have embedded into our daily lives? Who helps them to further progress, whatever that may mean?\n",
    "\n",
    "There are so many implications to this practice of applying technology to solving problems endemic in our world. There is so much I would like to write, but why write about the future when I can continue to build it?\n",
    "\n",
    "Were it not for my illness I would constantly be conceiving of ways to improve, to iterate on humanity's condition. The contrast between my words here and the dolorous tone pouring through my words in previous entries is compelling me further to analyze just what it is that is Wrong With Me. \n",
    "\n",
    "I feel as though I've stepped into a different world from the one in which I lay trapped by darkness, suffocated by my own self-loathing, abused by my own litany of self-hate, and stepped or stumbled serendipitously into one where the there is a whole world of potential and of possibilities illuminating everything and I mean everything around.\"\"\""
   ]
  },
  {
   "cell_type": "code",
   "execution_count": 28,
   "id": "1fa06e6d-f5bb-47f5-903a-6280dda67e22",
   "metadata": {},
   "outputs": [
    {
     "name": "stdout",
     "output_type": "stream",
     "text": [
      "The awful torment I experienced with such sudden force last week is at last over, I think. I'm not feeling ill at ease with people. In fact, today, I may even have been giddy.  Somebody brought in the Google Glass today at work which spurred me to contemplate the myriad possibilities such technology could hold. Augmented reality, where we'll all be waving comically at things only we can see. Memories captured literally at the blink of an eye! What a future this is. One day I'll laugh at how naive I've been about all this.  As we walked back from the big brother of our favorite haunt for coffee, I enthusiastically began to blather on about all my ideas for our product, how we can go so much further in personalizing education for our students. We can add  a friendly voice to greet students when they've logged in, a voice that guides them through the quest if they've found themselves at an impasse. One day the fruits of our work will bear a technology much like the Primer in _The Diamond Age_. Perhaps it could be even better.  The future. What a thought indeed. It struck me today that I am helping to build it, that I am part of something that could really transform how children learn. How I'm helping to build a future where machines with intelligence can be allies to the human race.   \"I want,\" I sighed, \"to build ALL the things.\" With this exclamation uttered aloud I have finally realized that my real passion is in creating, in building tools.  On the way home I thought of how technology need not be an adversary of humanity's progress but rather a tool that can be leveraged to maximize that progress. Why let the trolls and haters write the narrative of technology's impacts on society when we can let it connect us in ways we have never done so before?   This is the New World.  But then, what of the societies around the globe that do not have access to these conveniences we have embedded into our daily lives? Who helps them to further progress, whatever that may mean?  There are so many implications to this practice of applying technology to solving problems endemic in our world. There is so much I would like to write, but why write about the future when I can continue to build it?  Were it not for my illness I would constantly be conceiving of ways to improve, to iterate on humanity's condition. The contrast between my words here and the dolorous tone pouring through my words in previous entries is compelling me further to analyze just what it is that is Wrong With Me.   I feel as though I've stepped into a different world from the one in which I lay trapped by darkness, suffocated by my own self-loathing, abused by my own litany of self-hate, and stepped or stumbled serendipitously into one where the there is a whole world of potential and of possibilities illuminating everything and I mean everything around.\n"
     ]
    }
   ],
   "source": [
    "text = preprocess_text(text)"
   ]
  },
  {
   "cell_type": "code",
   "execution_count": 48,
   "id": "b0fdc1e6-abbc-4431-a0c0-2971362de270",
   "metadata": {},
   "outputs": [],
   "source": [
    "doc = nlp(text)"
   ]
  },
  {
   "cell_type": "code",
   "execution_count": 31,
   "id": "3a79032d-bda2-4246-9804-1b7e35f731aa",
   "metadata": {},
   "outputs": [
    {
     "data": {
      "text/plain": [
       "[The awful torment I experienced with such sudden force last week is at last over, I think.,\n",
       " I'm not feeling ill at ease with people.,\n",
       " In fact, today, I may even have been giddy.,\n",
       "  Somebody brought in the Google Glass today at work which spurred me to contemplate the myriad possibilities such technology could hold.,\n",
       " Augmented reality, where we'll all be waving comically at things only we can see.,\n",
       " Memories captured literally at the blink of an eye!,\n",
       " What a future this is.,\n",
       " One day I'll laugh at how naive I've been about all this.,\n",
       "  As we walked back from the big brother of our favorite haunt for coffee, I enthusiastically began to blather on about all my ideas for our product, how we can go so much further in personalizing education for our students.,\n",
       " We can add  a friendly voice to greet students when they've logged in, a voice that guides them through the quest if they've found themselves at an impasse.,\n",
       " One day the fruits of our work will bear a technology much like the Primer in _The Diamond Age_.,\n",
       " Perhaps it could be even better.,\n",
       "  The future.,\n",
       " What a thought indeed.,\n",
       " It struck me today that I am helping to build it, that I am part of something that could really transform how children learn.,\n",
       " How I'm helping to build a future where machines with intelligence can be allies to the human race.,\n",
       "   \"I want,\" I sighed, \"to build ALL the things.\",\n",
       " With this exclamation uttered aloud I have finally realized that my real passion is in creating, in building tools.,\n",
       "  On the way home I thought of how technology need not be an adversary of humanity's progress but rather a tool that can be leveraged to maximize that progress.,\n",
       " Why let the trolls and haters write the narrative of technology's impacts on society when we can let it connect us in ways we have never done so before?,\n",
       "   This is the New World.,\n",
       "  ,\n",
       " But then, what of the societies around the globe that do not have access to these conveniences we have embedded into our daily lives?,\n",
       " Who helps them to further progress, whatever that may mean?,\n",
       "  There are so many implications to this practice of applying technology to solving problems endemic in our world.,\n",
       " There is so much I would like to write, but why write about the future when I can continue to build it?,\n",
       "  Were it not for my illness I would constantly be conceiving of ways to improve, to iterate on humanity's condition.,\n",
       " The contrast between my words here and the dolorous tone pouring through my words in previous entries is compelling me further to analyze just what it is that is Wrong With Me.,\n",
       "   I feel as though I've stepped into a different world from the one in which I lay trapped by darkness, suffocated by my own self-loathing, abused by my own litany of self-hate, and stepped or stumbled serendipitously into one where the there is a whole world of potential and of possibilities illuminating everything,\n",
       " and I mean everything around.]"
      ]
     },
     "execution_count": 31,
     "metadata": {},
     "output_type": "execute_result"
    }
   ],
   "source": [
    "list(doc.sents)"
   ]
  },
  {
   "cell_type": "code",
   "execution_count": 42,
   "id": "c43ad416-3680-4685-8aba-ebbef8b47216",
   "metadata": {},
   "outputs": [],
   "source": [
    "labels = []\n",
    "\n",
    "for sent in doc.sents:    \n",
    "    results = classifier.classify(sent.text, include_score=True) \n",
    "    labels.append(results[0])"
   ]
  },
  {
   "cell_type": "code",
   "execution_count": 43,
   "id": "4496464c-f8e9-4dcd-8eb7-eb212f048840",
   "metadata": {},
   "outputs": [
    {
     "data": {
      "text/plain": [
       "[{'label': 'devastated', 'score': 0.43562206625938416},\n",
       " {'label': 'lonely', 'score': 0.653503954410553},\n",
       " {'label': 'surprised', 'score': 0.38013002276420593},\n",
       " {'label': 'impressed', 'score': 0.5866765975952148},\n",
       " {'label': 'nostalgic', 'score': 0.17089642584323883},\n",
       " {'label': 'nostalgic', 'score': 0.726889431476593},\n",
       " {'label': 'hopeful', 'score': 0.24180392920970917},\n",
       " {'label': 'surprised', 'score': 0.21140427887439728},\n",
       " {'label': 'confident', 'score': 0.3056817054748535},\n",
       " {'label': 'apprehensive', 'score': 0.1257171928882599},\n",
       " {'label': 'proud', 'score': 0.5260690450668335},\n",
       " {'label': 'lonely', 'score': 0.15279564261436462},\n",
       " {'label': 'hopeful', 'score': 0.11220772564411163},\n",
       " {'label': 'surprised', 'score': 0.15925370156764984},\n",
       " {'label': 'proud', 'score': 0.5976951122283936},\n",
       " {'label': 'proud', 'score': 0.2729175388813019},\n",
       " {'label': 'confident', 'score': 0.3786308765411377},\n",
       " {'label': 'proud', 'score': 0.4377470910549164},\n",
       " {'label': 'impressed', 'score': 0.36634525656700134},\n",
       " {'label': 'trusting', 'score': 0.3612588942050934},\n",
       " {'label': 'content', 'score': 0.6714104413986206},\n",
       " {'label': 'surprised', 'score': 0.05259515345096588},\n",
       " {'label': 'lonely', 'score': 0.4178262948989868},\n",
       " {'label': 'proud', 'score': 0.4082344174385071},\n",
       " {'label': 'proud', 'score': 0.49134036898612976},\n",
       " {'label': 'disappointed', 'score': 0.21457688510417938},\n",
       " {'label': 'hopeful', 'score': 0.277209997177124},\n",
       " {'label': 'anxious', 'score': 0.19719171524047852},\n",
       " {'label': 'lonely', 'score': 0.30208396911621094},\n",
       " {'label': 'content', 'score': 0.14109598100185394}]"
      ]
     },
     "execution_count": 43,
     "metadata": {},
     "output_type": "execute_result"
    }
   ],
   "source": [
    "labels"
   ]
  },
  {
   "cell_type": "code",
   "execution_count": 49,
   "id": "00d4426a-7996-4364-bb2e-7201ee7d5caf",
   "metadata": {},
   "outputs": [],
   "source": [
    "# https://gist.github.com/wpm/bf1f2301b98a883b50e903bc3cc86439\n",
    "\n",
    "def paragraphs(document):\n",
    "    start = 0\n",
    "    for token in document:\n",
    "        if token.is_space and token.text.count(\"\\n\") > 1:\n",
    "            yield document[start:token.i]\n",
    "            start = token.i\n",
    "    yield document[start:]\n"
   ]
  },
  {
   "cell_type": "code",
   "execution_count": 51,
   "id": "95ef8620-a424-41b1-955b-2ab3897a6a43",
   "metadata": {},
   "outputs": [],
   "source": [
    "paragraphs = list(paragraphs(doc))"
   ]
  },
  {
   "cell_type": "code",
   "execution_count": 55,
   "id": "51653465-4d57-4fdc-ba52-1034726d184c",
   "metadata": {},
   "outputs": [
    {
     "name": "stdout",
     "output_type": "stream",
     "text": [
      "The awful torment I experienced with such sudden force last week is at last over, I think. I'm not feeling ill at ease with people. In fact, today, I may even have been giddy.\n",
      "Somebody brought in the Google Glass today at work which spurred me to contemplate the myriad possibilities such technology could hold. Augmented reality, where we'll all be waving comically at things only we can see. Memories captured literally at the blink of an eye! What a future this is. One day I'll laugh at how naive I've been about all this.\n",
      "As we walked back from the big brother of our favorite haunt for coffee, I enthusiastically began to blather on about all my ideas for our product, how we can go so much further in personalizing education for our students. We can add  a friendly voice to greet students when they've logged in, a voice that guides them through the quest if they've found themselves at an impasse. One day the fruits of our work will bear a technology much like the Primer in _The Diamond Age_. Perhaps it could be even better.\n",
      "The future. What a thought indeed. It struck me today that I am helping to build it, that I am part of something that could really transform how children learn. How I'm helping to build a future where machines with intelligence can be allies to the human race.\n",
      "\"I want,\" I sighed, \"to build ALL the things.\" With this exclamation uttered aloud I have finally realized that my real passion is in creating, in building tools.\n",
      "On the way home I thought of how technology need not be an adversary of humanity's progress but rather a tool that can be leveraged to maximize that progress. Why let the trolls and haters write the narrative of technology's impacts on society when we can let it connect us in ways we have never done so before?\n",
      "This is the New World.\n",
      "But then, what of the societies around the globe that do not have access to these conveniences we have embedded into our daily lives? Who helps them to further progress, whatever that may mean?\n",
      "There are so many implications to this practice of applying technology to solving problems endemic in our world. There is so much I would like to write, but why write about the future when I can continue to build it?\n",
      "Were it not for my illness I would constantly be conceiving of ways to improve, to iterate on humanity's condition. The contrast between my words here and the dolorous tone pouring through my words in previous entries is compelling me further to analyze just what it is that is Wrong With Me.\n",
      "I feel as though I've stepped into a different world from the one in which I lay trapped by darkness, suffocated by my own self-loathing, abused by my own litany of self-hate, and stepped or stumbled serendipitously into one where the there is a whole world of potential and of possibilities illuminating everything and I mean everything around.\n"
     ]
    }
   ],
   "source": [
    "texts = [preprocess_text(p.text) for p in paragraphs]"
   ]
  },
  {
   "cell_type": "code",
   "execution_count": 56,
   "id": "0748b91f-a107-4d98-9c47-8f3309800730",
   "metadata": {},
   "outputs": [],
   "source": [
    "labels = []\n",
    "\n",
    "for text in texts:    \n",
    "    results = classifier.classify(text, include_score=True) \n",
    "    labels.append(results[0])"
   ]
  },
  {
   "cell_type": "code",
   "execution_count": 58,
   "id": "8c5ae3db-d8d6-4fa0-a1fa-6d452197ee5a",
   "metadata": {},
   "outputs": [],
   "source": [
    "labels.sort(key=lambda item: item.get(\"score\"), reverse=True)"
   ]
  },
  {
   "cell_type": "code",
   "execution_count": 62,
   "id": "5a093bb4-c228-41f4-ac82-ac7fc58d2d9c",
   "metadata": {},
   "outputs": [
    {
     "data": {
      "text/plain": [
       "[{'label': 'nostalgic', 'score': 0.5969723463058472},\n",
       " {'label': 'content', 'score': 0.5464305877685547},\n",
       " {'label': 'proud', 'score': 0.4730670750141144},\n",
       " {'label': 'confident', 'score': 0.3801671266555786},\n",
       " {'label': 'hopeful', 'score': 0.28921544551849365}]"
      ]
     },
     "execution_count": 62,
     "metadata": {},
     "output_type": "execute_result"
    }
   ],
   "source": [
    "labels[:5]"
   ]
  },
  {
   "cell_type": "code",
   "execution_count": null,
   "id": "7f8697ea-175d-4530-84f7-b8a561060e48",
   "metadata": {},
   "outputs": [],
   "source": []
  }
 ],
 "metadata": {
  "kernelspec": {
   "display_name": "Python 3 (ipykernel)",
   "language": "python",
   "name": "python3"
  },
  "language_info": {
   "codemirror_mode": {
    "name": "ipython",
    "version": 3
   },
   "file_extension": ".py",
   "mimetype": "text/x-python",
   "name": "python",
   "nbconvert_exporter": "python",
   "pygments_lexer": "ipython3",
   "version": "3.10.4"
  }
 },
 "nbformat": 4,
 "nbformat_minor": 5
}
