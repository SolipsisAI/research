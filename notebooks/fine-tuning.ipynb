{
 "cells": [
  {
   "cell_type": "markdown",
   "id": "afc19e10-b8f3-4b0e-8e0e-6a3d74c79d82",
   "metadata": {},
   "source": [
    "# Fine-Tuning GPT\n",
    "\n",
    "https://www.modeldifferently.com/en/2021/12/generaci%C3%B3n-de-fake-news-con-gpt-2/#data-loading-and-processing"
   ]
  },
  {
   "cell_type": "code",
   "execution_count": 1,
   "id": "5342b571-99e6-4257-9052-9a2eeb9db178",
   "metadata": {},
   "outputs": [],
   "source": [
    "%load_ext autoreload\n",
    "%autoreload 2"
   ]
  },
  {
   "cell_type": "code",
   "execution_count": 2,
   "id": "50890486-20bc-4265-b21b-2bc52142159e",
   "metadata": {},
   "outputs": [],
   "source": [
    "import torch, os, re, pandas as pd, json\n",
    "from sklearn.model_selection import train_test_split\n",
    "from transformers import (\n",
    "    DataCollatorForLanguageModeling,\n",
    "    DataCollatorWithPadding,\n",
    "    GPT2Tokenizer,\n",
    "    GPT2LMHeadModel,\n",
    "    Trainer,\n",
    "    TrainingArguments,\n",
    "    AutoConfig,\n",
    "    AutoTokenizer,\n",
    "    AutoModelForCausalLM\n",
    ")\n",
    "from datasets import Dataset, list_metrics, load_metric\n"
   ]
  },
  {
   "cell_type": "code",
   "execution_count": 3,
   "id": "48d1459b-99ae-4d54-ae62-1ff1f60666ab",
   "metadata": {},
   "outputs": [],
   "source": [
    "#MODEL_NAME = \"gpt2\"\n",
    "#model_cls = GPT2LMHeadModel\n",
    "#tokenizer_cls = GPT2Tokenizer\n",
    "\n",
    "MODEL_NAME = \"microsoft/DialoGPT-small\"\n",
    "model_cls = AutoModelForCausalLM\n",
    "tokenizer_cls = AutoTokenizer"
   ]
  },
  {
   "cell_type": "code",
   "execution_count": 4,
   "id": "1722bf0b-9462-4fbe-a369-ab4e3ac13c21",
   "metadata": {},
   "outputs": [
    {
     "name": "stdout",
     "output_type": "stream",
     "text": [
      "\n",
      "    cuda: True\n",
      "    current_device: 0\n",
      "    device_count: 1\n",
      "\n"
     ]
    }
   ],
   "source": [
    "if torch.cuda.is_available():  \n",
    "    dev = \"cuda:0\" \n",
    "else:  \n",
    "    dev = \"cpu\"  \n",
    "\n",
    "device = torch.device(dev) \n",
    "\n",
    "print(f\"\"\"\n",
    "    cuda: {torch.cuda.is_available()}\n",
    "    current_device: {torch.cuda.current_device()}\n",
    "    device_count: {torch.cuda.device_count()}\n",
    "\"\"\")"
   ]
  },
  {
   "cell_type": "code",
   "execution_count": 5,
   "id": "6a6c3ca9-76aa-4338-bdee-d444467cee99",
   "metadata": {},
   "outputs": [],
   "source": [
    "config = AutoConfig.from_pretrained(MODEL_NAME)"
   ]
  },
  {
   "cell_type": "markdown",
   "id": "876e5c7d-99cd-4fb0-b92c-c06fc8d31739",
   "metadata": {},
   "source": [
    "## Load Data, Tokenizer, and Model"
   ]
  },
  {
   "cell_type": "markdown",
   "id": "4cae2ca3-2502-4c89-b8f7-d2438099d78b",
   "metadata": {},
   "source": [
    "### Data Loading from CSV"
   ]
  },
  {
   "cell_type": "code",
   "execution_count": 6,
   "id": "cd6348c3-7b02-48e6-bd03-8b54763c722a",
   "metadata": {},
   "outputs": [
    {
     "data": {
      "text/html": [
       "<div>\n",
       "<style scoped>\n",
       "    .dataframe tbody tr th:only-of-type {\n",
       "        vertical-align: middle;\n",
       "    }\n",
       "\n",
       "    .dataframe tbody tr th {\n",
       "        vertical-align: top;\n",
       "    }\n",
       "\n",
       "    .dataframe thead th {\n",
       "        text-align: right;\n",
       "    }\n",
       "</style>\n",
       "<table border=\"1\" class=\"dataframe\">\n",
       "  <thead>\n",
       "    <tr style=\"text-align: right;\">\n",
       "      <th></th>\n",
       "      <th>character</th>\n",
       "      <th>text</th>\n",
       "    </tr>\n",
       "  </thead>\n",
       "  <tbody>\n",
       "    <tr>\n",
       "      <th>32080</th>\n",
       "      <td>Charlotte</td>\n",
       "      <td>What're the odds, right? But yes, we, uh...know each other.  And he's also here in Boston.</td>\n",
       "    </tr>\n",
       "    <tr>\n",
       "      <th>32081</th>\n",
       "      <td>Toby</td>\n",
       "      <td>Right. Geeze. I...did not expect to ever hear from him again.</td>\n",
       "    </tr>\n",
       "    <tr>\n",
       "      <th>32082</th>\n",
       "      <td>Charlotte</td>\n",
       "      <td>...Surprise?</td>\n",
       "    </tr>\n",
       "    <tr>\n",
       "      <th>32083</th>\n",
       "      <td>Charlotte</td>\n",
       "      <td>So, uh, would you want to talk to him? Because this is all stuff he really should get the chance to ask you about directly.</td>\n",
       "    </tr>\n",
       "    <tr>\n",
       "      <th>32084</th>\n",
       "      <td>Toby</td>\n",
       "      <td>Um...sure.</td>\n",
       "    </tr>\n",
       "    <tr>\n",
       "      <th>32085</th>\n",
       "      <td>Charlotte</td>\n",
       "      <td>Ok, good. Um, we should probably go. But, uh, I'll see you tomorrow?</td>\n",
       "    </tr>\n",
       "    <tr>\n",
       "      <th>32086</th>\n",
       "      <td>Charlotte</td>\n",
       "      <td>[_as she talks she takes the book off the table and carefully tucks it away in her bag_]</td>\n",
       "    </tr>\n",
       "    <tr>\n",
       "      <th>32087</th>\n",
       "      <td>Toby</td>\n",
       "      <td>Um, yeah.</td>\n",
       "    </tr>\n",
       "    <tr>\n",
       "      <th>32088</th>\n",
       "      <td>Toby</td>\n",
       "      <td>Tomorrow.</td>\n",
       "    </tr>\n",
       "    <tr>\n",
       "      <th>32089</th>\n",
       "      <td>Charlotte</td>\n",
       "      <td>[_she will leave with the others_]</td>\n",
       "    </tr>\n",
       "  </tbody>\n",
       "</table>\n",
       "</div>"
      ],
      "text/plain": [
       "       character  \\\n",
       "32080  Charlotte   \n",
       "32081       Toby   \n",
       "32082  Charlotte   \n",
       "32083  Charlotte   \n",
       "32084       Toby   \n",
       "32085  Charlotte   \n",
       "32086  Charlotte   \n",
       "32087       Toby   \n",
       "32088       Toby   \n",
       "32089  Charlotte   \n",
       "\n",
       "                                                                                                                              text  \n",
       "32080                                   What're the odds, right? But yes, we, uh...know each other.  And he's also here in Boston.  \n",
       "32081                                                                Right. Geeze. I...did not expect to ever hear from him again.  \n",
       "32082                                                                                                                 ...Surprise?  \n",
       "32083  So, uh, would you want to talk to him? Because this is all stuff he really should get the chance to ask you about directly.  \n",
       "32084                                                                                                                   Um...sure.  \n",
       "32085                                                         Ok, good. Um, we should probably go. But, uh, I'll see you tomorrow?  \n",
       "32086                                     [_as she talks she takes the book off the table and carefully tucks it away in her bag_]  \n",
       "32087                                                                                                                    Um, yeah.  \n",
       "32088                                                                                                                    Tomorrow.  \n",
       "32089                                                                                           [_she will leave with the others_]  "
      ]
     },
     "execution_count": 6,
     "metadata": {},
     "output_type": "execute_result"
    }
   ],
   "source": [
    "filepath = \"../data/processed.csv\"\n",
    "df = pd.read_csv(filepath, encoding=\"utf-8\", usecols=[\"character\", \"content\"]).rename(columns={\"content\": \"text\"})\n",
    "\n",
    "pd.set_option(\"display.max_colwidth\", None)\n",
    "df.tail(10)"
   ]
  },
  {
   "cell_type": "markdown",
   "id": "f65f9585-6e12-4bf1-990f-40aeb39f5952",
   "metadata": {},
   "source": [
    "### Model"
   ]
  },
  {
   "cell_type": "code",
   "execution_count": 7,
   "id": "6b09bb6c-1983-4e87-b805-3dab99ae9d23",
   "metadata": {},
   "outputs": [],
   "source": [
    "base_model = model_cls.from_pretrained(MODEL_NAME, config=config)"
   ]
  },
  {
   "cell_type": "code",
   "execution_count": 8,
   "id": "502b3b5d-d0b6-47f9-9424-a0a646a95ba0",
   "metadata": {
    "scrolled": true,
    "tags": []
   },
   "outputs": [
    {
     "data": {
      "text/plain": [
       "<bound method ModuleUtilsMixin.num_parameters of GPT2LMHeadModel(\n",
       "  (transformer): GPT2Model(\n",
       "    (wte): Embedding(50257, 768)\n",
       "    (wpe): Embedding(1024, 768)\n",
       "    (drop): Dropout(p=0.1, inplace=False)\n",
       "    (h): ModuleList(\n",
       "      (0): GPT2Block(\n",
       "        (ln_1): LayerNorm((768,), eps=1e-05, elementwise_affine=True)\n",
       "        (attn): GPT2Attention(\n",
       "          (c_attn): Conv1D()\n",
       "          (c_proj): Conv1D()\n",
       "          (attn_dropout): Dropout(p=0.1, inplace=False)\n",
       "          (resid_dropout): Dropout(p=0.1, inplace=False)\n",
       "        )\n",
       "        (ln_2): LayerNorm((768,), eps=1e-05, elementwise_affine=True)\n",
       "        (mlp): GPT2MLP(\n",
       "          (c_fc): Conv1D()\n",
       "          (c_proj): Conv1D()\n",
       "          (act): NewGELUActivation()\n",
       "          (dropout): Dropout(p=0.1, inplace=False)\n",
       "        )\n",
       "      )\n",
       "      (1): GPT2Block(\n",
       "        (ln_1): LayerNorm((768,), eps=1e-05, elementwise_affine=True)\n",
       "        (attn): GPT2Attention(\n",
       "          (c_attn): Conv1D()\n",
       "          (c_proj): Conv1D()\n",
       "          (attn_dropout): Dropout(p=0.1, inplace=False)\n",
       "          (resid_dropout): Dropout(p=0.1, inplace=False)\n",
       "        )\n",
       "        (ln_2): LayerNorm((768,), eps=1e-05, elementwise_affine=True)\n",
       "        (mlp): GPT2MLP(\n",
       "          (c_fc): Conv1D()\n",
       "          (c_proj): Conv1D()\n",
       "          (act): NewGELUActivation()\n",
       "          (dropout): Dropout(p=0.1, inplace=False)\n",
       "        )\n",
       "      )\n",
       "      (2): GPT2Block(\n",
       "        (ln_1): LayerNorm((768,), eps=1e-05, elementwise_affine=True)\n",
       "        (attn): GPT2Attention(\n",
       "          (c_attn): Conv1D()\n",
       "          (c_proj): Conv1D()\n",
       "          (attn_dropout): Dropout(p=0.1, inplace=False)\n",
       "          (resid_dropout): Dropout(p=0.1, inplace=False)\n",
       "        )\n",
       "        (ln_2): LayerNorm((768,), eps=1e-05, elementwise_affine=True)\n",
       "        (mlp): GPT2MLP(\n",
       "          (c_fc): Conv1D()\n",
       "          (c_proj): Conv1D()\n",
       "          (act): NewGELUActivation()\n",
       "          (dropout): Dropout(p=0.1, inplace=False)\n",
       "        )\n",
       "      )\n",
       "      (3): GPT2Block(\n",
       "        (ln_1): LayerNorm((768,), eps=1e-05, elementwise_affine=True)\n",
       "        (attn): GPT2Attention(\n",
       "          (c_attn): Conv1D()\n",
       "          (c_proj): Conv1D()\n",
       "          (attn_dropout): Dropout(p=0.1, inplace=False)\n",
       "          (resid_dropout): Dropout(p=0.1, inplace=False)\n",
       "        )\n",
       "        (ln_2): LayerNorm((768,), eps=1e-05, elementwise_affine=True)\n",
       "        (mlp): GPT2MLP(\n",
       "          (c_fc): Conv1D()\n",
       "          (c_proj): Conv1D()\n",
       "          (act): NewGELUActivation()\n",
       "          (dropout): Dropout(p=0.1, inplace=False)\n",
       "        )\n",
       "      )\n",
       "      (4): GPT2Block(\n",
       "        (ln_1): LayerNorm((768,), eps=1e-05, elementwise_affine=True)\n",
       "        (attn): GPT2Attention(\n",
       "          (c_attn): Conv1D()\n",
       "          (c_proj): Conv1D()\n",
       "          (attn_dropout): Dropout(p=0.1, inplace=False)\n",
       "          (resid_dropout): Dropout(p=0.1, inplace=False)\n",
       "        )\n",
       "        (ln_2): LayerNorm((768,), eps=1e-05, elementwise_affine=True)\n",
       "        (mlp): GPT2MLP(\n",
       "          (c_fc): Conv1D()\n",
       "          (c_proj): Conv1D()\n",
       "          (act): NewGELUActivation()\n",
       "          (dropout): Dropout(p=0.1, inplace=False)\n",
       "        )\n",
       "      )\n",
       "      (5): GPT2Block(\n",
       "        (ln_1): LayerNorm((768,), eps=1e-05, elementwise_affine=True)\n",
       "        (attn): GPT2Attention(\n",
       "          (c_attn): Conv1D()\n",
       "          (c_proj): Conv1D()\n",
       "          (attn_dropout): Dropout(p=0.1, inplace=False)\n",
       "          (resid_dropout): Dropout(p=0.1, inplace=False)\n",
       "        )\n",
       "        (ln_2): LayerNorm((768,), eps=1e-05, elementwise_affine=True)\n",
       "        (mlp): GPT2MLP(\n",
       "          (c_fc): Conv1D()\n",
       "          (c_proj): Conv1D()\n",
       "          (act): NewGELUActivation()\n",
       "          (dropout): Dropout(p=0.1, inplace=False)\n",
       "        )\n",
       "      )\n",
       "      (6): GPT2Block(\n",
       "        (ln_1): LayerNorm((768,), eps=1e-05, elementwise_affine=True)\n",
       "        (attn): GPT2Attention(\n",
       "          (c_attn): Conv1D()\n",
       "          (c_proj): Conv1D()\n",
       "          (attn_dropout): Dropout(p=0.1, inplace=False)\n",
       "          (resid_dropout): Dropout(p=0.1, inplace=False)\n",
       "        )\n",
       "        (ln_2): LayerNorm((768,), eps=1e-05, elementwise_affine=True)\n",
       "        (mlp): GPT2MLP(\n",
       "          (c_fc): Conv1D()\n",
       "          (c_proj): Conv1D()\n",
       "          (act): NewGELUActivation()\n",
       "          (dropout): Dropout(p=0.1, inplace=False)\n",
       "        )\n",
       "      )\n",
       "      (7): GPT2Block(\n",
       "        (ln_1): LayerNorm((768,), eps=1e-05, elementwise_affine=True)\n",
       "        (attn): GPT2Attention(\n",
       "          (c_attn): Conv1D()\n",
       "          (c_proj): Conv1D()\n",
       "          (attn_dropout): Dropout(p=0.1, inplace=False)\n",
       "          (resid_dropout): Dropout(p=0.1, inplace=False)\n",
       "        )\n",
       "        (ln_2): LayerNorm((768,), eps=1e-05, elementwise_affine=True)\n",
       "        (mlp): GPT2MLP(\n",
       "          (c_fc): Conv1D()\n",
       "          (c_proj): Conv1D()\n",
       "          (act): NewGELUActivation()\n",
       "          (dropout): Dropout(p=0.1, inplace=False)\n",
       "        )\n",
       "      )\n",
       "      (8): GPT2Block(\n",
       "        (ln_1): LayerNorm((768,), eps=1e-05, elementwise_affine=True)\n",
       "        (attn): GPT2Attention(\n",
       "          (c_attn): Conv1D()\n",
       "          (c_proj): Conv1D()\n",
       "          (attn_dropout): Dropout(p=0.1, inplace=False)\n",
       "          (resid_dropout): Dropout(p=0.1, inplace=False)\n",
       "        )\n",
       "        (ln_2): LayerNorm((768,), eps=1e-05, elementwise_affine=True)\n",
       "        (mlp): GPT2MLP(\n",
       "          (c_fc): Conv1D()\n",
       "          (c_proj): Conv1D()\n",
       "          (act): NewGELUActivation()\n",
       "          (dropout): Dropout(p=0.1, inplace=False)\n",
       "        )\n",
       "      )\n",
       "      (9): GPT2Block(\n",
       "        (ln_1): LayerNorm((768,), eps=1e-05, elementwise_affine=True)\n",
       "        (attn): GPT2Attention(\n",
       "          (c_attn): Conv1D()\n",
       "          (c_proj): Conv1D()\n",
       "          (attn_dropout): Dropout(p=0.1, inplace=False)\n",
       "          (resid_dropout): Dropout(p=0.1, inplace=False)\n",
       "        )\n",
       "        (ln_2): LayerNorm((768,), eps=1e-05, elementwise_affine=True)\n",
       "        (mlp): GPT2MLP(\n",
       "          (c_fc): Conv1D()\n",
       "          (c_proj): Conv1D()\n",
       "          (act): NewGELUActivation()\n",
       "          (dropout): Dropout(p=0.1, inplace=False)\n",
       "        )\n",
       "      )\n",
       "      (10): GPT2Block(\n",
       "        (ln_1): LayerNorm((768,), eps=1e-05, elementwise_affine=True)\n",
       "        (attn): GPT2Attention(\n",
       "          (c_attn): Conv1D()\n",
       "          (c_proj): Conv1D()\n",
       "          (attn_dropout): Dropout(p=0.1, inplace=False)\n",
       "          (resid_dropout): Dropout(p=0.1, inplace=False)\n",
       "        )\n",
       "        (ln_2): LayerNorm((768,), eps=1e-05, elementwise_affine=True)\n",
       "        (mlp): GPT2MLP(\n",
       "          (c_fc): Conv1D()\n",
       "          (c_proj): Conv1D()\n",
       "          (act): NewGELUActivation()\n",
       "          (dropout): Dropout(p=0.1, inplace=False)\n",
       "        )\n",
       "      )\n",
       "      (11): GPT2Block(\n",
       "        (ln_1): LayerNorm((768,), eps=1e-05, elementwise_affine=True)\n",
       "        (attn): GPT2Attention(\n",
       "          (c_attn): Conv1D()\n",
       "          (c_proj): Conv1D()\n",
       "          (attn_dropout): Dropout(p=0.1, inplace=False)\n",
       "          (resid_dropout): Dropout(p=0.1, inplace=False)\n",
       "        )\n",
       "        (ln_2): LayerNorm((768,), eps=1e-05, elementwise_affine=True)\n",
       "        (mlp): GPT2MLP(\n",
       "          (c_fc): Conv1D()\n",
       "          (c_proj): Conv1D()\n",
       "          (act): NewGELUActivation()\n",
       "          (dropout): Dropout(p=0.1, inplace=False)\n",
       "        )\n",
       "      )\n",
       "    )\n",
       "    (ln_f): LayerNorm((768,), eps=1e-05, elementwise_affine=True)\n",
       "  )\n",
       "  (lm_head): Linear(in_features=768, out_features=50257, bias=False)\n",
       ")>"
      ]
     },
     "execution_count": 8,
     "metadata": {},
     "output_type": "execute_result"
    }
   ],
   "source": [
    "base_model.num_parameters"
   ]
  },
  {
   "cell_type": "markdown",
   "id": "70e23c7b-052d-411c-ac45-66bfcf9540f0",
   "metadata": {},
   "source": [
    "### Tokenizer"
   ]
  },
  {
   "cell_type": "code",
   "execution_count": 9,
   "id": "44ff1d2c-2dfd-4f29-939e-bf4f299a3572",
   "metadata": {},
   "outputs": [],
   "source": [
    "base_tokenizer = tokenizer_cls.from_pretrained(MODEL_NAME)"
   ]
  },
  {
   "cell_type": "code",
   "execution_count": 10,
   "id": "138c94af-7007-4dbb-afe4-59eeeb05d9be",
   "metadata": {},
   "outputs": [
    {
     "name": "stdout",
     "output_type": "stream",
     "text": [
      "vocab_size: 50257\n"
     ]
    }
   ],
   "source": [
    "print(f\"vocab_size: {base_tokenizer.vocab_size}\")"
   ]
  },
  {
   "cell_type": "code",
   "execution_count": 11,
   "id": "dbfce691-d927-41cd-95bd-db815dfb6c72",
   "metadata": {},
   "outputs": [
    {
     "data": {
      "text/plain": [
       "17250"
      ]
     },
     "execution_count": 11,
     "metadata": {},
     "output_type": "execute_result"
    }
   ],
   "source": [
    "vocabulary = base_tokenizer.get_vocab()\n",
    "vocabulary[\"Hi\"]"
   ]
  },
  {
   "cell_type": "code",
   "execution_count": 21,
   "id": "ec35b380-12ca-4328-b383-bfa391cc2ad1",
   "metadata": {},
   "outputs": [
    {
     "data": {
      "text/plain": [
       "'<|endoftext|>'"
      ]
     },
     "execution_count": 21,
     "metadata": {},
     "output_type": "execute_result"
    }
   ],
   "source": [
    "base_tokenizer.eos_token"
   ]
  },
  {
   "cell_type": "markdown",
   "id": "1a2753c1-7f96-4d54-93d7-9734f52215f1",
   "metadata": {},
   "source": [
    "## Conversational Model"
   ]
  },
  {
   "cell_type": "markdown",
   "id": "dbef9899-32f8-4f89-8917-53db3c6f6155",
   "metadata": {},
   "source": [
    "### Data Preparation"
   ]
  },
  {
   "cell_type": "code",
   "execution_count": 68,
   "id": "643ea45d-7857-496d-8a2e-595ef714b01c",
   "metadata": {},
   "outputs": [],
   "source": [
    "import argparse\n",
    "import tarfile\n",
    "import os.path\n",
    "\n",
    "from typing import Dict, Union\n",
    "\n",
    "import pandas as pd\n",
    "from sklearn.model_selection import train_test_split\n",
    "from transformers import AutoModelWithLMHead, AutoTokenizer\n",
    "from datasets import Dataset\n",
    "\n",
    "\n",
    "def load_csv(filename):\n",
    "    return pd.read_csv(filename)\n",
    "\n",
    "\n",
    "def prepare_data(\n",
    "    data_or_filename: Union[str, pd.DataFrame],\n",
    "    filter_by: str = None,\n",
    "    filter_value: str = None,\n",
    "    content_key: str = \"text\",\n",
    "    n: int = 7,\n",
    "    test_size: float = 0.1,\n",
    "    flatten: bool = True,\n",
    "):\n",
    "    data = load_csv(data_or_filename) if isinstance(data_or_filename, str) else data_or_filename\n",
    "\n",
    "    contexted_data = prepare_context(\n",
    "        data,\n",
    "        filter_by=filter_by,\n",
    "        filter_value=filter_value,\n",
    "        content_key=content_key,\n",
    "        n=n,\n",
    "    )\n",
    "\n",
    "    trn_df, val_df = train_test_split(contexted_data, test_size=test_size)\n",
    "    \n",
    "    if flatten:\n",
    "        train_dataset = prepare_dataset(trn_df)\n",
    "        val_dataset = prepare_dataset(val_df)\n",
    "        return train_dataset, val_dataset\n",
    "\n",
    "    return trn_df, val_df\n",
    "\n",
    "\n",
    "def prepare_context(\n",
    "    data: pd.DataFrame,\n",
    "    filter_by: str = None,\n",
    "    filter_value: str = None,\n",
    "    content_key: str = \"text\",\n",
    "    n: int = 7,\n",
    "):\n",
    "    if filter_by:\n",
    "        indexes = data.loc[data[filter_by] == filter_value].index\n",
    "    else:\n",
    "        indexes = range(n, len(data[content_key]))\n",
    "\n",
    "    contexted = []\n",
    "\n",
    "    for i in indexes:\n",
    "        row = []\n",
    "        prev = i - 1 - n\n",
    "        for j in range(i, prev, -1):\n",
    "            row.append(data.iloc[j][content_key])\n",
    "        contexted.append(row)\n",
    "\n",
    "    columns = [\"response\", \"context\"]\n",
    "    columns = columns + [\"context/\" + str(i) for i in range(n - 1)]\n",
    "\n",
    "    df = pd.DataFrame.from_records(contexted, columns=columns)\n",
    "    return df\n",
    "\n",
    "\n",
    "def prepare_dataset(df):\n",
    "    columns = [col for col in df] \n",
    "    dataset = Dataset.from_pandas(concat_text(df))\n",
    "    dataset = dataset.remove_columns(columns + ['__index_level_0__'])\n",
    "    return dataset\n",
    "\n",
    "\n",
    "def concat_text(df):\n",
    "    df[\"text\"] = df.apply(concat_text_in_row, axis=1)\n",
    "    return df\n",
    "\n",
    "\n",
    "def concat_text_in_row(row):\n",
    "    concat_text = f\"{base_tokenizer.eos_token}\".join(row.values)\n",
    "    # Add to end\n",
    "    concat_text += base_tokenizer.eos_token\n",
    "    return concat_text\n",
    "\n",
    "\n",
    "def construct_conv(example, tokenizer, eos = True):\n",
    "    flatten = lambda l: [item for sublist in l for item in sublist]\n",
    "    conv = list(reversed([tokenizer.encode(x, padding=\"max_length\", max_length=250) + [tokenizer.eos_token_id] for x in example]))\n",
    "    print(f\"Conv Length: {len(conv)}\") \n",
    "    print(set(list(map(len, conv))))\n",
    "    conv = flatten(conv)\n",
    "    return conv"
   ]
  },
  {
   "cell_type": "code",
   "execution_count": 70,
   "id": "4d6c2fc6-d0ef-492a-8520-ca0c344e87ab",
   "metadata": {},
   "outputs": [],
   "source": [
    "base_tokenizer.pad_token = \"<|PAD|>\""
   ]
  },
  {
   "cell_type": "code",
   "execution_count": 71,
   "id": "169bb493-6af7-4921-926b-a28b72caa527",
   "metadata": {
    "scrolled": true,
    "tags": []
   },
   "outputs": [
    {
     "name": "stdout",
     "output_type": "stream",
     "text": [
      "Conv Length: 8\n",
      "{251}\n"
     ]
    }
   ],
   "source": [
    "conv1 = construct_conv(train_df.iloc[1], base_tokenizer)"
   ]
  },
  {
   "cell_type": "code",
   "execution_count": 72,
   "id": "baa60833-405c-41dc-8520-66dbdebbd0fc",
   "metadata": {
    "scrolled": true,
    "tags": []
   },
   "outputs": [
    {
     "data": {
      "text/plain": [
       "[29795,\n",
       " 1462,\n",
       " 575,\n",
       " 9613,\n",
       " 290,\n",
       " 309,\n",
       " 620,\n",
       " 19181,\n",
       " 62,\n",
       " 60,\n",
       " 1374,\n",
       " 466,\n",
       " 356,\n",
       " 7765,\n",
       " 683,\n",
       " 510,\n",
       " 30,\n",
       " 22481,\n",
       " 4692,\n",
       " 1660,\n",
       " 319,\n",
       " 683,\n",
       " 44825,\n",
       " 50256,\n",
       " 50256,\n",
       " 50256,\n",
       " 50256,\n",
       " 50256,\n",
       " 50256,\n",
       " 50256,\n",
       " 50256,\n",
       " 50256,\n",
       " 50256,\n",
       " 50256,\n",
       " 50256,\n",
       " 50256,\n",
       " 50256,\n",
       " 50256,\n",
       " 50256,\n",
       " 50256,\n",
       " 50256,\n",
       " 50256,\n",
       " 50256,\n",
       " 50256,\n",
       " 50256,\n",
       " 50256,\n",
       " 50256,\n",
       " 50256,\n",
       " 50256,\n",
       " 50256,\n",
       " 50256,\n",
       " 50256,\n",
       " 50256,\n",
       " 50256,\n",
       " 50256,\n",
       " 50256,\n",
       " 50256,\n",
       " 50256,\n",
       " 50256,\n",
       " 50256,\n",
       " 50256,\n",
       " 50256,\n",
       " 50256,\n",
       " 50256,\n",
       " 50256,\n",
       " 50256,\n",
       " 50256,\n",
       " 50256,\n",
       " 50256,\n",
       " 50256,\n",
       " 50256,\n",
       " 50256,\n",
       " 50256,\n",
       " 50256,\n",
       " 50256,\n",
       " 50256,\n",
       " 50256,\n",
       " 50256,\n",
       " 50256,\n",
       " 50256,\n",
       " 50256,\n",
       " 50256,\n",
       " 50256,\n",
       " 50256,\n",
       " 50256,\n",
       " 50256,\n",
       " 50256,\n",
       " 50256,\n",
       " 50256,\n",
       " 50256,\n",
       " 50256,\n",
       " 50256,\n",
       " 50256,\n",
       " 50256,\n",
       " 50256,\n",
       " 50256,\n",
       " 50256,\n",
       " 50256,\n",
       " 50256,\n",
       " 50256,\n",
       " 50256,\n",
       " 50256,\n",
       " 50256,\n",
       " 50256,\n",
       " 50256,\n",
       " 50256,\n",
       " 50256,\n",
       " 50256,\n",
       " 50256,\n",
       " 50256,\n",
       " 50256,\n",
       " 50256,\n",
       " 50256,\n",
       " 50256,\n",
       " 50256,\n",
       " 50256,\n",
       " 50256,\n",
       " 50256,\n",
       " 50256,\n",
       " 50256,\n",
       " 50256,\n",
       " 50256,\n",
       " 50256,\n",
       " 50256,\n",
       " 50256,\n",
       " 50256,\n",
       " 50256,\n",
       " 50256,\n",
       " 50256,\n",
       " 50256,\n",
       " 50256,\n",
       " 50256,\n",
       " 50256,\n",
       " 50256,\n",
       " 50256,\n",
       " 50256,\n",
       " 50256,\n",
       " 50256,\n",
       " 50256,\n",
       " 50256,\n",
       " 50256,\n",
       " 50256,\n",
       " 50256,\n",
       " 50256,\n",
       " 50256,\n",
       " 50256,\n",
       " 50256,\n",
       " 50256,\n",
       " 50256,\n",
       " 50256,\n",
       " 50256,\n",
       " 50256,\n",
       " 50256,\n",
       " 50256,\n",
       " 50256,\n",
       " 50256,\n",
       " 50256,\n",
       " 50256,\n",
       " 50256,\n",
       " 50256,\n",
       " 50256,\n",
       " 50256,\n",
       " 50256,\n",
       " 50256,\n",
       " 50256,\n",
       " 50256,\n",
       " 50256,\n",
       " 50256,\n",
       " 50256,\n",
       " 50256,\n",
       " 50256,\n",
       " 50256,\n",
       " 50256,\n",
       " 50256,\n",
       " 50256,\n",
       " 50256,\n",
       " 50256,\n",
       " 50256,\n",
       " 50256,\n",
       " 50256,\n",
       " 50256,\n",
       " 50256,\n",
       " 50256,\n",
       " 50256,\n",
       " 50256,\n",
       " 50256,\n",
       " 50256,\n",
       " 50256,\n",
       " 50256,\n",
       " 50256,\n",
       " 50256,\n",
       " 50256,\n",
       " 50256,\n",
       " 50256,\n",
       " 50256,\n",
       " 50256,\n",
       " 50256,\n",
       " 50256,\n",
       " 50256,\n",
       " 50256,\n",
       " 50256,\n",
       " 50256,\n",
       " 50256,\n",
       " 50256,\n",
       " 50256,\n",
       " 50256,\n",
       " 50256,\n",
       " 50256,\n",
       " 50256,\n",
       " 50256,\n",
       " 50256,\n",
       " 50256,\n",
       " 50256,\n",
       " 50256,\n",
       " 50256,\n",
       " 50256,\n",
       " 50256,\n",
       " 50256,\n",
       " 50256,\n",
       " 50256,\n",
       " 50256,\n",
       " 50256,\n",
       " 50256,\n",
       " 50256,\n",
       " 50256,\n",
       " 50256,\n",
       " 50256,\n",
       " 50256,\n",
       " 50256,\n",
       " 50256,\n",
       " 50256,\n",
       " 50256,\n",
       " 50256,\n",
       " 50256,\n",
       " 50256,\n",
       " 50256,\n",
       " 50256,\n",
       " 50256,\n",
       " 50256,\n",
       " 50256,\n",
       " 50256,\n",
       " 50256,\n",
       " 50256,\n",
       " 50256,\n",
       " 50256,\n",
       " 50256,\n",
       " 50256,\n",
       " 50256,\n",
       " 50256,\n",
       " 50256,\n",
       " 50256,\n",
       " 29795,\n",
       " 56,\n",
       " 9613,\n",
       " 290,\n",
       " 309,\n",
       " 620,\n",
       " 19181,\n",
       " 5163,\n",
       " 48703,\n",
       " 62,\n",
       " 60,\n",
       " 50256,\n",
       " 50256,\n",
       " 50256,\n",
       " 50256,\n",
       " 50256,\n",
       " 50256,\n",
       " 50256,\n",
       " 50256,\n",
       " 50256,\n",
       " 50256,\n",
       " 50256,\n",
       " 50256,\n",
       " 50256,\n",
       " 50256,\n",
       " 50256,\n",
       " 50256,\n",
       " 50256,\n",
       " 50256,\n",
       " 50256,\n",
       " 50256,\n",
       " 50256,\n",
       " 50256,\n",
       " 50256,\n",
       " 50256,\n",
       " 50256,\n",
       " 50256,\n",
       " 50256,\n",
       " 50256,\n",
       " 50256,\n",
       " 50256,\n",
       " 50256,\n",
       " 50256,\n",
       " 50256,\n",
       " 50256,\n",
       " 50256,\n",
       " 50256,\n",
       " 50256,\n",
       " 50256,\n",
       " 50256,\n",
       " 50256,\n",
       " 50256,\n",
       " 50256,\n",
       " 50256,\n",
       " 50256,\n",
       " 50256,\n",
       " 50256,\n",
       " 50256,\n",
       " 50256,\n",
       " 50256,\n",
       " 50256,\n",
       " 50256,\n",
       " 50256,\n",
       " 50256,\n",
       " 50256,\n",
       " 50256,\n",
       " 50256,\n",
       " 50256,\n",
       " 50256,\n",
       " 50256,\n",
       " 50256,\n",
       " 50256,\n",
       " 50256,\n",
       " 50256,\n",
       " 50256,\n",
       " 50256,\n",
       " 50256,\n",
       " 50256,\n",
       " 50256,\n",
       " 50256,\n",
       " 50256,\n",
       " 50256,\n",
       " 50256,\n",
       " 50256,\n",
       " 50256,\n",
       " 50256,\n",
       " 50256,\n",
       " 50256,\n",
       " 50256,\n",
       " 50256,\n",
       " 50256,\n",
       " 50256,\n",
       " 50256,\n",
       " 50256,\n",
       " 50256,\n",
       " 50256,\n",
       " 50256,\n",
       " 50256,\n",
       " 50256,\n",
       " 50256,\n",
       " 50256,\n",
       " 50256,\n",
       " 50256,\n",
       " 50256,\n",
       " 50256,\n",
       " 50256,\n",
       " 50256,\n",
       " 50256,\n",
       " 50256,\n",
       " 50256,\n",
       " 50256,\n",
       " 50256,\n",
       " 50256,\n",
       " 50256,\n",
       " 50256,\n",
       " 50256,\n",
       " 50256,\n",
       " 50256,\n",
       " 50256,\n",
       " 50256,\n",
       " 50256,\n",
       " 50256,\n",
       " 50256,\n",
       " 50256,\n",
       " 50256,\n",
       " 50256,\n",
       " 50256,\n",
       " 50256,\n",
       " 50256,\n",
       " 50256,\n",
       " 50256,\n",
       " 50256,\n",
       " 50256,\n",
       " 50256,\n",
       " 50256,\n",
       " 50256,\n",
       " 50256,\n",
       " 50256,\n",
       " 50256,\n",
       " 50256,\n",
       " 50256,\n",
       " 50256,\n",
       " 50256,\n",
       " 50256,\n",
       " 50256,\n",
       " 50256,\n",
       " 50256,\n",
       " 50256,\n",
       " 50256,\n",
       " 50256,\n",
       " 50256,\n",
       " 50256,\n",
       " 50256,\n",
       " 50256,\n",
       " 50256,\n",
       " 50256,\n",
       " 50256,\n",
       " 50256,\n",
       " 50256,\n",
       " 50256,\n",
       " 50256,\n",
       " 50256,\n",
       " 50256,\n",
       " 50256,\n",
       " 50256,\n",
       " 50256,\n",
       " 50256,\n",
       " 50256,\n",
       " 50256,\n",
       " 50256,\n",
       " 50256,\n",
       " 50256,\n",
       " 50256,\n",
       " 50256,\n",
       " 50256,\n",
       " 50256,\n",
       " 50256,\n",
       " 50256,\n",
       " 50256,\n",
       " 50256,\n",
       " 50256,\n",
       " 50256,\n",
       " 50256,\n",
       " 50256,\n",
       " 50256,\n",
       " 50256,\n",
       " 50256,\n",
       " 50256,\n",
       " 50256,\n",
       " 50256,\n",
       " 50256,\n",
       " 50256,\n",
       " 50256,\n",
       " 50256,\n",
       " 50256,\n",
       " 50256,\n",
       " 50256,\n",
       " 50256,\n",
       " 50256,\n",
       " 50256,\n",
       " 50256,\n",
       " 50256,\n",
       " 50256,\n",
       " 50256,\n",
       " 50256,\n",
       " 50256,\n",
       " 50256,\n",
       " 50256,\n",
       " 50256,\n",
       " 50256,\n",
       " 50256,\n",
       " 50256,\n",
       " 50256,\n",
       " 50256,\n",
       " 50256,\n",
       " 50256,\n",
       " 50256,\n",
       " 50256,\n",
       " 50256,\n",
       " 50256,\n",
       " 50256,\n",
       " 50256,\n",
       " 50256,\n",
       " 50256,\n",
       " 50256,\n",
       " 50256,\n",
       " 50256,\n",
       " 50256,\n",
       " 50256,\n",
       " 50256,\n",
       " 50256,\n",
       " 50256,\n",
       " 50256,\n",
       " 50256,\n",
       " 50256,\n",
       " 50256,\n",
       " 50256,\n",
       " 50256,\n",
       " 50256,\n",
       " 50256,\n",
       " 50256,\n",
       " 50256,\n",
       " 50256,\n",
       " 50256,\n",
       " 50256,\n",
       " 50256,\n",
       " 50256,\n",
       " 50256,\n",
       " 50256,\n",
       " 50256,\n",
       " 50256,\n",
       " 40,\n",
       " 714,\n",
       " 986,\n",
       " 50256,\n",
       " 50256,\n",
       " 50256,\n",
       " 50256,\n",
       " 50256,\n",
       " 50256,\n",
       " 50256,\n",
       " 50256,\n",
       " 50256,\n",
       " 50256,\n",
       " 50256,\n",
       " 50256,\n",
       " 50256,\n",
       " 50256,\n",
       " 50256,\n",
       " 50256,\n",
       " 50256,\n",
       " 50256,\n",
       " 50256,\n",
       " 50256,\n",
       " 50256,\n",
       " 50256,\n",
       " 50256,\n",
       " 50256,\n",
       " 50256,\n",
       " 50256,\n",
       " 50256,\n",
       " 50256,\n",
       " 50256,\n",
       " 50256,\n",
       " 50256,\n",
       " 50256,\n",
       " 50256,\n",
       " 50256,\n",
       " 50256,\n",
       " 50256,\n",
       " 50256,\n",
       " 50256,\n",
       " 50256,\n",
       " 50256,\n",
       " 50256,\n",
       " 50256,\n",
       " 50256,\n",
       " 50256,\n",
       " 50256,\n",
       " 50256,\n",
       " 50256,\n",
       " 50256,\n",
       " 50256,\n",
       " 50256,\n",
       " 50256,\n",
       " 50256,\n",
       " 50256,\n",
       " 50256,\n",
       " 50256,\n",
       " 50256,\n",
       " 50256,\n",
       " 50256,\n",
       " 50256,\n",
       " 50256,\n",
       " 50256,\n",
       " 50256,\n",
       " 50256,\n",
       " 50256,\n",
       " 50256,\n",
       " 50256,\n",
       " 50256,\n",
       " 50256,\n",
       " 50256,\n",
       " 50256,\n",
       " 50256,\n",
       " 50256,\n",
       " 50256,\n",
       " 50256,\n",
       " 50256,\n",
       " 50256,\n",
       " 50256,\n",
       " 50256,\n",
       " 50256,\n",
       " 50256,\n",
       " 50256,\n",
       " 50256,\n",
       " 50256,\n",
       " 50256,\n",
       " 50256,\n",
       " 50256,\n",
       " 50256,\n",
       " 50256,\n",
       " 50256,\n",
       " 50256,\n",
       " 50256,\n",
       " 50256,\n",
       " 50256,\n",
       " 50256,\n",
       " 50256,\n",
       " 50256,\n",
       " 50256,\n",
       " 50256,\n",
       " 50256,\n",
       " 50256,\n",
       " 50256,\n",
       " 50256,\n",
       " 50256,\n",
       " 50256,\n",
       " 50256,\n",
       " 50256,\n",
       " 50256,\n",
       " 50256,\n",
       " 50256,\n",
       " 50256,\n",
       " 50256,\n",
       " 50256,\n",
       " 50256,\n",
       " 50256,\n",
       " 50256,\n",
       " 50256,\n",
       " 50256,\n",
       " 50256,\n",
       " 50256,\n",
       " 50256,\n",
       " 50256,\n",
       " 50256,\n",
       " 50256,\n",
       " 50256,\n",
       " 50256,\n",
       " 50256,\n",
       " 50256,\n",
       " 50256,\n",
       " 50256,\n",
       " 50256,\n",
       " 50256,\n",
       " 50256,\n",
       " 50256,\n",
       " 50256,\n",
       " 50256,\n",
       " 50256,\n",
       " 50256,\n",
       " 50256,\n",
       " 50256,\n",
       " 50256,\n",
       " 50256,\n",
       " 50256,\n",
       " 50256,\n",
       " 50256,\n",
       " 50256,\n",
       " 50256,\n",
       " 50256,\n",
       " 50256,\n",
       " 50256,\n",
       " 50256,\n",
       " 50256,\n",
       " 50256,\n",
       " 50256,\n",
       " 50256,\n",
       " 50256,\n",
       " 50256,\n",
       " 50256,\n",
       " 50256,\n",
       " 50256,\n",
       " 50256,\n",
       " 50256,\n",
       " 50256,\n",
       " 50256,\n",
       " 50256,\n",
       " 50256,\n",
       " 50256,\n",
       " 50256,\n",
       " 50256,\n",
       " 50256,\n",
       " 50256,\n",
       " 50256,\n",
       " 50256,\n",
       " 50256,\n",
       " 50256,\n",
       " 50256,\n",
       " 50256,\n",
       " 50256,\n",
       " 50256,\n",
       " 50256,\n",
       " 50256,\n",
       " 50256,\n",
       " 50256,\n",
       " 50256,\n",
       " 50256,\n",
       " 50256,\n",
       " 50256,\n",
       " 50256,\n",
       " 50256,\n",
       " 50256,\n",
       " 50256,\n",
       " 50256,\n",
       " 50256,\n",
       " 50256,\n",
       " 50256,\n",
       " 50256,\n",
       " 50256,\n",
       " 50256,\n",
       " 50256,\n",
       " 50256,\n",
       " 50256,\n",
       " 50256,\n",
       " 50256,\n",
       " 50256,\n",
       " 50256,\n",
       " 50256,\n",
       " 50256,\n",
       " 50256,\n",
       " 50256,\n",
       " 50256,\n",
       " 50256,\n",
       " 50256,\n",
       " 50256,\n",
       " 50256,\n",
       " 50256,\n",
       " 50256,\n",
       " 50256,\n",
       " 50256,\n",
       " 50256,\n",
       " 50256,\n",
       " 50256,\n",
       " 50256,\n",
       " 50256,\n",
       " 50256,\n",
       " 50256,\n",
       " 50256,\n",
       " 50256,\n",
       " 50256,\n",
       " 50256,\n",
       " 50256,\n",
       " 50256,\n",
       " 50256,\n",
       " 50256,\n",
       " 50256,\n",
       " 50256,\n",
       " 50256,\n",
       " 50256,\n",
       " 50256,\n",
       " 50256,\n",
       " 50256,\n",
       " 50256,\n",
       " 50256,\n",
       " 50256,\n",
       " 50256,\n",
       " 50256,\n",
       " 50256,\n",
       " 50256,\n",
       " 50256,\n",
       " 50256,\n",
       " 3198,\n",
       " 792,\n",
       " 986,\n",
       " 50256,\n",
       " 50256,\n",
       " 50256,\n",
       " 50256,\n",
       " 50256,\n",
       " 50256,\n",
       " 50256,\n",
       " 50256,\n",
       " 50256,\n",
       " 50256,\n",
       " 50256,\n",
       " 50256,\n",
       " 50256,\n",
       " 50256,\n",
       " 50256,\n",
       " 50256,\n",
       " 50256,\n",
       " 50256,\n",
       " 50256,\n",
       " 50256,\n",
       " 50256,\n",
       " 50256,\n",
       " 50256,\n",
       " 50256,\n",
       " 50256,\n",
       " 50256,\n",
       " 50256,\n",
       " 50256,\n",
       " 50256,\n",
       " 50256,\n",
       " 50256,\n",
       " 50256,\n",
       " 50256,\n",
       " 50256,\n",
       " 50256,\n",
       " 50256,\n",
       " 50256,\n",
       " 50256,\n",
       " 50256,\n",
       " 50256,\n",
       " 50256,\n",
       " 50256,\n",
       " 50256,\n",
       " 50256,\n",
       " 50256,\n",
       " 50256,\n",
       " 50256,\n",
       " 50256,\n",
       " 50256,\n",
       " 50256,\n",
       " 50256,\n",
       " 50256,\n",
       " 50256,\n",
       " 50256,\n",
       " 50256,\n",
       " 50256,\n",
       " 50256,\n",
       " 50256,\n",
       " 50256,\n",
       " 50256,\n",
       " 50256,\n",
       " 50256,\n",
       " 50256,\n",
       " 50256,\n",
       " 50256,\n",
       " 50256,\n",
       " 50256,\n",
       " 50256,\n",
       " 50256,\n",
       " 50256,\n",
       " 50256,\n",
       " 50256,\n",
       " 50256,\n",
       " 50256,\n",
       " 50256,\n",
       " 50256,\n",
       " 50256,\n",
       " 50256,\n",
       " 50256,\n",
       " 50256,\n",
       " 50256,\n",
       " 50256,\n",
       " 50256,\n",
       " 50256,\n",
       " 50256,\n",
       " 50256,\n",
       " 50256,\n",
       " 50256,\n",
       " 50256,\n",
       " 50256,\n",
       " 50256,\n",
       " 50256,\n",
       " 50256,\n",
       " 50256,\n",
       " 50256,\n",
       " 50256,\n",
       " 50256,\n",
       " 50256,\n",
       " 50256,\n",
       " 50256,\n",
       " 50256,\n",
       " 50256,\n",
       " 50256,\n",
       " 50256,\n",
       " 50256,\n",
       " 50256,\n",
       " 50256,\n",
       " 50256,\n",
       " 50256,\n",
       " 50256,\n",
       " 50256,\n",
       " 50256,\n",
       " 50256,\n",
       " 50256,\n",
       " 50256,\n",
       " 50256,\n",
       " 50256,\n",
       " 50256,\n",
       " 50256,\n",
       " 50256,\n",
       " 50256,\n",
       " 50256,\n",
       " 50256,\n",
       " 50256,\n",
       " 50256,\n",
       " 50256,\n",
       " 50256,\n",
       " 50256,\n",
       " 50256,\n",
       " 50256,\n",
       " 50256,\n",
       " 50256,\n",
       " 50256,\n",
       " 50256,\n",
       " 50256,\n",
       " 50256,\n",
       " 50256,\n",
       " 50256,\n",
       " 50256,\n",
       " 50256,\n",
       " 50256,\n",
       " 50256,\n",
       " 50256,\n",
       " 50256,\n",
       " 50256,\n",
       " 50256,\n",
       " 50256,\n",
       " 50256,\n",
       " 50256,\n",
       " 50256,\n",
       " 50256,\n",
       " 50256,\n",
       " 50256,\n",
       " 50256,\n",
       " 50256,\n",
       " 50256,\n",
       " 50256,\n",
       " 50256,\n",
       " 50256,\n",
       " 50256,\n",
       " 50256,\n",
       " 50256,\n",
       " 50256,\n",
       " 50256,\n",
       " 50256,\n",
       " 50256,\n",
       " 50256,\n",
       " 50256,\n",
       " 50256,\n",
       " 50256,\n",
       " 50256,\n",
       " 50256,\n",
       " 50256,\n",
       " 50256,\n",
       " 50256,\n",
       " 50256,\n",
       " 50256,\n",
       " 50256,\n",
       " 50256,\n",
       " 50256,\n",
       " 50256,\n",
       " 50256,\n",
       " 50256,\n",
       " 50256,\n",
       " 50256,\n",
       " 50256,\n",
       " 50256,\n",
       " 50256,\n",
       " 50256,\n",
       " 50256,\n",
       " 50256,\n",
       " 50256,\n",
       " 50256,\n",
       " 50256,\n",
       " 50256,\n",
       " 50256,\n",
       " 50256,\n",
       " 50256,\n",
       " 50256,\n",
       " 50256,\n",
       " 50256,\n",
       " 50256,\n",
       " 50256,\n",
       " 50256,\n",
       " 50256,\n",
       " 50256,\n",
       " 50256,\n",
       " 50256,\n",
       " 50256,\n",
       " 50256,\n",
       " 50256,\n",
       " 50256,\n",
       " 50256,\n",
       " 50256,\n",
       " 50256,\n",
       " 50256,\n",
       " 50256,\n",
       " 50256,\n",
       " 50256,\n",
       " 50256,\n",
       " 50256,\n",
       " 50256,\n",
       " 50256,\n",
       " 50256,\n",
       " 50256,\n",
       " 50256,\n",
       " 50256,\n",
       " 50256,\n",
       " 50256,\n",
       " 50256,\n",
       " 50256,\n",
       " 50256,\n",
       " 50256,\n",
       " 50256,\n",
       " 50256,\n",
       " 50256,\n",
       " 50256,\n",
       " 50256,\n",
       " 50256,\n",
       " 50256,\n",
       " 50256,\n",
       " 50256,\n",
       " 50256,\n",
       " 50256,\n",
       " ...]"
      ]
     },
     "execution_count": 72,
     "metadata": {},
     "output_type": "execute_result"
    }
   ],
   "source": [
    "conv1"
   ]
  },
  {
   "cell_type": "code",
   "execution_count": 26,
   "id": "ce5db7f6-8486-4b76-a76f-63559628fa4c",
   "metadata": {},
   "outputs": [],
   "source": [
    "train_df, val_df = prepare_data(df, filter_by=\"character\", filter_value=\"bitjockey\", flatten=False)"
   ]
  },
  {
   "cell_type": "code",
   "execution_count": 120,
   "id": "dc165239-6ec7-43f9-b981-772f8783d30a",
   "metadata": {},
   "outputs": [],
   "source": [
    "train_dataset = Dataset.from_pandas(train_df)\n",
    "val_dataset = Dataset.from_pandas(val_df)"
   ]
  },
  {
   "cell_type": "code",
   "execution_count": 207,
   "id": "450f2318-9c52-403a-b5a8-8d15b75078ee",
   "metadata": {},
   "outputs": [],
   "source": [
    "def preprocess(tokenizer):\n",
    "    def _tokenize(example):\n",
    "        flatten = lambda l: [item for sublist in l for item in sublist]\n",
    "        conv = list(reversed([tokenizer.encode(x, padding=\"max_length\", max_length=250) + [tokenizer.eos_token_id] for x in example if \"__index\" not in x]))\n",
    "        conv = flatten(conv)\n",
    "        return conv\n",
    "        \n",
    "    def _preprocess(examples):\n",
    "        #flatten = lambda l: [item for sublist in l for item in sublist]\n",
    "        #conv = list([tokenizer.encode(x, padding=\"max_length\", max_length=250) + [tokenizer.eos_token_id] for x in examples])\n",
    "        #conv = flatten(conv)\n",
    "        #return {\"input_ids\": conv}\n",
    "        return {\"input_ids\": list(map(_tokenize, examples))}\n",
    "    \n",
    "    return _preprocess\n",
    "\n",
    "\n",
    "def tokenize(example):\n",
    "    flatten = lambda l: [item for sublist in l for item in sublist]\n",
    "    conv = list(reversed([tokenizer.encode(x, padding=\"max_length\", max_length=250) + [tokenizer.eos_token_id] for x in example]))\n",
    "    print(f\"Conv Length: {len(conv)}\") \n",
    "    print(set(list(map(len, conv))))\n",
    "    conv = flatten(conv)\n",
    "    return conv\n",
    "\n",
    "def debug_preprocess(examples):\n",
    "    print(\"count\", len(examples)) \n",
    "    #conv = list(reversed([tokenizer.encode(x, padding=\"max_length\", max_length=250) + [tokenizer.eos_token_id] for x in examples]))\n",
    "    #print(conv)\n",
    "    print([v for k,v in examples.items()])"
   ]
  },
  {
   "cell_type": "code",
   "execution_count": 189,
   "id": "1bcc0914-a207-4d1c-9a9a-6634a2e6517c",
   "metadata": {
    "scrolled": true,
    "tags": []
   },
   "outputs": [
    {
     "data": {
      "text/plain": [
       "Dataset({\n",
       "    features: ['response', 'context', 'context/0', 'context/1', 'context/2', 'context/3', 'context/4', 'context/5', '__index_level_0__'],\n",
       "    num_rows: 4967\n",
       "})"
      ]
     },
     "execution_count": 189,
     "metadata": {},
     "output_type": "execute_result"
    }
   ],
   "source": [
    "train_dataset"
   ]
  },
  {
   "cell_type": "code",
   "execution_count": 190,
   "id": "f4c2c91b-70c9-456b-8ca5-63bbe748e289",
   "metadata": {
    "scrolled": true,
    "tags": []
   },
   "outputs": [
    {
     "data": {
      "text/plain": [
       "Dataset({\n",
       "    features: ['response', 'context', 'context/0', 'context/1', 'context/2', 'context/3', 'context/4', 'context/5', '__index_level_0__'],\n",
       "    num_rows: 552\n",
       "})"
      ]
     },
     "execution_count": 190,
     "metadata": {},
     "output_type": "execute_result"
    }
   ],
   "source": [
    "val_dataset"
   ]
  },
  {
   "cell_type": "code",
   "execution_count": 208,
   "id": "61d53884-df1c-42d0-8a32-648afca98ae6",
   "metadata": {
    "scrolled": true,
    "tags": []
   },
   "outputs": [
    {
     "data": {
      "application/vnd.jupyter.widget-view+json": {
       "model_id": "503b047e1d8b4241b0a2c9582586e43a",
       "version_major": 2,
       "version_minor": 0
      },
      "text/plain": [
       "  0%|          | 0/552 [00:00<?, ?ex/s]"
      ]
     },
     "metadata": {},
     "output_type": "display_data"
    },
    {
     "name": "stdout",
     "output_type": "stream",
     "text": [
      "count 9\n",
      "['I am al right', 'me or yourself?', 'who are you trying to convince?', 'I am fine.', 'I am fine. I am okay.', 'Everything is fine.', \"...you know you can tell me if something's wrong, ok?\", '............k', 420]\n",
      "count 9\n",
      "['I had..one thing. To look forward to. That is..where Charlotte and I became acquiainted.', 'What?', '[_sighs_] There was..something.', '...any time?', \"I couldn't really..look past that. There wasn't...\", 'But you...never had a chance to really deal with all of it, because you were focused on just...getting to the next morning.', '[_Medusa looks like she wants to say something, but then thinks better of it._]', 'Okay.', 2807]\n",
      "count 9\n",
      "[\"(( I really haven't eaten anything btw so this is .. method acting or w/e ))\", '@Charlotte hey', '(( 😂 ))', '[quietly] What the fuck', '[Mercifully,  no dreams haunted her during her nap. She heads over to her kitchen table where she left her cyberdeck and sits down. Her commlink right now is slaved to her cyberdeck so she can read it on a bigger screen or w/e. She reads the chat log between her and Charlotte.]', \"_It's past noon. And I haven't eaten anything_\", 'Drek.', '(( ugh why did I come up with such a brooding character 😛 ))', 433]\n",
      "count 9\n",
      "[\"[_shakes head_] It was disturbing enough for all of us who _did_ see. For you..I don't..think it would have been a good idea to see it.\", \"[_quietly_] I...am not sure if...I should be glad I...didn't see it...or not.\", '...no.', \"[_sighs_] I figured as much. It's still...it isn't any better.\", 'It was not...unexpected.', '[_Shiro sets the tea and the book she was reading down_]', '[_shrugs slightly_]', '[_sits wherever there is space_] [_softly_] How...are you?', 3450]\n",
      "count 9\n",
      "['I did.', 'You seemed like you enjoyed this afternoon.', '[_distributes it, I mean_]', '[_presents the food to the squad_]', '[_assuming you have ordered food, it arrives after said time passes_]', \"[_the food will arrive in the exact maximum estimated time the order claims, because this is Boston and a dystopia and so we can't have nice things and this is how it works anyway_]\", 'Alright', 'Guess we know what Julia wants.', 2157]\n",
      "count 9\n",
      "[\"I'm...oh is it what I just said?\", '...Seriously?', 'What do you mean?', '[*gives hopper a weird look*] You been taking lessons from Julia?', '[_Lauren is still speaking quietly on the phone_]', '*Kalahan just blinks and stares at Hopper, dumbfounded.*\\n...I...don’t know how to respond to that.', \"You've spent the past few years grieving the loss of your family, and now that the connections you thought you lost seem to be reappearing, it might feel overwhelming to allow yourself to feel any kind of joy. Would you say you're apprehensive about it because there's a part of you that's scared to lose them again?\", 'Is there anything we can do to help? Beyond just...being there, I guess?', 5063]\n",
      "count 9\n",
      "[\"[_goes back out, and knocks on Julia and Akari's door @ultranos _]\", '[_waves back, heads into her Not Sad Apartment_]', 'Later, Hopper. [_waves_]', \"Yes, we're going to go get you food now.\", '_bark?_', \"[_smiles_] We could all use it, I think. I'll...make sure to text you.\", \"I should...let you get your stuff packed away. I don't know when you usually eat dinner, but...um, feel free to text me. I'd...probably appreciate the company, if I'm awake.\", '[_nods_]', 2261]\n",
      "count 9\n",
      "['[_follows_]', '[*she will head to the common room with hopper*]', 'Maybe I can get at least _one_ of my sisters to actually talk to me', \"I'll go with you.\", '..right.', '[*after a pause*] ...One of us should probably go check on everyone we left back in the common room, too', 'I know Arcade is working on a fix for that...._situation_', \"we can try to call them, but I feel like there might be a reason they haven't reached out first\", 3998]\n",
      "count 9\n",
      "['(( are there drinks or anything on board ? ))', '_Yes_', 'First time getting shot at?', '[_looks up_] Oh! Um...yes? I think. Um. Maybe?', \"_::it finally clicks why this seems so familiar to Collateral and he kinda says loudly hoping someone will respond::_ This is just like Ballistic Ravens!  I'm the wing of Death!  HAHA!  ...  Was that too late?\", '[*to the dwarf*] You alright?', '[_Akari and Julia look at each other, then back to Hopper, nod_]', '((One looks better. The human. The dwarf seems to be studying her shoes and doing breathing exercises))', 1512]\n",
      "count 9\n",
      "[\"It...frustrates me that you can't...craft any machines in this game.\", 'I..please.', \"[*after they decide on a game/get it started*] ...I hope you're cool with the fact that I am going to mod the _hell_ out of this thing\", '...yes', '[*shakes head*] So...you mentioned video games', 'Do you want anything to drink?', \"That's a fucking understatement.\", \"It's been a day.\", 3973]\n",
      "count 9\n",
      "['[_goes to refill mug_]', 'I need more soycaf.', \"I can't believe you just said that.\", \"[_shrugs_] _My_ professor was a fan of stupid memes back in the day. You picked 'em up by osmosis.\", 'Wow.', \"I don't....[_blinks rapidly, and then shakes head slightly_]\", 'I..[_shakes head_]', \"[_holds up hands_] All right, all right. I'll stop.\", 2114]\n",
      "count 9\n",
      "['I’ll get started on it asap. I could just reuse the design of btrice, modify it a bit. Hopefully won’t take more than 2 days...I may need some extra parts though. (( also this will depend on the rules @ultranos is going over ))', 'how long would it take to set up?', 'With enough stealth they can sneak up behind a hostile target, take em out without them seeing it coming', 'That seems like a good idea.', 'They’ll be hidden around, waiting to sting.', 'So to speak, I mean.', 'Kick it and you’re askin for a world of pain.', 'I was thinking of something like a hornet’s nest.', 1162]\n",
      "count 9\n",
      "[\"[_shakes head_] I'm not up to date on these things, either.\", 'Talent', 'How are you all like this.', \"*Kalahan just looks so lost.*\\n...I've legitimately never heard of them.\", '[_mock-offended_]', '*Kalahan raises an eyebrow, but otherwise keeps eating.*', 'You mean _noise_.', \"Band called Deviants from the Norm. They're electro-metal.\", 4615]\n",
      "count 9\n",
      "['[_follows after Charlotte and also tries not to be too awkard. Tries to find a seat, and is unsure where_]', '[*makes a plate of food, grabs a seat. tries not to feel too awkward about things*]', 'Come on, help yourselves.', '[_shrugs_]', '[_comes back from the bathroom and smiles awkwardly at Medusa and Charlotte_]', 'You guys were _busy_', \"[_There is a lot of food. It's rather impressive what the two of them did. Oh hey, in addition to soy, there's even cricket hash._]\", '[_nods and heads over to the bathroom_]', 762]\n",
      "count 9\n",
      "['Has your sister told you about tomorrow?', 'But I figure you had a specific question.', \"It's...going. [_rubs forehead_]\", \"[_hands food_] How's it going?\", 'Oh...thanks!', \"Hey. I've got some food here for you and Temper.\", '[_looks up_] Hey.', '[_Temper and Nix are in a lab. Well, Nix is hovering right outside with a cup of soycaf in her hand._]', 4499]\n",
      "count 9\n",
      "['So what are you all up to now?', '[_smiles weakly_]', '*Kalahan shrugs innocently.*', \"I'm doing the same thing as you. Checking on this one [*nods toward kalahan*]\", 'How about you two? [_to Lauren and Charlotte_]', \"That's good.\", \"I'm doing fine...it's been a lot, but I'm managing.\", 'So how are you doing?', 5224]\n",
      "count 9\n",
      "['It would help to have someone intimidating around', \"[*nods*] I'll check with Medusa too. Can't hurt to have an extra person watching your back\", 'I think Kalahan needs..uhm, a distraction, so I could ask him?', '[*to hopper*] Who do you _want_ as backup?', '[_shrugs_] Up to you.', \"Medusa'd probably be up for it if we ask\", 'Right..', 'Yeah, that.', 4805]\n",
      "count 9\n",
      "[\"[_to Kalahan_] So? What's your story?\", \"*Kalahan doesn't say anything, he just snorts and raises his head a little, mindful of Lauren on his back.*\", \"Okay so what's the issue then?\", \"That's part of it.\", 'Is this to do with...what happened recently?', '[_glances between kalahan and nix/tachyon_]', '[_Tachyon will grab Nix and pull her aside. Nix looks...uneasy?_]', '...what is happening', 4234]\n",
      "count 9\n",
      "['[_smiles_] The Pacific is beautiful. I miss it.', 'Hmm...decisions, decisions.', '*Kalahan then smirks back up at Lauren.* So did you want to walk and work on that appetite some more, or did you wanna stay up there, Miss Gargoyle?', \"Oh it went quite a ways around, and the ocean looked so pretty. I mean, I've heard the Pacific is better, but that may just be ancestral bias, hehehehe.\", \"[_has created some distance and is pointedly not looking at where Charlotte and Shiro are so as to respect Charlotte's privacy even though she definitely noticed that_]\", \"How's the view of this town from there?\", '[_will follow_]', '[_tries to get Charlotte away to talk in private_]', 3672]\n",
      "count 9\n",
      "['[_catches up to Collateral_] A little fun?', 'Oh?', \"[_muttering_] If she gets arrested, I'm _not_ bailing her out.\", 'Hey. So, something _interesting_ seems to be going on', '[_answering Charlotte_] Hey.', \"[_makes his way to Jackal/Medusa's room and knocks on the door before anyone else notices where he's heading_] This should get stored here since I'm in with Temper.\", '[_considers for a moment, then calls medusa_]', \"[_over his shoulder_] No Hijinks, just a little fun, s'all...\", 3681]\n",
      "count 9\n",
      "['It was very frightening for the rest of us when we saw Kalahan do that for the first time. Thought he had collapsed and needed medical attention.', \"When someone's in the astral space.\", 'I forget that...happens.', 'Hm...maybe we should have gotten him a pillow first.', '[_back in meatspace, Kalahan is still totally slumped over._]', \"```asciidoc\\n= It's unsurprising, then, that my children are few in number. But those I do have, I do not forget. =\\n= And just the same, I cannot abandon the cub of my cub. =```\", '```asciidoc\\n= I am a dangerous mentor. I admit it freely. My cubs find that which they want to protect, what they claim as their own, whatever it is they yearn for...and they burn for it. Unstoppable and untamable as a forest fire, and just as bright. =\\n= But when they burn too bright...the world does not take kindly to those it can fear. My cubs burn themselves to ash...or are hunted for not doing so...or they live their lives in a cage. = ```', '[_Tiger opens his eyes, and seems to stare right at you._]', 4370]\n",
      "count 9\n",
      "['[_snorts_]', \"Unfortunately, the room right across only has one bed at the moment, but we can move furniture around if you're willing to wait a bit. I just haven't had a chance to go get her to help me move things.\", 'Shiro, ah, mentioned that you might be more comfortable sticking close by?', '[_Temper watches this with a curious look, but says nothing. He leads them to a room right across from yours._]', '[_nods and will follow_]', '[_quietly_] Are you coming?', \"[_stands, touches Hopper's shoulder_]\", '[*thinking out loud*] I should probably get some sleep before trying to get Templeton back, too...', 1554]\n",
      "count 9\n",
      "['Okay', 'Speaking of which, cobalt is gonna join us.', 'No reply from the others yet. ...and yeah.', '[_looks at Charlotte’s clothes_] Borrowing?', 'Hi. [_Charlotte is wearing clothes that clearly are not hers_]', '[_lets Charlotte in_]', '[_opens door_] Hello.', '[_Charlotte eventually arrives and knocks on the door_]', 3417]\n",
      "count 9\n",
      "['..He [is under the scanner or w/e]', '[_to Amarok_] Is it okay if..?', '[_headtilt_]', '[_will guide Cafall to the scanner_]', '(( yeah, you could figure it out. You could also probably find a manual trivially on the matrix ))', '(( would I know how to use it? ))', \"[_looks over her shoulder_] Oh hey. That was fast. I think the scanner is here, but I, ah, have no idea how to use it. Temper _insists_ it's dead-simple, but [_shrugs_]\", '[_happily_] _bark_', 2427]\n",
      "count 9\n",
      "[\"That's..yes\", '[*nods*] Do you wanna move to a chair?', \"I'm not sure what happened there. I lose..focus sometimes.\", '[_she takes a sip and sighs_] thanks', '[*charlotte leaves. A minute later she comes back with a glass of water, which she gives to Hopper*]', '[_a weak smile_] yeah', '[*nods*] Will you be ok if I leave for, like, two seconds?', \"I'll be fine.\", 809]\n",
      "count 9\n",
      "['Yeah...', 'That memo said something about \"discrepencies\", so it\\'s probably related to that', 'Hmm? Oh, yeah. Some kind of code, I think?', \"Wasn't there a log we found? By some researcher?\", 'I can try to find out.', 'Do we know who the Johnson was for those runners?', \"It's possible.\", \"Or thought they'd been double-crossed?\", 1197]\n",
      "count 9\n",
      "['what else', 'to start', 'i know your real name', '@Charlotte \"ur nm. rl 1\" can u translate this pls', '(( 👍 ))', '((I am going to pretend I will not be needed, because I am going to go fall asleep))', '((assuming commlinks do that, which they should, for the drama))', '[there are probably repeated \"charlotte is typing\" messages, but no actual text comes through]', 10]\n",
      "count 9\n",
      "['Sure. [_gives some space to let her in_]', '...I did not actually expect you to answer. Uh, can I come in?', '[_looks pretty haggard_]', '[_gets up, wipes face, and walks up to the door and opens it_]', '[_knocks again,  loudly_]', '[_heavy sobbing_] They should have shot me too', \"[_is kind of pacing around in the Matrix_] Oh my god, we are so fucked if _I_ have to make mental health calls and we're expecting _Shiro_ to make the comforting mouth noises.\", '[_to cobalt_] time and space are dumb', 2721]\n",
      "count 9\n",
      "[\"It's...I'm not..sure ...what to do.\", '...yes.', 'She hides...many things...well.', \"I suppose that's the point. She...they, seem to hide it very well.\", \"[_shakes head_] I don't...know her all that well. Or really much at all. I wouldn't have guessed.\", '[_quietly_] yeah', '...dying?', 'I...did not know that Shiro was.....', 2505]\n",
      "count 9\n",
      "['(( was the text to hopper a group text ))', 'Mostly solo, yeah. But she might know people.', '[*messaging @ultranos @medusa*] Did Carmen tell you what happened?', 'she works solo though right?', 'Worth a try', 'Do you think Med-Kotori might have some contacts who will spill any info?', '...shit.', 'Someone called in a _hit_ on them', 1112]\n",
      "count 9\n",
      "[\"Well, I'll leave you two to do that I guess.\", 'It is!', 'Bugging nix is always fun', \"If that's all, I'm gonna go bug Nix.\", \"[_shrugs_] Can't think of anything else.\", '[_sticks out tongue at medusa_]', \"Oh good. I was afraid I'd have to yell at you\", \"You mean, did I tell him that we were involved in robbing a megacorp-owned truck that officially didn't exist?  No, no I did not.\", 4855]\n",
      "count 9\n",
      "['Did he tell you what...?', 'Oh?', 'I was gonna help with that VPN project some more, but I guess he had something else to work on today...', '[*rolls eyes, but with a smile*]', '[_looks at the empty spot_] ...I will..take your word for it.', \"He's, uh, right over there actually [*nods toward an empty spot near the ceiling*]\", \"[*nods*] One of Cobalt's\", 'A sprite?', 3356]\n",
      "count 9\n",
      "['That’d be..nice', \"[*shrugs*] Medusa's the one you should thank. All I did was carry them up from the kitchen...oh, uh, should I get you a water, or something?\", '[_takes it; says super quietly_] thanks', '[*holds out the bottle of meds*] Here', '[_she puts her hood up and opens the door slowly, deliberately avoiding eye contact_]', '[*waits*]', '[_Turns away from the wall and looks at the door. She gets up, and you can probably hear her coming towards he door_]', \"[*practically runs downstairs, grabs meds, runs back upstairs, stops at Nix's door. Hesitates, then knocks*]\", 846]\n",
      "count 9\n",
      "[\"[_doesn't say anything, but is still listening._]\", '...shit.', \"[_pained smile_] Some decisions have worse consequences than others. And there are some you can't get out of, even if you realize you made a mistake.\", \"...he felt guilt over part of his older brother's death. Kept it bottled up for years. Eventually he dealt with it, but...well, by that time, he'd already followed his brother's footsteps into the gang. [_is quiet_] ...and their war with the cartels.\", \"[_obviously she's gonna give the big kitty a few scritches_]\", '[_to Arcade_] Too late?', \"[_Meanwhile, in the Matrix...Cobalt has sent Byakko the tiger to watch over Charlotte. Or offer pets. It's hard to tell._]\", \"*Kalahan's face contorts with pain as he growls through clenched teeth. He stalks off to a corner away from everyone else.*\", 3915]\n",
      "count 9\n",
      "[\"@Charlotte we've got the guy\", 'interrogating hm nw', '[over comms, to @Charlotte ] hows it going', 'k', '👍', 'r u ready @Charlotte', '😄', \"...you know, there is a _hilarious_ interpretation for Hopper's avoidance of Medusa\", 912]\n",
      "count 9\n",
      "['I almost set my apartment on fire the last time I tried to cook.', 'I like cooking?', '[_seems to be embarrassed_]', 'It must have taken you awhile.', '[_nods enthusiastically_]', 'Oh! Thanks.', \"It's _really_ good.\", 'Yes?', 4630]\n",
      "count 9\n",
      "['[continues to type but still doesn’t send anything]', '[possibly makes tea]', '[waits]', '[lots of typing ]', 'yeah', 'U still there', '@Charlotte r u awake', '\"ooh, right...\"  Heads out to catch a bus.', 211]\n",
      "count 9\n",
      "['We could?', \"*Kalahan frowns, then raises an eyebrow at Charlotte.* ...well, unsurprisingly, I'm always ready to eat...are we heading back to the inn, then?\", 'I think right now we should...[_shrugs_] eat?', \"[_feigns a smile_] We're working on it.\", 'Uh...', 'With...whatever was bothering you?', \"So...I still don't know what's up. [_to Charlotte_] Are you feeling better?\", '[_looks at everyone there in a state of confusion_]', 3664]\n",
      "count 9\n",
      "['Whatever it is involves Collateral, some pipes, and that worries me.', 'Of course not.', '[_sighs_]', 'Well.', \"She won't tell me\", 'My sisters apparently have decided to crash my room', 'What is going on?', 'So...', 3699]\n",
      "count 9\n",
      "['I try to forget. Everything that happened to me.', '[*she goes into the room and somewhat awkwardly sits in the desk chair*]', 'Oh, uhm, sure', 'Do you want to come in?', \"[_notices they've been standing in the doorway for however long it has been_]\", '...so what the fuck are you supposed to _do_?', 'Yeah', \"Well that's bullshit\", 874]\n",
      "count 9\n",
      "['Anytime would work. I just have to let the block party know.', '[_turns back to Hopper_] ...when?', \"She might talk more if you're there to guilt-trip her.\", '[_turns to Amarok, clearly questioning_]', '...I could...see her.', '[_shrugs a bit, nods slightly_]', '[_says nothing for a bit_]', '...are you sure?', 4711]\n",
      "count 9\n",
      "['What would happen if you got disconnected from the Matrix for longer than a few minutes?', 'You guys are just jealous', '[_chuckles, then tries to cover it with a cough_]', '[_blurts this out without realizing it_]Technomancy is..weird.', 'I’ll take your word for it', 'Heh.', \"I'd really recommend not looking too closely or trying to understand how they work. Well, not unless you really want a headache.\", \"I mean I've painted a few of them, but it's not the same\", 1306]\n",
      "count 9\n",
      "['On fire?', 'We meant to mention it, but things have been....[_waves hand around_]', 'Oh.', \"...oh, that's right. Cobalt dropped off new SINs for us.\", '[_snorts_] I mean..to go out', '[*snort*]', \"I'm not expecting to get attacked by waffles, but you never know.\", 'Safe as in...?', 2905]\n",
      "count 9\n",
      "['[_groans_] Yes', '...Might want to at least give them the CliffsNotes', \"I haven't told Akari and Julia yet about all this..\", '_Yeah._', \"[_winces_] Yeah that'll be..\", \"Oh I mean..yes of course that's scary...I was thinking about something else.\", \"I honestly don't know what would happen if Mom found out that I've been running against a megacorp that _specifically_ has an interest in technomancers.\", '[_A blank look_] What?', 4163]\n",
      "count 9\n",
      "['\"not attracted to anyone\"', 'He was..heartbroken, of course. But he misunderstood what I meant by', \"Never thought I'd ever be that charming to anyone\", '_Yup_', 'Who the _fuck_...?', '_Two months_', 'Yeah', '....Two months?', 755]\n",
      "count 9\n",
      "[\"And so I shoot. And what do you know [_gestures wildly_] there's a fragging squirrel there.\", 'He points somewhere and says \"Just shoot! Shoot it!\" I don\\'t know what the frag he was pointing at so I looked at him, confused. \"You ain\\'t seein that thing over there? Ah I\\'m real sorry. I forget humans don\\'t see too well.\"', 'We get to a field. He hands me a rifle.', \"Didn't really get a word in.\", 'Anyway, Mike\\'s sitting in one of the booths there with his buddies. He could barely fit in he was so big. He\\'s mid-sentence when he sees me just losing it. None of them other dudes paid attention. Karen\\'s trying to calm me down best she can without drawing attention, asks people to leave. Later on, after we close, I step out and I see him pacing around. He calls over to me. \"Hey, saw you had kinda a fit over in there. You know what I do? when I\\'m feeling real angry?\" I shake my head. \"Here, lemme show you.\" And for some reason, against my better judgement, I followed after him.  Went into his truck and we drove out somewhere by one of the soyfields.  On the way there he tells me his life story. [_pauses_]', \"I got real upset one day, just before closing. And I mean really upset. Plates broken, silverware scattered everywhere. I lost control..and thing is, that wasn't even the first time that had happened. I'm still in shock Karen didn't fire me right then and there after that.\", 'But..right. Where was I going with this? [_She pauses for a bit_] Sorry. Right. Your workshop here. [_She gestures around_] It reminds me of a friend...I guess. That I had there. This troll, Mike. People think the worst things about trolls but..he was the nicest guy there.', 'Buncha bithead kids thinking their little bitty boxes could measure up to a-[_catches herself, takes a breath_]', 745]\n",
      "count 9\n",
      "['[_frowns_] Is that safe..?', \"Come on, let's just all go to [*place*]\", '[_shakes head, facepalms_] But not by much.', '[_to Hopper_] Still better than Julia.', \"[_shrugs_] Well, I'm up anyway\", 'I..am not very good at this.', '[_sighs deeply_]', 'I think the universe wants us to go out for breakfast. Wanna join?', 2902]\n",
      "count 9\n",
      "['[_shakes head_]', '[_Nix is halfway out of her seat._]', 'Medusa, please...', '*Kalahan is still standing at attention, watching the pair closely.*', '[_Medusa and Shiro stare at each other._]', '[_stares at Medusa_] ...no. [_puts down tea, points to empty seat_] Sit.', 'What do you mean, no?!', \"[_facepalms_] [_mutters_] Well..at least I'm not the one causing a scene today.\", 3731]\n",
      "count 9\n",
      "[\"[_isn't quite paying attention to anything, just very focused on a cold hot chocolate_]\", '[_smirks_]', '[_makes a disgusted face_] Thank you so much for that.', \"I'm...also pretty sure she didn't have her commlink on her. Or...much of anything else.\", 'I can yell at her for ignoring her messages later.', 'I\\'m...pretty sure she didn\\'t read her email, if you sent it. I...might have sent her into overdrive to get over here. [_mutters_] Of _course_ yesterday was when she took \"a night off\".', '[_looks at hopper, seeming like she isnt sure whether to say something or not_]', 'Yeah, its....its pretty fucking bullshit, is what it is', 2860]\n",
      "count 9\n",
      "['I am not..as familiar.', \"Obviously I'm a fan.\", '*Kalahan perks up now and nods vigorously.* Yes, much yes, and obviously I’ve seen Disney.', 'Oh yes. That as well.', 'Oh, I also saw some classic Disney at the silo?', 'I am rather fond of those', 'Are you all..familiar with that classic, the Harry Potter series?', \"....I guess one of these days we'll have to do a movie night.\", 3060]\n",
      "count 9\n",
      "[\"Yeah, we might want to leave her alone, given what's happening...\", 'I can stay.', 'And...', \"I...[_chews lip_] ...I don't know if Amarok would want to leave. Just...just in case?\", \"I can be, soon, if Tachyon did want to come, and if Amarok did. I'll need to get a hold of some of the orichalcum before I left, and to let Lauren know what's up.\", \"So you're heading to the tree?\", \"All right, we've got Yuna on board.\", '*[Thank you.]*', 4346]\n",
      "count 9\n",
      "[\"[_texts @Charlotte _] no. she's hurt and needs help asap. we're not sure what her exact location is, but we can narrow it down\", \"I know, I'm asking!\", '[_texts @bitjockey_] is she already on the train?', \"That's kind of an important distinction.\", 'I....maybe?  Unless she was still trying to get _to_ the train?', 'On a train then?', \"Says she's a few hours out from South Station\", '[_sits up straight_] They did?', 4378]\n",
      "count 9\n",
      "['[_mumbles_] I see', 'She got cup one 15 minutes ago', '..Cup 2?', \"Good morning, Alex. Akari's halfway through cup 2 of soycaf, so about 75% awake.\", '[_Julia opens the door._]', \"[_After she finishes her soycaf, she knocks on Akari and Julia's door @ultranos _]\", '[_texts_] Okay thanks', \"sure, but I'm pretty sure Temper has the full suite at the Silo. he might have some basic scanning stuff here?\", 2402]\n",
      "count 9\n",
      "['[_sips some soycaf_] Wow', '[_to Charlotte, nods_] mm', '[*Charlotte gets her tea and a mug of soycaf, then comes back out to the living room and puts the soycaf on the table in front of hopper before sitting down*]', '[_takes the painkiller and drinks_]', '[_mumbles and nods at Julia_] Thank', \"[_Julia will walk off and then come back with a painkiller and a glass of water. Akari has managed to stumble off the couch towards the soycaf pot. Or the rest of you. It's hard to tell._]\", \"Just sit, I've got it.\", '[_mumbling_] Mrrhye', 2766]\n",
      "count 9\n",
      "[\"[_Doesn't respond; continues just staring off into space as if lost in thought_]\", 'You want to kill anyone else?', 'Hm.', '...................yes', '[_She stares off into space to the shelf across from the front door_] ......', 'Have a death wish or something?', '[_The metal glints as she spins it over her knuckles._]', '[_Medusa raises an eyebrow_]', 622]\n",
      "count 9\n",
      "['A replica of something, is what they said. But Shiro raised concerns that what they bought at the hardware store could be used to assemble something...explosive.', '[_perks up and says something about maybe Charley could sculpt it out of sand_]', \"Do you know _what_ they're planning on building?\", \"Well, if they _are_ planning this, it's probably best to convince them otherwise. Not only because I'd like to be able to come back here.\", 'What do you all think?', 'Might want to keep an eye out for him anyway.', '...all right.', \"[_to the other 3_] Guess he's...pre-occupied. One down..\", 3766]\n",
      "count 9\n",
      "['1t5 f1ne', '...', \"i wasn't commenting on like. what happened. with yours.\", \"i just mean, i _didn't_ have one for...awhile...and it wasn't great\", \"i'm sorry i didn't mean it that way\", 'wait shit', 'better than the alternative', 'W4t 1s 1t l1k3 h4v1ng 4 f4m1ly', 92]\n",
      "count 9\n",
      "['I talkd to ur sis', '...hi?', '@Charlotte hello', '\"I am dead, my parents and brothers are dead, only my sister and the rest of my family are alive. My staying dead is all that\\'s keeping them from joining my parents and brothers. Rauli\\'i, above all, must be kept safe until I can find who did it.\"\\n\"No one else can know I\\'m alive.\"', '((👀))', \"glad we're on the same page\", 'we have to fight them. i cant fucking let this happen to more people. Fuckthat', \"so if you never want to be around me again, that's....ok...but i think we should finish this one thing first\", 85]\n",
      "count 9\n",
      "['I understand why you did it', 'Yeah but..', 'but I dug into your personal shit. I crossed the line.', 'I dont', \"i don't understand\", 'but you hate me', 'yes?', '((I am on the floor dying))', 140]\n",
      "count 9\n",
      "['[_finds a place to sit_]', '[_stands there looking between the paper and the others, then folds up the paper and shoves it in her pockets. _] Sure. [_enters_]', 'Come to join the after party? [_wry smile_]', 'Hey', \"[_sighs_] There's no easy answer.\", 'Uh...', '[_The door is open._]', '[_tries to find where the siblings are so she can slip that note through the door_]', 3929]\n",
      "count 9\n",
      "['no. I just wanted to clear up some stuff with you.', 'Is there something wrong with your prescription?', 'It depends.', 'Is this a good time?', '@ultranos @nix Hi', '.....wait fck we nvr tlkd abt hppr pls txt me on ur brk or smthn shit', 'ok fine go sv livs or whtvr :p', 'I really do have to get to the clinic, though. Kael is sending frantic messages.', 154]\n",
      "count 9\n",
      "['[_She stares off into space to the shelf across from the front door_] ......', 'Have a death wish or something?', '[_The metal glints as she spins it over her knuckles._]', '[_Medusa raises an eyebrow_]', \"That's too bad\", \"[_blandly_] If I was, you'd been dead as of twenty minutes ago.\", '[_She is still sitting on her bed with her legs on the floor. She sighs_] are you here to kill me\\\\', '[_Medusa unfolds herself from her perch and slides into a chair, sitting in it backwards. She starts playing with a piece of metal she got from...somewhere._]', 620]\n",
      "count 9\n",
      "['I’m gonna need another soycaf.', '[unless the GM wishes to interject mischief, Collateral will proceed straight away]', 'Not even a day later and we’re already knee deep in some drek.', '[*grimaces*]', '[_sighs_] And here I thought we’d at least get some time to breathe.', '[*hangs up*]', 'Oh...sound smart...right...uhm...well, let me get there...and...yeah...', \"Security upgrade, remember? ...Might take a look at your comm too, make sure it's fully locked down.\", 1147]\n",
      "count 9\n",
      "['So there are...gaps too? In your memory?', '[_stiffens_]', 'I...remember the tank. But...near the end...things are chaotic. The memories...slip.', '[_sighs_] They tried to...program me, I suppose. Simsense. Simulations. Drugs, I think.', '[_looks concerned_] ..what do you mean?', 'Now...I think...it was the same as you.', 'I...remember much...of it. I...lose sense of time...near the end.', 'It is...unpleasant.', 3468]\n",
      "count 9\n",
      "['[_becomes agitated_]', '[_waits patiently_]', 'Well I...Uhm.....I just..', \"Don't...don't take that the wrong way, I'm _happy_ you are, if that's the case. But it's...been awhile since I've seen you invested like this.\", \"...you care a lot, don't you?\", \"It's...I'm not..sure ...what to do.\", '...yes.', 'She hides...many things...well.', 2507]\n",
      "count 9\n",
      "['Uhm...that...that is an _excellent_ point.', \"[_amused_] And you're asking him and not my sister because...?\", 'But yes.', \"[_finds a nearby seat_] Uhm..that's..certainly a way of putting it.\", '[_snort_]', 'A common phenomenon.', 'Hey. [_Charlotte will drop into a seat near cobalt_] So, hopper has Shiro questions', 'Hi', 4135]\n",
      "count 9\n",
      "['She’s the best', '_::wanders into the kitchen::_ Hey, you would not believe the gym.  Really nice.  Nix did an amazing job on these, I can lift already. _::flexes::_', '_::wanders out to find the kitchen::_', '[ @Omnilord]: kitchen', '[to no one] \"Thou?\"  What kind of autocorrect nonsense is that?', '_::switches to deltoids then remembers his phone is actually useful, puts the freeweights on the frame and checks his phone::_ Oh... _::looks around::_  [texting back] wear is thou?', '[_nods_] it sounds like they’ll give us more information once we have a definite answer', \"Personally if I'm doing this, I want to be as informed as possible.  If I'm gonna be panicking I might as well know _why_\", 1416]\n",
      "count 9\n",
      "['[_goes to fetch water or tea if they have any_]', \"[_Shiro doesn't move and although she's clearly noticed Hopper, it's also clear her attention is split between Amarok and Kalahan as well_]\", '*Kalahan breathes in through his nose, but it sounds shaky and stuttered, and the exhale that follows is equally as unsettled. His gaze looks very distant, but he does seem to be slightly gravitating towards Shiro.*', \"[_Amarok goes over to both of them, and then buries her head into Shiro's chest, holding on tightly. Shiro's mechanical hand automatically goes around her waist and she rests her chin on Amarok's head. However, Shiro doesn't move, and will keep her leg pressed to Kalahan's side, as if trying to ground him._]\", '[_frowns_]', '[_looks up from Kalahan at Hopper and Amarok. She still has her hand on his shoulder_]', 'What...are you okay?', \"*When Amarok and Hopper see Kalahan, they'll see the biggest, most muscular of them all curled in on himself, looking awfully small, and just frowning at the floor with his upper lip caught by his teeth. He doesn't notice them at all.*\", 4778]\n",
      "count 9\n",
      "['We could always use another hand..', 'You _definitely_ need to talk to her', \"Oh hell yes, long story short, she's been burned by them before and she's very much a people's hero.\", 'Would they be cool with taking on a megacorp? And on short notice?', \"More or less, yeah, I know the gist of the plan. And if we need their help, I've got two old pals I need to catch up with that might be able to lend a hand. One in particular, if I understood the plan right; she's a shaman, and much more adept than I.\", 'Are you all caught up?', \"That's...nice.\", '*He throws up his hands.* I was stuck in a concrete box for forever, it was maddening! I needed nature time, and Lauren volunteered to come along.', 4090]\n",
      "count 9\n",
      "['[_smiles_] Morning. Did you uhm, sleep well?', 'Hn.', '[_Julia prods Akari_]', 'Good morning.', '[_glances at Akari and Julia_]', '[snort-laughs] heheheh yeah! Not again.  [heads for a plate of food & soycaf]', '[_Julia drags in a not-at-all-awake Akari in, prods her into a chair, and then gets her soycaf. Akari automatically wraps her hands around the mug._]', 'I thought the rule was about sleeping _dogs_', 1579]\n",
      "count 9\n",
      "['Don’t know how..to bring that up.', 'Well. I..would be fine with that. I...', \"[_looks back up_] It's not necessarily a _bad_ idea. But...it'd be both of you.\", '[_blinks, mouth agape_] Oh.', '[_quietly_] ...and now that I see _this_ [_glance down at document_] a lot more things about her make sense.', '[_to Hopper_] If you both wanted.', 'Shiro. Helping Alex? Maybe?', '[_looks up from document, startles_] Hm?', 3386]\n",
      "count 9\n",
      "['What happened?', \"[_softly_] I'm sorry.\", \"*Kalahan purses his lips and sighs.*\\nThere's...something, this month, it's...\\n*He suddenly scowls so harshly, out of nowhere, and almost growls.*\\nI refuse to call it an anniversary, it doesn't deserve the honor, but...\\n*The scowl eases somewhat, but remains on his face. His beard practically bristles.*\\nIn little over two weeks, it'll have been another year since...something happened...\", \"You don't have to keep it all in.\", 'You sure?', \"*He goes a little blank, like he's trying to play it casual.*\\nNothing's changed, I'm fine.\", 'Off?', '[_so that only he can hear_] You alright? You seemed a bit...uh...', 4665]\n",
      "count 9\n",
      "['[_takes one_] Thanks.', '[_rummaging in pockets, pulls out 3 cheap comms_] Here.', '[_distractedly_] Damien.', 'Car belongs to an \"uncle\" of yours.', \"There's already a credstick there [_there is_] that has a SIN attached. SIN's fake, but legit enough to cover this.\", '[_checks the glove compartment_]', '[_sighs, shakes head_] Check the glove compartment.', '[_giggles and take a draw on his lho stick_]', 4815]\n",
      "count 9\n",
      "[\"But..let's not get off track here. [_to Amarok_] That's...what do you mean...what's wrong?\", '[_looks a little pale_] _Christ_', '...Right. That was _her_.', 'They _supposedly_ had a last stronghold in Seattle, but...suddenly *poof*', \"[_looks at Hopper strangely_] This isn't exactly news. It happened over ten years ago. But the Red Dragon Association went to war against the Yellow Lotus. Yellow Lotus lost.\", '[_looks at Tachyon expectantly_]', \"...there's only one Triad that's gotten wiped out recently.\", 'Well...they no longer exist. Shiro made sure of that...', 4409]\n",
      "count 9\n",
      "['[_glances at the kitchen_] ...literally', 'On fire?', 'We meant to mention it, but things have been....[_waves hand around_]', 'Oh.', \"...oh, that's right. Cobalt dropped off new SINs for us.\", '[_snorts_] I mean..to go out', '[*snort*]', \"I'm not expecting to get attacked by waffles, but you never know.\", 2906]\n",
      "count 9\n",
      "['You were in a pretty bad state. I hope you are recovering well.', 'How are you doing?', \"and second of all it's fine, the job was rough but we're good\", 'ok so first of all now I know why my sisters get weirded out when I text them with normal words', 'I want to apologize for yesterday. My performance, re: the job, was not up to par. I should have been more jacked into the situation, but failed to find some focus there. I noticed as well that you were upset at something I asked. I hope this has not caused you further turmoil.', 'hi', '::the soycaf has kicked in and she is a bit more lucid::', '[[ commlink txt chat ofc ]]', 412]\n",
      "count 9\n",
      "['[_at the library; softly_] This is stupid. [_gets up and takes the book with her and heads to the common room again_]', '😛', 'it was rhetorical', 'of fucking course not', \"...you're asking me?\", \"is it possible to have a crush on someone you haven't met?\", 'i take back what i said about being impressed by you.', 'shiro provided it', 1732]\n",
      "count 9\n",
      "['I...', '[_shrugs_] With Cobalt, who knows.', 'Is that...was that really a thing?', '_What_', '[_bursts out laughing_]', '[_nearly chokes on soycaf_]', \"Or...actually, if he'd have to hack one of your student's accounts and steal theirs.\", \"Cobalt was wondering if he'd have to make a slide deck.\", 2106]\n",
      "count 9\n",
      "[\"[_softly_] I'm sorry. For everything...that you had to go through...that uh..the last you heard of me, I was dead. But I'm here now.\", \"[_sounding hoarse_] It's been...a long 11 years.\", \"[_Akari gently places a hand on Hopper's back._]\", '[_is very starved of genuine affection so accepts the hug but is still very much trying not to cry_]', '[_Julia is not holding back tears, and will pull Hopper into a hug if allowed._]', '[_is fighting back tears_]', \"[_Julia lets go of Akari's hand and will tentatively try to brush hair out of Hopper's face_]\", '[_whispers, eyes shiny_] So am I', 1502]\n",
      "count 9\n",
      "['[_looks at Julia_]', 'Everyone messes up. Because everyone is metahuman.', \"[_looks unimpressed_] I'm going to tell you the same thing I told a certain student of mine many years ago.\", '*Kalahan very much heard that ‘just like your mother’ bit, and his scowl’s deepened. He finally looks up and glares at Temper.*\\nI don’t mess up. **We** don’t mess up! A Tar–\\n*He cuts himself off and shakes his head, closing his eyes and holding the necklace up to his lips now.*', '[_watches them quietly_]', 'The trick is what you do _after_.', \"I've lost count of the number of times I've messed up.\", \"[_sighs, mutters something under his breath that sounds like 'just like your mother'_]\", 1595]\n",
      "count 9\n",
      "['[_tilts head_] You have a point.', '[_glances away_] Better to spend my time actually _doing_ something that affects someone, right?', \"I assume they're all universally terrible.\", \"[_incredulously_] You don't pay attention to that sort of thing??\", \"...they're totally gonna make me actually pay attention and _vote_, aren't they.\", 'Not really my scene.', \"You don't enjoy electioneering?\", 'Well, that sounds like...exactly not my type of fun.', 4865]\n",
      "count 9\n",
      "[\"It's..a long story.\", 'The what now?', '[_looks around_] Same deal as the squirrels, yeah?', \"I'm...wow, why is this answer complicated?\", '[_follows along_]', '[_to Tachyon_] So...you are...?', '[_Tachyon and Yuna will follow_]', 'Yeah...there’s uh...big treehouse I built up in the branches. Come on!\\n*He revels the hidden ladder and climbs up.*', 4365]\n",
      "count 9\n",
      "['Why do I have a feeling whatever these...hijinks are will get everyone in trouble?', 'Ugh.', 'Yup.', 'Lots to worry about today', '[_appearing behind Charlotte_] And Medusa not wanting to talk worries _me_.', 'Whatever it is involves Collateral, some pipes, and that worries me.', 'Of course not.', '[_sighs_]', 3701]\n",
      "count 9\n",
      "['[_to Medusa_] Holy doodle, yes. [_sighs in relief_] That would be _lovely_.', '*Kalahan is way too invested in looking around the garage to even pay attention.*', '[_to Hopper_] Would you feel better if someone stayed behind, Auntie?', '[_shrug_]', \"Based on what you're saying, I can have it ready for you in a few hours. You're probably better off grabbing lunch somewhere.\", '[_Medusa and the woman will come back after some time. They seem to be getting along._]', '[_texts_] I mean, odds are the other person is a decker', '[_texts_] ???', 4840]\n",
      "count 9\n",
      "['[_to Thea_] Do you want anything to drink?', 'Oh. O-okay. [_she looks down at the table_]', \"[*shrugs*] Like I said, I've been here a _week_ and never even knew he existed until like an hour ago. So apparently he's easy to avoid.\", \"[_shakes head_] S-sorry. I'm just...n-not good w-with animals.\", 'He seems really friendly though', 'Oh. [_curls up a little_]', \"He's a husky\", 'It...sounds like a big one', 1673]\n",
      "count 9\n",
      "['I think..it’s best. To keep..my mind off..this drek.', '[_nods_]', 'Turn your brain off for a little bit?', '...maybe take a break? Can you?', '[_closes eyes_] I can’t anymore', '...feeling a little on edge. It’s..too much.', '...Alex, what is it?', '[_starts fidgeting, clearly becoming more agitated_]', 3337]\n",
      "count 9\n",
      "[\"I'll see you all later. I...need to take care of something. [_heads off in a different direction_]\", \"You're very welcome. It was hard not to notice...it's pretty bright, hehehehe.\", '[_nods_] Thanks', \"[_shrugs_] Kalahan's the one who noticed.\", 'Yeah, I would appreciate his help, for sure. Thank you both for letting me know about, ah, all this.', \"I'm really not an expert in this part. But...he's an Adept so he probably has something useful to say.\", 'Oh?', 'Oh. I...have a cousin I could ask?', 5360]\n",
      "count 9\n",
      "['That too.', 'Can I vote for \"completely confused\" _and_ \"vaguely terrified\"?', 'No, I am still confused.', 'So that was interesting.', '[*after the car has gotten underway*] ...So is everybody else _completely confused_ or is that just me?', '[_Eliza takes the blue jacket from Rin and heads out. Shiro will drive over to the hotel, once Eliza tells you which one. You have one (1) short car trip to discuss anything._]', '[_takes his hand_] Hotel suite sounds good.', \"*Kalahan took a deep breath, and dutifully ignored the way it stuttered.*\\nYes, please...let's...\\n*He looks over at Lauren with a very confused and pathetic puppy dog face.*\", 5187]\n",
      "count 9\n",
      "[\"Isn't this the month you met?\", '[_smirks_] What she said.', 'Depending on how you count [_smirks_]', '_A month_.', 'Oh?', '[_Akari and Julia freeze_]', 'This is not related but...[_gestures at the moms_] Their anniversary is coming up.', '[_laughs_] Thank you for the compliment, Kalahan.', 4637]\n",
      "count 9\n",
      "['[_puts head in hands_] Ugh', '[_sits up slowly_]', '[_comes up behind Julia, speaks just as quietly_] Hey kiddo. What happened?', \"[_still soft_] You're in the infirmary. You passed out. Shiro...carried you here.\", '[_groggily_] where..what happened', '[_softly_] Hey.', '[_Julia reaches the bed._]', '[_Julia comes over from the other room, Temper and Akari (who showed up and joined them when no one was watching) following somewhat more sedately_]', 2704]\n",
      "count 9\n",
      "['Oh?', '[_holds up duffle bag_] I did pack some classics.', 'Alright.', '...So there will be options.', '[*charlotte will name some games that he and kalahan totally talked about in the days leading up to this*]', \"Do you know what we'll have to play? I don't even know what Kalahan enjoys playing...\", 'Should be an interesting evening', 'Yeah.', 3863]\n",
      "count 9\n",
      "['Yeah.', \"That's good. Better.\", '[_sighs_] ...better than yesterday.', 'How are you feeling?', 'Looks like it. [_smiles weakly_]', '[_softly_] Good morning. Akari still out?', '[_softly_] Hello', '[_Julia stirs._]', 3320]\n",
      "count 9\n",
      "['Oh?', 'I...probably did.', 'Yes, well...I had limited access. After some time.', '*He stares at Hopper for a moment before he sighs and nods.* That explains a lot, actually...', 'No.', 'You’ve never seen a Disney movie?', 'I am not..as familiar.', \"Obviously I'm a fan.\", 3063]\n",
      "count 9\n",
      "['What happened yesterday', 'I just..', \"Just something I made for Mom awhile back. [*beat*] What....uh....what's up?\", 'Oh, what’s that? [_is looking at something that she thinks might be Charlotte’s art_]', \"[*looking around, hopper will see more art that she might recognize as charlotte's style*]\", '[_looks anywhere but Charlotte again_]', '[*takes hopper up to the study, closes the door behind them*]', 'Upstairs works fine', 795]\n",
      "count 9\n",
      "['Ha.', 'She liked to practice being sneaky, and he got tired of waking up in the middle of the night to find her messing with his stuff.', '[_raises eyebrow_] Do tell.', '...Actually, he _definitely_ had a ward on his bedroom door for awhile to keep Medusa out.', 'Any help we can get matters.', '[*thinks*] I suppose I could ask Gadget. Not sure how experienced he is with wards, though....', 'Right.', \"...I don't even know how worried I should be about that.\", 3183]\n",
      "count 9\n",
      "['It..all reminds me. Of thie things I went through', 'Or what you need.', \"Alex...I can't help if I don't know.\", '[_shakes head again, increasingly agitated_] Just...all of it', 'You...suggested some of what might have happened to her.', '...something specific that brought this on?', 'Was there...', '...oh.', 2512]\n",
      "count 9\n",
      "['[_knocks_]', \"[_heads to Cobalt's_]\", \"I'll be back.\", 'Hmm. Alright.', 'Still, she ran out of here awful fast', \"She's with Cobalt. Probably just doing her..technomancer stuff.\", '[_texts_] wth cblt', '[_texts_] Where r u', 3278]\n",
      "count 9\n",
      "[\"I..don't know.\", '[_quietly_] How...long?', 'And the other bit?', \"There wasn't anything...major.\", 'No, thankfully...', \"Anything wrong, I mean. [_she reaches to take Shiro's hand and pull her down onto the couch_] And is there anything you need?\", '[_softly_] And...was there?', \"[_Shiro's fists are clenched._]\", 5149]\n",
      "count 9\n",
      "['Speaking of...I owe someone an apology today.', \"[*texts*] how's she taking it hopper?\", '[_snort_]', 'Plus, you saved our asses.', '[_nods_] He certainly sold me on it.', \"Arcade's probably the one person in the damn world who could have told me about his crazy plan to make things better and sell me on it.\", \"And I'd worked with him before. I knew he could backup whatever he was spinning. And if the world hadn't beaten the idealism out of him yet, it ain't ever going to.\", \"I knew Arcade was a good guy. Idealist that somehow hasn't gotten that kicked out of him yet, but a good guy.\", 4733]\n",
      "count 9\n",
      "['? u alright?', '[*there is a long pause, during which charlotte is now pacing around her apartment*]', 'pure greed', 'what _fucking price_ is enough to pay off _that_?', 'Las Vegas', 'maybe but whose 2 say a high lvl technomancer wouldnt work with them for the right price', \"this feels more like...paranoia, I think? rather than malice. But that might just be what I'm supposed to think\", 'cobalt is _also_ a technomancer, first off, so that seems unlikely. but also this is way overly complicated for something like that.', 595]\n",
      "count 9\n",
      "[\"[_quietly_] When someone loves you, they'll help you carry that...burden.\", \"I don't know...how to tell her some things...without it hurting.\", \"[_sighs_] I don't...want to put it on someone...unnecessarily.\", 'Is it too painful?', '[_nods_]', '...not even...', 'To anyone.', \"I can...see that. [_sighs_] There are...things, from then, that I...haven't talked about.\", 3461]\n",
      "count 9\n",
      "[\"I'm not affected, but Shiro's is..even worse than it looks.\", \"[_slightly alarmed_] That was fast. What's wrong? How bad is it?\", '[_is concerned_]', '[_Walks in looking solemn_]', '[_Heads back to her apartment_]', \"[_He'll turn to stare again at the datasets, lost in thought._]\", '[_nods_] It was a good thing to check.', '[_softly_] Thanks. I should let the others know.', 2856]\n",
      "count 9\n",
      "[\"What's up?\", '[_quietly_] What the fuck.', '[_shakes head_]', '[_asks if he can see the boy in the picture_]', \"Sure. Here's Kamaitachi [_a weasel with a set of sickles appears with the message_]\", '[_She messages cobalt and asks to borrow a sprite for a minute_]', '...Ok, this is getting weird.  ...-Er. Weird_er_.', 'What am I supposed to be looking at?', 5288]\n",
      "count 9\n",
      "['do u..think it was a real accident? or an \"accident\"? i didnt fall for the bullshit ppl were giving me. my parents were murdered', 'oh...', 'no', '[very long pause]', 'were u adopted soon after?', 'like...three? maybe?', 'an accident? how old were u', \"i...think there was an accident? don't really remember.\", 181]\n",
      "count 9\n",
      "['this stuff needs 2 b stoped', 'and yeah after we last met at the su i popped open some whisky and kind of drank the nite away', 'i cant remember if we figured this out but jic. maybe we can watch the flow of \"customers\" into and out of the bunraku before we try to exctract her, and see if theres any1 who might be keeping an eye out there  / hidden security. i kno theyre not exactly expetng thier victims to just up and leave but we should have some contigencies in place', 'and i have never wanted alcohol more in my _life_', 'yes', 'you were able to connect to their cameras right?', 'comes w the territory i guess. i question my life choices', 'i mean, there are still a million ways it can go wrong', 173]\n",
      "count 9\n",
      "['Drek.', '(( ugh why did I come up with such a brooding character 😛 ))', \"[by the time she wakes up, it's already 13:00]\", \"[has not really done anything since messaging Charlotte. She just walked back over to her bed that's too small for someone of her height and lay (lied?) down and has been sleeping since. The pillow is not exactly the most comfortable thing, either. Somehow, though she's knocked out for a few hours until it's early afternoon]\", '(( 🍿 ))', \"**Back at hopper's studio apartment**\", '((do iiiiiiit))', \"(( you know it is very tempting to just continue with hopper's day ))\", 428]\n",
      "count 9\n",
      "[\"I wouldn't know for myself, sure. But someone did try to propose to me and since that...experience [_shakes head_], I've..tried understanding what the fuck that was. But...[_snickers_] It's funny because...when I was walking there with your...you know. I wanted to bring up how you've been spending a lot of time together lately.\", '[_looks in the direction of amarok and cobalt_]', \"Oh, like _you'd_ know.\", '[_incredulously_] Sure.', 'I just....put some things together.', 'Wait. How do you _know_ ?', '...oh jesus', 'Like...an hour ago? When we were all walking here.', 3650]\n",
      "count 9\n",
      "['It would probably help to know how many...hostiles there are.', '[_nods_] Yeah', '[*to @bitjockey*] So...robot defenses?', '[_Nix attempts to make small-talk with Amarok_]', \"It's fine.\", \"[*notices Susan, but doesn't comment*]\", '[_subconsciously puts Susan on as a mitten_]', \"[_Cafall wanders over to lay down under Amarok's seat. She scratches his head_]\", 2389]\n",
      "count 9\n",
      "[\"I guess I'll go with water then. [_heads back to the scene with the curled up troll_]\", \"[_You are able to find water. A member of Block Party looks at you blankly if you ask about tea, and points you in the direction of the nearest Dunkin'_]\", '[_goes to fetch water or tea if they have any_]', \"[_Shiro doesn't move and although she's clearly noticed Hopper, it's also clear her attention is split between Amarok and Kalahan as well_]\", '*Kalahan breathes in through his nose, but it sounds shaky and stuttered, and the exhale that follows is equally as unsettled. His gaze looks very distant, but he does seem to be slightly gravitating towards Shiro.*', \"[_Amarok goes over to both of them, and then buries her head into Shiro's chest, holding on tightly. Shiro's mechanical hand automatically goes around her waist and she rests her chin on Amarok's head. However, Shiro doesn't move, and will keep her leg pressed to Kalahan's side, as if trying to ground him._]\", '[_frowns_]', '[_looks up from Kalahan at Hopper and Amarok. She still has her hand on his shoulder_]', 4779]\n",
      "count 9\n",
      "['I did not realize I went on some with Mike (( the Troll who proposed to her ))....', '...You have suggestions?', \"Listen...this is not to say I'm...a romance expert, but...if you need date ideas....\", '[*is **definitely** blushing*]', \"Oh I'm sure....well, for what it's worth...you make a cute couple. [_grins_]\", 'That is...wow.', \"I'm still feeling a little blindsided, honestly\", 'I _know_', 3783]\n",
      "count 9\n",
      "['[_after some time she knocks on the not moms door_]', '[_Prepares a cup of ~~coffee~~ soycaf. The dream—or nightmare rather, lingers._]', '[_Wakes up from dream feeling groggy, curls up in bed for a bit thinking about it_]', '[_a few days later (7.12)_]', 'Catbus is a gift.', 'They did not appreciate the beauty that is catbus.', 'Well they are wrong.', 'Bullies deserve what they get.', 3073]\n",
      "count 9\n",
      "['[[_takes a deep breath_]', '_Do_ you have something you need to talk about?', '[_looks unconvinced_]', \"[_shakes_] No, you didn't. That was more important anyway.\", \"[_thinking_] ...you said you were planning to visit Julia, before. I didn't keep you from something important,  did I?\", \"It's nothing.\", 'Hopper?', '[_sighs_]', 5144]\n",
      "count 9\n",
      "['[_to Akari, Julia, etc_] I’ll go and see what that’s about. [_heads out and follows the sound_]', '[*quietly*]....Medusa will never believe me', \"[_You see Cafall take a running leap onto the couch where Amarok and Shiro are, and somehow Shiro manages to keep her mug of soycaf from going flying as approximately 50lbs of dog land on her chest. Amarok bursts into laugher as Cafall starts licking Shiro's face._]\", '[_puts down mug_] what the hell was that sound?', '[*follows the dog to the common room*]', '((yeeeep))', '(( can I hear his bark? ))', '[_texts_] ok', 1655]\n",
      "count 9\n",
      "['Anyway, Mike\\'s sitting in one of the booths there with his buddies. He could barely fit in he was so big. He\\'s mid-sentence when he sees me just losing it. None of them other dudes paid attention. Karen\\'s trying to calm me down best she can without drawing attention, asks people to leave. Later on, after we close, I step out and I see him pacing around. He calls over to me. \"Hey, saw you had kinda a fit over in there. You know what I do? when I\\'m feeling real angry?\" I shake my head. \"Here, lemme show you.\" And for some reason, against my better judgement, I followed after him.  Went into his truck and we drove out somewhere by one of the soyfields.  On the way there he tells me his life story. [_pauses_]', \"I got real upset one day, just before closing. And I mean really upset. Plates broken, silverware scattered everywhere. I lost control..and thing is, that wasn't even the first time that had happened. I'm still in shock Karen didn't fire me right then and there after that.\", 'But..right. Where was I going with this? [_She pauses for a bit_] Sorry. Right. Your workshop here. [_She gestures around_] It reminds me of a friend...I guess. That I had there. This troll, Mike. People think the worst things about trolls but..he was the nicest guy there.', 'Buncha bithead kids thinking their little bitty boxes could measure up to a-[_catches herself, takes a breath_]', 'I know the feeling', 'it took all of my effort to keep my screamer shut and not send one of my own  bots after them all', '[*is very sympathetic to this rant*]', \"[_Goes into an impassioned rant about how some of the students in the engineering school annoyed her, and how they didn't really know what the frag they were talking about most of the time._]\", 741]\n",
      "count 9\n",
      "['Wow that’s quite a..love story.', '[_Charlotte eventually stops sketching and just frowns down at the paper_]', 'Despite, you know, having her literal _job_ be blending in with normal people.', \"Turns out _she'd_ been interested in me and had _no idea_ how to let me know that.\", 'Anyway...met, got to know each other...then it took me a solid six months of flirting to get this one to get a clue. I finally just gave up and _asked_.', 'Huh.', 'I was...drifting. At the time.', \"I'd run with Arcade before, a ways back. We actually dated for a bit, but, well...didn't work. But we got along well enough and I trusted him professionally, so when he called about his crusade... [_shrug_] He somehow convinced Shiro to join up.\", 1835]\n",
      "count 9\n",
      "['[_smirks_]', 'Life outside the pillow isn’t so bad.', 'There we go.', '[_lowers pillow_] _You make a compelling point_', \"[_to Medusa_] But if you live behind the pillow now, you can't see the cute puppy.\", 'Cannot relate.', 'Ah. Siblings.', '[*to nix*] I think we broke her.', 3042]\n",
      "count 9\n",
      "['[_answers the door, finally_]', '[_Shiro goes and comes back with more tea, including the pot Charlotte and Amarok are drinking_]', '*whine*', '[_Shiro shifts, trying to get up. Winces slightly. Cafall lets her up after she rubs his head._]', '*bark*', 'And it gives me something to _do_ instead of just worrying', \"...it's...a thought.\", \"That's...hm. [_considers_] might be worth taking another look at that runner team\", 4878]\n",
      "count 9\n",
      "['[_texts_] ok ill b there', '[*texts*] rec rm', '[_texts @Charlotte _] hey. where r u', '[_reads the note and smiles, and then eats (finally). After doing so she will text Charlotte_]', '[_The apartment seems to be empty. Although there is a note left: \"Akari went to play with robots. I\\'m in my office. There\\'s more food in the fridge. -Julia (aka Mom?)\"_]', '[_looks around_]', '[_someone put a blanket over Hopper_]', '[_after some time, will wake up_]', 3347]\n",
      "count 9\n",
      "['You know...all of you..are cute couples.', 'So uhm, what did..I miss?', '[_gets a mug and fills it with soycaf, then sits down by the others_]', '*Kalahan is absently nomming on pastries as he watches the interaction, beaming all the while.*', '[_Lauren goes to carefully greet Cafall, who allows it._]', \"He's friendly, but just don't crowd him or go too fast before he gets used to you. He's trained as a working dog.\", '[_to Amarok_] Can I...?', '[_Akari and Julia also introduce themselves._]', 2077]\n",
      "count 9\n",
      "['(( I have Regrets about this but I am committed so ))', 'plans are great', 'a plan!', \"i'll txt u gys aftr The Intrdctn, lt u kno wht i thnk of hr\", '👍', 'good', 'she wll b _thoroughly vetted_', 'about the gf', 324]\n",
      "count 9\n",
      "['We should..listen to it sometime. Not...at this moment.', 'I am sure it does.', \"[ _walks in_ ] So, yeah, someone in Block Party put some really interesting [ _tries to pronounce something in Or'Zet, but it comes out like more garbage noises_ ] music on my comms to listen to.  Ork music is really weird, but...feels good in the ear...\", 'Please, come in.', 'Uh, hi. No, I did not hear anything.', '[ _turns and makes some sort of weird garbage sound before taking his earbuds out_ ] HI!  [ _eyes go wide and lowers his voice_ ]  oh my....was I really that loud the whole way over?  Sorry.  Hi!', '[_to Charlotte_] it seems Collateral has arrived. I will go and retrieve him. [_will go and meet him_]', '[ _short time later you can here someone screaming (is that_ singing?) _in OrZet out front.  You get a text message back_ ] sure...which ape?', 2552]\n",
      "count 9\n",
      "['[ hopper puts down her commlink and just stares into space for a bit ]', '[ also a long pause ]', 'do you have _any fucking clue_', \"do you have _any idea_ what you're suggesting\", '? u alright?', '[*there is a long pause, during which charlotte is now pacing around her apartment*]', 'pure greed', 'what _fucking price_ is enough to pay off _that_?', 597]\n",
      "count 9\n",
      "['...yes. That.', 'Ah.', \"We're trying to get amarok and tachyon to spend some time together\", 'Yes. The..activities that one does. For leisure.', '[_pinches bridge of her nose_]', '...a \"recreational way\"?', \"...._that's_ how you're putting it?\", '[_sends Charlotte a disbelieving look_]', 3120]\n",
      "count 9\n",
      "['[_shrugs_] Wing it?', \"_I don't know! _ I've never done this before!\", 'Interesting. So...if he does...reciprocate....what do you do...?', \"I.....don't think so? Not...entirely, anyway.\", '[_quietly_] Is that why?', 'Mhmm.', \"Do you know how many other technomancers I've met? _zero_\", 'Sure.', 3656]\n",
      "count 9\n",
      "['[_notices Charlotte_] ...what’s wrong?', '[_snorts_] Still a better love story than..ah, what was that thing from the 2000s? Uh..anyway. The love you share is tender and sweet. Something..likethat.', 'I guess for Shadowrunners.', 'Wow that’s quite a..love story.', '[_Charlotte eventually stops sketching and just frowns down at the paper_]', 'Despite, you know, having her literal _job_ be blending in with normal people.', \"Turns out _she'd_ been interested in me and had _no idea_ how to let me know that.\", 'Anyway...met, got to know each other...then it took me a solid six months of flirting to get this one to get a clue. I finally just gave up and _asked_.', 1837]\n",
      "count 9\n",
      "['Uh. Wiz. Is this...something...a non-technomancer such as myself can..Appreciate?', 'A pretty impressive one.', \"Uh...I'm working on a project.\", '...what is going on here', '[_blinks_] ....O...kay?', 'Was just...[_looks around_] checking on..you', '...Something going on?', '...hello.', 3285]\n",
      "count 9\n",
      "[\"(( also it's only been like 2 days since the run, in-game ))\", '((you have a \"hey I have some questions for you\" text from charlotte from like a day ago))', \"((who da fuck we talkin' about, lol))\", 'but first hes gotta fuckin _text me back_', 'yeah', 'Is this sum1 uve met in person & can contact again? Maybe kalahan could figure out this persons deal', \"if there were this'd be a lot easier\", 'no shamans in the family', 484]\n",
      "count 9\n",
      "['(( 🍿 ))', 'i do nt hv th enrgy 2 frk out mr 2dy', \"i'm not stupid, the rope is rated to hold onto a troll carrying a tank\", 'u bttr b', \"oh my god, i'm tied in\", 'mdusa no', 'nearly make me fall off a building', 'lol you deserve it for that one', 323]\n",
      "count 9\n",
      "['Yes.', 'but yeah, starting on food seems like a good plan', 'Right, right.', \"some of us don't do alcohol\", 'The rum.', \"What's wrong with rum cake?\", '[_deadpan_] Yay.', 'And not rum cake.', 4584]\n",
      "count 9\n",
      "['[_heads back to her seat, looking a bit worn out. Her shoulders are slumped_]', 'I uh fell asleep in the server room while talking to Cobalt.  I swear, between him and Charley, I cannat see anyone ever getting at us via matrix.', \"You're here early. [_checks time_]\", 'Good morning.', '[_looks at the Doctors and greets them casually_]', \"Ah cool.  So, anything going on?  Pretty early for planning, but if we've got the lay of the land...\", 'Medusa..brought some', '[_steps in_]  Yeah uhm.  Where did you guys end up getting food from?  Cobalt suggested [place, and options].  I was gonna go grab something there.', 2824]\n",
      "count 9\n",
      "['..yes.', '...Anyway, I think maybe breakfast would be good?', 'Yes, definitely flattered.', \"[_grins_] I'll take that as a yes.\", '[*takes it back*] Well it was just--the _lighting_, and you were kind of--the window was _perfectly framed_ and....[*her voice drops off awkwardly*]', '[_offers it back_] I feel flattered. Should we be flattered?', 'Yeah, I was working on it last night before we decided to come out here.', '[_smirks_]', 1842]\n",
      "count 9\n",
      "[\"[_avoiding Julia's eyes_] I am going to refill this drink\", 'What..I...', '[_sputters for a bit_] I...', '[_Akari is still talking to Charlotte. Julia is still having trouble making the mouth sounds into intelligible form_]', '[*nods*] Especially for something so low-key for once.', '[_looks between Akari and Julia, speechless_]', \"I'm fine. [_glances back at the door she just walked through, then back to Charlotte, smiles_] It's nice to see people.\", 'Anyway. Having a good time?', 3166]\n",
      "count 9\n",
      "['Excuse me for a moment. I need to use the bathroom', \"[*grabs a napkin, wads it up and throws it at medusa's head*]\", '[_the grin has widened for some reason and she looks at Charlotte briefly_] oh no', 'But this one over here [_points at Charlotte_], all I have to do is mention that I had to watch a target getting making out with someone and...', \"Gadget didn't like it when I answered his questions about exactly why I needed a specific kind of ammo.\", \"[_glances quickly at Olivia, sees permission, grins_] She's squeemish about some things.\", '[*groans*]', 'Oh? [_grins_] do tell', 781]\n",
      "count 9\n",
      "['The dream: She is back to being 16 years old. She is sitting on the ground in a small dimly lit room the size of a walk in closet. There is nothing hung on the walls. Not a single piece of furniture surrounded her. She would have settled even for one of the medical devices they had used before on her, those menacing instruments that gleamed even in the dim fluorescent*', '*the dream from last night starts to reenter her consciousness like the fog that rolls in every morning where she grew up. “Fuck,” she mutters.*', '*After grumbling for a bit she remembers she bought instant soycaf 6 months ago. Hopper is not pleased by this though since instant soycaf lacks...something. Her grandmother would have been appalled by this, since she, too was some kind of coffee hipster back in the 2010s and 2020s when she was a young woman. She makes a cup of this instant soycaf nonetheless. She places this cup on the stove since there is no room because cyberpunk dystopian studio. she opens the fridge door and peers at the emptiness.  and sits at the small and sad table that still has last night’s bucket of soy “chicken” on it.*', '*She is some kind of coffee hipster in this, the year of our Matrix, 2075, so for whatever reason she prefers to make coffee with a single-serving pour-over cup*', '_takes the kettle off the electric stove and fills it with distilled water then puts it back on the stovetop and turns the knob to start heating it up. She looks in the cabinet just above the stove and realizes there are no filters left. She slams the cabinet door closed and grumbles. _', '_walks over to the kitchen and sighs at the sight of unwashed dishes in her sink. _', '_wakes up, still dressed in what she was wearing the day before. The smell of soy “chicken” still lingers._', '**the next morning**', 399]\n",
      "count 9\n",
      "[\"That's--yes.\", '...Wanna sit down?', 'No', '_sighs_', 'Are you _sure?_', '[*does her best to mimic Nix\\'s \"I Know You\\'re Bullshitting\" look, probably with limited success*]', '(( She was, in fact, not fine ))', \"I'm fine\", 292]\n",
      "count 9\n",
      "['[_stops at the stairs,sighs_]', \"[*has a moment of Dawning Comprehension*] Oh..._Oh._ Uh, 'scuse me. [*follows after hopper*]\", '[_Anton sends Meghan a Significant Look_]', '[_Olivia and Anton look concerned_]', '[_gets up suddenly_] Sorry, I need to excuse myself.', \"[_clears throat_] Yeah, I'm fine.\", '[*notices hopper*] You okay Hop--Alex?', '[*looks very sheepish at the Mom Look*]', 1043]\n",
      "count 9\n",
      "['[_softly_] _Fuck_.', \"There's some first aid stuff, yeah.\", '[_looks at Kalahan, nods once_]', \"*Kalahan represses a cringe at the sight of her wounds, and gently rests a hand on Shiro's shoulder.* May I help?\", '[_Shiro shifts, and you can see the coat open a little more. Underneath the coat, the entire left side of her clothes are shredded. You can see what look like bandages around her ribs._]', 'Anything for first aid drek?', '[_to whoever is in the back_] Are there any gauze wraps there?', \"...I don't...think I...can stand up.\", 4457]\n",
      "count 9\n",
      "['No offense but I don’t..swing any way', 'Exactly.', '[_makes a face then bursts out laughing_]', 'She, um....kind of thought we were a couple?', '[_confused look_] Huh? What mistake?', '[*grins*] It was an understandable mistake. ..._Hilarious_, but understandable', '[_wry grin_] Yeah, well...you can see _my_ position.', '_Apparently_ that gives people the wrong idea [*she laughs*]', 1810]\n",
      "count 9\n",
      "['That is a great idea.', 'Yes.', 'but yeah, starting on food seems like a good plan', 'Right, right.', \"some of us don't do alcohol\", 'The rum.', \"What's wrong with rum cake?\", '[_deadpan_] Yay.', 4585]\n",
      "count 9\n",
      "[\"[_increasingly agitated, and talking faster_]  Codex had to make up for the fuckups we made with that job. If I had just stopped Collateral and Kalahan then none of this would have happened. And now we don't even know if she's coming back. This is my fault and I can't blame them if they give me the boot.  I wouldn't want to work with someone like me either.\", \"I'm not quite sure how we got to them thinking you've given up on Shiro. And I'm especially not at all clear how _any_ of this is your fault.\", \"I'm...not following.\", \"And now they think I've given up on Shiro. As if. If that were true then I wouldn't be here. [_softly_] But she wouldn't have needed to go off if I  had just stopped my teammates from fragging those Shiawase security personnel. If I had just said something, this never would have happened. It's my fault.\", 'That sounds like a lot. And...understandable.', 'And today I acted like a fucking moron. [_rubs forehead_]', 'There was a shootout...and...it reminded me of what happened to my parents...', '[_will wait patiently if it looks like Hopper is trying to find words_]', 4284]\n",
      "count 9\n",
      "['[_texts_] ok', 'Speaking of...I owe someone an apology today.', \"[*texts*] how's she taking it hopper?\", '[_snort_]', 'Plus, you saved our asses.', '[_nods_] He certainly sold me on it.', \"Arcade's probably the one person in the damn world who could have told me about his crazy plan to make things better and sell me on it.\", \"And I'd worked with him before. I knew he could backup whatever he was spinning. And if the world hadn't beaten the idealism out of him yet, it ain't ever going to.\", 4734]\n",
      "count 9\n",
      "['No.', \"Not a _good_ something, I'm guessing?\", '[_sighs_] Just remembering something.', '[*notices that hopper seems Not Totally OK*] ...You alright?', \"[_Back at Hopper's apartment, with the Disaster Children..._]\", \"You're welcome.\", '*He smiles and nods.* Thank you, Amarok.\\n*He gets up and heads for the door.*', \"I don't have anything else. If you need something else, you're welcome to stop by again\", 3210]\n",
      "count 9\n",
      "['[_texts_] u got any word on who that team was? their fixer?', 'got geeked hard.', '[_texts_] course not', \"corpsec didn't take too kindly to that.\", 'heard bout a runner team. got their hands on a truckful of guns', \"oh them. yeah, 'k you would be interested, since they're out by you now and all\", '[_texts_] 🤦 i can communicate, i swear. im wonderin more about manadyne. was there any chatter among runners bout a job going south regarding them recently? resulting in some missing drek?', '...Hop, _which one_? like...does the day end in \"y\"? then some sub of a mega had a run against \\'em.', 4680]\n",
      "count 9\n",
      "[\"[_eyes widen_]  That's..incredible.\", '((well shit 😄 ))', '((In mechanics terms, what Akari is talking about is Cyberware for far less Essence cost and nuyen/Karma cost. In real-world economics, \"what if Theranos wasn\\'t a fucking scam\"? ))', 'It would completely upset the current paradigm.', \"This here? Following that naming convention, you would classify this as epsilon. There's minimal stress. But! [_she sounds more and more excited_] Unlike the other technologies, this method would actually be _cheaper_ than standard!\", \"You know how there are grades of cyberware? Standard, and then beta, alpha, and delta? Each grade integrates a little better into the human body, causing less stress and degradation.  The world being what it is, it's also more and more expensive, meaning the technology that puts the most stress on the body is the one that's most accessible.\", '[_glances at the hard drive then looks back up at Akari_] A breakthrough..', 'That right there could be the key to the next big breakthrough in cyberware.', 1523]\n",
      "count 9\n",
      "['Please come in.', '[_sees Lauren_] Oh, uh..hi.', '[_gets up to open the door_]', '[_Akari and Julia engage in small talk with Amarok._]', '*As they reach the door, Kalahan sends Lauren a smirk before knocking on the door of the apartment.*', '[_goes over to stand next to Akari_]', '[_gives her a look_]', '[_hands Shiro mug of soycaf_] She can always handle more teasing.', 2067]\n",
      "count 9\n",
      "['[_smirks_] I like the way you think', \"...it might also be an excuse to come here more often. But yeah, I've been wanting to do underwater robots for awhile. The lake at the Silo is very tempting.\", 'Huh.', \"...on the other hand, I've...had the idea a very large submersible robot. Hadn't decided transport or combat. But water is difficult and I'm...unhappy with commercial options.\", 'Certainly ostentatious.', \"*Meanwhile, in the lighthouse's dome, Kalahan suddenly shivers.* Ooh, that was weird. I just got chills for some reason...\", '[_snort_] Hm.', 'It isn’t _quite_ my style, but I would not be opposed to building something like a....ah, a rideable dragon robot. Or would that be too extravagant? [_strokes chin_]', 3628]\n",
      "count 9\n",
      "['[_coughs_] Yes. That.', 'Ooooohhhh.', 'Hopper needs gift ideas', '[_dryly_] I somehow doubt this would be \"trivial\" to her, but sure, we can go with that.', '....or, uh, that?', '[_raises an eyebrow at Hopper_]', '[_glances at Charlotte_]', 'She is probably preoccupied with other matters so it would probably be best if we refrain from bothering her with these trivialities.', 4137]\n",
      "count 9\n",
      "[\"[_softly_] Please don't let the others know. Not right now.\", \"It's fine. That's what we're here for.\", '[_Akari comes back, hand wrapped in a towel with another towel and starts cleaning up the soycaf on the table._]', 'Alex...', \"Thanks for listening. I'm sorry to have unloaded this on you both so suddenly.\", \"You don't have to apologize\", 'Sorry.', \"That's not what I meant.\", 5020]\n",
      "count 9\n",
      "['[_stiffens_] ..I see.', '*Kalahan cringes again as he glances over at Nix, then to Charlotte, then back down at the floor.* ...I...about...what she can do...', '..and what was that?', \"*Kalahan looks extremely uncomfortable, and downright ashamed. When he speaks, it's very soft and sheepish.* I...shared something with Yuna that...wasn't mine to share...\", '...what?', \"Y-yes, that...was an *absolutely* unacceptable move on my part. I get it now, I'm...I'm sorry. *Kaore au kupu.*\", \"*Kalahan immediately cringes so hard, you'd think his face had split. His hands go from concerned rubbing to anxious wringing on a dime. His shoulders go up a little, and his eyes flick to Nix for a moment before they shoot down to the floor.*\", \"...The conversation with Yuna. I kind of brushed it off, and I don't think I really _realized_ how much it bothered me then, but...._Dude._\", 4246]\n",
      "count 9\n",
      "['[_laughs_] Well...there was a person who...mistook..our friendship for something else. And then...proposed to me.', \"I _don't_ think that's accurate\", '[_blinks_] You were?', '[_snorts_]', 'I..was almost married.', 'It is a mystery. Even to them.', 'No idea. But it was obvious enough that _I_ could see it.', '[_jaw drops_] ..._how_?!', 3023]\n",
      "count 9\n",
      "['[_looks with amusement at Akari_]', '*Kalahan finishes hooking up the tv he brought over from his tree, then stands and looks over at Lauren.*\\nHey Lau, do you like dogs?', '[_comes back with napkins, plates, mugs_] Use a _mug_', '[_Akari makes directly for the caffeine._]', \"[_Shiro's lips twitch upwards slightly_]\", \"Don't sigh like that, you're _worse_. [_bites into pastry_]\", '[_sighs, hands Amarok a pastry_]', \"That's not..\", 2059]\n",
      "count 9\n",
      "['Well shit.', '...It was a _middle name_ talk', 'That is some talk', 'I told you, Nix and I had a _talk_ yesterday', 'What the hell did I miss', 'There was...something?', '..Was there an argument?', \"If anything, I'd think she _lost_.\", 4156]\n",
      "count 9\n",
      "['well fuck this', '((segfault 😂 ))', '((wwhd))', \"((that's hopper losing her shit again))\", '((obvs discord reactions are ooc))', '(╯°□°）╯︵ ┻━┻', '((aj is speechless and so is hopper 😂 ))', '((post to the other channel?))', 23]\n",
      "count 9\n",
      "['I mean', 'since...when, exactly?', '...you do', 'I understand why you did it', 'Yeah but..', 'but I dug into your personal shit. I crossed the line.', 'I dont', \"i don't understand\", 141]\n",
      "count 9\n",
      "['Should we let Arcade and his group know what we’ve decided?', 'Yeah, he seems...cool.', \"_::looks at Hopper::_  Hoppa's met him!  He's great, ain't he?\", 'Might have some wise words and a sub for to cure yourself with.', 'When we gets out of quarantine, and back in Boston, you _need_ to meet Aztec, the guy is the best father figure an \"orphan\" could want.', '[*blinks*]', \"You have anxiety?  I had that once.  Real kick in the nads.  Thankfully, I got over it...don't remember much about it...Aztec's meatball subs work magic.  _::flashes a very toothy, goofy grin::_\", '[_nods_] Ah, right', 1436]\n",
      "count 9\n",
      "[\"Let's head to the apartments to plan this out with the rest of the group.\", \"*Kalahan takes a deep breath.* We...we need to be ready to extract her and get her back to the apartments. I...she seemed feverish, not right, I have no idea which one she'll do. We should prepare for both, if not any other options.\", \"She hasn't done this before. Something's not right.\", '[_relays information about jumping off a moving train vs walking through gang territory for the Tree folks_]', 'We could.', '....We could try to prepare for both options?', \"She won't take _stupid_ risks. But...\", \"She won't...she knows what she can do.\", 4391]\n",
      "count 9\n",
      "[\"Right, right. [_nods_] I'm just curious, is all.\", '[_Mikhail is on something of a rant on how the hell someone can fuck up **simplified Chinese**.  He will continue unless someone stops him. _]', \"No, I mean it won't _look_ like anything to you\", '[_to Charlotte_] Maybe later?', '[_Erika laughs at something Kotori said. Kotori looks smug._]', '[_Carmen and Kotori are sniping back at each other good-naturedly_]', \"Kitsune. I'd tell you to put on some AR glasses but it probably wouldn't help much\", \"That you're seeing\", 1021]\n",
      "count 9\n",
      "[\"You're right. They didn't fuck her up mentally as much as they thought. They did that to the other one, though.\", \"[*charlotte has a look of some concern, though it's hard to say how much of that is for hopper and how much is just the conversation as a whole*]\", '[_nods_] Yeah. [_gives a lopsided grin_]', '[*quietly, to hopper*] You ok?', '[_gives Hopper a slightly apologetic look_]', '[_twitches_]', \"Although it probably helped that they didn't fuck with her brain nearly as well as they thought they did.\", \"Shiro's real good at getting people to underestimate her. [_mildly pointed look_]\", 4008]\n",
      "count 9\n",
      "['[_sips_] ..... [_facepalms_] Oh god, what did I do last night', '[_sips_] We all have our vices.', \"[*shakes head*] You're all addicted, I swear.\", '[_takes some soycaf, immediately starts looking more awake_]', 'Thanks.', '[_sips some soycaf_] Wow', '[_to Charlotte, nods_] mm', '[*Charlotte gets her tea and a mug of soycaf, then comes back out to the living room and puts the soycaf on the table in front of hopper before sitting down*]', 2768]\n",
      "count 9\n",
      "['I see. [_a dark look on her face_] I think maybe I need to go.', \"I'm sorry. [*seems like she's going to say more, but doesn't*]\", \"[_doesn't say anything for awhile._]\", '....which still sounds bad, now that I say it out loud', \"I don't....actually know what her plan was, specifically. I mean, she wasn't going to _hurt_ you or anything\", \"[_after a long pause_] I figured it wasn't exactly a social call\", \"I mean, ok, apparently it was maybe a good thing she was there, but that's not really an excuse\", \"[_doesn't respond_]\", 818]\n",
      "count 9\n",
      "['we..found some common ground', '@Charlotte it was...fine', '_turns around and heads back_', '(( my reception is awful so my responses may be delayed ))', '@bitjockey ...How did it go? WIth Dr Chung?', \"All right. I'll be back in a bit. *gets up, walks over to a corner, starts talking over phone/commlink quietly*\", '((sorry, work things then driving home))', \"(( I'll be online for the rest of the day so we can continue this when you guys are available. just ping me lol ))\", 275]\n",
      "count 9\n",
      "['(( true ))', '((I feel like \"serval\" _also_ should be in quotes there. because sure, she\\'s a serval...but _is she really??_))', '_arrives home, a small, cramped studio in [some neighborhood]. Her “pet” serval Karen “greets” her._', '((this is a Very Important Question))', '(( okay but what movie are you watching ))', '[*Charlotte sends a quick \"heading out with Nix, talk to everybody later\" message to the...group text channel? Or just to everyone independently, and then goes to join Nix*]', '_[Nix heads for the exit. (Triad members may or may not make sure they are not in her way)]_', \"All right. I'll go get us a ride, if you want to tell people you're heading out\", 308]\n",
      "count 9\n",
      "['[_nods_] I..don’t mind moving there as well. Space permitting.', '[_goes very quiet_]', 'The safehouse would be...closer.', 'I trust them, this group. But....', '[_nods_]', \"Someone from here goes in at least once a week to check the place, and it's security is monitored from here.\", \"No one currently. That's why he'd be happy.\", \"[_looks pensive_] Did he say who's there now?\", 1998]\n",
      "count 9\n",
      "['[_snorts_] I did.', 'You...looked like you needed it. [_pretends to stare intently at a wall_]', 'This is..really good. Thank you. [_to Medusa_]', '[_snorts_]', \"[_flops back into a chair_] [_mutters_] Oh god, now I'm turning into _Gadget_.\", '[_looks a bit aghast for a few seconds, but takes the hot chocolate_] .. Thanks [_looks into mug, and then at Medusa, and then sips_]', \"[_It's hot chocolate._]\", 'Drink.', 2816]\n",
      "count 9\n",
      "['Right. So...is it going to be you and me again, posing as prospective students?', \"That's what I'm thinking. And then we just find a chance to slip away and find what we need. Anybody catches us, we just say we got separated from the group.\", \"Should we do a campus tour then? Since that's more frequent. We'll probably want fake identification, cover stories...can't be too paranoid.\", \"Open House might be _easier_ since its not a structured thing, but I'm not sure waiting that long is a good idea.\", \"[_a bit later, still in the common room, during a discussion of how to get hold of dead-tree campus records_] So it looks like they have campus tours pretty frequently. There's also an Open House, but that's not for a few weeks.\", \"Also it's draining as shit and you have to do it per person.\", \"Yes? You're still a fucking beacon on the Astral plane. And you can still be heard. And you have to be _really_ good for it to work on tech?\", 'To Amarok: [Hey plz help is there such a thing as an invisibility spell?]', 5429]\n",
      "count 9\n",
      "['...thanks', \"....I'm sorry.\", 'Right [_she fixates on the space just beyond Charlotte and appears to be lost in thought._] They took that away from me.', \"It's not a lie. It's just...a different part of who you are.\", 'It feels good after living a lie all these years', \"[*isn't sure what to say, so doesn't*]\", 'I haven’t been called that since...I disappeared', 'Yeah', 680]\n",
      "count 9\n",
      "[\"[_looks down_] [_softly_] What..was it they said, the obituaries...when...they said I had...died? I'm sorry..you had to...see that.\", 'So...?', 'So...', 'Apparently', 'Everyone knew.', '[_rolls eyes_]', \"They aren't wrong.\", '[_sips hot chocolate_]', 3260]\n",
      "count 9\n",
      "['no', 'you have told me you paniked over something on a job and messed up. this might have been because you did a \"stupid thing\". except your teammate was there to cover for you so...everyone is okay? alive? did the job go south?', 'am i making ne sense???', 'i am currently failing to see how a completely normal human reaction could have led to this', 'i panicked', 'ok but its tru tho i really messed up i think', '_smh_', 'im confusing myself', 346]\n",
      "count 9\n",
      "['u dont have to answer but', \"we'll see\", 'i can. and you can go do..whatever you decide to do', 'or i mean', 'yeah. maybe then we can go back to simple smash-and-grab jobs', 'no. all the more reason why i want it 2 b done.', '...have you ever done a job like this?', 'is removing sokoloski gonna be enough? we need to send a _message_', 176]\n",
      "count 9\n",
      "['Okay.', 'Uh, I was just telling them about [*some technomancer bullshit*]', '[_quietly_] What are you talking about?', '[_Akari and Julia will attempt Small Talk, with each of them glancing at Hopper every so often_]', 'We were just...working on some stuff, and figured it was time for a break. [*charlotte will try Smalltalk to see if hopper can be distracted out of her funk*]', 'Soo...', '[_In the meantime, Akari fetches Julia. They come and sit down_]', '[_sits down and avoids looking at everyone_]', 3220]\n",
      "count 9\n",
      "['Do you...do you want some tea?', \"It's never easy.\", '[_sighs_]', \"[*deadpan*] I'm great. That was just barrells of fun.\", 'Are you okay?', '[*charlotte emerges from the office looking Grumpy*]', '[_is still waiting_]', \"[_scene break to outside Julia's office_]\", 5111]\n",
      "count 9\n",
      "['Off.', 'Did you want the lights on or off?', '[_comes back after a few minutes and lies down in the other bed_]', '[_shrugs and takes the other bed_] [_goes to get ready for bed in the bathroom_]', 'Okay. [_picks some random bed and lies down looking away from Arcade_]', \"So...I don't care which bed, so why don't you claim whichever you want?\", '[_meanwhile, wherever the riggers are, Hopper gets ready for bed?_]', 'So yeah. Interesting.', 3533]\n",
      "count 9\n",
      "[\"[_briefly gives Collateral a recap of what's going on_]\", \"Could whoever sent that other sprite be linked to the arson? I know we don't know much right now, just thinking out loud...\", \"...So we still have no idea what happened to...him. And now there's _also_ another person who went missing. And, somehow, an _extra fucking kid_ was in the house.\", '[_sits up straight, hearing \"arson\" and eavesdrops_]', '[*to hopper*] They think it was arson.', \"[_shakes head_] They don't know. The police report suspected arson, but...no one was ever charged. Or caught.\", \"Um...Aleph showed up when I was almost done. Didn't say much, but did take the note.\", \"[_realizes charlotte and hopper are talking and wakes up, trying to make it seem like he did not fall asleep, frowns realizing the credits are almost done_]  Yeah, good movie... [_glances sideways and whispers kinda to himself_] I don't remember if there is a stinger for this one...\", 5283]\n",
      "count 9\n",
      "['[_Enters, and buys chocolate soy ice cream_]', '[_The Nut House: a fine local establishment serving ice cream (soy), soycaf (soy), and baked goods (not soy)._]', '[_right after dinner, instead of heading to the room, Hopper goes out and makes her way to The Nut House_]', 'Huh.', \"....Right now is probably not the time,  though. Looks like he's talking with Shiro\", '[_snerk_]', \"...I'm mostly repeating what Carmen told me.\", 'You sound like Carmen.', 3742]\n",
      "count 9\n",
      "['[_texts_] ..were they dating?', \"[*texts*] i don't...think so?\", '[_texts_] are they related..?', '[*texts*] couple years', '[_texts_] interesting...how long ago was that', \"[*texts*] there's some stuff on social media with the lawyer and slater. looks like the lived together?\", '[*texts*] impression we got before was \"either super naive, or hiding something\"', '[_texts_] ok. anything on his other associate?', 4944]\n",
      "count 9\n",
      "[\"[_opens mouth as if to say something, but instead just nods and says_] Yeah, that's fair.\", \"I wouldn't worry about it.\", '[*shakes head*] I _refuse_ to add anything else to the list of concerns right now', \"This seems rather generous. Although I'm not sure whether to be concerned your aunt managed to find out about us?\", 'That just makes it funnier', \"To be fair, it's not like either of you two _knew_\", \"Yeah, I'll be honest, that did occur to me earlier. I'm a little flustered.\", \"Gonna be fun seeing Cobalt's reaction to you just being _handed_ a bunch of extra tickets to this super-exclusive concert he had to go out of his way for. ..Tachyon's too, probably\", 5053]\n",
      "count 9\n",
      "['[_tenses up. Gets up from wherever she was sitting and becomes Very Agitated again. and starts huffing. Lets out something resembling a growl_] Can all of you just _please_ let me go because this would be _so_ much easier if none of you gave a shit and I could just go...through it [_starts pacing around and then drops something on the ground, screaming until finally that gives way to actual crying (again) and then slides down with her back at the wall, head in her hands._] Stop it stop it stop it stop it', 'I see. So, should I tell Julia to look for a new career, since psych problems can be solved by magic now?', 'Yes.', 'Just, completely ok.', 'I am.', \"[_clearly not buying it_] You're telling me you're totally fine?\", 'Yeah.', '[_gives hopper a flat look_]', 2731]\n",
      "count 9\n",
      "['[_Follows carefully_]', \"They're probably downstairs somewhere. [*she starts heading the way she was before first seeing hopper, toward the stairs*]\", '[_Nods_]', \"Hm. Well I know there's AR glasses _somewhere_ around here. [*quieter, mostly to herself*] Just not sure where Dad _keeps_ the dumb things....\", 'No.', \"Well, the finished stuff is closer. There's bits of things all over the house.. [*She leads Hopper to one of the rooms*] Oh, but you don't have your gear, do you?\", \"Whichever one works...whatever you're comfortable showing.\", 'Oh, uh...yeah. Yeah, sure. You wanna see some finished stuff? Or I guess I could show you the workshop...?', 695]\n",
      "count 9\n",
      "['[_sits down somewhere and starts working_]', '[_with cyberdeck_]', '[_goes back out to wherever everyone else is_]', \"(( you know it'd probably help if we were all in the same room ))\", '[*is in the common area, drawing sprites*]', '[_is in her room brainstorming drones to build_]', \"I don't think so?\", '...  Did I offend her?  _::looks at charlotte::_', 1444]\n",
      "count 9\n",
      "['That...would be quite a sight.', '[_bites lip to try to stifle laughter but fails_]', 'And she will bring Shiro, and [*more laughter*]', 'Nix is guaranteed to invite Tachyon. Who will want Amarok there.', 'Oh god.', '[*still laughing*] _Holidays_', 'What?', '[*is quiet for a moment, and then starts laughing*]', 3795]\n",
      "count 9\n",
      "['Mm, ok. Where are you headed to right now?', '[*shakes head*] Nothing new so far.', 'Any news on those bugs we set?', \"Hey. What's up?\", '[_intercepts Charlotte_] Oh hey.', '[*charlotte says goodbye to amarok (and possibly shiro if she woke up) and starts heading out*]', '[_Later, after the movie..._]', \"I can't tell if I'm bad a movies or movies are bad at me.\", 4972]\n",
      "count 9\n",
      "[\"Huh, someone's at the door? [_to Amarok_]\", '[*texts*] she might know people who kno things. or where to get more info', '[_texts_] but we do need info from her still. can u think of anything outside of bio drek', '[*texts*] question her first, then 🔫 🔪', '[_texts team disaster_] But seriously we could throw her into the charles for all we care', \"*There's a knock at the door, as a wild Kalahan appears.*\", \"[_texts_]  wtf?!  Call me if you need anything serious, I'm going to go prep meatballs.\", '[_Shiro comes back with damp hair and dressed in street clothes. She pauses at the laugher, then goes and gets more tea._]', 4743]\n",
      "count 9\n",
      "['[_shakes head_]', '[*to hopper*] any response from @Kalahan ?', 'What would...you like?', 'Now that you mention it, singing has make me thirsty...a drink would be handy.', 'Would you like anything to drink?', \"Ork music is not something you go through a phase for...you gotta live it, in the moment.  [_takes a deep breathe and looks like he's going to start screaming but doesn't_]  yeah, it's like...you gotta..._live_ the music.\", 'Anyway.', '(( 😂 ))', 2557]\n",
      "count 9\n",
      "['What do you mean?', 'Is it weird that this would almost be easier if I was going to meet one of the _actual_ Fosters?', \"Sorry, I'm just...still not sure how I actually feel about any of this?\", '[_Nix flicks Medusa in the head again._]', \"You're going to regret that. You could have had her giving you all kinds of compliments and getting whatever out of her and you _denied it_.\", '[*looks sheepish*]', \"Fine, I won't be. [_throws hands up in the air_]\", \"Well, you're doing it now.\", 5315]\n",
      "count 9\n",
      "['[_opens mouth to say something, but just shakes her head_] ...sorry, I get very..worked up..', '[_she does in fact pause to drink her soycaf_]', '[*if hopper pauses, charlotte will jump in to try to redirect things*] _Anyway_, I think my mom used to drink a lot of soycaf, when she was still Running. She mostly gave it up when her and dad retired, though.', '[*gives Amarok a \"what have I done?\" expression*]', \"...and there is also the matter of the synthetic caffeine they've added, which [_rambles_]\", 'Well, it _can_ be. Depending on the flavor, [_starts to ramble about beans and shit_]', '[*shakes head*] soycaf cannot _possibly_ be that good.', \"[_nods_] I noticed. I should ... try switching to tea ... no, that's...that is unrealistic.\", 1855]\n",
      "count 9\n",
      "['[_text_] do any of u have amaroks number? i need 2 tell her about J & A', '[_text_] monday tree..? but yeah im inclined 2 agree. been working on some robot designs in the meantime.', '[*text*] ...', \"[text] I'm kinda ready to get back at it...the past couple of weeks, seem like a vacation.  Well, the Monday tree all thing happened, so not a vacation, but not, not a vacation...\", '[_texts_] btw J & A are living together now and they ve realized theyre meant to be together if u kno what i mean', '[_texts_] understandable. yeah we shld meet up @ seamstress l8ter.', \"[*texts*] 👍 bit stressed bc of everything that's happened tho\", '[_texts_] shes ok?', 2034]\n",
      "count 9\n",
      "['That’s cool', 'Oh', '...I think one of them had a guinea pig?', 'Mostly dogs and cats. Couple birds.', 'Oh. What kinds of pets?', \"They weren't really _mine_, but I...think it counts?\", \"...Sort of? Gadget's allergic so, no pets at home. Some of the fosters had animals, though.\", '[_to Charlotte_] Did you have any pets growing up?', 1755]\n",
      "count 9\n",
      "['Please excuse me. [_texts @Kalahan _] hey can u tell me about those squirrels. how big r they', \"[_looks pensive_] I'm..not actually sure.\", 'Uh....', 'Tree rodents? Bushy-tails? Kinda taste like shit? Or does \"squirrel\" mean something else here?', \"I'm...a little confused. Squirrels? Like ... [_she holds her hands apart at roughly squirrel-size distance_] squirrels?\", '[_almost spits out food_]', \"I have to agree with Amarok's previous comment. We should work on your phrasing. [_grins teasingly_]\", '[_suddenly very invested in staring at and eating food_]', 2306]\n",
      "count 9\n",
      "['[_voice breaking_] I thought...there was no one left who would remember me', '[_quietly_] We...[_clears throat_] we kept a copy of it. And...we took it out every year when...on your birthday.', \"[_can't look at either of them_] [_softly_] It wasn't your fault.\", '[_Julia has tears_]', \"[_quietly_] It could have been anyone's. Just...drop in a name and dates and you're done. [_getting louder_] We'd...we'd failed you _so badly_ that they couldn't even find someone who _gave a shit_ to write more than _four fucking generic sentences_.\", \"It was...sparse. Boilerplate. That's...that made it worse. That there was no one who actually knew _you_ left to...write it.\", '[_Akari and Julia look at each other. Julia looks down._]', \"[_looks down_] [_softly_] What..was it they said, the obituaries...when...they said I had...died? I'm sorry..you had to...see that.\", 3262]\n",
      "count 9\n",
      "['...what is going on here', '[_blinks_] ....O...kay?', 'Was just...[_looks around_] checking on..you', '...Something going on?', '...hello.', 'I...was not expecting company.', '[_notices hopper at the door_] oh, uh, hi', 'This is..quite an arrangement.', 3284]\n",
      "count 9\n",
      "['...I was trying to be poetic', '(( 😂 ))', 'We have to face our _bugs_? Really?', 'What?', '[*gives hopper an amused \"did you really say that?\" look*]', 'Sooner or later we all have to face our own bugs.', \"[*doesn't say anything*]\", 'You had your reasons. I would have done the same.', 880]\n",
      "count 9\n",
      "['[_quietly_] Is that why?', 'Mhmm.', \"Do you know how many other technomancers I've met? _zero_\", 'Sure.', \"And he's a _technomancer_. Of _course_ I want to spend time with him.\", 'Uh huh.', \"We've been working on things.\", \"I wouldn't know for myself, sure. But someone did try to propose to me and since that...experience [_shakes head_], I've..tried understanding what the fuck that was. But...[_snickers_] It's funny because...when I was walking there with your...you know. I wanted to bring up how you've been spending a lot of time together lately.\", 3654]\n",
      "count 9\n",
      "['Let us just say that there are certain people in our group who are....[_considers for a moment_] a bit boneheaded, and want to potentially build and detonate some...explosive...while we are here? Instead of say, doing that somewhere a bit less populated?', 'What.', 'What.', 'What.', '...how do you, oh, I don\\'t know, convince people not to get us banned from here by making something go \"boom\"?', 'Something wrong?', 'So....[_opens mouth as if to say something, but closes it again_]', \"Well that's good.\", 3752]\n",
      "count 9\n",
      "['[_nods_] Yeah.', \"[*quieter*] But also I mean we all kind of---we've got _baggage_. So we get it.\", 'Yeah, Kotori as a teenager was _something_', \"[_snorts_] I'm sure.\", \"It's ok. Trust me, you are _not_ the first person to run out in the middle of dinner\", \"I'm sorry for storming out like that.  Your parents...they remind me of mom and dad.\", '[*also sits*]', \"I mean,..no, I'm not. [_sits on the steps or w/e_]\", 1051]\n",
      "count 9\n",
      "['Thanks for being..here.', \"[_breathes in and out deeply_] ..Yeah that's..not a bad plan.\", \"Anyway, Temper wanted to know if you could stop by to let him know how the meds were working. Since he'll have to acquire more, apparently.\", 'Probably not a bad idea, even if she does seem kind of...um...', \"I'll have to..thank her later.\", '..oh.', \"Apparently, Shiro found them wherever you guys had been staying and packed it. She didn't know whose they were, so she gave them to Temper to figure out.\", \"[_Akari leaves. After less than ten minutes, she comes back with a small, unlabeled plastic container that should look very familiar to Hopper: it's actually your meds._]\", 1923]\n",
      "count 9\n",
      "['[_considers for a moment_] I am..not entirely sure.', '[_Julia tenses and looks at Akari sharply._]', \"[_grimaces a little_] You said that...there were two of you. That the other one was apparently Shiro. Considering Shiro's...current predicament...do you also have to worry about...that?\", '[_turns around and sits back down, and sips hot chocolate_] [_to Akari_] Sure.', \"[_to Hopper_] Can...I know you don't want to really continue with...this particular topic. But...can I ask something...related? You mentioned something earlier.\", \"[_looks at Medusa, smiles, but doesn't say anything because she's trying to have a conversation_]\", \"[_to Hopper_] You didn't finish your cocoa.\", \"[_stares for a second then looks at Julia with a concerned look; people don't usually...do...that..._]\", 2828]\n",
      "count 9\n",
      "['So...what is the plan?', '[_When you all get to the apartment, Shiro looks at all of you, then goes back into the kitchen, and later just comes back with the damn teapot and mugs_]', 'The sims are running and going to be for awhile, so...we can both go?', '[_neutral expression_]', '[_looks mildly concerned_]', \"Shiro, and possibly hopper and kalahan? I'm not sure, but they're over at Amarok's right now\", 'Who else was going?', '[_Nix and Temper exchange looks_]', 4751]\n",
      "count 9\n",
      "['[_closes eyes_] I can’t anymore', '...feeling a little on edge. It’s..too much.', '...Alex, what is it?', '[_starts fidgeting, clearly becoming more agitated_]', '[_smiles weakly_] I know you know this already. I just...', '[_really quietly_] Yeah.', \"You could probably ask Temper for something to help with either of those... it'd probably help to get on a more-regular sleep schedule.\", 'I haven’t..really had an appetite lately. [_looks into soycaf mug_] And...I’ve either been sleeping too much..or not at all.', 3335]\n",
      "count 9\n",
      "['Is this a good time?', '@ultranos @nix Hi', '.....wait fck we nvr tlkd abt hppr pls txt me on ur brk or smthn shit', 'ok fine go sv livs or whtvr :p', 'I really do have to get to the clinic, though. Kael is sending frantic messages.', \"I promise I'll tell you about her later. Or you'll do your delightful paranoid overprotective little sister thing.\", 'ha', \"Not this week, that's for sure.\", 153]\n",
      "count 9\n",
      "['[_texts @ultranos Akari and Julia_] good morning', '[_Medusa has found clean clothes from...somewhere, and is flopped over a couch. Probably sleeping._]', '[_she will make her way to hoppers apartment_]', '[_texts_] 👍', '[_texts_] ok did u want 2 get some', '[_texts_] jst wk up', '[_texts_] ....no?', '[_texts_] have u had breakfast', 2881]\n",
      "count 9\n",
      "['Uh', \"....what _exactly_ are the side-effects of whatever you're on?\", 'what', 'I just thouht if something does go down someone needs to take the fall', 'but _what_', 'I kno but', 'becuase I can!', '....do i need to list all the ways for that to go _horribly wrong_?', 242]\n",
      "count 9\n",
      "['[_presents the food to the squad_]', '[_assuming you have ordered food, it arrives after said time passes_]', \"[_the food will arrive in the exact maximum estimated time the order claims, because this is Boston and a dystopia and so we can't have nice things and this is how it works anyway_]\", 'Alright', 'Guess we know what Julia wants.', 'Yes', '((I rolled for this))', 'Ooh, do they have [dish]?', 2155]\n",
      "count 9\n",
      "['[_shakes head_] It’s..incredible.', 'How is she not _insane_?', 'If they did..I don’t think they cared.', '[_swallows hard_] Did...they know? Or did they just...not care.', 'They did all that to her..when she was awake.', '_Awake_?', '[_shifts uncomfortably in her seat_] She was awake.', '[_quietly_] Yeah.', 3376]\n",
      "count 9\n",
      "[\"[_looks away, and doesn't respond_]\", 'Are you injured?', '[_Temper pauses as he sees Hopper on the bed._]', '[_glances at whoever_]', '[_Meanwhile, the door to the infirmary opens as someone steps inside and then closes the door behind them_]', 'Yeah, sorry about that. I could hand you a list?', \"So, just so I'm maybe not standing here completely uselessly...what else do you guys have around here? [_to Cobalt_] Didn't really get the entire tour.\", 'I am, unsurprisingly, used to it.', 2635]\n",
      "count 9\n",
      "['So...', '[_Looks pensive_] .::after a beat:: I see.', \"So part of the answer to your question is that we tracked you down because we've been keeping notes on you for some time.\", \"To that end, we hire runner teams via third-parties to do jobs for us, because we can't do it all ourselves. Or hire third-parties to hire parties to hire runner teams. Or to hire scouts for...promising talent.\", 'Or, in some cases...alter the holds they have. It depends. [_he shrugs_]', 'Pushing and pulling at various spots to weaken holds various corporations hold on sectors of society.', \"::has a plate of food in hand before he says anything else:: oh, I'm Razor....::looks at hopper and tilts his head:: I'm The Collateral Damage.\", 'We...are a group who have been keeping an eye on situations developing on the Eastern seaboard.', 1255]\n",
      "count 9\n",
      "['_is still standing_', '((is hopper still standing? bc charlotte is sitting and I wanna know exactly what awkwardness to picture here))', '...Are you doing okay?', '(( 😂 ))', '_awkwardly pats Charlotte on the back_', '(( this is the most awkward thing ever lol ))', '[*shrugs*]', 'all of it', 286]\n",
      "count 9\n",
      "['[_is too focused on Charlotte to care_]', 'Oooh, look, cookies.  _::gingerly relieves the tray of one or two::_', '[_Puts tea into the mug, hands it to Charlotte_]', \"You might all do better with some food. We'll have some inside, when you're ready, but this should stave off complete blood sugar crash.\", \"*Kalahan slowly meanders closer, and he* ***still*** *hasn't fully put away the claws; but neither is he presenting himself threateningly.*\", '[_He offers the tray_]', '[_looks up_] Uh, yeah.', \"It's mint, if that's fine?\", 1240]\n",
      "count 9\n",
      "['[_smiles, will try to summon Cafall with the hand that Susan is on_] Hey buddy', \"Aw look, he's modest, too [*laughs*]\", '[_tail thump, yawn_]', \"[_to Hopper and Akari_] I can see why you're inspired to model them after him. He seems pretty smart.\", \"Anyway, to answer your question from awhile ago, yeah, you can take an MRI of Cafall, if he's okay with it.\", 'I see.', \"I can't be 100% sure until I actually see it but...yeah, probably.\", \"So to make sure I'm grokking this completely, the problem is there is _something_ on the astral plane that keeps attracting these creatures to the tree? And robot defenses would act as a temporary deterrent to keep them from reaching the tree, but ultimately the solution would be to deal with them with...magic? That such an infestation would be cured by a.. spiritual whatevers? [_waves Susan around_]\", 2395]\n",
      "count 9\n",
      "['thanks', \"But I'll get you your meds in either case.\", \"Strictly speaking, I'm supposed to tell you to try therapy in addition to meds. I'm not a psychiatrist though, and in any case, I doubt you'd want to talk about that with me. There _is_ something of a social worker/therapist who volunteers around here sometimes if you want her information.\", \"Stop by the clinic and pick them up when you have a chance. If I'm not there, ask for Kael. I'll let him know to expect you.\", \"I should actually have some of that at the clinic. Enough to tide you over until I can make sure it's in our usual supply requests.\", \"((I never actually researched that far so we'l go with that))\", '_lists prescription_', \"Unless you don't want to go that route. In which case, we could probably find alternatives.\", 60]\n",
      "count 9\n",
      "['[_stays quiet_]', \"[_Amarok's gaze flickers back to Hopper. Shiro raises an eyebrow._]\", '[_Amarok looks up at Hopper. Looks down at Shiro and pokes her until she opens her eyes._]', '[_closes eyes_] *incoherent muttering*', '[_looks down_] That was almost poetic, for you.', \"Take it and bury it deep inside you. Close and keep it safe. And when it's cold again, when things are wrong, you can take that win and know that whatever isn't going to defeat you. It's the thing that'll keep you warm.\", \"Sometimes the universe decides to let things work out for once. And...you get a win. Doesn't mean you didn't earn it. So...take it.\", 'Sometimes...you win.', 1720]\n",
      "count 9\n",
      "['[_to Shamarok_] So..how long have you two been..linked', '..OKay then', '[*no response, charlotte just keeps sketching*]', '[_to Charlotte_] WHat are you doing?', \"[*is not reacting to any of what's being said*]\", 'I have no idea. She just told me to hold this. [_she sounds amused_]', '[_to Shamorak, Shiro and Amarok_] What...is she..', '[_Collateral takes direction pretty easily at cooking given his experience helping Aztec Meatballs in the kitchen_]', 1822]\n",
      "count 9\n",
      "['Would it alert the summoner?', 'So a robot would just...not care.', \"Um...actually, it only really knocks you for a loop if you're magic.\", 'Right.', 'I _did_ say Kalahan and Amarok were working on it.', '[_dryly_] If only you knew a bunch of mages.', 'What would happen if you tried to send a robot through a ward?', '[_shakes head_] We will..have to find some alternatives. Perhaps.', 3198]\n",
      "count 9\n",
      "['(( is Charlotte sitting somewhere? ))', '[_prepares that and gives to Charlotte_]', '[*picks one*]', 'Okay. Any preference? I have [_looks at tea, lists some stuff_]', \"...Actually yeah, I think I'll take some of that\", \"I am..going to need some more soycaf. [_goes off to prepare some_] Are you sure you don't want any tea?\", 'Yeah.', '....Well shit.', 2480]\n",
      "count 9\n",
      "['[_walks over slowly to where Nix is_]', '[_comes over to Charlotte_] ...what happened?', '[_Carmen is mumbling something in Spanish_]', 'Carmen, shhh, it’s okay...', '*Kalahan immediately lunges forward and gently holds Nix.*', 'Fucking--why the _fuck_ did I think this could possibly work?', '[_Nix is sobbing_]', '[_sighs_]', 3890]\n",
      "count 9\n",
      "['[_goes in_] So we..saw that woman from..Shiawase..', 'Of course', '[_agitated_] Can we talk?', '[_answers the door_]', '[_hopper goes to her moms_]', 'Yeah, kinda figured', 'Well, you knew she was dead as soon as you said everyone else was upset.', 'And nothing of value was lost', 4789]\n",
      "count 9\n",
      "['[_nods_]', \"Nothing specific. Just...pay attention to her mood, and don't take it personally if she's short with people.\", 'Do you have any advice?', 'Not likely to take it well.', 'Right.', \"Yeah...we don't want to give Nix the idea that...we're doing this for that purpose.\", 'Thank you', 'Okay then.', 3836]\n",
      "count 9\n",
      "['[_unamused look. Like this 😒 _]', '[_looks even more offended @ Charlotte_]', 'You do literal _magic_. How is that _not weird_?', '....Not that I do that', 'I recommend just turning up the music and then nodding occassionally.', '[_looks slightly offended_]', 'Robots are weird.', '[_sits down heavily with a plate of food_] Seriously. After you guys left, I had to put up with him babbling _for hours_ about her entire CV. Because I was basically the only one here who had a clue of what he was yammering about.', 1872]\n",
      "count 9\n",
      "[\"[_Will follow everyone who's going_]\", '[_Eventually, it is time to go to the concert._]', \"[_nods_] Then we'll just chill.\", \"I...I think...just chilling would be good. I legitimately don't know what to say, honestly. But I...I think I'll be fine.\", 'Or we can just...chill until the concert?', 'Do you want to talk about it?', \"That's good to hear. Is there anything I can do?\", \"*He eagerly accepts the hot chocolate.*\\nI'm uh...I'm doing. A lot of conflicting emotions right now, but I'm fine.\", 5183]\n",
      "count 9\n",
      "['Insane?', 'Life-transforming?', \"This is rather...hmm, welp, many possible words and don't know what to pick...\", 'Understandable.', 'Eeeeh? [*makes a so-so gesture*]', '*Kalahan tilts his head as he regards Charlotte.*\\nYou doing okay?', \"Yeah, she did. [*there's a hint of disbelief in charlotte's voice*]\", 'Well, she seemed nice, at least...', 5338]\n",
      "count 9\n",
      "['We, uh..had a big dinner...last night.', \"I, uhm...that's..fine. We've..got a lot, too. If you would like some.\", \"Oh. Well...I've got more food than I can possibly eat right now in the fridge if you're interested.\", \"I'd, uh, invite you in to visit, but you probably want to go...get your stuff put away.\", \"I don't ... have a lot.\", '[_glances at the bag_]  Oh. Yeah.', 'I...thanks. [_gestures to the bag_] Your stuff?', \"You're...covering the bases. Looking out for...someone you care about. That's...a lot. If you want..someone to talk to...or just a friend...you know where to...find me, and Julia and Akari\", 2230]\n",
      "count 9\n",
      "['Did anyone...hear noises last night?', '*Kalahan raises an eyebrow at the conversation, then looks over his shoulder at Lauren.* What did we just walk in on?', '[_follows after Hopper_]', '...Hi', '[_walks in_] Good..morning.', '[_catches it_]', '[_throws english muffin at Temper_]', \"_Really_ wish I didn't\", 3558]\n",
      "count 9\n",
      "['I was thinking of...getting dinner.', '[_or will consider it_]', '[_once the dishes are done, hopper will leave_]', \"It's fine. We're not really planning on going anywhere.\", \"[_to Kalahan_] Actual food might be nice. [_to Akari and Julia_] Would...would it be all right if I stopped by later at some point? I have a couple of questions, but I don't want to take up all your time right now.\", \"You don't have to leave if you don't want to.\", \"*Kalahan reluctantly stands up, and holds a hand out for Lauren.* Seems the party's over, wanna get something to eat for ourselves? Or did you want to try talking to Vasquez first?\", '[_Shiro raises a hand slightly to give a small goodbye as the three leave_]', 2142]\n",
      "count 9\n",
      "[\"[_firmly_] Look, you can spend your life beating yourself up over what happened, or what could have happened. But you weren't the one driving that car.\", '*Kalahan scowls off into the trees and grumbles.* You can’t predict what’s not under your power...', 'He _never_ stayed.', '_Why_ did I expect him to stay?', 'I _could_ have. I _should_ have.', '[_shudders violently_]', \"[_softly_] And your parents? They blamed you for something you couldn't possibly predict?\", '*Kalahan growls.*', 3903]\n",
      "count 9\n",
      "['There we go.', \"*Kalahan shakes a little, like he's forcing himself to be lucid, and blinks over at you before he looks at the water. He slowly pries one arm away from his chest, reaches out and takes the water, and in a matter of moments downs the water in one go.*\", \"[_offers the cup of water to Kalahan_] Sorry, they didn't have anything else.\", \"I guess I'll go with water then. [_heads back to the scene with the curled up troll_]\", \"[_You are able to find water. A member of Block Party looks at you blankly if you ask about tea, and points you in the direction of the nearest Dunkin'_]\", '[_goes to fetch water or tea if they have any_]', \"[_Shiro doesn't move and although she's clearly noticed Hopper, it's also clear her attention is split between Amarok and Kalahan as well_]\", '*Kalahan breathes in through his nose, but it sounds shaky and stuttered, and the exhale that follows is equally as unsettled. His gaze looks very distant, but he does seem to be slightly gravitating towards Shiro.*', 4781]\n",
      "count 9\n",
      "['Might want to keep an eye out for him anyway.', '...all right.', \"[_to the other 3_] Guess he's...pre-occupied. One down..\", 'Hello?', \"[_Collateral is laying on his bed reading a very thick book on the history of ships and armaments of piracy during the age of sails.  He's hyperfocused on the book and doesn't notice the door opening._]\", '[_opens door_]', '[_facepalms_] ...Right. [_Moves out of the way_]', '[_holds out key_] I...could just open the door.', 3764]\n",
      "count 9\n",
      "['how', 'k', '.......', '....something like that', 'is nix..friends w this person?', 'thats wat u meant by \"know the same people\"', 'o', 'yes', 520]\n",
      "count 9\n",
      "[\"I don't know anymore.\", \"...what's kept you fighting?\", \"I can tell you that not fighting means the people who did this win, but...those words don't feel right. They feel like a lie, considering what...happened.\", 'But...I do know of people who would be devastated if you...gave up entirely.', 'I...do not know the full details of what you went through. Only that it was horrific. And I cannot sit in...judgment of you.', \"[_very softly_] I don't know if I can keep fighting\", \"You don't need to talk about it.\", \"[_sharp breath, then with distinct calm_] I see. I'm sorry.\", 2643]\n",
      "count 9\n",
      "['[_texts @Charlotte @Omnilord @Kalahan _] Hey we need to talk about what to do with Takahashi', '[_texts_] been a little distracted', '[_texts_] yeah im out of the loop on that drek. clearly i gotta pay better attn.', \"...you haven't been watching the news lately, i take it\", '...yeah?', '[_texts_] oh frag, really?', \"there've been a fuckpile of raids up there in the last few days\", 'like i said, put out the fire before it started', 4688]\n",
      "count 9\n",
      "['is that hckr sum1 we should b concerned abt', '...', 'we kno some of the same ppl. also they have a very powerful hacker friend', 'wut els do u kno abt this person', '[*no response*]', 'so there r things that r byond ur reach', 'gdi i need his help on this', 'im surprised he was able 2 evn ans', 491]\n",
      "count 9\n",
      "['[_Sighs_] Kalahan, could you..uh, could you ask if  they have any tea there? Have a cup made and bring it over here?', '*Kalahan looks up at Hopper, nods, then immediately walks to meet up with the girls.*', '[Collateral is right outside the door]', '(( 😂 ))', '_::sees Hopper use her comms, and checks his.::_ ... Nix, what?', '[_to @Kalahan @Omnilord _] Hey can you guys come over here', '[_checks commlink, nods_]', '[*texts hopper*] 🍵', 1232]\n",
      "count 9\n",
      "['[_texts @Charlotte _] everything okay', \"You think it's something bad?\", 'Neither have I. [_smiles_]', \"*Presently, Kalahan takes another bite before he looks over at Lauren.* I'm tempted to go check on them...what do you think?\", \"*~~[retroactively]~~ Kalahan raised an eyebrow as Cobalt left and the look on his face, then the other at Charlotte's behavior before she disappears too.* What...was that...are they? No...\", '[*shakes head, smiles*] This is not a scenario I ever had to consider before', 'Either of those would be...entertaining.', \"I...honestly don't know how she'll react to this. She'll either jump straight into Protective Big Sister Mode, or else fall out of her chair laughing\", 3729]\n",
      "count 9\n",
      "['I think at this point I have nothing left to lose. But all of you have people you care about. I just wonder, maybe we say yes, on the condition that these people protect them.', '...What _are_ your thoughts on all this?', '[*nods*]', 'I don’t know. I didn’t really sleep well last night', '(( 🤷 ))', 'Not sure why that made you storm out like that....', 'I get that', 'I guess. I just want to get back at them, you know? The corps', 1351]\n",
      "count 9\n",
      "['[_texts_] o rite, rite...i wuz wonderin if uve heard anythin about a  subsid. missing stuff.', \"you're gonna have to be a bit more specific there, chummer\", '[_texts_]  u hear any chatter lately about neonet', '[_texts back_] yo', '[_at some point later_] [_texts Moniker @ultranos _] Hey', 'I should let you get back to helping clean up. Or your parents.', 'Sounds good.', 'Like I said, anything you want to know. I can put together a file on what Cobalt and I have managed to figure out about technomancers, and then we can go from there?', 4677]\n",
      "count 9\n",
      "['[_Opens her eyes. It takes some time but she eventually sits up_]', '...Hopper?', '[_you will see Hopper lying down with her eyes closed_]', '[_charlotte will excuse herself and go across the hall to the infirmary_]', 'Yeah, I get the feeling things are not supposed to be on fire this much.', \"[_to Medusa_] Hi. Welcome to the crazy. It's...more than normal.\", 'Yeah. ...And I should probably go check on Hopper.', '[_grimaces_] No wonder. This is going to be messy.', 2655]\n",
      "count 9\n",
      "['For...sentimental value? Or..?', 'So? They ended up useful!', 'For _college_, which you _already went to_.', '[*rolls eyes*] Fine, _brochures_.', 'Some are thicker than just...pamphlets...', '[_looks confused_]', 'Those..pamphlets?', 'Uh, what are these things?', 2359]\n",
      "count 9\n",
      "['no', \"i'd understand if you did\", '...are you going to?', '@Charlotte i thout about disapprng again', '(( cool ))', \"((it's gonna be at least a few days before you should expect to hear anything from the Triad))\", '((wait how much time has passed in game since the last run? ))', 'i was worried', 75]\n",
      "count 9\n",
      "['[_to Cobalt and Shiro_] What _were_ you doing out there?', '[looks at Charlotte] oooh, right, a matrix mage.', \"Just because I was gone for a month doesn't mean you get to forget everything I taught you.\", \"He's like me, remember?\", \"Nah. That stuff's beyond me.\", '[squints at cobalt] you’re a shaman, too?', \"Because _somebody_ wouldn't stop throwing me.\", '[_sighs_] Yeah. I know. I was making friends with the ground this morning.', 1588]\n",
      "count 9\n",
      "['Ah.', '[_to Hopper_] Well...we managed to go from \"wanting to kill each other\" to \"ready to kill other people _for_ each other\".', \"[_lifts head from hands_] Thing is, I'd expect of the two of us, _she'd_ have more of a clue on how to proceed here. Seeing as how she, you know, actually has more experience on being an active sibling.\", '...do tell', \"We're offering sibling advice\", '...is this about her sister?', '[_rolls eyes_] _Such_ a way with words.', \"We're attempting to help Amarok unfuck a situation.\", 3087]\n",
      "count 9\n",
      "['You..I wouldn’t say..that', 'What do you mean?', 'I don\\'t know if \"easy\" is the right word.', \"Yeah, no, I am very aware of how easy I've had it, all things considered\", 'Not a bad thing...', '[*shrugs*] Guess I never really needed that particular outlook', 'It works. Sometimes.', 'But whatever works, I guess?', 1797]\n",
      "count 9\n",
      "['[_sighs_] Your sister and I are just concerned.', '[*shrugs*] I agreed to try, because otherwise they will _never shut up about it_.', \"I'm more than willing to try to help, but...you do know therapy really only works if the person _wants_ to be there.\", '...And by \"we\" she means her and Nix', '[_Julia looks concerned_]', \"Hi, so..[_glances at Charlotte_]...Charlotte's been having trouble sleeping because of night terrors and we were wondering if you could maybe help her talk through it.\", \"[*shockingly, it does not seem like charlotte is going to be the one to volunteer an explanation for what they're doing*]\", 'Hi', 5102]\n",
      "count 9\n",
      "['i mean', 'sorry', 'no everyone is not okay, no everyone is not alive, or no the job did not go south?', 'no', 'you have told me you paniked over something on a job and messed up. this might have been because you did a \"stupid thing\". except your teammate was there to cover for you so...everyone is okay? alive? did the job go south?', 'am i making ne sense???', 'i am currently failing to see how a completely normal human reaction could have led to this', 'i panicked', 348]\n",
      "count 9\n",
      "['[_has an unamused look on her face for a few seconds. Then she sighs._] @Charlotte ...that’s fair', '@bitjockey omg we did nt gt u out of tht dprssng apprtmnt so u cld hide in th fckng attic', '[_stops talking to susan and notices the commlink blinking. She drops her squirrel friend for a bit to pick up the commlink. After reading Charlotte’s message she waits a minute or so and then responds_] @Charlotte thats fine. isn’t most of ur fam downstairs? is there enough room for me anyway? maybe i should just stay here [_her stomach grumbles and she grimaces_]', \"[*messages @bitjockey bc actually walking upstairs is for chumps*] hy btw we dn't nrmlly use rnnr hndls @ dnnr. tht ok wth u? u cn stll go by hppr if ur mr cmfrtbl\", 'And I _know_ you.', 'I am _right here_.', \"It's more a heads-up so she doesn't get startled if I yell at this one over here for juggling knives at the table.\", \"Let her know it's fine either way.\", 997]\n",
      "count 9\n",
      "['[_sighs_]', 'Well.', \"She won't tell me\", 'My sisters apparently have decided to crash my room', 'What is going on?', 'So...', 'Hey', 'Hello..', 3697]\n",
      "count 9\n",
      "['What can we do to help...', '[_Tachyon takes the teapot and goes into the kitchen_]', \"Although I should probably make some more. It's...gonna be a long night.\", \"Oh, that'd be nice, thanks.\", \"[_nods slowly_] I don't really understand magic, the astral plane or whatnot, but I suppose we have to try whatever we can.\", '[_to Hopper_] Did you want to sit down? I can get you some tea.', \"That's what I said\", 'Ooh, [_perks up_] The Orichalcum is a magic component!  That should help!', 4326]\n",
      "count 9\n",
      "['[_grabs the med supplies_]', \"[_charlotte gives nix as much info as she can about shiro's condition_]\", \"[_It is clear Shiro hasn't slept in days._]\", '*Kalahan purses his lips as he glances down at her.*', '[_hands over med supplies_]', \"[_once the coughing is over, she doesn't bother wiping the blood from her mouth...since she can't since her usable arm is clinging to Kalahan_] ...had started...acting up. ...made it worse...then...had to...get home.\", '*Kalahan purses his lips and makes sure the trip to the car is as gentle as possible.*', \"...deadman...switch. ...last target. ...didn't...quite clear...it. [_she starts coughing again_]\", 4459]\n",
      "count 9\n",
      "['[_texts_] idk what to do', 'We bth shld hv', '[_texts_] i worked for them. i should have known', \"[_frowns_][_texts_] ...I shld've hd us prprd fr smthng lk tht\", '[_texts_] i should have stopped them. i should have known better. its my fault.', '[_texts_] ....nt th 1 who nds to aplgz', \"[_texts_] sorry. i know there's a lot going on already\", \"[_texts_] srry, I wn't  bthr u\", 3956]\n",
      "count 9\n",
      "['Thanks..for your help.', '...anyway, yes. I should..get back.', '[*innocent look*]', '[_blinks_]', 'Well I suppose we take this stuff to your new place.', 'So..what do we do next', 'Yeah', 'Hope they..figure something out.', 2215]\n",
      "count 9\n",
      "[\"Yes...if that's...alright.\", '[_gives Hopper a look before opening the door wider_] Did you want to come in, or...?', 'Just wanted to talk to her about something.', \"Hey. And yeah, she's here. What do you need?\", 'Hello. [_quietly_] Is Shiro here?', '[_Amarok opens the door_]', \"[_meanwhile, heads to Amarok and Shiro's apartment and knocks on the door_]\", '[_Cobalt will lead Charlotte back to his place for more Matrix shennanigans_]', 3445]\n",
      "count 9\n",
      "['I...just wonder sometimes. What I would be like...if none of this happened.', 'I suppose.', '...But, whatever they did? _You got through it._', '[_Akari is silent, but her hands are clenched so tight her knuckles are white_]', \"...I'm so sorry\", '[_looks down_] Who knows..what they did. That year.', 'Alex, I...', \"I have been trying. To remember. And I can't.\", 3231]\n",
      "count 9\n",
      "[\"They modified her genetic sequence to the point where it...doesn't look quite right, even to me. I have..a very basic understanding of this.\", '[_gives Medusa a quick sympathetic look_]', 'We...knew it was pretty bad.', '[_Medusa looks blank-faced_]', 'Worse than it looks?', \"I'm not affected, but Shiro's is..even worse than it looks.\", \"[_slightly alarmed_] That was fast. What's wrong? How bad is it?\", '[_is concerned_]', 2857]\n",
      "count 9\n",
      "['Yes.', 'Just, completely ok.', 'I am.', \"[_clearly not buying it_] You're telling me you're totally fine?\", 'Yeah.', '[_gives hopper a flat look_]', 'Sure.', '_Is it_, though?', 2730]\n",
      "count 9\n",
      "['(As hopper) yes Susan I had a VERY rough day', '(As Susan the Squirrel) didja have a rough day, chunmer?', '((wat))', '(( 😶 ))', '((oh my god))', '_puts the commlink down and puts on the terrible hand puppet made from an actual squirrel and starts speaking as said squirrel_', '(( I will come back to this when it isn’t nearly midnight for you all @ultranos ))', '_instead takes out her commlink_', 318]\n",
      "count 9\n",
      "[\"Well...my dad really didn't say much.\", \"...They didn't?\", \"Maybe, it's not like they told me much about, well, anything about our family.\", \"Maybe they didn't know?  Or you could be the first?\", \"I don't recall my parents ever telling me about there even being one in our family...\", 'I can only imagine', \"It's a lot to take in\", \"I don't know if I believe it yet?\", 5471]\n",
      "count 9\n",
      "['[_sips cold hot chocolate_]', '[_sighs_] What is it?', \"There was a lead, in those files. That we could move on. But I don't know if we _should_ right now, or if you need more time.  Waiting feels like a stupid idea but if you're not--I mean it could just make things worse and [_catches herself before going too far into an anxiety spiral_]\", '....that is fair.', \"I'm..not sure what it is you're getting at.\", '[_Medusa possibly quietly facepalms_]', \"I have a question that I don't. ...actually know how to ask without possibly causing....more issues\", '[_Looks at Charlotte_] Hmm?', 2864]\n",
      "count 9\n",
      "['[_shakes head_] I.. [_shrugs_]', 'Many, many years ago.', 'Well...we did. Um. Try that.', '...you ok there?', \"Wow. [_blinks; shakes head; opens mouth as if to say something, but still can't word_]\", '[_head tilt_] *whine*', '((just the not!moms! And Cafall.))', '[_looks innocent_]', 1960]\n",
      "count 9\n",
      "[\"We'll figure it out.\", 'You made it through the astral space somehow.', '[*makes a face*] Great. Just what I wanted to hear.', 'And, well [_winces_] ...there will be areas where Matrix access is at best limited, if at all available.', '..Well, no.', \"I mean, you're not going to drive there yourself...\", \"Ugh, yeah, I hadn't thought about how long it would take. And I wouldn't say no to company. Especially people who know the area...[*glances at hopper*]\", \"Driving's gotta be, what, 8, 10 hours?\", 5369]\n",
      "count 9\n",
      "['o', 'on shamans', 'i...need information', '[*charlotte is typing*]', 'wut r u workin on', \"i'm doing some side research atm but later i can do some digging\", 'worth looking n2', 'gd pt', 472]\n",
      "count 9\n",
      "[\"Well that's good.\", 'Yeah, we stopped somewhere for dinner. It was quite nice.', \"Didn't see you all at dinner...did you go elsewhere?\", 'So..how was your day everyone?', 'This is very good.', 'Oh...hello.', '[_looks like a deer caught in the headlights_]', 'Guess you had the same idea!', 3749]\n",
      "count 9\n",
      "['[_texts_] im at akari and julias place tho. Give me a few mins', \"[*to cobalt*] looks like we're meeting at Hopper's\", '[_texts_] sure', '[*texts*] ur aprtmnt?', '[_texts @Charlotte _] ok', '[_is now awake_]', '[*charlotte will text @bitjockey @Omnilord @Kalahan about meeting up to discuss things*]', 'Sure!', 3407]\n",
      "count 9\n",
      "['[_nods_] Thanks for helping us out.', \"You'll need me out here anyway.\", '[_waves him off_] I get it. Call me if you need me.', '..Oh right. Let me see what they say about that.', \"*Kalahan sluggishly hugs the trunk once he reaches the bottom.* Y-Yuna, so um...th-the apartments, they're a bit...well, secure, I'm not sure how quickly we could get you in amidst all of this...\", '😨 🙏🏾', '[_heads down as well with R-biter_]', \"*Kalahan struggles to his feet, but manages it okay and wordlessly heads for the ladder. He does mutter quietly in Maori, and though no one can tell, he's simply saying bye to Quercus.*\", 4395]\n",
      "count 9\n",
      "[\"Any updates on who they're suspecting is behind that?\", 'Well, you made the news. Or at least, your activities did.', '[_doesn’t really react to what just happened_] Anything on there regarding a certain bunraku?', '[_Cobalt scowls up at Amarok. Amarok just looks at him blankly._]', '_::Collateral busts out laughing at Amarok crashing Cobalt::_', 'The room is also good for when we need to pull up things for a job.', '[*snorts*]', 'Mostly news from here.', 1484]\n",
      "count 9\n",
      "['No', \"...should you be drinking at all if you're taking that stuff?\", 'Mistakes were made. I shouldn’t have drank that mich..', 'Sorry. Still a little foggy', 'so, _actual_ ideas?', 'yeah no shit', 'Right', 'Youre', 252]\n",
      "count 9\n",
      "['[_nods_]', \"[*to hopper*] She's gonna do some checking\", 'keep you posted', 'please', \"i can see if anyone i know took the job, but i don't know if that's the case.\", 'shit. you need me to look into things?', 'But they’re not quite big enough to generate that much revenue...', 'Wonder if it might have been that company', 1118]\n",
      "count 9\n",
      "['Yeah I imagine', 'Those were a rough few years, yeah.', 'Yeah, I bet.', 'Hmmm.', 'Not...really. No.', \"I'm guessing...it didn't make up for the rest of it, though.\", \"It's a decent upside\", 'Just the one', 1758]\n",
      "count 9\n",
      "['[_can’t seem to look at her_]', 'Are you going to tell me _you_ are not?', '[_quietly to shiro_] You are', \"*Kalahan clenches his fists as he watches, trying to focus on the moment and not fall into memories he'd rather not remember right now...or ever.*\", '[_looks away from shiro_]', '[_figures Hopper is in good \"hands\" and that this drama isn\\'t as serious as he was worried (poor Collateral having a rough time thinking beyond what is visible at the surface) and takes a sip of the beer in hand and just kinda watches things unfold_]', 'Or was that a lie?', '[_still quiet, focusing only on Hopper_] ...and I am _far_ more damned than you are.', 2683]\n",
      "count 9\n",
      "['I...wow.', '[_snort_]', 'That...is quite old.', '...', \"He was born in '97.\", \"[_amused_] Been wondering that, haven't you?\", 'How old _is_ he?', '[_sighs_]', 3549]\n",
      "count 9\n",
      "['[_to Shiro and Amarok_] Hello.', 'Yes! Lauren, this is! Sorry, my brain just broke or something, apparently I died the other day.', '[_laughs_]', '*Kalahan.exe has now rebooted, and he excitedly gestures at Lauren and smiles. Define \"rebooted\", actually.*', \"Of course it is! Why couldn't he bring his girlfriend?\", 'Kalahan said it was all right to come.', \"[_grins_] Nice to meet you. You're Charlotte's mom, right?\", \"[_to Lauren_] I'm sorry, we haven't met. I'm Olivia.\", 4546]\n",
      "count 9\n",
      "['[_nods_] Yes.', '...Hopper, right?', '[_Hopper will engage with the conversation with Collateral and so_]', \"*Kalahan's just watching on in great amusement, still hanging close to Lauren.*\", \"[_Julia will walk out from the kitchen with more drinks. She'll then come over by Collateral and the rest. Akari steps outside._]\", '[_Medusa and Gadget are far too used to Weird Technomancer Shit to care, although they will heckle_]', '[_mouths_] Later.', '[_turns to Nix with a bewildered expression_]', 3153]\n",
      "count 9\n",
      "['[_Nods_] Right', 'Autopilot?', '[_tilts head_] ...right. But...you seemed like you...were closer to having something now.', 'Yeah..', 'It\\'s...you got stuck on \"survive\", didn\\'t you.', \"I'm confused.\", \"[_quietly_] I dont' think so\", '[_shakes head_]', 2804]\n",
      "count 9\n",
      "[\"I'm fine.\", 'Oh uh.', 'And how you were doing.', 'I just...wanted to check up on you. On things.', '[_quietly_] Hey.', '[_opens the door looking a bit hagggard_]', \"[_The next day (6/28) if Hopper hasn't come out of her apartment by 4pm, there's a knock on the door_]\", '[*texts*] [*curses in multiple languages*]', 2499]\n",
      "count 9\n",
      "['I would...do the same.', 'You have _no idea_', '[_smirks_] Can’t blame her for that.', \"I'm pretty sure it took _convincing_ to get Medusa to not...._deal with them_\", 'They’re just...yeah, failures at being decent human beings. You’re right.', '[_sighs_] Yeah..like you said, some people really shouldn’t be parents...', 'They _also_ failed spectacularly at being decent human beings', \"...She kind of sounds a bit like Nix's bio parents. What little I know about them, anyway.\", 1787]\n",
      "count 9\n",
      "['I thought they were married the first time I saw them in one room.', '[_groans and buries her head on the table_]', 'But anyway happy almost anniversary. [_grins_]', 'Hard to beat those two, yeah. [_gestures to moms again_]', 'Such a high bar.', \"Hey, at least it wasn't 11 plus years.\", 'Made me lose a bet.', 'Oh yeah.', 4650]\n",
      "count 9\n",
      "['[_accepts mug_] Thanks', '[_offers it to Hopper_]', '[_proceeds to continue to the kitchen to get a mug, pours a mug of tea_]', '[_blinks_]', '[_heavy sigh_] So...apparently we neglected to say anything about this, so I apologize on behalf of my team for our lack of communication. Ruki Takahashi is currently in the custody of the Block Party. We plan on getting information from her, but after that...[_shrugs_].', '[_to Amarok_] Good morning.', '[_looks up_] Good morning', '[_Amarok is sitting in the kitchen, reading a book with a mug of tea_]', 4707]\n",
      "count 9\n",
      "['[_will respond if someone says something_]', '(( ok 👌🏽))', '((charlotte is walking into that room))', '(( are we back in wherever the group is? ))', \"((nah, she wasn't even thinking there'd actually _be_ any))\", '((unless you made it clear that you wanted her to try to find the art supplies right this second))', '[*rejoining the group it is, then*]', '[_It looks like Amarok is back to staring at the lake. Or sleeping?_]', 1359]\n",
      "count 9\n",
      "[\"[_texts_] 👍 Ok, well..now I need to..go somewhere and hide? I'm not sure tbh\", \"[_texts_] Medusa knows what she's doing\", \"[_texts_] I don't either. Those two will be fine. Right??\", \"[_texts_] ....I don't know how to take that\", \"[_texts @Charlotte _] I think my suburban mom act just got me kicked out the auto-shop because Medusa and Kalahan are there and I'm allegedly getting lunch.\", \"I feel ya. All right. Let's see what we can do for your boy here.\", '[_mutters_] _Why_ is she like that?', 'Toodles! [_walks off_]', 4847]\n",
      "count 9\n",
      "[\"[_is trying hard to avoid looking at Charlotte_] [_softly_] I don't want to be a burden\", '...You could stay over at the house for a bit? Until you find a better place, I mean. I know my parents would be cool with it.', \"Just 'cause they made you used to it doesn't mean you've gotta stick to that.\", 'Well, fuck them and their shitty standards, then', 'I mean, what they put me in before I left the CFS', \"[softly] It's what I'm used to. It's what they put me in\", \"I'm sure it's....fine....for short-term living. But if you're gonna be sticking around....\", 'It’s [sighs, as per usual] not ideal', 931]\n",
      "count 9\n",
      "[\"Maybe, it's not like they told me much about, well, anything about our family.\", \"Maybe they didn't know?  Or you could be the first?\", \"I don't recall my parents ever telling me about there even being one in our family...\", 'I can only imagine', \"It's a lot to take in\", \"I don't know if I believe it yet?\", 'Confused?', 'Ah. So...how are you feeling about it?', 5470]\n",
      "count 9\n",
      "['idk but i was completely useless in our last job and she basically did it all herself and', '[ frantic typing ]', 'what happened?', 'shes brilliant but i think i broke her 😦', 'lol', 'oh u dont even kno', 'must have a sweet deck', 'she is powerfu', 336]\n",
      "count 9\n",
      "['Mind if I, uhm, sit there? [_walks closer, gesturing towards somewhere with space_]', \"We're just...sitting out here.\", \"We're not busy.\", 'How, uh..are you...?', 'Yeah...', 'Um...did you sleep well?', '[_waves awkwardly_]', '[_Both startle and then look behind them at Hopper_]', 1980]\n",
      "count 9\n",
      "[\"(( while I wait for a response from my student I'm going to bug @Charlotte )\", '..thanks', 'I am here, though, if you need anything.', \"You'll decide to talk to her when you're ready. I'm not going to force you.\", 'Of course.', 'idk if im ready to talk to charlotte again. could u let her know im okay?', 'thanks', \"But I'll get you your meds in either case.\", 63]\n",
      "count 9\n",
      "['Do we know who the Johnson was for those runners?', \"It's possible.\", \"Or thought they'd been double-crossed?\", 'So what if the client was pissed off?', 'Yeah, I think so.', \"[*to hopper, apparently not paying attention to Gadget*] Phaeton was supposed to deliver to a dead drop, right? But he didn't, obviously.\", \"Because I don't know if I'm actually sleep-deprived enough to _forget_ that part\", '...Oh, shit.', 1195]\n",
      "count 9\n",
      "[\"Charlotte's just too humble to admit it.\", 'See? It _is_ magic.', \"[_Amarok gives up on holding laugher in and just hides her face in Shiro's shoulder to completely muffle it._]\", 'Mmhmm. Back in the day. It was how otaku would do their matrix magic.', '[looks at a clock] it’s too early for this...unless it’s Sunday and all of you is hiding mimosas from me...', 'Fire...wire?', \"[_Julia's shoulders shake harder_]\", '[_chokes on coffee_]', 1605]\n",
      "count 9\n",
      "[\"Alright. I guess I'll deal with...[_sighs_] what we talked about later. Can I help clean up or anything?\", 'Never.', \"If it's not too much of an imposition...\", 'You can stay around longer, if you want.', 'Right, I should probably go', 'Okay.', \"It's fine. I'll talk to one of them.\", 'Would you be comfortable with anyone of them? Or should we try to find someone else?', 5026]\n",
      "count 9\n",
      "[\"Oh I'm sure....well, for what it's worth...you make a cute couple. [_grins_]\", 'That is...wow.', \"I'm still feeling a little blindsided, honestly\", 'I _know_', 'Yeah. Especially since you thought you were completely aro...', '[*small smile*] Still an adjustment, but...yeah.', 'That is...good.', '[_smiles a little_]', 3781]\n",
      "count 9\n",
      "['....You know what...I will...go fetch my cyberdeck, because now I am curious.', '[*to cobalt*] Wiz.', 'Single sprite. The snake is her tail.', '[*to cobalt*] Are the snake and turtle a single sprite, or is this a team-up situation?', '[*to hopper*] One of the sprites is giving Cobalt _attitude_', '[_the turtle rolls her eyes_]', \"[_to Genbu_] I swear to god she's influencing you.\", '[_looks bemused_] ...What is so funny?', 2572]\n",
      "count 9\n",
      "[\"It's fine. It's a lot.\", 'Never mind.', 'That...', \"No, it's---sorry, I'm just on edge because of the [*gestures vaguely*] everything\", 'I..[_flails hands_]..[_sighs_] I just thought...', '[_raises hand_] Should I still be here?', \"I'm sorry, _what_\", '...Parental.....', 4170]\n",
      "count 9\n",
      "['[_texts @Charlotte _] i think theres someone here u should talk to. Seems like u might have some stuff in common', '((what kind of soycaf preparation machine is there?))', '[_looks side-ways at Charlotte_]', '[_sighs_] I think I need more soycaf. [_gets up to get some_]', '[_back in the house, people are still at breakfast, although people seem to be finishing up. Arcade has put leftovers away and has walked out to a common room with his cyberdeck. Temper is working on paperwork. Amarok and Shiro are carrying mugs of soycaf over to the common room as they continue discussing something. Julia and Akari are talking to each other at the table still. Thea and Robin are talking with Hopper and Collateral_]', \"(( what's happening elsewhere on the compound? ))\", \"[*shakes head*] Nah, it's fine\", \"I don't know if that sounded dickish.\", 1647]\n",
      "count 9\n",
      "['[_sits down nearby, close to them_]', '[_quietly, so only you and Akari can hear_] Alex...sit with us?', \"It's...a lot.\", 'How are you both holding up here?', '[_Akari smiles uncertainly_]', '[_leaves the cockpit, and heads towards Akari and Julia_]', \"[_Shiro is piloting the VTOL. In the passenger area, the two other people that were extracted are sitting, looking nervous and confused, but mostly relieved that the excitement seems to be over and that they're all still alive. Akari and Julia are sitting next to each other, almost pressed shoulder-to-shoulder, hands clasped out of view. Their eyes will basically track Hopper if she's outside the cockpit, but otherwise they'll mostly keep their heads together, looking slightly awkward around anybody else._]\", '((working on that!))', 1494]\n",
      "count 9\n",
      "['Oh yes. That as well.', 'Oh, I also saw some classic Disney at the silo?', 'I am rather fond of those', 'Are you all..familiar with that classic, the Harry Potter series?', \"....I guess one of these days we'll have to do a movie night.\", '*He just slumps and goes quiet.*', '...sorry.', 'Uh...sorry. I am also..bad at media.', 3059]\n",
      "count 9\n",
      "[\"@Charlotte SO he's a decker?\", '!export', '!export', '[_rolls eyes but smiles_]', 'Well, my dad is extremely good. You know, for a decker. [*grins*]', '[_A small smile_] You? Fail at hacking? Even as a kid? I find that hard to believe.', \"[*she smiles, remembering something*] When Dad first found me, I had just failed at hacking my way past his security. And instead of getting mad, he told me what I'd done wrong. He was the first person to help me be _better_ at that\", 'They are. I got lucky', 898]\n",
      "count 9\n",
      "['[_gets up to open the door_]', '[_Akari and Julia engage in small talk with Amarok._]', '*As they reach the door, Kalahan sends Lauren a smirk before knocking on the door of the apartment.*', '[_goes over to stand next to Akari_]', '[_gives her a look_]', '[_hands Shiro mug of soycaf_] She can always handle more teasing.', \"*Kalahan follows Hopper's directions to their—and more importantly Cafall's—location, with Lauren in tow.*\", 'My..feet hurt.', 2065]\n",
      "count 9\n",
      "['[_for some reason says this aloud_] It\\'s interesting how \"shi\" can mean \"death\" depending on the context..', '[_after the third chapter or so, puts the book down, rolls eyes, and sighs in exasperation._]', '[ _is watching _ The Indomitable Spy: The Series _, a spin off from the movie that has FIFTEEN WHOLE SEASONS!  The description of the series suggests that it \"documents\" through dramatic fiction the rise of shadowrunning as a spycraft profession_ ]', '[_Amarok notices the book, smirks_]', \"[_Sits wherever there is space, and resumes reading. Occasionally mutters something about 'what the fuck is this drek'_]\", \"[_Shiro is upright on the couch with a tablet in-hand, working on something. Amarok seems to be discussing something with Robin. Cafall is asleep near Amarok's feet_]\", '[_at the library; softly_] This is stupid. [_gets up and takes the book with her and heads to the common room again_]', '😛', 1735]\n",
      "count 9\n",
      "['Yeah...', 'There was a mention of that, in the data dump. From the person who then went missing.', '[_collateral goes super quiet, eyes kinda wild like he wants to break something and is straining to not.  He puts the glass of water down lest he break it._]', \"Specifically, Yomi Island. And whether some of what went on there might be relevant to what we're dealing with now.\", 'The, uhm, anti-metahuman angle of...this corp drek', 'Anyway, we were discussing...', '*Kalahan just raises an eyebrow at him and shakes his head slowly, still not speaking just yet.*', \"Hey!  Do you like Ork music?  I got some good [ _nothing but garbage noises come out of Collateral's mouth, he isn't fluent in Or'Zet_ ].\", 2565]\n",
      "count 9\n",
      "['..Cup 2?', \"Good morning, Alex. Akari's halfway through cup 2 of soycaf, so about 75% awake.\", '[_Julia opens the door._]', \"[_After she finishes her soycaf, she knocks on Akari and Julia's door @ultranos _]\", '[_texts_] Okay thanks', \"sure, but I'm pretty sure Temper has the full suite at the Silo. he might have some basic scanning stuff here?\", '[_In her new apartment, Hopper enjoys a fresh cup of soycaf. Then, she takes out her commlink to text @ultranos Amarok_] hey this is a weird question but r u free to have Cafall 3d scanned', '[_Current date: 6/24/2075, morning_]', 2401]\n",
      "count 9\n",
      "['They really [_shakes head, jaw stiffens_]...I fucking hate megacorps', \"It's not. [_sighs_] This is not even the most recent sample from her.\", \"That doesn't seem..right\", \"Shiro's isn't...\", \"So. What's your analysis?\", '[_frowns_]', \"[_Laid out like this, it is obvious that there is something **wrong** with Shiro's, even with just your crash-course knowledge. It looks significantly different from the other two. In contrast, the baseline's with Hopper's looks very similar, with only a few differences here and there, things that are easily explained by genetic quirks and normal variances._]\", \"All right, so this [_points_] is the baseline human. This one [_points to the next one_] is yours. And the third one here [_points again_] is Shiro's.\", 2848]\n",
      "count 9\n",
      "['[_sips soycaf_]', \"...shouldn't you be all upset I was all but drooling over your girlfriend?\", '[_charlotte appears caught between being annoyed and finding this hysterical_]', '[_smirks_] I’m sure that was a pleasant sight.', \"I'm with Amarok.\", 'Sorry not sorry this is _hilarious_.', '*Kalahan had followed and is currently trying his best not to giggle like a little girl, though he does have a huge grin on his face.*', '...can we go now?', 2937]\n",
      "count 9\n",
      "[\"Seems like a pattern. Not that I'm complaining.\", 'Nope. I bought it. They all still live there, though. Rent-free, like I said. Which is why I get yelled at.', \"Ah. It's not?\", \"[_calmly_] My mother worked there. She still lives there, although it's not a brothel anymore.\", '[_makes a face_] ...How _did_ you end up being raised there?', '[_shrugs, has now dug a bigger hole. Literally_]', 'You say you were privileged, but...I think I was luckier than you.', '[_chuckles_] Yeah, I can believe it. In my case, I just had a _ton_ of overprotective grandmothers and aunts and uncles watching over me.', 3623]\n",
      "count 9\n",
      "[\"I should..probably go. If you need anything my commlink is..always open. Uhm, hope you'll be okay\", \"(( you found charlotte's Trauma Button!))\", '(( 🤦🏽 ))', '[*relaxes a bit, but is still clearly more on-edge than she was before*]', '_nods_', 'There are...complications...with that. And I _really_ prefer not to talk about it.', '_[Nix tenses from the corner, but does not end her phone call or move back over]_', 'Oh.', 303]\n",
      "count 9\n",
      "['[_also aloud_] Oh', '[_to hopper, out loud_] Medusa.', '[_still text_] oh sry i didnt respond', '[_takes out commlink and texts @Charlotte _] who were u txting', 'You can do that? Wait, I guess that makes sense.', '[_charlotte suddenly remembers there are people around_] Oh, uh, I was texting my sister', '[_gets a glass of water, but is giving Charlotte some weird looks_]', \"What's so funny?\", 1934]\n",
      "count 9\n",
      "['[_will go straight to the soycaf_]', \"[*if breakfast is ready, charlotte will grab some food + juice. If not she'll settle for just the juice. If Collateral is still talking about satellites she will give Cobalt a sympathetic look*]\", '[_will also follow without realizing she said that aloud_]', '[_Amarok, Shiro, and Cafall will follow after Charlotte._]', '[*gives hopper a sideways glance before heading back inside to the kitchen*]', '[_softly_] so strong', '[_Cafall is doing that doggy stretch_]', '[*will also let herself be helped up*]', 1846]\n",
      "count 9\n",
      "['Mm. [_nods_]', \"Here, though...yeah, it can...get lonely. Cafall obviously tries his best but...[_she scratches Cafall's ears_]\", \"It's...easier, back at the Silo. Other people are there and there's...well, we chose that place for a number of reasons.\", 'I hate sounding needy, but...god, this job had _shit_ timing.', 'I...might take you up on that. Or...you could come over.', '[_coughs_] Yeah, i can understand that.', 'I’m...glad everything is, uh..soundproff.', '[_laughs_] Yes...something like that.', 2239]\n",
      "count 9\n",
      "[\"Yeah... [_slides her fingers through her hair_] it's been a rough night.\", '....sorry', 'Yeah no shit', \"I mean. I'm not.\", '[_closes eyes and breathes in and out_] Fine.', '[*nods, suddenly becomes interested in looking at her fidget spinner*] Right. \"Fine\".', \"Uhm.. [_Sighs_] I'm... _fine_. I think.\", \"[*charlotte isn't at all bothered by hopper not looking right at her, because same*]\", 671]\n",
      "count 9\n",
      "['Sure.', 'Damien has a large and eclectic family. Very fond of adoption, that family.', \"Do you want to be Helen, mother of 2? 'Cause I can do that.\", '[_takes one_] Thanks.', '[_rummaging in pockets, pulls out 3 cheap comms_] Here.', '[_distractedly_] Damien.', 'Car belongs to an \"uncle\" of yours.', \"There's already a credstick there [_there is_] that has a SIN attached. SIN's fake, but legit enough to cover this.\", 4816]\n",
      "count 9\n",
      "['Oh', 'no', '[another long pause]', 'I see. Do you remember your family before that?', 'Not that it was ever a secret or anything.', 'Oh. Well, now you know', 'I kind of figured but..I didnt want to assume...', '...did you not notice that Nix and I look nothing alike?', 126]\n",
      "count 9\n",
      "['[_comes back, connects to the Matrix_]', \"Since it's a pretty indefinite task.\", \"It does mean she'll chew through tasks twice as fast, but that's _usually_ not a huge problem.\", 'It fits.', '[_grins_]', \"Plus it adds to the overall aesthetic you've got going on here.\", 'That _is_ useful.', 'But the two-heads thing does mean she can focus on two things at once. Which is useful', 2573]\n",
      "count 9\n",
      "['(( 😂 ))', \"[_Gadget chooses this moment to come **barrelling** down the stairs. He doesn't realize Hopper is there, so kind of smacks into her._]\", \"[_obviously can't just storm out of there, so she's just kind of standing there, avoiding eye contact._]\", 'Yeah, so, a thing happened', 'I...do...', 'I thought you had 2 sisters.', '[_Tachyon notices._]', '[_hopper has the deer in the headlights look on her face_]', 1002]\n",
      "count 9\n",
      "['Yeah that was some interesting timing...', 'The fact that he sent _that_, and then two months later was in Hong Kong for the Breakout.', 'That one is also... [_makes a face_]', \"....I don't know how to feel about the postcard he sent right before that one.\", \"If that's a coincidence, I'll eat my fidget spinner.\", 'That cannot have been a coincidence...', \"Yes, that's a bit...suspect.\", \"Yeah, but there's a _lot_ to fill them in on, now. Like the fact that Toby was in fucking Hong Kong in June 2070.\", 5505]\n",
      "count 9\n",
      "['Uhm, so...Kalahan himself might be better..at explaining this...', '[_will open the door if you knock_]', '*Kalahan with Lauren in tow heads over then to meet up with Hopper and co.*', 'Cool.', \"*looks back to Lauren* Kay, it's official, it's cool if we both go. We go?\", '[_texts @Kalahan _] sure', 'Here, wait, lemme just–\\n*texts @bitjockey * is it cool if Lauren comes', \"[_looks up from what she's working on_] Hm? I mean, if she's offering, I won't say no to free food...\", 2312]\n",
      "count 9\n",
      "['Interesting.', '((jfc discord))', '[*to hopper*] You can ask my dad. To a non-technomancer sprites are just..._junk_. Total nonsense', \"Right, right. [_nods_] I'm just curious, is all.\", '[_Mikhail is on something of a rant on how the hell someone can fuck up **simplified Chinese**.  He will continue unless someone stops him. _]', \"No, I mean it won't _look_ like anything to you\", '[_to Charlotte_] Maybe later?', '[_Erika laughs at something Kotori said. Kotori looks smug._]', 1022]\n",
      "count 9\n",
      "[\"I don't know.\", 'Anything I can do to help?', \"[_doesn't say anything, just stares off into space_]\", 'How are you handling....things? I know it was all..a lot.', \"[_Rubs her eyes, stares in the general direction, but doesn't say anything_]\", '[_Opens her eyes. It takes some time but she eventually sits up_]', '...Hopper?', '[_you will see Hopper lying down with her eyes closed_]', 2658]\n",
      "count 9\n",
      "['[_snorts_]', 'The somewhat weird tribe of metahumanity we have somehow adopted.', \"[_smiles_] I guess..I don't know if, uhm..they consider me one\", \"They were. [_looks down_] I guess what I'm trying to say is that I wouldn't mind too much doing something similar. Here, I mean. For...your friends. Our friends?\", 'That..sounds like fun.', '[_rolls eyes_] No, because you know very well she ended up winning award for conference talks left and right after that.', 'And she was never timid again, was she?', 'Because you got her _roaring drunk_.', 2176]\n",
      "count 9\n",
      "['[_Hopper texts her moms while heading to her apartment_] hey can i drop by', '[_Nix fails to stop her_]', \"Good. I'll go do stuff, you can get back to your sciencey bio stuff. [*she will leave unless stopped*]\", '_Yes_.', \"Just promise you're not gonna try to pull an all-nighter tonight. You need _sleep_\", 'Clearly need caffeine.', \"Stop thinking so hard. It's fine. Go...do something. Okay, I'm bad at words now.\", 'Yeah, yeah.', 4958]\n",
      "count 9\n",
      "['Friends?', '[_Collateral is not in the common room.  There is an episode of X-Files paused on the closing credits_]', 'So, funny story. [_holds up the envelope_] She found out he has friends.', 'Yeah?', \"[_to the rest_] Soo...remember how we were talking about Kalahan's aunt and how she's having a concert?\", '[_to Kalahan_] You. A goof.', \"What's going on?\", '*Kalahan looks over at Lauren and gestures wildly.*', 5050]\n",
      "count 9\n",
      "['[_smiles weakly_]', '*Kalahan shrugs innocently.*', \"I'm doing the same thing as you. Checking on this one [*nods toward kalahan*]\", 'How about you two? [_to Lauren and Charlotte_]', \"That's good.\", \"I'm doing fine...it's been a lot, but I'm managing.\", 'So how are you doing?', '[*smiles at hopper*]', 5223]\n",
      "count 9\n",
      "['That’s good.', \"yeah, i'm alright. Nix was pretty insistent about me getting some sleep, so\", 'How are you doing by the way? Have you had a chance to rest?', \"just in case we didn't have enough to be dealing with right now\", 'so. _worried_', 'yeah', 'Even then, who knows what her connection is with Cobalt.', 'She herself might be trustworthy, sure.', 536]\n",
      "count 9\n",
      "['Was that your sister?', \"Well it didn't _sound_ like glass, so probably nothing to worry about?\", 'Huh. What was that?', '[*snorts*]', '[_from downstairs_] SORRY.', \"I think I'd better go help your father.\", '[_crashing noise_]', 'Thanks, Mom', 985]\n",
      "count 9\n",
      "[\"[_after a long pause_] I figured it wasn't exactly a social call\", \"I mean, ok, apparently it was maybe a good thing she was there, but that's not really an excuse\", \"[_doesn't respond_]\", 'I....should probably, um....apologize', '[*drops into a chair and becomes very interested in a pen sitting on a nearby table*]', '.....Yeah. Um, about that....', 'Uhm, [_an awkward beat here_] so. Your sister. The one who saved me last night.', \"that's..right.\", 816]\n",
      "count 9\n",
      "['[_is in her room brainstorming drones to build_]', \"I don't think so?\", '...  Did I offend her?  _::looks at charlotte::_', '[_will go to her room if nobody stops her_]', 'Anyone seen Temper recently?  I...think I should let him see this note...', '...Please be careful', '_::puts the beer back in the fridge and sits down to read it::_\\n_1. Rest. Nothing strenuous for a week._  Whoops...\\n_2. Drink plenty of water, no alcohol for 5 days._ Ah come on doc\\n_3. Taken [pain medication] if discomfort or pain occurs at op site_ Not a wuss...\\n_4. If leakage..._ Leakage?!  _::tries to look at the seams for his surgery::_ how... _::spins around::_', '_::pulls out a sheet of paper that Kael gave him after the procedure with recovery instructions from Nix::_ Kael gave me this...', 1440]\n",
      "count 9\n",
      "['Hope that girl we got out of there is doing okay', 'yeah', 'I would feel the same if i ever had a sibling', 'But i get it. Shes just looking out 4 u', 'yeah. way too much happened for one day', 'Tbh yesterday was kind of a blur', \"...she wasn't too scary, was she? I'm kinda fuzzy on what happened, but I know she can get...intense...when she's in Protective Sister Mode\", 'please, they _wish_', 447]\n",
      "count 9\n",
      "[\"[_texts_] so...we're kind of...looking for more information. about stuff\", 'soooo...', '[_texts_] so ...', 'so what else?', 'excellent', '[_texts_] yeah theyre gr8', 'i guess, good enough with them to feel okay playing against megas', 'so your team, you good with them?', 2460]\n",
      "count 9\n",
      "[\"[_tears up_] No one ever tells you how lonely it is when you're ready to die.\", '[_pulls Hopper into a hug_] _Never_. We _never_ forgot.', '[_voice breaking_] I thought...there was no one left who would remember me', '[_quietly_] We...[_clears throat_] we kept a copy of it. And...we took it out every year when...on your birthday.', \"[_can't look at either of them_] [_softly_] It wasn't your fault.\", '[_Julia has tears_]', \"[_quietly_] It could have been anyone's. Just...drop in a name and dates and you're done. [_getting louder_] We'd...we'd failed you _so badly_ that they couldn't even find someone who _gave a shit_ to write more than _four fucking generic sentences_.\", \"It was...sparse. Boilerplate. That's...that made it worse. That there was no one who actually knew _you_ left to...write it.\", 3263]\n",
      "count 9\n",
      "['...right.', \"...and it doesn't _have_ to...be at your parents...\", \"...That's.....true.\", \"It'll...have to happen some time.\", 'True....', '[_has a strange look on her face, shrugs weakly_]', \"...you might...you know, it doesn't _have_ to be on the same day.\", \"...You're on board for this?\", 4226]\n",
      "count 9\n",
      "['Nice to get away from the chaos a little', \"I'm glad.\", \"That's good.\", 'a little', \"I don't know. Is it helping you?\", '....Is this helping?', '[*nods*]', \"I'm fine\", 3986]\n",
      "count 9\n",
      "['Hey', '[*goes to the apartment*]', '[_texts_] k', '[*texts*] b rght ovr', '[_texts_] any chance u can come here @ the apts', '[*texts*] ?', '[_texts @Charlotte _] hey i need 2 send u something', 'hopefully useful', 2470]\n",
      "count 9\n",
      "['[_lies down and tries to sleep_]', 'Okay. I will...[_sighs_]', \"...if you want to stay here, you're more than welcome to the bed or the couch.\", 'Sleep first, though. Or mindless entertainment.', \"[_deep breath_] Maybe...trying to forget isn't the best. Because eventually you'll remember again and it all will come back. Dealing with it...maybe that's something to consider.\", '[_head in hands_] How do I forget?', 'I...I think I’ll..actually sleep. [_sighs_] I’m tired.', 'That’s..not a bad idea.', 3342]\n",
      "count 9\n",
      "['I think that should leave us with Biotech, Environtech, Omnicare...', 'That too. Should help narrow the list down significantly.', '[_nods_] Right. We can probably filter out people who worked in the divisions not involved with the project...', \"We can probably start by knocking out a bunch of low-tier workers who wouldn't have had access.\", 'Alright.', 'Ways to filter it.', \"Oh...that's cool. So what does he need to get started, aside from the data?\", \"He's good at sorting through piles of data. Honestly he'll probably be delighted to have a database this big to play in.\", 5273]\n",
      "count 9\n",
      "['_takes the kettle off the electric stove and fills it with distilled water then puts it back on the stovetop and turns the knob to start heating it up. She looks in the cabinet just above the stove and realizes there are no filters left. She slams the cabinet door closed and grumbles. _', '_walks over to the kitchen and sighs at the sight of unwashed dishes in her sink. _', '_wakes up, still dressed in what she was wearing the day before. The smell of soy “chicken” still lingers._', '**the next morning**', 'bye', 'yes go do that. later!', 'thx 4 everything as usual . i think ill eat away my sorrows in a soy chicken bucket from KFC', 'go eat food. then go be horizontal.', 395]\n",
      "count 9\n",
      "[\"You'd turn into me\", '[_wry smile_]', \"Yeah. If Mom and Dad hadn't found us all, I dunno know what would've happened. Nothing good, I'm sure\", \"Well...you've got a great family. You're...all lucky to have each other.\", \"I'm pretty sure there's a patron saint for thieves, so [*shrugs*] I don't see why not\", 'Your mom seems to have the patience of a..can runners be saints?', \"I don't know how Mom and Dad kept from ripping their hair out though\", \"It was never boring, that's for sure\", 906]\n",
      "count 9\n",
      "['I was thinking of something like a hornet’s nest.', 'If you can disguise the turrets to look like something else...?', 'Yeah. I’d prefer a more subtle approach.', \"yeah, if the clinic isn't a target then having obvious security might _make_ it one\", 'We could surround the clinic’s perimeter with that . And I could try rigging up some drones inside it to intervene if needed be.', 'But I don’t know if we want to be that conspicuous?', 'In terms of physical security.', 'Oh cool. Turrets might help..', 1157]\n",
      "count 9\n",
      "['I am unsurprised.', \"_That's_ why you're all... [_gestures to medusa in general]\", '...shut up.', '...wait, really?', 'Enough to _miss a text?_ [_this is mostly said at medusa_]', 'Caught Shiro on the salmon ladder.', '[_to Charlotte_] She, ah, god _distracted_.', '...did you see someone naked or..?', 2934]\n",
      "count 9\n",
      "['[_twitches_]', \"Although it probably helped that they didn't fuck with her brain nearly as well as they thought they did.\", \"Shiro's real good at getting people to underestimate her. [_mildly pointed look_]\", \"She's _Shiro_.\", 'How did she even _escape_?', '[*nods*]', 'So one of...they used her as a _science experiment_?', '[_quietly_] Story of our lives', 4006]\n",
      "count 9\n",
      "['(( what does hopper see in the attic? ))', 'Yeah', 'Was that your sister?', \"Well it didn't _sound_ like glass, so probably nothing to worry about?\", 'Huh. What was that?', '[*snorts*]', '[_from downstairs_] SORRY.', \"I think I'd better go help your father.\", 986]\n",
      "count 9\n",
      "['Nyays', \"i mean i'm not judging\", 'Its early', 'I mno', 'i see', 'Had a fw drbks', 'Yes', '...u ok?', 216]\n",
      "count 9\n",
      "['Sounds like a great idea.', \"I'll ask her to do what she can, I imagine she'll be more than willing to assist.\", \"[*considers*] I guess if you _did_ manage something like that, it might make things nicer for Shiro too? I mean, she's not exactly big on crowds either.\", '*Kalahan smiles and holds out his arms.*', '...Why do I feel like protesting would be like trying to stop a charging bull?', \"*Kalahan shakes his head.*\\nI absolutely do. You've been a valuable teammate, and I hope it's not too much for me to also say a good friend. Besides, I do still feel kinda bad about that incident with Yuna the other day, and want to make up for it.\", \"You don't need to go out of your way like that.\", \"Thanks, I tried, it's oddly easy to build a legit house in a tree.\\n*He frowns, then vigorously shakes his head.*\\nHold on! This is a tangent! Why're we talking about my tree?!\\n*Kalahan looks at Charlotte.*\\nCharlotte, would it be all right if I found a way to get a space set aside somewhere at the venue for you? Somewhere you can be a part of the concert, but not be overwhelmed by the crowd?\", 5058]\n",
      "count 9\n",
      "['I talked to Akari and Julia about..what was..what I was remembering', '_Do_ we have something to talk about....?', '[_fidgets_]', '....So....', 'Uh...', '[_will head to the kitchen, out of earshot_]', \"[_lopsided grin_] Yeah, food is good. I'll go see what I can manage.\", \"I don't--[_to hopper_] do we need to talk? [_to cobalt_] Food could be...good.\", 3289]\n",
      "count 9\n",
      "[\"fine. good night or w/e time it is now i don't even know anymore. susan says hi btw\", 'this is the blood sugar crash talking', 'food first. then sleep', 'i had...soycaf for breakfast lunch and dinner', 'ugh i hate 2 say it but ur right as usual. i really do need to sleep', \"because i'm trying to figure out how this could be anything _but_ an accident that you can apologize about and then _move on_\", '...........', 'have you developed some psychic bullshit power that tells you exactly how to break someone?', 388]\n",
      "count 9\n",
      "['[_raises eyebrow_]', \"[_startles_] N-nothing! It's just...p-people w-would _bet_ on it, in our system, and it wasn't _fair_ and [_she clamps her mouth shut_]\", \"[sits back down]  What's wrong with Urban Brawl? [pouts a little]\", 'Gotta make money sommehow, though.', '[_shrugs_] Sounds like it.', \"It's s-stupid how much money t-throw away on it too.\", \"It's _stupid_\", '[_narrows eyes_] I see.', 1629]\n",
      "count 9\n",
      "['[_to Collateral_] it’s sort of spirit that she can see on the Matrix', \"Collateral, it's matrix stuff\", '_::stomps over to Arcade::_ what did you give her?', \"__::looks behind him startled::_  I don't see no tiger!\", 'And I think I saw, like, a phoenix?', \"[*to Hopper, gestures to the window*] And there's a fucking _tiger_ taking a nap over there.\", \"_::furls his brow::_ what's a sprite?\", 'Oh god, another one.', 1297]\n",
      "count 9\n",
      "['How are you doing?', \"and second of all it's fine, the job was rough but we're good\", 'ok so first of all now I know why my sisters get weirded out when I text them with normal words', 'I want to apologize for yesterday. My performance, re: the job, was not up to par. I should have been more jacked into the situation, but failed to find some focus there. I noticed as well that you were upset at something I asked. I hope this has not caused you further turmoil.', 'hi', '::the soycaf has kicked in and she is a bit more lucid::', '[[ commlink txt chat ofc ]]', '((yes, charlotte has finally caught up temporally))', 411]\n",
      "count 9\n",
      "[\"we'll see\", 'i can. and you can go do..whatever you decide to do', 'or i mean', 'yeah. maybe then we can go back to simple smash-and-grab jobs', 'no. all the more reason why i want it 2 b done.', '...have you ever done a job like this?', 'is removing sokoloski gonna be enough? we need to send a _message_', 'this stuff needs 2 b stoped', 175]\n",
      "count 9\n",
      "['[_It occurs to her she might be hallucinating, so she puts her face in her hands and mutters \"It isn\\'t real. It isn\\'t real.\"_]', '[_The woman is silent. Waiting until Hopper is fully awake/aware._]', \"[_She feels very uneasy all of a sudden. Her eyes flutter open and it takes some time for her eyes to adjust to the darkness. She spots a figure in the darkness and wonders for a moment if she's dreaming again. She's had so many of those where she is frozen in place, unable to move._]\", '[_Perched on the desk across from the bed, a 20-something Japanese woman is crouched, just...staring at Hopper._]', \"[_That night, at @bitjockey 's apartment, while she's sleeping, Hopper gets a strange feeling. Almost like she's being watched._]\", '[*pizza-cheers*]', '(( 😂 ))', 'Agreed. [_offers pizza slice for pizza-cheers_]', 609]\n",
      "count 9\n",
      "['[_starts to make a sand castle by herself...or at least, digs a hole..._]', '[_None of the rest of Codex seem to think this is weird. If you look over at Amarok and Shiro, Shiro is making rapid-fire hand-signs at Amarok. Amarok looks away, startled, then back. Asks something and gets even more rapid hand signs in response._]', '[_will play with the dog_]', '[_is very happy to see you_] _bark_', '[_turns to where Shiro is, excuses herself, and jogs over to her_]', '[_steps off to the side, gives a particular piercing whistle_]', '[_charlotte will make a beeline for the puppy_]', '[_When you get to the beach, Nix, Tachyon, Amarok, and Arcade are already there. Also Cafall._]', 3593]\n",
      "count 9\n",
      "['Are you sure? Do you need some tea or something?', \"[*recovers*] ...I'm fine\", \"[_notices Charlotte's coughing fit_] You okay?\", 'No offence, [_to Tachyon_] but your mom probably didn\\'t leave a good impression of \"marriage\" on Amarok.', '[*has a minor coughing fit*]', '[_shrugs_]', \"Why _aren't_ they?\", 'Those two are all but fucking _married_.', 4013]\n",
      "count 9\n",
      "['[_coughs_] where to live?', 'Did you decide....', 'So.....', '[_gulps_]', '...alright. Spit it out.', '[_sips soycaf_]', '...yeeessss', 'So uhm...what an interesting, er, morning', 1993]\n",
      "count 9\n",
      "['And the Leons are a lovely family.', \"It's at a park.\", '...', '_And_ you actually get to _rest_.', '[_Shiro, as usual, looks blank._]', \"Yep. [_to Shiro_] Oh stop giving me that look, you'll get out of this bed.\", 'Oh, the party?', 'Cobalt sprang something on us.', 4490]\n",
      "count 9\n",
      "['So what _did_ you lot do?', 'Ah.', '[_to Hopper_] Well...we managed to go from \"wanting to kill each other\" to \"ready to kill other people _for_ each other\".', \"[_lifts head from hands_] Thing is, I'd expect of the two of us, _she'd_ have more of a clue on how to proceed here. Seeing as how she, you know, actually has more experience on being an active sibling.\", '...do tell', \"We're offering sibling advice\", '...is this about her sister?', '[_rolls eyes_] _Such_ a way with words.', 3088]\n",
      "count 9\n",
      "[\"She's got a point. [_Smirks_]\", 'Except for the part where you were', \"...we weren't _together_\", 'But?', \"[_notices that but doesn't say anything_]\", \"*Kalahan is also smirking at the Julia/Akari anniversary, but there's a wrinkle in his brow that is not amusement. He proceeds to busy himself in more cake, as if to distract himself from something.*\", 'I mean, yes, but...', 'I mean for the first time.', 4641]\n",
      "count 9\n",
      "['I hear this is where the tech talk is happening.', \"That's right\", '[_laughs nervously_] Uhm, so Anton. You are a decker, right?', '[_noticed the slip, hides a smile_]', '[_shakes hands_] Nice to meet you.', '[_to Anton_] This is my mo--mentor, Akari.', '[_once they reach Anton and Arcade_] Hello', '[_will follow Hopper_]', 4537]\n",
      "count 9\n",
      "['[_Hopper tenses up._] Excuse me for a moment. Could you point me to the restroom?', \"_::at the mention of Shaiwase's motive, Collateral's shoulders hunch and he sighs::  The past catches up with everyone._\", '[_darkly_] Likely something to cause a lot of people a lot of grief and misery.', \"What I'd like to know is the angle..[_sighs, says this with some pain_] Shiawase is playing at here.\", '_::finishes the food on his plate, stands up and walks to a window::_', '[_Amarok leaves_]', \"Can't blame 'em. Not with all of this happening.\", \"Yeah. Shit's fucked. [_shakes head_] There was a courier caught up in this. He was meant to deliver a package to her [_gestures to Charlotte_] sister. Some gangers thought he'd had the (( blue party drug )) I 'spose. And now all those idiots have gone underground, too.\", 1280]\n",
      "count 9\n",
      "[\"Well..[_grimaces_] I think having to, er, adopt a new identity...and being taken away so abruptly from where you've made your home..that has its own, uhm...consequences. Trauma, even.\", \"[_glances at the not!moms' door again_] Hopefully not _all_ of us.\", \"[_also laughs_] I think we're all a little fucked in the head\", \"[_self-depreciating laugh_] Like I said, it's making me irritatingly needy. Or differently fucked in the head.\", \"[_follows Hopper's look_] ...yeah.\", \"[_sure, we can be by the not!moms' place_]\", \"[_nods; quietly_] I..can relate. [_glances over to not!moms' place, if that's close by_]\", \"Partially. Or at least start? That's kind of the reason I don't...really want to be too far. I'm still half-thinking I'm gonna wake up or that she'll need me there right away and I can't get there fast enough and I'll have lost it.\", 2248]\n",
      "count 9\n",
      "[\"What's wrong with rum cake?\", '[_deadpan_] Yay.', 'And not rum cake.', 'I _did_ bring cake.', 'We could start eating.', '[_Makes uninteresting small talk with Nix and Gadget_]', '[_brightens_] Oh. Fantastic', 'Of course.', 4582]\n",
      "count 9\n",
      "[\"It's so..._fascinating_.\", '[_gives Charlotte A Look_]', '[*looks between the two of them like \"really?\"*]', 'Naturally.', 'Thought experiments, of course.', 'I might have to do some experimenting.', 'This is, of course, all strictly theoretical.', \"...He's damn convincing if he is, though.\", 5498]\n",
      "count 9\n",
      "['That..sounds like fun.', '[_rolls eyes_] No, because you know very well she ended up winning award for conference talks left and right after that.', 'And she was never timid again, was she?', 'Because you got her _roaring drunk_.', 'Right! Claire. Ended up wiring up a make-shift kareoke and then proceeded to utterly _demolish_ anyone who challenged her.', 'Claire', 'There was one, must have been our third year in Montreal? Quiet little thing...', '..Oh?', 2174]\n",
      "count 9\n",
      "['[_quietly_] I was...15. When it started.', \"[_sharp look at Akari_] [_to Hopper_] So...there's that as well.\", '[_muttering_] Somehow this just gets worse and worse...', '[_is kind of tearing a pastry to shreds_]', 'Ah.', '[_mutters_]', \"He was my mother's friend.\", 'An aquaintance or...?', 2795]\n",
      "count 9\n",
      "[\"[_Bemused look_] What. That--[_chuckles_] That can't be. Wouldn't I have known well before I turned 30?\", \"...it sounds like you're an Adept.\", '[_is silent for a bit_] So...what does...', 'Particularly in people who express their mana affinity _inwards_.', 'Point is, it turns out, the idea of qi and those pathways inside you for it to run along? Really similar to how mana can work.', 'Yeah, from what I understand, the idea of that is to do stuff with the qi with the needles. [_shrugs_] Like I said, not really my area.', 'Yes.', \"You've heard of acupuncture, right?\", 5353]\n",
      "count 9\n",
      "['I was going to leave because I', '[*just stands there awkwardly*]', '[_is trying to find the right words_]', \"...I  know what it looks like when people don't want to be around me anymore\", 'But the way you were ready to--it was like you wanted to get away from me', 'Oh', 'I was..angry at someone-something else', '...But you _seemed_ angry. And it would make _sense_ to be angry.', 861]\n",
      "count 9\n",
      "['[_texts_] yeah', '[*after awhile she will make her way to the apartments*][*texts*] u @ ur plc?', '[_texts_] ok', '[*texts*] rght ok lt me jst fnsh a thng frst?', '[_texts_]  thad b wiz', '[*texts*]....i ws gnna jst do sm stff at hm tdy. bt i cld swng by fr a bt?', '[_texts_] r u coming back here', '[*texts*] do u nd nythng?', 4102]\n",
      "count 9\n",
      "['*meanwhile, back at hopper’s sad studio* Susan: yes, it IS your fault', '(( I have Regrets about this but I am committed so ))', 'plans are great', 'a plan!', \"i'll txt u gys aftr The Intrdctn, lt u kno wht i thnk of hr\", '👍', 'good', 'she wll b _thoroughly vetted_', 325]\n",
      "count 9\n",
      "['if after we complet the wetwork', 'i wonder', 'u kno how our mr johnson said to teach them a lesson', \"yeah, what's up?\", '@Charlotte r u there', '[the day after]', '[at SU] ::collateral orders a pilser of beer, sits at the usual table, and starts spinning his new antique fidget spinner, completely enthralled by this oldschool toy.::', '[*cue Sibling Pile v2.0, which is still very adorable*]', 466]\n",
      "count 9\n",
      "[\"Nothing. Everything's fine.\", \"ok, seriously. what's going on\", 'No', 'you know exactly what i mean', 'What do you mean?', \"then what's with the fucking Therapist Speak?\", 'Really.', '_hopper_', 543]\n",
      "count 9\n",
      "['[_staring very intently at the food_] Oh uhm. Thanks, I think.', 'No, wolves have better manners.', 'Just making sure she actually gets some, because we are a pack of wolves.', '[*charlotte goes from smiling at whatever, to looking very confused*]', \"[_As soon as food appears, he will start dishing some of everything onto Hopper's plate_]\", '@jackal: You\\'d like it if it were the C4 Spinsters. *giggles like a troll*.  Actually, that\\'s not too bad... Let me see what they think...\\n\\n[ _Collateral starts single key typing on his comms_ ] oooh, this is so hard...I cannot believe people type on these...  Hey, I don\\'t have `Dusa on my contacts, can you see what she thinks?\\n\\n@bitjockey @Kalahan @Charlotte @nix:  \"Hey crew.  After that ass-toning ((astonishing mispelled)) win yesterday, iz probable a smelly thing to have a running crew name.  I\\'m think something like \"Spinsters\" but Jackal things someding like \"The C4 Spinsters\" has more \"pop\".  what you allz stink of dis?\"', '((she just took a seat at random, so we can say he gets that seat))', \"[_Mikhail will take the seat to the other side of Hopper if Meghan hasn't already claimed it_]\", 1013]\n",
      "count 9\n",
      "['[_blinks_] Oh.', '*Kalahan is trembling, one of his ears twitch.*', '[_quietly_] I meant you too.', '[_lifts her head up finally and turns to Hopper_]', 'Yes, you both are.', '...both of you.', \"[_Shiro stills, closes her eyes, and presses her lips against the top of Amarok's head._]\", '...but you are.', 4785]\n",
      "count 9\n",
      "[\"[_She blinks and doesn't say anything for awhile_]\", '...actually I guess you kind of _can_ imagine that one....', \"You have _no idea_.  Imagine waking up in the middle of the night to your sister creepily balancing on the headboard of your bed because she's trying to practice being sneaky.\", 'Must have been an interesting household to grow up in.', '[*shrugs*] We play to our strengths', 'Oh. huh. A family of runners.', '[*nods*] He and Mom are both retired Runners', \"@Charlotte SO he's a decker?\", 901]\n",
      "count 9\n",
      "['[_is just in her room _]', '[*charlotte will head that way*]', '[_texts_] yeah', '[*after awhile she will make her way to the apartments*][*texts*] u @ ur plc?', '[_texts_] ok', '[*texts*] rght ok lt me jst fnsh a thng frst?', '[_texts_]  thad b wiz', '[*texts*]....i ws gnna jst do sm stff at hm tdy. bt i cld swng by fr a bt?', 4103]\n",
      "count 9\n",
      "['[[lots of typing but never sending]]', 'gave it some thought', 'i just', '((YUP))', '((Oh right it’s only been a few hours in game 😂😂😂😂😂😂😂))', 'so you...what, had a sudden change of heart in the last few hours?', 'i said that before and you still seemed pretty pissed off at me', 'But u needed to kno who ur working with', 148]\n",
      "count 9\n",
      "['[_leans back on the wall, crosses arms_] Can you make her suffer long as what she put her through?', '*Kalahan breathes in sharply and looks over at the door of the room. He narrows his eyes, purses his lips, and hums softly.*', \"But I'd put in that effort. [_growls, fingers digging in_] Because _you hurt her and a fucking bow isn't fucking good enough._\", \"To be honest, I'm actually not that good with fire. I'd have to get _real_ creative with ice and lightning to figure out how to make you burn. [_walks forward, and kneels on the ground, grabbing Takahashi's chin so she stares in Amarok's face_]\", \"As it turns out, she really doesn't give a shit about you. Me, on the other hand? Turns out, I care _a lot_.\", \"You don't even know her _name_.\", 'You...', '*Kalahan just leans against the wall beside Shiro, staring at the other wall with his arms crossed.*', 4767]\n",
      "count 9\n",
      "['[_nods_] Oh, I see. That will certainly be helpful.', \"So I guess while you're planning your robot designs or whatever, don't limit yourself for budget reasons\", \"Yeah.  For the moment Nix is buried under a pile of research, but if we can get _new_ information by spying on the corps then that'll be a huge benefit\", '...Oh?', \"Oh, yeah, actually. Arcade talked to Nix earlier, about looking into how to help Shiro. He said that while we're working on that, if there's anything money might help with, to just let him know. He's willing to throw everything he has at this.\", 'Do you...have any, uh, updates?', \"[*waits for hopper to start explaining what's up*]\", '[*takes it*] Thanks', 2536]\n",
      "count 9\n",
      "['(( 🤷 ))', 'Not sure why that made you storm out like that....', 'I get that', 'I guess. I just want to get back at them, you know? The corps', '...seems like you got angry', 'I don’t know.', 'What...happened?', '[_softly_] sorry.', 1349]\n",
      "count 9\n",
      "['Do the rest of you..?', '[_makes a face_] I do not..know of that.', '*His face goes blank.* ...I’m sorry, what?', 'The..I am not familiar with this Warcraft...?', '*He smiles.* Now...the Warcraft franchise! Those are epic!', '[_to Kalahan_] They are..cheesy', 'I’ve never even seen a single entry, so I have no opinion in this matter.', \"Them's fightin' words\", 3055]\n",
      "count 9\n",
      "['[_makes a face_] How did you... [_shakes head_] Something new.', 'Planning an upgrade for B-TRICE? Or something new?', '[_is running some simulations on flight mechanics_]', '[_sits down somewhere and starts working_]', '[_with cyberdeck_]', '[_goes back out to wherever everyone else is_]', \"(( you know it'd probably help if we were all in the same room ))\", '[*is in the common area, drawing sprites*]', 1446]\n",
      "count 9\n",
      "['[_will show up there_]', '[_texts_] ok', '[_texts_] aprtmnts, rec rm', '[_after therapy will text @Charlotte and ask where she is_]', '*[Kalahan is spending quality time with Lauren somewhere, I dunno, either in the apartment or out about in da world.]*', '[_yay healing begins_]', '[_Therapy will occur!_]', '[_starts to opens up about what has been on her mind and will roll with whatever talk/therapy happens_]', 3082]\n",
      "count 9\n",
      "['[_quietly_] ...What happened?', '[_quietly_] Spellcasting. Some heavy-duty spellcasting.', \"[_doesn't say anything until you're alone on the Codex floors_]\", '...are you sure you’re okay? You seem a bit worn out.', \"[_sighs heavily_] Good. That's...good. [_she looks...drained_]\", 'I mean. Really. It isn’t.', 'It...isn’t.', \"[_rubs eyes_] No, I mean, I just saw her message asking if I was around to talk. Sent like 3 hours ago. Please tell me this wasn't urgent...\", 2225]\n",
      "count 9\n",
      "['[_to Medusa_] Your biological parents...?', \"[_very faint smile_] That's...better than how I took it.\", '[_Charlotte can tell: Medusa looks very pleased with herself._]', '[_has a soft, slightly amazed smile_]', '[_smiles, albeit pretty weakly_]', '[_smiles_]', \"[_You hear a quiet chuckle that quickly turns into laughter. It's Shiro. Quiet laugher, but honest-to-goodness **laughter**_]\", \"[_throws pillow at Medusa's head_]\", 3032]\n",
      "count 9\n",
      "['We were magically gifted with tickets for that concert.', 'What.', 'While I _do_ enjoy bugging you, I have an ulterior motive. Which involves finding out your opinion of that band Tachyon and Shiro are going to see.', \"So what's up? Or did you just decide to come bug me?\", 'This is true', \"[_turns around_] Well, that's good. We'd be in trouble if it looked like Russian lit.\", 'That looks very Science-y', \"[_Unsurprisingly, Nix is still in the infirmary. She's staring at the computer screen. Holy shit, there are graphs._]\", 5066]\n",
      "count 9\n",
      "['I...wanted to talk to Julia about something. If that was okay.', 'Hi. How are you?', 'Hi.', '[_Akari opens the door_]', \"[_goes back out, and knocks on Julia and Akari's door @ultranos _]\", '[_waves back, heads into her Not Sad Apartment_]', 'Later, Hopper. [_waves_]', \"Yes, we're going to go get you food now.\", 2263]\n",
      "count 9\n",
      "['Yeah, he seems...cool.', \"_::looks at Hopper::_  Hoppa's met him!  He's great, ain't he?\", 'Might have some wise words and a sub for to cure yourself with.', 'When we gets out of quarantine, and back in Boston, you _need_ to meet Aztec, the guy is the best father figure an \"orphan\" could want.', '[*blinks*]', \"You have anxiety?  I had that once.  Real kick in the nads.  Thankfully, I got over it...don't remember much about it...Aztec's meatball subs work magic.  _::flashes a very toothy, goofy grin::_\", '[_nods_] Ah, right', 'Yeah, but try explaining that to my anxiety.', 1435]\n",
      "count 9\n",
      "['They..', '[_looks sullen_]', '...he was basically my...older brother. In all the ways that...really matter.', \"[_Amarok runs her hand through Shiro's hair. Shiro isn't really looking at any one._]\", '*His eyes get soft.*', '...Ah. [_nods_]', '[_seems unsure if she should say something_]', \"[_quietly_] ...not...exactly. His father was...my dad's best friend. ...Ben and I...we'd known each other since...we were toddlers.\", 3011]\n",
      "count 9\n",
      "[\"You...weren't really given a chance to be a family. But you're trying now.\", \"That's...right now, it's...that's what matters.\", \"I'm...trying.\", 'That about covers it.', 'Friends?', 'I...[_makes a few weird faces_] family?', '...which part of \"everything\"?', 'Right.', 4055]\n",
      "count 9\n",
      "['[_also mock whisper_] I think I need to learn.', '[*mock whispering*] ok, I have _got_ to practice signing more', '[_laughs_]', '[_grins_] Techincally, not wrong.', '[_signs discreetly to Amarok_]', 'I thought they were married the first time I saw them in one room.', '[_groans and buries her head on the table_]', 'But anyway happy almost anniversary. [_grins_]', 4652]\n",
      "count 9\n",
      "['Shiro. [_looks around_]', \"[_If she stood up, you'd be able to see her from the platform. She has not._]\", '[_pops up_] who?', 'Where...where did she go?', '[_The train continues on._]', '[_Gravity eventually wins and she falls, although slower than she should._\\n_Shiro hits the ground and tucks into a roll, sliding down into the small ravine between the tracks and the wall, out of sight_]', '[_sucks in a breath_]', '[_Just as the train starts to enter the station, she jumps. She seems to hang in the air for a few seconds too long to be natural, still at the apex of the leap as the train goes through the station._]', 4448]\n",
      "count 9\n",
      "[\"No. I'm fine. We need to make sure you're..okay\", '...Do you...want to talk about it?', '(( 😂 ))', '_sits down_', \"That's--yes.\", '...Wanna sit down?', 'No', '_sighs_', 295]\n",
      "count 9\n",
      "['Ugh.', \"[_The one he pulls up is not as twisted as the first example, but it's still clearly wrong._]\", 'This one [_he pulls up a file_] is the first one of hers I saw, back when I first met her. Must have been...nine years ago.', 'They really [_shakes head, jaw stiffens_]...I fucking hate megacorps', \"It's not. [_sighs_] This is not even the most recent sample from her.\", \"That doesn't seem..right\", \"Shiro's isn't...\", \"So. What's your analysis?\", 2849]\n",
      "count 9\n",
      "['We managed?', 'But...', 'Today.', 'I...[_grimaces_] Didn’t talk..much.', '[_snorts_] It’s true.', '[_reaches around Hopper to shove Akari_] Be nice.', \"Arguably, you'd both have issues with that...\", '[_makes a face_] How...to talk?', 3392]\n",
      "count 9\n",
      "['But anyway happy almost anniversary. [_grins_]', 'Hard to beat those two, yeah. [_gestures to moms again_]', 'Such a high bar.', \"Hey, at least it wasn't 11 plus years.\", 'Made me lose a bet.', 'Oh yeah.', 'Oh. You too?', '[_has an \"oh shit\" look_]', 4649]\n",
      "count 9\n",
      "['[_gets up and prepares some tea_]', '[*will get food*] Thanks', 'Here, have some food. Or alcohol. You might need it to deal with the crazy.', 'A what now.', 'I was informed of this like half an hour ago.', 'So, uh, Hopper mentioned something about the squirrel problem?', '[_unless someone talks to her_]', '[_will sit somewhere and stay quiet_]', 2347]\n",
      "count 9\n",
      "['[_quietly_] to shoot', '[_puts hand on shoulder_] Shhh.', \"I wasn't...going to..\", 'I...just..', '[_puts head in hands_] Ugh', '[_sits up slowly_]', '[_comes up behind Julia, speaks just as quietly_] Hey kiddo. What happened?', \"[_still soft_] You're in the infirmary. You passed out. Shiro...carried you here.\", 2707]\n",
      "count 9\n",
      "['[_smiles innocently_] ...YUP.', '[_texts_] i cant belive this.', \"Yeah, I've seen your dates -- [_to Hopper_] are you okay?\", '[_coughs loudly_]', \"I like to tell myself it's the former, but it's really probably the latter.\", '[_texts_] oh my god', '[_sips tea_] High standards? Or none of them feeling right?', '[_facepalms_]', 1944]\n",
      "count 9\n",
      "['[_voice breaks_] It just..', \"[_sits down and wraps an arm around Hopper's shoulders_]\", 'I just never thought I’d find someone else who underwent the same kind of....', '[_smiles weakly and looks at Julia_] Yeah...yeah I do.', 'Do you feel better? A little?', '[_quietly_] Yeah. It...it’s painful...trying to bring back those memories. But it does soften some edges I keep inside.', '[_quietly_] But sometimes necessary.', \"[_puts hand on Hopper's shoulder_]\", 3500]\n",
      "count 9\n",
      "['Is it...', '[_rubs eyes_] Like I said, shit timing.', \"Easiest thing to do would be to go hide in the woods somewhere for a day. But...[_sighs_] there's a part of me that...really doesn't _want_ to leave the city just yet.\", 'Mm. [_nods_]', \"Here, though...yeah, it can...get lonely. Cafall obviously tries his best but...[_she scratches Cafall's ears_]\", \"It's...easier, back at the Silo. Other people are there and there's...well, we chose that place for a number of reasons.\", 'I hate sounding needy, but...god, this job had _shit_ timing.', 'I...might take you up on that. Or...you could come over.', 2240]\n",
      "count 9\n",
      "['I need to..say..', '[*gives hopper time to finish her thought*]', '[_starts to fidget_] I need...', '[*sits up straighter*] What?', \"_Shiro_...she's..\", '[_eyes widen_]', 'Shiro...', \"[_tries to avoid eye contact_] I can't...[_sighs_]\", 2775]\n",
      "count 9\n",
      "['Oh?', \"[*to @bitjockey *] I think I've found a candidate for our whole catfishing plan.\", 'Anyway, call me if you need me. [_will head out_]', 'I know.', \"Yeah. Meaning she's _more_ likely to do something stupid like that.\", 'She _has_ been pretty busy.', \"[_to Charlotte_] Hey, I'm gonna go check on Nix. I think she might have stayed up all night. Again.\", '*Kalahan glances over at his commlink after it buzzed, and picks it up to read the message. He frowns, not quite a pout but close, and sighs.* Lau, I gotta go apparently. Do you wanna hang out here a little longer, or head back together?', 2912]\n",
      "count 9\n",
      "['And uhm. Thanks. I will get some soycaf when I head downstairs', 'Yeah...does she usually do this this early? Or loud? She seemed..upset.', '[_He takes a gulp from his mug._]', 'I have no idea how you take it, if you want it, but sweetener is in the cabinet right above the pot and there should be some soy milk in the fridge?', \"Because it's cruel to be awake right now without any.\", \"Oh, good you are awake. I don't know why Meghan decided to go beat up metal, but I figured since you might be up, I'd let you know there's a pot of soycaf in the kitchen.\", '[_Mikhail stands there, with a mug of soycaf, looking like he just woke up and has astounding bedhead_]', '[_gets up from the futon and opens the “door”_]', 1093]\n",
      "count 9\n",
      "['Where _is_ Kalahan?', '[_hands you a cup of water_]', \"Uh...I'm partial to beer, but water if you aren't.\", \"((hopper's))\", \"(are win in _Hopper's_ apartment, or just a general space?)\", '[_shakes head_]', '[*to hopper*] any response from @Kalahan ?', 'What would...you like?', 2560]\n",
      "count 9\n",
      "['Excuse me for a moment.', \"Huh? Yeah, who doesn't?\", '[_sighs dramatically, takes mug, pours soycaf_]', '[_looks with amusement at Akari_]', '*Kalahan finishes hooking up the tv he brought over from his tree, then stands and looks over at Lauren.*\\nHey Lau, do you like dogs?', '[_comes back with napkins, plates, mugs_] Use a _mug_', '[_Akari makes directly for the caffeine._]', \"[_Shiro's lips twitch upwards slightly_]\", 2060]\n",
      "count 9\n",
      "[\"Yeah, can't imagine they think that went well either..unless that was the plan all along.\", \"It'd be interesting if he does. See how they spin it.\", \"On the other hand, you'll be even more on your guard.\", 'Need a hand?', 'Yeah', \"[_Slater to Felicia and Jemma after_ they _are clearly not coming back_] I don't feel so well anymore...and suddenly it feels very exposed here...we should head back to the shop.\", \"[_thinks, gives a small shrug_] ...Didn't exactly go great this time\", \"I guess we'll just have to wait and see. Will you respond if he tries to contact you again?\", 4916]\n",
      "count 9\n",
      "[\"I...uh...you seemed a bit surprised at Shiro's reaction when I asked about Ruki whatever her name is.\", \"...seriously, what's the question?\", \"I don't think so.\", \"Uh...[_winces_] I hope this wasn't too sudden.\", \"[_sees what's probably a confused look on Hopper's face_] You have a question?\", '[_sits down in chair_]', \"[_gestures to a chair_] Have a seat. She won't be long.\", '[_stands up, will head off into some other part of the apartment. You hear a shower turn on._]', 4714]\n",
      "count 9\n",
      "['Yes', 'Ready to head to the house, then?', \"[_She looks back at the space by her cabinet and picks up Susan, the friendly squirrel puppet._] Ah there, now I'm good.\", '[*just kinda stands off to the side, waiting*]', \"[_if you look around, there are piles of clothes scattered on the floor. It's not entirely clear which ones are clean or not. She takes out a duffle bag from underneath the bed and starts stuffing it with whatever she can pick up and fit in there._] Hm. [_She looks at the shelf of bad taxidermy_]\", 'Need help carrying anything?', '[ _time passes. They are at the horror dungeon that is Hopper’s apartment now_]', '(( to be continued ))', 967]\n",
      "count 9\n",
      "['goodbye', \"i'm sorry\", 'i didnt expect this', \"i'm sorry ok? i didn't know what i was gonna find\", 'that isnt', 'shit thats not', '((oooooooooooooh shiiiiiiiiiiiiit))', 'well maybe im better off as one', 31]\n",
      "count 9\n",
      "['[_texts_]  u hear any chatter lately about neonet', '[_texts back_] yo', '[_at some point later_] [_texts Moniker @ultranos _] Hey', 'I should let you get back to helping clean up. Or your parents.', 'Sounds good.', 'Like I said, anything you want to know. I can put together a file on what Cobalt and I have managed to figure out about technomancers, and then we can go from there?', 'Anyway, thanks for clearing that up. And about possibly helping with the thing.', 'Apparently.', 4676]\n",
      "count 9\n",
      "['Must be nice having a sister', 'That’s good', 'Oh that’s', 'we are', 'U and nix seem close', 'Well..im glad u have one now', 'Oh', 'no', 131]\n",
      "count 9\n",
      "['Uhm sure yeah. That’d be nice. I figure she probably wants to be left alone', \"I've got an extra set of noise-cancelling headphones if you want 'em.\", \"[_shrugs_] Sometimes? It's often when she's got a problem that won't solve or she's got too many feelings that need to get out.\", 'And uhm. Thanks. I will get some soycaf when I head downstairs', 'Yeah...does she usually do this this early? Or loud? She seemed..upset.', '[_He takes a gulp from his mug._]', 'I have no idea how you take it, if you want it, but sweetener is in the cabinet right above the pot and there should be some soy milk in the fridge?', \"Because it's cruel to be awake right now without any.\", 1094]\n",
      "count 9\n",
      "[\"[_quietly_] A corp used her as their guinea pig and fucked her up in the process. Her body's literally disintegrating.\", 'It...does involve genetics', 'What, like...genetic disorder or cancer or something?', \"It's...not really a disease. At all.\", '[*winces*]', 'Wait, how does that work?', \"We've managed to get our hands on some things that might help Nix and Temper to make a cure. Most of our runs have been focused on that.\", \"[_Tachyon is clearly shaken, either by the news or by the emotional detachment in Amarok's voice presenting it, or both_]\", 4003]\n",
      "count 9\n",
      "[\"[_clears her throat again because this is definitely the most she's talked for a very long time, perhaps even ever_]\", \"And so I shoot. And what do you know [_gestures wildly_] there's a fragging squirrel there.\", 'He points somewhere and says \"Just shoot! Shoot it!\" I don\\'t know what the frag he was pointing at so I looked at him, confused. \"You ain\\'t seein that thing over there? Ah I\\'m real sorry. I forget humans don\\'t see too well.\"', 'We get to a field. He hands me a rifle.', \"Didn't really get a word in.\", 'Anyway, Mike\\'s sitting in one of the booths there with his buddies. He could barely fit in he was so big. He\\'s mid-sentence when he sees me just losing it. None of them other dudes paid attention. Karen\\'s trying to calm me down best she can without drawing attention, asks people to leave. Later on, after we close, I step out and I see him pacing around. He calls over to me. \"Hey, saw you had kinda a fit over in there. You know what I do? when I\\'m feeling real angry?\" I shake my head. \"Here, lemme show you.\" And for some reason, against my better judgement, I followed after him.  Went into his truck and we drove out somewhere by one of the soyfields.  On the way there he tells me his life story. [_pauses_]', \"I got real upset one day, just before closing. And I mean really upset. Plates broken, silverware scattered everywhere. I lost control..and thing is, that wasn't even the first time that had happened. I'm still in shock Karen didn't fire me right then and there after that.\", 'But..right. Where was I going with this? [_She pauses for a bit_] Sorry. Right. Your workshop here. [_She gestures around_] It reminds me of a friend...I guess. That I had there. This troll, Mike. People think the worst things about trolls but..he was the nicest guy there.', 746]\n",
      "count 9\n",
      "['What the fuck!', '[_Another moment of awkward silence passes._]', 'Wait.', \"[_Her left eye twitches._] ::in a low voice, but still audible:: I've really fucking lost it. It's finally happened.\", \"No. Can't you tell? I'm the fucking Ghost of Christmas Future.\", \"[_The woman's grin gets wider. The wind blows in through the open window._]\", 'are you..real', '[_Hopper sits there in silence for a few moments, wondering what particular combination of alcohol and meds lead to this. She continues to stare straight at the woman until she says_] ...wait', 615]\n",
      "count 9\n",
      "[\"[_looks down_] [_softly_] I don't know what I would have done if you hadn't let me stay.  So thank you.\", \"Well, we weren't going to turn her away\", '[_to Olivia_] And thank you for that', '[_to Akari and Julia_] Olivia and Anton  were kind enough let me stay at their house when I...[_a pained look_]..when I needed some help. So I am forever grateful to them for that.', 'That tracks.', 'I mean...there are cats that live in trees, right? I guess it fits.', '*He blushes and scratches the back of his head.*', \"Well, you're very lovable.\", 4532]\n",
      "count 9\n",
      "[\"that's..right.\", '..right', \"[*shakes her head*] We can talk about that later, when you haven't just dissociated\", \"[_notices the piece of candy, but shakes her head._] It's..fine. I [_does that kind of ironic smile people do when they realize how much of a mess they are Idk how to describe it sorry lol_] .. actually meant to ask you if...uh, what is it _you_ need the next time something like that attack you had happens again?\", \"It's not really something you plan on. ...Oh, here. [*she puts a piece of candy on the arm of hopper's chair*]\", \"[_gets up, sits in a chair_] I meant...to..I didn't expect to have another fit just now. Sorry.\", '[*charlotte will help hopper up if she needs it, but is very hesitant to do so*]', \"That's..yes\", 813]\n",
      "count 9\n",
      "['[_Fast forward to when the team has reconvened in the common room after the last run_]', \"We're doing what we can to _make_ it fair.\", '[_quietly_] Yeah. We know.', \"I know it sounds stupid, but it's just not fucking fair.\", \"We've beaten the odds before.\", \"It's just...remember how I said that after all the shit she went through, Rebekah deserves the best? If the happily-ever-after ever happened for someone, it should be her? It's like the universe is determined to screw her over.\", '...what is it?', '[*gives nix a \"pls halp\" look*]', 4018]\n",
      "count 9\n",
      "['Oh cool.', '[_scratches the back of his head_] I have a lot of random parts, by the way, if you need stuff for...was it B-TRICE?', 'Thanks [_takes it_]. I suspect this will be needed a lot', '[*the banging stops*]', \"[_He offers a pair of noise-cancelling headphones. It's an older model, but looks to be in very good condition._]\", 'A-ha!', 'Hah.', 'Heh. It’s no worse than my a apartment', 1099]\n",
      "count 9\n",
      "['[_softly_] Thanks. I should let the others know.', 'Neither of you deserve this drek.', 'I do too. Every day.', 'I wish I could make it all right.', \"I hate that I'm still surprised sometimes at the terrible things people do.\", '[_softly_] She said the same thing.', 'How could they...[_shakes head_]', '[_shakes head_] Moira had been _so angry_ when she saw this the first time.', 2853]\n",
      "count 9\n",
      "[\"Nope. Sounds like he's just as para--just as cautious as she is.\", \"Mm-hmm. Sounds like it won't be easy, though.\", 'I hope we can help her find Toby.', 'So it seems.', \"[_notices Kalahan and Amarok_] It's been an eventful day for Charlotte.\", '[_Amarok ambles over_]', '*Kalahan hesitates, before he nods and gestures with his head for her to come.*', \"[_Amarok tilts her head slightly, but doesn't follow unless Kalahan indicates he wants her there_]\", 5345]\n",
      "count 9\n",
      "['[_puts face in hands_] ..right, sorry. [_rubs temples_] Please. I need to sleep first.', 'Tch. [_turns and stalks away, but opens the door_]', '[_stares_]', 'Maybe you should have _said_ that,  instead of acting like you were giving up', \"[_sighs_] That's what I was about to do. Try and build something for her.\", 'Because I said maybe, just _fucking maybe_ the point was to _actually fucking try_.', \"*Kalahan starts scanning the room for places where there aren't electronics.*\", 'Me. Just...wasting your goddamn _fucking time_.', 4259]\n",
      "count 9\n",
      "[\"[_Shakes her head_] No, no...it's...I don't want to impose. I'm sorry. Thank you for...all of this.\", \"You don't have to apologize.\", \"[_This is the most emotion Alex has truly expressed to anyone, in a very long time. With every tear she feels a small sense of relief, as if weight had been lifted (albeit, temporarily). She wipes away what she hopes is the last of her tears_] I'm sorry\", '[_Olivia just waits patiently_]', \"[_Alex never cries, and perhaps that's one reason why this was so hard. She remembers all the things her mother and father used to do. How her mother would greet her at home with a warm embrance, and food. How her father carried her on his shoulders, and they would laugh and pretend to be a plane and a pilot._] Ah shit\", 'You can let it out.', '[_wordlessly offers a hug_]', \"[_takes the plate, sets it aside_] It's alright.\", 649]\n",
      "count 9\n",
      "['[_and coffee_]', 'Do you need a hand with anything...?', '[_puts down the box of pastries on a table_]', \"[_Julia stands aside to let you all in. Shiro takes off her shoes and sets them aside, then unhooks the leash from Cafall's harness._]\", '[_calls back into the apartment_] Akari, caffeine! And Al-Hopper brought back company', \"It's fine. Why wouldn't it be?\", 'Yes, I hope..that’s okay', 'Oh! You found company', 2055]\n",
      "count 9\n",
      "['[_smirks_] Nope', '...I want to say \"well we were at one point\", but that\\'s not what you mean, is it.', '[_Akari glances sideways at her for a second._]', 'That sounded...very weird. Coming out of your mouth. Not bad weird.', '[_Julia nearly stumbles a bit._]', 'I thought you were lovers the first time I met you', \"...you could say that's because we _have_ been best friends for over 20 years...\", 'Yeah. The way you...act around each other, how you...support each other...the easy dynamic between you...just sayin', 2025]\n",
      "count 9\n",
      "['[_actually, she will pause to get water_]', '[_will continue to be engaged with Akari in nerd talk unless someone changes the subject _]', '[*just as quietly*] Right? I think having those two around is really good for her.', '[_watching, quietly, to Charlotte_] You know, if you told me a few weeks ago this was Hopper...', '[_Akari will join in_]', 'It could have some interesting applications in [_starts to ramble_]', \"I wanted to work on designing smarter protosapient AI forms that were based more on actual beings than just clever programs. Since they should learn better and adapt to form rather than having to program every little thing. I mean, I'm pretty sure puppy-Cafall figured out how his legs worked.\", 'An MRI of Cafall?', 2352]\n",
      "count 9\n",
      "['Yeah. My parents gave me a broken [_electronic thing_] when I was a kid. I took it apart and..somehow fixed it?', 'Oh?', '...come to think of it, the rigging may have come before', '[_considers for a moment_]', 'How old were you?', '[_smiles_] Similar story.', 'Turned out cracking that thing open was probably the thing that changed my life.', \"I started out decking. Got my first cyberdeck and scrounged for the parts to upgrade it. Hanging out in the navigation halls was pretty much the best option for how to spend my time when I wasn't in school.\", 3608]\n",
      "count 9\n",
      "['Thanks. [_small smile_]', '[_stops at the door to the suite_] Anyway, here you go. Have a good night.', 'Alright.', 'We have a lot of random stuff here, since we try to fly under the radar.', '[_chuckles_] He\\'s a little distracted, so I suspect the \"tour\" wasn\\'t much in the first place.', '[_will follow_] I missed the tour he gave', 'I can walk you back.', '_::Collateral is already laying down in the darkest bunk in the suite for a nap, the food was good.::_', 1328]\n",
      "count 9\n",
      "[\"[_takes a breath_] ...so yeah, at a rate of 230 flaps per second, bees' wings...[_trails off_]  Ooof. I need a minute.\", 'I was just struck by the irony of tip-toeing around possible murder when....well, look around the table.', '[_to Charlotte_] Sorry.', \"[*is amused by amarok's struggle*]\", '[_Amarok sits up, gets breathing under control, sips tea_]', 'And technomancy in the foster system was basically a dumpster fire', \"[_Shiro comes back, places mug of herbal tea in Amarok's hand_]\", '[*back to julia*] But yeah, so technomancy is great, but technomancy in the public education system was _less_ great.', 1897]\n",
      "count 9\n",
      "['[_isn’t saying anything and looks a bit dazed, still not really quite looking at anyone_]', \"[_Shiro will grab Hopper's other arm to hold her up_]\", '[_Hopper is shaking a bit and looks away. Her shoulders are hunched and she seems like she’s about to collapse..._]', \"You didn't do anything wrong.\", 'Everything.', '*Kalahan kneels down to pick up the gun, and quietly puts it back where it belongs, and closes the case. He stops for a moment, resting his hands on the case, his eyes are glazed and not saying anything.*', '[_still quiet_] For what?', \"[_softly_] I'm sorry\", 2695]\n",
      "count 9\n",
      "['[_walks into the server room_] Uhm......', 'Basically.', \"Can't get better at handing the matrix than something that _lives_ there.\", \"But no one's going to manipulate devices and firewalls better than Kohryu so...\", 'Hah, yeah.', 'That seems _super_ taxing.', \"It's been awhile since I've had all of these guys out at once in the same place.\", 'Thanks.', 2569]\n",
      "count 9\n",
      "['I just..need some stuff', 'Yeah', 'Oh, sure. I guess you will need to like....grab stuff', '(( public transportation? ))', 'Do you mind if we drop by my place first?', 'Of course', 'Are...are your parents okay with me staying there?', 'Yeah?', 948]\n",
      "count 9\n",
      "['[_unreadable, neutral expression on face_]', \"[_sees Charlotte, mouths 'what the fuck_]\", '[*awkwardly observes the Tension Levels*]', '[_heads to common area_]', '[_texts_] ok. ill be there', '[*texts*] ...pls. apprntly thy hv mgrtd to the cmmn area', '[_texts_] for support or w/e', '[_texts_] ok. do u want me to be there', 3944]\n",
      "count 9\n",
      "['[_stumbles out of bed, gets out of the room_]', \"[_Collateral rolls out of the bed, has a weird wobbly moment before stretching_]  Oy, Frostbite!  Thanks for the lift!  [_looks around_]  This ain't the safe house... [_starts physically walking around looking at stuff_] wait a minute... [_opens the bathroom door_]  Oh right...this place... hehehehe.\", '[_Fastforward until something interesting happens. Or someone wakes up._]', \"Anyway, I'm just gonna....go. [*leaves*]\", \"It's the least I could do. [*fidget spinning intensifies*]\", 'Charlotte, really...I just wanted to say thank you.', '[*continues being awkward*]', '[_drops head slightly, huffs_]', 1966]\n",
      "count 9\n",
      "['yes?', '((I am on the floor dying))', '.....is that what we are?', 'look, ive never really...had friends in meatspace', '[after a lot of \"charlotte is typing\" messages] I see', '((charlotte is indeed very confused))', '@Charlotte i just thought it would be nice to finally get to know each other', \"((hopper used confusion! it's highly effective (?))\", 137]\n",
      "count 9\n",
      "['Where did u meet dis shaman??', 'hence the digging', 'dunno yet', '🤷', 'huh', 'Ne1 we should b worried abt?', 'claims she follows Wolf but idk how 2 verify', 'yea', 479]\n",
      "count 9\n",
      "[\"[_sips mug, which as I've emphasized, is empty_]\", \"(( no, it's really indistinct. and, like, she's talking into her hands. ))\", \"(( I can't? ))\", \"[_stares blankly, then sighs and puts her face in her hands. She mumbles something, but you can't catch it._]\", \"[_blandly_] Well, Alex did say she didn't have anything else to tell us...\", 'Are the two of you just gonna sit there and do this or...?', '[_Akari glances between the two of you, sighs, and rubs her eyes._]', 'Mm-hmm.', 2004]\n",
      "count 9\n",
      "[\"It could be...at Kalahan's for example.\", '...right.', \"...and it doesn't _have_ to...be at your parents...\", \"...That's.....true.\", \"It'll...have to happen some time.\", 'True....', '[_has a strange look on her face, shrugs weakly_]', \"...you might...you know, it doesn't _have_ to be on the same day.\", 4227]\n",
      "count 9\n",
      "['But..congrats. I think?', '[_shrugs_]', \"I..don't know whether that's long or not.\", 'But to answer your question...four years.', 'Sorry. The way you said it just sounded...very formal.', \"[_Shiro's lips twitch and Amarok covers a laugh_]\", '[_to Shamarok_] So..how long have you two been..linked', '..OKay then', 1824]\n",
      "count 9\n",
      "['[_crooked grin_]', 'But yes, the terrifying assassin is currently being loved on by a giant husky', 'This I gotta see.', \"I wasn't sure if her face could even make expressions.\", \"[_shrugs_] She's a multifaceted individual.\", 'You have _no idea_', 'Scary.', '[_snorts_] Yes. Tall, dark, and frowny.', 1671]\n",
      "count 9\n",
      "['I...[_winces_] _tried_ to bike. And...it did not go well.', 'falling off a bike?', 'Embarassed myself by falling off a bike but aside from that... [_shrugs_] not bad', \"It's...going. I'm enjoying it, at least. You?\", '[_creates a mound of sand where she built the hole_]', 'How is your day going', 'hello', '[_is very focused on the dog,  and definitely **not** on cobalt_]', 3599]\n",
      "count 9\n",
      "['[_will look up whatever the dystopian version of Caviar is_]', 'I will..get takeout', 'Okay, I can..do that.', \"That...might not be a bad idea. I have no idea what we actually have, and I don't know how creative or inspired I'm feeling right now.\", 'Welll..if you are..feeling worn out, I could....pick up some nourishment.', '[_snorts_]', 'And this is why she does the cooking.', 'Yep.', 2150]\n",
      "count 9\n",
      "['[_yawns_]', '[_wakes up slowly and looks around_]', '[*charlotte is sitting on the couch sketching*]', '[_Later, in the common area..._]', '[*charlotte will leave*]', 'Sure', 'I can try to come find you later?', '[_smiles, and will turn back to work_]', 3316]\n",
      "count 9\n",
      "['[_is still waiting_]', \"[_scene break to outside Julia's office_]\", \"That's all I'm saying.\", \"...I'll _think_ about it.\", \"Well, if you never tried before, it's worth at least considering.\", 'Ah.', 'Apparently Wilbur has an opinion', '[_raises eyebrow_]', 5107]\n",
      "count 9\n",
      "['Confused?', 'Ah. So...how are you feeling about it?', 'This is all very new to me [_shrugs_].', \"Sorry, I know you wouldn't lie about this, but...[_shakes head_] Sorry.\", 'You do?', '[_shakes head slightly, tries to hide a smile_] Oh. Well, Kalahan has always-on astral perception now apparently and informed me that I have, uhm, access to magic? I certainly would never have found out had it not been for him.', \"I'm not following.\", \"[_notices Hopper's expression_] [_takes a step back from Akari and pretends she didn't just do that, clearing her throat_]\", 5467]\n",
      "count 9\n",
      "['u met her..which means cobalt prbly has eyes on u..', \"yeah no shit that's why i'm concerned\", 'sry..wuz jw bcuz it all seems too convenient', 'i just....need to verify that this person is safe', 'that is _really_ not the point here', 'close r they', 'how', 'k', 523]\n",
      "count 9\n",
      "['[_nods_] Yeah. [_gives a lopsided grin_]', '[*quietly, to hopper*] You ok?', '[_gives Hopper a slightly apologetic look_]', '[_twitches_]', \"Although it probably helped that they didn't fuck with her brain nearly as well as they thought they did.\", \"Shiro's real good at getting people to underestimate her. [_mildly pointed look_]\", \"She's _Shiro_.\", 'How did she even _escape_?', 4007]\n",
      "count 9\n",
      "['Hi.', 'Hey.', '[_Akari opens the door_]', '[_knocks_]', \"[_waves and heads out to go knock on her moms' doors (( to be continued later lol ))_]\", '[_nods_]', 'Anyway, thank you...for talking. I should head back.', '_woof_', 3483]\n",
      "count 9\n",
      "['[_quielty_] Just..remembering.....', 'Is this a \"you don\\'t want to talk about it\" or a \"you can\\'t figure out words\"?', '[_shakes head, still clearly agitated_]', 'Alex...?', \"[_doesn't respond_]\", '[_quietly_] ...is it that bad?', '[_becomes agitated_]', '[_waits patiently_]', 2510]\n",
      "count 9\n",
      "['yes', 'of things going wrong u mean?', 'Let’s list out some possible scenarios', 'Tru', 'i think kalahan hs some magic stuff he cn do?', 'preaching to the choir', 'we can plan out what to do for 2 / 3  if something goes wrong...which it prolly will', 'yeah i was just thinkng that', 201]\n",
      "count 9\n",
      "['Shit...I hope we didn’t leave enough of a trail to lead directly to her...', '_Yeah._', 'Oh fuck', 'And we got our hands on the stuff. _And gave it to Carmen._', 'They caught up with those runners..so I’m guessing pretty well. Especially if those runners were taken care of..that way.', 'So _how good are they at finding things?_', 'Wouldn’t be surprised', 'Are they trying to _find_ it?', 1136]\n",
      "count 9\n",
      "[\"You don't think I could pull that off?\", 'No.', 'I could...try cooking something...', 'Yes...', 'I play to my strengths', 'Art....', \"[*shrugs*] I asked Cobalt if art would be an ok idea and he seemed to think it wasn't a terrible idea?\", \"It's her birthday? [_sudden horrified look_] How..what...would she even like as a gift?\", 4124]\n",
      "count 9\n",
      "['[_makes a beeline there, not saying a word or looking at anyone_]', 'Of course. [_gives directions_]', '[_avoids looking at anyone_]', '[_Hopper tenses up._] Excuse me for a moment. Could you point me to the restroom?', \"_::at the mention of Shaiwase's motive, Collateral's shoulders hunch and he sighs::  The past catches up with everyone._\", '[_darkly_] Likely something to cause a lot of people a lot of grief and misery.', \"What I'd like to know is the angle..[_sighs, says this with some pain_] Shiawase is playing at here.\", '_::finishes the food on his plate, stands up and walks to a window::_', 1282]\n",
      "count 9\n",
      "['[_nods_]', '[_deep breath_] Do you mean...after the coyotes?', '[_Amarok will exit unless stopped_]', \"[_ to Akari and Julia, out of everyone else's earshot_] What happened..when you were taken?\", '*Kalahan smiles, it’s small, but it’s there.*\\nHave fun with that.\\n*If no one else stops him, Kalahan will meander towards the gym.*', '[_nods_] I should go. I was on my way to pester Arcade about something he promised.', '*Kalahan was quiet at first, and nodded at her offer. At Amarok’s last comment, he does chuckle a bit and give a small smirk.*\\nHe’s got a thick hide, I think he’ll live…and I’m good right now, but I’ll remember, thank you.', \"[_crooked smile_] Although you can feel free to mention to the Great Bull that I'm absolutely _not_ insulting his instruction.\", 1518]\n",
      "count 9\n",
      "['Is there any soycaf?', 'This _might_ be enough food for all of us. _Maybe_.', 'Have you met _Kalahan?_', 'Have you _met_ this group?', '[_looks over at where the food is_] That is...a lot of food.', \"[_Shiro looks like she's almost confused/embarrassed/something with the praise_]\", \"Well. I'm glad you all survived.\", 'Sure. Yes. Definitely.', 4580]\n",
      "count 9\n",
      "['Sorry.', 'I think so.', 'Are you okay?', '...I...see', 'It has been sometime.', '[_gets up slowly_] ...I felt like biking.', '[_gets thrown off_]', 'Hopper, what are you _doing?_', 3573]\n",
      "count 9\n",
      "['Considering the others involved, I would say so.', '...Should we be concerned about that?', '[_nods_]', '..._here_?', '...hardware store.', 'Did Collateral say where he went today?', '...what', '...Huh', 3718]\n",
      "count 9\n",
      "['i know that ppl with ur gift ... certain ppl out there would kill to use u', '[ hopper pauses, types for awhile and debates whether to just write out her concerns to someone who is already on edge ]', '??', 'idk y they would target u..unless theyre working with ppl who .', \"yeah, except it doesn't make _sense_\", 'it feels like a trap somehow', 'yeah', 'but this whole situation has me on edge', 591]\n",
      "count 9\n",
      "[\"[_texts_] yes. we r @ akari and julia's apt. it's [_directions_]\", '*Kalahan nods approvingly, then takes out his commlink at the buzz. He texts back: [is cafall there?]*', '[_takes out commlink, texts @Kalahan _] hey i have some snacks do u want some', 'Excuse me for a moment.', \"Huh? Yeah, who doesn't?\", '[_sighs dramatically, takes mug, pours soycaf_]', '[_looks with amusement at Akari_]', '*Kalahan finishes hooking up the tv he brought over from his tree, then stands and looks over at Lauren.*\\nHey Lau, do you like dogs?', 2062]\n",
      "count 9\n",
      "['And there are no alternatives?', '[_finds a seat_] Eight hours...', '[_quietly_] In the bedroom. With Cobalt and Cafall.', \"[_sits down next to Tachyon_] Where's Amarok?\", '[_was already looking grim, but even moreso now_] ...I see.', \"Shiro is 8 hours late for check-in. Genbu can't find her.\", 'Oh.  [_looks back at his tea_]  That.', '[_blinks_] I meant...[_shakes head_] I heard from Charlotte about Shiro.', 4320]\n",
      "count 9\n",
      "[\"But...I've been pushing back on all of it. My memories. And having it brought back like that..even though it's painful, it's necessary.\", 'Hard to forget something like that', 'I try to forget. Everything that happened to me.', '[*she goes into the room and somewhat awkwardly sits in the desk chair*]', 'Oh, uhm, sure', 'Do you want to come in?', \"[_notices they've been standing in the doorway for however long it has been_]\", '...so what the fuck are you supposed to _do_?', 875]\n",
      "count 9\n",
      "['Has this happened before?', \"_That's not how math works_\", \"I'm rounding\", 'Except it\\'s been more than \"a couple of days\"', 'That look on your face', 'What?', \"Oh don't _you_ start, now\", '[_looks skeptical_]', 5077]\n",
      "count 9\n",
      "['Yeah.', \"These guys probably wouldn't take kindly to people digging into what happened\", 'We should try and do as much as we can from a distance', 'Probably want to lay low right now...', 'Hmm yeah.', 'Is that a good idea though? Considering?', 'Yeah. We can have btrice help with that again..I need to work on her stealthiness.', 'I can try and do some digging into their finances. Might be a bit difficult without being physically connected to their system though', 1130]\n",
      "count 9\n",
      "[\"[_waves dismissively_] Is-it's fine\", 'Are you....do you need anything?', 'I know. I, uh. Just realized. What today is.', \"I'm sorry, I just..\", '[_stops at the stairs,sighs_]', \"[*has a moment of Dawning Comprehension*] Oh..._Oh._ Uh, 'scuse me. [*follows after hopper*]\", '[_Anton sends Meghan a Significant Look_]', '[_Olivia and Anton look concerned_]', 1045]\n",
      "count 9\n",
      "['_Yup_', \"Well that's not at all worrying. Isn't this the company that NeoNET just bought? NeoNET has something that _melts people_?\", '[_shrugs_] Or had, given he was a pile of goo.', 'So to speak.', 'There was a blue drug stolen from Pyrausta. When ingested, it melts people. We  have..empirical evidence of this.', 'Sure. Let me give you a quick recap. [_to Temper_]', \"Yeah. You need to hear what they're saying about some experimental drug.\", 'You needed something?', 1275]\n",
      "count 9\n",
      "['It would..probably be easier if we had them here. To..help discuss things.', 'That is..true.', '[*thinks for a moment, shrugs*] I mean it\\'s not really a shocking concept to bring up. \"Megacorps with a history of anti-metahuman sentiments might still be doing anti-metahuman shit\"', 'I want to bring this up to..our metahuman friends. But...I am unsure as to how to broach a, uh..such a sensitive topic..for them.', 'Right.', \"I don't think I'd put _anything_ past them at this point.\", \"I...wouldn't put it past Shiawase to continue the _legacy_ of..\", 'This of course will come as no surprise but....the japanocorps like Shiawase were hardly accepting of metahumans. They no doubt were..._supportive_ of someone like the egomaniacal jackass who declared himself the ruler of my city', 2546]\n",
      "count 9\n",
      "['Uhm, so which room should I stay in?', '[*follows. They head to the Leon House*]', '[_Hopper walks out_]', 'Yes', 'Ready to head to the house, then?', \"[_She looks back at the space by her cabinet and picks up Susan, the friendly squirrel puppet._] Ah there, now I'm good.\", '[*just kinda stands off to the side, waiting*]', \"[_if you look around, there are piles of clothes scattered on the floor. It's not entirely clear which ones are clean or not. She takes out a duffle bag from underneath the bed and starts stuffing it with whatever she can pick up and fit in there._] Hm. [_She looks at the shelf of bad taxidermy_]\", 969]\n",
      "count 9\n",
      "['I figured..I owe you that much. After disappearing so suddenly.', '[*is awkward and uncomfortable*]', 'Yeah, but..', 'I...figured you wanted to have some things stay private', 'I never told you what happened between the time I .. disappeared and now', '[_Decides for some reason to circle back to that memory_] So', 'Yeah... [_Looks at everywhere but Charlotte_]', \"You've seen the workshop. In my parents garage. Because we are at their house. Which is still very weird.\", 717]\n",
      "count 9\n",
      "['Hello. [_lets Cobalt in_]', 'Um, hi?', '[_opens door_]', \"[_there's a knock on the door_]\", 'I figured he could be helpful, with planning or whatever', 'Okay', 'Speaking of which, cobalt is gonna join us.', 'No reply from the others yet. ...and yeah.', 3419]\n",
      "count 9\n",
      "['[_makes a face_] What do you mean?', 'Ow', '[_Akari elbows her_]', '[_mutters_] At least this time it makes sense.', \"I think they'd picked me up right before, from my apartment. Not too long after dinner. I couldn't figure out what I'd done to have a megacorp target me either. I'm a _therapist_, for fuck's sake.\", \"I'd asked _why_ Shiawase wanted me dead, of course. Since they were funding _at least_ one of my grants, that would have been a far easier method of making me stop whatever than murder. But...they didn't know.\", \"I'd just come home from work. I remember I had exams to grade, which I wasn't really looking forward to. I'd just started in on the first one when the team came in. Broke in through the balcony door.\", 'What happened just before..all of..[_waves hand_]..before they took you?', 1521]\n",
      "count 9\n",
      "[\"[_Shrugs_] It's alright. I'm just trying to imagine having to deal with that _every_ day\", \"...I really am sorry about that. And so's Medusa--I mean, you heard what she said. And she _never_ apologizes, for _anything_.\", \"[_She blinks and doesn't say anything for awhile_]\", '...actually I guess you kind of _can_ imagine that one....', \"You have _no idea_.  Imagine waking up in the middle of the night to your sister creepily balancing on the headboard of your bed because she's trying to practice being sneaky.\", 'Must have been an interesting household to grow up in.', '[*shrugs*] We play to our strengths', 'Oh. huh. A family of runners.', 902]\n",
      "count 9\n",
      "[\"She does, we just can't see it.\", '[_Shiro pounds her on the back lightly a bit_]', '[*blinks*]', '[_chokes on laughter_]', '[looks at Charlotte then Cobalt, back and forth a couple of times] your kind don’t shoot lightning from your eyes or fireballs from your arse, do ye?', '[_shakes head_] And I thought I was a mess', '[_softly_] That boy...', '[_shakes head_]', 1598]\n",
      "count 9\n",
      "['[_to Amarok, somewhat facetiously_] Now hold on a minute, we need to find her...former? Allies first. And then you can set _all_ of them on fire.', \"[_calmly, as if talking about the mild weather_] She'd do it, too.\", '[_also smirks_]', '[_smirk is moving into \"wolfish\"_] Hi. I\\'m set-you-on-fire cop.', '[_nods slightly, then leans her head back against the wall and closes her eyes_]', '[_lips twitch upwards slightly, and the look in her eyes is almost \"fond\" by Shiro-standards_]', \"*Kalahan shrugs, but doesn't smile.* If I stayed in there I probably would've done something drastic, so I thought it better to stay with you, if you'll allow me.\", '[_stiffens, slowly turns to look at Amarok_]', 4765]\n",
      "count 9\n",
      "['[_stares off into space and is tapping her foot rapidly_]', \"[_growls_] For one, your friend there's sister is dating _my_ sister and I'd like to keep her happy.\", '[_blinks_] Aah.', '_::puts a tanto under Cobalts neck and smiles back::_', \"Alright Cobalt, you have seconds to tell us why you are here and prove you're not with NeoGeo picking us up to find out why a Shaiwase hitsquad was chasing us.\", \"Or are you asking why we're here?\", \"Mmm, you've met Huli Jing.\", \"You're---you're fucking---god dammit of course you're--_why in the fucking hell_ [*charlotte seems to have forgotten how to make a complete sentence*]\", 1214]\n",
      "count 9\n",
      "['You still keep in touch with them?', '[_nods_]', '[_glances at Hopper_] Sorry. Some people get awkward when I talk about this.', \"Ah. [_picks up a shell_] I understand completely. Don't get me wrong, my mother and my aunts and cousins and grandmothers...they're all great. But I do pay enough to make that place better than it was.\", 'I was very lucky as a kid...[_kicks the sand_]..., well, before my parents were...anyway, I wish I could...give that kind of..upbringing to all children somehow. Just..doesn’t seem fair for someone like me to grow up in..such a privileged environment, while others...struggle.', 'What is it?', '...ah. [_frowns_]', \"[_side glance_] I didn't exactly grow up in the _nicest_ area.\", 3614]\n",
      "count 9\n",
      "[\"It's fine\", \"It's cool, I was telling her about sprites\", \"Oh, hey. Sorry, didn't mean to exclude you from conversation.\", '[_smiles_] A lot going on here..', '[*nods*] Plus today is kind of exciting. What with Carmen bringing her _girlfriend_ over', '[ _raises the beer to Frostbite_ ] Hell Yeah!', \"[_to Charlotte_] Lively family you've got here.\", \"If they've got any sense, they're chillin out just like we are\", 1025]\n",
      "count 9\n",
      "['thanks', \"...and i'm sorry. about your parents. and...the rest of it\", \"i've never really thought about it much. i don't really know who they were, so i don't know that anybody would want to get rid of them\", 'do u..think it was a real accident? or an \"accident\"? i didnt fall for the bullshit ppl were giving me. my parents were murdered', 'oh...', 'no', '[very long pause]', 'were u adopted soon after?', 182]\n",
      "count 9\n",
      "['[_gets up and heads to the van. If no one stops her she’ll come back with the bag right away_]', 'I was already underground when this shitstorm blew in, so I\\'m good hanging out for a while...prolly should let someone know I\\'m okay and \"off the grid.\"', '[_remembers something_] uh, alright. I need to go get my backpack from the van.', 'That was our plan. Obviously, it requires your consent.', 'So..are we hiding out here? For awhile?', 'I’ll keep that in mind.', \"_::gets a concerned look::_ are you sure you're just not addicted?  I've seen some people get wicked addicted to drugs, and it's not good, but the addiction can be kicked.\", 'If it happens--which it fucking better not, but if it does--the solution is to _get back on a fucking grid._', 1313]\n",
      "count 9\n",
      "['[_when they make it back, will try to help as best she can_]', \"[_You can make it back to the apartments without incident. There's not even an inexplicable traffic jam or derailed trolley car!_]\", '[_looks like she wishes she had a fidget spinner_]', '[_relaxes and un clenches his fists when Cobalt says that._]', '[_If Charlotte grips too tight, Medusa says nothing_]', '[_softly_] You missed some things.', \"[_blinking out of the Matrix_] We're clear.\", \"[_Charlotte spends the ride frantically spinning the fidget spinner with one hand and gripping Medusa's arm with the other_]\", 4463]\n",
      "count 9\n",
      "['Do I...?', '[_questioning look_]', 'Do you....', 'Right.', 'Regardless...we..need a solution', '[_quietly_] no. But we....need to find out. To save Shiro', \"And we don't know who.\", '[_is quiet_]', 2520]\n",
      "count 9\n",
      "['[_opens the door looking a bit hagggard_]', \"[_The next day (6/28) if Hopper hasn't come out of her apartment by 4pm, there's a knock on the door_]\", '[*texts*] [*curses in multiple languages*]', '[_texts_] _yeah_', '[*texts*] what', '[_texts_] yeah. so...it looked like some of her flesh melted....and not by fire', '[*texts*] r thy sure?', '[*texts*] fck', 2497]\n",
      "count 9\n",
      "['_Hopper will also assist if asked_', '*Kalahan will basically do any and all things he is asked to, he just wants to help Shiro.*', '[_When you all get up there, Nix is already at the door. She smiles weakly at Charlotte and Medusa, before diving straight into professional mode._]', 'Temper and Nix are in the infirmary.', '[_Amarok will undo the straps once the gurney is out of the van_]', '[_stays out of the way_]', '*Kalahan will absolutely continue helping Shiro to wherever he is asked to take her.*', '[_when they make it back, will try to help as best she can_]', 4464]\n",
      "count 9\n",
      "['Oh uh, hi', \"That's the plan, then.\", 'Movie night at your place? Your couch is bigger. And not currently covered in paintings', '_walks into the waiting room _', 'Or do you want me to stay?', 'Do you want to go home afterwards, or do you want to come over?', '*nods*', 'Okay. Well, we can probably find both those two things out.', 265]\n",
      "count 9\n",
      "[\"[_Sits down somewhere_] That's a *really* good question...\", '[_peers critically at Hopper_] When was the last time you ate?', '[_Medusa disappears into the house, after pulling Hopper in enough to close the door behind her._]', 'The _herbal_ tea.', \"[_to Mom_] She was literally disappointed that I wasn't there to kill her when I broke into her apartment.\", '[_Grumbles \"I\\'m fine\" but we all know she is Not Fine_]', '[_sighs_] Come in, the both of you. Medusa, stop manhandling the poor girl and go make tea.', \"Ugh, I don't...I never..\", 638]\n",
      "count 9\n",
      "['So...I guess we really are going to Ohio.', 'A lot more than I expected.', 'Well that was certainly enlightening.', \"[*before leaving, charlotte thanks copeland again for everything, and asks if she'll let them know if Toby contacts her again*]\", '[_You can continue with small talk and eventually make your excuses to leave_]', \"It's certainly _something_.\", \"It's so..._fascinating_.\", '[_gives Charlotte A Look_]', 5500]\n",
      "count 9\n",
      "[\"She...she's been through a lot.\", 'I...got that impression. [_looks at Hopper_] What is it?', \"She's...[_looks pensive_]...guarded.\", \"Well, she doesn't seem like the _talkative_ type, so that's hardly surprising.\", \"She...didn't expand on that?\", '[_shrugs_] I asked about that stuff, and she told me something \"softer\" than what she\\'s teaching him would be better for me? I\\'m not even sure what that means...', \"[_lifts her face from her hands_] I don't know if that's a great or _terrible_ life choice.\", \"[_narrows eyes at the barn until something hits her_] .... Oh. She's kicking his ass in there or something. Teaching him how to..be badass or..whatever.\", 2011]\n",
      "count 9\n",
      "['[_texts_] yeah', '[_texts_] 👍  do we still need to fill nix and temper in?', '[_texts_] yes. we r at amaroks rn', '[_texts_] right now?', '[_texts_] we r gonna deal with takahashi', '[_texts_] ????', 'Let me check. [_texts @Charlotte_] hey r u coming', 'Should we be expecting the rest of you to show up?', 4750]\n",
      "count 9\n",
      "['...What does _my_ code taste or..whatever.', 'No. Well, not just now.', '[*snorts*]', '...This all sounds so weird to say.', '...Did you just taste her code?', 'Neat.', \"Huh. It's anise.\", '....No?', 2609]\n",
      "count 9\n",
      "['It is.', '[_snorts and stiffles laughter_]', 'That sounds like...some kind of Matrix magic', '[_looks bewildered_] What\\'s a \"technomancer\"?', \"...The technomancer breakout? In Hong Kong? ...Wait, fuck, you weren't around for that, were you?\", 'They what to who now?', 'You forgot the part where they tortured a bunch of technomancers and called it \"research\"', \"[_notices Charlotte's face_] ...what? I know MCT is monopolistic hegemon with a disturbing nationalist bent, but...\", 5208]\n",
      "count 9\n",
      "['[_startled_] Oh, hey.', '[_at some point, a rather frazzled Charlotte runs into hopper_]', 'Sounds promising.', \"[_straightens up and pulls out deck_] I did have a bot crawling through some databases. It's just grabbing whatever it can right now from the years you were employed there. I figure we can narrow things down from our own side.\", \"[_small smile_] I'll be here if you need me.\", \"Thank you. I..don't think I'm quite ready to..go into more detail about what happened. And I don't know if I'll ever be. But...yeah. I appreciate this.\", \"And I thought you needed to know that there was someone who wasn't and _isn't_ going to judge you for anything about this.\", \"I was...lucky...in that I always knew I wasn't alone. So...I knew.\", 5258]\n",
      "count 9\n",
      "['Huh. Okay.', 'Yeah, you might be right. Just...really in the zone or whatever. Hyperfocus.', 'Focused, I think.', '[_narrows eyes_] Not sure whether to be concerned.', 'Apparently no.', '[*is still sketching, and has given zero reactions to anything that was said*]', '[_looks at Charlotte again_] Is she not hearing us..?', \"It's nice.\", 1829]\n",
      "count 9\n",
      "['[_to Charlotte_] Uh. What are you..seeing?', '[_nods_]', '[_remembering her commlink; to @ultranos Moniker_] wish i knew. we looked into a biotech comp, Pyrausta, that had a drug some bakebrained ganger took...Dude melted, ended up a puddle', 'Getting better. Talked to Medusa, let her know the situation. [*charlotte is looking up at...something*]', '[_to Charlotte, gently_] Hey, how are you feeling?', '[_to Collateral_] heh. I guess that’s one way to get back at those assholes. As for the block party....your friends. They seem almost like..family for you.', '[*the sudden laugh startles charlotte, who has been sitting quietly*]', 'What do they even do up in those towers?  What is _paper pushing_?', 1295]\n",
      "count 9\n",
      "[\"I'll be back.\", 'Hmm. Alright.', 'Still, she ran out of here awful fast', \"She's with Cobalt. Probably just doing her..technomancer stuff.\", '[_texts_] wth cblt', '[_texts_] Where r u', 'Did you want to check on her?', '[_to Akari and Julia_] Still..not sure why Charlotte ran out like that.', 3276]\n",
      "count 9\n",
      "['[_sighs_] Please.', \"...Damn it, _fine_, I'll go. But I am _this close_ [*holds two fingers millimeters apart*] to letting templeton use your comms as chew toys\", \"[_quietly_] Meghan, _please_. It might not be a problem right _now_, but shit is getting weird _fast_. Can you honestly say it won't be a problem in the future?\", \"I mean, if you're free now, I was going to head to her...\", 'Nope.', '[*sighs*] Neither of you are gonna let this go, are you?', 'Yeah.', \"It's keeping you awake. It's a recurring nightmare of you _burning alive_.\", 5094]\n",
      "count 9\n",
      "['[_looks sad all of a sudden_]', 'Can I...[_winces_] maybe I _should_ refrain from helping with that...', '[*will help*]', \"I won't say no.\", '[*to akari*] Did you need any help with the cooking?', 'Good idea.', '[_in a steady voice_] When we send over someone to steal those samples we should have some sort of decoy for those. It will buy us some time before they realize the samples have been replaced.', '...before I forget...', 3525]\n",
      "count 9\n",
      "['A tiger?', '[_to Collateral_] it’s sort of spirit that she can see on the Matrix', \"Collateral, it's matrix stuff\", '_::stomps over to Arcade::_ what did you give her?', \"__::looks behind him startled::_  I don't see no tiger!\", 'And I think I saw, like, a phoenix?', \"[*to Hopper, gestures to the window*] And there's a fucking _tiger_ taking a nap over there.\", \"_::furls his brow::_ what's a sprite?\", 1298]\n",
      "count 9\n",
      "[\"((hopper's))\", \"(are win in _Hopper's_ apartment, or just a general space?)\", '[_shakes head_]', '[*to hopper*] any response from @Kalahan ?', 'What would...you like?', 'Now that you mention it, singing has make me thirsty...a drink would be handy.', 'Would you like anything to drink?', \"Ork music is not something you go through a phase for...you gotta live it, in the moment.  [_takes a deep breathe and looks like he's going to start screaming but doesn't_]  yeah, it's like...you gotta..._live_ the music.\", 2558]\n",
      "count 9\n",
      "[\"[_and now the dam breaks and she actually cries_] I'm sorry\", \"[_very seriously_] I'd go through every minute of it again a thousand times if it meant you standing here right now.\", \"That's not your fault. Don't...[_whispers_] oh Alex, it's not your fault.\", \"[_softly_] I'm sorry. For everything...that you had to go through...that uh..the last you heard of me, I was dead. But I'm here now.\", \"[_sounding hoarse_] It's been...a long 11 years.\", \"[_Akari gently places a hand on Hopper's back._]\", '[_is very starved of genuine affection so accepts the hug but is still very much trying not to cry_]', '[_Julia is not holding back tears, and will pull Hopper into a hug if allowed._]', 1503]\n",
      "count 9\n",
      "['[_will guide Cafall to the scanner_]', '(( yeah, you could figure it out. You could also probably find a manual trivially on the matrix ))', '(( would I know how to use it? ))', \"[_looks over her shoulder_] Oh hey. That was fast. I think the scanner is here, but I, ah, have no idea how to use it. Temper _insists_ it's dead-simple, but [_shrugs_]\", '[_happily_] _bark_', 'Oh hello Good Dog. [_smiles at Cafall_]', '_bark_', '[_You meet Amarok and Cafall at the infirmary. Amarok is already inside, looking around for something. Cafall is sitting just inside._]', 2425]\n",
      "count 9\n",
      "['[_heads back to her ~~not~~ moms_]', 'Yes. [_salutes, goes back to eating_]', 'But _first_ we gotta finish off this food.', 'No big', 'So now we just gotta fix this massive pile of _drek_, and then the whole issue with Tachyon and Shiro can get resolved and everything will be good. ...Super easy.', \"Anyway, other than that part, I'm glad Amarok has her sister back. And _your_ sister looked happy.\", 'Temper called her that once and it _stuck_', '_Cats_', 3302]\n",
      "count 9\n",
      "['[_deadpan_] No, it sounds perfectly normal to me.', \"*Kalahan nods at Hopper, and is still staring off at nothing, just thinking, till his eyes go wide and he looks over at Lauren.*\\nErr, um...this must sound absolutely ridonculous, doesn't it?\", \"...I'm getting a beer. [_gets up to go to the fridge_]\", '...', '...', \"[_dead serious_] You're absolutely right.\", '[_sarcastically_] Clearly, you need a better name than \"Plan Robot\"', '[_to Kalahan, Amarok_] We can, er, help. Fending them off physically. [_nods at Akari_]', 2321]\n",
      "count 9\n",
      "['I..[_shrugs_] guess?', \"...that's...are you okay?\", '...ah.', 'And I think Shiro may have uhm..', \"She was pretty useless, if I'm being honest...\", 'Oh.', '[_goes in_] So we..saw that woman from..Shiawase..', 'Of course', 4792]\n",
      "count 9\n",
      "['We should tell the others', '[*nods*]', 'And then, there is the matter of NeoNET...', 'All of this is drek.', '[_sighs_] ::sarcastically:: No, not at all.', \"Which isn't ominous at all\", 'My independent search yielded no results on that, at least none that would suggest a connection with Shiawase. Its meaning in Japanese is \"land of the dead\".', 'I noticed that', 2488]\n",
      "count 9\n",
      "[\"He was my mother's friend.\", 'An aquaintance or...?', 'The experiments..they were...lead by someone my parents knew.', '[_quietly_] No wonder you...remembered.', \"[_Medusa's lips are pressed into a thin line._]\", '[_grits her teeth_]', '..like were just..specimens. Not human.', '...like...?', 2794]\n",
      "count 9\n",
      "['if u kno', 'i mean permanently', \"i'm glad\", 'no', \"i'd understand if you did\", '...are you going to?', '@Charlotte i thout about disapprng again', '(( cool ))', 77]\n",
      "count 9\n",
      "['??', '...around', 'Where did u meet dis shaman??', 'hence the digging', 'dunno yet', '🤷', 'huh', 'Ne1 we should b worried abt?', 480]\n",
      "count 9\n",
      "['[_quietly_] Sorry about that.', \"Excellent timing, you're right on time for dessert.\", '[*does the same, takes her seat*]', '[_walks back to the dining room_]', 'Sure, if you want to', 'Sorry, uhm. Maybe we should get back in there..', '[*is visibly confused*]', \"Nothing, just got into a little loop there. I'm fine.\", 1061]\n",
      "count 9\n",
      "[\"Do you think there is any..,,anti-metahuman sentiment behind any of..this corp drek that we're dealing with?\", 'Yeah. [*sips tea*]', '[_nods_] Oh, I see. That will certainly be helpful.', \"So I guess while you're planning your robot designs or whatever, don't limit yourself for budget reasons\", \"Yeah.  For the moment Nix is buried under a pile of research, but if we can get _new_ information by spying on the corps then that'll be a huge benefit\", '...Oh?', \"Oh, yeah, actually. Arcade talked to Nix earlier, about looking into how to help Shiro. He said that while we're working on that, if there's anything money might help with, to just let him know. He's willing to throw everything he has at this.\", 'Do you...have any, uh, updates?', 2537]\n",
      "count 9\n",
      "['Yeah. Just-cute things like.....animals.', '\"Things\"?', 'Things.', 'Uhm.. [_is at a loss about this at first and makes a face indicating some level of confusion. But then remembers something she does that she isn’t sure she wants to reveal._] I..collect.', 'What kind of things are you interested in?', \"You get used to it. If you're missing the smaller-town life, some of the outlaying suburbs and towns up the pike are probably similar.\", '[_looks awkwardly at plate, where there is unfinished food and starts poking at it_]', 'Yeah..for sure', 774]\n",
      "count 9\n",
      "['like u', 'yup', 'hes', 'yeah', 'so', 'for awhile i was worried i was getting outhacked by a fuckin _deck_', \"which, i guess that explains how he's so much better than me\", '......', 506]\n",
      "count 9\n",
      "[\"I'm not sure I would have survived that.\", 'Oh, you should have seen him as a puppy.', \"[_still in a weird voice_] I can't handle how cute you are.\", '[_Cafall will totally allow the petting_]', '[_will try to pet the cute doggo again_]', \"Why am I not surprised there's a dog?\", \"Aaand there's a dog.\", '[*shakes head*] Never. She will _never_ believe me', 1661]\n",
      "count 9\n",
      "['Uh, not..quite.', '[*charlotte is clearly Proud*]', 'Hopper!  Have you had some work, too?', 'Yup, she’s great', 'Impressive', \"_::points at Charlotte::_ Charley's sister.  She even fixed the wired'flexes I had done when I was younger.  Had a twinge in the elbow.  I feel normal now.\", 'Damn right', '[_looks at the muscle_] Very well done.', 1394]\n",
      "count 9\n",
      "['Hello. [_quietly_] Is Shiro here?', '[_Amarok opens the door_]', \"[_meanwhile, heads to Amarok and Shiro's apartment and knocks on the door_]\", '[_Cobalt will lead Charlotte back to his place for more Matrix shennanigans_]', '[_snicker_]', 'I figured there had to be _some_ reason you kept him around', \"It's one of Arcade's better ideas.\", '[_takes the offered hand and gets up, then follows him out_] This whole apartment thing does make things very convenient', 3443]\n",
      "count 9\n",
      "[\"[_shakes head_] Doesn't matter. It's over.\", 'So. I dont....really know what happened earlier. I got bits and pieces, but its not...very clear.', 'Thanks. [_also sits down somewhere_]', '[_finishes, then hands one mug to hopper. She takes her own mug over to the table and sits down_]', 'Oh. Thanks.', '[_charlotte considers the options, and then starts making two cups of hot cocoa_]', '(( probably all of the things Charlotte is searching for ))', '((What does hopper have? ))', 2726]\n",
      "count 9\n",
      "['(( what have they been wearing before this? ))', '[_gets some soycaf_]', \"[_It's the first time you've seen either of them in short-sleeves._]\", \"[_From the window, you can see Shiro and Cobalt in the backyard. Sparring. Or rather, she's possibly teaching him something._]\", '[_Arcade is cooking again. He seems to have pancakes going as well as arroz con leche. And the usual soycaf and tea._]', '[_follows the smell of food_]', '[_Someone has started cooking breakfast, if the smell is anything to go by._]', '[_People do things like go about their somewhat normal routine the next morning. Well, except for the people who have no idea what is going on._]', 1562]\n",
      "count 9\n",
      "['((I am on the floor dying))', '.....is that what we are?', 'look, ive never really...had friends in meatspace', '[after a lot of \"charlotte is typing\" messages] I see', '((charlotte is indeed very confused))', '@Charlotte i just thought it would be nice to finally get to know each other', \"((hopper used confusion! it's highly effective (?))\", 'but here we are', 136]\n",
      "count 9\n",
      "['[_Hopper is not yet there_]', '[*charlotte follows*]', '[_Nix, Medusa, and Jackal will head downstairs to the dining area. Tachyon is, in fact, already there. As is Amarok._]', \"'K\", \"She's either in our room or down there already.\", '*Odds are high that Kalahan and Lauren are already at the dining area, eating dinner.*', '[*to nix*] Did you need to go find Tachyon?', '[_Jackal follows Medusa out, looking a little sheepish_]', 3705]\n",
      "count 9\n",
      "['Collateral, wake up.', '[_Time seems to crawl._]', '[_Templeton has control, not only of the train itself, but of the switchboard_]', \"[_charlotte stays put, focusing on templeton gnawing his way through the train's computer system_]\", '[_Amarok watches Kalahan pace_]', '[_The others get into position. Medusa seems to have decided being perched on top of the van is a good idea._]', '*Kalahan gets out of the car as soon as possible, and approaches the tracks. He looks up and down them, and purses his lips as he scowls. He then begins furiously pacing the platform, the bracelet-wrapped bull totem still clenched in one hand.*', '[_stays behind in the car_]', 4443]\n",
      "count 9\n",
      "['[_doesn’t really react to what just happened_] Anything on there regarding a certain bunraku?', '[_Cobalt scowls up at Amarok. Amarok just looks at him blankly._]', '_::Collateral busts out laughing at Amarok crashing Cobalt::_', 'The room is also good for when we need to pull up things for a job.', '[*snorts*]', 'Mostly news from here.', '[_Amarok sticks her arm out and physically blocks his spinning by making him crash into it._]', '_::watches Cobalt and is obviously struggling with something..::_', 1483]\n",
      "count 9\n",
      "['Or make her a new friend', 'I upgrade btrice', 'Or', 'Im not sure. If not...we r gonna need a cleaner', '...has anyone in our crew done this before? An actual hit, I mean?', 'Trap ‘im. W/e it takws', 'we need 2 Track him down', 'when s0kolsk1 resurfaces', 458]\n",
      "count 9\n",
      "['I hope this is a good distraction.', \"[*after making the changes for hopper charlotte continues to just...constantly tweak things here and there as they play. she's very clearly doing several things at once at all times*]\", '[_will be very appreciative_]', 'You can if I have anything to say about it. [*charlotte will proceed to work on a \"machine crafting\" mod, with input from hopper on what it should do. she\\'ll also tweak other things as she goes, like making the player pet a robot*]', \"It...frustrates me that you can't...craft any machines in this game.\", 'I..please.', \"[*after they decide on a game/get it started*] ...I hope you're cool with the fact that I am going to mod the _hell_ out of this thing\", '...yes', 3975]\n",
      "count 9\n",
      "['That would be bad.', \"And yeah, I saw the alarms in case something _does_ go wrong. But...kiiinda don't want to see those go off?\", '[_Cobalt opens his mouth. Tachyon cuts him off_]', 'Yeah.', 'Shit.', 'Warding, best I can guess? Some other anchoring stuff. Based on the wards surrounding the room, the kind of shit where the backlash is _ugly_ if you fuck up.', 'What is she doing?', '[_shrugs helplessly_]', 4042]\n",
      "count 9\n",
      "['[_looks bemused, opens mouth, but closes it again, does that three more times_]', \"[_deadpan_] I came out here to have a good time and I'm honestly feeling so attacked right now.\", '[_sips soycaf_] Oh I’m sure. If seeing that hadn’t, uhm, caused some...emotional turmoil........[_sips soycaf_] I would have added notes', 'He was...very entertained...when making the dossiers.', '[_starts laughing again_]', 'I...', '[_shrugs_] With Cobalt, who knows.', 'Is that...was that really a thing?', 2109]\n",
      "count 9\n",
      "['[_at her apartment. to @Charlotte _] We should...continue planning.', '[_one breakfast-of-champions later..._]', \"[_sighs_] Anyway, I'm...fine with going out.\", 'It was only a _small_ fire.', '[_glances at the kitchen_] ...literally', 'On fire?', 'We meant to mention it, but things have been....[_waves hand around_]', 'Oh.', 2908]\n",
      "count 9\n",
      "['[_to Charlotte_] What...', '[_Medusa will walk off to a more private area of the apartment_]', '[_flat-tone_] Sorry, I...need to make a call.', '[_Medusa gets up suddenly_]', 'That means...good lord.', \"[_Akari's eyes widen_]\", \"They modified her genetic sequence to the point where it...doesn't look quite right, even to me. I have..a very basic understanding of this.\", '[_gives Medusa a quick sympathetic look_]', 2858]\n",
      "count 9\n",
      "['(( hm interesting ))', '((if you ask her a math problem, of pre-calc or lower, she will answer it basically instantly))', '[_shrugs_] A-alright.', '[_to Thea_] How good are you at mental math?', \"[to himself] I could probably win a whole keg of the Orkstaff's XXX...\", '[_Thea shrugs_]', '[sits back in his chair and thinks about how he can use this next time he sees Jackal or Ferris] ...  Is it cheating if I use your recommendation to win some bets?', 'Wiz.', 1638]\n",
      "count 9\n",
      "['[_avoids looking at them_]', '‘mornin', '[_after rebooting with soycaf_] Good morning.', '[_will go get soycaf_]', '[_hands over soycaf_] Try in English, please.', 'Mrrfl', 'Look who else is up..', '[_Caffeine and breakfast are acquired. The smell of soycaf seems to rouse Akari as well._]', 3325]\n",
      "count 9\n",
      "['What else did they steal?', '..what?', '...Those are both sucky', \"...I don't know if she's angrier at Shiawase for stealing yet another thing, or at Wolf for possibly keeping things from her.\", \"I don't blame her\", \"...she's also not...exactly happy about what Kalahan found out. And what that might imply.\", '[_nods_]', \"She's not...crying or anything. But she's not really talking.\", 4333]\n",
      "count 9\n",
      "['They need some..bondage time.', '...yes. That.', 'Ah.', \"We're trying to get amarok and tachyon to spend some time together\", 'Yes. The..activities that one does. For leisure.', '[_pinches bridge of her nose_]', '...a \"recreational way\"?', \"...._that's_ how you're putting it?\", 3121]\n",
      "count 9\n",
      "['[_facepalms_] I may have been....uhm. Lax, lately, about. That. [_sits down_]', '[_shakes head_] You know better than to even try to lie to her.', 'Uh-huh.', \"...oh you were talking about me? [_grins sheepishly_]  I'm..._fine_.\", 'I _know_ you. You probably have been forgetting to eat again.', '[_Akari will dish out 3 plates and Julia will make sure Hopper sits down with one of them._]', '[*charlotte is making tea*]', '[_It was Arcade. Who can actually cook._]', 1535]\n",
      "count 9\n",
      "[\"[_to Charlotte_] You haven't heard from her?\", \"....wonder how she's doing....\", \"You don't\", \"[_to Charlotte_] I'm not sure I want to see that...\", '[_shrugs_] It needs to be done.', \"[_to Temper_] Seriously, you're worse than this one over here. [_she jerks her thumb at Shiro. Shiro pretends not to notice_]\", '[_Temper walks in with a pile of paperwork that he sets down before he gets breakfast._]', \"[_to hopper_] you've never seen nix when she's forced to go without soycaf. It's painful to watch\", 1585]\n",
      "count 9\n",
      "[\"They just...haven't...quite been in a similar position.\", 'Ah. Yes.', \"They try. And it _does_ help. But they don't always...understand.\", '...or do they...make it worse?', 'Are your...people helping?', 'Hm.', '[_quietly_] Sometimes. Yes. Lately...more often.', 'Do you...feel that way?', 3457]\n",
      "count 9\n",
      "['[_to Charlotte, low enough so that only she can hear _] is it something to do with Cobalt?', \"[*shrugs. since hopper got 4 sixes on perception, she probably catches charlotte glance over at cobalt*] Like I said, it's not a big deal. Or...well, I don't know if it is yet, but it's something I've got to think about?\", 'So ... what’s up?', 'Oh. [_shrugs_] Just felt like playing with the sand.', 'I...guess?', 'Just talking. I...[_looks at the hole_] did you mean this? [_gestures_]', \"[*shakes head*] It's not a big deal. [*turns away from the sculpture-that-was to look at Hopper's....hole?*] ...What've you guys been working on?\", 'I can...go, if you want to talk.', 3634]\n",
      "count 9\n",
      "[\"[_shrugs_] It is hard to believe it's...really been only a few months and we're all fighting...this. And, well...I'm worried. I don't really know if we're going to succeed. I'm losing faith. [_frowns_]  We seriously fucked up in our last op. And I can't [_sighs, shakes head_]..I don't want to imagine what that'll do to everyone here.\", '...what are your thoughts on...all this?', '[_snort_]', '[_small smile_] Welcome to our lives I guess?', \"I'm guessing you're feeling pretty similar right now\", 'Yeah.', \"It's a lot, isn't it.\", '[_leans back in the chair, sighs_]', 4050]\n",
      "count 9\n",
      "['So ... what’s up?', 'Oh. [_shrugs_] Just felt like playing with the sand.', 'I...guess?', 'Just talking. I...[_looks at the hole_] did you mean this? [_gestures_]', \"[*shakes head*] It's not a big deal. [*turns away from the sculpture-that-was to look at Hopper's....hole?*] ...What've you guys been working on?\", 'I can...go, if you want to talk.', '[*shrugs*] Just...thinking about some things.', '[_to Charlotte_] You okay?', 3633]\n",
      "count 9\n",
      "['Friends', 'But I think there is something I need to share. With my...', 'It was..not easy for me to hear about it.', '[_nods_]', \"It feels too close to...not want to do something. Even if I don't know what\", \"I guess not. I guess I'm just surprised to see you so invested in such a short period of time. But...knowing that, what you just told me, it makes more sense.\", 'It doesn’t matter', \"[_sighs_] I don't even know how to ask. Or what to ask.\", 2525]\n",
      "count 9\n",
      "['[_goes and prepares tea as requested without saying anything back_]', '[_to Charlotte, softly_] Did I make her mad?', \"I'll have tea, thanks.  Uh, no caffeine,  obviously.\", 'Um...either is fine? If you have caffeinated tea...', '[_heads to kitchen to make soycaf for herself_]', 'Tea? Soycaf?', '[_looks around for a seat, sits down_]', '[_also sits_]', 3424]\n",
      "count 9\n",
      "[\"[_shrugs_] Let's keep things simple, do it here?\", \"I mean, you guys could still just do something here, or wherever. I don't _have_ to be there. I can just give her gift earlier, or later, or something.\", 'So the question is where.', 'I think we already covered that part?', 'See, I definitely agree that dinner is a decent plan.', \"*Kalahan takes a deep breath and glances back at Lauren on his back.* ...I don't know what I should be doing now...\", 'She...well, I would not put it past her to get the idea of making dinner right after coming back from all that.', 'Dinner.', 4222]\n",
      "count 9\n",
      "['[_very softly_] no', \"...this isn't just about needing sleep, is it?\", '[_quietly_] I’m just so tired', \"...Do you want to go back to Nix's old room? You can rest as long as you need to\", '[_the foot tapping stops_] I’m..exhausted', '[*looks between hopper and the door, debating if she should get Mom*]', '[_she starts tapping her foot impatiently, digs her nails into her palms_]', 'Hopper?', 832]\n",
      "count 9\n",
      "['What did you watch?', 'Most of my childhood movies were...not in English.', '[_nods sympathetically_]', \"Didn't really have a lot of time after...well, things got harder when I was seven.\", 'Oh?', 'I...probably did.', 'Yes, well...I had limited access. After some time.', '*He stares at Hopper for a moment before he sighs and nods.* That explains a lot, actually...', 3065]\n",
      "count 9\n",
      "['You know, I always thought you two would make a great couple.', '[_follows_]', '[_Akari and Julia help each other up and start heading back to the house._]', 'Okay.', 'Something to drink does sound good, though. Back to the house?', '[_smiles and...chuckles?_] Whoops.', \"[_Julia's tries to hold in a laugh and fails._]\", '[_blinks at Akari, looks into her mug, and then back at the other two_] ...Oh.', 2022]\n",
      "count 9\n",
      "['[_looks like she is ready to explode_]', 'Well clearly the solution is to just marry each other. [_grins, sips drink_]', \"Yeah, that'll be a high bar to clear.\", \"[_laughs_] I know, right? It seems so minor, but...man, it's terrible when you realize you can't stand how the other person lives. To make things worse, I think I got spoiled, since I've been living with her [_points to Julia_] for over a decade.\", 'I guess it would be important to make sure you can stand living eith each other.', \"For me, a lot of the same. And there's the little things too, like living with the other person. But before that, there's things like...is she interesting? Does she make me laugh? Will she put up with me at 3:30am on a Monday morning because paper deadline?\", \"[_Julia gives Hopper a slightly bemused look, since she knows Hopper's sexuality so wtf is this question._]\", 'Well...I guess a lot of it is compatibility. How well I get along with her, how easy is it to talk, hold a conversation. Personality, obviously...', 1952]\n",
      "count 9\n",
      "['They gave us the option of having more control over what jobs we take', 'But there is more we need to consider.', 'Seems we’ve all made a decision about the offer this..this group is making.', 'Right.', 'Errrah, you wanted to discuss something?', '...you all right there?', '_::looks at Hopper, looks at Charlotte, looks at Hopper, looks at Charlotte::_', \"Of course she is. She's an _actual_ doctor, not just some street-trained wannabe\", 1421]\n",
      "count 9\n",
      "[\"I don't think there's anything any of us could do right now.\", 'Is there anything we can do?', 'Okay.', \"I'd like to find the people responsible. And...[_emphatically_] to take away from them what they don't deserve. And anyway, this world would be better off without them around.\", '[_softly_] I suspect it is. Are you...what do you want to do?', '[_Where Akari had been sitting is a broken mug slowly leaking soycaf onto the table. Julia is staring at Hopper, concerned._]', \"[_softly_] I didn't want to bring it up because I wanted to forget. But [_shakes head, breathes in and out, and opens eyes_] [_normal voice_] it's a relief to finally let that out.\", \"[_There's the sound of someone getting up from the table._]\", 5017]\n",
      "count 9\n",
      "['[_texts_] where did u run off to anyway', '[_texts_] Gd.  Srry fr rnning out', '[_texts_] ...yeah', '[_texts_] ...is vrythng ok wth akari & julia?', '[_texts_] ok', '[_texts_]....rt, sht. Srry. No, nthng wrng', '[_texts_] u ran off like u were in a hurry. something wrong?', '[_texts_] ?', 3269]\n",
      "count 9\n",
      "[\"[_texts Charlotte_] acc to kalahan shiro seemed feverish. we're going to head back there where u all are asap.\", \"Let's head to the apartments to plan this out with the rest of the group.\", \"*Kalahan takes a deep breath.* We...we need to be ready to extract her and get her back to the apartments. I...she seemed feverish, not right, I have no idea which one she'll do. We should prepare for both, if not any other options.\", \"She hasn't done this before. Something's not right.\", '[_relays information about jumping off a moving train vs walking through gang territory for the Tree folks_]', 'We could.', '....We could try to prepare for both options?', \"She won't take _stupid_ risks. But...\", 4392]\n",
      "count 9\n",
      "['[_looks at her boots_] Oh. [_gets up to take them off_]', \"*Kalahan's smile gets wider.* He's fluffy and adorable, you'll love him. Come on, he's nearby and there's food.\", 'A husky? [_she looks delighted_]', \"*Kalahan smiles at the text and looks back up at Lauren.* There's a sweet pretty husky nearby, in one of our floors. Wanna meet him?\", \"[_looks pointedly at Akari's own stocking feet_] Yes.\", \"[_nods over to Shiro's shoes by the door, smirks over the rim of the mug_] Habit?\", \"[_texts_] yes. we r @ akari and julia's apt. it's [_directions_]\", '*Kalahan nods approvingly, then takes out his commlink at the buzz. He texts back: [is cafall there?]*', 2063]\n",
      "count 9\n",
      "[\"[_texts_] how 2 explain this..uhm, remember kal's squirrel problem?\", '[_Julia puts the beer down in front of Lauren and go gets another. Lauren gives Kal a quick hug_]', \"...[_to Lauren_]...are you old enough to drink? You're old enough to drink.\", '*Kalahan kinda smiles sympathetically and holds out his arms wide to her.*', '[*texts*] ?', \"I'm starting to understand this is my new normal.\", '[_texts @Charlotte _] Hey', '[_deadpan_] No, it sounds perfectly normal to me.', 2323]\n",
      "count 9\n",
      "['[_quietly_] yeah', '...dying?', 'I...did not know that Shiro was.....', 'Yeah...', 'It was...a lot.', 'Sure', 'Uh..do you want to come in?', \"Really? Because yesterday was...kind of a lot. And, well, I'm still wrapping my head around it.\", 2503]\n",
      "count 9\n",
      "['They’re just...yeah, failures at being decent human beings. You’re right.', '[_sighs_] Yeah..like you said, some people really shouldn’t be parents...', 'They _also_ failed spectacularly at being decent human beings', \"...She kind of sounds a bit like Nix's bio parents. What little I know about them, anyway.\", 'Like I said, I wish I could say her bullshit is surprising, but the only surprising thing is that it took her so long.', \"Genetics don't mean as much as some people think\", 'Well, she never really was mine.', \"[*shakes head*] I wish I could say I can't imagine a parent _doing_ something that fucked up, but that'd be a lie\", 1785]\n",
      "count 9\n",
      "['[_walks towards infirmary_]', '[_barely had sleep_]', '*Kalahan, having been too troubled and contemplative to sleep, merely lays there with Lauren, finding peace in watching her sleep.*', '[_Eventually, the sun rises and whoever managed to sleep will wake up._]', \"[_Medusa doesn't say anything, but will doze lightly_]\", \"[*if medusa doesn't contine the conversation, charlotte will sit quietly and focus on getting templeton refreshed on tasks, which takes the next few hours. She is definitely more worn out by the time she's done*]\", '...Not gonna stop me from worrying.', 'Arguable.', 4475]\n",
      "count 9\n",
      "['Well it sounds like we’re all on board..', '[_Arcade will leave unless someone stops him_]', 'I can leave if you want some privacy...?', '...I think it is, yeah.', 'So is that a yes?', '(( overwhelming anxiety. Bitch me too tf ))', '[*to hopper*] and I _know_ the rest of you were basically on board the minute you heard the offer', \"Setting aside my _overwhelming_ amounts of anxiety, I...don't think I've actually got much reason to say no.\", 1412]\n",
      "count 9\n",
      "['my associate, i mean. calmed down a little i asked sum stuff and then i think that may have been too much', 'okay, let me try this again. so after my friend', '_starting to regain some lucidity_', '.. how am i alive', 'oh god i did', '.............', 'because i bet you forgot to eat', 'maybe...maybe try water, eating something, and then sleep', 381]\n",
      "count 9\n",
      "['[_texts Charlotte_] What kind of tea do you like?', '[_looks at Collateral_] Uh, hold on.', 'Any particular kind?', 'What do you need me to do?', \"*Kalahan nods.*\\nYeah, no, I'm on it.\\n*He looks around, sees Amarok, and walks up to her.*\\nHey, do you guys have tea, or some other soothing drink?\", 'I need to stay here with her.', '[_Amarok is leaning against a tree, just watching all of this. She seems in no hurry._]', '[_Sighs_] Kalahan, could you..uh, could you ask if  they have any tea there? Have a cup made and bring it over here?', 1235]\n",
      "count 9\n",
      "['I imagine that’s useful in many situations...', '[_nods_] ah, I think I remember you mentioning her . A knack for chemistry, yes?', 'Although, to be fair, assassination is only a subset of her skills. Probably the most well-known.', \"Medusa's been following Shiro's work for _years_. Best as she can, anyway. God, she will _lose her shit_ if she finds out I've been recruited by the same group as _fucking Shiro_\", 'Clearly I’m missing some context here.', \"[_takes a sip of tea_] I see you're familiar.\", \"You work with goddam _Shiro?_ As in, the assassin who's basically a fucking ghost? Whose calling card is _never leaving a fucking trace? That_ Shiro?\", 'That someone you know?', 1405]\n",
      "count 9\n",
      "['[_looks around_]', '*Kalahan will casually peruse the garage, and looks very entertained.*', '[_Medusa will follow her out into what looks to be an office off to the side, leaving Kalahan and Hopper alone in the middle of the garage._]', '...yes. Let me go get that...', '[_sounding pained_] You said something about paperwork?', '[_rolls eyes_]  Anyway...', '[_looks between the two of you_] Right...', \"*Kalahan gives her a look.* Just because I'm a naturalist doesn't mean I can't appreciate a good machine.\", 4834]\n",
      "count 9\n",
      "['I hope—I think so', \"So we're good? With the Vory?\", 'we..found some common ground', '@Charlotte it was...fine', '_turns around and heads back_', '(( my reception is awful so my responses may be delayed ))', '@bitjockey ...How did it go? WIth Dr Chung?', \"All right. I'll be back in a bit. *gets up, walks over to a corner, starts talking over phone/commlink quietly*\", 276]\n",
      "count 9\n",
      "['[_watches Julia and Akari_]', \"[_to Charlotte_] You haven't heard from her?\", \"....wonder how she's doing....\", \"You don't\", \"[_to Charlotte_] I'm not sure I want to see that...\", '[_shrugs_] It needs to be done.', \"[_to Temper_] Seriously, you're worse than this one over here. [_she jerks her thumb at Shiro. Shiro pretends not to notice_]\", '[_Temper walks in with a pile of paperwork that he sets down before he gets breakfast._]', 1586]\n",
      "count 9\n",
      "['Alright.', '...So there will be options.', '[*charlotte will name some games that he and kalahan totally talked about in the days leading up to this*]', \"Do you know what we'll have to play? I don't even know what Kalahan enjoys playing...\", 'Should be an interesting evening', 'Yeah.', \"[*notices hopper and the moms (aka a convenient excuse to ignore nix's Look)*] Hey, you guys heading over too?\", \"[_as she makes her way towards Kalahan's place_] You know, I don't actually know what games they'll have there.\", 3862]\n",
      "count 9\n",
      "['yes but i really think that was my fault shti', 'okay. are they...getting help?', 'okay', 'the job went well but my...asosicate is not', 'i mean', 'sorry', 'no everyone is not okay, no everyone is not alive, or no the job did not go south?', 'no', 351]\n",
      "count 9\n",
      "[\"((i've given up trying to type in 1337 speak all the time))\", 'yeah', '@Charlotte r u free', \"So, it's a day ending in 'y'. Got it.\", 'so, you know. just Nix bein Nix', 'she did her stupid fuckn manipulative mastermind shit', 'Do I want to know why you have to yell at her?', '👍', 160]\n",
      "count 9\n",
      "['Not unless you can help with...[_shrug_]', 'Anything you might need help with?', \"Oh, I see. I'm not up to anything important right now. You?\", \"...But, uh, what're you up to?\", \"[_nods_] He wasn't finished before, just out of tasks. And, well, he wanted to share what he'd found so far. For obvious reasons.\", 'Oh? You did?', \"I don't know? But, uh, I sent Wilbur back.\", \"Oh no...it's alright. How are you doing?\", 5262]\n",
      "count 9\n",
      "['...ah. [_frowns_]', \"[_side glance_] I didn't exactly grow up in the _nicest_ area.\", '[_raises eyebrow_] Oh?', 'A bit. More like trouble would easily find me.', '[_smiles_] Ah a troublemaker?', 'Well, as much as she encouraged anything that kept me out of sight and out of more trouble than I could handle.', \"[_laugh_] Yep. Well, it wasn't my mother who gave me it, but she encouraged me.\", 'Yeah. My parents gave me a broken [_electronic thing_] when I was a kid. I took it apart and..somehow fixed it?', 3611]\n"
     ]
    },
    {
     "data": {
      "text/plain": [
       "Dataset({\n",
       "    features: ['response', 'context', 'context/0', 'context/1', 'context/2', 'context/3', 'context/4', 'context/5', '__index_level_0__'],\n",
       "    num_rows: 552\n",
       "})"
      ]
     },
     "execution_count": 208,
     "metadata": {},
     "output_type": "execute_result"
    }
   ],
   "source": [
    "val_dataset.map(debug_preprocess)"
   ]
  },
  {
   "cell_type": "code",
   "execution_count": 196,
   "id": "4ed3e3b8-b977-4a23-a848-e5f7e418331d",
   "metadata": {},
   "outputs": [
    {
     "data": {
      "text/html": [
       "<div>\n",
       "<style scoped>\n",
       "    .dataframe tbody tr th:only-of-type {\n",
       "        vertical-align: middle;\n",
       "    }\n",
       "\n",
       "    .dataframe tbody tr th {\n",
       "        vertical-align: top;\n",
       "    }\n",
       "\n",
       "    .dataframe thead th {\n",
       "        text-align: right;\n",
       "    }\n",
       "</style>\n",
       "<table border=\"1\" class=\"dataframe\">\n",
       "  <thead>\n",
       "    <tr style=\"text-align: right;\">\n",
       "      <th></th>\n",
       "      <th>response</th>\n",
       "      <th>context</th>\n",
       "      <th>context/0</th>\n",
       "      <th>context/1</th>\n",
       "      <th>context/2</th>\n",
       "      <th>context/3</th>\n",
       "      <th>context/4</th>\n",
       "      <th>context/5</th>\n",
       "    </tr>\n",
       "  </thead>\n",
       "  <tbody>\n",
       "    <tr>\n",
       "      <th>420</th>\n",
       "      <td>I am al right</td>\n",
       "      <td>me or yourself?</td>\n",
       "      <td>who are you trying to convince?</td>\n",
       "      <td>I am fine.</td>\n",
       "      <td>I am fine. I am okay.</td>\n",
       "      <td>Everything is fine.</td>\n",
       "      <td>...you know you can tell me if something's wrong, ok?</td>\n",
       "      <td>............k</td>\n",
       "    </tr>\n",
       "    <tr>\n",
       "      <th>2807</th>\n",
       "      <td>I had..one thing. To look forward to. That is..where Charlotte and I became acquiainted.</td>\n",
       "      <td>What?</td>\n",
       "      <td>[_sighs_] There was..something.</td>\n",
       "      <td>...any time?</td>\n",
       "      <td>I couldn't really..look past that. There wasn't...</td>\n",
       "      <td>But you...never had a chance to really deal with all of it, because you were focused on just...getting to the next morning.</td>\n",
       "      <td>[_Medusa looks like she wants to say something, but then thinks better of it._]</td>\n",
       "      <td>Okay.</td>\n",
       "    </tr>\n",
       "    <tr>\n",
       "      <th>433</th>\n",
       "      <td>(( I really haven't eaten anything btw so this is .. method acting or w/e ))</td>\n",
       "      <td>@Charlotte hey</td>\n",
       "      <td>(( 😂 ))</td>\n",
       "      <td>[quietly] What the fuck</td>\n",
       "      <td>[Mercifully,  no dreams haunted her during her nap. She heads over to her kitchen table where she left her cyberdeck and sits down. Her commlink right now is slaved to her cyberdeck so she can read it on a bigger screen or w/e. She reads the chat log between her and Charlotte.]</td>\n",
       "      <td>_It's past noon. And I haven't eaten anything_</td>\n",
       "      <td>Drek.</td>\n",
       "      <td>(( ugh why did I come up with such a brooding character 😛 ))</td>\n",
       "    </tr>\n",
       "    <tr>\n",
       "      <th>3450</th>\n",
       "      <td>[_shakes head_] It was disturbing enough for all of us who _did_ see. For you..I don't..think it would have been a good idea to see it.</td>\n",
       "      <td>[_quietly_] I...am not sure if...I should be glad I...didn't see it...or not.</td>\n",
       "      <td>...no.</td>\n",
       "      <td>[_sighs_] I figured as much. It's still...it isn't any better.</td>\n",
       "      <td>It was not...unexpected.</td>\n",
       "      <td>[_Shiro sets the tea and the book she was reading down_]</td>\n",
       "      <td>[_shrugs slightly_]</td>\n",
       "      <td>[_sits wherever there is space_] [_softly_] How...are you?</td>\n",
       "    </tr>\n",
       "    <tr>\n",
       "      <th>2157</th>\n",
       "      <td>I did.</td>\n",
       "      <td>You seemed like you enjoyed this afternoon.</td>\n",
       "      <td>[_distributes it, I mean_]</td>\n",
       "      <td>[_presents the food to the squad_]</td>\n",
       "      <td>[_assuming you have ordered food, it arrives after said time passes_]</td>\n",
       "      <td>[_the food will arrive in the exact maximum estimated time the order claims, because this is Boston and a dystopia and so we can't have nice things and this is how it works anyway_]</td>\n",
       "      <td>Alright</td>\n",
       "      <td>Guess we know what Julia wants.</td>\n",
       "    </tr>\n",
       "    <tr>\n",
       "      <th>...</th>\n",
       "      <td>...</td>\n",
       "      <td>...</td>\n",
       "      <td>...</td>\n",
       "      <td>...</td>\n",
       "      <td>...</td>\n",
       "      <td>...</td>\n",
       "      <td>...</td>\n",
       "      <td>...</td>\n",
       "    </tr>\n",
       "    <tr>\n",
       "      <th>3862</th>\n",
       "      <td>Alright.</td>\n",
       "      <td>...So there will be options.</td>\n",
       "      <td>[*charlotte will name some games that he and kalahan totally talked about in the days leading up to this*]</td>\n",
       "      <td>Do you know what we'll have to play? I don't even know what Kalahan enjoys playing...</td>\n",
       "      <td>Should be an interesting evening</td>\n",
       "      <td>Yeah.</td>\n",
       "      <td>[*notices hopper and the moms (aka a convenient excuse to ignore nix's Look)*] Hey, you guys heading over too?</td>\n",
       "      <td>[_as she makes her way towards Kalahan's place_] You know, I don't actually know what games they'll have there.</td>\n",
       "    </tr>\n",
       "    <tr>\n",
       "      <th>351</th>\n",
       "      <td>yes but i really think that was my fault shti</td>\n",
       "      <td>okay. are they...getting help?</td>\n",
       "      <td>okay</td>\n",
       "      <td>the job went well but my...asosicate is not</td>\n",
       "      <td>i mean</td>\n",
       "      <td>sorry</td>\n",
       "      <td>no everyone is not okay, no everyone is not alive, or no the job did not go south?</td>\n",
       "      <td>no</td>\n",
       "    </tr>\n",
       "    <tr>\n",
       "      <th>160</th>\n",
       "      <td>((i've given up trying to type in 1337 speak all the time))</td>\n",
       "      <td>yeah</td>\n",
       "      <td>@Charlotte r u free</td>\n",
       "      <td>So, it's a day ending in 'y'. Got it.</td>\n",
       "      <td>so, you know. just Nix bein Nix</td>\n",
       "      <td>she did her stupid fuckn manipulative mastermind shit</td>\n",
       "      <td>Do I want to know why you have to yell at her?</td>\n",
       "      <td>👍</td>\n",
       "    </tr>\n",
       "    <tr>\n",
       "      <th>5262</th>\n",
       "      <td>Not unless you can help with...[_shrug_]</td>\n",
       "      <td>Anything you might need help with?</td>\n",
       "      <td>Oh, I see. I'm not up to anything important right now. You?</td>\n",
       "      <td>...But, uh, what're you up to?</td>\n",
       "      <td>[_nods_] He wasn't finished before, just out of tasks. And, well, he wanted to share what he'd found so far. For obvious reasons.</td>\n",
       "      <td>Oh? You did?</td>\n",
       "      <td>I don't know? But, uh, I sent Wilbur back.</td>\n",
       "      <td>Oh no...it's alright. How are you doing?</td>\n",
       "    </tr>\n",
       "    <tr>\n",
       "      <th>3611</th>\n",
       "      <td>...ah. [_frowns_]</td>\n",
       "      <td>[_side glance_] I didn't exactly grow up in the _nicest_ area.</td>\n",
       "      <td>[_raises eyebrow_] Oh?</td>\n",
       "      <td>A bit. More like trouble would easily find me.</td>\n",
       "      <td>[_smiles_] Ah a troublemaker?</td>\n",
       "      <td>Well, as much as she encouraged anything that kept me out of sight and out of more trouble than I could handle.</td>\n",
       "      <td>[_laugh_] Yep. Well, it wasn't my mother who gave me it, but she encouraged me.</td>\n",
       "      <td>Yeah. My parents gave me a broken [_electronic thing_] when I was a kid. I took it apart and..somehow fixed it?</td>\n",
       "    </tr>\n",
       "  </tbody>\n",
       "</table>\n",
       "<p>552 rows × 8 columns</p>\n",
       "</div>"
      ],
      "text/plain": [
       "                                                                                                                                     response  \\\n",
       "420                                                                                                                             I am al right   \n",
       "2807                                                 I had..one thing. To look forward to. That is..where Charlotte and I became acquiainted.   \n",
       "433                                                              (( I really haven't eaten anything btw so this is .. method acting or w/e ))   \n",
       "3450  [_shakes head_] It was disturbing enough for all of us who _did_ see. For you..I don't..think it would have been a good idea to see it.   \n",
       "2157                                                                                                                                   I did.   \n",
       "...                                                                                                                                       ...   \n",
       "3862                                                                                                                                 Alright.   \n",
       "351                                                                                             yes but i really think that was my fault shti   \n",
       "160                                                                               ((i've given up trying to type in 1337 speak all the time))   \n",
       "5262                                                                                                 Not unless you can help with...[_shrug_]   \n",
       "3611                                                                                                                        ...ah. [_frowns_]   \n",
       "\n",
       "                                                                            context  \\\n",
       "420                                                                 me or yourself?   \n",
       "2807                                                                          What?   \n",
       "433                                                                  @Charlotte hey   \n",
       "3450  [_quietly_] I...am not sure if...I should be glad I...didn't see it...or not.   \n",
       "2157                                    You seemed like you enjoyed this afternoon.   \n",
       "...                                                                             ...   \n",
       "3862                                                   ...So there will be options.   \n",
       "351                                                  okay. are they...getting help?   \n",
       "160                                                                            yeah   \n",
       "5262                                             Anything you might need help with?   \n",
       "3611                 [_side glance_] I didn't exactly grow up in the _nicest_ area.   \n",
       "\n",
       "                                                                                                       context/0  \\\n",
       "420                                                                              who are you trying to convince?   \n",
       "2807                                                                             [_sighs_] There was..something.   \n",
       "433                                                                                                      (( 😂 ))   \n",
       "3450                                                                                                      ...no.   \n",
       "2157                                                                                  [_distributes it, I mean_]   \n",
       "...                                                                                                          ...   \n",
       "3862  [*charlotte will name some games that he and kalahan totally talked about in the days leading up to this*]   \n",
       "351                                                                                                         okay   \n",
       "160                                                                                          @Charlotte r u free   \n",
       "5262                                                 Oh, I see. I'm not up to anything important right now. You?   \n",
       "3611                                                                                      [_raises eyebrow_] Oh?   \n",
       "\n",
       "                                                                                  context/1  \\\n",
       "420                                                                              I am fine.   \n",
       "2807                                                                           ...any time?   \n",
       "433                                                                 [quietly] What the fuck   \n",
       "3450                         [_sighs_] I figured as much. It's still...it isn't any better.   \n",
       "2157                                                     [_presents the food to the squad_]   \n",
       "...                                                                                     ...   \n",
       "3862  Do you know what we'll have to play? I don't even know what Kalahan enjoys playing...   \n",
       "351                                             the job went well but my...asosicate is not   \n",
       "160                                                   So, it's a day ending in 'y'. Got it.   \n",
       "5262                                                         ...But, uh, what're you up to?   \n",
       "3611                                         A bit. More like trouble would easily find me.   \n",
       "\n",
       "                                                                                                                                                                                                                                                                                   context/2  \\\n",
       "420                                                                                                                                                                                                                                                                    I am fine. I am okay.   \n",
       "2807                                                                                                                                                                                                                                      I couldn't really..look past that. There wasn't...   \n",
       "433   [Mercifully,  no dreams haunted her during her nap. She heads over to her kitchen table where she left her cyberdeck and sits down. Her commlink right now is slaved to her cyberdeck so she can read it on a bigger screen or w/e. She reads the chat log between her and Charlotte.]   \n",
       "3450                                                                                                                                                                                                                                                                It was not...unexpected.   \n",
       "2157                                                                                                                                                                                                                   [_assuming you have ordered food, it arrives after said time passes_]   \n",
       "...                                                                                                                                                                                                                                                                                      ...   \n",
       "3862                                                                                                                                                                                                                                                        Should be an interesting evening   \n",
       "351                                                                                                                                                                                                                                                                                   i mean   \n",
       "160                                                                                                                                                                                                                                                          so, you know. just Nix bein Nix   \n",
       "5262                                                                                                                                                       [_nods_] He wasn't finished before, just out of tasks. And, well, he wanted to share what he'd found so far. For obvious reasons.   \n",
       "3611                                                                                                                                                                                                                                                           [_smiles_] Ah a troublemaker?   \n",
       "\n",
       "                                                                                                                                                                                  context/3  \\\n",
       "420                                                                                                                                                                     Everything is fine.   \n",
       "2807                                                            But you...never had a chance to really deal with all of it, because you were focused on just...getting to the next morning.   \n",
       "433                                                                                                                                          _It's past noon. And I haven't eaten anything_   \n",
       "3450                                                                                                                               [_Shiro sets the tea and the book she was reading down_]   \n",
       "2157  [_the food will arrive in the exact maximum estimated time the order claims, because this is Boston and a dystopia and so we can't have nice things and this is how it works anyway_]   \n",
       "...                                                                                                                                                                                     ...   \n",
       "3862                                                                                                                                                                                  Yeah.   \n",
       "351                                                                                                                                                                                   sorry   \n",
       "160                                                                                                                                   she did her stupid fuckn manipulative mastermind shit   \n",
       "5262                                                                                                                                                                           Oh? You did?   \n",
       "3611                                                                        Well, as much as she encouraged anything that kept me out of sight and out of more trouble than I could handle.   \n",
       "\n",
       "                                                                                                           context/4  \\\n",
       "420                                                            ...you know you can tell me if something's wrong, ok?   \n",
       "2807                                 [_Medusa looks like she wants to say something, but then thinks better of it._]   \n",
       "433                                                                                                            Drek.   \n",
       "3450                                                                                             [_shrugs slightly_]   \n",
       "2157                                                                                                         Alright   \n",
       "...                                                                                                              ...   \n",
       "3862  [*notices hopper and the moms (aka a convenient excuse to ignore nix's Look)*] Hey, you guys heading over too?   \n",
       "351                               no everyone is not okay, no everyone is not alive, or no the job did not go south?   \n",
       "160                                                                   Do I want to know why you have to yell at her?   \n",
       "5262                                                                      I don't know? But, uh, I sent Wilbur back.   \n",
       "3611                                 [_laugh_] Yep. Well, it wasn't my mother who gave me it, but she encouraged me.   \n",
       "\n",
       "                                                                                                            context/5  \n",
       "420                                                                                                     ............k  \n",
       "2807                                                                                                            Okay.  \n",
       "433                                                      (( ugh why did I come up with such a brooding character 😛 ))  \n",
       "3450                                                       [_sits wherever there is space_] [_softly_] How...are you?  \n",
       "2157                                                                                  Guess we know what Julia wants.  \n",
       "...                                                                                                               ...  \n",
       "3862  [_as she makes her way towards Kalahan's place_] You know, I don't actually know what games they'll have there.  \n",
       "351                                                                                                                no  \n",
       "160                                                                                                                 👍  \n",
       "5262                                                                         Oh no...it's alright. How are you doing?  \n",
       "3611  Yeah. My parents gave me a broken [_electronic thing_] when I was a kid. I took it apart and..somehow fixed it?  \n",
       "\n",
       "[552 rows x 8 columns]"
      ]
     },
     "execution_count": 196,
     "metadata": {},
     "output_type": "execute_result"
    }
   ],
   "source": [
    "val_df"
   ]
  },
  {
   "cell_type": "code",
   "execution_count": 54,
   "id": "854f4411-ef96-4922-be66-78f137a5a2ae",
   "metadata": {},
   "outputs": [
    {
     "data": {
      "application/vnd.jupyter.widget-view+json": {
       "model_id": "6add34f29b2c4ca4b855d1c0078d9638",
       "version_major": 2,
       "version_minor": 0
      },
      "text/plain": [
       "  0%|          | 0/5 [00:00<?, ?ba/s]"
      ]
     },
     "metadata": {},
     "output_type": "display_data"
    },
    {
     "data": {
      "application/vnd.jupyter.widget-view+json": {
       "model_id": "39be1babbb3f47f6a0724e33ebc3a26b",
       "version_major": 2,
       "version_minor": 0
      },
      "text/plain": [
       "  0%|          | 0/1 [00:00<?, ?ba/s]"
      ]
     },
     "metadata": {},
     "output_type": "display_data"
    }
   ],
   "source": [
    "tokenized_train_dataset = train_dataset.map(lambda e: base_tokenizer(e[\"text\"], truncation=True, padding=\"max_length\", max_length=250), remove_columns=[\"text\"], batched=True)\n",
    "tokenized_train_dataset.set_format(type=\"torch\", columns=[\"input_ids\", \"attention_mask\"])\n",
    "tokenized_val_dataset = val_dataset.map(lambda e: base_tokenizer(e[\"text\"], truncation=True, padding=\"max_length\", max_length=250), remove_columns=[\"text\"], batched=True)\n",
    "tokenized_val_dataset.set_format(type=\"torch\", columns=[\"input_ids\", \"attention_mask\"])"
   ]
  },
  {
   "cell_type": "markdown",
   "id": "b1ee5835-da48-468b-b2af-45d407d9a8c9",
   "metadata": {},
   "source": [
    "### Metrics"
   ]
  },
  {
   "cell_type": "code",
   "execution_count": 50,
   "id": "52d02923-9740-413b-ba81-c46597c56423",
   "metadata": {},
   "outputs": [],
   "source": [
    "metric = load_metric(\"perplexity\")\n",
    "\n",
    "\n",
    "def compute_metrics(eval_pred):\n",
    "    logits, labels = eval_pred\n",
    "    predictions = np.argmax(logits, axis=-1)\n",
    "    return metric.compute(predictions=predictions, references=labels)\n"
   ]
  },
  {
   "cell_type": "markdown",
   "id": "c2313d34-3806-4d23-a40a-495d36c084e2",
   "metadata": {},
   "source": [
    "### Training"
   ]
  },
  {
   "cell_type": "code",
   "execution_count": 48,
   "id": "dc4fb8f8-39eb-45f9-a9a0-25575af5e5f5",
   "metadata": {},
   "outputs": [
    {
     "data": {
      "text/plain": [
       "Embedding(50257, 768)"
      ]
     },
     "execution_count": 48,
     "metadata": {},
     "output_type": "execute_result"
    }
   ],
   "source": [
    "base_model.resize_token_embeddings(len(base_tokenizer))"
   ]
  },
  {
   "cell_type": "code",
   "execution_count": 57,
   "id": "52086282-7820-4e5f-91b3-549529ed7528",
   "metadata": {},
   "outputs": [
    {
     "name": "stderr",
     "output_type": "stream",
     "text": [
      "PyTorch: setting up devices\n",
      "The default value for the training argument `--report_to` will change in v5 (from all installed integrations to none). In v5, you will need to use `--report_to all` to get the same behavior as now. You should start updating your code and make this info disappear :-).\n"
     ]
    }
   ],
   "source": [
    "model_path = './my-DialoGPT'\n",
    "\n",
    "data_collator = DataCollatorForLanguageModeling(\n",
    "    tokenizer=base_tokenizer,\n",
    "    mlm=False,\n",
    ")\n",
    "\n",
    "trainer = None\n",
    "training_args = TrainingArguments(\n",
    "    output_dir=model_path,          # output directory\n",
    "    evaluation_strategy=\"epoch\",\n",
    "    num_train_epochs=3,              # total # of training epochs\n",
    "    per_device_train_batch_size=2,  # batch size per device during training\n",
    "    per_device_eval_batch_size=2,   # batch size for evaluation\n",
    "    weight_decay=0.01,               # strength of weight decay\n",
    "    logging_dir=model_path,            # directory for storing logs\n",
    "    prediction_loss_only=True,\n",
    ")"
   ]
  },
  {
   "cell_type": "code",
   "execution_count": 58,
   "id": "7e9eab83-e5f6-4da7-8d90-69d808da13c5",
   "metadata": {
    "scrolled": true,
    "tags": []
   },
   "outputs": [],
   "source": [
    "trainer = Trainer(\n",
    "    model=base_model,\n",
    "    args=training_args,\n",
    "    train_dataset=tokenized_train_dataset,\n",
    "    eval_dataset=tokenized_val_dataset,\n",
    "    compute_metrics=compute_metrics,\n",
    "    data_collator=data_collator,\n",
    ")"
   ]
  },
  {
   "cell_type": "code",
   "execution_count": 59,
   "id": "8efd3df3-97d3-42da-93e5-d1d3a89f1b9e",
   "metadata": {},
   "outputs": [
    {
     "data": {
      "text/plain": [
       "<torch.utils.data.dataloader.DataLoader at 0x7f01501b70d0>"
      ]
     },
     "execution_count": 59,
     "metadata": {},
     "output_type": "execute_result"
    }
   ],
   "source": [
    "trainer.get_train_dataloader()"
   ]
  },
  {
   "cell_type": "code",
   "execution_count": 60,
   "id": "985db8b4-0d4d-4c9b-a96c-a712c4c1ebf0",
   "metadata": {
    "scrolled": true,
    "tags": []
   },
   "outputs": [
    {
     "name": "stderr",
     "output_type": "stream",
     "text": [
      "/opt/conda/lib/python3.9/site-packages/transformers/optimization.py:306: FutureWarning: This implementation of AdamW is deprecated and will be removed in a future version. Use the PyTorch implementation torch.optim.AdamW instead, or set `no_deprecation_warning=True` to disable this warning\n",
      "  warnings.warn(\n",
      "***** Running training *****\n",
      "  Num examples = 4967\n",
      "  Num Epochs = 3\n",
      "  Instantaneous batch size per device = 2\n",
      "  Total train batch size (w. parallel, distributed & accumulation) = 2\n",
      "  Gradient Accumulation steps = 1\n",
      "  Total optimization steps = 7452\n"
     ]
    },
    {
     "name": "stdout",
     "output_type": "stream",
     "text": [
      "huggingface/tokenizers: The current process just got forked, after parallelism has already been used. Disabling parallelism to avoid deadlocks...\n",
      "To disable this warning, you can either:\n",
      "\t- Avoid using `tokenizers` before the fork if possible\n",
      "\t- Explicitly set the environment variable TOKENIZERS_PARALLELISM=(true | false)\n",
      "huggingface/tokenizers: The current process just got forked, after parallelism has already been used. Disabling parallelism to avoid deadlocks...\n",
      "To disable this warning, you can either:\n",
      "\t- Avoid using `tokenizers` before the fork if possible\n",
      "\t- Explicitly set the environment variable TOKENIZERS_PARALLELISM=(true | false)\n"
     ]
    },
    {
     "data": {
      "text/html": [
       "\n",
       "    <div>\n",
       "      \n",
       "      <progress value='7452' max='7452' style='width:300px; height:20px; vertical-align: middle;'></progress>\n",
       "      [7452/7452 15:14, Epoch 3/3]\n",
       "    </div>\n",
       "    <table border=\"1\" class=\"dataframe\">\n",
       "  <thead>\n",
       " <tr style=\"text-align: left;\">\n",
       "      <th>Epoch</th>\n",
       "      <th>Training Loss</th>\n",
       "      <th>Validation Loss</th>\n",
       "    </tr>\n",
       "  </thead>\n",
       "  <tbody>\n",
       "    <tr>\n",
       "      <td>1</td>\n",
       "      <td>3.224100</td>\n",
       "      <td>2.903491</td>\n",
       "    </tr>\n",
       "    <tr>\n",
       "      <td>2</td>\n",
       "      <td>2.762800</td>\n",
       "      <td>2.639832</td>\n",
       "    </tr>\n",
       "    <tr>\n",
       "      <td>3</td>\n",
       "      <td>2.522500</td>\n",
       "      <td>2.549835</td>\n",
       "    </tr>\n",
       "  </tbody>\n",
       "</table><p>"
      ],
      "text/plain": [
       "<IPython.core.display.HTML object>"
      ]
     },
     "metadata": {},
     "output_type": "display_data"
    },
    {
     "name": "stderr",
     "output_type": "stream",
     "text": [
      "Saving model checkpoint to ./my-DialoGPT/checkpoint-500\n",
      "Configuration saved in ./my-DialoGPT/checkpoint-500/config.json\n"
     ]
    },
    {
     "name": "stdout",
     "output_type": "stream",
     "text": [
      "Attempted to log scalar metric loss:\n",
      "4.3744\n",
      "Attempted to log scalar metric learning_rate:\n",
      "4.6645195920558245e-05\n",
      "Attempted to log scalar metric epoch:\n",
      "0.2\n"
     ]
    },
    {
     "name": "stderr",
     "output_type": "stream",
     "text": [
      "Model weights saved in ./my-DialoGPT/checkpoint-500/pytorch_model.bin\n",
      "Saving model checkpoint to ./my-DialoGPT/checkpoint-1000\n",
      "Configuration saved in ./my-DialoGPT/checkpoint-1000/config.json\n"
     ]
    },
    {
     "name": "stdout",
     "output_type": "stream",
     "text": [
      "Attempted to log scalar metric loss:\n",
      "3.575\n",
      "Attempted to log scalar metric learning_rate:\n",
      "4.329039184111648e-05\n",
      "Attempted to log scalar metric epoch:\n",
      "0.4\n"
     ]
    },
    {
     "name": "stderr",
     "output_type": "stream",
     "text": [
      "Model weights saved in ./my-DialoGPT/checkpoint-1000/pytorch_model.bin\n",
      "Saving model checkpoint to ./my-DialoGPT/checkpoint-1500\n",
      "Configuration saved in ./my-DialoGPT/checkpoint-1500/config.json\n"
     ]
    },
    {
     "name": "stdout",
     "output_type": "stream",
     "text": [
      "Attempted to log scalar metric loss:\n",
      "3.3675\n",
      "Attempted to log scalar metric learning_rate:\n",
      "3.993558776167472e-05\n",
      "Attempted to log scalar metric epoch:\n",
      "0.6\n"
     ]
    },
    {
     "name": "stderr",
     "output_type": "stream",
     "text": [
      "Model weights saved in ./my-DialoGPT/checkpoint-1500/pytorch_model.bin\n",
      "Saving model checkpoint to ./my-DialoGPT/checkpoint-2000\n",
      "Configuration saved in ./my-DialoGPT/checkpoint-2000/config.json\n"
     ]
    },
    {
     "name": "stdout",
     "output_type": "stream",
     "text": [
      "Attempted to log scalar metric loss:\n",
      "3.2241\n",
      "Attempted to log scalar metric learning_rate:\n",
      "3.6580783682232964e-05\n",
      "Attempted to log scalar metric epoch:\n",
      "0.81\n"
     ]
    },
    {
     "name": "stderr",
     "output_type": "stream",
     "text": [
      "Model weights saved in ./my-DialoGPT/checkpoint-2000/pytorch_model.bin\n",
      "***** Running Evaluation *****\n",
      "  Num examples = 552\n",
      "  Batch size = 2\n"
     ]
    },
    {
     "name": "stdout",
     "output_type": "stream",
     "text": [
      "Attempted to log scalar metric eval_loss:\n",
      "2.9034910202026367\n",
      "Attempted to log scalar metric eval_runtime:\n",
      "7.3398\n",
      "Attempted to log scalar metric eval_samples_per_second:\n",
      "75.206\n",
      "Attempted to log scalar metric eval_steps_per_second:\n",
      "37.603\n",
      "Attempted to log scalar metric epoch:\n",
      "1.0\n"
     ]
    },
    {
     "name": "stderr",
     "output_type": "stream",
     "text": [
      "Saving model checkpoint to ./my-DialoGPT/checkpoint-2500\n",
      "Configuration saved in ./my-DialoGPT/checkpoint-2500/config.json\n"
     ]
    },
    {
     "name": "stdout",
     "output_type": "stream",
     "text": [
      "Attempted to log scalar metric loss:\n",
      "3.1195\n",
      "Attempted to log scalar metric learning_rate:\n",
      "3.32259796027912e-05\n",
      "Attempted to log scalar metric epoch:\n",
      "1.01\n"
     ]
    },
    {
     "name": "stderr",
     "output_type": "stream",
     "text": [
      "Model weights saved in ./my-DialoGPT/checkpoint-2500/pytorch_model.bin\n",
      "Saving model checkpoint to ./my-DialoGPT/checkpoint-3000\n",
      "Configuration saved in ./my-DialoGPT/checkpoint-3000/config.json\n"
     ]
    },
    {
     "name": "stdout",
     "output_type": "stream",
     "text": [
      "Attempted to log scalar metric loss:\n",
      "2.8748\n",
      "Attempted to log scalar metric learning_rate:\n",
      "2.9871175523349438e-05\n",
      "Attempted to log scalar metric epoch:\n",
      "1.21\n"
     ]
    },
    {
     "name": "stderr",
     "output_type": "stream",
     "text": [
      "Model weights saved in ./my-DialoGPT/checkpoint-3000/pytorch_model.bin\n",
      "Saving model checkpoint to ./my-DialoGPT/checkpoint-3500\n",
      "Configuration saved in ./my-DialoGPT/checkpoint-3500/config.json\n"
     ]
    },
    {
     "name": "stdout",
     "output_type": "stream",
     "text": [
      "Attempted to log scalar metric loss:\n",
      "2.8411\n",
      "Attempted to log scalar metric learning_rate:\n",
      "2.6516371443907677e-05\n",
      "Attempted to log scalar metric epoch:\n",
      "1.41\n"
     ]
    },
    {
     "name": "stderr",
     "output_type": "stream",
     "text": [
      "Model weights saved in ./my-DialoGPT/checkpoint-3500/pytorch_model.bin\n",
      "Saving model checkpoint to ./my-DialoGPT/checkpoint-4000\n",
      "Configuration saved in ./my-DialoGPT/checkpoint-4000/config.json\n"
     ]
    },
    {
     "name": "stdout",
     "output_type": "stream",
     "text": [
      "Attempted to log scalar metric loss:\n",
      "2.7769\n",
      "Attempted to log scalar metric learning_rate:\n",
      "2.3161567364465916e-05\n",
      "Attempted to log scalar metric epoch:\n",
      "1.61\n"
     ]
    },
    {
     "name": "stderr",
     "output_type": "stream",
     "text": [
      "Model weights saved in ./my-DialoGPT/checkpoint-4000/pytorch_model.bin\n",
      "Saving model checkpoint to ./my-DialoGPT/checkpoint-4500\n",
      "Configuration saved in ./my-DialoGPT/checkpoint-4500/config.json\n"
     ]
    },
    {
     "name": "stdout",
     "output_type": "stream",
     "text": [
      "Attempted to log scalar metric loss:\n",
      "2.7628\n",
      "Attempted to log scalar metric learning_rate:\n",
      "1.9806763285024154e-05\n",
      "Attempted to log scalar metric epoch:\n",
      "1.81\n"
     ]
    },
    {
     "name": "stderr",
     "output_type": "stream",
     "text": [
      "Model weights saved in ./my-DialoGPT/checkpoint-4500/pytorch_model.bin\n",
      "***** Running Evaluation *****\n",
      "  Num examples = 552\n",
      "  Batch size = 2\n"
     ]
    },
    {
     "name": "stdout",
     "output_type": "stream",
     "text": [
      "Attempted to log scalar metric eval_loss:\n",
      "2.6398324966430664\n",
      "Attempted to log scalar metric eval_runtime:\n",
      "7.3561\n",
      "Attempted to log scalar metric eval_samples_per_second:\n",
      "75.04\n",
      "Attempted to log scalar metric eval_steps_per_second:\n",
      "37.52\n",
      "Attempted to log scalar metric epoch:\n",
      "2.0\n"
     ]
    },
    {
     "name": "stderr",
     "output_type": "stream",
     "text": [
      "Saving model checkpoint to ./my-DialoGPT/checkpoint-5000\n",
      "Configuration saved in ./my-DialoGPT/checkpoint-5000/config.json\n"
     ]
    },
    {
     "name": "stdout",
     "output_type": "stream",
     "text": [
      "Attempted to log scalar metric loss:\n",
      "2.7169\n",
      "Attempted to log scalar metric learning_rate:\n",
      "1.6451959205582396e-05\n",
      "Attempted to log scalar metric epoch:\n",
      "2.01\n"
     ]
    },
    {
     "name": "stderr",
     "output_type": "stream",
     "text": [
      "Model weights saved in ./my-DialoGPT/checkpoint-5000/pytorch_model.bin\n",
      "Saving model checkpoint to ./my-DialoGPT/checkpoint-5500\n",
      "Configuration saved in ./my-DialoGPT/checkpoint-5500/config.json\n"
     ]
    },
    {
     "name": "stdout",
     "output_type": "stream",
     "text": [
      "Attempted to log scalar metric loss:\n",
      "2.5583\n",
      "Attempted to log scalar metric learning_rate:\n",
      "1.3097155126140634e-05\n",
      "Attempted to log scalar metric epoch:\n",
      "2.21\n"
     ]
    },
    {
     "name": "stderr",
     "output_type": "stream",
     "text": [
      "Model weights saved in ./my-DialoGPT/checkpoint-5500/pytorch_model.bin\n",
      "Saving model checkpoint to ./my-DialoGPT/checkpoint-6000\n",
      "Configuration saved in ./my-DialoGPT/checkpoint-6000/config.json\n"
     ]
    },
    {
     "name": "stdout",
     "output_type": "stream",
     "text": [
      "Attempted to log scalar metric loss:\n",
      "2.543\n",
      "Attempted to log scalar metric learning_rate:\n",
      "9.742351046698874e-06\n",
      "Attempted to log scalar metric epoch:\n",
      "2.42\n"
     ]
    },
    {
     "name": "stderr",
     "output_type": "stream",
     "text": [
      "Model weights saved in ./my-DialoGPT/checkpoint-6000/pytorch_model.bin\n",
      "Saving model checkpoint to ./my-DialoGPT/checkpoint-6500\n",
      "Configuration saved in ./my-DialoGPT/checkpoint-6500/config.json\n"
     ]
    },
    {
     "name": "stdout",
     "output_type": "stream",
     "text": [
      "Attempted to log scalar metric loss:\n",
      "2.5223\n",
      "Attempted to log scalar metric learning_rate:\n",
      "6.3875469672571135e-06\n",
      "Attempted to log scalar metric epoch:\n",
      "2.62\n"
     ]
    },
    {
     "name": "stderr",
     "output_type": "stream",
     "text": [
      "Model weights saved in ./my-DialoGPT/checkpoint-6500/pytorch_model.bin\n",
      "Saving model checkpoint to ./my-DialoGPT/checkpoint-7000\n",
      "Configuration saved in ./my-DialoGPT/checkpoint-7000/config.json\n"
     ]
    },
    {
     "name": "stdout",
     "output_type": "stream",
     "text": [
      "Attempted to log scalar metric loss:\n",
      "2.5225\n",
      "Attempted to log scalar metric learning_rate:\n",
      "3.032742887815352e-06\n",
      "Attempted to log scalar metric epoch:\n",
      "2.82\n"
     ]
    },
    {
     "name": "stderr",
     "output_type": "stream",
     "text": [
      "Model weights saved in ./my-DialoGPT/checkpoint-7000/pytorch_model.bin\n",
      "***** Running Evaluation *****\n",
      "  Num examples = 552\n",
      "  Batch size = 2\n"
     ]
    },
    {
     "name": "stdout",
     "output_type": "stream",
     "text": [
      "Attempted to log scalar metric eval_loss:\n",
      "2.549834728240967\n",
      "Attempted to log scalar metric eval_runtime:\n",
      "7.3521\n",
      "Attempted to log scalar metric eval_samples_per_second:\n",
      "75.081\n",
      "Attempted to log scalar metric eval_steps_per_second:\n",
      "37.541\n",
      "Attempted to log scalar metric epoch:\n",
      "3.0\n"
     ]
    },
    {
     "name": "stderr",
     "output_type": "stream",
     "text": [
      "\n",
      "\n",
      "Training completed. Do not forget to share your model on huggingface.co/models =)\n",
      "\n",
      "\n"
     ]
    },
    {
     "name": "stdout",
     "output_type": "stream",
     "text": [
      "Attempted to log scalar metric train_runtime:\n",
      "916.2018\n",
      "Attempted to log scalar metric train_samples_per_second:\n",
      "16.264\n",
      "Attempted to log scalar metric train_steps_per_second:\n",
      "8.134\n",
      "Attempted to log scalar metric total_flos:\n",
      "1901129184000000.0\n",
      "Attempted to log scalar metric train_loss:\n",
      "2.954400595451515\n",
      "Attempted to log scalar metric epoch:\n",
      "3.0\n"
     ]
    },
    {
     "data": {
      "text/plain": [
       "TrainOutput(global_step=7452, training_loss=2.954400595451515, metrics={'train_runtime': 916.2018, 'train_samples_per_second': 16.264, 'train_steps_per_second': 8.134, 'total_flos': 1901129184000000.0, 'train_loss': 2.954400595451515, 'epoch': 3.0})"
      ]
     },
     "execution_count": 60,
     "metadata": {},
     "output_type": "execute_result"
    }
   ],
   "source": [
    "trainer.train()"
   ]
  },
  {
   "cell_type": "code",
   "execution_count": 61,
   "id": "d0a77399-5118-458b-8147-54139ede96f4",
   "metadata": {},
   "outputs": [
    {
     "name": "stderr",
     "output_type": "stream",
     "text": [
      "Saving model checkpoint to my-DialoGPT\n",
      "Configuration saved in my-DialoGPT/config.json\n",
      "Model weights saved in my-DialoGPT/pytorch_model.bin\n",
      "tokenizer config file saved in my-DialoGPT/tokenizer_config.json\n",
      "Special tokens file saved in my-DialoGPT/special_tokens_map.json\n",
      "Configuration saved in my-DialoGPT/config.json\n"
     ]
    }
   ],
   "source": [
    "trainer.save_model(\"my-DialoGPT\")\n",
    "base_tokenizer.save_pretrained(\"my-DialoGPT\")\n",
    "config.save_pretrained(\"my-DialoGPT\")"
   ]
  },
  {
   "cell_type": "code",
   "execution_count": 62,
   "id": "490541df-a595-4c80-8e5c-9b8ff66a9c39",
   "metadata": {
    "scrolled": true,
    "tags": []
   },
   "outputs": [
    {
     "name": "stderr",
     "output_type": "stream",
     "text": [
      "loading configuration file my-DialoGPT/config.json\n",
      "Model config GPT2Config {\n",
      "  \"_name_or_path\": \"my-DialoGPT\",\n",
      "  \"activation_function\": \"gelu_new\",\n",
      "  \"architectures\": [\n",
      "    \"GPT2LMHeadModel\"\n",
      "  ],\n",
      "  \"attn_pdrop\": 0.1,\n",
      "  \"bos_token_id\": 50256,\n",
      "  \"embd_pdrop\": 0.1,\n",
      "  \"eos_token_id\": 50256,\n",
      "  \"initializer_range\": 0.02,\n",
      "  \"layer_norm_epsilon\": 1e-05,\n",
      "  \"model_type\": \"gpt2\",\n",
      "  \"n_ctx\": 1024,\n",
      "  \"n_embd\": 768,\n",
      "  \"n_head\": 12,\n",
      "  \"n_inner\": null,\n",
      "  \"n_layer\": 12,\n",
      "  \"n_positions\": 1024,\n",
      "  \"reorder_and_upcast_attn\": false,\n",
      "  \"resid_pdrop\": 0.1,\n",
      "  \"scale_attn_by_inverse_layer_idx\": false,\n",
      "  \"scale_attn_weights\": true,\n",
      "  \"summary_activation\": null,\n",
      "  \"summary_first_dropout\": 0.1,\n",
      "  \"summary_proj_to_labels\": true,\n",
      "  \"summary_type\": \"cls_index\",\n",
      "  \"summary_use_proj\": true,\n",
      "  \"task_specific_params\": {\n",
      "    \"conversational\": {\n",
      "      \"max_length\": 1000\n",
      "    }\n",
      "  },\n",
      "  \"torch_dtype\": \"float32\",\n",
      "  \"transformers_version\": \"4.19.0\",\n",
      "  \"use_cache\": true,\n",
      "  \"vocab_size\": 50257\n",
      "}\n",
      "\n",
      "loading weights file my-DialoGPT/pytorch_model.bin\n",
      "All model checkpoint weights were used when initializing GPT2LMHeadModel.\n",
      "\n",
      "All the weights of GPT2LMHeadModel were initialized from the model checkpoint at my-DialoGPT.\n",
      "If your task is similar to the task the model of the checkpoint was trained on, you can already use GPT2LMHeadModel for predictions without further training.\n",
      "Didn't find file my-DialoGPT/added_tokens.json. We won't load it.\n",
      "loading file my-DialoGPT/vocab.json\n",
      "loading file my-DialoGPT/merges.txt\n",
      "loading file my-DialoGPT/tokenizer.json\n",
      "loading file None\n",
      "loading file my-DialoGPT/special_tokens_map.json\n",
      "loading file my-DialoGPT/tokenizer_config.json\n",
      "Special tokens have been added in the vocabulary, make sure the associated word embeddings are fine-tuned or trained.\n"
     ]
    }
   ],
   "source": [
    "finetuned_model = AutoModelForCausalLM.from_pretrained(\"my-DialoGPT\")\n",
    "tokenizer = AutoTokenizer.from_pretrained(\"my-DialoGPT\")"
   ]
  },
  {
   "cell_type": "code",
   "execution_count": 23,
   "id": "af6daae3-1241-4782-920e-16b5e67933f7",
   "metadata": {},
   "outputs": [],
   "source": [
    "def generate_responses(model, tokenizer, text, chat_history_ids=None, step=0):\n",
    "    # encode the new user input, add the eos_token and return a tensor in Pytorch\n",
    "    new_user_input_ids = tokenizer.encode(text + tokenizer.eos_token, return_tensors='pt')\n",
    "\n",
    "    # append the new user input tokens to the chat history\n",
    "    bot_input_ids = torch.cat([chat_history_ids, new_user_input_ids], dim=-1) if step > 0 else new_user_input_ids\n",
    "\n",
    "    # generated a response while limiting the total chat history to 1000 tokens, \n",
    "    chat_history_ids = model.generate(\n",
    "        bot_input_ids,\n",
    "        max_length=512,\n",
    "        pad_token_id=tokenizer.eos_token_id,\n",
    "        no_repeat_ngram_size=3,\n",
    "        do_sample=True,\n",
    "        top_k=100,\n",
    "        top_p=0.7\n",
    "    )\n",
    "    \n",
    "    response = tokenizer.decode(\n",
    "        chat_history_ids[:, bot_input_ids.shape[-1]:][0],\n",
    "        skip_special_tokens=True,\n",
    "    )\n",
    "\n",
    "    return response, chat_history_ids, step + 1\n",
    "\n",
    "def chat(model, tokenizer):\n",
    "    step = 0\n",
    "    chat_history_ids = []\n",
    "    \n",
    "    while True: \n",
    "        text = input(\">> \")\n",
    "        if text in [\"/q\", \"/quit\", \"/e\", \"/exit\"]: break\n",
    "        print(f\"User: {text}\")\n",
    "        response, chat_history_ids, step = generate_responses(\n",
    "            model=model,\n",
    "            tokenizer=tokenizer,\n",
    "            text=text,\n",
    "            chat_history_ids=chat_history_ids,\n",
    "            step=step\n",
    "        )\n",
    "        print(f\"Bot: {response}\")\n",
    "        "
   ]
  },
  {
   "cell_type": "code",
   "execution_count": 24,
   "id": "e12e5dce-153c-46be-80b7-f29db173c474",
   "metadata": {},
   "outputs": [
    {
     "name": "stdin",
     "output_type": "stream",
     "text": [
      ">>  Hello\n"
     ]
    },
    {
     "name": "stdout",
     "output_type": "stream",
     "text": [
      "User: Hello\n",
      "Bot: Hey. You're on the floor. [*to hopper*] How are you? [*to Charlotte*] Hey. [_to Amarok, Kalahan, and Hopper_] What happened? [*charlotte doesn't say anything, just looks around at everyone*] Hi. How are..you? [*will follow*] Oh hey Hopper. How about you? Have a nice day? [*gives hopper a quick hug*] I'll be right back, if you need me. [*looks around*] [_will head to the other room_] It's a little late for this, but if you want to come with, I'm in the common room, the people who are in the building are also here. [ _to Hopper, Kalahashi_]...Hey, are you coming? [*shakes head*]  Oh, hi.  Oh hey, Charlotte.  Sorry, I haven't seen you in awhile.  [_she takes the commlink off the couch and sits on the couch, reading the book, just reading it._]  I can meet you there if you're ready.  How about yourself, uhm, at the library.  Yeah, I'll go.  I'll let you know when I'm ready. [*sighs_]  Hey, did you want anything, you want me to come over?  I have something to sit down, or do the other things?  You know where you guys are, I can always move there.  This isn't really up there, unless you want us in the room?  That's a few rooms I'll probably have a bit more space. \n",
      "I can go. [*charlow, if Hopper and see her_she says to the commlinks out, with a small, and turns around*steps off to the room, leaving, leaving the door and starts heading towards the other side of the common area.  \n",
      "[*] Okay, so he's still at the common space*] [*she follows, heading back, starts heading to the common rooms, to the door*]\n",
      "*] W-where he follows Hopper's probably, and knocks on the common areas*] She's gone.  You're still with her.*\n",
      "[_stops off the door, just before she follows_] Thanks for a quick.  There's also goes to the suite.*\n",
      "[_] [*chuckles\n"
     ]
    },
    {
     "name": "stdin",
     "output_type": "stream",
     "text": [
      ">>  /quit\n"
     ]
    }
   ],
   "source": [
    "chat(finetuned_model, tokenizer)"
   ]
  },
  {
   "cell_type": "code",
   "execution_count": 8,
   "id": "b5e68c67-fb17-4ef0-9d0b-757410419442",
   "metadata": {},
   "outputs": [],
   "source": [
    "text = \"[_as she talks she takes the book off the table and carefully tucks it away in her bag_]\""
   ]
  },
  {
   "cell_type": "code",
   "execution_count": 15,
   "id": "ed5607db-dee9-4003-8ced-905209d05fa5",
   "metadata": {
    "scrolled": true,
    "tags": []
   },
   "outputs": [
    {
     "data": {
      "text/plain": [
       "{'input_ids': [29795, 292, 673, 6130, 673, 2753, 262, 1492, 572, 262, 3084, 290, 7773, 256, 6238, 340, 1497, 287, 607, 6131, 62, 60, 50256, 50256, 50256, 50256, 50256, 50256, 50256, 50256, 50256, 50256, 50256, 50256, 50256, 50256, 50256, 50256, 50256, 50256, 50256, 50256, 50256, 50256, 50256, 50256, 50256, 50256, 50256, 50256, 50256, 50256, 50256, 50256, 50256, 50256, 50256, 50256, 50256, 50256, 50256, 50256, 50256, 50256, 50256, 50256, 50256, 50256, 50256, 50256, 50256, 50256, 50256, 50256, 50256, 50256, 50256, 50256, 50256, 50256, 50256, 50256, 50256, 50256, 50256, 50256, 50256, 50256, 50256, 50256, 50256, 50256, 50256, 50256, 50256, 50256, 50256, 50256, 50256, 50256, 50256, 50256, 50256, 50256, 50256, 50256, 50256, 50256, 50256, 50256, 50256, 50256, 50256, 50256, 50256, 50256, 50256, 50256, 50256, 50256, 50256, 50256, 50256, 50256, 50256, 50256, 50256, 50256, 50256, 50256, 50256, 50256, 50256, 50256, 50256, 50256, 50256, 50256, 50256, 50256, 50256, 50256, 50256, 50256, 50256, 50256, 50256, 50256, 50256, 50256, 50256, 50256, 50256, 50256, 50256, 50256, 50256, 50256, 50256, 50256, 50256, 50256, 50256, 50256, 50256, 50256, 50256, 50256, 50256, 50256, 50256, 50256, 50256, 50256, 50256, 50256, 50256, 50256, 50256, 50256, 50256, 50256, 50256, 50256, 50256, 50256, 50256, 50256, 50256, 50256, 50256, 50256, 50256, 50256, 50256, 50256, 50256, 50256, 50256, 50256, 50256, 50256, 50256, 50256, 50256, 50256, 50256, 50256, 50256, 50256, 50256, 50256, 50256, 50256, 50256, 50256, 50256, 50256, 50256, 50256, 50256, 50256, 50256, 50256, 50256, 50256, 50256, 50256, 50256, 50256, 50256, 50256, 50256, 50256, 50256, 50256, 50256, 50256, 50256, 50256, 50256, 50256, 50256, 50256, 50256, 50256, 50256, 50256, 50256, 50256, 50256, 50256, 50256, 50256, 50256, 50256, 50256, 50256, 50256, 50256, 50256, 50256, 50256, 50256, 50256, 50256, 50256, 50256, 50256, 50256, 50256, 50256, 50256, 50256, 50256, 50256, 50256, 50256, 50256, 50256, 50256, 50256, 50256, 50256, 50256, 50256, 50256, 50256, 50256, 50256, 50256, 50256, 50256, 50256, 50256, 50256, 50256, 50256, 50256, 50256, 50256, 50256, 50256, 50256, 50256, 50256, 50256, 50256, 50256, 50256, 50256, 50256, 50256, 50256, 50256, 50256, 50256, 50256, 50256, 50256, 50256, 50256, 50256, 50256, 50256, 50256, 50256, 50256, 50256, 50256, 50256, 50256, 50256, 50256, 50256, 50256, 50256, 50256, 50256, 50256, 50256, 50256, 50256, 50256, 50256, 50256, 50256, 50256, 50256, 50256, 50256, 50256, 50256, 50256, 50256, 50256, 50256, 50256, 50256, 50256, 50256, 50256, 50256, 50256, 50256, 50256, 50256, 50256, 50256, 50256, 50256, 50256, 50256, 50256, 50256, 50256, 50256, 50256, 50256, 50256, 50256, 50256, 50256, 50256, 50256, 50256, 50256, 50256, 50256, 50256, 50256, 50256, 50256, 50256, 50256, 50256, 50256, 50256, 50256, 50256, 50256, 50256, 50256, 50256, 50256, 50256, 50256, 50256, 50256, 50256, 50256, 50256, 50256, 50256, 50256, 50256, 50256, 50256, 50256, 50256, 50256, 50256, 50256, 50256, 50256, 50256, 50256, 50256, 50256, 50256, 50256, 50256, 50256, 50256, 50256, 50256, 50256, 50256, 50256, 50256, 50256, 50256, 50256, 50256, 50256, 50256, 50256, 50256, 50256, 50256, 50256, 50256, 50256, 50256, 50256, 50256, 50256, 50256, 50256, 50256, 50256, 50256, 50256, 50256, 50256, 50256, 50256, 50256, 50256, 50256, 50256, 50256, 50256, 50256, 50256, 50256, 50256, 50256, 50256, 50256, 50256, 50256, 50256, 50256, 50256, 50256, 50256, 50256, 50256, 50256, 50256, 50256, 50256, 50256, 50256, 50256, 50256, 50256, 50256, 50256, 50256, 50256, 50256, 50256, 50256, 50256, 50256, 50256, 50256, 50256, 50256, 50256], 'attention_mask': [1, 1, 1, 1, 1, 1, 1, 1, 1, 1, 1, 1, 1, 1, 1, 1, 1, 1, 1, 1, 1, 1, 0, 0, 0, 0, 0, 0, 0, 0, 0, 0, 0, 0, 0, 0, 0, 0, 0, 0, 0, 0, 0, 0, 0, 0, 0, 0, 0, 0, 0, 0, 0, 0, 0, 0, 0, 0, 0, 0, 0, 0, 0, 0, 0, 0, 0, 0, 0, 0, 0, 0, 0, 0, 0, 0, 0, 0, 0, 0, 0, 0, 0, 0, 0, 0, 0, 0, 0, 0, 0, 0, 0, 0, 0, 0, 0, 0, 0, 0, 0, 0, 0, 0, 0, 0, 0, 0, 0, 0, 0, 0, 0, 0, 0, 0, 0, 0, 0, 0, 0, 0, 0, 0, 0, 0, 0, 0, 0, 0, 0, 0, 0, 0, 0, 0, 0, 0, 0, 0, 0, 0, 0, 0, 0, 0, 0, 0, 0, 0, 0, 0, 0, 0, 0, 0, 0, 0, 0, 0, 0, 0, 0, 0, 0, 0, 0, 0, 0, 0, 0, 0, 0, 0, 0, 0, 0, 0, 0, 0, 0, 0, 0, 0, 0, 0, 0, 0, 0, 0, 0, 0, 0, 0, 0, 0, 0, 0, 0, 0, 0, 0, 0, 0, 0, 0, 0, 0, 0, 0, 0, 0, 0, 0, 0, 0, 0, 0, 0, 0, 0, 0, 0, 0, 0, 0, 0, 0, 0, 0, 0, 0, 0, 0, 0, 0, 0, 0, 0, 0, 0, 0, 0, 0, 0, 0, 0, 0, 0, 0, 0, 0, 0, 0, 0, 0, 0, 0, 0, 0, 0, 0, 0, 0, 0, 0, 0, 0, 0, 0, 0, 0, 0, 0, 0, 0, 0, 0, 0, 0, 0, 0, 0, 0, 0, 0, 0, 0, 0, 0, 0, 0, 0, 0, 0, 0, 0, 0, 0, 0, 0, 0, 0, 0, 0, 0, 0, 0, 0, 0, 0, 0, 0, 0, 0, 0, 0, 0, 0, 0, 0, 0, 0, 0, 0, 0, 0, 0, 0, 0, 0, 0, 0, 0, 0, 0, 0, 0, 0, 0, 0, 0, 0, 0, 0, 0, 0, 0, 0, 0, 0, 0, 0, 0, 0, 0, 0, 0, 0, 0, 0, 0, 0, 0, 0, 0, 0, 0, 0, 0, 0, 0, 0, 0, 0, 0, 0, 0, 0, 0, 0, 0, 0, 0, 0, 0, 0, 0, 0, 0, 0, 0, 0, 0, 0, 0, 0, 0, 0, 0, 0, 0, 0, 0, 0, 0, 0, 0, 0, 0, 0, 0, 0, 0, 0, 0, 0, 0, 0, 0, 0, 0, 0, 0, 0, 0, 0, 0, 0, 0, 0, 0, 0, 0, 0, 0, 0, 0, 0, 0, 0, 0, 0, 0, 0, 0, 0, 0, 0, 0, 0, 0, 0, 0, 0, 0, 0, 0, 0, 0, 0, 0, 0, 0, 0, 0, 0, 0, 0, 0, 0, 0, 0, 0, 0, 0, 0, 0, 0, 0, 0, 0, 0, 0, 0, 0, 0, 0, 0, 0, 0, 0, 0, 0, 0, 0, 0, 0, 0, 0, 0, 0, 0, 0, 0, 0, 0, 0, 0, 0, 0, 0]}"
      ]
     },
     "execution_count": 15,
     "metadata": {},
     "output_type": "execute_result"
    }
   ],
   "source": [
    "tokenizer.pad_token = \"<|pad|>\"\n",
    "tokenizer(text, padding=\"max_length\", max_length=512)"
   ]
  },
  {
   "cell_type": "code",
   "execution_count": 14,
   "id": "fdd9d1f4-4346-4110-ba65-535452423b2a",
   "metadata": {},
   "outputs": [
    {
     "ename": "AttributeError",
     "evalue": "'GPT2LMHeadModel' object has no attribute 'max_length'",
     "output_type": "error",
     "traceback": [
      "\u001b[0;31m---------------------------------------------------------------------------\u001b[0m",
      "\u001b[0;31mAttributeError\u001b[0m                            Traceback (most recent call last)",
      "Input \u001b[0;32mIn [14]\u001b[0m, in \u001b[0;36m<cell line: 1>\u001b[0;34m()\u001b[0m\n\u001b[0;32m----> 1\u001b[0m \u001b[43mfinetuned_model\u001b[49m\u001b[38;5;241;43m.\u001b[39;49m\u001b[43mmax_length\u001b[49m\n",
      "File \u001b[0;32m/opt/conda/lib/python3.9/site-packages/torch/nn/modules/module.py:1185\u001b[0m, in \u001b[0;36mModule.__getattr__\u001b[0;34m(self, name)\u001b[0m\n\u001b[1;32m   1183\u001b[0m     \u001b[38;5;28;01mif\u001b[39;00m name \u001b[38;5;129;01min\u001b[39;00m modules:\n\u001b[1;32m   1184\u001b[0m         \u001b[38;5;28;01mreturn\u001b[39;00m modules[name]\n\u001b[0;32m-> 1185\u001b[0m \u001b[38;5;28;01mraise\u001b[39;00m \u001b[38;5;167;01mAttributeError\u001b[39;00m(\u001b[38;5;124m\"\u001b[39m\u001b[38;5;124m'\u001b[39m\u001b[38;5;132;01m{}\u001b[39;00m\u001b[38;5;124m'\u001b[39m\u001b[38;5;124m object has no attribute \u001b[39m\u001b[38;5;124m'\u001b[39m\u001b[38;5;132;01m{}\u001b[39;00m\u001b[38;5;124m'\u001b[39m\u001b[38;5;124m\"\u001b[39m\u001b[38;5;241m.\u001b[39mformat(\n\u001b[1;32m   1186\u001b[0m     \u001b[38;5;28mtype\u001b[39m(\u001b[38;5;28mself\u001b[39m)\u001b[38;5;241m.\u001b[39m\u001b[38;5;18m__name__\u001b[39m, name))\n",
      "\u001b[0;31mAttributeError\u001b[0m: 'GPT2LMHeadModel' object has no attribute 'max_length'"
     ]
    }
   ],
   "source": [
    "finetuned_model.max_length"
   ]
  },
  {
   "cell_type": "code",
   "execution_count": null,
   "id": "fbfe9c9a-2d91-421e-b3ce-74cece0cf3ca",
   "metadata": {},
   "outputs": [],
   "source": []
  }
 ],
 "metadata": {
  "kernelspec": {
   "display_name": "Python 3 (ipykernel)",
   "language": "python",
   "name": "python3"
  },
  "language_info": {
   "codemirror_mode": {
    "name": "ipython",
    "version": 3
   },
   "file_extension": ".py",
   "mimetype": "text/x-python",
   "name": "python",
   "nbconvert_exporter": "python",
   "pygments_lexer": "ipython3",
   "version": "3.9.12"
  },
  "widgets": {
   "application/vnd.jupyter.widget-state+json": {
    "state": {
     "007ae5b39fbb4c148a57a633be172b8d": {
      "model_module": "@jupyter-widgets/base",
      "model_module_version": "1.2.0",
      "model_name": "LayoutModel",
      "state": {}
     },
     "00950f250ad648168eb2d17d5b0677e3": {
      "model_module": "@jupyter-widgets/base",
      "model_module_version": "1.2.0",
      "model_name": "LayoutModel",
      "state": {}
     },
     "016c20720c4941c594ea682f617a33c7": {
      "model_module": "@jupyter-widgets/base",
      "model_module_version": "1.2.0",
      "model_name": "LayoutModel",
      "state": {}
     },
     "01fd0b1dcc3d4d39a727e2a3ae333b52": {
      "model_module": "@jupyter-widgets/controls",
      "model_module_version": "1.5.0",
      "model_name": "HTMLModel",
      "state": {
       "layout": "IPY_MODEL_a72ee7ea446e42f99f23d01af502e74d",
       "style": "IPY_MODEL_54163952e69b4ee686a0f62b4a52270e",
       "value": "100%"
      }
     },
     "0234309a4fb848feb10e546776142dfa": {
      "model_module": "@jupyter-widgets/base",
      "model_module_version": "1.2.0",
      "model_name": "LayoutModel",
      "state": {}
     },
     "02b7020b78964f8bad11d903dd0ed7f4": {
      "model_module": "@jupyter-widgets/base",
      "model_module_version": "1.2.0",
      "model_name": "LayoutModel",
      "state": {}
     },
     "02f289a589c14d1188fae6c5225616b8": {
      "model_module": "@jupyter-widgets/controls",
      "model_module_version": "1.5.0",
      "model_name": "FloatProgressModel",
      "state": {
       "bar_style": "success",
       "layout": "IPY_MODEL_1b7b68c29081451297c4f75633db720c",
       "max": 552,
       "style": "IPY_MODEL_b147f36d89724b62a4f655003f791a74",
       "value": 552
      }
     },
     "0355fde1e4bc46009d7acc99cfa094f0": {
      "model_module": "@jupyter-widgets/controls",
      "model_module_version": "1.5.0",
      "model_name": "HTMLModel",
      "state": {
       "layout": "IPY_MODEL_12e68d6e8e26476c9bcb9b677a4573c8",
       "style": "IPY_MODEL_d9e99ba9532a424bbc39882f8f282182",
       "value": " 0/552 [00:00&lt;?, ?ex/s]"
      }
     },
     "03d092af9ac04744a2ae82ac415dabc3": {
      "model_module": "@jupyter-widgets/controls",
      "model_module_version": "1.5.0",
      "model_name": "FloatProgressModel",
      "state": {
       "bar_style": "danger",
       "layout": "IPY_MODEL_492021a94d324cf3ae900a958b781e06",
       "max": 4967,
       "style": "IPY_MODEL_1665abf65a6845deb9bf8db7110d4c37"
      }
     },
     "04fcc33085194e0793f4cfae70b860c9": {
      "model_module": "@jupyter-widgets/controls",
      "model_module_version": "1.5.0",
      "model_name": "DescriptionStyleModel",
      "state": {
       "description_width": ""
      }
     },
     "05638ffad13a4902a98a127034d565ca": {
      "model_module": "@jupyter-widgets/controls",
      "model_module_version": "1.5.0",
      "model_name": "HTMLModel",
      "state": {
       "layout": "IPY_MODEL_2210bb47da1341b6ac0deba143cb33be",
       "style": "IPY_MODEL_58c0f9bfad3d48fb89d8d96bf5018aaa",
       "value": " 552/552 [00:00&lt;00:00, 9622.12ex/s]"
      }
     },
     "057b1a4e50c848a5b59caae8ebd0245c": {
      "model_module": "@jupyter-widgets/base",
      "model_module_version": "1.2.0",
      "model_name": "LayoutModel",
      "state": {}
     },
     "058906402c494b7ca2850daa670618c2": {
      "model_module": "@jupyter-widgets/controls",
      "model_module_version": "1.5.0",
      "model_name": "DescriptionStyleModel",
      "state": {
       "description_width": ""
      }
     },
     "05e5d48b755941378cfac3e020d9355b": {
      "model_module": "@jupyter-widgets/base",
      "model_module_version": "1.2.0",
      "model_name": "LayoutModel",
      "state": {}
     },
     "0604cc0ae33e45d996da13f8a3f4f5da": {
      "model_module": "@jupyter-widgets/controls",
      "model_module_version": "1.5.0",
      "model_name": "HTMLModel",
      "state": {
       "layout": "IPY_MODEL_c7b1c324fc7f4b1d9184e8f56a796a9a",
       "style": "IPY_MODEL_ad950539bd894e4ab78edeb572adc79f",
       "value": "100%"
      }
     },
     "0625e366a7dd420a966f0ba583fc2209": {
      "model_module": "@jupyter-widgets/controls",
      "model_module_version": "1.5.0",
      "model_name": "HTMLModel",
      "state": {
       "layout": "IPY_MODEL_d5b25abbc0b642cb9a27d5c2ca6048d7",
       "style": "IPY_MODEL_c6ebc4f1c88b4d47923286a01bedc54e",
       "value": "100%"
      }
     },
     "0656a95f222c44b69f50ae7c14ad53bf": {
      "model_module": "@jupyter-widgets/controls",
      "model_module_version": "1.5.0",
      "model_name": "DescriptionStyleModel",
      "state": {
       "description_width": ""
      }
     },
     "0664bb8dc85042d1bef073909f4b7d80": {
      "model_module": "@jupyter-widgets/base",
      "model_module_version": "1.2.0",
      "model_name": "LayoutModel",
      "state": {}
     },
     "088292513c5d4057aa4fd4f5453a8265": {
      "model_module": "@jupyter-widgets/controls",
      "model_module_version": "1.5.0",
      "model_name": "HBoxModel",
      "state": {
       "children": [
        "IPY_MODEL_c00740dec00543dd9be1b527bc868019",
        "IPY_MODEL_f2b97ef9efbb4697b0bd4d9686a6ba9e",
        "IPY_MODEL_ce71b8e656a641bfb47d1caf8ca97f8a"
       ],
       "layout": "IPY_MODEL_ab7a64bdb38c4624a8505a13abfe415f"
      }
     },
     "09759dc53f494abd869a5bc461c7aa3b": {
      "model_module": "@jupyter-widgets/controls",
      "model_module_version": "1.5.0",
      "model_name": "FloatProgressModel",
      "state": {
       "bar_style": "success",
       "layout": "IPY_MODEL_d1661fbcd76d47f68dc2d9eb54242e4e",
       "max": 552,
       "style": "IPY_MODEL_fdb2a34944014c9792d49c496cbdbc3f",
       "value": 552
      }
     },
     "09a6c2a05ed346b4a37bcc8a6b317ace": {
      "model_module": "@jupyter-widgets/base",
      "model_module_version": "1.2.0",
      "model_name": "LayoutModel",
      "state": {}
     },
     "0b6a93bf10a3473b9b4920c186048b43": {
      "model_module": "@jupyter-widgets/controls",
      "model_module_version": "1.5.0",
      "model_name": "HTMLModel",
      "state": {
       "layout": "IPY_MODEL_3e08a84183ba4cbcb3f4f91b3789f1d2",
       "style": "IPY_MODEL_95965a87c5074380aca8e54ad44f950e",
       "value": "100%"
      }
     },
     "0ca92b3955a44eac81c255df7786863f": {
      "model_module": "@jupyter-widgets/controls",
      "model_module_version": "1.5.0",
      "model_name": "ProgressStyleModel",
      "state": {
       "description_width": ""
      }
     },
     "0f02cabcd99549a68b4cf396dc712b14": {
      "model_module": "@jupyter-widgets/base",
      "model_module_version": "1.2.0",
      "model_name": "LayoutModel",
      "state": {}
     },
     "0f8437812ff949c59f19d5b09f1091bb": {
      "model_module": "@jupyter-widgets/base",
      "model_module_version": "1.2.0",
      "model_name": "LayoutModel",
      "state": {}
     },
     "106029d401604080a070d69b1da68708": {
      "model_module": "@jupyter-widgets/base",
      "model_module_version": "1.2.0",
      "model_name": "LayoutModel",
      "state": {}
     },
     "10d8979e8ddd47749a24a8f22f5c14c0": {
      "model_module": "@jupyter-widgets/controls",
      "model_module_version": "1.5.0",
      "model_name": "HTMLModel",
      "state": {
       "layout": "IPY_MODEL_f010799bb1a14aefb22ad1674f814b32",
       "style": "IPY_MODEL_49adf643053b48d1b91e78ee2fcbf1fb",
       "value": "  0%"
      }
     },
     "10d98244256640f989cec71fe2a754c0": {
      "model_module": "@jupyter-widgets/controls",
      "model_module_version": "1.5.0",
      "model_name": "HTMLModel",
      "state": {
       "layout": "IPY_MODEL_0f8437812ff949c59f19d5b09f1091bb",
       "style": "IPY_MODEL_fc6fc96728034012bab32aeb7932452b",
       "value": "  0%"
      }
     },
     "1112b025af6141d2a67e7e0c57cad151": {
      "model_module": "@jupyter-widgets/controls",
      "model_module_version": "1.5.0",
      "model_name": "HBoxModel",
      "state": {
       "children": [
        "IPY_MODEL_72c1f9b9bd154907a98c002cce45e34a",
        "IPY_MODEL_a00b389029284273b5b2a8b1ec368b6d",
        "IPY_MODEL_1dcb14931dbf40bc8f0f654a125e9b6b"
       ],
       "layout": "IPY_MODEL_057b1a4e50c848a5b59caae8ebd0245c"
      }
     },
     "114a49fedbb240bfbcf72fbdba6d91eb": {
      "model_module": "@jupyter-widgets/controls",
      "model_module_version": "1.5.0",
      "model_name": "FloatProgressModel",
      "state": {
       "bar_style": "success",
       "layout": "IPY_MODEL_1d1d5654c77d4697be5455bf91f2d99a",
       "max": 552,
       "style": "IPY_MODEL_651d3bd007f14f04a39b9c95ea0db07e",
       "value": 552
      }
     },
     "11c0f973301a42898770ce55d41c509b": {
      "model_module": "@jupyter-widgets/base",
      "model_module_version": "1.2.0",
      "model_name": "LayoutModel",
      "state": {}
     },
     "12c509b3ca8140469cd1d00365917945": {
      "model_module": "@jupyter-widgets/base",
      "model_module_version": "1.2.0",
      "model_name": "LayoutModel",
      "state": {}
     },
     "12ce0edde2054e82b2f089dc7e0d120e": {
      "model_module": "@jupyter-widgets/base",
      "model_module_version": "1.2.0",
      "model_name": "LayoutModel",
      "state": {}
     },
     "12e4626dd95f49998e93ca6a4eb3284e": {
      "model_module": "@jupyter-widgets/base",
      "model_module_version": "1.2.0",
      "model_name": "LayoutModel",
      "state": {}
     },
     "12e68d6e8e26476c9bcb9b677a4573c8": {
      "model_module": "@jupyter-widgets/base",
      "model_module_version": "1.2.0",
      "model_name": "LayoutModel",
      "state": {}
     },
     "13af07ad39034e64b311bf3d8fde0636": {
      "model_module": "@jupyter-widgets/controls",
      "model_module_version": "1.5.0",
      "model_name": "HTMLModel",
      "state": {
       "layout": "IPY_MODEL_ef32c547f4d84c0eb0f0bde6c7cbdc13",
       "style": "IPY_MODEL_cf042e64328d4b4690d65c1e95884948",
       "value": " 0/552 [00:00&lt;?, ?ex/s]"
      }
     },
     "14703f4e6e8b40fb9a555f5a986eeb47": {
      "model_module": "@jupyter-widgets/controls",
      "model_module_version": "1.5.0",
      "model_name": "DescriptionStyleModel",
      "state": {
       "description_width": ""
      }
     },
     "149bd9585106470faad794bed0b094e4": {
      "model_module": "@jupyter-widgets/controls",
      "model_module_version": "1.5.0",
      "model_name": "DescriptionStyleModel",
      "state": {
       "description_width": ""
      }
     },
     "14da96a07b264321b1c0ccbff228230b": {
      "model_module": "@jupyter-widgets/controls",
      "model_module_version": "1.5.0",
      "model_name": "HTMLModel",
      "state": {
       "layout": "IPY_MODEL_9c5c20141b4140ef96ff3dbcceceeee9",
       "style": "IPY_MODEL_e974e85dcf2a4604972272a483d39b6d",
       "value": "100%"
      }
     },
     "1665abf65a6845deb9bf8db7110d4c37": {
      "model_module": "@jupyter-widgets/controls",
      "model_module_version": "1.5.0",
      "model_name": "ProgressStyleModel",
      "state": {
       "description_width": ""
      }
     },
     "17ad0ee02bdd4161aedc811ae779853b": {
      "model_module": "@jupyter-widgets/base",
      "model_module_version": "1.2.0",
      "model_name": "LayoutModel",
      "state": {}
     },
     "1932356c40f447219cd674d245b9a5c0": {
      "model_module": "@jupyter-widgets/controls",
      "model_module_version": "1.5.0",
      "model_name": "DescriptionStyleModel",
      "state": {
       "description_width": ""
      }
     },
     "1a3188e6112442f68cba47560942a25f": {
      "model_module": "@jupyter-widgets/controls",
      "model_module_version": "1.5.0",
      "model_name": "DescriptionStyleModel",
      "state": {
       "description_width": ""
      }
     },
     "1b32830818544301be5c53dc95c97b8f": {
      "model_module": "@jupyter-widgets/base",
      "model_module_version": "1.2.0",
      "model_name": "LayoutModel",
      "state": {}
     },
     "1b7b68c29081451297c4f75633db720c": {
      "model_module": "@jupyter-widgets/base",
      "model_module_version": "1.2.0",
      "model_name": "LayoutModel",
      "state": {}
     },
     "1be2c1a883ec484f8e564937f248ffe8": {
      "model_module": "@jupyter-widgets/controls",
      "model_module_version": "1.5.0",
      "model_name": "DescriptionStyleModel",
      "state": {
       "description_width": ""
      }
     },
     "1c528227513447b29d261d192992396e": {
      "model_module": "@jupyter-widgets/base",
      "model_module_version": "1.2.0",
      "model_name": "LayoutModel",
      "state": {}
     },
     "1d1d5654c77d4697be5455bf91f2d99a": {
      "model_module": "@jupyter-widgets/base",
      "model_module_version": "1.2.0",
      "model_name": "LayoutModel",
      "state": {}
     },
     "1dcb14931dbf40bc8f0f654a125e9b6b": {
      "model_module": "@jupyter-widgets/controls",
      "model_module_version": "1.5.0",
      "model_name": "HTMLModel",
      "state": {
       "layout": "IPY_MODEL_45d727b782ca4fc3ab9b60a1830d7a2b",
       "style": "IPY_MODEL_a8e56d1569984a3c9fbeeed5a2b28e53",
       "value": " 4967/4967 [00:04&lt;00:00, 1133.22ex/s]"
      }
     },
     "1fb47019f0d1431ca72c60e800f16409": {
      "model_module": "@jupyter-widgets/controls",
      "model_module_version": "1.5.0",
      "model_name": "HBoxModel",
      "state": {
       "children": [
        "IPY_MODEL_42c6b953e06744d5b2ed70bcb3472abd",
        "IPY_MODEL_02f289a589c14d1188fae6c5225616b8",
        "IPY_MODEL_b258ebf4e1aa41d198fe754038ea375c"
       ],
       "layout": "IPY_MODEL_3dde7315bd52407aa6a31919a1e2b0f6"
      }
     },
     "2045a9935b1347aa887509029209c22c": {
      "model_module": "@jupyter-widgets/controls",
      "model_module_version": "1.5.0",
      "model_name": "HBoxModel",
      "state": {
       "children": [
        "IPY_MODEL_4027224afa2941c8a771d95f3928cd98",
        "IPY_MODEL_55ca7d68fd884cf99e9d0c04fbaf7416",
        "IPY_MODEL_c2df4a35f98c495d869529c36c8f59aa"
       ],
       "layout": "IPY_MODEL_3d46bdb328c24aabadc3a95b206c2e44"
      }
     },
     "2100543d63554ad6bdf3515fb57272b4": {
      "model_module": "@jupyter-widgets/base",
      "model_module_version": "1.2.0",
      "model_name": "LayoutModel",
      "state": {}
     },
     "210c75b9c7994de98edf8c2abfa8aec9": {
      "model_module": "@jupyter-widgets/controls",
      "model_module_version": "1.5.0",
      "model_name": "ProgressStyleModel",
      "state": {
       "description_width": ""
      }
     },
     "21a6b595a45843ceb2c46d03a852f5bd": {
      "model_module": "@jupyter-widgets/base",
      "model_module_version": "1.2.0",
      "model_name": "LayoutModel",
      "state": {}
     },
     "21c3032b9cf04ac68a35058b471b6524": {
      "model_module": "@jupyter-widgets/base",
      "model_module_version": "1.2.0",
      "model_name": "LayoutModel",
      "state": {}
     },
     "2204d14a3de44f06b7ad4c88fa149cc6": {
      "model_module": "@jupyter-widgets/base",
      "model_module_version": "1.2.0",
      "model_name": "LayoutModel",
      "state": {}
     },
     "2210bb47da1341b6ac0deba143cb33be": {
      "model_module": "@jupyter-widgets/base",
      "model_module_version": "1.2.0",
      "model_name": "LayoutModel",
      "state": {}
     },
     "221b8f8e749a44e19a9cd9163ffee98b": {
      "model_module": "@jupyter-widgets/controls",
      "model_module_version": "1.5.0",
      "model_name": "HBoxModel",
      "state": {
       "children": [
        "IPY_MODEL_95d44c5ba4b94e1b921b6ea1f3408057",
        "IPY_MODEL_d69b75e07eb04b54b08477642deba148",
        "IPY_MODEL_2f913cc63f6742ef90814cbdff0c0243"
       ],
       "layout": "IPY_MODEL_2100543d63554ad6bdf3515fb57272b4"
      }
     },
     "240673c9efe4494f89d9c822361baf1d": {
      "model_module": "@jupyter-widgets/controls",
      "model_module_version": "1.5.0",
      "model_name": "FloatProgressModel",
      "state": {
       "bar_style": "success",
       "layout": "IPY_MODEL_33878a53491343a9af4e6e8d5d487528",
       "max": 552,
       "style": "IPY_MODEL_6843899b6f324ce9ba27b39bc82d20c0",
       "value": 552
      }
     },
     "26b5db5ba9984d80ba2fec33eba058fb": {
      "model_module": "@jupyter-widgets/controls",
      "model_module_version": "1.5.0",
      "model_name": "DescriptionStyleModel",
      "state": {
       "description_width": ""
      }
     },
     "26caec9a0e384d91a3eab9294cd34aff": {
      "model_module": "@jupyter-widgets/controls",
      "model_module_version": "1.5.0",
      "model_name": "DescriptionStyleModel",
      "state": {
       "description_width": ""
      }
     },
     "27bca28a3eb4481d95ca032906851b7c": {
      "model_module": "@jupyter-widgets/base",
      "model_module_version": "1.2.0",
      "model_name": "LayoutModel",
      "state": {}
     },
     "286f7c3dbaf2441796e8220a3e87337e": {
      "model_module": "@jupyter-widgets/controls",
      "model_module_version": "1.5.0",
      "model_name": "HTMLModel",
      "state": {
       "layout": "IPY_MODEL_61efe62a072946c39e922c7a9d1c085d",
       "style": "IPY_MODEL_c2c0e383727941d38080ac9919b75ae9",
       "value": " 0/4967 [00:00&lt;?, ?ex/s]"
      }
     },
     "29d03dc8ea3145bda0c7290ad396ad43": {
      "model_module": "@jupyter-widgets/controls",
      "model_module_version": "1.5.0",
      "model_name": "HBoxModel",
      "state": {
       "children": [
        "IPY_MODEL_dcf969d66007445b9127a231ce40072c",
        "IPY_MODEL_03d092af9ac04744a2ae82ac415dabc3",
        "IPY_MODEL_286f7c3dbaf2441796e8220a3e87337e"
       ],
       "layout": "IPY_MODEL_b48b87d3c903402ea5339e918585ce6c"
      }
     },
     "2bee958eea464b98be8af1996b6068dd": {
      "model_module": "@jupyter-widgets/controls",
      "model_module_version": "1.5.0",
      "model_name": "HBoxModel",
      "state": {
       "children": [
        "IPY_MODEL_342844f697b64339aa428ac5ba48b0ba",
        "IPY_MODEL_2cb73f46e4944e649112d03af2d84fc0",
        "IPY_MODEL_4a232333a4d44261b97e6d254845a2aa"
       ],
       "layout": "IPY_MODEL_02b7020b78964f8bad11d903dd0ed7f4"
      }
     },
     "2c525b73fe7e48e594b55187f100b243": {
      "model_module": "@jupyter-widgets/controls",
      "model_module_version": "1.5.0",
      "model_name": "DescriptionStyleModel",
      "state": {
       "description_width": ""
      }
     },
     "2cb73f46e4944e649112d03af2d84fc0": {
      "model_module": "@jupyter-widgets/controls",
      "model_module_version": "1.5.0",
      "model_name": "FloatProgressModel",
      "state": {
       "bar_style": "success",
       "layout": "IPY_MODEL_e63d39e689444851804c197ad64d4a29",
       "max": 552,
       "style": "IPY_MODEL_410a8022e16a419882de29ec78c3832d",
       "value": 552
      }
     },
     "2d9b4496906544068887bd4638efe580": {
      "model_module": "@jupyter-widgets/controls",
      "model_module_version": "1.5.0",
      "model_name": "HTMLModel",
      "state": {
       "layout": "IPY_MODEL_1c528227513447b29d261d192992396e",
       "style": "IPY_MODEL_26b5db5ba9984d80ba2fec33eba058fb",
       "value": " 552/552 [00:17&lt;00:00, 30.22ex/s]"
      }
     },
     "2e6783ee99704f5f89cb7bc47a9639e2": {
      "model_module": "@jupyter-widgets/base",
      "model_module_version": "1.2.0",
      "model_name": "LayoutModel",
      "state": {}
     },
     "2eadfa47d0664b8e866cdcadbaa3872c": {
      "model_module": "@jupyter-widgets/base",
      "model_module_version": "1.2.0",
      "model_name": "LayoutModel",
      "state": {}
     },
     "2ef2020e2ea245d5aa49fd53b737bfa3": {
      "model_module": "@jupyter-widgets/base",
      "model_module_version": "1.2.0",
      "model_name": "LayoutModel",
      "state": {}
     },
     "2f8a3d64710a45b88c016aa3be340cc7": {
      "model_module": "@jupyter-widgets/controls",
      "model_module_version": "1.5.0",
      "model_name": "HTMLModel",
      "state": {
       "layout": "IPY_MODEL_926e7051e3454787854a103f05b0df1b",
       "style": "IPY_MODEL_d91cc7114b2043bd8b1ea2008f85eed5",
       "value": " 552/552 [00:00&lt;00:00, 9256.47ex/s]"
      }
     },
     "2f913cc63f6742ef90814cbdff0c0243": {
      "model_module": "@jupyter-widgets/controls",
      "model_module_version": "1.5.0",
      "model_name": "HTMLModel",
      "state": {
       "layout": "IPY_MODEL_8cf075ec7c634df4ac5b77a36f727666",
       "style": "IPY_MODEL_6b0754b23bb64e908c19433429d5ea4d",
       "value": " 0/552 [00:00&lt;?, ?ex/s]"
      }
     },
     "2fa622e413094afda22bff9cc3291ef7": {
      "model_module": "@jupyter-widgets/controls",
      "model_module_version": "1.5.0",
      "model_name": "FloatProgressModel",
      "state": {
       "bar_style": "success",
       "layout": "IPY_MODEL_6719e0586e6d4eb1bce30a30fa5cfe1d",
       "max": 4967,
       "style": "IPY_MODEL_dd74736ba24444879fa2219269d67153",
       "value": 4967
      }
     },
     "30b567c4de1b4ff2ba63aa1bdfcedadd": {
      "model_module": "@jupyter-widgets/controls",
      "model_module_version": "1.5.0",
      "model_name": "FloatProgressModel",
      "state": {
       "bar_style": "success",
       "layout": "IPY_MODEL_c292a88f862f4b1f822d7015f1caa20a",
       "max": 4967,
       "style": "IPY_MODEL_0ca92b3955a44eac81c255df7786863f",
       "value": 4967
      }
     },
     "30c98d470f7646378ce0d22a228ad90b": {
      "model_module": "@jupyter-widgets/controls",
      "model_module_version": "1.5.0",
      "model_name": "ProgressStyleModel",
      "state": {
       "description_width": ""
      }
     },
     "3228829e4922471b8e71698425a2b793": {
      "model_module": "@jupyter-widgets/controls",
      "model_module_version": "1.5.0",
      "model_name": "HBoxModel",
      "state": {
       "children": [
        "IPY_MODEL_61060052ee4149c3ab1aabcc0425b575",
        "IPY_MODEL_d61b3119d8f54143a1a7c5fecda9b5f9",
        "IPY_MODEL_13af07ad39034e64b311bf3d8fde0636"
       ],
       "layout": "IPY_MODEL_c0384a5af40c4d038432a9f331bfa55c"
      }
     },
     "325c888ed1854100a7c498ada715fd43": {
      "model_module": "@jupyter-widgets/base",
      "model_module_version": "1.2.0",
      "model_name": "LayoutModel",
      "state": {}
     },
     "33620e8055bd42389988cc44aa160795": {
      "model_module": "@jupyter-widgets/controls",
      "model_module_version": "1.5.0",
      "model_name": "DescriptionStyleModel",
      "state": {
       "description_width": ""
      }
     },
     "33825b1a66784a9aa1698129010146f1": {
      "model_module": "@jupyter-widgets/base",
      "model_module_version": "1.2.0",
      "model_name": "LayoutModel",
      "state": {}
     },
     "33878a53491343a9af4e6e8d5d487528": {
      "model_module": "@jupyter-widgets/base",
      "model_module_version": "1.2.0",
      "model_name": "LayoutModel",
      "state": {}
     },
     "342844f697b64339aa428ac5ba48b0ba": {
      "model_module": "@jupyter-widgets/controls",
      "model_module_version": "1.5.0",
      "model_name": "HTMLModel",
      "state": {
       "layout": "IPY_MODEL_e4b359473c974a799fd53c418fef11bb",
       "style": "IPY_MODEL_c8ae6670f72a4d5e99e0c3eb7d7aa971",
       "value": "100%"
      }
     },
     "34532b5b6f2941b39013a8d539eebc04": {
      "model_module": "@jupyter-widgets/controls",
      "model_module_version": "1.5.0",
      "model_name": "ProgressStyleModel",
      "state": {
       "description_width": ""
      }
     },
     "34d2413254d64927881380fcdfb6c415": {
      "model_module": "@jupyter-widgets/controls",
      "model_module_version": "1.5.0",
      "model_name": "HBoxModel",
      "state": {
       "children": [
        "IPY_MODEL_0604cc0ae33e45d996da13f8a3f4f5da",
        "IPY_MODEL_90a0b3cec3e949f8bcda359548fdbb3a",
        "IPY_MODEL_b172412a5d784d1f9820b3f06025ed1f"
       ],
       "layout": "IPY_MODEL_db39b2396e7941d3bafa0dd7a4979fec"
      }
     },
     "364cf41fea054d7f9d7c3fd895fca4d1": {
      "model_module": "@jupyter-widgets/controls",
      "model_module_version": "1.5.0",
      "model_name": "FloatProgressModel",
      "state": {
       "bar_style": "success",
       "layout": "IPY_MODEL_7e11a27152e24a0b87cd83a0365d8649",
       "max": 552,
       "style": "IPY_MODEL_d03a3145459f47048705cf6b6a496343",
       "value": 552
      }
     },
     "367c5b8c2fe347479eac8cb34529b527": {
      "model_module": "@jupyter-widgets/controls",
      "model_module_version": "1.5.0",
      "model_name": "HTMLModel",
      "state": {
       "layout": "IPY_MODEL_4f48eee929324202ab9602eaa82ed0bb",
       "style": "IPY_MODEL_3b38845aa4b94673a6cbc2c067a130fa",
       "value": " 0/552 [00:00&lt;?, ?ex/s]"
      }
     },
     "36a6de3b9b234462a4b4cf33bac03284": {
      "model_module": "@jupyter-widgets/controls",
      "model_module_version": "1.5.0",
      "model_name": "FloatProgressModel",
      "state": {
       "bar_style": "danger",
       "layout": "IPY_MODEL_9e91806fb8a6436bbe2247149f05a868",
       "max": 552,
       "style": "IPY_MODEL_48aad0e7d1bb4e39821724d135a411ae"
      }
     },
     "36a933489b054d3392e6f36f4963e7a4": {
      "model_module": "@jupyter-widgets/base",
      "model_module_version": "1.2.0",
      "model_name": "LayoutModel",
      "state": {}
     },
     "374517067fe944c29b82bd31e2fe96f7": {
      "model_module": "@jupyter-widgets/base",
      "model_module_version": "1.2.0",
      "model_name": "LayoutModel",
      "state": {}
     },
     "3870e8398fcf472099d8532afc416f6c": {
      "model_module": "@jupyter-widgets/controls",
      "model_module_version": "1.5.0",
      "model_name": "DescriptionStyleModel",
      "state": {
       "description_width": ""
      }
     },
     "38ceed2f2afe40b9b50de86b0f6fc3be": {
      "model_module": "@jupyter-widgets/base",
      "model_module_version": "1.2.0",
      "model_name": "LayoutModel",
      "state": {}
     },
     "39dd4f91c860486295ef293269fb80e8": {
      "model_module": "@jupyter-widgets/controls",
      "model_module_version": "1.5.0",
      "model_name": "HBoxModel",
      "state": {
       "children": [
        "IPY_MODEL_14da96a07b264321b1c0ccbff228230b",
        "IPY_MODEL_240673c9efe4494f89d9c822361baf1d",
        "IPY_MODEL_9b93af20989f4e5d8d2003c9fae8bc32"
       ],
       "layout": "IPY_MODEL_c8cdc47a193a480e98edc5b56b8bb689"
      }
     },
     "3a05440cb4584470a6dd422fb8a87d8a": {
      "model_module": "@jupyter-widgets/base",
      "model_module_version": "1.2.0",
      "model_name": "LayoutModel",
      "state": {}
     },
     "3b38845aa4b94673a6cbc2c067a130fa": {
      "model_module": "@jupyter-widgets/controls",
      "model_module_version": "1.5.0",
      "model_name": "DescriptionStyleModel",
      "state": {
       "description_width": ""
      }
     },
     "3b6c8bdcc3e84d5fab48c3571abf8cf1": {
      "model_module": "@jupyter-widgets/base",
      "model_module_version": "1.2.0",
      "model_name": "LayoutModel",
      "state": {}
     },
     "3c54dec50b4b47758777a894c8f9f198": {
      "model_module": "@jupyter-widgets/controls",
      "model_module_version": "1.5.0",
      "model_name": "DescriptionStyleModel",
      "state": {
       "description_width": ""
      }
     },
     "3ce019297d4f40f7be0dc7bbf624be11": {
      "model_module": "@jupyter-widgets/base",
      "model_module_version": "1.2.0",
      "model_name": "LayoutModel",
      "state": {}
     },
     "3d46bdb328c24aabadc3a95b206c2e44": {
      "model_module": "@jupyter-widgets/base",
      "model_module_version": "1.2.0",
      "model_name": "LayoutModel",
      "state": {}
     },
     "3d7e6a7e738c444c92a7f710c89afc08": {
      "model_module": "@jupyter-widgets/controls",
      "model_module_version": "1.5.0",
      "model_name": "DescriptionStyleModel",
      "state": {
       "description_width": ""
      }
     },
     "3dd2cc38fd514ebeb2704c05a8138f9c": {
      "model_module": "@jupyter-widgets/base",
      "model_module_version": "1.2.0",
      "model_name": "LayoutModel",
      "state": {}
     },
     "3dde7315bd52407aa6a31919a1e2b0f6": {
      "model_module": "@jupyter-widgets/base",
      "model_module_version": "1.2.0",
      "model_name": "LayoutModel",
      "state": {}
     },
     "3de7d860076e4bff97f1b2247a06f65a": {
      "model_module": "@jupyter-widgets/controls",
      "model_module_version": "1.5.0",
      "model_name": "ProgressStyleModel",
      "state": {
       "description_width": ""
      }
     },
     "3e073d5d391647e9ab0367a44d7efb0b": {
      "model_module": "@jupyter-widgets/controls",
      "model_module_version": "1.5.0",
      "model_name": "ProgressStyleModel",
      "state": {
       "description_width": ""
      }
     },
     "3e08a84183ba4cbcb3f4f91b3789f1d2": {
      "model_module": "@jupyter-widgets/base",
      "model_module_version": "1.2.0",
      "model_name": "LayoutModel",
      "state": {}
     },
     "4027224afa2941c8a771d95f3928cd98": {
      "model_module": "@jupyter-widgets/controls",
      "model_module_version": "1.5.0",
      "model_name": "HTMLModel",
      "state": {
       "layout": "IPY_MODEL_787c6736d7f94a02ab8346cbf9d21a3c",
       "style": "IPY_MODEL_7581708d72084a6f9f6605d0798c07eb",
       "value": "100%"
      }
     },
     "410a8022e16a419882de29ec78c3832d": {
      "model_module": "@jupyter-widgets/controls",
      "model_module_version": "1.5.0",
      "model_name": "ProgressStyleModel",
      "state": {
       "description_width": ""
      }
     },
     "41eecb1e0d6e44099ee35f0bf59ea635": {
      "model_module": "@jupyter-widgets/controls",
      "model_module_version": "1.5.0",
      "model_name": "FloatProgressModel",
      "state": {
       "bar_style": "danger",
       "layout": "IPY_MODEL_cc2cec3aedcd4c7c9f14b0f539154952",
       "max": 4967,
       "style": "IPY_MODEL_210c75b9c7994de98edf8c2abfa8aec9"
      }
     },
     "42c6b953e06744d5b2ed70bcb3472abd": {
      "model_module": "@jupyter-widgets/controls",
      "model_module_version": "1.5.0",
      "model_name": "HTMLModel",
      "state": {
       "layout": "IPY_MODEL_a4b684ef244747d3be2b2b0fef872935",
       "style": "IPY_MODEL_14703f4e6e8b40fb9a555f5a986eeb47",
       "value": "100%"
      }
     },
     "42d743146f83477cb9036871082b21c7": {
      "model_module": "@jupyter-widgets/controls",
      "model_module_version": "1.5.0",
      "model_name": "HBoxModel",
      "state": {
       "children": [
        "IPY_MODEL_9ed98b9305c84590afbf895d1f003868",
        "IPY_MODEL_b7dbd64b2813458583c282e9ca3eec25",
        "IPY_MODEL_2d9b4496906544068887bd4638efe580"
       ],
       "layout": "IPY_MODEL_c87deeb6758743d4b3bc5d4e27ef85f8"
      }
     },
     "430db83411474bc0b2202bc8188ca4f3": {
      "model_module": "@jupyter-widgets/controls",
      "model_module_version": "1.5.0",
      "model_name": "DescriptionStyleModel",
      "state": {
       "description_width": ""
      }
     },
     "4311711d8cc147df9c12e158b0a26ea9": {
      "model_module": "@jupyter-widgets/controls",
      "model_module_version": "1.5.0",
      "model_name": "FloatProgressModel",
      "state": {
       "bar_style": "danger",
       "layout": "IPY_MODEL_ac39c5016148420c82173c2b260cb197",
       "max": 552,
       "style": "IPY_MODEL_30c98d470f7646378ce0d22a228ad90b"
      }
     },
     "435b38b5d03640e4b539657a1b1807e5": {
      "model_module": "@jupyter-widgets/controls",
      "model_module_version": "1.5.0",
      "model_name": "DescriptionStyleModel",
      "state": {
       "description_width": ""
      }
     },
     "43635bf4cf5845e7a3da8f1c94e858d8": {
      "model_module": "@jupyter-widgets/controls",
      "model_module_version": "1.5.0",
      "model_name": "HTMLModel",
      "state": {
       "layout": "IPY_MODEL_27bca28a3eb4481d95ca032906851b7c",
       "style": "IPY_MODEL_684095e9f31d48a1bb840ef283c8366d",
       "value": "  0%"
      }
     },
     "43b05e8b255d4a5aa592560bffe06af2": {
      "model_module": "@jupyter-widgets/base",
      "model_module_version": "1.2.0",
      "model_name": "LayoutModel",
      "state": {}
     },
     "43f3a1bc357f4cb4aef678d809c3bc8a": {
      "model_module": "@jupyter-widgets/controls",
      "model_module_version": "1.5.0",
      "model_name": "HTMLModel",
      "state": {
       "layout": "IPY_MODEL_3ce019297d4f40f7be0dc7bbf624be11",
       "style": "IPY_MODEL_6088d6c3c50f455193819dae7600a012",
       "value": " 0/552 [00:00&lt;?, ?ex/s]"
      }
     },
     "45d727b782ca4fc3ab9b60a1830d7a2b": {
      "model_module": "@jupyter-widgets/base",
      "model_module_version": "1.2.0",
      "model_name": "LayoutModel",
      "state": {}
     },
     "478fc6fbe34746a1957e0eada515d105": {
      "model_module": "@jupyter-widgets/controls",
      "model_module_version": "1.5.0",
      "model_name": "HTMLModel",
      "state": {
       "layout": "IPY_MODEL_2204d14a3de44f06b7ad4c88fa149cc6",
       "style": "IPY_MODEL_8891fcee29c54e008660283f326e0843",
       "value": " 0/4967 [00:00&lt;?, ?ex/s]"
      }
     },
     "48aad0e7d1bb4e39821724d135a411ae": {
      "model_module": "@jupyter-widgets/controls",
      "model_module_version": "1.5.0",
      "model_name": "ProgressStyleModel",
      "state": {
       "description_width": ""
      }
     },
     "492021a94d324cf3ae900a958b781e06": {
      "model_module": "@jupyter-widgets/base",
      "model_module_version": "1.2.0",
      "model_name": "LayoutModel",
      "state": {}
     },
     "49adf643053b48d1b91e78ee2fcbf1fb": {
      "model_module": "@jupyter-widgets/controls",
      "model_module_version": "1.5.0",
      "model_name": "DescriptionStyleModel",
      "state": {
       "description_width": ""
      }
     },
     "49ce8b5c7d5d4e6b80dbcf7d0299492f": {
      "model_module": "@jupyter-widgets/controls",
      "model_module_version": "1.5.0",
      "model_name": "HTMLModel",
      "state": {
       "layout": "IPY_MODEL_36a933489b054d3392e6f36f4963e7a4",
       "style": "IPY_MODEL_61db92c7fdff4a3fad58bc8eb4d853e0",
       "value": "100%"
      }
     },
     "49df95e9b58643b599d0cbc6dbe22e77": {
      "model_module": "@jupyter-widgets/base",
      "model_module_version": "1.2.0",
      "model_name": "LayoutModel",
      "state": {}
     },
     "4a232333a4d44261b97e6d254845a2aa": {
      "model_module": "@jupyter-widgets/controls",
      "model_module_version": "1.5.0",
      "model_name": "HTMLModel",
      "state": {
       "layout": "IPY_MODEL_744fb48e87bd4036b58429c8b288ce7e",
       "style": "IPY_MODEL_ed20dd7902bd4c92bbe25b64a74dab1d",
       "value": " 552/552 [00:18&lt;00:00, 31.14ex/s]"
      }
     },
     "4ad508c0cc484565902ecf77e0c0093f": {
      "model_module": "@jupyter-widgets/controls",
      "model_module_version": "1.5.0",
      "model_name": "DescriptionStyleModel",
      "state": {
       "description_width": ""
      }
     },
     "4b745261cbc3471e914df6af7ecbef5b": {
      "model_module": "@jupyter-widgets/controls",
      "model_module_version": "1.5.0",
      "model_name": "FloatProgressModel",
      "state": {
       "bar_style": "danger",
       "layout": "IPY_MODEL_c60cae6d04494d48997b5dcd77a68c36",
       "max": 4967,
       "style": "IPY_MODEL_7d5bfeac830b4627b492f3f82517fcdd"
      }
     },
     "4bab5d0dcecc4c92baecd32b7aab066b": {
      "model_module": "@jupyter-widgets/controls",
      "model_module_version": "1.5.0",
      "model_name": "DescriptionStyleModel",
      "state": {
       "description_width": ""
      }
     },
     "4c601666afa34050873761d8041f40a0": {
      "model_module": "@jupyter-widgets/controls",
      "model_module_version": "1.5.0",
      "model_name": "HTMLModel",
      "state": {
       "layout": "IPY_MODEL_e02bbb332c4b4865b24f64b6d9a72f93",
       "style": "IPY_MODEL_ce046a3d8efb48e6bcb0dc05c48a3539",
       "value": " 0/4967 [00:00&lt;?, ?ex/s]"
      }
     },
     "4d4c4d2aedf74c09afaa215bf0d743d1": {
      "model_module": "@jupyter-widgets/controls",
      "model_module_version": "1.5.0",
      "model_name": "HTMLModel",
      "state": {
       "layout": "IPY_MODEL_e3ff15c0ee434f79a50a25f496d95b50",
       "style": "IPY_MODEL_636e6f31d8f74b3fbab4a71829d399f3",
       "value": " 0/1 [00:00&lt;?, ?ba/s]"
      }
     },
     "4d727c2834dc49438b95ffaf203f7ba5": {
      "model_module": "@jupyter-widgets/base",
      "model_module_version": "1.2.0",
      "model_name": "LayoutModel",
      "state": {}
     },
     "4db9de58a191421183fc117690be6aa6": {
      "model_module": "@jupyter-widgets/controls",
      "model_module_version": "1.5.0",
      "model_name": "HTMLModel",
      "state": {
       "layout": "IPY_MODEL_d736bf1c75e74992879ee8277cbb8120",
       "style": "IPY_MODEL_6b2885b744794d3280c2f7f4d1c6190c",
       "value": " 4967/4967 [00:00&lt;00:00, 11305.15ex/s]"
      }
     },
     "4e1aa2958cd84f68b7b115c3becc23dd": {
      "model_module": "@jupyter-widgets/controls",
      "model_module_version": "1.5.0",
      "model_name": "ProgressStyleModel",
      "state": {
       "description_width": ""
      }
     },
     "4eec664b4a364a3fb80c11c2345f4d4c": {
      "model_module": "@jupyter-widgets/controls",
      "model_module_version": "1.5.0",
      "model_name": "HTMLModel",
      "state": {
       "layout": "IPY_MODEL_c056b928a04a43fd909e99c0c9e53646",
       "style": "IPY_MODEL_435b38b5d03640e4b539657a1b1807e5",
       "value": " 0/552 [00:00&lt;?, ?ex/s]"
      }
     },
     "4f48eee929324202ab9602eaa82ed0bb": {
      "model_module": "@jupyter-widgets/base",
      "model_module_version": "1.2.0",
      "model_name": "LayoutModel",
      "state": {}
     },
     "503b047e1d8b4241b0a2c9582586e43a": {
      "model_module": "@jupyter-widgets/controls",
      "model_module_version": "1.5.0",
      "model_name": "HBoxModel",
      "state": {
       "children": [
        "IPY_MODEL_49ce8b5c7d5d4e6b80dbcf7d0299492f",
        "IPY_MODEL_571f32cb9b3046bb9def84efac04c4cf",
        "IPY_MODEL_e2542f3ee4f54d6e8b01b28107d7b57b"
       ],
       "layout": "IPY_MODEL_05e5d48b755941378cfac3e020d9355b"
      }
     },
     "511b98dde9ab4e9fbebf76c6ad067d08": {
      "model_module": "@jupyter-widgets/controls",
      "model_module_version": "1.5.0",
      "model_name": "ProgressStyleModel",
      "state": {
       "description_width": ""
      }
     },
     "514c41753f6944f3ae55cecd4e673f29": {
      "model_module": "@jupyter-widgets/base",
      "model_module_version": "1.2.0",
      "model_name": "LayoutModel",
      "state": {}
     },
     "5220b1a84b674ac5bda2bbadfb852606": {
      "model_module": "@jupyter-widgets/base",
      "model_module_version": "1.2.0",
      "model_name": "LayoutModel",
      "state": {}
     },
     "524d531ca0aa4d08a5606488b3cfa2ee": {
      "model_module": "@jupyter-widgets/controls",
      "model_module_version": "1.5.0",
      "model_name": "DescriptionStyleModel",
      "state": {
       "description_width": ""
      }
     },
     "5369c88f4127456e85bf6402e9484249": {
      "model_module": "@jupyter-widgets/controls",
      "model_module_version": "1.5.0",
      "model_name": "HTMLModel",
      "state": {
       "layout": "IPY_MODEL_38ceed2f2afe40b9b50de86b0f6fc3be",
       "style": "IPY_MODEL_f903b2876bd1469d93542f5920982504",
       "value": "100%"
      }
     },
     "53c78a2ae86a4bb8a524ab8df1c3fd1a": {
      "model_module": "@jupyter-widgets/controls",
      "model_module_version": "1.5.0",
      "model_name": "HTMLModel",
      "state": {
       "layout": "IPY_MODEL_64cbee3f88c745bbabf19794649504f2",
       "style": "IPY_MODEL_fb783b55dbd24361a8e9438f204f6ca0",
       "value": " 0/552 [00:00&lt;?, ?ex/s]"
      }
     },
     "53c9029b4eb844a69d5ca016016fcaf1": {
      "model_module": "@jupyter-widgets/controls",
      "model_module_version": "1.5.0",
      "model_name": "DescriptionStyleModel",
      "state": {
       "description_width": ""
      }
     },
     "53e5db16896640c8b042e2cb85ed61cc": {
      "model_module": "@jupyter-widgets/base",
      "model_module_version": "1.2.0",
      "model_name": "LayoutModel",
      "state": {}
     },
     "54163952e69b4ee686a0f62b4a52270e": {
      "model_module": "@jupyter-widgets/controls",
      "model_module_version": "1.5.0",
      "model_name": "DescriptionStyleModel",
      "state": {
       "description_width": ""
      }
     },
     "54b47703459a4f4e87931d68bec4f89f": {
      "model_module": "@jupyter-widgets/base",
      "model_module_version": "1.2.0",
      "model_name": "LayoutModel",
      "state": {}
     },
     "54c4afa59ba74027a93a5a48c7798fcc": {
      "model_module": "@jupyter-widgets/controls",
      "model_module_version": "1.5.0",
      "model_name": "DescriptionStyleModel",
      "state": {
       "description_width": ""
      }
     },
     "5555bf86b6514f949ff1bfcfee8e94e0": {
      "model_module": "@jupyter-widgets/base",
      "model_module_version": "1.2.0",
      "model_name": "LayoutModel",
      "state": {}
     },
     "55ca7d68fd884cf99e9d0c04fbaf7416": {
      "model_module": "@jupyter-widgets/controls",
      "model_module_version": "1.5.0",
      "model_name": "FloatProgressModel",
      "state": {
       "bar_style": "success",
       "layout": "IPY_MODEL_fb957025e292447bbcfadb4c7ee7eccd",
       "max": 552,
       "style": "IPY_MODEL_c1a0633dbc80455697ad75baf1bf088c",
       "value": 552
      }
     },
     "55f32e6f84e34ac3a75f1fd9fe3a079e": {
      "model_module": "@jupyter-widgets/base",
      "model_module_version": "1.2.0",
      "model_name": "LayoutModel",
      "state": {}
     },
     "5637068dde814842a245fdecea3416e0": {
      "model_module": "@jupyter-widgets/controls",
      "model_module_version": "1.5.0",
      "model_name": "DescriptionStyleModel",
      "state": {
       "description_width": ""
      }
     },
     "56ca47682b9143c98bd265f9972c0820": {
      "model_module": "@jupyter-widgets/controls",
      "model_module_version": "1.5.0",
      "model_name": "DescriptionStyleModel",
      "state": {
       "description_width": ""
      }
     },
     "571f32cb9b3046bb9def84efac04c4cf": {
      "model_module": "@jupyter-widgets/controls",
      "model_module_version": "1.5.0",
      "model_name": "FloatProgressModel",
      "state": {
       "bar_style": "success",
       "layout": "IPY_MODEL_2ef2020e2ea245d5aa49fd53b737bfa3",
       "max": 552,
       "style": "IPY_MODEL_3de7d860076e4bff97f1b2247a06f65a",
       "value": 552
      }
     },
     "5889bc88c29e4b9cbcf5cab989b34c14": {
      "model_module": "@jupyter-widgets/base",
      "model_module_version": "1.2.0",
      "model_name": "LayoutModel",
      "state": {}
     },
     "58a624d332dc4a2e8cb896ddccf8a95c": {
      "model_module": "@jupyter-widgets/controls",
      "model_module_version": "1.5.0",
      "model_name": "FloatProgressModel",
      "state": {
       "bar_style": "success",
       "layout": "IPY_MODEL_00950f250ad648168eb2d17d5b0677e3",
       "max": 4967,
       "style": "IPY_MODEL_7ad201cd43d443b68fc831a5ac2118aa",
       "value": 4967
      }
     },
     "58c0f9bfad3d48fb89d8d96bf5018aaa": {
      "model_module": "@jupyter-widgets/controls",
      "model_module_version": "1.5.0",
      "model_name": "DescriptionStyleModel",
      "state": {
       "description_width": ""
      }
     },
     "5a58c201a2e841c5bdc6d18d5b248cf4": {
      "model_module": "@jupyter-widgets/controls",
      "model_module_version": "1.5.0",
      "model_name": "HTMLModel",
      "state": {
       "layout": "IPY_MODEL_703998c63e9d4a8589af8f55ac188fbc",
       "style": "IPY_MODEL_524d531ca0aa4d08a5606488b3cfa2ee",
       "value": "  0%"
      }
     },
     "5a641a3ec6d743819e9cd4f3f631dcff": {
      "model_module": "@jupyter-widgets/controls",
      "model_module_version": "1.5.0",
      "model_name": "HBoxModel",
      "state": {
       "children": [
        "IPY_MODEL_b9582729a05f4dfcacb62dd15fd03801",
        "IPY_MODEL_30b567c4de1b4ff2ba63aa1bdfcedadd",
        "IPY_MODEL_a59466544c5f4f7d9787be97bb247950"
       ],
       "layout": "IPY_MODEL_3dd2cc38fd514ebeb2704c05a8138f9c"
      }
     },
     "5a9662d4bef14d2782cb66a7ab609bbe": {
      "model_module": "@jupyter-widgets/controls",
      "model_module_version": "1.5.0",
      "model_name": "HBoxModel",
      "state": {
       "children": [
        "IPY_MODEL_bf8c4b9f89804db18495b6195ca06e26",
        "IPY_MODEL_9df824b6066e4b6c84b4e59849f37998",
        "IPY_MODEL_53c78a2ae86a4bb8a524ab8df1c3fd1a"
       ],
       "layout": "IPY_MODEL_c35596266ccf41669c0946849bd5210c"
      }
     },
     "5afc71a1fa154e6fa5130b65feb3c9ad": {
      "model_module": "@jupyter-widgets/controls",
      "model_module_version": "1.5.0",
      "model_name": "HBoxModel",
      "state": {
       "children": [
        "IPY_MODEL_9bf457b95c4d41e38f460e05ed915dc5",
        "IPY_MODEL_cf4a69dc5e0a41479c70c758220d2483",
        "IPY_MODEL_4c601666afa34050873761d8041f40a0"
       ],
       "layout": "IPY_MODEL_0234309a4fb848feb10e546776142dfa"
      }
     },
     "5b60bcb355694b6da893e7f79b681736": {
      "model_module": "@jupyter-widgets/controls",
      "model_module_version": "1.5.0",
      "model_name": "HBoxModel",
      "state": {
       "children": [
        "IPY_MODEL_a82e296b22c945338a70fd0f2d0693e4",
        "IPY_MODEL_965100ad27f143c1839785c15ba7fff0",
        "IPY_MODEL_ecc0f95d1dcf4f21aecd4d41699322c5"
       ],
       "layout": "IPY_MODEL_bd424cfdf7254fbd8997cdf066fe4596"
      }
     },
     "5bfff7bcea4e430aae82164e4820b23e": {
      "model_module": "@jupyter-widgets/controls",
      "model_module_version": "1.5.0",
      "model_name": "HBoxModel",
      "state": {
       "children": [
        "IPY_MODEL_c21993fe147b4e2da884423eaea56d10",
        "IPY_MODEL_77db5bd7adc34cc8b7d477f909e5b976",
        "IPY_MODEL_43f3a1bc357f4cb4aef678d809c3bc8a"
       ],
       "layout": "IPY_MODEL_672ab937caf741caaa0661ad5f720ced"
      }
     },
     "5cb4f2c032374b1ea0e15f9f593d014f": {
      "model_module": "@jupyter-widgets/controls",
      "model_module_version": "1.5.0",
      "model_name": "FloatProgressModel",
      "state": {
       "bar_style": "danger",
       "layout": "IPY_MODEL_374517067fe944c29b82bd31e2fe96f7",
       "max": 1,
       "style": "IPY_MODEL_7b09a7904471415cb904846425612dea"
      }
     },
     "5cf86578f32d4d62b29539a6a6a57596": {
      "model_module": "@jupyter-widgets/base",
      "model_module_version": "1.2.0",
      "model_name": "LayoutModel",
      "state": {}
     },
     "60212de78fc843e3bac104e8a9b7cdca": {
      "model_module": "@jupyter-widgets/controls",
      "model_module_version": "1.5.0",
      "model_name": "HTMLModel",
      "state": {
       "layout": "IPY_MODEL_1b32830818544301be5c53dc95c97b8f",
       "style": "IPY_MODEL_704cb60f6aa74dcb8ab3632362d5b6e7",
       "value": " 0/4967 [00:00&lt;?, ?ex/s]"
      }
     },
     "6088d6c3c50f455193819dae7600a012": {
      "model_module": "@jupyter-widgets/controls",
      "model_module_version": "1.5.0",
      "model_name": "DescriptionStyleModel",
      "state": {
       "description_width": ""
      }
     },
     "60ade748ebaf401b8101eb1f07e57bf5": {
      "model_module": "@jupyter-widgets/controls",
      "model_module_version": "1.5.0",
      "model_name": "HBoxModel",
      "state": {
       "children": [
        "IPY_MODEL_10d8979e8ddd47749a24a8f22f5c14c0",
        "IPY_MODEL_41eecb1e0d6e44099ee35f0bf59ea635",
        "IPY_MODEL_60212de78fc843e3bac104e8a9b7cdca"
       ],
       "layout": "IPY_MODEL_49df95e9b58643b599d0cbc6dbe22e77"
      }
     },
     "61060052ee4149c3ab1aabcc0425b575": {
      "model_module": "@jupyter-widgets/controls",
      "model_module_version": "1.5.0",
      "model_name": "HTMLModel",
      "state": {
       "layout": "IPY_MODEL_007ae5b39fbb4c148a57a633be172b8d",
       "style": "IPY_MODEL_c3ba794f7b514e998202ab00d183919a",
       "value": "  0%"
      }
     },
     "6123a66c5d3e4c5695a966e3fe9a76d3": {
      "model_module": "@jupyter-widgets/controls",
      "model_module_version": "1.5.0",
      "model_name": "HTMLModel",
      "state": {
       "layout": "IPY_MODEL_81dbd0367abe486a953e600008e778ed",
       "style": "IPY_MODEL_8f3b8c29655d46f1a154fa2004358d80",
       "value": " 552/552 [00:00&lt;00:00, 9512.53ex/s]"
      }
     },
     "6136054639cc472f9754c9603a41bcfd": {
      "model_module": "@jupyter-widgets/controls",
      "model_module_version": "1.5.0",
      "model_name": "HBoxModel",
      "state": {
       "children": [
        "IPY_MODEL_7b240ea4ba3c4b30b44e402179432878",
        "IPY_MODEL_2fa622e413094afda22bff9cc3291ef7",
        "IPY_MODEL_d9df5da0fe614b5ba13785d6f3e31fad"
       ],
       "layout": "IPY_MODEL_54b47703459a4f4e87931d68bec4f89f"
      }
     },
     "61db92c7fdff4a3fad58bc8eb4d853e0": {
      "model_module": "@jupyter-widgets/controls",
      "model_module_version": "1.5.0",
      "model_name": "DescriptionStyleModel",
      "state": {
       "description_width": ""
      }
     },
     "61efe62a072946c39e922c7a9d1c085d": {
      "model_module": "@jupyter-widgets/base",
      "model_module_version": "1.2.0",
      "model_name": "LayoutModel",
      "state": {}
     },
     "636e6f31d8f74b3fbab4a71829d399f3": {
      "model_module": "@jupyter-widgets/controls",
      "model_module_version": "1.5.0",
      "model_name": "DescriptionStyleModel",
      "state": {
       "description_width": ""
      }
     },
     "64cbee3f88c745bbabf19794649504f2": {
      "model_module": "@jupyter-widgets/base",
      "model_module_version": "1.2.0",
      "model_name": "LayoutModel",
      "state": {}
     },
     "651d3bd007f14f04a39b9c95ea0db07e": {
      "model_module": "@jupyter-widgets/controls",
      "model_module_version": "1.5.0",
      "model_name": "ProgressStyleModel",
      "state": {
       "description_width": ""
      }
     },
     "6719e0586e6d4eb1bce30a30fa5cfe1d": {
      "model_module": "@jupyter-widgets/base",
      "model_module_version": "1.2.0",
      "model_name": "LayoutModel",
      "state": {}
     },
     "672ab937caf741caaa0661ad5f720ced": {
      "model_module": "@jupyter-widgets/base",
      "model_module_version": "1.2.0",
      "model_name": "LayoutModel",
      "state": {}
     },
     "67c893de75c24aa780b6a9e3cb2ac1ce": {
      "model_module": "@jupyter-widgets/controls",
      "model_module_version": "1.5.0",
      "model_name": "HBoxModel",
      "state": {
       "children": [
        "IPY_MODEL_0b6a93bf10a3473b9b4920c186048b43",
        "IPY_MODEL_364cf41fea054d7f9d7c3fd895fca4d1",
        "IPY_MODEL_6123a66c5d3e4c5695a966e3fe9a76d3"
       ],
       "layout": "IPY_MODEL_d622f3278dbd4be48fff0455867c226f"
      }
     },
     "684095e9f31d48a1bb840ef283c8366d": {
      "model_module": "@jupyter-widgets/controls",
      "model_module_version": "1.5.0",
      "model_name": "DescriptionStyleModel",
      "state": {
       "description_width": ""
      }
     },
     "6843899b6f324ce9ba27b39bc82d20c0": {
      "model_module": "@jupyter-widgets/controls",
      "model_module_version": "1.5.0",
      "model_name": "ProgressStyleModel",
      "state": {
       "description_width": ""
      }
     },
     "690e93690acd410486760cedbc744be9": {
      "model_module": "@jupyter-widgets/base",
      "model_module_version": "1.2.0",
      "model_name": "LayoutModel",
      "state": {}
     },
     "6a379860a2e646259156456fc129ab44": {
      "model_module": "@jupyter-widgets/base",
      "model_module_version": "1.2.0",
      "model_name": "LayoutModel",
      "state": {}
     },
     "6ad9042f98ae452f99e8d9dfcd638473": {
      "model_module": "@jupyter-widgets/controls",
      "model_module_version": "1.5.0",
      "model_name": "ProgressStyleModel",
      "state": {
       "description_width": ""
      }
     },
     "6b0754b23bb64e908c19433429d5ea4d": {
      "model_module": "@jupyter-widgets/controls",
      "model_module_version": "1.5.0",
      "model_name": "DescriptionStyleModel",
      "state": {
       "description_width": ""
      }
     },
     "6b222c8faedd46e18cfa7cb05a12f0c4": {
      "model_module": "@jupyter-widgets/controls",
      "model_module_version": "1.5.0",
      "model_name": "DescriptionStyleModel",
      "state": {
       "description_width": ""
      }
     },
     "6b2885b744794d3280c2f7f4d1c6190c": {
      "model_module": "@jupyter-widgets/controls",
      "model_module_version": "1.5.0",
      "model_name": "DescriptionStyleModel",
      "state": {
       "description_width": ""
      }
     },
     "6bf15904bbac450894de4dbaad3f00c2": {
      "model_module": "@jupyter-widgets/controls",
      "model_module_version": "1.5.0",
      "model_name": "HTMLModel",
      "state": {
       "layout": "IPY_MODEL_7a66d6161ffa4cc6b026e9e782d0d85a",
       "style": "IPY_MODEL_e2d22dd5ae684ed3b32b2e053f8f0299",
       "value": "100%"
      }
     },
     "6c1ebd74e8114c5a941d6091533a86ae": {
      "model_module": "@jupyter-widgets/controls",
      "model_module_version": "1.5.0",
      "model_name": "HTMLModel",
      "state": {
       "layout": "IPY_MODEL_09a6c2a05ed346b4a37bcc8a6b317ace",
       "style": "IPY_MODEL_4ad508c0cc484565902ecf77e0c0093f",
       "value": " 4967/4967 [00:04&lt;00:00, 1137.01ex/s]"
      }
     },
     "6cbc7fd0525f44129c5eb1a14b5065bf": {
      "model_module": "@jupyter-widgets/controls",
      "model_module_version": "1.5.0",
      "model_name": "FloatProgressModel",
      "state": {
       "bar_style": "success",
       "layout": "IPY_MODEL_91ca45fcac434715876703b3fc6d24c4",
       "max": 4967,
       "style": "IPY_MODEL_3e073d5d391647e9ab0367a44d7efb0b",
       "value": 4967
      }
     },
     "6d18462c6893415188e7fe4bc37568d0": {
      "model_module": "@jupyter-widgets/controls",
      "model_module_version": "1.5.0",
      "model_name": "FloatProgressModel",
      "state": {
       "bar_style": "danger",
       "layout": "IPY_MODEL_53e5db16896640c8b042e2cb85ed61cc",
       "max": 552,
       "style": "IPY_MODEL_ccc14abd5e3f4a328a39d4a550f41672"
      }
     },
     "6d8845ec561e4337b3b5972ac23fcd50": {
      "model_module": "@jupyter-widgets/base",
      "model_module_version": "1.2.0",
      "model_name": "LayoutModel",
      "state": {}
     },
     "6e761cc30163464ab48fd8fd420bf07f": {
      "model_module": "@jupyter-widgets/controls",
      "model_module_version": "1.5.0",
      "model_name": "HTMLModel",
      "state": {
       "layout": "IPY_MODEL_17ad0ee02bdd4161aedc811ae779853b",
       "style": "IPY_MODEL_0656a95f222c44b69f50ae7c14ad53bf",
       "value": "100%"
      }
     },
     "6ee71062c5f645798b0e35d06f45ce01": {
      "model_module": "@jupyter-widgets/controls",
      "model_module_version": "1.5.0",
      "model_name": "DescriptionStyleModel",
      "state": {
       "description_width": ""
      }
     },
     "6fe2cacd696e423991d1609d29807f76": {
      "model_module": "@jupyter-widgets/controls",
      "model_module_version": "1.5.0",
      "model_name": "HTMLModel",
      "state": {
       "layout": "IPY_MODEL_bc5844f87b9d4215a010a0b86744db6b",
       "style": "IPY_MODEL_1a3188e6112442f68cba47560942a25f",
       "value": " 552/552 [00:00&lt;00:00, 15213.03ex/s]"
      }
     },
     "703998c63e9d4a8589af8f55ac188fbc": {
      "model_module": "@jupyter-widgets/base",
      "model_module_version": "1.2.0",
      "model_name": "LayoutModel",
      "state": {}
     },
     "704cb60f6aa74dcb8ab3632362d5b6e7": {
      "model_module": "@jupyter-widgets/controls",
      "model_module_version": "1.5.0",
      "model_name": "DescriptionStyleModel",
      "state": {
       "description_width": ""
      }
     },
     "705bbce2af7843e3bb563e2676f7d6d6": {
      "model_module": "@jupyter-widgets/base",
      "model_module_version": "1.2.0",
      "model_name": "LayoutModel",
      "state": {}
     },
     "71f82ec18905466ab68788d4f485905a": {
      "model_module": "@jupyter-widgets/controls",
      "model_module_version": "1.5.0",
      "model_name": "DescriptionStyleModel",
      "state": {
       "description_width": ""
      }
     },
     "72c1f9b9bd154907a98c002cce45e34a": {
      "model_module": "@jupyter-widgets/controls",
      "model_module_version": "1.5.0",
      "model_name": "HTMLModel",
      "state": {
       "layout": "IPY_MODEL_5889bc88c29e4b9cbcf5cab989b34c14",
       "style": "IPY_MODEL_149bd9585106470faad794bed0b094e4",
       "value": "100%"
      }
     },
     "744fb48e87bd4036b58429c8b288ce7e": {
      "model_module": "@jupyter-widgets/base",
      "model_module_version": "1.2.0",
      "model_name": "LayoutModel",
      "state": {}
     },
     "74b8ceff44cd47d0b64d44b279da1d4a": {
      "model_module": "@jupyter-widgets/controls",
      "model_module_version": "1.5.0",
      "model_name": "HBoxModel",
      "state": {
       "children": [
        "IPY_MODEL_774f30665e03493bbcf8feb4890d1e35",
        "IPY_MODEL_114a49fedbb240bfbcf72fbdba6d91eb",
        "IPY_MODEL_6fe2cacd696e423991d1609d29807f76"
       ],
       "layout": "IPY_MODEL_f1e1433c5605490a880007370bb75480"
      }
     },
     "75673cddf09641f195194795d618cfde": {
      "model_module": "@jupyter-widgets/base",
      "model_module_version": "1.2.0",
      "model_name": "LayoutModel",
      "state": {}
     },
     "7581708d72084a6f9f6605d0798c07eb": {
      "model_module": "@jupyter-widgets/controls",
      "model_module_version": "1.5.0",
      "model_name": "DescriptionStyleModel",
      "state": {
       "description_width": ""
      }
     },
     "76170280198e483c9b988eeaa507f923": {
      "model_module": "@jupyter-widgets/controls",
      "model_module_version": "1.5.0",
      "model_name": "FloatProgressModel",
      "state": {
       "bar_style": "danger",
       "layout": "IPY_MODEL_11c0f973301a42898770ce55d41c509b",
       "max": 552,
       "style": "IPY_MODEL_d4e3cf8214d646ad92df723276563777"
      }
     },
     "774f30665e03493bbcf8feb4890d1e35": {
      "model_module": "@jupyter-widgets/controls",
      "model_module_version": "1.5.0",
      "model_name": "HTMLModel",
      "state": {
       "layout": "IPY_MODEL_af29928cd34b4b5ea522a9277f863643",
       "style": "IPY_MODEL_04fcc33085194e0793f4cfae70b860c9",
       "value": "100%"
      }
     },
     "77728c092f4f411ca541fbdea141e3a3": {
      "model_module": "@jupyter-widgets/base",
      "model_module_version": "1.2.0",
      "model_name": "LayoutModel",
      "state": {}
     },
     "77db5bd7adc34cc8b7d477f909e5b976": {
      "model_module": "@jupyter-widgets/controls",
      "model_module_version": "1.5.0",
      "model_name": "FloatProgressModel",
      "state": {
       "bar_style": "danger",
       "layout": "IPY_MODEL_77728c092f4f411ca541fbdea141e3a3",
       "max": 552,
       "style": "IPY_MODEL_34532b5b6f2941b39013a8d539eebc04"
      }
     },
     "787c6736d7f94a02ab8346cbf9d21a3c": {
      "model_module": "@jupyter-widgets/base",
      "model_module_version": "1.2.0",
      "model_name": "LayoutModel",
      "state": {}
     },
     "78dac46ce96e4d6bb82db52a185ae945": {
      "model_module": "@jupyter-widgets/base",
      "model_module_version": "1.2.0",
      "model_name": "LayoutModel",
      "state": {}
     },
     "7a66d6161ffa4cc6b026e9e782d0d85a": {
      "model_module": "@jupyter-widgets/base",
      "model_module_version": "1.2.0",
      "model_name": "LayoutModel",
      "state": {}
     },
     "7a94a32bd152440ebb8b63ceb6d225f8": {
      "model_module": "@jupyter-widgets/base",
      "model_module_version": "1.2.0",
      "model_name": "LayoutModel",
      "state": {}
     },
     "7ad201cd43d443b68fc831a5ac2118aa": {
      "model_module": "@jupyter-widgets/controls",
      "model_module_version": "1.5.0",
      "model_name": "ProgressStyleModel",
      "state": {
       "description_width": ""
      }
     },
     "7b09a7904471415cb904846425612dea": {
      "model_module": "@jupyter-widgets/controls",
      "model_module_version": "1.5.0",
      "model_name": "ProgressStyleModel",
      "state": {
       "description_width": ""
      }
     },
     "7b240ea4ba3c4b30b44e402179432878": {
      "model_module": "@jupyter-widgets/controls",
      "model_module_version": "1.5.0",
      "model_name": "HTMLModel",
      "state": {
       "layout": "IPY_MODEL_a6d3b0d4c16b44c38fd0b6368cb16831",
       "style": "IPY_MODEL_5637068dde814842a245fdecea3416e0",
       "value": "100%"
      }
     },
     "7d5bfeac830b4627b492f3f82517fcdd": {
      "model_module": "@jupyter-widgets/controls",
      "model_module_version": "1.5.0",
      "model_name": "ProgressStyleModel",
      "state": {
       "description_width": ""
      }
     },
     "7e11a27152e24a0b87cd83a0365d8649": {
      "model_module": "@jupyter-widgets/base",
      "model_module_version": "1.2.0",
      "model_name": "LayoutModel",
      "state": {}
     },
     "7e52c88dd1b7460898a88f3523f1c094": {
      "model_module": "@jupyter-widgets/controls",
      "model_module_version": "1.5.0",
      "model_name": "HBoxModel",
      "state": {
       "children": [
        "IPY_MODEL_5369c88f4127456e85bf6402e9484249",
        "IPY_MODEL_6cbc7fd0525f44129c5eb1a14b5065bf",
        "IPY_MODEL_4db9de58a191421183fc117690be6aa6"
       ],
       "layout": "IPY_MODEL_7f738f81a27f446486dccfa6ab318533"
      }
     },
     "7f3b695c5b784ab4a6ec6b8eb5120761": {
      "model_module": "@jupyter-widgets/base",
      "model_module_version": "1.2.0",
      "model_name": "LayoutModel",
      "state": {}
     },
     "7f738f81a27f446486dccfa6ab318533": {
      "model_module": "@jupyter-widgets/base",
      "model_module_version": "1.2.0",
      "model_name": "LayoutModel",
      "state": {}
     },
     "81dbd0367abe486a953e600008e778ed": {
      "model_module": "@jupyter-widgets/base",
      "model_module_version": "1.2.0",
      "model_name": "LayoutModel",
      "state": {}
     },
     "8302a1ebf09647adbd4cfe883670cdc8": {
      "model_module": "@jupyter-widgets/base",
      "model_module_version": "1.2.0",
      "model_name": "LayoutModel",
      "state": {}
     },
     "84153c71376a4f43a6769159c769f14f": {
      "model_module": "@jupyter-widgets/base",
      "model_module_version": "1.2.0",
      "model_name": "LayoutModel",
      "state": {}
     },
     "884c10544ff043feb78b72364db31d67": {
      "model_module": "@jupyter-widgets/base",
      "model_module_version": "1.2.0",
      "model_name": "LayoutModel",
      "state": {}
     },
     "88646c0f7f3c45cdb8d3ab1df075fa06": {
      "model_module": "@jupyter-widgets/base",
      "model_module_version": "1.2.0",
      "model_name": "LayoutModel",
      "state": {}
     },
     "888689a59c95460bb451e8d5b8f20d3c": {
      "model_module": "@jupyter-widgets/base",
      "model_module_version": "1.2.0",
      "model_name": "LayoutModel",
      "state": {}
     },
     "8891fcee29c54e008660283f326e0843": {
      "model_module": "@jupyter-widgets/controls",
      "model_module_version": "1.5.0",
      "model_name": "DescriptionStyleModel",
      "state": {
       "description_width": ""
      }
     },
     "88d9cc4a8a4d49c0bc5a455a9fd79bb0": {
      "model_module": "@jupyter-widgets/controls",
      "model_module_version": "1.5.0",
      "model_name": "HTMLModel",
      "state": {
       "layout": "IPY_MODEL_88646c0f7f3c45cdb8d3ab1df075fa06",
       "style": "IPY_MODEL_c5bcfa7753ba48b298591bbf93c2fe97",
       "value": "  0%"
      }
     },
     "8aef9aa79e0849ff9f585b33c8a7887d": {
      "model_module": "@jupyter-widgets/controls",
      "model_module_version": "1.5.0",
      "model_name": "ProgressStyleModel",
      "state": {
       "description_width": ""
      }
     },
     "8c030e68c5504cfe9339787d3d466d89": {
      "model_module": "@jupyter-widgets/controls",
      "model_module_version": "1.5.0",
      "model_name": "HTMLModel",
      "state": {
       "layout": "IPY_MODEL_7f3b695c5b784ab4a6ec6b8eb5120761",
       "style": "IPY_MODEL_dd7856a7a64b4a3bb2fbb6800f6eb9f3",
       "value": " 0/552 [00:00&lt;?, ?ex/s]"
      }
     },
     "8cf075ec7c634df4ac5b77a36f727666": {
      "model_module": "@jupyter-widgets/base",
      "model_module_version": "1.2.0",
      "model_name": "LayoutModel",
      "state": {}
     },
     "8ea37d4e85c045efa065a766ea867d75": {
      "model_module": "@jupyter-widgets/base",
      "model_module_version": "1.2.0",
      "model_name": "LayoutModel",
      "state": {}
     },
     "8f3b8c29655d46f1a154fa2004358d80": {
      "model_module": "@jupyter-widgets/controls",
      "model_module_version": "1.5.0",
      "model_name": "DescriptionStyleModel",
      "state": {
       "description_width": ""
      }
     },
     "8f42d4070c44416ebb5d95b72926fb7b": {
      "model_module": "@jupyter-widgets/controls",
      "model_module_version": "1.5.0",
      "model_name": "HBoxModel",
      "state": {
       "children": [
        "IPY_MODEL_10d98244256640f989cec71fe2a754c0",
        "IPY_MODEL_5cb4f2c032374b1ea0e15f9f593d014f",
        "IPY_MODEL_4d4c4d2aedf74c09afaa215bf0d743d1"
       ],
       "layout": "IPY_MODEL_106029d401604080a070d69b1da68708"
      }
     },
     "8faea100ef174386a58a074bdf6443c2": {
      "model_module": "@jupyter-widgets/controls",
      "model_module_version": "1.5.0",
      "model_name": "HBoxModel",
      "state": {
       "children": [
        "IPY_MODEL_e65a288635154e5788bc13aba28f40c8",
        "IPY_MODEL_6d18462c6893415188e7fe4bc37568d0",
        "IPY_MODEL_ec408ba11c904cb6923626903ed0d7b8"
       ],
       "layout": "IPY_MODEL_a56f3e5954da40cdb0079700b9749480"
      }
     },
     "90a0b3cec3e949f8bcda359548fdbb3a": {
      "model_module": "@jupyter-widgets/controls",
      "model_module_version": "1.5.0",
      "model_name": "FloatProgressModel",
      "state": {
       "bar_style": "success",
       "layout": "IPY_MODEL_e435eda256a1454a9ff877b248b5a5dc",
       "max": 4967,
       "style": "IPY_MODEL_91b9a2f6a7c14cfda10d2c6e94b883d8",
       "value": 4967
      }
     },
     "91b9a2f6a7c14cfda10d2c6e94b883d8": {
      "model_module": "@jupyter-widgets/controls",
      "model_module_version": "1.5.0",
      "model_name": "ProgressStyleModel",
      "state": {
       "description_width": ""
      }
     },
     "91ca45fcac434715876703b3fc6d24c4": {
      "model_module": "@jupyter-widgets/base",
      "model_module_version": "1.2.0",
      "model_name": "LayoutModel",
      "state": {}
     },
     "9245f3f7c79a42b7a6ab11d19f16cb50": {
      "model_module": "@jupyter-widgets/controls",
      "model_module_version": "1.5.0",
      "model_name": "DescriptionStyleModel",
      "state": {
       "description_width": ""
      }
     },
     "926e7051e3454787854a103f05b0df1b": {
      "model_module": "@jupyter-widgets/base",
      "model_module_version": "1.2.0",
      "model_name": "LayoutModel",
      "state": {}
     },
     "938cb4386c5d4b09a9bcc68aa5a88c31": {
      "model_module": "@jupyter-widgets/controls",
      "model_module_version": "1.5.0",
      "model_name": "HTMLModel",
      "state": {
       "layout": "IPY_MODEL_12e4626dd95f49998e93ca6a4eb3284e",
       "style": "IPY_MODEL_058906402c494b7ca2850daa670618c2",
       "value": " 552/552 [00:18&lt;00:00, 31.23ex/s]"
      }
     },
     "944b05a8b80d4c79b351d59c7568b57d": {
      "model_module": "@jupyter-widgets/base",
      "model_module_version": "1.2.0",
      "model_name": "LayoutModel",
      "state": {}
     },
     "95965a87c5074380aca8e54ad44f950e": {
      "model_module": "@jupyter-widgets/controls",
      "model_module_version": "1.5.0",
      "model_name": "DescriptionStyleModel",
      "state": {
       "description_width": ""
      }
     },
     "95c145fac0a148d6a5c75bfa60cb2bae": {
      "model_module": "@jupyter-widgets/base",
      "model_module_version": "1.2.0",
      "model_name": "LayoutModel",
      "state": {}
     },
     "95d44c5ba4b94e1b921b6ea1f3408057": {
      "model_module": "@jupyter-widgets/controls",
      "model_module_version": "1.5.0",
      "model_name": "HTMLModel",
      "state": {
       "layout": "IPY_MODEL_944b05a8b80d4c79b351d59c7568b57d",
       "style": "IPY_MODEL_9f1b1ca042124e59bdec85941c2bca9b",
       "value": "  0%"
      }
     },
     "965100ad27f143c1839785c15ba7fff0": {
      "model_module": "@jupyter-widgets/controls",
      "model_module_version": "1.5.0",
      "model_name": "FloatProgressModel",
      "state": {
       "bar_style": "success",
       "layout": "IPY_MODEL_33825b1a66784a9aa1698129010146f1",
       "max": 552,
       "style": "IPY_MODEL_b32c774f08a14d85bd026ca1b89c70d0",
       "value": 552
      }
     },
     "9786a345c878434695281f942aa448f7": {
      "model_module": "@jupyter-widgets/base",
      "model_module_version": "1.2.0",
      "model_name": "LayoutModel",
      "state": {}
     },
     "9ad0a399a7cd40f2a19e5bfb54bf49b9": {
      "model_module": "@jupyter-widgets/controls",
      "model_module_version": "1.5.0",
      "model_name": "HTMLModel",
      "state": {
       "layout": "IPY_MODEL_c43df91e1ba94dc09b4a470302352cf2",
       "style": "IPY_MODEL_26caec9a0e384d91a3eab9294cd34aff",
       "value": "  0%"
      }
     },
     "9b00d48944624941bfc4df4078da958b": {
      "model_module": "@jupyter-widgets/controls",
      "model_module_version": "1.5.0",
      "model_name": "HTMLModel",
      "state": {
       "layout": "IPY_MODEL_fcd60b2081b3415ca1fcb7a50368dbf5",
       "style": "IPY_MODEL_db35fcf13b3e4220b82af029dadbad32",
       "value": " 0/552 [00:00&lt;?, ?ex/s]"
      }
     },
     "9b48e761403641898045c255705ad3bd": {
      "model_module": "@jupyter-widgets/base",
      "model_module_version": "1.2.0",
      "model_name": "LayoutModel",
      "state": {}
     },
     "9b93af20989f4e5d8d2003c9fae8bc32": {
      "model_module": "@jupyter-widgets/controls",
      "model_module_version": "1.5.0",
      "model_name": "HTMLModel",
      "state": {
       "layout": "IPY_MODEL_2e6783ee99704f5f89cb7bc47a9639e2",
       "style": "IPY_MODEL_71f82ec18905466ab68788d4f485905a",
       "value": " 552/552 [00:18&lt;00:00, 31.21ex/s]"
      }
     },
     "9bf457b95c4d41e38f460e05ed915dc5": {
      "model_module": "@jupyter-widgets/controls",
      "model_module_version": "1.5.0",
      "model_name": "HTMLModel",
      "state": {
       "layout": "IPY_MODEL_690e93690acd410486760cedbc744be9",
       "style": "IPY_MODEL_2c525b73fe7e48e594b55187f100b243",
       "value": "  0%"
      }
     },
     "9c5c20141b4140ef96ff3dbcceceeee9": {
      "model_module": "@jupyter-widgets/base",
      "model_module_version": "1.2.0",
      "model_name": "LayoutModel",
      "state": {}
     },
     "9df824b6066e4b6c84b4e59849f37998": {
      "model_module": "@jupyter-widgets/controls",
      "model_module_version": "1.5.0",
      "model_name": "FloatProgressModel",
      "state": {
       "bar_style": "danger",
       "layout": "IPY_MODEL_5555bf86b6514f949ff1bfcfee8e94e0",
       "max": 552,
       "style": "IPY_MODEL_aa30321e1d6848278f7059f13993f8aa"
      }
     },
     "9e91806fb8a6436bbe2247149f05a868": {
      "model_module": "@jupyter-widgets/base",
      "model_module_version": "1.2.0",
      "model_name": "LayoutModel",
      "state": {}
     },
     "9ed98b9305c84590afbf895d1f003868": {
      "model_module": "@jupyter-widgets/controls",
      "model_module_version": "1.5.0",
      "model_name": "HTMLModel",
      "state": {
       "layout": "IPY_MODEL_21a6b595a45843ceb2c46d03a852f5bd",
       "style": "IPY_MODEL_db0a62964c624cf1a995668b8fc5e627",
       "value": "100%"
      }
     },
     "9f1b1ca042124e59bdec85941c2bca9b": {
      "model_module": "@jupyter-widgets/controls",
      "model_module_version": "1.5.0",
      "model_name": "DescriptionStyleModel",
      "state": {
       "description_width": ""
      }
     },
     "a00b389029284273b5b2a8b1ec368b6d": {
      "model_module": "@jupyter-widgets/controls",
      "model_module_version": "1.5.0",
      "model_name": "FloatProgressModel",
      "state": {
       "bar_style": "success",
       "layout": "IPY_MODEL_5220b1a84b674ac5bda2bbadfb852606",
       "max": 4967,
       "style": "IPY_MODEL_a49aec25f6d3435bb8260711a515858e",
       "value": 4967
      }
     },
     "a29db5665b3d4e789f3405d0b87b29df": {
      "model_module": "@jupyter-widgets/controls",
      "model_module_version": "1.5.0",
      "model_name": "ProgressStyleModel",
      "state": {
       "description_width": ""
      }
     },
     "a3d885d517584de093dca092a408da79": {
      "model_module": "@jupyter-widgets/controls",
      "model_module_version": "1.5.0",
      "model_name": "HBoxModel",
      "state": {
       "children": [
        "IPY_MODEL_43635bf4cf5845e7a3da8f1c94e858d8",
        "IPY_MODEL_4311711d8cc147df9c12e158b0a26ea9",
        "IPY_MODEL_8c030e68c5504cfe9339787d3d466d89"
       ],
       "layout": "IPY_MODEL_95c145fac0a148d6a5c75bfa60cb2bae"
      }
     },
     "a49aec25f6d3435bb8260711a515858e": {
      "model_module": "@jupyter-widgets/controls",
      "model_module_version": "1.5.0",
      "model_name": "ProgressStyleModel",
      "state": {
       "description_width": ""
      }
     },
     "a4b684ef244747d3be2b2b0fef872935": {
      "model_module": "@jupyter-widgets/base",
      "model_module_version": "1.2.0",
      "model_name": "LayoutModel",
      "state": {}
     },
     "a4ebe8eb67974a9195fde174a952358b": {
      "model_module": "@jupyter-widgets/controls",
      "model_module_version": "1.5.0",
      "model_name": "HTMLModel",
      "state": {
       "layout": "IPY_MODEL_c0e309d52c2b44f8bb8c41e18f4f16f0",
       "style": "IPY_MODEL_6ee71062c5f645798b0e35d06f45ce01",
       "value": "100%"
      }
     },
     "a56f3e5954da40cdb0079700b9749480": {
      "model_module": "@jupyter-widgets/base",
      "model_module_version": "1.2.0",
      "model_name": "LayoutModel",
      "state": {}
     },
     "a59466544c5f4f7d9787be97bb247950": {
      "model_module": "@jupyter-widgets/controls",
      "model_module_version": "1.5.0",
      "model_name": "HTMLModel",
      "state": {
       "layout": "IPY_MODEL_f211435a55634d329263d0083a98dcf1",
       "style": "IPY_MODEL_bbdc92a6d3c3486da318fdffbc1e3b87",
       "value": " 4967/4967 [00:00&lt;00:00, 12708.67ex/s]"
      }
     },
     "a5aca18cf1674de185c06da8d7ca84a6": {
      "model_module": "@jupyter-widgets/controls",
      "model_module_version": "1.5.0",
      "model_name": "HTMLModel",
      "state": {
       "layout": "IPY_MODEL_6d8845ec561e4337b3b5972ac23fcd50",
       "style": "IPY_MODEL_3c54dec50b4b47758777a894c8f9f198",
       "value": "100%"
      }
     },
     "a6861ee67f494246b0d00eedbdf594a6": {
      "model_module": "@jupyter-widgets/controls",
      "model_module_version": "1.5.0",
      "model_name": "ProgressStyleModel",
      "state": {
       "description_width": ""
      }
     },
     "a6d3b0d4c16b44c38fd0b6368cb16831": {
      "model_module": "@jupyter-widgets/base",
      "model_module_version": "1.2.0",
      "model_name": "LayoutModel",
      "state": {}
     },
     "a72ee7ea446e42f99f23d01af502e74d": {
      "model_module": "@jupyter-widgets/base",
      "model_module_version": "1.2.0",
      "model_name": "LayoutModel",
      "state": {}
     },
     "a82e296b22c945338a70fd0f2d0693e4": {
      "model_module": "@jupyter-widgets/controls",
      "model_module_version": "1.5.0",
      "model_name": "HTMLModel",
      "state": {
       "layout": "IPY_MODEL_12c509b3ca8140469cd1d00365917945",
       "style": "IPY_MODEL_c1a0ff7c624f4d0384c85c1a806f7120",
       "value": "100%"
      }
     },
     "a8387a0a73cd4443b4c9f6cc63a02f7f": {
      "model_module": "@jupyter-widgets/controls",
      "model_module_version": "1.5.0",
      "model_name": "ProgressStyleModel",
      "state": {
       "description_width": ""
      }
     },
     "a8e56d1569984a3c9fbeeed5a2b28e53": {
      "model_module": "@jupyter-widgets/controls",
      "model_module_version": "1.5.0",
      "model_name": "DescriptionStyleModel",
      "state": {
       "description_width": ""
      }
     },
     "aa30321e1d6848278f7059f13993f8aa": {
      "model_module": "@jupyter-widgets/controls",
      "model_module_version": "1.5.0",
      "model_name": "ProgressStyleModel",
      "state": {
       "description_width": ""
      }
     },
     "aab021d22e834482b7eab6847242618a": {
      "model_module": "@jupyter-widgets/base",
      "model_module_version": "1.2.0",
      "model_name": "LayoutModel",
      "state": {}
     },
     "ab23af5e13404a439288ed62fdcfd630": {
      "model_module": "@jupyter-widgets/controls",
      "model_module_version": "1.5.0",
      "model_name": "HTMLModel",
      "state": {
       "layout": "IPY_MODEL_ef3888c800dc4e649a854bfdc5633274",
       "style": "IPY_MODEL_bea10a7c114c4fc5be675010142b6cac",
       "value": " 552/552 [00:00&lt;00:00, 9201.22ex/s]"
      }
     },
     "ab7a64bdb38c4624a8505a13abfe415f": {
      "model_module": "@jupyter-widgets/base",
      "model_module_version": "1.2.0",
      "model_name": "LayoutModel",
      "state": {}
     },
     "ac39c5016148420c82173c2b260cb197": {
      "model_module": "@jupyter-widgets/base",
      "model_module_version": "1.2.0",
      "model_name": "LayoutModel",
      "state": {}
     },
     "aca8685b79884c8190fc14cad0159dbb": {
      "model_module": "@jupyter-widgets/controls",
      "model_module_version": "1.5.0",
      "model_name": "FloatProgressModel",
      "state": {
       "bar_style": "success",
       "layout": "IPY_MODEL_fb6b40f5709d4dc69651418ae78a6672",
       "max": 552,
       "style": "IPY_MODEL_4e1aa2958cd84f68b7b115c3becc23dd",
       "value": 552
      }
     },
     "ad423437a13a4fbf9466fb202fb7333e": {
      "model_module": "@jupyter-widgets/controls",
      "model_module_version": "1.5.0",
      "model_name": "HBoxModel",
      "state": {
       "children": [
        "IPY_MODEL_a5aca18cf1674de185c06da8d7ca84a6",
        "IPY_MODEL_eb6eb067290f4baf897834cb2b96e690",
        "IPY_MODEL_ab23af5e13404a439288ed62fdcfd630"
       ],
       "layout": "IPY_MODEL_325c888ed1854100a7c498ada715fd43"
      }
     },
     "ad950539bd894e4ab78edeb572adc79f": {
      "model_module": "@jupyter-widgets/controls",
      "model_module_version": "1.5.0",
      "model_name": "DescriptionStyleModel",
      "state": {
       "description_width": ""
      }
     },
     "af29928cd34b4b5ea522a9277f863643": {
      "model_module": "@jupyter-widgets/base",
      "model_module_version": "1.2.0",
      "model_name": "LayoutModel",
      "state": {}
     },
     "b147f36d89724b62a4f655003f791a74": {
      "model_module": "@jupyter-widgets/controls",
      "model_module_version": "1.5.0",
      "model_name": "ProgressStyleModel",
      "state": {
       "description_width": ""
      }
     },
     "b158153561ff452c9e762270c6869ca5": {
      "model_module": "@jupyter-widgets/controls",
      "model_module_version": "1.5.0",
      "model_name": "DescriptionStyleModel",
      "state": {
       "description_width": ""
      }
     },
     "b172412a5d784d1f9820b3f06025ed1f": {
      "model_module": "@jupyter-widgets/controls",
      "model_module_version": "1.5.0",
      "model_name": "HTMLModel",
      "state": {
       "layout": "IPY_MODEL_c5152c10092d402f87b53fc46d5457f8",
       "style": "IPY_MODEL_bfa42b2f035b486990d34a72ec024242",
       "value": " 4967/4967 [00:00&lt;00:00, 12292.29ex/s]"
      }
     },
     "b258ebf4e1aa41d198fe754038ea375c": {
      "model_module": "@jupyter-widgets/controls",
      "model_module_version": "1.5.0",
      "model_name": "HTMLModel",
      "state": {
       "layout": "IPY_MODEL_d47927dc91814e92ab9ccad5f912f5f8",
       "style": "IPY_MODEL_430db83411474bc0b2202bc8188ca4f3",
       "value": " 552/552 [00:00&lt;00:00, 9757.85ex/s]"
      }
     },
     "b313f85efa3d44799e0cb0a1b7582fae": {
      "model_module": "@jupyter-widgets/controls",
      "model_module_version": "1.5.0",
      "model_name": "HBoxModel",
      "state": {
       "children": [
        "IPY_MODEL_6e761cc30163464ab48fd8fd420bf07f",
        "IPY_MODEL_aca8685b79884c8190fc14cad0159dbb",
        "IPY_MODEL_938cb4386c5d4b09a9bcc68aa5a88c31"
       ],
       "layout": "IPY_MODEL_2eadfa47d0664b8e866cdcadbaa3872c"
      }
     },
     "b32c774f08a14d85bd026ca1b89c70d0": {
      "model_module": "@jupyter-widgets/controls",
      "model_module_version": "1.5.0",
      "model_name": "ProgressStyleModel",
      "state": {
       "description_width": ""
      }
     },
     "b48b87d3c903402ea5339e918585ce6c": {
      "model_module": "@jupyter-widgets/base",
      "model_module_version": "1.2.0",
      "model_name": "LayoutModel",
      "state": {}
     },
     "b62ace89c2bd4498af0fd0df39863658": {
      "model_module": "@jupyter-widgets/controls",
      "model_module_version": "1.5.0",
      "model_name": "DescriptionStyleModel",
      "state": {
       "description_width": ""
      }
     },
     "b7a9df6ec5c041268381277fbf502c43": {
      "model_module": "@jupyter-widgets/controls",
      "model_module_version": "1.5.0",
      "model_name": "ProgressStyleModel",
      "state": {
       "description_width": ""
      }
     },
     "b7dbd64b2813458583c282e9ca3eec25": {
      "model_module": "@jupyter-widgets/controls",
      "model_module_version": "1.5.0",
      "model_name": "FloatProgressModel",
      "state": {
       "bar_style": "success",
       "layout": "IPY_MODEL_5cf86578f32d4d62b29539a6a6a57596",
       "max": 552,
       "style": "IPY_MODEL_a29db5665b3d4e789f3405d0b87b29df",
       "value": 552
      }
     },
     "b86d74efe4284b08afc78a9a47ec00d2": {
      "model_module": "@jupyter-widgets/base",
      "model_module_version": "1.2.0",
      "model_name": "LayoutModel",
      "state": {}
     },
     "b9582729a05f4dfcacb62dd15fd03801": {
      "model_module": "@jupyter-widgets/controls",
      "model_module_version": "1.5.0",
      "model_name": "HTMLModel",
      "state": {
       "layout": "IPY_MODEL_75673cddf09641f195194795d618cfde",
       "style": "IPY_MODEL_53c9029b4eb844a69d5ca016016fcaf1",
       "value": "100%"
      }
     },
     "ba178ac5b67e437abbc61a5dcd0657b1": {
      "model_module": "@jupyter-widgets/controls",
      "model_module_version": "1.5.0",
      "model_name": "FloatProgressModel",
      "state": {
       "bar_style": "success",
       "layout": "IPY_MODEL_d8d99f47e1cd4d458350821b51be4503",
       "max": 552,
       "style": "IPY_MODEL_f6d6d0b61c7241f795b16fb962d44eb6",
       "value": 552
      }
     },
     "ba82100e173148628ac97423ad4a3dca": {
      "model_module": "@jupyter-widgets/controls",
      "model_module_version": "1.5.0",
      "model_name": "DescriptionStyleModel",
      "state": {
       "description_width": ""
      }
     },
     "bac33055d919455a9af352788e7e8e50": {
      "model_module": "@jupyter-widgets/controls",
      "model_module_version": "1.5.0",
      "model_name": "ProgressStyleModel",
      "state": {
       "description_width": ""
      }
     },
     "bbdc92a6d3c3486da318fdffbc1e3b87": {
      "model_module": "@jupyter-widgets/controls",
      "model_module_version": "1.5.0",
      "model_name": "DescriptionStyleModel",
      "state": {
       "description_width": ""
      }
     },
     "bc5844f87b9d4215a010a0b86744db6b": {
      "model_module": "@jupyter-widgets/base",
      "model_module_version": "1.2.0",
      "model_name": "LayoutModel",
      "state": {}
     },
     "bce06fbed7b6456da71f01cca65c3733": {
      "model_module": "@jupyter-widgets/controls",
      "model_module_version": "1.5.0",
      "model_name": "DescriptionStyleModel",
      "state": {
       "description_width": ""
      }
     },
     "bd424cfdf7254fbd8997cdf066fe4596": {
      "model_module": "@jupyter-widgets/base",
      "model_module_version": "1.2.0",
      "model_name": "LayoutModel",
      "state": {}
     },
     "bdf096dec5d1462cb29e221f1affe07e": {
      "model_module": "@jupyter-widgets/controls",
      "model_module_version": "1.5.0",
      "model_name": "HTMLModel",
      "state": {
       "layout": "IPY_MODEL_cd99326496014092b9cde4aec1938cb8",
       "style": "IPY_MODEL_b158153561ff452c9e762270c6869ca5",
       "value": " 0/4967 [00:00&lt;?, ?ex/s]"
      }
     },
     "bea10a7c114c4fc5be675010142b6cac": {
      "model_module": "@jupyter-widgets/controls",
      "model_module_version": "1.5.0",
      "model_name": "DescriptionStyleModel",
      "state": {
       "description_width": ""
      }
     },
     "bf8c4b9f89804db18495b6195ca06e26": {
      "model_module": "@jupyter-widgets/controls",
      "model_module_version": "1.5.0",
      "model_name": "HTMLModel",
      "state": {
       "layout": "IPY_MODEL_6a379860a2e646259156456fc129ab44",
       "style": "IPY_MODEL_4bab5d0dcecc4c92baecd32b7aab066b",
       "value": "  0%"
      }
     },
     "bfa42b2f035b486990d34a72ec024242": {
      "model_module": "@jupyter-widgets/controls",
      "model_module_version": "1.5.0",
      "model_name": "DescriptionStyleModel",
      "state": {
       "description_width": ""
      }
     },
     "c00740dec00543dd9be1b527bc868019": {
      "model_module": "@jupyter-widgets/controls",
      "model_module_version": "1.5.0",
      "model_name": "HTMLModel",
      "state": {
       "layout": "IPY_MODEL_cb83880f4b994598abf2b67d59ce68c4",
       "style": "IPY_MODEL_54c4afa59ba74027a93a5a48c7798fcc",
       "value": "100%"
      }
     },
     "c0384a5af40c4d038432a9f331bfa55c": {
      "model_module": "@jupyter-widgets/base",
      "model_module_version": "1.2.0",
      "model_name": "LayoutModel",
      "state": {}
     },
     "c056b928a04a43fd909e99c0c9e53646": {
      "model_module": "@jupyter-widgets/base",
      "model_module_version": "1.2.0",
      "model_name": "LayoutModel",
      "state": {}
     },
     "c0e309d52c2b44f8bb8c41e18f4f16f0": {
      "model_module": "@jupyter-widgets/base",
      "model_module_version": "1.2.0",
      "model_name": "LayoutModel",
      "state": {}
     },
     "c1a0633dbc80455697ad75baf1bf088c": {
      "model_module": "@jupyter-widgets/controls",
      "model_module_version": "1.5.0",
      "model_name": "ProgressStyleModel",
      "state": {
       "description_width": ""
      }
     },
     "c1a0ff7c624f4d0384c85c1a806f7120": {
      "model_module": "@jupyter-widgets/controls",
      "model_module_version": "1.5.0",
      "model_name": "DescriptionStyleModel",
      "state": {
       "description_width": ""
      }
     },
     "c204227984004e14adaf80bf3cbee84c": {
      "model_module": "@jupyter-widgets/base",
      "model_module_version": "1.2.0",
      "model_name": "LayoutModel",
      "state": {}
     },
     "c21993fe147b4e2da884423eaea56d10": {
      "model_module": "@jupyter-widgets/controls",
      "model_module_version": "1.5.0",
      "model_name": "HTMLModel",
      "state": {
       "layout": "IPY_MODEL_888689a59c95460bb451e8d5b8f20d3c",
       "style": "IPY_MODEL_bce06fbed7b6456da71f01cca65c3733",
       "value": "  0%"
      }
     },
     "c292a88f862f4b1f822d7015f1caa20a": {
      "model_module": "@jupyter-widgets/base",
      "model_module_version": "1.2.0",
      "model_name": "LayoutModel",
      "state": {}
     },
     "c2c0e383727941d38080ac9919b75ae9": {
      "model_module": "@jupyter-widgets/controls",
      "model_module_version": "1.5.0",
      "model_name": "DescriptionStyleModel",
      "state": {
       "description_width": ""
      }
     },
     "c2df4a35f98c495d869529c36c8f59aa": {
      "model_module": "@jupyter-widgets/controls",
      "model_module_version": "1.5.0",
      "model_name": "HTMLModel",
      "state": {
       "layout": "IPY_MODEL_12ce0edde2054e82b2f089dc7e0d120e",
       "style": "IPY_MODEL_56ca47682b9143c98bd265f9972c0820",
       "value": " 552/552 [00:00&lt;00:00, 9232.29ex/s]"
      }
     },
     "c3134d9ae1054c92975afc7b0aa230a8": {
      "model_module": "@jupyter-widgets/controls",
      "model_module_version": "1.5.0",
      "model_name": "HTMLModel",
      "state": {
       "layout": "IPY_MODEL_016c20720c4941c594ea682f617a33c7",
       "style": "IPY_MODEL_33620e8055bd42389988cc44aa160795",
       "value": "  0%"
      }
     },
     "c35596266ccf41669c0946849bd5210c": {
      "model_module": "@jupyter-widgets/base",
      "model_module_version": "1.2.0",
      "model_name": "LayoutModel",
      "state": {}
     },
     "c3ba794f7b514e998202ab00d183919a": {
      "model_module": "@jupyter-widgets/controls",
      "model_module_version": "1.5.0",
      "model_name": "DescriptionStyleModel",
      "state": {
       "description_width": ""
      }
     },
     "c43df91e1ba94dc09b4a470302352cf2": {
      "model_module": "@jupyter-widgets/base",
      "model_module_version": "1.2.0",
      "model_name": "LayoutModel",
      "state": {}
     },
     "c5152c10092d402f87b53fc46d5457f8": {
      "model_module": "@jupyter-widgets/base",
      "model_module_version": "1.2.0",
      "model_name": "LayoutModel",
      "state": {}
     },
     "c53c58341fe74be3be879e374ac25cf6": {
      "model_module": "@jupyter-widgets/controls",
      "model_module_version": "1.5.0",
      "model_name": "FloatProgressModel",
      "state": {
       "bar_style": "danger",
       "layout": "IPY_MODEL_43b05e8b255d4a5aa592560bffe06af2",
       "max": 552,
       "style": "IPY_MODEL_a8387a0a73cd4443b4c9f6cc63a02f7f"
      }
     },
     "c5bcfa7753ba48b298591bbf93c2fe97": {
      "model_module": "@jupyter-widgets/controls",
      "model_module_version": "1.5.0",
      "model_name": "DescriptionStyleModel",
      "state": {
       "description_width": ""
      }
     },
     "c60cae6d04494d48997b5dcd77a68c36": {
      "model_module": "@jupyter-widgets/base",
      "model_module_version": "1.2.0",
      "model_name": "LayoutModel",
      "state": {}
     },
     "c6ebc4f1c88b4d47923286a01bedc54e": {
      "model_module": "@jupyter-widgets/controls",
      "model_module_version": "1.5.0",
      "model_name": "DescriptionStyleModel",
      "state": {
       "description_width": ""
      }
     },
     "c7b1c324fc7f4b1d9184e8f56a796a9a": {
      "model_module": "@jupyter-widgets/base",
      "model_module_version": "1.2.0",
      "model_name": "LayoutModel",
      "state": {}
     },
     "c87deeb6758743d4b3bc5d4e27ef85f8": {
      "model_module": "@jupyter-widgets/base",
      "model_module_version": "1.2.0",
      "model_name": "LayoutModel",
      "state": {}
     },
     "c8ae6670f72a4d5e99e0c3eb7d7aa971": {
      "model_module": "@jupyter-widgets/controls",
      "model_module_version": "1.5.0",
      "model_name": "DescriptionStyleModel",
      "state": {
       "description_width": ""
      }
     },
     "c8cdc47a193a480e98edc5b56b8bb689": {
      "model_module": "@jupyter-widgets/base",
      "model_module_version": "1.2.0",
      "model_name": "LayoutModel",
      "state": {}
     },
     "c98259bc8315444bae0ae175510cfca2": {
      "model_module": "@jupyter-widgets/controls",
      "model_module_version": "1.5.0",
      "model_name": "HBoxModel",
      "state": {
       "children": [
        "IPY_MODEL_c3134d9ae1054c92975afc7b0aa230a8",
        "IPY_MODEL_4b745261cbc3471e914df6af7ecbef5b",
        "IPY_MODEL_478fc6fbe34746a1957e0eada515d105"
       ],
       "layout": "IPY_MODEL_aab021d22e834482b7eab6847242618a"
      }
     },
     "cafb6233a5534780b05c02ae3e99b514": {
      "model_module": "@jupyter-widgets/base",
      "model_module_version": "1.2.0",
      "model_name": "LayoutModel",
      "state": {}
     },
     "cb83880f4b994598abf2b67d59ce68c4": {
      "model_module": "@jupyter-widgets/base",
      "model_module_version": "1.2.0",
      "model_name": "LayoutModel",
      "state": {}
     },
     "cbf13202b6bb4aa38a97de754aba10e2": {
      "model_module": "@jupyter-widgets/controls",
      "model_module_version": "1.5.0",
      "model_name": "DescriptionStyleModel",
      "state": {
       "description_width": ""
      }
     },
     "cc2cec3aedcd4c7c9f14b0f539154952": {
      "model_module": "@jupyter-widgets/base",
      "model_module_version": "1.2.0",
      "model_name": "LayoutModel",
      "state": {}
     },
     "ccc14abd5e3f4a328a39d4a550f41672": {
      "model_module": "@jupyter-widgets/controls",
      "model_module_version": "1.5.0",
      "model_name": "ProgressStyleModel",
      "state": {
       "description_width": ""
      }
     },
     "cd062fe1786b4cf1b7d49616323cfaa6": {
      "model_module": "@jupyter-widgets/controls",
      "model_module_version": "1.5.0",
      "model_name": "HBoxModel",
      "state": {
       "children": [
        "IPY_MODEL_0625e366a7dd420a966f0ba583fc2209",
        "IPY_MODEL_58a624d332dc4a2e8cb896ddccf8a95c",
        "IPY_MODEL_cd461f8167dc48419feec5c6e09943a0"
       ],
       "layout": "IPY_MODEL_9b48e761403641898045c255705ad3bd"
      }
     },
     "cd461f8167dc48419feec5c6e09943a0": {
      "model_module": "@jupyter-widgets/controls",
      "model_module_version": "1.5.0",
      "model_name": "HTMLModel",
      "state": {
       "layout": "IPY_MODEL_884c10544ff043feb78b72364db31d67",
       "style": "IPY_MODEL_eb67183c288141fa8e1e438eef0dbaa3",
       "value": " 4967/4967 [00:04&lt;00:00, 1127.41ex/s]"
      }
     },
     "cd99326496014092b9cde4aec1938cb8": {
      "model_module": "@jupyter-widgets/base",
      "model_module_version": "1.2.0",
      "model_name": "LayoutModel",
      "state": {}
     },
     "ce046a3d8efb48e6bcb0dc05c48a3539": {
      "model_module": "@jupyter-widgets/controls",
      "model_module_version": "1.5.0",
      "model_name": "DescriptionStyleModel",
      "state": {
       "description_width": ""
      }
     },
     "ce71b8e656a641bfb47d1caf8ca97f8a": {
      "model_module": "@jupyter-widgets/controls",
      "model_module_version": "1.5.0",
      "model_name": "HTMLModel",
      "state": {
       "layout": "IPY_MODEL_0f02cabcd99549a68b4cf396dc712b14",
       "style": "IPY_MODEL_1be2c1a883ec484f8e564937f248ffe8",
       "value": " 552/552 [00:03&lt;00:00, 147.45ex/s]"
      }
     },
     "cf042e64328d4b4690d65c1e95884948": {
      "model_module": "@jupyter-widgets/controls",
      "model_module_version": "1.5.0",
      "model_name": "DescriptionStyleModel",
      "state": {
       "description_width": ""
      }
     },
     "cf4a69dc5e0a41479c70c758220d2483": {
      "model_module": "@jupyter-widgets/controls",
      "model_module_version": "1.5.0",
      "model_name": "FloatProgressModel",
      "state": {
       "bar_style": "danger",
       "layout": "IPY_MODEL_3b6c8bdcc3e84d5fab48c3571abf8cf1",
       "max": 4967,
       "style": "IPY_MODEL_f7df9e6a6b574a8da379198acc624fbc"
      }
     },
     "cf6ebd538bd24d65b55f047ac61ca554": {
      "model_module": "@jupyter-widgets/controls",
      "model_module_version": "1.5.0",
      "model_name": "HBoxModel",
      "state": {
       "children": [
        "IPY_MODEL_9ad0a399a7cd40f2a19e5bfb54bf49b9",
        "IPY_MODEL_76170280198e483c9b988eeaa507f923",
        "IPY_MODEL_0355fde1e4bc46009d7acc99cfa094f0"
       ],
       "layout": "IPY_MODEL_0664bb8dc85042d1bef073909f4b7d80"
      }
     },
     "cf800b0861c74dd8ae15111b2e45b1bb": {
      "model_module": "@jupyter-widgets/base",
      "model_module_version": "1.2.0",
      "model_name": "LayoutModel",
      "state": {}
     },
     "d03a3145459f47048705cf6b6a496343": {
      "model_module": "@jupyter-widgets/controls",
      "model_module_version": "1.5.0",
      "model_name": "ProgressStyleModel",
      "state": {
       "description_width": ""
      }
     },
     "d1661fbcd76d47f68dc2d9eb54242e4e": {
      "model_module": "@jupyter-widgets/base",
      "model_module_version": "1.2.0",
      "model_name": "LayoutModel",
      "state": {}
     },
     "d47927dc91814e92ab9ccad5f912f5f8": {
      "model_module": "@jupyter-widgets/base",
      "model_module_version": "1.2.0",
      "model_name": "LayoutModel",
      "state": {}
     },
     "d4e3cf8214d646ad92df723276563777": {
      "model_module": "@jupyter-widgets/controls",
      "model_module_version": "1.5.0",
      "model_name": "ProgressStyleModel",
      "state": {
       "description_width": ""
      }
     },
     "d5b25abbc0b642cb9a27d5c2ca6048d7": {
      "model_module": "@jupyter-widgets/base",
      "model_module_version": "1.2.0",
      "model_name": "LayoutModel",
      "state": {}
     },
     "d61b3119d8f54143a1a7c5fecda9b5f9": {
      "model_module": "@jupyter-widgets/controls",
      "model_module_version": "1.5.0",
      "model_name": "FloatProgressModel",
      "state": {
       "bar_style": "danger",
       "layout": "IPY_MODEL_b86d74efe4284b08afc78a9a47ec00d2",
       "max": 552,
       "style": "IPY_MODEL_6ad9042f98ae452f99e8d9dfcd638473"
      }
     },
     "d622f3278dbd4be48fff0455867c226f": {
      "model_module": "@jupyter-widgets/base",
      "model_module_version": "1.2.0",
      "model_name": "LayoutModel",
      "state": {}
     },
     "d69b75e07eb04b54b08477642deba148": {
      "model_module": "@jupyter-widgets/controls",
      "model_module_version": "1.5.0",
      "model_name": "FloatProgressModel",
      "state": {
       "bar_style": "danger",
       "layout": "IPY_MODEL_84153c71376a4f43a6769159c769f14f",
       "max": 552,
       "style": "IPY_MODEL_8aef9aa79e0849ff9f585b33c8a7887d"
      }
     },
     "d736bf1c75e74992879ee8277cbb8120": {
      "model_module": "@jupyter-widgets/base",
      "model_module_version": "1.2.0",
      "model_name": "LayoutModel",
      "state": {}
     },
     "d7d3544b6cb64baabd96ace76d9429a9": {
      "model_module": "@jupyter-widgets/controls",
      "model_module_version": "1.5.0",
      "model_name": "FloatProgressModel",
      "state": {
       "bar_style": "success",
       "layout": "IPY_MODEL_e870dd7daccd427fb39d640a444a5926",
       "max": 4967,
       "style": "IPY_MODEL_bac33055d919455a9af352788e7e8e50",
       "value": 4967
      }
     },
     "d89777ad09164ca482dd9d3851d22441": {
      "model_module": "@jupyter-widgets/base",
      "model_module_version": "1.2.0",
      "model_name": "LayoutModel",
      "state": {}
     },
     "d8d99f47e1cd4d458350821b51be4503": {
      "model_module": "@jupyter-widgets/base",
      "model_module_version": "1.2.0",
      "model_name": "LayoutModel",
      "state": {}
     },
     "d91cc7114b2043bd8b1ea2008f85eed5": {
      "model_module": "@jupyter-widgets/controls",
      "model_module_version": "1.5.0",
      "model_name": "DescriptionStyleModel",
      "state": {
       "description_width": ""
      }
     },
     "d9df5da0fe614b5ba13785d6f3e31fad": {
      "model_module": "@jupyter-widgets/controls",
      "model_module_version": "1.5.0",
      "model_name": "HTMLModel",
      "state": {
       "layout": "IPY_MODEL_cafb6233a5534780b05c02ae3e99b514",
       "style": "IPY_MODEL_ba82100e173148628ac97423ad4a3dca",
       "value": " 4967/4967 [00:00&lt;00:00, 10834.04ex/s]"
      }
     },
     "d9e99ba9532a424bbc39882f8f282182": {
      "model_module": "@jupyter-widgets/controls",
      "model_module_version": "1.5.0",
      "model_name": "DescriptionStyleModel",
      "state": {
       "description_width": ""
      }
     },
     "db0a62964c624cf1a995668b8fc5e627": {
      "model_module": "@jupyter-widgets/controls",
      "model_module_version": "1.5.0",
      "model_name": "DescriptionStyleModel",
      "state": {
       "description_width": ""
      }
     },
     "db35fcf13b3e4220b82af029dadbad32": {
      "model_module": "@jupyter-widgets/controls",
      "model_module_version": "1.5.0",
      "model_name": "DescriptionStyleModel",
      "state": {
       "description_width": ""
      }
     },
     "db39b2396e7941d3bafa0dd7a4979fec": {
      "model_module": "@jupyter-widgets/base",
      "model_module_version": "1.2.0",
      "model_name": "LayoutModel",
      "state": {}
     },
     "dcf969d66007445b9127a231ce40072c": {
      "model_module": "@jupyter-widgets/controls",
      "model_module_version": "1.5.0",
      "model_name": "HTMLModel",
      "state": {
       "layout": "IPY_MODEL_514c41753f6944f3ae55cecd4e673f29",
       "style": "IPY_MODEL_cbf13202b6bb4aa38a97de754aba10e2",
       "value": "  0%"
      }
     },
     "dd74736ba24444879fa2219269d67153": {
      "model_module": "@jupyter-widgets/controls",
      "model_module_version": "1.5.0",
      "model_name": "ProgressStyleModel",
      "state": {
       "description_width": ""
      }
     },
     "dd7856a7a64b4a3bb2fbb6800f6eb9f3": {
      "model_module": "@jupyter-widgets/controls",
      "model_module_version": "1.5.0",
      "model_name": "DescriptionStyleModel",
      "state": {
       "description_width": ""
      }
     },
     "e02bbb332c4b4865b24f64b6d9a72f93": {
      "model_module": "@jupyter-widgets/base",
      "model_module_version": "1.2.0",
      "model_name": "LayoutModel",
      "state": {}
     },
     "e0af5ef4c87941f6a6dafa6d9bae9d23": {
      "model_module": "@jupyter-widgets/controls",
      "model_module_version": "1.5.0",
      "model_name": "HBoxModel",
      "state": {
       "children": [
        "IPY_MODEL_5a58c201a2e841c5bdc6d18d5b248cf4",
        "IPY_MODEL_36a6de3b9b234462a4b4cf33bac03284",
        "IPY_MODEL_9b00d48944624941bfc4df4078da958b"
       ],
       "layout": "IPY_MODEL_705bbce2af7843e3bb563e2676f7d6d6"
      }
     },
     "e105efc1799647faa599d9fc39207cd3": {
      "model_module": "@jupyter-widgets/base",
      "model_module_version": "1.2.0",
      "model_name": "LayoutModel",
      "state": {}
     },
     "e2542f3ee4f54d6e8b01b28107d7b57b": {
      "model_module": "@jupyter-widgets/controls",
      "model_module_version": "1.5.0",
      "model_name": "HTMLModel",
      "state": {
       "layout": "IPY_MODEL_7a94a32bd152440ebb8b63ceb6d225f8",
       "style": "IPY_MODEL_b62ace89c2bd4498af0fd0df39863658",
       "value": " 552/552 [00:00&lt;00:00, 8338.64ex/s]"
      }
     },
     "e2a4977ebbd04a86a83ed8b4778ac24e": {
      "model_module": "@jupyter-widgets/controls",
      "model_module_version": "1.5.0",
      "model_name": "HBoxModel",
      "state": {
       "children": [
        "IPY_MODEL_e5a91745373844eebf0d24eb89808e86",
        "IPY_MODEL_c53c58341fe74be3be879e374ac25cf6",
        "IPY_MODEL_367c5b8c2fe347479eac8cb34529b527"
       ],
       "layout": "IPY_MODEL_8ea37d4e85c045efa065a766ea867d75"
      }
     },
     "e2d22dd5ae684ed3b32b2e053f8f0299": {
      "model_module": "@jupyter-widgets/controls",
      "model_module_version": "1.5.0",
      "model_name": "DescriptionStyleModel",
      "state": {
       "description_width": ""
      }
     },
     "e3ff15c0ee434f79a50a25f496d95b50": {
      "model_module": "@jupyter-widgets/base",
      "model_module_version": "1.2.0",
      "model_name": "LayoutModel",
      "state": {}
     },
     "e435eda256a1454a9ff877b248b5a5dc": {
      "model_module": "@jupyter-widgets/base",
      "model_module_version": "1.2.0",
      "model_name": "LayoutModel",
      "state": {}
     },
     "e4b359473c974a799fd53c418fef11bb": {
      "model_module": "@jupyter-widgets/base",
      "model_module_version": "1.2.0",
      "model_name": "LayoutModel",
      "state": {}
     },
     "e5a91745373844eebf0d24eb89808e86": {
      "model_module": "@jupyter-widgets/controls",
      "model_module_version": "1.5.0",
      "model_name": "HTMLModel",
      "state": {
       "layout": "IPY_MODEL_d89777ad09164ca482dd9d3851d22441",
       "style": "IPY_MODEL_6b222c8faedd46e18cfa7cb05a12f0c4",
       "value": "  0%"
      }
     },
     "e63d39e689444851804c197ad64d4a29": {
      "model_module": "@jupyter-widgets/base",
      "model_module_version": "1.2.0",
      "model_name": "LayoutModel",
      "state": {}
     },
     "e65a288635154e5788bc13aba28f40c8": {
      "model_module": "@jupyter-widgets/controls",
      "model_module_version": "1.5.0",
      "model_name": "HTMLModel",
      "state": {
       "layout": "IPY_MODEL_4d727c2834dc49438b95ffaf203f7ba5",
       "style": "IPY_MODEL_1932356c40f447219cd674d245b9a5c0",
       "value": "  0%"
      }
     },
     "e870dd7daccd427fb39d640a444a5926": {
      "model_module": "@jupyter-widgets/base",
      "model_module_version": "1.2.0",
      "model_name": "LayoutModel",
      "state": {}
     },
     "e974e85dcf2a4604972272a483d39b6d": {
      "model_module": "@jupyter-widgets/controls",
      "model_module_version": "1.5.0",
      "model_name": "DescriptionStyleModel",
      "state": {
       "description_width": ""
      }
     },
     "eb67183c288141fa8e1e438eef0dbaa3": {
      "model_module": "@jupyter-widgets/controls",
      "model_module_version": "1.5.0",
      "model_name": "DescriptionStyleModel",
      "state": {
       "description_width": ""
      }
     },
     "eb6eb067290f4baf897834cb2b96e690": {
      "model_module": "@jupyter-widgets/controls",
      "model_module_version": "1.5.0",
      "model_name": "FloatProgressModel",
      "state": {
       "bar_style": "success",
       "layout": "IPY_MODEL_21c3032b9cf04ac68a35058b471b6524",
       "max": 552,
       "style": "IPY_MODEL_b7a9df6ec5c041268381277fbf502c43",
       "value": 552
      }
     },
     "ec408ba11c904cb6923626903ed0d7b8": {
      "model_module": "@jupyter-widgets/controls",
      "model_module_version": "1.5.0",
      "model_name": "HTMLModel",
      "state": {
       "layout": "IPY_MODEL_e105efc1799647faa599d9fc39207cd3",
       "style": "IPY_MODEL_9245f3f7c79a42b7a6ab11d19f16cb50",
       "value": " 0/552 [00:00&lt;?, ?ex/s]"
      }
     },
     "ecc0f95d1dcf4f21aecd4d41699322c5": {
      "model_module": "@jupyter-widgets/controls",
      "model_module_version": "1.5.0",
      "model_name": "HTMLModel",
      "state": {
       "layout": "IPY_MODEL_c204227984004e14adaf80bf3cbee84c",
       "style": "IPY_MODEL_3870e8398fcf472099d8532afc416f6c",
       "value": " 552/552 [00:00&lt;00:00, 8791.65ex/s]"
      }
     },
     "ed20dd7902bd4c92bbe25b64a74dab1d": {
      "model_module": "@jupyter-widgets/controls",
      "model_module_version": "1.5.0",
      "model_name": "DescriptionStyleModel",
      "state": {
       "description_width": ""
      }
     },
     "ef0f679f70014a30bf669d10ccbc84c7": {
      "model_module": "@jupyter-widgets/controls",
      "model_module_version": "1.5.0",
      "model_name": "FloatProgressModel",
      "state": {
       "bar_style": "danger",
       "layout": "IPY_MODEL_f75341dea1944a38a752664f61f1ad9a",
       "max": 4967,
       "style": "IPY_MODEL_f62df8b01f824109b243b68d66022d10"
      }
     },
     "ef32c547f4d84c0eb0f0bde6c7cbdc13": {
      "model_module": "@jupyter-widgets/base",
      "model_module_version": "1.2.0",
      "model_name": "LayoutModel",
      "state": {}
     },
     "ef3888c800dc4e649a854bfdc5633274": {
      "model_module": "@jupyter-widgets/base",
      "model_module_version": "1.2.0",
      "model_name": "LayoutModel",
      "state": {}
     },
     "f010799bb1a14aefb22ad1674f814b32": {
      "model_module": "@jupyter-widgets/base",
      "model_module_version": "1.2.0",
      "model_name": "LayoutModel",
      "state": {}
     },
     "f197bfea406541d9974bcc7c3bd0ebea": {
      "model_module": "@jupyter-widgets/base",
      "model_module_version": "1.2.0",
      "model_name": "LayoutModel",
      "state": {}
     },
     "f19cffde377f407cae02c74fea500ba9": {
      "model_module": "@jupyter-widgets/base",
      "model_module_version": "1.2.0",
      "model_name": "LayoutModel",
      "state": {}
     },
     "f1e1433c5605490a880007370bb75480": {
      "model_module": "@jupyter-widgets/base",
      "model_module_version": "1.2.0",
      "model_name": "LayoutModel",
      "state": {}
     },
     "f211435a55634d329263d0083a98dcf1": {
      "model_module": "@jupyter-widgets/base",
      "model_module_version": "1.2.0",
      "model_name": "LayoutModel",
      "state": {}
     },
     "f2b97ef9efbb4697b0bd4d9686a6ba9e": {
      "model_module": "@jupyter-widgets/controls",
      "model_module_version": "1.5.0",
      "model_name": "FloatProgressModel",
      "state": {
       "bar_style": "success",
       "layout": "IPY_MODEL_cf800b0861c74dd8ae15111b2e45b1bb",
       "max": 552,
       "style": "IPY_MODEL_a6861ee67f494246b0d00eedbdf594a6",
       "value": 552
      }
     },
     "f34f8db282504cb393ea10342cfeb41a": {
      "model_module": "@jupyter-widgets/controls",
      "model_module_version": "1.5.0",
      "model_name": "HBoxModel",
      "state": {
       "children": [
        "IPY_MODEL_a4ebe8eb67974a9195fde174a952358b",
        "IPY_MODEL_d7d3544b6cb64baabd96ace76d9429a9",
        "IPY_MODEL_6c1ebd74e8114c5a941d6091533a86ae"
       ],
       "layout": "IPY_MODEL_78dac46ce96e4d6bb82db52a185ae945"
      }
     },
     "f51160a1f8b4400b9bb5ae44a16ec66e": {
      "model_module": "@jupyter-widgets/controls",
      "model_module_version": "1.5.0",
      "model_name": "HBoxModel",
      "state": {
       "children": [
        "IPY_MODEL_fad0921e7e434385b34b89192452676e",
        "IPY_MODEL_ff8110381c0d4f4b8408a3adedd05ecd",
        "IPY_MODEL_4eec664b4a364a3fb80c11c2345f4d4c"
       ],
       "layout": "IPY_MODEL_f197bfea406541d9974bcc7c3bd0ebea"
      }
     },
     "f62df8b01f824109b243b68d66022d10": {
      "model_module": "@jupyter-widgets/controls",
      "model_module_version": "1.5.0",
      "model_name": "ProgressStyleModel",
      "state": {
       "description_width": ""
      }
     },
     "f6d6d0b61c7241f795b16fb962d44eb6": {
      "model_module": "@jupyter-widgets/controls",
      "model_module_version": "1.5.0",
      "model_name": "ProgressStyleModel",
      "state": {
       "description_width": ""
      }
     },
     "f75341dea1944a38a752664f61f1ad9a": {
      "model_module": "@jupyter-widgets/base",
      "model_module_version": "1.2.0",
      "model_name": "LayoutModel",
      "state": {}
     },
     "f7df9e6a6b574a8da379198acc624fbc": {
      "model_module": "@jupyter-widgets/controls",
      "model_module_version": "1.5.0",
      "model_name": "ProgressStyleModel",
      "state": {
       "description_width": ""
      }
     },
     "f8734f5edf10456cba1957a0c316329f": {
      "model_module": "@jupyter-widgets/controls",
      "model_module_version": "1.5.0",
      "model_name": "HBoxModel",
      "state": {
       "children": [
        "IPY_MODEL_01fd0b1dcc3d4d39a727e2a3ae333b52",
        "IPY_MODEL_ba178ac5b67e437abbc61a5dcd0657b1",
        "IPY_MODEL_05638ffad13a4902a98a127034d565ca"
       ],
       "layout": "IPY_MODEL_55f32e6f84e34ac3a75f1fd9fe3a079e"
      }
     },
     "f903b2876bd1469d93542f5920982504": {
      "model_module": "@jupyter-widgets/controls",
      "model_module_version": "1.5.0",
      "model_name": "DescriptionStyleModel",
      "state": {
       "description_width": ""
      }
     },
     "fad0921e7e434385b34b89192452676e": {
      "model_module": "@jupyter-widgets/controls",
      "model_module_version": "1.5.0",
      "model_name": "HTMLModel",
      "state": {
       "layout": "IPY_MODEL_9786a345c878434695281f942aa448f7",
       "style": "IPY_MODEL_3d7e6a7e738c444c92a7f710c89afc08",
       "value": "  0%"
      }
     },
     "fb6b40f5709d4dc69651418ae78a6672": {
      "model_module": "@jupyter-widgets/base",
      "model_module_version": "1.2.0",
      "model_name": "LayoutModel",
      "state": {}
     },
     "fb783b55dbd24361a8e9438f204f6ca0": {
      "model_module": "@jupyter-widgets/controls",
      "model_module_version": "1.5.0",
      "model_name": "DescriptionStyleModel",
      "state": {
       "description_width": ""
      }
     },
     "fb957025e292447bbcfadb4c7ee7eccd": {
      "model_module": "@jupyter-widgets/base",
      "model_module_version": "1.2.0",
      "model_name": "LayoutModel",
      "state": {}
     },
     "fc6fc96728034012bab32aeb7932452b": {
      "model_module": "@jupyter-widgets/controls",
      "model_module_version": "1.5.0",
      "model_name": "DescriptionStyleModel",
      "state": {
       "description_width": ""
      }
     },
     "fcd60b2081b3415ca1fcb7a50368dbf5": {
      "model_module": "@jupyter-widgets/base",
      "model_module_version": "1.2.0",
      "model_name": "LayoutModel",
      "state": {}
     },
     "fd3826fec6cb45819c9b5b3751bffc23": {
      "model_module": "@jupyter-widgets/controls",
      "model_module_version": "1.5.0",
      "model_name": "HBoxModel",
      "state": {
       "children": [
        "IPY_MODEL_88d9cc4a8a4d49c0bc5a455a9fd79bb0",
        "IPY_MODEL_ef0f679f70014a30bf669d10ccbc84c7",
        "IPY_MODEL_bdf096dec5d1462cb29e221f1affe07e"
       ],
       "layout": "IPY_MODEL_f19cffde377f407cae02c74fea500ba9"
      }
     },
     "fdb2a34944014c9792d49c496cbdbc3f": {
      "model_module": "@jupyter-widgets/controls",
      "model_module_version": "1.5.0",
      "model_name": "ProgressStyleModel",
      "state": {
       "description_width": ""
      }
     },
     "fdf82524d268486a8606d3b3e54c45ec": {
      "model_module": "@jupyter-widgets/controls",
      "model_module_version": "1.5.0",
      "model_name": "HBoxModel",
      "state": {
       "children": [
        "IPY_MODEL_6bf15904bbac450894de4dbaad3f00c2",
        "IPY_MODEL_09759dc53f494abd869a5bc461c7aa3b",
        "IPY_MODEL_2f8a3d64710a45b88c016aa3be340cc7"
       ],
       "layout": "IPY_MODEL_8302a1ebf09647adbd4cfe883670cdc8"
      }
     },
     "ff8110381c0d4f4b8408a3adedd05ecd": {
      "model_module": "@jupyter-widgets/controls",
      "model_module_version": "1.5.0",
      "model_name": "FloatProgressModel",
      "state": {
       "bar_style": "danger",
       "layout": "IPY_MODEL_3a05440cb4584470a6dd422fb8a87d8a",
       "max": 552,
       "style": "IPY_MODEL_511b98dde9ab4e9fbebf76c6ad067d08"
      }
     }
    },
    "version_major": 2,
    "version_minor": 0
   }
  }
 },
 "nbformat": 4,
 "nbformat_minor": 5
}
